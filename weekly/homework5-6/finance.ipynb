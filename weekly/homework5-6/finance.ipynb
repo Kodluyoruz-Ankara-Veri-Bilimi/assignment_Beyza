{
  "nbformat": 4,
  "nbformat_minor": 0,
  "metadata": {
    "colab": {
      "name": "finance.ipynb",
      "provenance": [],
      "collapsed_sections": []
    },
    "kernelspec": {
      "name": "python3",
      "display_name": "Python 3"
    }
  },
  "cells": [
    {
      "cell_type": "code",
      "metadata": {
        "id": "OVorzUqVVIiI",
        "colab_type": "code",
        "colab": {
          "base_uri": "https://localhost:8080/",
          "height": 71
        },
        "outputId": "7b640ede-f979-4d28-c677-452c501f20d4"
      },
      "source": [
        "import numpy as np\n",
        "import pandas as pd \n",
        "import statsmodels.api as sm\n",
        "import statsmodels.formula.api as smf\n",
        "import seaborn as sns\n",
        "from sklearn.preprocessing import scale \n",
        "from sklearn.model_selection import train_test_split, GridSearchCV, cross_val_score\n",
        "from sklearn.metrics import confusion_matrix, accuracy_score, classification_report\n",
        "from sklearn.metrics import roc_auc_score,roc_curve\n",
        "from sklearn.metrics import mean_squared_error, r2_score\n",
        "from sklearn.svm import SVR"
      ],
      "execution_count": 3,
      "outputs": [
        {
          "output_type": "stream",
          "text": [
            "/usr/local/lib/python3.6/dist-packages/statsmodels/tools/_testing.py:19: FutureWarning: pandas.util.testing is deprecated. Use the functions in the public API at pandas.testing instead.\n",
            "  import pandas.util.testing as tm\n"
          ],
          "name": "stderr"
        }
      ]
    },
    {
      "cell_type": "code",
      "metadata": {
        "id": "H9rJlelf3qEJ",
        "colab_type": "code",
        "colab": {
          "resources": {
            "http://localhost:8080/nbextensions/google.colab/files.js": {
              "data": "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",
              "ok": true,
              "headers": [
                [
                  "content-type",
                  "application/javascript"
                ]
              ],
              "status": 200,
              "status_text": ""
            }
          },
          "base_uri": "https://localhost:8080/",
          "height": 72
        },
        "outputId": "26cbecf8-9e06-49ce-adb4-a4d48cafcc7a"
      },
      "source": [
        "from google.colab import files\n",
        "uploaded = files.upload()"
      ],
      "execution_count": 4,
      "outputs": [
        {
          "output_type": "display_data",
          "data": {
            "text/html": [
              "\n",
              "     <input type=\"file\" id=\"files-336ea294-2595-4fbf-9d54-642f0cb9c7cd\" name=\"files[]\" multiple disabled\n",
              "        style=\"border:none\" />\n",
              "     <output id=\"result-336ea294-2595-4fbf-9d54-642f0cb9c7cd\">\n",
              "      Upload widget is only available when the cell has been executed in the\n",
              "      current browser session. Please rerun this cell to enable.\n",
              "      </output>\n",
              "      <script src=\"/nbextensions/google.colab/files.js\"></script> "
            ],
            "text/plain": [
              "<IPython.core.display.HTML object>"
            ]
          },
          "metadata": {
            "tags": []
          }
        },
        {
          "output_type": "stream",
          "text": [
            "Saving HW_Data_Set.xlsx to HW_Data_Set (1).xlsx\n"
          ],
          "name": "stdout"
        }
      ]
    },
    {
      "cell_type": "code",
      "metadata": {
        "id": "LbaFOW5Z32gm",
        "colab_type": "code",
        "colab": {
          "base_uri": "https://localhost:8080/",
          "height": 253
        },
        "outputId": "9990a079-c221-4dc6-9241-14f0dc4975d2"
      },
      "source": [
        "import io\n",
        "from pandas import read_excel\n",
        "df= read_excel('HW_Data_Set.xlsx', sheet_name = 'Sheet1')\n",
        "df=df.copy()\n",
        "df.head()"
      ],
      "execution_count": 5,
      "outputs": [
        {
          "output_type": "execute_result",
          "data": {
            "text/html": [
              "<div>\n",
              "<style scoped>\n",
              "    .dataframe tbody tr th:only-of-type {\n",
              "        vertical-align: middle;\n",
              "    }\n",
              "\n",
              "    .dataframe tbody tr th {\n",
              "        vertical-align: top;\n",
              "    }\n",
              "\n",
              "    .dataframe thead th {\n",
              "        text-align: right;\n",
              "    }\n",
              "</style>\n",
              "<table border=\"1\" class=\"dataframe\">\n",
              "  <thead>\n",
              "    <tr style=\"text-align: right;\">\n",
              "      <th></th>\n",
              "      <th>ind_5</th>\n",
              "      <th>ind_6</th>\n",
              "      <th>ind_8</th>\n",
              "      <th>ind_9</th>\n",
              "      <th>ind_10</th>\n",
              "      <th>ind_12</th>\n",
              "      <th>ind_13</th>\n",
              "      <th>ind_14</th>\n",
              "      <th>ind_15</th>\n",
              "      <th>ind_16</th>\n",
              "      <th>ind_17</th>\n",
              "      <th>ind_18</th>\n",
              "      <th>ind_19</th>\n",
              "      <th>ind_20</th>\n",
              "      <th>ind_21</th>\n",
              "      <th>ind_22</th>\n",
              "      <th>ind_23</th>\n",
              "      <th>ind_25</th>\n",
              "      <th>ind_26</th>\n",
              "      <th>ind_27</th>\n",
              "      <th>ind_28</th>\n",
              "      <th>ind_29</th>\n",
              "      <th>ind_30</th>\n",
              "      <th>ind_31</th>\n",
              "      <th>ind_32</th>\n",
              "      <th>ind_33</th>\n",
              "      <th>ind_34</th>\n",
              "      <th>ind_35</th>\n",
              "      <th>ind_36</th>\n",
              "      <th>ind_37</th>\n",
              "      <th>ind_39</th>\n",
              "      <th>ind_40</th>\n",
              "      <th>ind_41</th>\n",
              "      <th>ind_42</th>\n",
              "      <th>ind_43</th>\n",
              "      <th>ind_44</th>\n",
              "      <th>ind_45</th>\n",
              "      <th>ind_46</th>\n",
              "      <th>ind_47</th>\n",
              "      <th>ind_48</th>\n",
              "      <th>...</th>\n",
              "      <th>ind_311</th>\n",
              "      <th>ind_313</th>\n",
              "      <th>ind_315</th>\n",
              "      <th>ind_316</th>\n",
              "      <th>ind_318</th>\n",
              "      <th>ind_321</th>\n",
              "      <th>ind_324</th>\n",
              "      <th>ind_327</th>\n",
              "      <th>ind_330</th>\n",
              "      <th>ind_332</th>\n",
              "      <th>ind_334</th>\n",
              "      <th>ind_338</th>\n",
              "      <th>ind_340</th>\n",
              "      <th>ind_344</th>\n",
              "      <th>ind_345</th>\n",
              "      <th>ind_347</th>\n",
              "      <th>ind_349</th>\n",
              "      <th>ind_351</th>\n",
              "      <th>ind_352</th>\n",
              "      <th>ind_387</th>\n",
              "      <th>ind_392</th>\n",
              "      <th>ind_397</th>\n",
              "      <th>ind_399</th>\n",
              "      <th>ind_403</th>\n",
              "      <th>ind_404</th>\n",
              "      <th>ind_406</th>\n",
              "      <th>ind_407</th>\n",
              "      <th>ind_410</th>\n",
              "      <th>ind_412</th>\n",
              "      <th>ind_414</th>\n",
              "      <th>ind_416</th>\n",
              "      <th>ind_418</th>\n",
              "      <th>ind_420</th>\n",
              "      <th>ind_422</th>\n",
              "      <th>ind_424</th>\n",
              "      <th>ind_426</th>\n",
              "      <th>ind_428</th>\n",
              "      <th>20_target</th>\n",
              "      <th>50_target</th>\n",
              "      <th>90_target</th>\n",
              "    </tr>\n",
              "  </thead>\n",
              "  <tbody>\n",
              "    <tr>\n",
              "      <th>0</th>\n",
              "      <td>19</td>\n",
              "      <td>17</td>\n",
              "      <td>100.0</td>\n",
              "      <td>85.714286</td>\n",
              "      <td>14.285714</td>\n",
              "      <td>72.363515</td>\n",
              "      <td>60.808814</td>\n",
              "      <td>23.80</td>\n",
              "      <td>17.62</td>\n",
              "      <td>11.73</td>\n",
              "      <td>12.060000</td>\n",
              "      <td>9.1100</td>\n",
              "      <td>2</td>\n",
              "      <td>15</td>\n",
              "      <td>13</td>\n",
              "      <td>1</td>\n",
              "      <td>56</td>\n",
              "      <td>0.002690</td>\n",
              "      <td>-0.002670</td>\n",
              "      <td>0.000010</td>\n",
              "      <td>66.666667</td>\n",
              "      <td>93.692449</td>\n",
              "      <td>146.592674</td>\n",
              "      <td>150.505806</td>\n",
              "      <td>154.486989</td>\n",
              "      <td>158.009516</td>\n",
              "      <td>142.421114</td>\n",
              "      <td>142.023350</td>\n",
              "      <td>196.592517</td>\n",
              "      <td>184.819232</td>\n",
              "      <td>31.939605</td>\n",
              "      <td>3</td>\n",
              "      <td>30.752568</td>\n",
              "      <td>-5</td>\n",
              "      <td>-22</td>\n",
              "      <td>-22</td>\n",
              "      <td>-21</td>\n",
              "      <td>-23</td>\n",
              "      <td>-36</td>\n",
              "      <td>-40</td>\n",
              "      <td>...</td>\n",
              "      <td>97.980028</td>\n",
              "      <td>1.179209</td>\n",
              "      <td>-0.756946</td>\n",
              "      <td>98.905563</td>\n",
              "      <td>1.190348</td>\n",
              "      <td>99.156641</td>\n",
              "      <td>-0.000062</td>\n",
              "      <td>12.056738</td>\n",
              "      <td>-0.157039</td>\n",
              "      <td>20.967742</td>\n",
              "      <td>-0.000091</td>\n",
              "      <td>1.197238</td>\n",
              "      <td>-0.319064</td>\n",
              "      <td>0.0</td>\n",
              "      <td>0.0</td>\n",
              "      <td>0.0</td>\n",
              "      <td>0.0</td>\n",
              "      <td>0.0</td>\n",
              "      <td>0.0</td>\n",
              "      <td>-3.731343</td>\n",
              "      <td>-32.587430</td>\n",
              "      <td>-26.386973</td>\n",
              "      <td>-0.003323</td>\n",
              "      <td>0.045130</td>\n",
              "      <td>-0.044678</td>\n",
              "      <td>-44</td>\n",
              "      <td>-23</td>\n",
              "      <td>-27</td>\n",
              "      <td>0.002371</td>\n",
              "      <td>2.0</td>\n",
              "      <td>-49.6</td>\n",
              "      <td>-54</td>\n",
              "      <td>-152</td>\n",
              "      <td>-353</td>\n",
              "      <td>1.0</td>\n",
              "      <td>0.498547</td>\n",
              "      <td>0.701906</td>\n",
              "      <td>15.135802</td>\n",
              "      <td>35.625252</td>\n",
              "      <td>36.997753</td>\n",
              "    </tr>\n",
              "    <tr>\n",
              "      <th>1</th>\n",
              "      <td>24</td>\n",
              "      <td>19</td>\n",
              "      <td>100.0</td>\n",
              "      <td>78.571429</td>\n",
              "      <td>21.428571</td>\n",
              "      <td>74.275883</td>\n",
              "      <td>64.366798</td>\n",
              "      <td>11.45</td>\n",
              "      <td>18.16</td>\n",
              "      <td>12.22</td>\n",
              "      <td>11.326667</td>\n",
              "      <td>9.2225</td>\n",
              "      <td>0</td>\n",
              "      <td>11</td>\n",
              "      <td>11</td>\n",
              "      <td>1</td>\n",
              "      <td>63</td>\n",
              "      <td>0.002729</td>\n",
              "      <td>-0.003111</td>\n",
              "      <td>-0.000191</td>\n",
              "      <td>66.666667</td>\n",
              "      <td>76.694104</td>\n",
              "      <td>140.227205</td>\n",
              "      <td>156.903278</td>\n",
              "      <td>161.604303</td>\n",
              "      <td>169.720843</td>\n",
              "      <td>152.634492</td>\n",
              "      <td>149.634976</td>\n",
              "      <td>201.738617</td>\n",
              "      <td>191.985663</td>\n",
              "      <td>38.478501</td>\n",
              "      <td>3</td>\n",
              "      <td>36.812130</td>\n",
              "      <td>-6</td>\n",
              "      <td>-18</td>\n",
              "      <td>-24</td>\n",
              "      <td>-24</td>\n",
              "      <td>-25</td>\n",
              "      <td>-38</td>\n",
              "      <td>-43</td>\n",
              "      <td>...</td>\n",
              "      <td>97.932319</td>\n",
              "      <td>1.179223</td>\n",
              "      <td>-0.756569</td>\n",
              "      <td>98.859627</td>\n",
              "      <td>1.190389</td>\n",
              "      <td>99.111914</td>\n",
              "      <td>-0.000062</td>\n",
              "      <td>11.971831</td>\n",
              "      <td>-0.156961</td>\n",
              "      <td>20.800000</td>\n",
              "      <td>-0.000091</td>\n",
              "      <td>1.197328</td>\n",
              "      <td>-0.318905</td>\n",
              "      <td>0.0</td>\n",
              "      <td>0.0</td>\n",
              "      <td>0.0</td>\n",
              "      <td>0.0</td>\n",
              "      <td>0.0</td>\n",
              "      <td>0.0</td>\n",
              "      <td>-1.369863</td>\n",
              "      <td>-38.115965</td>\n",
              "      <td>-26.085949</td>\n",
              "      <td>-0.000476</td>\n",
              "      <td>0.035314</td>\n",
              "      <td>-0.034961</td>\n",
              "      <td>-48</td>\n",
              "      <td>-16</td>\n",
              "      <td>-31</td>\n",
              "      <td>0.003074</td>\n",
              "      <td>0.8</td>\n",
              "      <td>-55.6</td>\n",
              "      <td>-60</td>\n",
              "      <td>-158</td>\n",
              "      <td>-359</td>\n",
              "      <td>1.0</td>\n",
              "      <td>0.537088</td>\n",
              "      <td>0.690833</td>\n",
              "      <td>15.143348</td>\n",
              "      <td>35.643013</td>\n",
              "      <td>37.016198</td>\n",
              "    </tr>\n",
              "    <tr>\n",
              "      <th>2</th>\n",
              "      <td>30</td>\n",
              "      <td>24</td>\n",
              "      <td>100.0</td>\n",
              "      <td>71.428571</td>\n",
              "      <td>28.571429</td>\n",
              "      <td>75.140402</td>\n",
              "      <td>65.915803</td>\n",
              "      <td>8.75</td>\n",
              "      <td>17.86</td>\n",
              "      <td>12.28</td>\n",
              "      <td>10.973333</td>\n",
              "      <td>9.3125</td>\n",
              "      <td>5</td>\n",
              "      <td>15</td>\n",
              "      <td>9</td>\n",
              "      <td>-1</td>\n",
              "      <td>65</td>\n",
              "      <td>0.002780</td>\n",
              "      <td>-0.003530</td>\n",
              "      <td>-0.000375</td>\n",
              "      <td>66.666667</td>\n",
              "      <td>83.909974</td>\n",
              "      <td>117.755945</td>\n",
              "      <td>154.452274</td>\n",
              "      <td>164.015689</td>\n",
              "      <td>175.947530</td>\n",
              "      <td>160.181486</td>\n",
              "      <td>155.527932</td>\n",
              "      <td>205.238017</td>\n",
              "      <td>197.993551</td>\n",
              "      <td>28.917197</td>\n",
              "      <td>3</td>\n",
              "      <td>39.648290</td>\n",
              "      <td>-4</td>\n",
              "      <td>-11</td>\n",
              "      <td>-21</td>\n",
              "      <td>-22</td>\n",
              "      <td>-24</td>\n",
              "      <td>-36</td>\n",
              "      <td>-42</td>\n",
              "      <td>...</td>\n",
              "      <td>97.910664</td>\n",
              "      <td>1.179236</td>\n",
              "      <td>-0.756393</td>\n",
              "      <td>98.839991</td>\n",
              "      <td>1.190429</td>\n",
              "      <td>99.093554</td>\n",
              "      <td>-0.000062</td>\n",
              "      <td>11.888112</td>\n",
              "      <td>-0.156925</td>\n",
              "      <td>20.634921</td>\n",
              "      <td>-0.000091</td>\n",
              "      <td>1.197419</td>\n",
              "      <td>-0.318831</td>\n",
              "      <td>0.0</td>\n",
              "      <td>0.0</td>\n",
              "      <td>0.0</td>\n",
              "      <td>0.0</td>\n",
              "      <td>0.0</td>\n",
              "      <td>0.0</td>\n",
              "      <td>-4.278922</td>\n",
              "      <td>-40.428126</td>\n",
              "      <td>-23.250410</td>\n",
              "      <td>-0.000309</td>\n",
              "      <td>0.005860</td>\n",
              "      <td>-0.005802</td>\n",
              "      <td>-48</td>\n",
              "      <td>-10</td>\n",
              "      <td>-30</td>\n",
              "      <td>0.003561</td>\n",
              "      <td>2.7</td>\n",
              "      <td>-58.4</td>\n",
              "      <td>-60</td>\n",
              "      <td>-160</td>\n",
              "      <td>-362</td>\n",
              "      <td>1.0</td>\n",
              "      <td>0.615169</td>\n",
              "      <td>0.693040</td>\n",
              "      <td>15.146870</td>\n",
              "      <td>35.651301</td>\n",
              "      <td>-37.024805</td>\n",
              "    </tr>\n",
              "    <tr>\n",
              "      <th>3</th>\n",
              "      <td>37</td>\n",
              "      <td>30</td>\n",
              "      <td>100.0</td>\n",
              "      <td>64.285714</td>\n",
              "      <td>35.714286</td>\n",
              "      <td>76.677846</td>\n",
              "      <td>68.584234</td>\n",
              "      <td>7.80</td>\n",
              "      <td>14.76</td>\n",
              "      <td>12.61</td>\n",
              "      <td>10.426667</td>\n",
              "      <td>9.4150</td>\n",
              "      <td>11</td>\n",
              "      <td>18</td>\n",
              "      <td>8</td>\n",
              "      <td>0</td>\n",
              "      <td>68</td>\n",
              "      <td>0.002679</td>\n",
              "      <td>-0.003961</td>\n",
              "      <td>-0.000641</td>\n",
              "      <td>66.666667</td>\n",
              "      <td>98.596644</td>\n",
              "      <td>100.147384</td>\n",
              "      <td>139.695620</td>\n",
              "      <td>158.006863</td>\n",
              "      <td>171.688382</td>\n",
              "      <td>161.192133</td>\n",
              "      <td>156.413230</td>\n",
              "      <td>203.641362</td>\n",
              "      <td>200.370912</td>\n",
              "      <td>31.449631</td>\n",
              "      <td>3</td>\n",
              "      <td>40.902782</td>\n",
              "      <td>-5</td>\n",
              "      <td>-10</td>\n",
              "      <td>-21</td>\n",
              "      <td>-23</td>\n",
              "      <td>-26</td>\n",
              "      <td>-37</td>\n",
              "      <td>-44</td>\n",
              "      <td>...</td>\n",
              "      <td>97.870334</td>\n",
              "      <td>1.179249</td>\n",
              "      <td>-0.756073</td>\n",
              "      <td>98.801500</td>\n",
              "      <td>1.190469</td>\n",
              "      <td>99.056290</td>\n",
              "      <td>-0.000062</td>\n",
              "      <td>11.805556</td>\n",
              "      <td>-0.156858</td>\n",
              "      <td>20.472441</td>\n",
              "      <td>-0.000091</td>\n",
              "      <td>1.197509</td>\n",
              "      <td>-0.318696</td>\n",
              "      <td>0.0</td>\n",
              "      <td>0.0</td>\n",
              "      <td>0.0</td>\n",
              "      <td>0.0</td>\n",
              "      <td>0.0</td>\n",
              "      <td>0.0</td>\n",
              "      <td>-1.355422</td>\n",
              "      <td>-45.019355</td>\n",
              "      <td>-19.499975</td>\n",
              "      <td>0.001137</td>\n",
              "      <td>-0.018252</td>\n",
              "      <td>0.018070</td>\n",
              "      <td>-51</td>\n",
              "      <td>-10</td>\n",
              "      <td>-30</td>\n",
              "      <td>0.004366</td>\n",
              "      <td>0.9</td>\n",
              "      <td>-61.8</td>\n",
              "      <td>-65</td>\n",
              "      <td>-166</td>\n",
              "      <td>-367</td>\n",
              "      <td>1.0</td>\n",
              "      <td>0.661517</td>\n",
              "      <td>0.673418</td>\n",
              "      <td>15.153283</td>\n",
              "      <td>0.000000</td>\n",
              "      <td>-37.040483</td>\n",
              "    </tr>\n",
              "    <tr>\n",
              "      <th>4</th>\n",
              "      <td>41</td>\n",
              "      <td>37</td>\n",
              "      <td>100.0</td>\n",
              "      <td>57.142857</td>\n",
              "      <td>42.857143</td>\n",
              "      <td>81.603007</td>\n",
              "      <td>76.455495</td>\n",
              "      <td>14.90</td>\n",
              "      <td>11.92</td>\n",
              "      <td>14.25</td>\n",
              "      <td>11.406667</td>\n",
              "      <td>9.8925</td>\n",
              "      <td>13</td>\n",
              "      <td>23</td>\n",
              "      <td>10</td>\n",
              "      <td>10</td>\n",
              "      <td>91</td>\n",
              "      <td>0.003986</td>\n",
              "      <td>-0.004624</td>\n",
              "      <td>-0.000319</td>\n",
              "      <td>66.666667</td>\n",
              "      <td>149.283572</td>\n",
              "      <td>124.092409</td>\n",
              "      <td>168.275524</td>\n",
              "      <td>196.846256</td>\n",
              "      <td>208.017747</td>\n",
              "      <td>193.924291</td>\n",
              "      <td>184.995906</td>\n",
              "      <td>227.848369</td>\n",
              "      <td>223.561880</td>\n",
              "      <td>50.406504</td>\n",
              "      <td>2</td>\n",
              "      <td>48.462194</td>\n",
              "      <td>-18</td>\n",
              "      <td>-26</td>\n",
              "      <td>-37</td>\n",
              "      <td>-40</td>\n",
              "      <td>-43</td>\n",
              "      <td>-53</td>\n",
              "      <td>-61</td>\n",
              "      <td>...</td>\n",
              "      <td>97.705214</td>\n",
              "      <td>1.179263</td>\n",
              "      <td>-0.754789</td>\n",
              "      <td>98.637028</td>\n",
              "      <td>1.190509</td>\n",
              "      <td>98.892717</td>\n",
              "      <td>-0.000062</td>\n",
              "      <td>11.724138</td>\n",
              "      <td>-0.156592</td>\n",
              "      <td>20.312500</td>\n",
              "      <td>-0.000091</td>\n",
              "      <td>1.197600</td>\n",
              "      <td>-0.318155</td>\n",
              "      <td>0.0</td>\n",
              "      <td>0.0</td>\n",
              "      <td>0.0</td>\n",
              "      <td>0.0</td>\n",
              "      <td>0.0</td>\n",
              "      <td>0.0</td>\n",
              "      <td>-0.116144</td>\n",
              "      <td>-54.849177</td>\n",
              "      <td>-25.348270</td>\n",
              "      <td>0.001552</td>\n",
              "      <td>-0.007183</td>\n",
              "      <td>0.007111</td>\n",
              "      <td>-70</td>\n",
              "      <td>-24</td>\n",
              "      <td>-45</td>\n",
              "      <td>0.004198</td>\n",
              "      <td>0.1</td>\n",
              "      <td>-79.8</td>\n",
              "      <td>-86</td>\n",
              "      <td>-186</td>\n",
              "      <td>-388</td>\n",
              "      <td>1.0</td>\n",
              "      <td>0.747204</td>\n",
              "      <td>0.700522</td>\n",
              "      <td>-15.179065</td>\n",
              "      <td>-35.727079</td>\n",
              "      <td>-37.103503</td>\n",
              "    </tr>\n",
              "  </tbody>\n",
              "</table>\n",
              "<p>5 rows × 136 columns</p>\n",
              "</div>"
            ],
            "text/plain": [
              "   ind_5  ind_6  ind_8      ind_9  ...   ind_428  20_target  50_target  90_target\n",
              "0     19     17  100.0  85.714286  ...  0.701906  15.135802  35.625252  36.997753\n",
              "1     24     19  100.0  78.571429  ...  0.690833  15.143348  35.643013  37.016198\n",
              "2     30     24  100.0  71.428571  ...  0.693040  15.146870  35.651301 -37.024805\n",
              "3     37     30  100.0  64.285714  ...  0.673418  15.153283   0.000000 -37.040483\n",
              "4     41     37  100.0  57.142857  ...  0.700522 -15.179065 -35.727079 -37.103503\n",
              "\n",
              "[5 rows x 136 columns]"
            ]
          },
          "metadata": {
            "tags": []
          },
          "execution_count": 5
        }
      ]
    },
    {
      "cell_type": "code",
      "metadata": {
        "id": "F-ISXB5u32lP",
        "colab_type": "code",
        "colab": {}
      },
      "source": [
        "import numpy as np\n",
        "df=df.replace('?',np.nan)\n",
        "df = df.dropna()"
      ],
      "execution_count": 6,
      "outputs": []
    },
    {
      "cell_type": "code",
      "metadata": {
        "id": "ztnm4toE33Ki",
        "colab_type": "code",
        "colab": {
          "base_uri": "https://localhost:8080/",
          "height": 253
        },
        "outputId": "06499012-847e-4de7-a852-8322b03d7589"
      },
      "source": [
        "y=df[\"90_target\"]\n",
        "X=df.drop([\"ind_109\",\"50_target\",\"90_target\",\"20_target\"],axis=1).astype('float64')\n",
        "\n",
        "X.head()"
      ],
      "execution_count": 9,
      "outputs": [
        {
          "output_type": "execute_result",
          "data": {
            "text/html": [
              "<div>\n",
              "<style scoped>\n",
              "    .dataframe tbody tr th:only-of-type {\n",
              "        vertical-align: middle;\n",
              "    }\n",
              "\n",
              "    .dataframe tbody tr th {\n",
              "        vertical-align: top;\n",
              "    }\n",
              "\n",
              "    .dataframe thead th {\n",
              "        text-align: right;\n",
              "    }\n",
              "</style>\n",
              "<table border=\"1\" class=\"dataframe\">\n",
              "  <thead>\n",
              "    <tr style=\"text-align: right;\">\n",
              "      <th></th>\n",
              "      <th>ind_5</th>\n",
              "      <th>ind_6</th>\n",
              "      <th>ind_8</th>\n",
              "      <th>ind_9</th>\n",
              "      <th>ind_10</th>\n",
              "      <th>ind_12</th>\n",
              "      <th>ind_13</th>\n",
              "      <th>ind_14</th>\n",
              "      <th>ind_15</th>\n",
              "      <th>ind_16</th>\n",
              "      <th>ind_17</th>\n",
              "      <th>ind_18</th>\n",
              "      <th>ind_19</th>\n",
              "      <th>ind_20</th>\n",
              "      <th>ind_21</th>\n",
              "      <th>ind_22</th>\n",
              "      <th>ind_23</th>\n",
              "      <th>ind_25</th>\n",
              "      <th>ind_26</th>\n",
              "      <th>ind_27</th>\n",
              "      <th>ind_28</th>\n",
              "      <th>ind_29</th>\n",
              "      <th>ind_30</th>\n",
              "      <th>ind_31</th>\n",
              "      <th>ind_32</th>\n",
              "      <th>ind_33</th>\n",
              "      <th>ind_34</th>\n",
              "      <th>ind_35</th>\n",
              "      <th>ind_36</th>\n",
              "      <th>ind_37</th>\n",
              "      <th>ind_39</th>\n",
              "      <th>ind_40</th>\n",
              "      <th>ind_41</th>\n",
              "      <th>ind_42</th>\n",
              "      <th>ind_43</th>\n",
              "      <th>ind_44</th>\n",
              "      <th>ind_45</th>\n",
              "      <th>ind_46</th>\n",
              "      <th>ind_47</th>\n",
              "      <th>ind_48</th>\n",
              "      <th>...</th>\n",
              "      <th>ind_243</th>\n",
              "      <th>ind_309</th>\n",
              "      <th>ind_310</th>\n",
              "      <th>ind_311</th>\n",
              "      <th>ind_313</th>\n",
              "      <th>ind_315</th>\n",
              "      <th>ind_316</th>\n",
              "      <th>ind_318</th>\n",
              "      <th>ind_321</th>\n",
              "      <th>ind_324</th>\n",
              "      <th>ind_327</th>\n",
              "      <th>ind_330</th>\n",
              "      <th>ind_332</th>\n",
              "      <th>ind_334</th>\n",
              "      <th>ind_338</th>\n",
              "      <th>ind_340</th>\n",
              "      <th>ind_344</th>\n",
              "      <th>ind_345</th>\n",
              "      <th>ind_347</th>\n",
              "      <th>ind_349</th>\n",
              "      <th>ind_351</th>\n",
              "      <th>ind_352</th>\n",
              "      <th>ind_387</th>\n",
              "      <th>ind_392</th>\n",
              "      <th>ind_397</th>\n",
              "      <th>ind_399</th>\n",
              "      <th>ind_403</th>\n",
              "      <th>ind_404</th>\n",
              "      <th>ind_406</th>\n",
              "      <th>ind_407</th>\n",
              "      <th>ind_410</th>\n",
              "      <th>ind_412</th>\n",
              "      <th>ind_414</th>\n",
              "      <th>ind_416</th>\n",
              "      <th>ind_418</th>\n",
              "      <th>ind_420</th>\n",
              "      <th>ind_422</th>\n",
              "      <th>ind_424</th>\n",
              "      <th>ind_426</th>\n",
              "      <th>ind_428</th>\n",
              "    </tr>\n",
              "  </thead>\n",
              "  <tbody>\n",
              "    <tr>\n",
              "      <th>0</th>\n",
              "      <td>19.0</td>\n",
              "      <td>17.0</td>\n",
              "      <td>100.0</td>\n",
              "      <td>85.714286</td>\n",
              "      <td>14.285714</td>\n",
              "      <td>72.363515</td>\n",
              "      <td>60.808814</td>\n",
              "      <td>23.80</td>\n",
              "      <td>17.62</td>\n",
              "      <td>11.73</td>\n",
              "      <td>12.060000</td>\n",
              "      <td>9.1100</td>\n",
              "      <td>2.0</td>\n",
              "      <td>15.0</td>\n",
              "      <td>13.0</td>\n",
              "      <td>1.0</td>\n",
              "      <td>56.0</td>\n",
              "      <td>0.002690</td>\n",
              "      <td>-0.002670</td>\n",
              "      <td>0.000010</td>\n",
              "      <td>66.666667</td>\n",
              "      <td>93.692449</td>\n",
              "      <td>146.592674</td>\n",
              "      <td>150.505806</td>\n",
              "      <td>154.486989</td>\n",
              "      <td>158.009516</td>\n",
              "      <td>142.421114</td>\n",
              "      <td>142.023350</td>\n",
              "      <td>196.592517</td>\n",
              "      <td>184.819232</td>\n",
              "      <td>31.939605</td>\n",
              "      <td>3.0</td>\n",
              "      <td>30.752568</td>\n",
              "      <td>-5.0</td>\n",
              "      <td>-22.0</td>\n",
              "      <td>-22.0</td>\n",
              "      <td>-21.0</td>\n",
              "      <td>-23.0</td>\n",
              "      <td>-36.0</td>\n",
              "      <td>-40.0</td>\n",
              "      <td>...</td>\n",
              "      <td>1.200346</td>\n",
              "      <td>-0.000013</td>\n",
              "      <td>-1.524694</td>\n",
              "      <td>97.980028</td>\n",
              "      <td>1.179209</td>\n",
              "      <td>-0.756946</td>\n",
              "      <td>98.905563</td>\n",
              "      <td>1.190348</td>\n",
              "      <td>99.156641</td>\n",
              "      <td>-0.000062</td>\n",
              "      <td>12.056738</td>\n",
              "      <td>-0.157039</td>\n",
              "      <td>20.967742</td>\n",
              "      <td>-0.000091</td>\n",
              "      <td>1.197238</td>\n",
              "      <td>-0.319064</td>\n",
              "      <td>0.0</td>\n",
              "      <td>0.0</td>\n",
              "      <td>0.0</td>\n",
              "      <td>0.0</td>\n",
              "      <td>0.0</td>\n",
              "      <td>0.0</td>\n",
              "      <td>-3.731343</td>\n",
              "      <td>-32.587430</td>\n",
              "      <td>-26.386973</td>\n",
              "      <td>-0.003323</td>\n",
              "      <td>0.045130</td>\n",
              "      <td>-0.044678</td>\n",
              "      <td>-44.0</td>\n",
              "      <td>-23.0</td>\n",
              "      <td>-27.0</td>\n",
              "      <td>0.002371</td>\n",
              "      <td>2.0</td>\n",
              "      <td>-49.6</td>\n",
              "      <td>-54.0</td>\n",
              "      <td>-152.0</td>\n",
              "      <td>-353.0</td>\n",
              "      <td>1.0</td>\n",
              "      <td>0.498547</td>\n",
              "      <td>0.701906</td>\n",
              "    </tr>\n",
              "    <tr>\n",
              "      <th>1</th>\n",
              "      <td>24.0</td>\n",
              "      <td>19.0</td>\n",
              "      <td>100.0</td>\n",
              "      <td>78.571429</td>\n",
              "      <td>21.428571</td>\n",
              "      <td>74.275883</td>\n",
              "      <td>64.366798</td>\n",
              "      <td>11.45</td>\n",
              "      <td>18.16</td>\n",
              "      <td>12.22</td>\n",
              "      <td>11.326667</td>\n",
              "      <td>9.2225</td>\n",
              "      <td>0.0</td>\n",
              "      <td>11.0</td>\n",
              "      <td>11.0</td>\n",
              "      <td>1.0</td>\n",
              "      <td>63.0</td>\n",
              "      <td>0.002729</td>\n",
              "      <td>-0.003111</td>\n",
              "      <td>-0.000191</td>\n",
              "      <td>66.666667</td>\n",
              "      <td>76.694104</td>\n",
              "      <td>140.227205</td>\n",
              "      <td>156.903278</td>\n",
              "      <td>161.604303</td>\n",
              "      <td>169.720843</td>\n",
              "      <td>152.634492</td>\n",
              "      <td>149.634976</td>\n",
              "      <td>201.738617</td>\n",
              "      <td>191.985663</td>\n",
              "      <td>38.478501</td>\n",
              "      <td>3.0</td>\n",
              "      <td>36.812130</td>\n",
              "      <td>-6.0</td>\n",
              "      <td>-18.0</td>\n",
              "      <td>-24.0</td>\n",
              "      <td>-24.0</td>\n",
              "      <td>-25.0</td>\n",
              "      <td>-38.0</td>\n",
              "      <td>-43.0</td>\n",
              "      <td>...</td>\n",
              "      <td>1.200129</td>\n",
              "      <td>-0.000013</td>\n",
              "      <td>-1.523934</td>\n",
              "      <td>97.932319</td>\n",
              "      <td>1.179223</td>\n",
              "      <td>-0.756569</td>\n",
              "      <td>98.859627</td>\n",
              "      <td>1.190389</td>\n",
              "      <td>99.111914</td>\n",
              "      <td>-0.000062</td>\n",
              "      <td>11.971831</td>\n",
              "      <td>-0.156961</td>\n",
              "      <td>20.800000</td>\n",
              "      <td>-0.000091</td>\n",
              "      <td>1.197328</td>\n",
              "      <td>-0.318905</td>\n",
              "      <td>0.0</td>\n",
              "      <td>0.0</td>\n",
              "      <td>0.0</td>\n",
              "      <td>0.0</td>\n",
              "      <td>0.0</td>\n",
              "      <td>0.0</td>\n",
              "      <td>-1.369863</td>\n",
              "      <td>-38.115965</td>\n",
              "      <td>-26.085949</td>\n",
              "      <td>-0.000476</td>\n",
              "      <td>0.035314</td>\n",
              "      <td>-0.034961</td>\n",
              "      <td>-48.0</td>\n",
              "      <td>-16.0</td>\n",
              "      <td>-31.0</td>\n",
              "      <td>0.003074</td>\n",
              "      <td>0.8</td>\n",
              "      <td>-55.6</td>\n",
              "      <td>-60.0</td>\n",
              "      <td>-158.0</td>\n",
              "      <td>-359.0</td>\n",
              "      <td>1.0</td>\n",
              "      <td>0.537088</td>\n",
              "      <td>0.690833</td>\n",
              "    </tr>\n",
              "    <tr>\n",
              "      <th>2</th>\n",
              "      <td>30.0</td>\n",
              "      <td>24.0</td>\n",
              "      <td>100.0</td>\n",
              "      <td>71.428571</td>\n",
              "      <td>28.571429</td>\n",
              "      <td>75.140402</td>\n",
              "      <td>65.915803</td>\n",
              "      <td>8.75</td>\n",
              "      <td>17.86</td>\n",
              "      <td>12.28</td>\n",
              "      <td>10.973333</td>\n",
              "      <td>9.3125</td>\n",
              "      <td>5.0</td>\n",
              "      <td>15.0</td>\n",
              "      <td>9.0</td>\n",
              "      <td>-1.0</td>\n",
              "      <td>65.0</td>\n",
              "      <td>0.002780</td>\n",
              "      <td>-0.003530</td>\n",
              "      <td>-0.000375</td>\n",
              "      <td>66.666667</td>\n",
              "      <td>83.909974</td>\n",
              "      <td>117.755945</td>\n",
              "      <td>154.452274</td>\n",
              "      <td>164.015689</td>\n",
              "      <td>175.947530</td>\n",
              "      <td>160.181486</td>\n",
              "      <td>155.527932</td>\n",
              "      <td>205.238017</td>\n",
              "      <td>197.993551</td>\n",
              "      <td>28.917197</td>\n",
              "      <td>3.0</td>\n",
              "      <td>39.648290</td>\n",
              "      <td>-4.0</td>\n",
              "      <td>-11.0</td>\n",
              "      <td>-21.0</td>\n",
              "      <td>-22.0</td>\n",
              "      <td>-24.0</td>\n",
              "      <td>-36.0</td>\n",
              "      <td>-42.0</td>\n",
              "      <td>...</td>\n",
              "      <td>1.199911</td>\n",
              "      <td>-0.000013</td>\n",
              "      <td>-1.523580</td>\n",
              "      <td>97.910664</td>\n",
              "      <td>1.179236</td>\n",
              "      <td>-0.756393</td>\n",
              "      <td>98.839991</td>\n",
              "      <td>1.190429</td>\n",
              "      <td>99.093554</td>\n",
              "      <td>-0.000062</td>\n",
              "      <td>11.888112</td>\n",
              "      <td>-0.156925</td>\n",
              "      <td>20.634921</td>\n",
              "      <td>-0.000091</td>\n",
              "      <td>1.197419</td>\n",
              "      <td>-0.318831</td>\n",
              "      <td>0.0</td>\n",
              "      <td>0.0</td>\n",
              "      <td>0.0</td>\n",
              "      <td>0.0</td>\n",
              "      <td>0.0</td>\n",
              "      <td>0.0</td>\n",
              "      <td>-4.278922</td>\n",
              "      <td>-40.428126</td>\n",
              "      <td>-23.250410</td>\n",
              "      <td>-0.000309</td>\n",
              "      <td>0.005860</td>\n",
              "      <td>-0.005802</td>\n",
              "      <td>-48.0</td>\n",
              "      <td>-10.0</td>\n",
              "      <td>-30.0</td>\n",
              "      <td>0.003561</td>\n",
              "      <td>2.7</td>\n",
              "      <td>-58.4</td>\n",
              "      <td>-60.0</td>\n",
              "      <td>-160.0</td>\n",
              "      <td>-362.0</td>\n",
              "      <td>1.0</td>\n",
              "      <td>0.615169</td>\n",
              "      <td>0.693040</td>\n",
              "    </tr>\n",
              "    <tr>\n",
              "      <th>3</th>\n",
              "      <td>37.0</td>\n",
              "      <td>30.0</td>\n",
              "      <td>100.0</td>\n",
              "      <td>64.285714</td>\n",
              "      <td>35.714286</td>\n",
              "      <td>76.677846</td>\n",
              "      <td>68.584234</td>\n",
              "      <td>7.80</td>\n",
              "      <td>14.76</td>\n",
              "      <td>12.61</td>\n",
              "      <td>10.426667</td>\n",
              "      <td>9.4150</td>\n",
              "      <td>11.0</td>\n",
              "      <td>18.0</td>\n",
              "      <td>8.0</td>\n",
              "      <td>0.0</td>\n",
              "      <td>68.0</td>\n",
              "      <td>0.002679</td>\n",
              "      <td>-0.003961</td>\n",
              "      <td>-0.000641</td>\n",
              "      <td>66.666667</td>\n",
              "      <td>98.596644</td>\n",
              "      <td>100.147384</td>\n",
              "      <td>139.695620</td>\n",
              "      <td>158.006863</td>\n",
              "      <td>171.688382</td>\n",
              "      <td>161.192133</td>\n",
              "      <td>156.413230</td>\n",
              "      <td>203.641362</td>\n",
              "      <td>200.370912</td>\n",
              "      <td>31.449631</td>\n",
              "      <td>3.0</td>\n",
              "      <td>40.902782</td>\n",
              "      <td>-5.0</td>\n",
              "      <td>-10.0</td>\n",
              "      <td>-21.0</td>\n",
              "      <td>-23.0</td>\n",
              "      <td>-26.0</td>\n",
              "      <td>-37.0</td>\n",
              "      <td>-44.0</td>\n",
              "      <td>...</td>\n",
              "      <td>1.199694</td>\n",
              "      <td>-0.000013</td>\n",
              "      <td>-1.522935</td>\n",
              "      <td>97.870334</td>\n",
              "      <td>1.179249</td>\n",
              "      <td>-0.756073</td>\n",
              "      <td>98.801500</td>\n",
              "      <td>1.190469</td>\n",
              "      <td>99.056290</td>\n",
              "      <td>-0.000062</td>\n",
              "      <td>11.805556</td>\n",
              "      <td>-0.156858</td>\n",
              "      <td>20.472441</td>\n",
              "      <td>-0.000091</td>\n",
              "      <td>1.197509</td>\n",
              "      <td>-0.318696</td>\n",
              "      <td>0.0</td>\n",
              "      <td>0.0</td>\n",
              "      <td>0.0</td>\n",
              "      <td>0.0</td>\n",
              "      <td>0.0</td>\n",
              "      <td>0.0</td>\n",
              "      <td>-1.355422</td>\n",
              "      <td>-45.019355</td>\n",
              "      <td>-19.499975</td>\n",
              "      <td>0.001137</td>\n",
              "      <td>-0.018252</td>\n",
              "      <td>0.018070</td>\n",
              "      <td>-51.0</td>\n",
              "      <td>-10.0</td>\n",
              "      <td>-30.0</td>\n",
              "      <td>0.004366</td>\n",
              "      <td>0.9</td>\n",
              "      <td>-61.8</td>\n",
              "      <td>-65.0</td>\n",
              "      <td>-166.0</td>\n",
              "      <td>-367.0</td>\n",
              "      <td>1.0</td>\n",
              "      <td>0.661517</td>\n",
              "      <td>0.673418</td>\n",
              "    </tr>\n",
              "    <tr>\n",
              "      <th>4</th>\n",
              "      <td>41.0</td>\n",
              "      <td>37.0</td>\n",
              "      <td>100.0</td>\n",
              "      <td>57.142857</td>\n",
              "      <td>42.857143</td>\n",
              "      <td>81.603007</td>\n",
              "      <td>76.455495</td>\n",
              "      <td>14.90</td>\n",
              "      <td>11.92</td>\n",
              "      <td>14.25</td>\n",
              "      <td>11.406667</td>\n",
              "      <td>9.8925</td>\n",
              "      <td>13.0</td>\n",
              "      <td>23.0</td>\n",
              "      <td>10.0</td>\n",
              "      <td>10.0</td>\n",
              "      <td>91.0</td>\n",
              "      <td>0.003986</td>\n",
              "      <td>-0.004624</td>\n",
              "      <td>-0.000319</td>\n",
              "      <td>66.666667</td>\n",
              "      <td>149.283572</td>\n",
              "      <td>124.092409</td>\n",
              "      <td>168.275524</td>\n",
              "      <td>196.846256</td>\n",
              "      <td>208.017747</td>\n",
              "      <td>193.924291</td>\n",
              "      <td>184.995906</td>\n",
              "      <td>227.848369</td>\n",
              "      <td>223.561880</td>\n",
              "      <td>50.406504</td>\n",
              "      <td>2.0</td>\n",
              "      <td>48.462194</td>\n",
              "      <td>-18.0</td>\n",
              "      <td>-26.0</td>\n",
              "      <td>-37.0</td>\n",
              "      <td>-40.0</td>\n",
              "      <td>-43.0</td>\n",
              "      <td>-53.0</td>\n",
              "      <td>-61.0</td>\n",
              "      <td>...</td>\n",
              "      <td>1.199477</td>\n",
              "      <td>-0.000013</td>\n",
              "      <td>-1.520349</td>\n",
              "      <td>97.705214</td>\n",
              "      <td>1.179263</td>\n",
              "      <td>-0.754789</td>\n",
              "      <td>98.637028</td>\n",
              "      <td>1.190509</td>\n",
              "      <td>98.892717</td>\n",
              "      <td>-0.000062</td>\n",
              "      <td>11.724138</td>\n",
              "      <td>-0.156592</td>\n",
              "      <td>20.312500</td>\n",
              "      <td>-0.000091</td>\n",
              "      <td>1.197600</td>\n",
              "      <td>-0.318155</td>\n",
              "      <td>0.0</td>\n",
              "      <td>0.0</td>\n",
              "      <td>0.0</td>\n",
              "      <td>0.0</td>\n",
              "      <td>0.0</td>\n",
              "      <td>0.0</td>\n",
              "      <td>-0.116144</td>\n",
              "      <td>-54.849177</td>\n",
              "      <td>-25.348270</td>\n",
              "      <td>0.001552</td>\n",
              "      <td>-0.007183</td>\n",
              "      <td>0.007111</td>\n",
              "      <td>-70.0</td>\n",
              "      <td>-24.0</td>\n",
              "      <td>-45.0</td>\n",
              "      <td>0.004198</td>\n",
              "      <td>0.1</td>\n",
              "      <td>-79.8</td>\n",
              "      <td>-86.0</td>\n",
              "      <td>-186.0</td>\n",
              "      <td>-388.0</td>\n",
              "      <td>1.0</td>\n",
              "      <td>0.747204</td>\n",
              "      <td>0.700522</td>\n",
              "    </tr>\n",
              "  </tbody>\n",
              "</table>\n",
              "<p>5 rows × 132 columns</p>\n",
              "</div>"
            ],
            "text/plain": [
              "   ind_5  ind_6  ind_8      ind_9  ...  ind_422  ind_424   ind_426   ind_428\n",
              "0   19.0   17.0  100.0  85.714286  ...   -353.0      1.0  0.498547  0.701906\n",
              "1   24.0   19.0  100.0  78.571429  ...   -359.0      1.0  0.537088  0.690833\n",
              "2   30.0   24.0  100.0  71.428571  ...   -362.0      1.0  0.615169  0.693040\n",
              "3   37.0   30.0  100.0  64.285714  ...   -367.0      1.0  0.661517  0.673418\n",
              "4   41.0   37.0  100.0  57.142857  ...   -388.0      1.0  0.747204  0.700522\n",
              "\n",
              "[5 rows x 132 columns]"
            ]
          },
          "metadata": {
            "tags": []
          },
          "execution_count": 9
        }
      ]
    },
    {
      "cell_type": "code",
      "metadata": {
        "id": "t9MEVYrcsgKf",
        "colab_type": "code",
        "colab": {
          "base_uri": "https://localhost:8080/",
          "height": 102
        },
        "outputId": "c5e4cbeb-c617-4cb8-f11d-85a517479bb3"
      },
      "source": [
        "X.info()"
      ],
      "execution_count": 10,
      "outputs": [
        {
          "output_type": "stream",
          "text": [
            "<class 'pandas.core.frame.DataFrame'>\n",
            "Int64Index: 5126 entries, 0 to 6166\n",
            "Columns: 132 entries, ind_5 to ind_428\n",
            "dtypes: float64(132)\n",
            "memory usage: 5.2 MB\n"
          ],
          "name": "stdout"
        }
      ]
    },
    {
      "cell_type": "code",
      "metadata": {
        "id": "xdKxSydk33H6",
        "colab_type": "code",
        "colab": {}
      },
      "source": [
        "X_train,X_test,y_train,y_test=train_test_split(X,y,test_size=0.25, random_state=42)"
      ],
      "execution_count": 11,
      "outputs": []
    },
    {
      "cell_type": "code",
      "metadata": {
        "id": "1yi120C6cCyb",
        "colab_type": "code",
        "colab": {}
      },
      "source": [
        ""
      ],
      "execution_count": 11,
      "outputs": []
    },
    {
      "cell_type": "markdown",
      "metadata": {
        "id": "hDnsBZSlcDvu",
        "colab_type": "text"
      },
      "source": [
        "# SVR"
      ]
    },
    {
      "cell_type": "code",
      "metadata": {
        "id": "lCSV6amyQb58",
        "colab_type": "code",
        "colab": {}
      },
      "source": [
        "\n",
        "svr_model = SVR(\"linear\").fit(X_train, y_train)\n"
      ],
      "execution_count": 125,
      "outputs": []
    },
    {
      "cell_type": "code",
      "metadata": {
        "id": "AypUFO8f5bB5",
        "colab_type": "code",
        "colab": {
          "base_uri": "https://localhost:8080/",
          "height": 51
        },
        "outputId": "e77c0f04-da90-435a-fe06-4a4b45b455bb"
      },
      "source": [
        "svr_model.predict(X_train)[0:5]"
      ],
      "execution_count": 126,
      "outputs": [
        {
          "output_type": "execute_result",
          "data": {
            "text/plain": [
              "array([ 11.52989207, -22.84494915,  18.94098991, -27.36096555,\n",
              "        21.46294045])"
            ]
          },
          "metadata": {
            "tags": []
          },
          "execution_count": 126
        }
      ]
    },
    {
      "cell_type": "code",
      "metadata": {
        "id": "0M-Jktdg5j4g",
        "colab_type": "code",
        "colab": {
          "base_uri": "https://localhost:8080/",
          "height": 119
        },
        "outputId": "9fa892aa-c159-49de-8825-cf1050200183"
      },
      "source": [
        "y_train[0:5]"
      ],
      "execution_count": 127,
      "outputs": [
        {
          "output_type": "execute_result",
          "data": {
            "text/plain": [
              "5329    36.160668\n",
              "4217   -36.806235\n",
              "714     37.684820\n",
              "5731   -35.708156\n",
              "5061    35.458229\n",
              "Name: 90_target, dtype: float64"
            ]
          },
          "metadata": {
            "tags": []
          },
          "execution_count": 127
        }
      ]
    },
    {
      "cell_type": "code",
      "metadata": {
        "id": "Ig-nPgAP-zzh",
        "colab_type": "code",
        "colab": {
          "base_uri": "https://localhost:8080/",
          "height": 34
        },
        "outputId": "35fc335b-0e5a-462c-b5ed-0b61f119dfc3"
      },
      "source": [
        "y_pred = svr_model.predict(X_test)\n",
        "np.sqrt(mean_squared_error(y_test, y_pred))"
      ],
      "execution_count": 128,
      "outputs": [
        {
          "output_type": "execute_result",
          "data": {
            "text/plain": [
              "37.443409906122206"
            ]
          },
          "metadata": {
            "tags": []
          },
          "execution_count": 128
        }
      ]
    },
    {
      "cell_type": "code",
      "metadata": {
        "id": "7oufjo-0_HdA",
        "colab_type": "code",
        "colab": {
          "base_uri": "https://localhost:8080/",
          "height": 34
        },
        "outputId": "5258c47e-f4c0-4928-9877-1194c8ab773a"
      },
      "source": [
        "y_pred = svr_model.predict(X_train)\n",
        "np.sqrt(mean_squared_error(y_train, y_pred))"
      ],
      "execution_count": 129,
      "outputs": [
        {
          "output_type": "execute_result",
          "data": {
            "text/plain": [
              "35.21493700328338"
            ]
          },
          "metadata": {
            "tags": []
          },
          "execution_count": 129
        }
      ]
    },
    {
      "cell_type": "markdown",
      "metadata": {
        "id": "CN5xZt4rGR4V",
        "colab_type": "text"
      },
      "source": [
        "## Model Tuning"
      ]
    },
    {
      "cell_type": "code",
      "metadata": {
        "id": "je2FY7gQQZTl",
        "colab_type": "code",
        "colab": {}
      },
      "source": [
        "svr_params = {\"C\": np.arange(1,5,1)}\n",
        "svr_cv_model = GridSearchCV(svr_model, svr_params, cv = 10).fit(X_train,y_train)"
      ],
      "execution_count": null,
      "outputs": []
    },
    {
      "cell_type": "code",
      "metadata": {
        "id": "h6oXMt5Pdp_x",
        "colab_type": "code",
        "colab": {}
      },
      "source": [
        "str(svr_cv_model.best_params_)"
      ],
      "execution_count": null,
      "outputs": []
    },
    {
      "cell_type": "code",
      "metadata": {
        "id": "jeZJbdnbRnB8",
        "colab_type": "code",
        "colab": {}
      },
      "source": [
        "svr_model = SVR(\"linear\", C=0.1).fit(X_train, y_train)"
      ],
      "execution_count": null,
      "outputs": []
    },
    {
      "cell_type": "code",
      "metadata": {
        "id": "D7aa42htGQm0",
        "colab_type": "code",
        "colab": {
          "base_uri": "https://localhost:8080/",
          "height": 34
        },
        "outputId": "4811ca60-dfb3-49d2-8e5b-65834a52389b"
      },
      "source": [
        "y_pred = svr_model.predict(X_test)\n",
        "np.sqrt(mean_squared_error(y_test, y_pred))"
      ],
      "execution_count": null,
      "outputs": [
        {
          "output_type": "execute_result",
          "data": {
            "text/plain": [
              "37.443409906122206"
            ]
          },
          "metadata": {
            "tags": []
          },
          "execution_count": 18
        }
      ]
    },
    {
      "cell_type": "code",
      "metadata": {
        "id": "ymYYrK3_GQez",
        "colab_type": "code",
        "colab": {}
      },
      "source": [
        ""
      ],
      "execution_count": null,
      "outputs": []
    },
    {
      "cell_type": "markdown",
      "metadata": {
        "id": "vZG88ycrLd24",
        "colab_type": "text"
      },
      "source": [
        "# Naive Bayes"
      ]
    },
    {
      "cell_type": "code",
      "metadata": {
        "id": "Ibtk3Iehr_6W",
        "colab_type": "code",
        "colab": {
          "base_uri": "https://localhost:8080/",
          "height": 253
        },
        "outputId": "ad5559a8-b6ea-481b-f685-7b01c0690b9f"
      },
      "source": [
        "import io\n",
        "from pandas import read_excel\n",
        "df= read_excel('HW_Data_Set.xlsx', sheet_name = 'Sheet1')\n",
        "dfnb=df.copy()\n",
        "dfnb.head()"
      ],
      "execution_count": 12,
      "outputs": [
        {
          "output_type": "execute_result",
          "data": {
            "text/html": [
              "<div>\n",
              "<style scoped>\n",
              "    .dataframe tbody tr th:only-of-type {\n",
              "        vertical-align: middle;\n",
              "    }\n",
              "\n",
              "    .dataframe tbody tr th {\n",
              "        vertical-align: top;\n",
              "    }\n",
              "\n",
              "    .dataframe thead th {\n",
              "        text-align: right;\n",
              "    }\n",
              "</style>\n",
              "<table border=\"1\" class=\"dataframe\">\n",
              "  <thead>\n",
              "    <tr style=\"text-align: right;\">\n",
              "      <th></th>\n",
              "      <th>ind_5</th>\n",
              "      <th>ind_6</th>\n",
              "      <th>ind_8</th>\n",
              "      <th>ind_9</th>\n",
              "      <th>ind_10</th>\n",
              "      <th>ind_12</th>\n",
              "      <th>ind_13</th>\n",
              "      <th>ind_14</th>\n",
              "      <th>ind_15</th>\n",
              "      <th>ind_16</th>\n",
              "      <th>ind_17</th>\n",
              "      <th>ind_18</th>\n",
              "      <th>ind_19</th>\n",
              "      <th>ind_20</th>\n",
              "      <th>ind_21</th>\n",
              "      <th>ind_22</th>\n",
              "      <th>ind_23</th>\n",
              "      <th>ind_25</th>\n",
              "      <th>ind_26</th>\n",
              "      <th>ind_27</th>\n",
              "      <th>ind_28</th>\n",
              "      <th>ind_29</th>\n",
              "      <th>ind_30</th>\n",
              "      <th>ind_31</th>\n",
              "      <th>ind_32</th>\n",
              "      <th>ind_33</th>\n",
              "      <th>ind_34</th>\n",
              "      <th>ind_35</th>\n",
              "      <th>ind_36</th>\n",
              "      <th>ind_37</th>\n",
              "      <th>ind_39</th>\n",
              "      <th>ind_40</th>\n",
              "      <th>ind_41</th>\n",
              "      <th>ind_42</th>\n",
              "      <th>ind_43</th>\n",
              "      <th>ind_44</th>\n",
              "      <th>ind_45</th>\n",
              "      <th>ind_46</th>\n",
              "      <th>ind_47</th>\n",
              "      <th>ind_48</th>\n",
              "      <th>...</th>\n",
              "      <th>ind_311</th>\n",
              "      <th>ind_313</th>\n",
              "      <th>ind_315</th>\n",
              "      <th>ind_316</th>\n",
              "      <th>ind_318</th>\n",
              "      <th>ind_321</th>\n",
              "      <th>ind_324</th>\n",
              "      <th>ind_327</th>\n",
              "      <th>ind_330</th>\n",
              "      <th>ind_332</th>\n",
              "      <th>ind_334</th>\n",
              "      <th>ind_338</th>\n",
              "      <th>ind_340</th>\n",
              "      <th>ind_344</th>\n",
              "      <th>ind_345</th>\n",
              "      <th>ind_347</th>\n",
              "      <th>ind_349</th>\n",
              "      <th>ind_351</th>\n",
              "      <th>ind_352</th>\n",
              "      <th>ind_387</th>\n",
              "      <th>ind_392</th>\n",
              "      <th>ind_397</th>\n",
              "      <th>ind_399</th>\n",
              "      <th>ind_403</th>\n",
              "      <th>ind_404</th>\n",
              "      <th>ind_406</th>\n",
              "      <th>ind_407</th>\n",
              "      <th>ind_410</th>\n",
              "      <th>ind_412</th>\n",
              "      <th>ind_414</th>\n",
              "      <th>ind_416</th>\n",
              "      <th>ind_418</th>\n",
              "      <th>ind_420</th>\n",
              "      <th>ind_422</th>\n",
              "      <th>ind_424</th>\n",
              "      <th>ind_426</th>\n",
              "      <th>ind_428</th>\n",
              "      <th>20_target</th>\n",
              "      <th>50_target</th>\n",
              "      <th>90_target</th>\n",
              "    </tr>\n",
              "  </thead>\n",
              "  <tbody>\n",
              "    <tr>\n",
              "      <th>0</th>\n",
              "      <td>19</td>\n",
              "      <td>17</td>\n",
              "      <td>100.0</td>\n",
              "      <td>85.714286</td>\n",
              "      <td>14.285714</td>\n",
              "      <td>72.363515</td>\n",
              "      <td>60.808814</td>\n",
              "      <td>23.80</td>\n",
              "      <td>17.62</td>\n",
              "      <td>11.73</td>\n",
              "      <td>12.060000</td>\n",
              "      <td>9.1100</td>\n",
              "      <td>2</td>\n",
              "      <td>15</td>\n",
              "      <td>13</td>\n",
              "      <td>1</td>\n",
              "      <td>56</td>\n",
              "      <td>0.002690</td>\n",
              "      <td>-0.002670</td>\n",
              "      <td>0.000010</td>\n",
              "      <td>66.666667</td>\n",
              "      <td>93.692449</td>\n",
              "      <td>146.592674</td>\n",
              "      <td>150.505806</td>\n",
              "      <td>154.486989</td>\n",
              "      <td>158.009516</td>\n",
              "      <td>142.421114</td>\n",
              "      <td>142.023350</td>\n",
              "      <td>196.592517</td>\n",
              "      <td>184.819232</td>\n",
              "      <td>31.939605</td>\n",
              "      <td>3</td>\n",
              "      <td>30.752568</td>\n",
              "      <td>-5</td>\n",
              "      <td>-22</td>\n",
              "      <td>-22</td>\n",
              "      <td>-21</td>\n",
              "      <td>-23</td>\n",
              "      <td>-36</td>\n",
              "      <td>-40</td>\n",
              "      <td>...</td>\n",
              "      <td>97.980028</td>\n",
              "      <td>1.179209</td>\n",
              "      <td>-0.756946</td>\n",
              "      <td>98.905563</td>\n",
              "      <td>1.190348</td>\n",
              "      <td>99.156641</td>\n",
              "      <td>-0.000062</td>\n",
              "      <td>12.056738</td>\n",
              "      <td>-0.157039</td>\n",
              "      <td>20.967742</td>\n",
              "      <td>-0.000091</td>\n",
              "      <td>1.197238</td>\n",
              "      <td>-0.319064</td>\n",
              "      <td>0.0</td>\n",
              "      <td>0.0</td>\n",
              "      <td>0.0</td>\n",
              "      <td>0.0</td>\n",
              "      <td>0.0</td>\n",
              "      <td>0.0</td>\n",
              "      <td>-3.731343</td>\n",
              "      <td>-32.587430</td>\n",
              "      <td>-26.386973</td>\n",
              "      <td>-0.003323</td>\n",
              "      <td>0.045130</td>\n",
              "      <td>-0.044678</td>\n",
              "      <td>-44</td>\n",
              "      <td>-23</td>\n",
              "      <td>-27</td>\n",
              "      <td>0.002371</td>\n",
              "      <td>2.0</td>\n",
              "      <td>-49.6</td>\n",
              "      <td>-54</td>\n",
              "      <td>-152</td>\n",
              "      <td>-353</td>\n",
              "      <td>1.0</td>\n",
              "      <td>0.498547</td>\n",
              "      <td>0.701906</td>\n",
              "      <td>15.135802</td>\n",
              "      <td>35.625252</td>\n",
              "      <td>36.997753</td>\n",
              "    </tr>\n",
              "    <tr>\n",
              "      <th>1</th>\n",
              "      <td>24</td>\n",
              "      <td>19</td>\n",
              "      <td>100.0</td>\n",
              "      <td>78.571429</td>\n",
              "      <td>21.428571</td>\n",
              "      <td>74.275883</td>\n",
              "      <td>64.366798</td>\n",
              "      <td>11.45</td>\n",
              "      <td>18.16</td>\n",
              "      <td>12.22</td>\n",
              "      <td>11.326667</td>\n",
              "      <td>9.2225</td>\n",
              "      <td>0</td>\n",
              "      <td>11</td>\n",
              "      <td>11</td>\n",
              "      <td>1</td>\n",
              "      <td>63</td>\n",
              "      <td>0.002729</td>\n",
              "      <td>-0.003111</td>\n",
              "      <td>-0.000191</td>\n",
              "      <td>66.666667</td>\n",
              "      <td>76.694104</td>\n",
              "      <td>140.227205</td>\n",
              "      <td>156.903278</td>\n",
              "      <td>161.604303</td>\n",
              "      <td>169.720843</td>\n",
              "      <td>152.634492</td>\n",
              "      <td>149.634976</td>\n",
              "      <td>201.738617</td>\n",
              "      <td>191.985663</td>\n",
              "      <td>38.478501</td>\n",
              "      <td>3</td>\n",
              "      <td>36.812130</td>\n",
              "      <td>-6</td>\n",
              "      <td>-18</td>\n",
              "      <td>-24</td>\n",
              "      <td>-24</td>\n",
              "      <td>-25</td>\n",
              "      <td>-38</td>\n",
              "      <td>-43</td>\n",
              "      <td>...</td>\n",
              "      <td>97.932319</td>\n",
              "      <td>1.179223</td>\n",
              "      <td>-0.756569</td>\n",
              "      <td>98.859627</td>\n",
              "      <td>1.190389</td>\n",
              "      <td>99.111914</td>\n",
              "      <td>-0.000062</td>\n",
              "      <td>11.971831</td>\n",
              "      <td>-0.156961</td>\n",
              "      <td>20.800000</td>\n",
              "      <td>-0.000091</td>\n",
              "      <td>1.197328</td>\n",
              "      <td>-0.318905</td>\n",
              "      <td>0.0</td>\n",
              "      <td>0.0</td>\n",
              "      <td>0.0</td>\n",
              "      <td>0.0</td>\n",
              "      <td>0.0</td>\n",
              "      <td>0.0</td>\n",
              "      <td>-1.369863</td>\n",
              "      <td>-38.115965</td>\n",
              "      <td>-26.085949</td>\n",
              "      <td>-0.000476</td>\n",
              "      <td>0.035314</td>\n",
              "      <td>-0.034961</td>\n",
              "      <td>-48</td>\n",
              "      <td>-16</td>\n",
              "      <td>-31</td>\n",
              "      <td>0.003074</td>\n",
              "      <td>0.8</td>\n",
              "      <td>-55.6</td>\n",
              "      <td>-60</td>\n",
              "      <td>-158</td>\n",
              "      <td>-359</td>\n",
              "      <td>1.0</td>\n",
              "      <td>0.537088</td>\n",
              "      <td>0.690833</td>\n",
              "      <td>15.143348</td>\n",
              "      <td>35.643013</td>\n",
              "      <td>37.016198</td>\n",
              "    </tr>\n",
              "    <tr>\n",
              "      <th>2</th>\n",
              "      <td>30</td>\n",
              "      <td>24</td>\n",
              "      <td>100.0</td>\n",
              "      <td>71.428571</td>\n",
              "      <td>28.571429</td>\n",
              "      <td>75.140402</td>\n",
              "      <td>65.915803</td>\n",
              "      <td>8.75</td>\n",
              "      <td>17.86</td>\n",
              "      <td>12.28</td>\n",
              "      <td>10.973333</td>\n",
              "      <td>9.3125</td>\n",
              "      <td>5</td>\n",
              "      <td>15</td>\n",
              "      <td>9</td>\n",
              "      <td>-1</td>\n",
              "      <td>65</td>\n",
              "      <td>0.002780</td>\n",
              "      <td>-0.003530</td>\n",
              "      <td>-0.000375</td>\n",
              "      <td>66.666667</td>\n",
              "      <td>83.909974</td>\n",
              "      <td>117.755945</td>\n",
              "      <td>154.452274</td>\n",
              "      <td>164.015689</td>\n",
              "      <td>175.947530</td>\n",
              "      <td>160.181486</td>\n",
              "      <td>155.527932</td>\n",
              "      <td>205.238017</td>\n",
              "      <td>197.993551</td>\n",
              "      <td>28.917197</td>\n",
              "      <td>3</td>\n",
              "      <td>39.648290</td>\n",
              "      <td>-4</td>\n",
              "      <td>-11</td>\n",
              "      <td>-21</td>\n",
              "      <td>-22</td>\n",
              "      <td>-24</td>\n",
              "      <td>-36</td>\n",
              "      <td>-42</td>\n",
              "      <td>...</td>\n",
              "      <td>97.910664</td>\n",
              "      <td>1.179236</td>\n",
              "      <td>-0.756393</td>\n",
              "      <td>98.839991</td>\n",
              "      <td>1.190429</td>\n",
              "      <td>99.093554</td>\n",
              "      <td>-0.000062</td>\n",
              "      <td>11.888112</td>\n",
              "      <td>-0.156925</td>\n",
              "      <td>20.634921</td>\n",
              "      <td>-0.000091</td>\n",
              "      <td>1.197419</td>\n",
              "      <td>-0.318831</td>\n",
              "      <td>0.0</td>\n",
              "      <td>0.0</td>\n",
              "      <td>0.0</td>\n",
              "      <td>0.0</td>\n",
              "      <td>0.0</td>\n",
              "      <td>0.0</td>\n",
              "      <td>-4.278922</td>\n",
              "      <td>-40.428126</td>\n",
              "      <td>-23.250410</td>\n",
              "      <td>-0.000309</td>\n",
              "      <td>0.005860</td>\n",
              "      <td>-0.005802</td>\n",
              "      <td>-48</td>\n",
              "      <td>-10</td>\n",
              "      <td>-30</td>\n",
              "      <td>0.003561</td>\n",
              "      <td>2.7</td>\n",
              "      <td>-58.4</td>\n",
              "      <td>-60</td>\n",
              "      <td>-160</td>\n",
              "      <td>-362</td>\n",
              "      <td>1.0</td>\n",
              "      <td>0.615169</td>\n",
              "      <td>0.693040</td>\n",
              "      <td>15.146870</td>\n",
              "      <td>35.651301</td>\n",
              "      <td>-37.024805</td>\n",
              "    </tr>\n",
              "    <tr>\n",
              "      <th>3</th>\n",
              "      <td>37</td>\n",
              "      <td>30</td>\n",
              "      <td>100.0</td>\n",
              "      <td>64.285714</td>\n",
              "      <td>35.714286</td>\n",
              "      <td>76.677846</td>\n",
              "      <td>68.584234</td>\n",
              "      <td>7.80</td>\n",
              "      <td>14.76</td>\n",
              "      <td>12.61</td>\n",
              "      <td>10.426667</td>\n",
              "      <td>9.4150</td>\n",
              "      <td>11</td>\n",
              "      <td>18</td>\n",
              "      <td>8</td>\n",
              "      <td>0</td>\n",
              "      <td>68</td>\n",
              "      <td>0.002679</td>\n",
              "      <td>-0.003961</td>\n",
              "      <td>-0.000641</td>\n",
              "      <td>66.666667</td>\n",
              "      <td>98.596644</td>\n",
              "      <td>100.147384</td>\n",
              "      <td>139.695620</td>\n",
              "      <td>158.006863</td>\n",
              "      <td>171.688382</td>\n",
              "      <td>161.192133</td>\n",
              "      <td>156.413230</td>\n",
              "      <td>203.641362</td>\n",
              "      <td>200.370912</td>\n",
              "      <td>31.449631</td>\n",
              "      <td>3</td>\n",
              "      <td>40.902782</td>\n",
              "      <td>-5</td>\n",
              "      <td>-10</td>\n",
              "      <td>-21</td>\n",
              "      <td>-23</td>\n",
              "      <td>-26</td>\n",
              "      <td>-37</td>\n",
              "      <td>-44</td>\n",
              "      <td>...</td>\n",
              "      <td>97.870334</td>\n",
              "      <td>1.179249</td>\n",
              "      <td>-0.756073</td>\n",
              "      <td>98.801500</td>\n",
              "      <td>1.190469</td>\n",
              "      <td>99.056290</td>\n",
              "      <td>-0.000062</td>\n",
              "      <td>11.805556</td>\n",
              "      <td>-0.156858</td>\n",
              "      <td>20.472441</td>\n",
              "      <td>-0.000091</td>\n",
              "      <td>1.197509</td>\n",
              "      <td>-0.318696</td>\n",
              "      <td>0.0</td>\n",
              "      <td>0.0</td>\n",
              "      <td>0.0</td>\n",
              "      <td>0.0</td>\n",
              "      <td>0.0</td>\n",
              "      <td>0.0</td>\n",
              "      <td>-1.355422</td>\n",
              "      <td>-45.019355</td>\n",
              "      <td>-19.499975</td>\n",
              "      <td>0.001137</td>\n",
              "      <td>-0.018252</td>\n",
              "      <td>0.018070</td>\n",
              "      <td>-51</td>\n",
              "      <td>-10</td>\n",
              "      <td>-30</td>\n",
              "      <td>0.004366</td>\n",
              "      <td>0.9</td>\n",
              "      <td>-61.8</td>\n",
              "      <td>-65</td>\n",
              "      <td>-166</td>\n",
              "      <td>-367</td>\n",
              "      <td>1.0</td>\n",
              "      <td>0.661517</td>\n",
              "      <td>0.673418</td>\n",
              "      <td>15.153283</td>\n",
              "      <td>0.000000</td>\n",
              "      <td>-37.040483</td>\n",
              "    </tr>\n",
              "    <tr>\n",
              "      <th>4</th>\n",
              "      <td>41</td>\n",
              "      <td>37</td>\n",
              "      <td>100.0</td>\n",
              "      <td>57.142857</td>\n",
              "      <td>42.857143</td>\n",
              "      <td>81.603007</td>\n",
              "      <td>76.455495</td>\n",
              "      <td>14.90</td>\n",
              "      <td>11.92</td>\n",
              "      <td>14.25</td>\n",
              "      <td>11.406667</td>\n",
              "      <td>9.8925</td>\n",
              "      <td>13</td>\n",
              "      <td>23</td>\n",
              "      <td>10</td>\n",
              "      <td>10</td>\n",
              "      <td>91</td>\n",
              "      <td>0.003986</td>\n",
              "      <td>-0.004624</td>\n",
              "      <td>-0.000319</td>\n",
              "      <td>66.666667</td>\n",
              "      <td>149.283572</td>\n",
              "      <td>124.092409</td>\n",
              "      <td>168.275524</td>\n",
              "      <td>196.846256</td>\n",
              "      <td>208.017747</td>\n",
              "      <td>193.924291</td>\n",
              "      <td>184.995906</td>\n",
              "      <td>227.848369</td>\n",
              "      <td>223.561880</td>\n",
              "      <td>50.406504</td>\n",
              "      <td>2</td>\n",
              "      <td>48.462194</td>\n",
              "      <td>-18</td>\n",
              "      <td>-26</td>\n",
              "      <td>-37</td>\n",
              "      <td>-40</td>\n",
              "      <td>-43</td>\n",
              "      <td>-53</td>\n",
              "      <td>-61</td>\n",
              "      <td>...</td>\n",
              "      <td>97.705214</td>\n",
              "      <td>1.179263</td>\n",
              "      <td>-0.754789</td>\n",
              "      <td>98.637028</td>\n",
              "      <td>1.190509</td>\n",
              "      <td>98.892717</td>\n",
              "      <td>-0.000062</td>\n",
              "      <td>11.724138</td>\n",
              "      <td>-0.156592</td>\n",
              "      <td>20.312500</td>\n",
              "      <td>-0.000091</td>\n",
              "      <td>1.197600</td>\n",
              "      <td>-0.318155</td>\n",
              "      <td>0.0</td>\n",
              "      <td>0.0</td>\n",
              "      <td>0.0</td>\n",
              "      <td>0.0</td>\n",
              "      <td>0.0</td>\n",
              "      <td>0.0</td>\n",
              "      <td>-0.116144</td>\n",
              "      <td>-54.849177</td>\n",
              "      <td>-25.348270</td>\n",
              "      <td>0.001552</td>\n",
              "      <td>-0.007183</td>\n",
              "      <td>0.007111</td>\n",
              "      <td>-70</td>\n",
              "      <td>-24</td>\n",
              "      <td>-45</td>\n",
              "      <td>0.004198</td>\n",
              "      <td>0.1</td>\n",
              "      <td>-79.8</td>\n",
              "      <td>-86</td>\n",
              "      <td>-186</td>\n",
              "      <td>-388</td>\n",
              "      <td>1.0</td>\n",
              "      <td>0.747204</td>\n",
              "      <td>0.700522</td>\n",
              "      <td>-15.179065</td>\n",
              "      <td>-35.727079</td>\n",
              "      <td>-37.103503</td>\n",
              "    </tr>\n",
              "  </tbody>\n",
              "</table>\n",
              "<p>5 rows × 136 columns</p>\n",
              "</div>"
            ],
            "text/plain": [
              "   ind_5  ind_6  ind_8      ind_9  ...   ind_428  20_target  50_target  90_target\n",
              "0     19     17  100.0  85.714286  ...  0.701906  15.135802  35.625252  36.997753\n",
              "1     24     19  100.0  78.571429  ...  0.690833  15.143348  35.643013  37.016198\n",
              "2     30     24  100.0  71.428571  ...  0.693040  15.146870  35.651301 -37.024805\n",
              "3     37     30  100.0  64.285714  ...  0.673418  15.153283   0.000000 -37.040483\n",
              "4     41     37  100.0  57.142857  ...  0.700522 -15.179065 -35.727079 -37.103503\n",
              "\n",
              "[5 rows x 136 columns]"
            ]
          },
          "metadata": {
            "tags": []
          },
          "execution_count": 12
        }
      ]
    },
    {
      "cell_type": "code",
      "metadata": {
        "id": "L13JQCR-LgrS",
        "colab_type": "code",
        "colab": {
          "base_uri": "https://localhost:8080/",
          "height": 297
        },
        "outputId": "55bc0b30-dc41-4213-81e1-b33f79d4f31d"
      },
      "source": [
        "import seaborn as sns\n",
        "sns.distplot(dfnb[\"90_target\"],kde=False)"
      ],
      "execution_count": 13,
      "outputs": [
        {
          "output_type": "execute_result",
          "data": {
            "text/plain": [
              "<matplotlib.axes._subplots.AxesSubplot at 0x7fec36345898>"
            ]
          },
          "metadata": {
            "tags": []
          },
          "execution_count": 13
        },
        {
          "output_type": "display_data",
          "data": {
            "image/png": "[encoded data removed]",
            "text/plain": [
              "<Figure size 432x288 with 1 Axes>"
            ]
          },
          "metadata": {
            "tags": [],
            "needs_background": "light"
          }
        }
      ]
    },
    {
      "cell_type": "code",
      "metadata": {
        "id": "jsKJk3p_sCsm",
        "colab_type": "code",
        "colab": {
          "base_uri": "https://localhost:8080/",
          "height": 34
        },
        "outputId": "cc0b3771-48c5-4217-8a54-92311b37d2f4"
      },
      "source": [
        "dfnb[\"90_target\"][100]"
      ],
      "execution_count": 14,
      "outputs": [
        {
          "output_type": "execute_result",
          "data": {
            "text/plain": [
              "37.01957905"
            ]
          },
          "metadata": {
            "tags": []
          },
          "execution_count": 14
        }
      ]
    },
    {
      "cell_type": "code",
      "metadata": {
        "id": "byb1nZOlpcai",
        "colab_type": "code",
        "colab": {
          "base_uri": "https://localhost:8080/",
          "height": 272
        },
        "outputId": "a9d13b1f-308f-45fd-e6c7-34e99e9ecfd1"
      },
      "source": [
        "for i in range(len(dfnb[\"90_target\"])):\n",
        "  if dfnb[\"90_target\"][i]>=-40 and dfnb[\"90_target\"][i]<=-30:\n",
        "    dfnb[\"90_target\"][i]=0\n",
        "  if dfnb[\"90_target\"][i]>-10 and dfnb[\"90_target\"][i]<10:\n",
        "    dfnb[\"90_target\"][i]=1\n",
        "  if dfnb[\"90_target\"][i]>30 and dfnb[\"90_target\"][i]<40:\n",
        "    dfnb[\"90_target\"][i]=2\n",
        "  \n"
      ],
      "execution_count": 15,
      "outputs": [
        {
          "output_type": "stream",
          "text": [
            "/usr/local/lib/python3.6/dist-packages/ipykernel_launcher.py:7: SettingWithCopyWarning: \n",
            "A value is trying to be set on a copy of a slice from a DataFrame\n",
            "\n",
            "See the caveats in the documentation: https://pandas.pydata.org/pandas-docs/stable/user_guide/indexing.html#returning-a-view-versus-a-copy\n",
            "  import sys\n",
            "/usr/local/lib/python3.6/dist-packages/ipykernel_launcher.py:3: SettingWithCopyWarning: \n",
            "A value is trying to be set on a copy of a slice from a DataFrame\n",
            "\n",
            "See the caveats in the documentation: https://pandas.pydata.org/pandas-docs/stable/user_guide/indexing.html#returning-a-view-versus-a-copy\n",
            "  This is separate from the ipykernel package so we can avoid doing imports until\n",
            "/usr/local/lib/python3.6/dist-packages/ipykernel_launcher.py:5: SettingWithCopyWarning: \n",
            "A value is trying to be set on a copy of a slice from a DataFrame\n",
            "\n",
            "See the caveats in the documentation: https://pandas.pydata.org/pandas-docs/stable/user_guide/indexing.html#returning-a-view-versus-a-copy\n",
            "  \"\"\"\n"
          ],
          "name": "stderr"
        }
      ]
    },
    {
      "cell_type": "code",
      "metadata": {
        "id": "E9AJAFjUt080",
        "colab_type": "code",
        "colab": {}
      },
      "source": [
        "import numpy as np\n",
        "dfnb=dfnb.replace('?',np.nan)\n",
        "dfnb = dfnb.dropna()"
      ],
      "execution_count": 16,
      "outputs": []
    },
    {
      "cell_type": "code",
      "metadata": {
        "id": "xHjBvwKL0j-R",
        "colab_type": "code",
        "colab": {
          "base_uri": "https://localhost:8080/",
          "height": 253
        },
        "outputId": "439c179e-bae2-4d37-af62-11338055d22b"
      },
      "source": [
        "y=dfnb[\"90_target\"]\n",
        "X_=dfnb.drop([\"ind_109\",\"50_target\",\"90_target\",\"20_target\"],axis=1).astype('float64')\n",
        "X.head()"
      ],
      "execution_count": 17,
      "outputs": [
        {
          "output_type": "execute_result",
          "data": {
            "text/html": [
              "<div>\n",
              "<style scoped>\n",
              "    .dataframe tbody tr th:only-of-type {\n",
              "        vertical-align: middle;\n",
              "    }\n",
              "\n",
              "    .dataframe tbody tr th {\n",
              "        vertical-align: top;\n",
              "    }\n",
              "\n",
              "    .dataframe thead th {\n",
              "        text-align: right;\n",
              "    }\n",
              "</style>\n",
              "<table border=\"1\" class=\"dataframe\">\n",
              "  <thead>\n",
              "    <tr style=\"text-align: right;\">\n",
              "      <th></th>\n",
              "      <th>ind_5</th>\n",
              "      <th>ind_6</th>\n",
              "      <th>ind_8</th>\n",
              "      <th>ind_9</th>\n",
              "      <th>ind_10</th>\n",
              "      <th>ind_12</th>\n",
              "      <th>ind_13</th>\n",
              "      <th>ind_14</th>\n",
              "      <th>ind_15</th>\n",
              "      <th>ind_16</th>\n",
              "      <th>ind_17</th>\n",
              "      <th>ind_18</th>\n",
              "      <th>ind_19</th>\n",
              "      <th>ind_20</th>\n",
              "      <th>ind_21</th>\n",
              "      <th>ind_22</th>\n",
              "      <th>ind_23</th>\n",
              "      <th>ind_25</th>\n",
              "      <th>ind_26</th>\n",
              "      <th>ind_27</th>\n",
              "      <th>ind_28</th>\n",
              "      <th>ind_29</th>\n",
              "      <th>ind_30</th>\n",
              "      <th>ind_31</th>\n",
              "      <th>ind_32</th>\n",
              "      <th>ind_33</th>\n",
              "      <th>ind_34</th>\n",
              "      <th>ind_35</th>\n",
              "      <th>ind_36</th>\n",
              "      <th>ind_37</th>\n",
              "      <th>ind_39</th>\n",
              "      <th>ind_40</th>\n",
              "      <th>ind_41</th>\n",
              "      <th>ind_42</th>\n",
              "      <th>ind_43</th>\n",
              "      <th>ind_44</th>\n",
              "      <th>ind_45</th>\n",
              "      <th>ind_46</th>\n",
              "      <th>ind_47</th>\n",
              "      <th>ind_48</th>\n",
              "      <th>...</th>\n",
              "      <th>ind_243</th>\n",
              "      <th>ind_309</th>\n",
              "      <th>ind_310</th>\n",
              "      <th>ind_311</th>\n",
              "      <th>ind_313</th>\n",
              "      <th>ind_315</th>\n",
              "      <th>ind_316</th>\n",
              "      <th>ind_318</th>\n",
              "      <th>ind_321</th>\n",
              "      <th>ind_324</th>\n",
              "      <th>ind_327</th>\n",
              "      <th>ind_330</th>\n",
              "      <th>ind_332</th>\n",
              "      <th>ind_334</th>\n",
              "      <th>ind_338</th>\n",
              "      <th>ind_340</th>\n",
              "      <th>ind_344</th>\n",
              "      <th>ind_345</th>\n",
              "      <th>ind_347</th>\n",
              "      <th>ind_349</th>\n",
              "      <th>ind_351</th>\n",
              "      <th>ind_352</th>\n",
              "      <th>ind_387</th>\n",
              "      <th>ind_392</th>\n",
              "      <th>ind_397</th>\n",
              "      <th>ind_399</th>\n",
              "      <th>ind_403</th>\n",
              "      <th>ind_404</th>\n",
              "      <th>ind_406</th>\n",
              "      <th>ind_407</th>\n",
              "      <th>ind_410</th>\n",
              "      <th>ind_412</th>\n",
              "      <th>ind_414</th>\n",
              "      <th>ind_416</th>\n",
              "      <th>ind_418</th>\n",
              "      <th>ind_420</th>\n",
              "      <th>ind_422</th>\n",
              "      <th>ind_424</th>\n",
              "      <th>ind_426</th>\n",
              "      <th>ind_428</th>\n",
              "    </tr>\n",
              "  </thead>\n",
              "  <tbody>\n",
              "    <tr>\n",
              "      <th>0</th>\n",
              "      <td>19.0</td>\n",
              "      <td>17.0</td>\n",
              "      <td>100.0</td>\n",
              "      <td>85.714286</td>\n",
              "      <td>14.285714</td>\n",
              "      <td>72.363515</td>\n",
              "      <td>60.808814</td>\n",
              "      <td>23.80</td>\n",
              "      <td>17.62</td>\n",
              "      <td>11.73</td>\n",
              "      <td>12.060000</td>\n",
              "      <td>9.1100</td>\n",
              "      <td>2.0</td>\n",
              "      <td>15.0</td>\n",
              "      <td>13.0</td>\n",
              "      <td>1.0</td>\n",
              "      <td>56.0</td>\n",
              "      <td>0.002690</td>\n",
              "      <td>-0.002670</td>\n",
              "      <td>0.000010</td>\n",
              "      <td>66.666667</td>\n",
              "      <td>93.692449</td>\n",
              "      <td>146.592674</td>\n",
              "      <td>150.505806</td>\n",
              "      <td>154.486989</td>\n",
              "      <td>158.009516</td>\n",
              "      <td>142.421114</td>\n",
              "      <td>142.023350</td>\n",
              "      <td>196.592517</td>\n",
              "      <td>184.819232</td>\n",
              "      <td>31.939605</td>\n",
              "      <td>3.0</td>\n",
              "      <td>30.752568</td>\n",
              "      <td>-5.0</td>\n",
              "      <td>-22.0</td>\n",
              "      <td>-22.0</td>\n",
              "      <td>-21.0</td>\n",
              "      <td>-23.0</td>\n",
              "      <td>-36.0</td>\n",
              "      <td>-40.0</td>\n",
              "      <td>...</td>\n",
              "      <td>1.200346</td>\n",
              "      <td>-0.000013</td>\n",
              "      <td>-1.524694</td>\n",
              "      <td>97.980028</td>\n",
              "      <td>1.179209</td>\n",
              "      <td>-0.756946</td>\n",
              "      <td>98.905563</td>\n",
              "      <td>1.190348</td>\n",
              "      <td>99.156641</td>\n",
              "      <td>-0.000062</td>\n",
              "      <td>12.056738</td>\n",
              "      <td>-0.157039</td>\n",
              "      <td>20.967742</td>\n",
              "      <td>-0.000091</td>\n",
              "      <td>1.197238</td>\n",
              "      <td>-0.319064</td>\n",
              "      <td>0.0</td>\n",
              "      <td>0.0</td>\n",
              "      <td>0.0</td>\n",
              "      <td>0.0</td>\n",
              "      <td>0.0</td>\n",
              "      <td>0.0</td>\n",
              "      <td>-3.731343</td>\n",
              "      <td>-32.587430</td>\n",
              "      <td>-26.386973</td>\n",
              "      <td>-0.003323</td>\n",
              "      <td>0.045130</td>\n",
              "      <td>-0.044678</td>\n",
              "      <td>-44.0</td>\n",
              "      <td>-23.0</td>\n",
              "      <td>-27.0</td>\n",
              "      <td>0.002371</td>\n",
              "      <td>2.0</td>\n",
              "      <td>-49.6</td>\n",
              "      <td>-54.0</td>\n",
              "      <td>-152.0</td>\n",
              "      <td>-353.0</td>\n",
              "      <td>1.0</td>\n",
              "      <td>0.498547</td>\n",
              "      <td>0.701906</td>\n",
              "    </tr>\n",
              "    <tr>\n",
              "      <th>1</th>\n",
              "      <td>24.0</td>\n",
              "      <td>19.0</td>\n",
              "      <td>100.0</td>\n",
              "      <td>78.571429</td>\n",
              "      <td>21.428571</td>\n",
              "      <td>74.275883</td>\n",
              "      <td>64.366798</td>\n",
              "      <td>11.45</td>\n",
              "      <td>18.16</td>\n",
              "      <td>12.22</td>\n",
              "      <td>11.326667</td>\n",
              "      <td>9.2225</td>\n",
              "      <td>0.0</td>\n",
              "      <td>11.0</td>\n",
              "      <td>11.0</td>\n",
              "      <td>1.0</td>\n",
              "      <td>63.0</td>\n",
              "      <td>0.002729</td>\n",
              "      <td>-0.003111</td>\n",
              "      <td>-0.000191</td>\n",
              "      <td>66.666667</td>\n",
              "      <td>76.694104</td>\n",
              "      <td>140.227205</td>\n",
              "      <td>156.903278</td>\n",
              "      <td>161.604303</td>\n",
              "      <td>169.720843</td>\n",
              "      <td>152.634492</td>\n",
              "      <td>149.634976</td>\n",
              "      <td>201.738617</td>\n",
              "      <td>191.985663</td>\n",
              "      <td>38.478501</td>\n",
              "      <td>3.0</td>\n",
              "      <td>36.812130</td>\n",
              "      <td>-6.0</td>\n",
              "      <td>-18.0</td>\n",
              "      <td>-24.0</td>\n",
              "      <td>-24.0</td>\n",
              "      <td>-25.0</td>\n",
              "      <td>-38.0</td>\n",
              "      <td>-43.0</td>\n",
              "      <td>...</td>\n",
              "      <td>1.200129</td>\n",
              "      <td>-0.000013</td>\n",
              "      <td>-1.523934</td>\n",
              "      <td>97.932319</td>\n",
              "      <td>1.179223</td>\n",
              "      <td>-0.756569</td>\n",
              "      <td>98.859627</td>\n",
              "      <td>1.190389</td>\n",
              "      <td>99.111914</td>\n",
              "      <td>-0.000062</td>\n",
              "      <td>11.971831</td>\n",
              "      <td>-0.156961</td>\n",
              "      <td>20.800000</td>\n",
              "      <td>-0.000091</td>\n",
              "      <td>1.197328</td>\n",
              "      <td>-0.318905</td>\n",
              "      <td>0.0</td>\n",
              "      <td>0.0</td>\n",
              "      <td>0.0</td>\n",
              "      <td>0.0</td>\n",
              "      <td>0.0</td>\n",
              "      <td>0.0</td>\n",
              "      <td>-1.369863</td>\n",
              "      <td>-38.115965</td>\n",
              "      <td>-26.085949</td>\n",
              "      <td>-0.000476</td>\n",
              "      <td>0.035314</td>\n",
              "      <td>-0.034961</td>\n",
              "      <td>-48.0</td>\n",
              "      <td>-16.0</td>\n",
              "      <td>-31.0</td>\n",
              "      <td>0.003074</td>\n",
              "      <td>0.8</td>\n",
              "      <td>-55.6</td>\n",
              "      <td>-60.0</td>\n",
              "      <td>-158.0</td>\n",
              "      <td>-359.0</td>\n",
              "      <td>1.0</td>\n",
              "      <td>0.537088</td>\n",
              "      <td>0.690833</td>\n",
              "    </tr>\n",
              "    <tr>\n",
              "      <th>2</th>\n",
              "      <td>30.0</td>\n",
              "      <td>24.0</td>\n",
              "      <td>100.0</td>\n",
              "      <td>71.428571</td>\n",
              "      <td>28.571429</td>\n",
              "      <td>75.140402</td>\n",
              "      <td>65.915803</td>\n",
              "      <td>8.75</td>\n",
              "      <td>17.86</td>\n",
              "      <td>12.28</td>\n",
              "      <td>10.973333</td>\n",
              "      <td>9.3125</td>\n",
              "      <td>5.0</td>\n",
              "      <td>15.0</td>\n",
              "      <td>9.0</td>\n",
              "      <td>-1.0</td>\n",
              "      <td>65.0</td>\n",
              "      <td>0.002780</td>\n",
              "      <td>-0.003530</td>\n",
              "      <td>-0.000375</td>\n",
              "      <td>66.666667</td>\n",
              "      <td>83.909974</td>\n",
              "      <td>117.755945</td>\n",
              "      <td>154.452274</td>\n",
              "      <td>164.015689</td>\n",
              "      <td>175.947530</td>\n",
              "      <td>160.181486</td>\n",
              "      <td>155.527932</td>\n",
              "      <td>205.238017</td>\n",
              "      <td>197.993551</td>\n",
              "      <td>28.917197</td>\n",
              "      <td>3.0</td>\n",
              "      <td>39.648290</td>\n",
              "      <td>-4.0</td>\n",
              "      <td>-11.0</td>\n",
              "      <td>-21.0</td>\n",
              "      <td>-22.0</td>\n",
              "      <td>-24.0</td>\n",
              "      <td>-36.0</td>\n",
              "      <td>-42.0</td>\n",
              "      <td>...</td>\n",
              "      <td>1.199911</td>\n",
              "      <td>-0.000013</td>\n",
              "      <td>-1.523580</td>\n",
              "      <td>97.910664</td>\n",
              "      <td>1.179236</td>\n",
              "      <td>-0.756393</td>\n",
              "      <td>98.839991</td>\n",
              "      <td>1.190429</td>\n",
              "      <td>99.093554</td>\n",
              "      <td>-0.000062</td>\n",
              "      <td>11.888112</td>\n",
              "      <td>-0.156925</td>\n",
              "      <td>20.634921</td>\n",
              "      <td>-0.000091</td>\n",
              "      <td>1.197419</td>\n",
              "      <td>-0.318831</td>\n",
              "      <td>0.0</td>\n",
              "      <td>0.0</td>\n",
              "      <td>0.0</td>\n",
              "      <td>0.0</td>\n",
              "      <td>0.0</td>\n",
              "      <td>0.0</td>\n",
              "      <td>-4.278922</td>\n",
              "      <td>-40.428126</td>\n",
              "      <td>-23.250410</td>\n",
              "      <td>-0.000309</td>\n",
              "      <td>0.005860</td>\n",
              "      <td>-0.005802</td>\n",
              "      <td>-48.0</td>\n",
              "      <td>-10.0</td>\n",
              "      <td>-30.0</td>\n",
              "      <td>0.003561</td>\n",
              "      <td>2.7</td>\n",
              "      <td>-58.4</td>\n",
              "      <td>-60.0</td>\n",
              "      <td>-160.0</td>\n",
              "      <td>-362.0</td>\n",
              "      <td>1.0</td>\n",
              "      <td>0.615169</td>\n",
              "      <td>0.693040</td>\n",
              "    </tr>\n",
              "    <tr>\n",
              "      <th>3</th>\n",
              "      <td>37.0</td>\n",
              "      <td>30.0</td>\n",
              "      <td>100.0</td>\n",
              "      <td>64.285714</td>\n",
              "      <td>35.714286</td>\n",
              "      <td>76.677846</td>\n",
              "      <td>68.584234</td>\n",
              "      <td>7.80</td>\n",
              "      <td>14.76</td>\n",
              "      <td>12.61</td>\n",
              "      <td>10.426667</td>\n",
              "      <td>9.4150</td>\n",
              "      <td>11.0</td>\n",
              "      <td>18.0</td>\n",
              "      <td>8.0</td>\n",
              "      <td>0.0</td>\n",
              "      <td>68.0</td>\n",
              "      <td>0.002679</td>\n",
              "      <td>-0.003961</td>\n",
              "      <td>-0.000641</td>\n",
              "      <td>66.666667</td>\n",
              "      <td>98.596644</td>\n",
              "      <td>100.147384</td>\n",
              "      <td>139.695620</td>\n",
              "      <td>158.006863</td>\n",
              "      <td>171.688382</td>\n",
              "      <td>161.192133</td>\n",
              "      <td>156.413230</td>\n",
              "      <td>203.641362</td>\n",
              "      <td>200.370912</td>\n",
              "      <td>31.449631</td>\n",
              "      <td>3.0</td>\n",
              "      <td>40.902782</td>\n",
              "      <td>-5.0</td>\n",
              "      <td>-10.0</td>\n",
              "      <td>-21.0</td>\n",
              "      <td>-23.0</td>\n",
              "      <td>-26.0</td>\n",
              "      <td>-37.0</td>\n",
              "      <td>-44.0</td>\n",
              "      <td>...</td>\n",
              "      <td>1.199694</td>\n",
              "      <td>-0.000013</td>\n",
              "      <td>-1.522935</td>\n",
              "      <td>97.870334</td>\n",
              "      <td>1.179249</td>\n",
              "      <td>-0.756073</td>\n",
              "      <td>98.801500</td>\n",
              "      <td>1.190469</td>\n",
              "      <td>99.056290</td>\n",
              "      <td>-0.000062</td>\n",
              "      <td>11.805556</td>\n",
              "      <td>-0.156858</td>\n",
              "      <td>20.472441</td>\n",
              "      <td>-0.000091</td>\n",
              "      <td>1.197509</td>\n",
              "      <td>-0.318696</td>\n",
              "      <td>0.0</td>\n",
              "      <td>0.0</td>\n",
              "      <td>0.0</td>\n",
              "      <td>0.0</td>\n",
              "      <td>0.0</td>\n",
              "      <td>0.0</td>\n",
              "      <td>-1.355422</td>\n",
              "      <td>-45.019355</td>\n",
              "      <td>-19.499975</td>\n",
              "      <td>0.001137</td>\n",
              "      <td>-0.018252</td>\n",
              "      <td>0.018070</td>\n",
              "      <td>-51.0</td>\n",
              "      <td>-10.0</td>\n",
              "      <td>-30.0</td>\n",
              "      <td>0.004366</td>\n",
              "      <td>0.9</td>\n",
              "      <td>-61.8</td>\n",
              "      <td>-65.0</td>\n",
              "      <td>-166.0</td>\n",
              "      <td>-367.0</td>\n",
              "      <td>1.0</td>\n",
              "      <td>0.661517</td>\n",
              "      <td>0.673418</td>\n",
              "    </tr>\n",
              "    <tr>\n",
              "      <th>4</th>\n",
              "      <td>41.0</td>\n",
              "      <td>37.0</td>\n",
              "      <td>100.0</td>\n",
              "      <td>57.142857</td>\n",
              "      <td>42.857143</td>\n",
              "      <td>81.603007</td>\n",
              "      <td>76.455495</td>\n",
              "      <td>14.90</td>\n",
              "      <td>11.92</td>\n",
              "      <td>14.25</td>\n",
              "      <td>11.406667</td>\n",
              "      <td>9.8925</td>\n",
              "      <td>13.0</td>\n",
              "      <td>23.0</td>\n",
              "      <td>10.0</td>\n",
              "      <td>10.0</td>\n",
              "      <td>91.0</td>\n",
              "      <td>0.003986</td>\n",
              "      <td>-0.004624</td>\n",
              "      <td>-0.000319</td>\n",
              "      <td>66.666667</td>\n",
              "      <td>149.283572</td>\n",
              "      <td>124.092409</td>\n",
              "      <td>168.275524</td>\n",
              "      <td>196.846256</td>\n",
              "      <td>208.017747</td>\n",
              "      <td>193.924291</td>\n",
              "      <td>184.995906</td>\n",
              "      <td>227.848369</td>\n",
              "      <td>223.561880</td>\n",
              "      <td>50.406504</td>\n",
              "      <td>2.0</td>\n",
              "      <td>48.462194</td>\n",
              "      <td>-18.0</td>\n",
              "      <td>-26.0</td>\n",
              "      <td>-37.0</td>\n",
              "      <td>-40.0</td>\n",
              "      <td>-43.0</td>\n",
              "      <td>-53.0</td>\n",
              "      <td>-61.0</td>\n",
              "      <td>...</td>\n",
              "      <td>1.199477</td>\n",
              "      <td>-0.000013</td>\n",
              "      <td>-1.520349</td>\n",
              "      <td>97.705214</td>\n",
              "      <td>1.179263</td>\n",
              "      <td>-0.754789</td>\n",
              "      <td>98.637028</td>\n",
              "      <td>1.190509</td>\n",
              "      <td>98.892717</td>\n",
              "      <td>-0.000062</td>\n",
              "      <td>11.724138</td>\n",
              "      <td>-0.156592</td>\n",
              "      <td>20.312500</td>\n",
              "      <td>-0.000091</td>\n",
              "      <td>1.197600</td>\n",
              "      <td>-0.318155</td>\n",
              "      <td>0.0</td>\n",
              "      <td>0.0</td>\n",
              "      <td>0.0</td>\n",
              "      <td>0.0</td>\n",
              "      <td>0.0</td>\n",
              "      <td>0.0</td>\n",
              "      <td>-0.116144</td>\n",
              "      <td>-54.849177</td>\n",
              "      <td>-25.348270</td>\n",
              "      <td>0.001552</td>\n",
              "      <td>-0.007183</td>\n",
              "      <td>0.007111</td>\n",
              "      <td>-70.0</td>\n",
              "      <td>-24.0</td>\n",
              "      <td>-45.0</td>\n",
              "      <td>0.004198</td>\n",
              "      <td>0.1</td>\n",
              "      <td>-79.8</td>\n",
              "      <td>-86.0</td>\n",
              "      <td>-186.0</td>\n",
              "      <td>-388.0</td>\n",
              "      <td>1.0</td>\n",
              "      <td>0.747204</td>\n",
              "      <td>0.700522</td>\n",
              "    </tr>\n",
              "  </tbody>\n",
              "</table>\n",
              "<p>5 rows × 132 columns</p>\n",
              "</div>"
            ],
            "text/plain": [
              "   ind_5  ind_6  ind_8      ind_9  ...  ind_422  ind_424   ind_426   ind_428\n",
              "0   19.0   17.0  100.0  85.714286  ...   -353.0      1.0  0.498547  0.701906\n",
              "1   24.0   19.0  100.0  78.571429  ...   -359.0      1.0  0.537088  0.690833\n",
              "2   30.0   24.0  100.0  71.428571  ...   -362.0      1.0  0.615169  0.693040\n",
              "3   37.0   30.0  100.0  64.285714  ...   -367.0      1.0  0.661517  0.673418\n",
              "4   41.0   37.0  100.0  57.142857  ...   -388.0      1.0  0.747204  0.700522\n",
              "\n",
              "[5 rows x 132 columns]"
            ]
          },
          "metadata": {
            "tags": []
          },
          "execution_count": 17
        }
      ]
    },
    {
      "cell_type": "code",
      "metadata": {
        "id": "sK3zrmk00xI8",
        "colab_type": "code",
        "colab": {}
      },
      "source": [
        "X_trainNB,X_testNB,y_trainNB,y_testNB=train_test_split(X,y,test_size=0.25, random_state=42)"
      ],
      "execution_count": 18,
      "outputs": []
    },
    {
      "cell_type": "code",
      "metadata": {
        "id": "bH31xZ6-21OV",
        "colab_type": "code",
        "colab": {}
      },
      "source": [
        "from sklearn.preprocessing import MinMaxScaler\n",
        "scaler = MinMaxScaler()\n",
        "scaler.fit(X_trainNB)\n",
        "X_train_scaled = scaler.transform(X_trainNB)\n",
        "X_test_scaled = scaler.transform(X_testNB)"
      ],
      "execution_count": 19,
      "outputs": []
    },
    {
      "cell_type": "code",
      "metadata": {
        "id": "TKbnjkIA01lj",
        "colab_type": "code",
        "colab": {}
      },
      "source": [
        "from sklearn.naive_bayes import MultinomialNB"
      ],
      "execution_count": 20,
      "outputs": []
    },
    {
      "cell_type": "code",
      "metadata": {
        "id": "PaAktWkU11XI",
        "colab_type": "code",
        "colab": {
          "base_uri": "https://localhost:8080/",
          "height": 34
        },
        "outputId": "1054c335-4eb9-45d0-e0cf-ecce931bd053"
      },
      "source": [
        "nb = MultinomialNB()\n",
        "nb_model = nb.fit(X_train_scaled, y_trainNB)\n",
        "nb_model"
      ],
      "execution_count": 21,
      "outputs": [
        {
          "output_type": "execute_result",
          "data": {
            "text/plain": [
              "MultinomialNB(alpha=1.0, class_prior=None, fit_prior=True)"
            ]
          },
          "metadata": {
            "tags": []
          },
          "execution_count": 21
        }
      ]
    },
    {
      "cell_type": "code",
      "metadata": {
        "id": "kZL9b7912BAe",
        "colab_type": "code",
        "colab": {
          "base_uri": "https://localhost:8080/",
          "height": 34
        },
        "outputId": "0a8e8103-be6f-442a-dc93-1c79824566db"
      },
      "source": [
        "y_pred = nb_model.predict(X_test_scaled)\n",
        "accuracy_score(y_testNB, y_pred)"
      ],
      "execution_count": 22,
      "outputs": [
        {
          "output_type": "execute_result",
          "data": {
            "text/plain": [
              "0.5889235569422777"
            ]
          },
          "metadata": {
            "tags": []
          },
          "execution_count": 22
        }
      ]
    },
    {
      "cell_type": "code",
      "metadata": {
        "id": "lgyU_kJ842ED",
        "colab_type": "code",
        "colab": {
          "base_uri": "https://localhost:8080/",
          "height": 34
        },
        "outputId": "b861f077-e7ef-431c-9dbc-a124dedfdc72"
      },
      "source": [
        "y_pred = nb_model.predict(X_train_scaled)\n",
        "accuracy_score(y_trainNB, y_pred)"
      ],
      "execution_count": 23,
      "outputs": [
        {
          "output_type": "execute_result",
          "data": {
            "text/plain": [
              "0.5972944849115505"
            ]
          },
          "metadata": {
            "tags": []
          },
          "execution_count": 23
        }
      ]
    },
    {
      "cell_type": "code",
      "metadata": {
        "id": "Tb9jYb9p5Gsw",
        "colab_type": "code",
        "colab": {}
      },
      "source": [
        ""
      ],
      "execution_count": null,
      "outputs": []
    },
    {
      "cell_type": "markdown",
      "metadata": {
        "id": "3VhXfAEH5pLi",
        "colab_type": "text"
      },
      "source": [
        "# Gradient Boosting Machines"
      ]
    },
    {
      "cell_type": "code",
      "metadata": {
        "id": "nrTTT2A45qDz",
        "colab_type": "code",
        "colab": {}
      },
      "source": [
        "from sklearn.ensemble import GradientBoostingRegressor"
      ],
      "execution_count": 24,
      "outputs": []
    },
    {
      "cell_type": "code",
      "metadata": {
        "id": "WhcHdtodAsEv",
        "colab_type": "code",
        "colab": {
          "base_uri": "https://localhost:8080/",
          "height": 170
        },
        "outputId": "9ac85801-1c01-410d-b955-a443bfbf35e1"
      },
      "source": [
        "gbm_model = GradientBoostingRegressor()\n",
        "gbm_model.fit(X_train, y_train)"
      ],
      "execution_count": 25,
      "outputs": [
        {
          "output_type": "execute_result",
          "data": {
            "text/plain": [
              "GradientBoostingRegressor(alpha=0.9, ccp_alpha=0.0, criterion='friedman_mse',\n",
              "                          init=None, learning_rate=0.1, loss='ls', max_depth=3,\n",
              "                          max_features=None, max_leaf_nodes=None,\n",
              "                          min_impurity_decrease=0.0, min_impurity_split=None,\n",
              "                          min_samples_leaf=1, min_samples_split=2,\n",
              "                          min_weight_fraction_leaf=0.0, n_estimators=100,\n",
              "                          n_iter_no_change=None, presort='deprecated',\n",
              "                          random_state=None, subsample=1.0, tol=0.0001,\n",
              "                          validation_fraction=0.1, verbose=0, warm_start=False)"
            ]
          },
          "metadata": {
            "tags": []
          },
          "execution_count": 25
        }
      ]
    },
    {
      "cell_type": "code",
      "metadata": {
        "id": "9GP6aX5XAuE7",
        "colab_type": "code",
        "colab": {
          "base_uri": "https://localhost:8080/",
          "height": 34
        },
        "outputId": "19115901-def9-4933-89b8-9e524b15f87f"
      },
      "source": [
        "y_pred = gbm_model.predict(X_test)\n",
        "np.sqrt(mean_squared_error(y_test, y_pred))"
      ],
      "execution_count": 26,
      "outputs": [
        {
          "output_type": "execute_result",
          "data": {
            "text/plain": [
              "24.805329251200742"
            ]
          },
          "metadata": {
            "tags": []
          },
          "execution_count": 26
        }
      ]
    },
    {
      "cell_type": "markdown",
      "metadata": {
        "id": "D-MY656-M6W6",
        "colab_type": "text"
      },
      "source": [
        "## Model Tuning"
      ]
    },
    {
      "cell_type": "code",
      "metadata": {
        "id": "lxI5EfHYAu72",
        "colab_type": "code",
        "colab": {}
      },
      "source": [
        "gbm_params = {\n",
        "    'learning_rate': [0.1, 0.2],\n",
        "    'max_depth': [3, 5, 8]\n",
        " }"
      ],
      "execution_count": 38,
      "outputs": []
    },
    {
      "cell_type": "code",
      "metadata": {
        "id": "is-EVcnYAvF0",
        "colab_type": "code",
        "colab": {
          "base_uri": "https://localhost:8080/",
          "height": 476
        },
        "outputId": "d3c6360f-789c-46ba-8dec-9065c3a628f1"
      },
      "source": [
        "gbm = GradientBoostingRegressor()\n",
        "gbm_cv_model = GridSearchCV(gbm, gbm_params, cv = 10, n_jobs = -1, verbose = 2)\n",
        "gbm_cv_model.fit(X_train, y_train)"
      ],
      "execution_count": 39,
      "outputs": [
        {
          "output_type": "stream",
          "text": [
            "Fitting 10 folds for each of 6 candidates, totalling 60 fits\n"
          ],
          "name": "stdout"
        },
        {
          "output_type": "stream",
          "text": [
            "[Parallel(n_jobs=-1)]: Using backend LokyBackend with 2 concurrent workers.\n",
            "[Parallel(n_jobs=-1)]: Done  37 tasks      | elapsed:  7.0min\n",
            "[Parallel(n_jobs=-1)]: Done  60 out of  60 | elapsed: 12.1min finished\n"
          ],
          "name": "stderr"
        },
        {
          "output_type": "execute_result",
          "data": {
            "text/plain": [
              "GridSearchCV(cv=10, error_score=nan,\n",
              "             estimator=GradientBoostingRegressor(alpha=0.9, ccp_alpha=0.0,\n",
              "                                                 criterion='friedman_mse',\n",
              "                                                 init=None, learning_rate=0.1,\n",
              "                                                 loss='ls', max_depth=3,\n",
              "                                                 max_features=None,\n",
              "                                                 max_leaf_nodes=None,\n",
              "                                                 min_impurity_decrease=0.0,\n",
              "                                                 min_impurity_split=None,\n",
              "                                                 min_samples_leaf=1,\n",
              "                                                 min_samples_split=2,\n",
              "                                                 min_weight_fraction_leaf=0.0,\n",
              "                                                 n_estimators=100,\n",
              "                                                 n_iter_no_change=None,\n",
              "                                                 presort='deprecated',\n",
              "                                                 random_state=None,\n",
              "                                                 subsample=1.0, tol=0.0001,\n",
              "                                                 validation_fraction=0.1,\n",
              "                                                 verbose=0, warm_start=False),\n",
              "             iid='deprecated', n_jobs=-1,\n",
              "             param_grid={'learning_rate': [0.1, 0.2], 'max_depth': [3, 5, 8]},\n",
              "             pre_dispatch='2*n_jobs', refit=True, return_train_score=False,\n",
              "             scoring=None, verbose=2)"
            ]
          },
          "metadata": {
            "tags": []
          },
          "execution_count": 39
        }
      ]
    },
    {
      "cell_type": "code",
      "metadata": {
        "id": "5IyK0mikAv2p",
        "colab_type": "code",
        "colab": {
          "base_uri": "https://localhost:8080/",
          "height": 34
        },
        "outputId": "4719e7af-a8af-45bc-a551-e2c10eb8a4d7"
      },
      "source": [
        "gbm_cv_model.best_params_"
      ],
      "execution_count": 40,
      "outputs": [
        {
          "output_type": "execute_result",
          "data": {
            "text/plain": [
              "{'learning_rate': 0.2, 'max_depth': 8}"
            ]
          },
          "metadata": {
            "tags": []
          },
          "execution_count": 40
        }
      ]
    },
    {
      "cell_type": "code",
      "metadata": {
        "id": "mPizEMhvAuA1",
        "colab_type": "code",
        "colab": {}
      },
      "source": [
        "gbm_tuned = GradientBoostingRegressor(learning_rate = 0.2,  \n",
        "                                      max_depth = 8)\n",
        "\n",
        "gbm_tuned = gbm_tuned.fit(X_train,y_train)"
      ],
      "execution_count": 41,
      "outputs": []
    },
    {
      "cell_type": "code",
      "metadata": {
        "id": "l3CNq5_pAt8h",
        "colab_type": "code",
        "colab": {
          "base_uri": "https://localhost:8080/",
          "height": 34
        },
        "outputId": "cd93d895-2962-4974-aa37-35b954830026"
      },
      "source": [
        "y_pred = gbm_tuned.predict(X_test)\n",
        "np.sqrt(mean_squared_error(y_test, y_pred))"
      ],
      "execution_count": 42,
      "outputs": [
        {
          "output_type": "execute_result",
          "data": {
            "text/plain": [
              "14.832047729201628"
            ]
          },
          "metadata": {
            "tags": []
          },
          "execution_count": 42
        }
      ]
    },
    {
      "cell_type": "code",
      "metadata": {
        "id": "WNT25D81NxQo",
        "colab_type": "code",
        "colab": {
          "base_uri": "https://localhost:8080/",
          "height": 34
        },
        "outputId": "2d2ef018-e279-4849-f720-ec8338163a1e"
      },
      "source": [
        "y_pred = gbm_tuned.predict(X_train)\n",
        "np.sqrt(mean_squared_error(y_train, y_pred))"
      ],
      "execution_count": 43,
      "outputs": [
        {
          "output_type": "execute_result",
          "data": {
            "text/plain": [
              "0.9748468424606203"
            ]
          },
          "metadata": {
            "tags": []
          },
          "execution_count": 43
        }
      ]
    },
    {
      "cell_type": "code",
      "metadata": {
        "id": "0xobvV40N8XI",
        "colab_type": "code",
        "colab": {}
      },
      "source": [
        "Importance = pd.DataFrame({\"Importance\": gbm_tuned.feature_importances_*100},\n",
        "                         index = X_train.columns)"
      ],
      "execution_count": 44,
      "outputs": []
    },
    {
      "cell_type": "code",
      "metadata": {
        "id": "-UJR6cGUN86O",
        "colab_type": "code",
        "colab": {
          "base_uri": "https://localhost:8080/",
          "height": 301
        },
        "outputId": "5a36fefc-9091-4e42-9ac6-e60bdc068097"
      },
      "source": [
        "import matplotlib.pyplot as plt\n",
        "Importance.sort_values(by = \"Importance\", \n",
        "                       axis = 0, \n",
        "                       ascending = True).plot(kind =\"barh\", color = \"r\")\n",
        "\n",
        "plt.xlabel(\"Değişken Önem Düzeyleri\")"
      ],
      "execution_count": 47,
      "outputs": [
        {
          "output_type": "execute_result",
          "data": {
            "text/plain": [
              "Text(0.5, 0, 'Değişken Önem Düzeyleri')"
            ]
          },
          "metadata": {
            "tags": []
          },
          "execution_count": 47
        },
        {
          "output_type": "display_data",
          "data": {
            "image/png": "[encoded data removed]",
            "text/plain": [
              "<Figure size 432x288 with 1 Axes>"
            ]
          },
          "metadata": {
            "tags": [],
            "needs_background": "light"
          }
        }
      ]
    },
    {
      "cell_type": "markdown",
      "metadata": {
        "id": "KYWpDwUQtPNY",
        "colab_type": "text"
      },
      "source": [
        "# KNN"
      ]
    },
    {
      "cell_type": "code",
      "metadata": {
        "id": "LAzvTE0ptNp9",
        "colab_type": "code",
        "colab": {}
      },
      "source": [
        "from sklearn.neighbors import KNeighborsRegressor"
      ],
      "execution_count": 48,
      "outputs": []
    },
    {
      "cell_type": "code",
      "metadata": {
        "id": "OjNZIpL7tWjy",
        "colab_type": "code",
        "colab": {}
      },
      "source": [
        "knn_model = KNeighborsRegressor().fit(X_train, y_train)"
      ],
      "execution_count": 49,
      "outputs": []
    },
    {
      "cell_type": "code",
      "metadata": {
        "id": "wcAiyF7AtW1r",
        "colab_type": "code",
        "colab": {
          "base_uri": "https://localhost:8080/",
          "height": 34
        },
        "outputId": "db80e4c4-4329-4b0d-e512-f8db5de6030f"
      },
      "source": [
        "knn_model.n_neighbors"
      ],
      "execution_count": 51,
      "outputs": [
        {
          "output_type": "execute_result",
          "data": {
            "text/plain": [
              "5"
            ]
          },
          "metadata": {
            "tags": []
          },
          "execution_count": 51
        }
      ]
    },
    {
      "cell_type": "code",
      "metadata": {
        "id": "EwPvYNpYtWyx",
        "colab_type": "code",
        "colab": {
          "base_uri": "https://localhost:8080/",
          "height": 34
        },
        "outputId": "9627fd21-b057-4076-ceb3-24aef40f3b4c"
      },
      "source": [
        "y_pred = knn_model.predict(X_test)\n",
        "np.sqrt(mean_squared_error(y_test, y_pred))"
      ],
      "execution_count": 52,
      "outputs": [
        {
          "output_type": "execute_result",
          "data": {
            "text/plain": [
              "27.517771605527976"
            ]
          },
          "metadata": {
            "tags": []
          },
          "execution_count": 52
        }
      ]
    },
    {
      "cell_type": "code",
      "metadata": {
        "id": "RrYIbeSfuMO3",
        "colab_type": "code",
        "colab": {
          "base_uri": "https://localhost:8080/",
          "height": 187
        },
        "outputId": "bcaae367-d827-4525-d5fd-37a56bf26c1c"
      },
      "source": [
        "RMSE = [] \n",
        "\n",
        "for k in range(10):\n",
        "    k = k+1\n",
        "    knn_model = KNeighborsRegressor(n_neighbors = k).fit(X_train, y_train)\n",
        "    y_pred = knn_model.predict(X_train) \n",
        "    rmse = np.sqrt(mean_squared_error(y_train,y_pred)) \n",
        "    RMSE.append(rmse) \n",
        "    print(\"k =\" , k , \"için RMSE değeri: \", rmse)"
      ],
      "execution_count": 53,
      "outputs": [
        {
          "output_type": "stream",
          "text": [
            "k = 1 için RMSE değeri:  0.0\n",
            "k = 2 için RMSE değeri:  13.51511997525359\n",
            "k = 3 için RMSE değeri:  17.254904221084033\n",
            "k = 4 için RMSE değeri:  19.99267145959896\n",
            "k = 5 için RMSE değeri:  21.54128374996204\n",
            "k = 6 için RMSE değeri:  22.86496993147191\n",
            "k = 7 için RMSE değeri:  23.939374449305355\n",
            "k = 8 için RMSE değeri:  25.029812513040145\n",
            "k = 9 için RMSE değeri:  25.906740470110506\n",
            "k = 10 için RMSE değeri:  26.591824411675375\n"
          ],
          "name": "stdout"
        }
      ]
    },
    {
      "cell_type": "markdown",
      "metadata": {
        "id": "FmdhYjyDt5fa",
        "colab_type": "text"
      },
      "source": [
        "## Model Tuning"
      ]
    },
    {
      "cell_type": "code",
      "metadata": {
        "id": "879QKNmptroq",
        "colab_type": "code",
        "colab": {}
      },
      "source": [
        "knn_params = {'n_neighbors': np.arange(1,10,1)}"
      ],
      "execution_count": 58,
      "outputs": []
    },
    {
      "cell_type": "code",
      "metadata": {
        "id": "pMtex4wOt-ni",
        "colab_type": "code",
        "colab": {}
      },
      "source": [
        "knn = KNeighborsRegressor()"
      ],
      "execution_count": 59,
      "outputs": []
    },
    {
      "cell_type": "code",
      "metadata": {
        "id": "jxtD-CS1t-_F",
        "colab_type": "code",
        "colab": {}
      },
      "source": [
        "knn_cv_model = GridSearchCV(knn, knn_params, cv = 10)"
      ],
      "execution_count": 60,
      "outputs": []
    },
    {
      "cell_type": "code",
      "metadata": {
        "id": "X5DVwJFbt_Qk",
        "colab_type": "code",
        "colab": {
          "base_uri": "https://localhost:8080/",
          "height": 187
        },
        "outputId": "8b7229c7-9fd6-4c3a-e285-cc3d1de68e33"
      },
      "source": [
        "knn_cv_model.fit(X_train, y_train)"
      ],
      "execution_count": 61,
      "outputs": [
        {
          "output_type": "execute_result",
          "data": {
            "text/plain": [
              "GridSearchCV(cv=10, error_score=nan,\n",
              "             estimator=KNeighborsRegressor(algorithm='auto', leaf_size=30,\n",
              "                                           metric='minkowski',\n",
              "                                           metric_params=None, n_jobs=None,\n",
              "                                           n_neighbors=5, p=2,\n",
              "                                           weights='uniform'),\n",
              "             iid='deprecated', n_jobs=None,\n",
              "             param_grid={'n_neighbors': array([1, 2, 3, 4, 5, 6, 7, 8, 9])},\n",
              "             pre_dispatch='2*n_jobs', refit=True, return_train_score=False,\n",
              "             scoring=None, verbose=0)"
            ]
          },
          "metadata": {
            "tags": []
          },
          "execution_count": 61
        }
      ]
    },
    {
      "cell_type": "code",
      "metadata": {
        "id": "i8XuAGOHt_eh",
        "colab_type": "code",
        "colab": {
          "base_uri": "https://localhost:8080/",
          "height": 34
        },
        "outputId": "29e7e3fc-5090-4767-9744-4e12423cf475"
      },
      "source": [
        "knn_cv_model.best_params_[\"n_neighbors\"]"
      ],
      "execution_count": 62,
      "outputs": [
        {
          "output_type": "execute_result",
          "data": {
            "text/plain": [
              "2"
            ]
          },
          "metadata": {
            "tags": []
          },
          "execution_count": 62
        }
      ]
    },
    {
      "cell_type": "code",
      "metadata": {
        "id": "7SKxx2HMt-iC",
        "colab_type": "code",
        "colab": {
          "base_uri": "https://localhost:8080/",
          "height": 187
        },
        "outputId": "9bab4f73-f445-45ca-8918-759d654255b6"
      },
      "source": [
        "RMSE = [] \n",
        "RMSE_CV = []\n",
        "for k in range(10):\n",
        "    k = k+1\n",
        "    knn_model = KNeighborsRegressor(n_neighbors = k).fit(X_train, y_train)\n",
        "    y_pred = knn_model.predict(X_train) \n",
        "    rmse = np.sqrt(mean_squared_error(y_train,y_pred)) \n",
        "    rmse_cv = np.sqrt(-1*cross_val_score(knn_model, X_train, y_train, cv=10, \n",
        "                                         scoring = \"neg_mean_squared_error\").mean())\n",
        "    RMSE.append(rmse) \n",
        "    RMSE_CV.append(rmse_cv)\n",
        "    print(\"k =\" , k , \"için RMSE değeri: \", rmse, \"RMSE_CV değeri: \", rmse_cv )"
      ],
      "execution_count": 63,
      "outputs": [
        {
          "output_type": "stream",
          "text": [
            "k = 1 için RMSE değeri:  0.0 RMSE_CV değeri:  28.016986643457802\n",
            "k = 2 için RMSE değeri:  13.51511997525359 RMSE_CV değeri:  26.633409871739197\n",
            "k = 3 için RMSE değeri:  17.254904221084033 RMSE_CV değeri:  27.23621444834389\n",
            "k = 4 için RMSE değeri:  19.99267145959896 RMSE_CV değeri:  27.3914076263531\n",
            "k = 5 için RMSE değeri:  21.54128374996204 RMSE_CV değeri:  27.86505215469714\n",
            "k = 6 için RMSE değeri:  22.86496993147191 RMSE_CV değeri:  28.550626370922714\n",
            "k = 7 için RMSE değeri:  23.939374449305355 RMSE_CV değeri:  29.219244955855412\n",
            "k = 8 için RMSE değeri:  25.029812513040145 RMSE_CV değeri:  29.621653581511918\n",
            "k = 9 için RMSE değeri:  25.906740470110506 RMSE_CV değeri:  29.977755742903696\n",
            "k = 10 için RMSE değeri:  26.591824411675375 RMSE_CV değeri:  30.29438781769275\n"
          ],
          "name": "stdout"
        }
      ]
    },
    {
      "cell_type": "code",
      "metadata": {
        "id": "n6VNPzi4t-dR",
        "colab_type": "code",
        "colab": {
          "base_uri": "https://localhost:8080/",
          "height": 68
        },
        "outputId": "a363bcb1-1fd8-4e13-a90f-be3794feb269"
      },
      "source": [
        "knn_tuned = KNeighborsRegressor(n_neighbors = knn_cv_model.best_params_[\"n_neighbors\"])\n",
        "knn_tuned.fit(X_train, y_train)"
      ],
      "execution_count": 64,
      "outputs": [
        {
          "output_type": "execute_result",
          "data": {
            "text/plain": [
              "KNeighborsRegressor(algorithm='auto', leaf_size=30, metric='minkowski',\n",
              "                    metric_params=None, n_jobs=None, n_neighbors=2, p=2,\n",
              "                    weights='uniform')"
            ]
          },
          "metadata": {
            "tags": []
          },
          "execution_count": 64
        }
      ]
    },
    {
      "cell_type": "code",
      "metadata": {
        "id": "Kgv77V22tWv8",
        "colab_type": "code",
        "colab": {
          "base_uri": "https://localhost:8080/",
          "height": 34
        },
        "outputId": "66d0be32-c460-471d-bc82-286cdb62aa84"
      },
      "source": [
        "np.sqrt(mean_squared_error(y_test, knn_tuned.predict(X_test)))"
      ],
      "execution_count": 65,
      "outputs": [
        {
          "output_type": "execute_result",
          "data": {
            "text/plain": [
              "26.66611299566255"
            ]
          },
          "metadata": {
            "tags": []
          },
          "execution_count": 65
        }
      ]
    },
    {
      "cell_type": "code",
      "metadata": {
        "id": "cxwKy_2MtWr9",
        "colab_type": "code",
        "colab": {}
      },
      "source": [
        ""
      ],
      "execution_count": null,
      "outputs": []
    }
  ]
}