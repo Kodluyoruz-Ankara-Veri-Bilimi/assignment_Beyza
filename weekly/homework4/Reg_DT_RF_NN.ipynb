{
  "nbformat": 4,
  "nbformat_minor": 0,
  "metadata": {
    "kernelspec": {
      "display_name": "Python 3",
      "language": "python",
      "name": "python3"
    },
    "language_info": {
      "codemirror_mode": {
        "name": "ipython",
        "version": 3
      },
      "file_extension": ".py",
      "mimetype": "text/x-python",
      "name": "python",
      "nbconvert_exporter": "python",
      "pygments_lexer": "ipython3",
      "version": "3.7.6"
    },
    "colab": {
      "name": "Reg_DT_RF_NN.ipynb",
      "provenance": [],
      "collapsed_sections": []
    }
  },
  "cells": [
    {
      "cell_type": "markdown",
      "metadata": {
        "id": "9_2cOzIcXKPG",
        "colab_type": "text"
      },
      "source": [
        "# Decision Tree "
      ]
    },
    {
      "cell_type": "code",
      "metadata": {
        "id": "b4FUqIJQXKPO",
        "colab_type": "code",
        "colab": {}
      },
      "source": [
        "import numpy as np\n",
        "import pandas as pd \n",
        "from sklearn.model_selection import train_test_split, GridSearchCV, cross_val_score\n",
        "from sklearn.metrics import confusion_matrix, accuracy_score, classification_report\n",
        "from sklearn.tree import DecisionTreeClassifier\n",
        "from sklearn.tree import DecisionTreeRegressor\n",
        "\n",
        "from sklearn import tree\n",
        "from sklearn.metrics import mean_squared_error, r2_score"
      ],
      "execution_count": 2,
      "outputs": []
    },
    {
      "cell_type": "code",
      "metadata": {
        "id": "Q9NUPpjnXh3l",
        "colab_type": "code",
        "colab": {
          "resources": {
            "http://localhost:8080/nbextensions/google.colab/files.js": {
              "data": "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",
              "ok": true,
              "headers": [
                [
                  "content-type",
                  "application/javascript"
                ]
              ],
              "status": 200,
              "status_text": ""
            }
          },
          "base_uri": "https://localhost:8080/",
          "height": 72
        },
        "outputId": "9b4656e5-831f-49b0-a056-69d13e5a37a0"
      },
      "source": [
        "from google.colab import files\n",
        "uploaded = files.upload()"
      ],
      "execution_count": 3,
      "outputs": [
        {
          "output_type": "display_data",
          "data": {
            "text/html": [
              "\n",
              "     <input type=\"file\" id=\"files-f7195d16-9551-400e-b838-c8a529992ccf\" name=\"files[]\" multiple disabled\n",
              "        style=\"border:none\" />\n",
              "     <output id=\"result-f7195d16-9551-400e-b838-c8a529992ccf\">\n",
              "      Upload widget is only available when the cell has been executed in the\n",
              "      current browser session. Please rerun this cell to enable.\n",
              "      </output>\n",
              "      <script src=\"/nbextensions/google.colab/files.js\"></script> "
            ],
            "text/plain": [
              "<IPython.core.display.HTML object>"
            ]
          },
          "metadata": {
            "tags": []
          }
        },
        {
          "output_type": "stream",
          "text": [
            "Saving HW_Data_Set.xlsx to HW_Data_Set.xlsx\n"
          ],
          "name": "stdout"
        }
      ]
    },
    {
      "cell_type": "code",
      "metadata": {
        "id": "Lt6EfHuJXKPk",
        "colab_type": "code",
        "colab": {
          "base_uri": "https://localhost:8080/",
          "height": 253
        },
        "outputId": "39c6e9df-bc7a-4766-d7f8-3727ab4b7ed7"
      },
      "source": [
        "import io\n",
        "from pandas import read_excel\n",
        "df= read_excel('HW_Data_Set.xlsx', sheet_name = 'Sheet1')\n",
        "df=df.copy()\n",
        "df.head()"
      ],
      "execution_count": 4,
      "outputs": [
        {
          "output_type": "execute_result",
          "data": {
            "text/html": [
              "<div>\n",
              "<style scoped>\n",
              "    .dataframe tbody tr th:only-of-type {\n",
              "        vertical-align: middle;\n",
              "    }\n",
              "\n",
              "    .dataframe tbody tr th {\n",
              "        vertical-align: top;\n",
              "    }\n",
              "\n",
              "    .dataframe thead th {\n",
              "        text-align: right;\n",
              "    }\n",
              "</style>\n",
              "<table border=\"1\" class=\"dataframe\">\n",
              "  <thead>\n",
              "    <tr style=\"text-align: right;\">\n",
              "      <th></th>\n",
              "      <th>ind_5</th>\n",
              "      <th>ind_6</th>\n",
              "      <th>ind_8</th>\n",
              "      <th>ind_9</th>\n",
              "      <th>ind_10</th>\n",
              "      <th>ind_12</th>\n",
              "      <th>ind_13</th>\n",
              "      <th>ind_14</th>\n",
              "      <th>ind_15</th>\n",
              "      <th>ind_16</th>\n",
              "      <th>ind_17</th>\n",
              "      <th>ind_18</th>\n",
              "      <th>ind_19</th>\n",
              "      <th>ind_20</th>\n",
              "      <th>ind_21</th>\n",
              "      <th>ind_22</th>\n",
              "      <th>ind_23</th>\n",
              "      <th>ind_25</th>\n",
              "      <th>ind_26</th>\n",
              "      <th>ind_27</th>\n",
              "      <th>ind_28</th>\n",
              "      <th>ind_29</th>\n",
              "      <th>ind_30</th>\n",
              "      <th>ind_31</th>\n",
              "      <th>ind_32</th>\n",
              "      <th>ind_33</th>\n",
              "      <th>ind_34</th>\n",
              "      <th>ind_35</th>\n",
              "      <th>ind_36</th>\n",
              "      <th>ind_37</th>\n",
              "      <th>ind_39</th>\n",
              "      <th>ind_40</th>\n",
              "      <th>ind_41</th>\n",
              "      <th>ind_42</th>\n",
              "      <th>ind_43</th>\n",
              "      <th>ind_44</th>\n",
              "      <th>ind_45</th>\n",
              "      <th>ind_46</th>\n",
              "      <th>ind_47</th>\n",
              "      <th>ind_48</th>\n",
              "      <th>...</th>\n",
              "      <th>ind_311</th>\n",
              "      <th>ind_313</th>\n",
              "      <th>ind_315</th>\n",
              "      <th>ind_316</th>\n",
              "      <th>ind_318</th>\n",
              "      <th>ind_321</th>\n",
              "      <th>ind_324</th>\n",
              "      <th>ind_327</th>\n",
              "      <th>ind_330</th>\n",
              "      <th>ind_332</th>\n",
              "      <th>ind_334</th>\n",
              "      <th>ind_338</th>\n",
              "      <th>ind_340</th>\n",
              "      <th>ind_344</th>\n",
              "      <th>ind_345</th>\n",
              "      <th>ind_347</th>\n",
              "      <th>ind_349</th>\n",
              "      <th>ind_351</th>\n",
              "      <th>ind_352</th>\n",
              "      <th>ind_387</th>\n",
              "      <th>ind_392</th>\n",
              "      <th>ind_397</th>\n",
              "      <th>ind_399</th>\n",
              "      <th>ind_403</th>\n",
              "      <th>ind_404</th>\n",
              "      <th>ind_406</th>\n",
              "      <th>ind_407</th>\n",
              "      <th>ind_410</th>\n",
              "      <th>ind_412</th>\n",
              "      <th>ind_414</th>\n",
              "      <th>ind_416</th>\n",
              "      <th>ind_418</th>\n",
              "      <th>ind_420</th>\n",
              "      <th>ind_422</th>\n",
              "      <th>ind_424</th>\n",
              "      <th>ind_426</th>\n",
              "      <th>ind_428</th>\n",
              "      <th>20_target</th>\n",
              "      <th>50_target</th>\n",
              "      <th>90_target</th>\n",
              "    </tr>\n",
              "  </thead>\n",
              "  <tbody>\n",
              "    <tr>\n",
              "      <th>0</th>\n",
              "      <td>19</td>\n",
              "      <td>17</td>\n",
              "      <td>100.0</td>\n",
              "      <td>85.714286</td>\n",
              "      <td>14.285714</td>\n",
              "      <td>72.363515</td>\n",
              "      <td>60.808814</td>\n",
              "      <td>23.80</td>\n",
              "      <td>17.62</td>\n",
              "      <td>11.73</td>\n",
              "      <td>12.060000</td>\n",
              "      <td>9.1100</td>\n",
              "      <td>2</td>\n",
              "      <td>15</td>\n",
              "      <td>13</td>\n",
              "      <td>1</td>\n",
              "      <td>56</td>\n",
              "      <td>0.002690</td>\n",
              "      <td>-0.002670</td>\n",
              "      <td>0.000010</td>\n",
              "      <td>66.666667</td>\n",
              "      <td>93.692449</td>\n",
              "      <td>146.592674</td>\n",
              "      <td>150.505806</td>\n",
              "      <td>154.486989</td>\n",
              "      <td>158.009516</td>\n",
              "      <td>142.421114</td>\n",
              "      <td>142.023350</td>\n",
              "      <td>196.592517</td>\n",
              "      <td>184.819232</td>\n",
              "      <td>31.939605</td>\n",
              "      <td>3</td>\n",
              "      <td>30.752568</td>\n",
              "      <td>-5</td>\n",
              "      <td>-22</td>\n",
              "      <td>-22</td>\n",
              "      <td>-21</td>\n",
              "      <td>-23</td>\n",
              "      <td>-36</td>\n",
              "      <td>-40</td>\n",
              "      <td>...</td>\n",
              "      <td>97.980028</td>\n",
              "      <td>1.179209</td>\n",
              "      <td>-0.756946</td>\n",
              "      <td>98.905563</td>\n",
              "      <td>1.190348</td>\n",
              "      <td>99.156641</td>\n",
              "      <td>-0.000062</td>\n",
              "      <td>12.056738</td>\n",
              "      <td>-0.157039</td>\n",
              "      <td>20.967742</td>\n",
              "      <td>-0.000091</td>\n",
              "      <td>1.197238</td>\n",
              "      <td>-0.319064</td>\n",
              "      <td>0.0</td>\n",
              "      <td>0.0</td>\n",
              "      <td>0.0</td>\n",
              "      <td>0.0</td>\n",
              "      <td>0.0</td>\n",
              "      <td>0.0</td>\n",
              "      <td>-3.731343</td>\n",
              "      <td>-32.587430</td>\n",
              "      <td>-26.386973</td>\n",
              "      <td>-0.003323</td>\n",
              "      <td>0.045130</td>\n",
              "      <td>-0.044678</td>\n",
              "      <td>-44</td>\n",
              "      <td>-23</td>\n",
              "      <td>-27</td>\n",
              "      <td>0.002371</td>\n",
              "      <td>2.0</td>\n",
              "      <td>-49.6</td>\n",
              "      <td>-54</td>\n",
              "      <td>-152</td>\n",
              "      <td>-353</td>\n",
              "      <td>1.0</td>\n",
              "      <td>0.498547</td>\n",
              "      <td>0.701906</td>\n",
              "      <td>15.135802</td>\n",
              "      <td>35.625252</td>\n",
              "      <td>36.997753</td>\n",
              "    </tr>\n",
              "    <tr>\n",
              "      <th>1</th>\n",
              "      <td>24</td>\n",
              "      <td>19</td>\n",
              "      <td>100.0</td>\n",
              "      <td>78.571429</td>\n",
              "      <td>21.428571</td>\n",
              "      <td>74.275883</td>\n",
              "      <td>64.366798</td>\n",
              "      <td>11.45</td>\n",
              "      <td>18.16</td>\n",
              "      <td>12.22</td>\n",
              "      <td>11.326667</td>\n",
              "      <td>9.2225</td>\n",
              "      <td>0</td>\n",
              "      <td>11</td>\n",
              "      <td>11</td>\n",
              "      <td>1</td>\n",
              "      <td>63</td>\n",
              "      <td>0.002729</td>\n",
              "      <td>-0.003111</td>\n",
              "      <td>-0.000191</td>\n",
              "      <td>66.666667</td>\n",
              "      <td>76.694104</td>\n",
              "      <td>140.227205</td>\n",
              "      <td>156.903278</td>\n",
              "      <td>161.604303</td>\n",
              "      <td>169.720843</td>\n",
              "      <td>152.634492</td>\n",
              "      <td>149.634976</td>\n",
              "      <td>201.738617</td>\n",
              "      <td>191.985663</td>\n",
              "      <td>38.478501</td>\n",
              "      <td>3</td>\n",
              "      <td>36.812130</td>\n",
              "      <td>-6</td>\n",
              "      <td>-18</td>\n",
              "      <td>-24</td>\n",
              "      <td>-24</td>\n",
              "      <td>-25</td>\n",
              "      <td>-38</td>\n",
              "      <td>-43</td>\n",
              "      <td>...</td>\n",
              "      <td>97.932319</td>\n",
              "      <td>1.179223</td>\n",
              "      <td>-0.756569</td>\n",
              "      <td>98.859627</td>\n",
              "      <td>1.190389</td>\n",
              "      <td>99.111914</td>\n",
              "      <td>-0.000062</td>\n",
              "      <td>11.971831</td>\n",
              "      <td>-0.156961</td>\n",
              "      <td>20.800000</td>\n",
              "      <td>-0.000091</td>\n",
              "      <td>1.197328</td>\n",
              "      <td>-0.318905</td>\n",
              "      <td>0.0</td>\n",
              "      <td>0.0</td>\n",
              "      <td>0.0</td>\n",
              "      <td>0.0</td>\n",
              "      <td>0.0</td>\n",
              "      <td>0.0</td>\n",
              "      <td>-1.369863</td>\n",
              "      <td>-38.115965</td>\n",
              "      <td>-26.085949</td>\n",
              "      <td>-0.000476</td>\n",
              "      <td>0.035314</td>\n",
              "      <td>-0.034961</td>\n",
              "      <td>-48</td>\n",
              "      <td>-16</td>\n",
              "      <td>-31</td>\n",
              "      <td>0.003074</td>\n",
              "      <td>0.8</td>\n",
              "      <td>-55.6</td>\n",
              "      <td>-60</td>\n",
              "      <td>-158</td>\n",
              "      <td>-359</td>\n",
              "      <td>1.0</td>\n",
              "      <td>0.537088</td>\n",
              "      <td>0.690833</td>\n",
              "      <td>15.143348</td>\n",
              "      <td>35.643013</td>\n",
              "      <td>37.016198</td>\n",
              "    </tr>\n",
              "    <tr>\n",
              "      <th>2</th>\n",
              "      <td>30</td>\n",
              "      <td>24</td>\n",
              "      <td>100.0</td>\n",
              "      <td>71.428571</td>\n",
              "      <td>28.571429</td>\n",
              "      <td>75.140402</td>\n",
              "      <td>65.915803</td>\n",
              "      <td>8.75</td>\n",
              "      <td>17.86</td>\n",
              "      <td>12.28</td>\n",
              "      <td>10.973333</td>\n",
              "      <td>9.3125</td>\n",
              "      <td>5</td>\n",
              "      <td>15</td>\n",
              "      <td>9</td>\n",
              "      <td>-1</td>\n",
              "      <td>65</td>\n",
              "      <td>0.002780</td>\n",
              "      <td>-0.003530</td>\n",
              "      <td>-0.000375</td>\n",
              "      <td>66.666667</td>\n",
              "      <td>83.909974</td>\n",
              "      <td>117.755945</td>\n",
              "      <td>154.452274</td>\n",
              "      <td>164.015689</td>\n",
              "      <td>175.947530</td>\n",
              "      <td>160.181486</td>\n",
              "      <td>155.527932</td>\n",
              "      <td>205.238017</td>\n",
              "      <td>197.993551</td>\n",
              "      <td>28.917197</td>\n",
              "      <td>3</td>\n",
              "      <td>39.648290</td>\n",
              "      <td>-4</td>\n",
              "      <td>-11</td>\n",
              "      <td>-21</td>\n",
              "      <td>-22</td>\n",
              "      <td>-24</td>\n",
              "      <td>-36</td>\n",
              "      <td>-42</td>\n",
              "      <td>...</td>\n",
              "      <td>97.910664</td>\n",
              "      <td>1.179236</td>\n",
              "      <td>-0.756393</td>\n",
              "      <td>98.839991</td>\n",
              "      <td>1.190429</td>\n",
              "      <td>99.093554</td>\n",
              "      <td>-0.000062</td>\n",
              "      <td>11.888112</td>\n",
              "      <td>-0.156925</td>\n",
              "      <td>20.634921</td>\n",
              "      <td>-0.000091</td>\n",
              "      <td>1.197419</td>\n",
              "      <td>-0.318831</td>\n",
              "      <td>0.0</td>\n",
              "      <td>0.0</td>\n",
              "      <td>0.0</td>\n",
              "      <td>0.0</td>\n",
              "      <td>0.0</td>\n",
              "      <td>0.0</td>\n",
              "      <td>-4.278922</td>\n",
              "      <td>-40.428126</td>\n",
              "      <td>-23.250410</td>\n",
              "      <td>-0.000309</td>\n",
              "      <td>0.005860</td>\n",
              "      <td>-0.005802</td>\n",
              "      <td>-48</td>\n",
              "      <td>-10</td>\n",
              "      <td>-30</td>\n",
              "      <td>0.003561</td>\n",
              "      <td>2.7</td>\n",
              "      <td>-58.4</td>\n",
              "      <td>-60</td>\n",
              "      <td>-160</td>\n",
              "      <td>-362</td>\n",
              "      <td>1.0</td>\n",
              "      <td>0.615169</td>\n",
              "      <td>0.693040</td>\n",
              "      <td>15.146870</td>\n",
              "      <td>35.651301</td>\n",
              "      <td>-37.024805</td>\n",
              "    </tr>\n",
              "    <tr>\n",
              "      <th>3</th>\n",
              "      <td>37</td>\n",
              "      <td>30</td>\n",
              "      <td>100.0</td>\n",
              "      <td>64.285714</td>\n",
              "      <td>35.714286</td>\n",
              "      <td>76.677846</td>\n",
              "      <td>68.584234</td>\n",
              "      <td>7.80</td>\n",
              "      <td>14.76</td>\n",
              "      <td>12.61</td>\n",
              "      <td>10.426667</td>\n",
              "      <td>9.4150</td>\n",
              "      <td>11</td>\n",
              "      <td>18</td>\n",
              "      <td>8</td>\n",
              "      <td>0</td>\n",
              "      <td>68</td>\n",
              "      <td>0.002679</td>\n",
              "      <td>-0.003961</td>\n",
              "      <td>-0.000641</td>\n",
              "      <td>66.666667</td>\n",
              "      <td>98.596644</td>\n",
              "      <td>100.147384</td>\n",
              "      <td>139.695620</td>\n",
              "      <td>158.006863</td>\n",
              "      <td>171.688382</td>\n",
              "      <td>161.192133</td>\n",
              "      <td>156.413230</td>\n",
              "      <td>203.641362</td>\n",
              "      <td>200.370912</td>\n",
              "      <td>31.449631</td>\n",
              "      <td>3</td>\n",
              "      <td>40.902782</td>\n",
              "      <td>-5</td>\n",
              "      <td>-10</td>\n",
              "      <td>-21</td>\n",
              "      <td>-23</td>\n",
              "      <td>-26</td>\n",
              "      <td>-37</td>\n",
              "      <td>-44</td>\n",
              "      <td>...</td>\n",
              "      <td>97.870334</td>\n",
              "      <td>1.179249</td>\n",
              "      <td>-0.756073</td>\n",
              "      <td>98.801500</td>\n",
              "      <td>1.190469</td>\n",
              "      <td>99.056290</td>\n",
              "      <td>-0.000062</td>\n",
              "      <td>11.805556</td>\n",
              "      <td>-0.156858</td>\n",
              "      <td>20.472441</td>\n",
              "      <td>-0.000091</td>\n",
              "      <td>1.197509</td>\n",
              "      <td>-0.318696</td>\n",
              "      <td>0.0</td>\n",
              "      <td>0.0</td>\n",
              "      <td>0.0</td>\n",
              "      <td>0.0</td>\n",
              "      <td>0.0</td>\n",
              "      <td>0.0</td>\n",
              "      <td>-1.355422</td>\n",
              "      <td>-45.019355</td>\n",
              "      <td>-19.499975</td>\n",
              "      <td>0.001137</td>\n",
              "      <td>-0.018252</td>\n",
              "      <td>0.018070</td>\n",
              "      <td>-51</td>\n",
              "      <td>-10</td>\n",
              "      <td>-30</td>\n",
              "      <td>0.004366</td>\n",
              "      <td>0.9</td>\n",
              "      <td>-61.8</td>\n",
              "      <td>-65</td>\n",
              "      <td>-166</td>\n",
              "      <td>-367</td>\n",
              "      <td>1.0</td>\n",
              "      <td>0.661517</td>\n",
              "      <td>0.673418</td>\n",
              "      <td>15.153283</td>\n",
              "      <td>0.000000</td>\n",
              "      <td>-37.040483</td>\n",
              "    </tr>\n",
              "    <tr>\n",
              "      <th>4</th>\n",
              "      <td>41</td>\n",
              "      <td>37</td>\n",
              "      <td>100.0</td>\n",
              "      <td>57.142857</td>\n",
              "      <td>42.857143</td>\n",
              "      <td>81.603007</td>\n",
              "      <td>76.455495</td>\n",
              "      <td>14.90</td>\n",
              "      <td>11.92</td>\n",
              "      <td>14.25</td>\n",
              "      <td>11.406667</td>\n",
              "      <td>9.8925</td>\n",
              "      <td>13</td>\n",
              "      <td>23</td>\n",
              "      <td>10</td>\n",
              "      <td>10</td>\n",
              "      <td>91</td>\n",
              "      <td>0.003986</td>\n",
              "      <td>-0.004624</td>\n",
              "      <td>-0.000319</td>\n",
              "      <td>66.666667</td>\n",
              "      <td>149.283572</td>\n",
              "      <td>124.092409</td>\n",
              "      <td>168.275524</td>\n",
              "      <td>196.846256</td>\n",
              "      <td>208.017747</td>\n",
              "      <td>193.924291</td>\n",
              "      <td>184.995906</td>\n",
              "      <td>227.848369</td>\n",
              "      <td>223.561880</td>\n",
              "      <td>50.406504</td>\n",
              "      <td>2</td>\n",
              "      <td>48.462194</td>\n",
              "      <td>-18</td>\n",
              "      <td>-26</td>\n",
              "      <td>-37</td>\n",
              "      <td>-40</td>\n",
              "      <td>-43</td>\n",
              "      <td>-53</td>\n",
              "      <td>-61</td>\n",
              "      <td>...</td>\n",
              "      <td>97.705214</td>\n",
              "      <td>1.179263</td>\n",
              "      <td>-0.754789</td>\n",
              "      <td>98.637028</td>\n",
              "      <td>1.190509</td>\n",
              "      <td>98.892717</td>\n",
              "      <td>-0.000062</td>\n",
              "      <td>11.724138</td>\n",
              "      <td>-0.156592</td>\n",
              "      <td>20.312500</td>\n",
              "      <td>-0.000091</td>\n",
              "      <td>1.197600</td>\n",
              "      <td>-0.318155</td>\n",
              "      <td>0.0</td>\n",
              "      <td>0.0</td>\n",
              "      <td>0.0</td>\n",
              "      <td>0.0</td>\n",
              "      <td>0.0</td>\n",
              "      <td>0.0</td>\n",
              "      <td>-0.116144</td>\n",
              "      <td>-54.849177</td>\n",
              "      <td>-25.348270</td>\n",
              "      <td>0.001552</td>\n",
              "      <td>-0.007183</td>\n",
              "      <td>0.007111</td>\n",
              "      <td>-70</td>\n",
              "      <td>-24</td>\n",
              "      <td>-45</td>\n",
              "      <td>0.004198</td>\n",
              "      <td>0.1</td>\n",
              "      <td>-79.8</td>\n",
              "      <td>-86</td>\n",
              "      <td>-186</td>\n",
              "      <td>-388</td>\n",
              "      <td>1.0</td>\n",
              "      <td>0.747204</td>\n",
              "      <td>0.700522</td>\n",
              "      <td>-15.179065</td>\n",
              "      <td>-35.727079</td>\n",
              "      <td>-37.103503</td>\n",
              "    </tr>\n",
              "  </tbody>\n",
              "</table>\n",
              "<p>5 rows × 136 columns</p>\n",
              "</div>"
            ],
            "text/plain": [
              "   ind_5  ind_6  ind_8      ind_9  ...   ind_428  20_target  50_target  90_target\n",
              "0     19     17  100.0  85.714286  ...  0.701906  15.135802  35.625252  36.997753\n",
              "1     24     19  100.0  78.571429  ...  0.690833  15.143348  35.643013  37.016198\n",
              "2     30     24  100.0  71.428571  ...  0.693040  15.146870  35.651301 -37.024805\n",
              "3     37     30  100.0  64.285714  ...  0.673418  15.153283   0.000000 -37.040483\n",
              "4     41     37  100.0  57.142857  ...  0.700522 -15.179065 -35.727079 -37.103503\n",
              "\n",
              "[5 rows x 136 columns]"
            ]
          },
          "metadata": {
            "tags": []
          },
          "execution_count": 4
        }
      ]
    },
    {
      "cell_type": "code",
      "metadata": {
        "scrolled": true,
        "id": "hDLY8s5jXKP0",
        "colab_type": "code",
        "colab": {}
      },
      "source": [
        "import numpy as np\n",
        "df=df.replace('?',np.nan)\n",
        "df = df.dropna()"
      ],
      "execution_count": 5,
      "outputs": []
    },
    {
      "cell_type": "code",
      "metadata": {
        "id": "8LkLiWKlXKQI",
        "colab_type": "code",
        "colab": {
          "base_uri": "https://localhost:8080/",
          "height": 204
        },
        "outputId": "3978251e-7dc2-4179-e051-ff0c23072cd9"
      },
      "source": [
        "import pandas as pd\n",
        "dms=pd.get_dummies(df[[\"ind_109\"]])\n",
        "dms.head()"
      ],
      "execution_count": 6,
      "outputs": [
        {
          "output_type": "execute_result",
          "data": {
            "text/html": [
              "<div>\n",
              "<style scoped>\n",
              "    .dataframe tbody tr th:only-of-type {\n",
              "        vertical-align: middle;\n",
              "    }\n",
              "\n",
              "    .dataframe tbody tr th {\n",
              "        vertical-align: top;\n",
              "    }\n",
              "\n",
              "    .dataframe thead th {\n",
              "        text-align: right;\n",
              "    }\n",
              "</style>\n",
              "<table border=\"1\" class=\"dataframe\">\n",
              "  <thead>\n",
              "    <tr style=\"text-align: right;\">\n",
              "      <th></th>\n",
              "      <th>ind_109_GREEN</th>\n",
              "      <th>ind_109_RED</th>\n",
              "    </tr>\n",
              "  </thead>\n",
              "  <tbody>\n",
              "    <tr>\n",
              "      <th>0</th>\n",
              "      <td>1</td>\n",
              "      <td>0</td>\n",
              "    </tr>\n",
              "    <tr>\n",
              "      <th>1</th>\n",
              "      <td>1</td>\n",
              "      <td>0</td>\n",
              "    </tr>\n",
              "    <tr>\n",
              "      <th>2</th>\n",
              "      <td>1</td>\n",
              "      <td>0</td>\n",
              "    </tr>\n",
              "    <tr>\n",
              "      <th>3</th>\n",
              "      <td>1</td>\n",
              "      <td>0</td>\n",
              "    </tr>\n",
              "    <tr>\n",
              "      <th>4</th>\n",
              "      <td>1</td>\n",
              "      <td>0</td>\n",
              "    </tr>\n",
              "  </tbody>\n",
              "</table>\n",
              "</div>"
            ],
            "text/plain": [
              "   ind_109_GREEN  ind_109_RED\n",
              "0              1            0\n",
              "1              1            0\n",
              "2              1            0\n",
              "3              1            0\n",
              "4              1            0"
            ]
          },
          "metadata": {
            "tags": []
          },
          "execution_count": 6
        }
      ]
    },
    {
      "cell_type": "code",
      "metadata": {
        "id": "FbMZRtpUXKQe",
        "colab_type": "code",
        "colab": {
          "base_uri": "https://localhost:8080/",
          "height": 253
        },
        "outputId": "3aa8450b-f634-48c5-d79a-86abe407f32b"
      },
      "source": [
        "y=df[\"90_target\"]\n",
        "X_=df.drop([\"ind_109\",\"50_target\",\"90_target\",\"20_target\"],axis=1).astype('float64')\n",
        "X=pd.concat([X_,dms[[\"ind_109_GREEN\"]]],axis=1)\n",
        "X.head()"
      ],
      "execution_count": 7,
      "outputs": [
        {
          "output_type": "execute_result",
          "data": {
            "text/html": [
              "<div>\n",
              "<style scoped>\n",
              "    .dataframe tbody tr th:only-of-type {\n",
              "        vertical-align: middle;\n",
              "    }\n",
              "\n",
              "    .dataframe tbody tr th {\n",
              "        vertical-align: top;\n",
              "    }\n",
              "\n",
              "    .dataframe thead th {\n",
              "        text-align: right;\n",
              "    }\n",
              "</style>\n",
              "<table border=\"1\" class=\"dataframe\">\n",
              "  <thead>\n",
              "    <tr style=\"text-align: right;\">\n",
              "      <th></th>\n",
              "      <th>ind_5</th>\n",
              "      <th>ind_6</th>\n",
              "      <th>ind_8</th>\n",
              "      <th>ind_9</th>\n",
              "      <th>ind_10</th>\n",
              "      <th>ind_12</th>\n",
              "      <th>ind_13</th>\n",
              "      <th>ind_14</th>\n",
              "      <th>ind_15</th>\n",
              "      <th>ind_16</th>\n",
              "      <th>ind_17</th>\n",
              "      <th>ind_18</th>\n",
              "      <th>ind_19</th>\n",
              "      <th>ind_20</th>\n",
              "      <th>ind_21</th>\n",
              "      <th>ind_22</th>\n",
              "      <th>ind_23</th>\n",
              "      <th>ind_25</th>\n",
              "      <th>ind_26</th>\n",
              "      <th>ind_27</th>\n",
              "      <th>ind_28</th>\n",
              "      <th>ind_29</th>\n",
              "      <th>ind_30</th>\n",
              "      <th>ind_31</th>\n",
              "      <th>ind_32</th>\n",
              "      <th>ind_33</th>\n",
              "      <th>ind_34</th>\n",
              "      <th>ind_35</th>\n",
              "      <th>ind_36</th>\n",
              "      <th>ind_37</th>\n",
              "      <th>ind_39</th>\n",
              "      <th>ind_40</th>\n",
              "      <th>ind_41</th>\n",
              "      <th>ind_42</th>\n",
              "      <th>ind_43</th>\n",
              "      <th>ind_44</th>\n",
              "      <th>ind_45</th>\n",
              "      <th>ind_46</th>\n",
              "      <th>ind_47</th>\n",
              "      <th>ind_48</th>\n",
              "      <th>...</th>\n",
              "      <th>ind_309</th>\n",
              "      <th>ind_310</th>\n",
              "      <th>ind_311</th>\n",
              "      <th>ind_313</th>\n",
              "      <th>ind_315</th>\n",
              "      <th>ind_316</th>\n",
              "      <th>ind_318</th>\n",
              "      <th>ind_321</th>\n",
              "      <th>ind_324</th>\n",
              "      <th>ind_327</th>\n",
              "      <th>ind_330</th>\n",
              "      <th>ind_332</th>\n",
              "      <th>ind_334</th>\n",
              "      <th>ind_338</th>\n",
              "      <th>ind_340</th>\n",
              "      <th>ind_344</th>\n",
              "      <th>ind_345</th>\n",
              "      <th>ind_347</th>\n",
              "      <th>ind_349</th>\n",
              "      <th>ind_351</th>\n",
              "      <th>ind_352</th>\n",
              "      <th>ind_387</th>\n",
              "      <th>ind_392</th>\n",
              "      <th>ind_397</th>\n",
              "      <th>ind_399</th>\n",
              "      <th>ind_403</th>\n",
              "      <th>ind_404</th>\n",
              "      <th>ind_406</th>\n",
              "      <th>ind_407</th>\n",
              "      <th>ind_410</th>\n",
              "      <th>ind_412</th>\n",
              "      <th>ind_414</th>\n",
              "      <th>ind_416</th>\n",
              "      <th>ind_418</th>\n",
              "      <th>ind_420</th>\n",
              "      <th>ind_422</th>\n",
              "      <th>ind_424</th>\n",
              "      <th>ind_426</th>\n",
              "      <th>ind_428</th>\n",
              "      <th>ind_109_GREEN</th>\n",
              "    </tr>\n",
              "  </thead>\n",
              "  <tbody>\n",
              "    <tr>\n",
              "      <th>0</th>\n",
              "      <td>19.0</td>\n",
              "      <td>17.0</td>\n",
              "      <td>100.0</td>\n",
              "      <td>85.714286</td>\n",
              "      <td>14.285714</td>\n",
              "      <td>72.363515</td>\n",
              "      <td>60.808814</td>\n",
              "      <td>23.80</td>\n",
              "      <td>17.62</td>\n",
              "      <td>11.73</td>\n",
              "      <td>12.060000</td>\n",
              "      <td>9.1100</td>\n",
              "      <td>2.0</td>\n",
              "      <td>15.0</td>\n",
              "      <td>13.0</td>\n",
              "      <td>1.0</td>\n",
              "      <td>56.0</td>\n",
              "      <td>0.002690</td>\n",
              "      <td>-0.002670</td>\n",
              "      <td>0.000010</td>\n",
              "      <td>66.666667</td>\n",
              "      <td>93.692449</td>\n",
              "      <td>146.592674</td>\n",
              "      <td>150.505806</td>\n",
              "      <td>154.486989</td>\n",
              "      <td>158.009516</td>\n",
              "      <td>142.421114</td>\n",
              "      <td>142.023350</td>\n",
              "      <td>196.592517</td>\n",
              "      <td>184.819232</td>\n",
              "      <td>31.939605</td>\n",
              "      <td>3.0</td>\n",
              "      <td>30.752568</td>\n",
              "      <td>-5.0</td>\n",
              "      <td>-22.0</td>\n",
              "      <td>-22.0</td>\n",
              "      <td>-21.0</td>\n",
              "      <td>-23.0</td>\n",
              "      <td>-36.0</td>\n",
              "      <td>-40.0</td>\n",
              "      <td>...</td>\n",
              "      <td>-0.000013</td>\n",
              "      <td>-1.524694</td>\n",
              "      <td>97.980028</td>\n",
              "      <td>1.179209</td>\n",
              "      <td>-0.756946</td>\n",
              "      <td>98.905563</td>\n",
              "      <td>1.190348</td>\n",
              "      <td>99.156641</td>\n",
              "      <td>-0.000062</td>\n",
              "      <td>12.056738</td>\n",
              "      <td>-0.157039</td>\n",
              "      <td>20.967742</td>\n",
              "      <td>-0.000091</td>\n",
              "      <td>1.197238</td>\n",
              "      <td>-0.319064</td>\n",
              "      <td>0.0</td>\n",
              "      <td>0.0</td>\n",
              "      <td>0.0</td>\n",
              "      <td>0.0</td>\n",
              "      <td>0.0</td>\n",
              "      <td>0.0</td>\n",
              "      <td>-3.731343</td>\n",
              "      <td>-32.587430</td>\n",
              "      <td>-26.386973</td>\n",
              "      <td>-0.003323</td>\n",
              "      <td>0.045130</td>\n",
              "      <td>-0.044678</td>\n",
              "      <td>-44.0</td>\n",
              "      <td>-23.0</td>\n",
              "      <td>-27.0</td>\n",
              "      <td>0.002371</td>\n",
              "      <td>2.0</td>\n",
              "      <td>-49.6</td>\n",
              "      <td>-54.0</td>\n",
              "      <td>-152.0</td>\n",
              "      <td>-353.0</td>\n",
              "      <td>1.0</td>\n",
              "      <td>0.498547</td>\n",
              "      <td>0.701906</td>\n",
              "      <td>1</td>\n",
              "    </tr>\n",
              "    <tr>\n",
              "      <th>1</th>\n",
              "      <td>24.0</td>\n",
              "      <td>19.0</td>\n",
              "      <td>100.0</td>\n",
              "      <td>78.571429</td>\n",
              "      <td>21.428571</td>\n",
              "      <td>74.275883</td>\n",
              "      <td>64.366798</td>\n",
              "      <td>11.45</td>\n",
              "      <td>18.16</td>\n",
              "      <td>12.22</td>\n",
              "      <td>11.326667</td>\n",
              "      <td>9.2225</td>\n",
              "      <td>0.0</td>\n",
              "      <td>11.0</td>\n",
              "      <td>11.0</td>\n",
              "      <td>1.0</td>\n",
              "      <td>63.0</td>\n",
              "      <td>0.002729</td>\n",
              "      <td>-0.003111</td>\n",
              "      <td>-0.000191</td>\n",
              "      <td>66.666667</td>\n",
              "      <td>76.694104</td>\n",
              "      <td>140.227205</td>\n",
              "      <td>156.903278</td>\n",
              "      <td>161.604303</td>\n",
              "      <td>169.720843</td>\n",
              "      <td>152.634492</td>\n",
              "      <td>149.634976</td>\n",
              "      <td>201.738617</td>\n",
              "      <td>191.985663</td>\n",
              "      <td>38.478501</td>\n",
              "      <td>3.0</td>\n",
              "      <td>36.812130</td>\n",
              "      <td>-6.0</td>\n",
              "      <td>-18.0</td>\n",
              "      <td>-24.0</td>\n",
              "      <td>-24.0</td>\n",
              "      <td>-25.0</td>\n",
              "      <td>-38.0</td>\n",
              "      <td>-43.0</td>\n",
              "      <td>...</td>\n",
              "      <td>-0.000013</td>\n",
              "      <td>-1.523934</td>\n",
              "      <td>97.932319</td>\n",
              "      <td>1.179223</td>\n",
              "      <td>-0.756569</td>\n",
              "      <td>98.859627</td>\n",
              "      <td>1.190389</td>\n",
              "      <td>99.111914</td>\n",
              "      <td>-0.000062</td>\n",
              "      <td>11.971831</td>\n",
              "      <td>-0.156961</td>\n",
              "      <td>20.800000</td>\n",
              "      <td>-0.000091</td>\n",
              "      <td>1.197328</td>\n",
              "      <td>-0.318905</td>\n",
              "      <td>0.0</td>\n",
              "      <td>0.0</td>\n",
              "      <td>0.0</td>\n",
              "      <td>0.0</td>\n",
              "      <td>0.0</td>\n",
              "      <td>0.0</td>\n",
              "      <td>-1.369863</td>\n",
              "      <td>-38.115965</td>\n",
              "      <td>-26.085949</td>\n",
              "      <td>-0.000476</td>\n",
              "      <td>0.035314</td>\n",
              "      <td>-0.034961</td>\n",
              "      <td>-48.0</td>\n",
              "      <td>-16.0</td>\n",
              "      <td>-31.0</td>\n",
              "      <td>0.003074</td>\n",
              "      <td>0.8</td>\n",
              "      <td>-55.6</td>\n",
              "      <td>-60.0</td>\n",
              "      <td>-158.0</td>\n",
              "      <td>-359.0</td>\n",
              "      <td>1.0</td>\n",
              "      <td>0.537088</td>\n",
              "      <td>0.690833</td>\n",
              "      <td>1</td>\n",
              "    </tr>\n",
              "    <tr>\n",
              "      <th>2</th>\n",
              "      <td>30.0</td>\n",
              "      <td>24.0</td>\n",
              "      <td>100.0</td>\n",
              "      <td>71.428571</td>\n",
              "      <td>28.571429</td>\n",
              "      <td>75.140402</td>\n",
              "      <td>65.915803</td>\n",
              "      <td>8.75</td>\n",
              "      <td>17.86</td>\n",
              "      <td>12.28</td>\n",
              "      <td>10.973333</td>\n",
              "      <td>9.3125</td>\n",
              "      <td>5.0</td>\n",
              "      <td>15.0</td>\n",
              "      <td>9.0</td>\n",
              "      <td>-1.0</td>\n",
              "      <td>65.0</td>\n",
              "      <td>0.002780</td>\n",
              "      <td>-0.003530</td>\n",
              "      <td>-0.000375</td>\n",
              "      <td>66.666667</td>\n",
              "      <td>83.909974</td>\n",
              "      <td>117.755945</td>\n",
              "      <td>154.452274</td>\n",
              "      <td>164.015689</td>\n",
              "      <td>175.947530</td>\n",
              "      <td>160.181486</td>\n",
              "      <td>155.527932</td>\n",
              "      <td>205.238017</td>\n",
              "      <td>197.993551</td>\n",
              "      <td>28.917197</td>\n",
              "      <td>3.0</td>\n",
              "      <td>39.648290</td>\n",
              "      <td>-4.0</td>\n",
              "      <td>-11.0</td>\n",
              "      <td>-21.0</td>\n",
              "      <td>-22.0</td>\n",
              "      <td>-24.0</td>\n",
              "      <td>-36.0</td>\n",
              "      <td>-42.0</td>\n",
              "      <td>...</td>\n",
              "      <td>-0.000013</td>\n",
              "      <td>-1.523580</td>\n",
              "      <td>97.910664</td>\n",
              "      <td>1.179236</td>\n",
              "      <td>-0.756393</td>\n",
              "      <td>98.839991</td>\n",
              "      <td>1.190429</td>\n",
              "      <td>99.093554</td>\n",
              "      <td>-0.000062</td>\n",
              "      <td>11.888112</td>\n",
              "      <td>-0.156925</td>\n",
              "      <td>20.634921</td>\n",
              "      <td>-0.000091</td>\n",
              "      <td>1.197419</td>\n",
              "      <td>-0.318831</td>\n",
              "      <td>0.0</td>\n",
              "      <td>0.0</td>\n",
              "      <td>0.0</td>\n",
              "      <td>0.0</td>\n",
              "      <td>0.0</td>\n",
              "      <td>0.0</td>\n",
              "      <td>-4.278922</td>\n",
              "      <td>-40.428126</td>\n",
              "      <td>-23.250410</td>\n",
              "      <td>-0.000309</td>\n",
              "      <td>0.005860</td>\n",
              "      <td>-0.005802</td>\n",
              "      <td>-48.0</td>\n",
              "      <td>-10.0</td>\n",
              "      <td>-30.0</td>\n",
              "      <td>0.003561</td>\n",
              "      <td>2.7</td>\n",
              "      <td>-58.4</td>\n",
              "      <td>-60.0</td>\n",
              "      <td>-160.0</td>\n",
              "      <td>-362.0</td>\n",
              "      <td>1.0</td>\n",
              "      <td>0.615169</td>\n",
              "      <td>0.693040</td>\n",
              "      <td>1</td>\n",
              "    </tr>\n",
              "    <tr>\n",
              "      <th>3</th>\n",
              "      <td>37.0</td>\n",
              "      <td>30.0</td>\n",
              "      <td>100.0</td>\n",
              "      <td>64.285714</td>\n",
              "      <td>35.714286</td>\n",
              "      <td>76.677846</td>\n",
              "      <td>68.584234</td>\n",
              "      <td>7.80</td>\n",
              "      <td>14.76</td>\n",
              "      <td>12.61</td>\n",
              "      <td>10.426667</td>\n",
              "      <td>9.4150</td>\n",
              "      <td>11.0</td>\n",
              "      <td>18.0</td>\n",
              "      <td>8.0</td>\n",
              "      <td>0.0</td>\n",
              "      <td>68.0</td>\n",
              "      <td>0.002679</td>\n",
              "      <td>-0.003961</td>\n",
              "      <td>-0.000641</td>\n",
              "      <td>66.666667</td>\n",
              "      <td>98.596644</td>\n",
              "      <td>100.147384</td>\n",
              "      <td>139.695620</td>\n",
              "      <td>158.006863</td>\n",
              "      <td>171.688382</td>\n",
              "      <td>161.192133</td>\n",
              "      <td>156.413230</td>\n",
              "      <td>203.641362</td>\n",
              "      <td>200.370912</td>\n",
              "      <td>31.449631</td>\n",
              "      <td>3.0</td>\n",
              "      <td>40.902782</td>\n",
              "      <td>-5.0</td>\n",
              "      <td>-10.0</td>\n",
              "      <td>-21.0</td>\n",
              "      <td>-23.0</td>\n",
              "      <td>-26.0</td>\n",
              "      <td>-37.0</td>\n",
              "      <td>-44.0</td>\n",
              "      <td>...</td>\n",
              "      <td>-0.000013</td>\n",
              "      <td>-1.522935</td>\n",
              "      <td>97.870334</td>\n",
              "      <td>1.179249</td>\n",
              "      <td>-0.756073</td>\n",
              "      <td>98.801500</td>\n",
              "      <td>1.190469</td>\n",
              "      <td>99.056290</td>\n",
              "      <td>-0.000062</td>\n",
              "      <td>11.805556</td>\n",
              "      <td>-0.156858</td>\n",
              "      <td>20.472441</td>\n",
              "      <td>-0.000091</td>\n",
              "      <td>1.197509</td>\n",
              "      <td>-0.318696</td>\n",
              "      <td>0.0</td>\n",
              "      <td>0.0</td>\n",
              "      <td>0.0</td>\n",
              "      <td>0.0</td>\n",
              "      <td>0.0</td>\n",
              "      <td>0.0</td>\n",
              "      <td>-1.355422</td>\n",
              "      <td>-45.019355</td>\n",
              "      <td>-19.499975</td>\n",
              "      <td>0.001137</td>\n",
              "      <td>-0.018252</td>\n",
              "      <td>0.018070</td>\n",
              "      <td>-51.0</td>\n",
              "      <td>-10.0</td>\n",
              "      <td>-30.0</td>\n",
              "      <td>0.004366</td>\n",
              "      <td>0.9</td>\n",
              "      <td>-61.8</td>\n",
              "      <td>-65.0</td>\n",
              "      <td>-166.0</td>\n",
              "      <td>-367.0</td>\n",
              "      <td>1.0</td>\n",
              "      <td>0.661517</td>\n",
              "      <td>0.673418</td>\n",
              "      <td>1</td>\n",
              "    </tr>\n",
              "    <tr>\n",
              "      <th>4</th>\n",
              "      <td>41.0</td>\n",
              "      <td>37.0</td>\n",
              "      <td>100.0</td>\n",
              "      <td>57.142857</td>\n",
              "      <td>42.857143</td>\n",
              "      <td>81.603007</td>\n",
              "      <td>76.455495</td>\n",
              "      <td>14.90</td>\n",
              "      <td>11.92</td>\n",
              "      <td>14.25</td>\n",
              "      <td>11.406667</td>\n",
              "      <td>9.8925</td>\n",
              "      <td>13.0</td>\n",
              "      <td>23.0</td>\n",
              "      <td>10.0</td>\n",
              "      <td>10.0</td>\n",
              "      <td>91.0</td>\n",
              "      <td>0.003986</td>\n",
              "      <td>-0.004624</td>\n",
              "      <td>-0.000319</td>\n",
              "      <td>66.666667</td>\n",
              "      <td>149.283572</td>\n",
              "      <td>124.092409</td>\n",
              "      <td>168.275524</td>\n",
              "      <td>196.846256</td>\n",
              "      <td>208.017747</td>\n",
              "      <td>193.924291</td>\n",
              "      <td>184.995906</td>\n",
              "      <td>227.848369</td>\n",
              "      <td>223.561880</td>\n",
              "      <td>50.406504</td>\n",
              "      <td>2.0</td>\n",
              "      <td>48.462194</td>\n",
              "      <td>-18.0</td>\n",
              "      <td>-26.0</td>\n",
              "      <td>-37.0</td>\n",
              "      <td>-40.0</td>\n",
              "      <td>-43.0</td>\n",
              "      <td>-53.0</td>\n",
              "      <td>-61.0</td>\n",
              "      <td>...</td>\n",
              "      <td>-0.000013</td>\n",
              "      <td>-1.520349</td>\n",
              "      <td>97.705214</td>\n",
              "      <td>1.179263</td>\n",
              "      <td>-0.754789</td>\n",
              "      <td>98.637028</td>\n",
              "      <td>1.190509</td>\n",
              "      <td>98.892717</td>\n",
              "      <td>-0.000062</td>\n",
              "      <td>11.724138</td>\n",
              "      <td>-0.156592</td>\n",
              "      <td>20.312500</td>\n",
              "      <td>-0.000091</td>\n",
              "      <td>1.197600</td>\n",
              "      <td>-0.318155</td>\n",
              "      <td>0.0</td>\n",
              "      <td>0.0</td>\n",
              "      <td>0.0</td>\n",
              "      <td>0.0</td>\n",
              "      <td>0.0</td>\n",
              "      <td>0.0</td>\n",
              "      <td>-0.116144</td>\n",
              "      <td>-54.849177</td>\n",
              "      <td>-25.348270</td>\n",
              "      <td>0.001552</td>\n",
              "      <td>-0.007183</td>\n",
              "      <td>0.007111</td>\n",
              "      <td>-70.0</td>\n",
              "      <td>-24.0</td>\n",
              "      <td>-45.0</td>\n",
              "      <td>0.004198</td>\n",
              "      <td>0.1</td>\n",
              "      <td>-79.8</td>\n",
              "      <td>-86.0</td>\n",
              "      <td>-186.0</td>\n",
              "      <td>-388.0</td>\n",
              "      <td>1.0</td>\n",
              "      <td>0.747204</td>\n",
              "      <td>0.700522</td>\n",
              "      <td>1</td>\n",
              "    </tr>\n",
              "  </tbody>\n",
              "</table>\n",
              "<p>5 rows × 133 columns</p>\n",
              "</div>"
            ],
            "text/plain": [
              "   ind_5  ind_6  ind_8      ind_9  ...  ind_424   ind_426   ind_428  ind_109_GREEN\n",
              "0   19.0   17.0  100.0  85.714286  ...      1.0  0.498547  0.701906              1\n",
              "1   24.0   19.0  100.0  78.571429  ...      1.0  0.537088  0.690833              1\n",
              "2   30.0   24.0  100.0  71.428571  ...      1.0  0.615169  0.693040              1\n",
              "3   37.0   30.0  100.0  64.285714  ...      1.0  0.661517  0.673418              1\n",
              "4   41.0   37.0  100.0  57.142857  ...      1.0  0.747204  0.700522              1\n",
              "\n",
              "[5 rows x 133 columns]"
            ]
          },
          "metadata": {
            "tags": []
          },
          "execution_count": 7
        }
      ]
    },
    {
      "cell_type": "code",
      "metadata": {
        "id": "OeM6neiaYpWM",
        "colab_type": "code",
        "colab": {
          "base_uri": "https://localhost:8080/",
          "height": 102
        },
        "outputId": "6b3b172d-7e84-40f2-a2ec-476f82ca094b"
      },
      "source": [
        "X.info()"
      ],
      "execution_count": null,
      "outputs": [
        {
          "output_type": "stream",
          "text": [
            "<class 'pandas.core.frame.DataFrame'>\n",
            "Int64Index: 5126 entries, 0 to 6166\n",
            "Columns: 133 entries, ind_5 to ind_109_GREEN\n",
            "dtypes: float64(132), uint8(1)\n",
            "memory usage: 5.2 MB\n"
          ],
          "name": "stdout"
        }
      ]
    },
    {
      "cell_type": "code",
      "metadata": {
        "id": "J9l4_rL6XKQ2",
        "colab_type": "code",
        "colab": {}
      },
      "source": [
        "X_train,X_test,y_train,y_test=train_test_split(X,y,test_size=0.25, random_state=42)"
      ],
      "execution_count": 8,
      "outputs": []
    },
    {
      "cell_type": "code",
      "metadata": {
        "id": "BA1S_Nu_XKRF",
        "colab_type": "code",
        "colab": {}
      },
      "source": [
        ""
      ],
      "execution_count": null,
      "outputs": []
    },
    {
      "cell_type": "code",
      "metadata": {
        "id": "duT8ZesjXKRa",
        "colab_type": "code",
        "colab": {}
      },
      "source": [
        "cart_model=DecisionTreeRegressor()"
      ],
      "execution_count": 9,
      "outputs": []
    },
    {
      "cell_type": "code",
      "metadata": {
        "id": "pQpt1ZnEXKRo",
        "colab_type": "code",
        "colab": {
          "base_uri": "https://localhost:8080/",
          "height": 119
        },
        "outputId": "390e9a7f-cc93-4a63-e81e-5c5121118afd"
      },
      "source": [
        "cart_model.fit(X_train,y_train)"
      ],
      "execution_count": 10,
      "outputs": [
        {
          "output_type": "execute_result",
          "data": {
            "text/plain": [
              "DecisionTreeRegressor(ccp_alpha=0.0, criterion='mse', max_depth=None,\n",
              "                      max_features=None, max_leaf_nodes=None,\n",
              "                      min_impurity_decrease=0.0, min_impurity_split=None,\n",
              "                      min_samples_leaf=1, min_samples_split=2,\n",
              "                      min_weight_fraction_leaf=0.0, presort='deprecated',\n",
              "                      random_state=None, splitter='best')"
            ]
          },
          "metadata": {
            "tags": []
          },
          "execution_count": 10
        }
      ]
    },
    {
      "cell_type": "code",
      "metadata": {
        "id": "36wlkVzeXKR6",
        "colab_type": "code",
        "colab": {}
      },
      "source": [
        "y_pred=cart_model.predict(X_test)"
      ],
      "execution_count": 11,
      "outputs": []
    },
    {
      "cell_type": "code",
      "metadata": {
        "id": "nZ-m7FheXKSG",
        "colab_type": "code",
        "colab": {
          "base_uri": "https://localhost:8080/",
          "height": 34
        },
        "outputId": "5581cee6-ae1c-4903-c70f-eb29192ec864"
      },
      "source": [
        "np.sqrt(mean_squared_error(y_test,y_pred))"
      ],
      "execution_count": 12,
      "outputs": [
        {
          "output_type": "execute_result",
          "data": {
            "text/plain": [
              "21.793844927563015"
            ]
          },
          "metadata": {
            "tags": []
          },
          "execution_count": 12
        }
      ]
    },
    {
      "cell_type": "code",
      "metadata": {
        "id": "mQ-RVdBiXKSQ",
        "colab_type": "code",
        "colab": {
          "base_uri": "https://localhost:8080/",
          "height": 34
        },
        "outputId": "a81c4c47-4b59-4890-c1ab-20371e07abee"
      },
      "source": [
        "r2_DT=r2_score(y_test,y_pred)\n",
        "r2_DT"
      ],
      "execution_count": 13,
      "outputs": [
        {
          "output_type": "execute_result",
          "data": {
            "text/plain": [
              "0.649656297612133"
            ]
          },
          "metadata": {
            "tags": []
          },
          "execution_count": 13
        }
      ]
    },
    {
      "cell_type": "markdown",
      "metadata": {
        "id": "RDP6qZAQXKSh",
        "colab_type": "text"
      },
      "source": [
        "## Model Tuning"
      ]
    },
    {
      "cell_type": "code",
      "metadata": {
        "id": "NeBbFpp-XKSk",
        "colab_type": "code",
        "colab": {}
      },
      "source": [
        "cart_params={\"min_samples_split\":[100,150,200],\n",
        "            \"min_samples_leaf\":[100,150,200],\n",
        "            \"max_leaf_nodes\":range(5,10),\n",
        "            \"max_depth\":range(1,10)}"
      ],
      "execution_count": 14,
      "outputs": []
    },
    {
      "cell_type": "code",
      "metadata": {
        "id": "bGljCo0hXKSv",
        "colab_type": "code",
        "colab": {}
      },
      "source": [
        "cart_cv_model=GridSearchCV(cart_model,cart_params,cv=10,n_jobs=-1,verbose=2)"
      ],
      "execution_count": 15,
      "outputs": []
    },
    {
      "cell_type": "code",
      "metadata": {
        "id": "KdXUMbVXXKS5",
        "colab_type": "code",
        "colab": {
          "base_uri": "https://localhost:8080/",
          "height": 476
        },
        "outputId": "17910a60-1eb8-4965-8291-60cd9894a75a"
      },
      "source": [
        "cart_cv_model.fit(X_train,y_train)"
      ],
      "execution_count": null,
      "outputs": [
        {
          "output_type": "stream",
          "text": [
            "Fitting 10 folds for each of 405 candidates, totalling 4050 fits\n"
          ],
          "name": "stdout"
        },
        {
          "output_type": "stream",
          "text": [
            "[Parallel(n_jobs=-1)]: Using backend LokyBackend with 2 concurrent workers.\n",
            "[Parallel(n_jobs=-1)]: Done  80 tasks      | elapsed:    3.9s\n",
            "[Parallel(n_jobs=-1)]: Done 564 tasks      | elapsed:   21.2s\n",
            "[Parallel(n_jobs=-1)]: Done 1376 tasks      | elapsed:  1.2min\n",
            "[Parallel(n_jobs=-1)]: Done 2508 tasks      | elapsed:  3.0min\n",
            "[Parallel(n_jobs=-1)]: Done 3968 tasks      | elapsed:  5.4min\n",
            "[Parallel(n_jobs=-1)]: Done 4050 out of 4050 | elapsed:  5.5min finished\n"
          ],
          "name": "stderr"
        },
        {
          "output_type": "execute_result",
          "data": {
            "text/plain": [
              "GridSearchCV(cv=10, error_score=nan,\n",
              "             estimator=DecisionTreeRegressor(ccp_alpha=0.0, criterion='mse',\n",
              "                                             max_depth=None, max_features=None,\n",
              "                                             max_leaf_nodes=None,\n",
              "                                             min_impurity_decrease=0.0,\n",
              "                                             min_impurity_split=None,\n",
              "                                             min_samples_leaf=1,\n",
              "                                             min_samples_split=2,\n",
              "                                             min_weight_fraction_leaf=0.0,\n",
              "                                             presort='deprecated',\n",
              "                                             random_state=None,\n",
              "                                             splitter='best'),\n",
              "             iid='deprecated', n_jobs=-1,\n",
              "             param_grid={'max_depth': range(1, 10),\n",
              "                         'max_leaf_nodes': range(5, 10),\n",
              "                         'min_samples_leaf': [100, 150, 200],\n",
              "                         'min_samples_split': [100, 150, 200]},\n",
              "             pre_dispatch='2*n_jobs', refit=True, return_train_score=False,\n",
              "             scoring=None, verbose=2)"
            ]
          },
          "metadata": {
            "tags": []
          },
          "execution_count": 28
        }
      ]
    },
    {
      "cell_type": "code",
      "metadata": {
        "id": "2j34K0uzXKTG",
        "colab_type": "code",
        "colab": {
          "base_uri": "https://localhost:8080/",
          "height": 34
        },
        "outputId": "8ae2d29f-e80f-43db-832c-f5862e05e15f"
      },
      "source": [
        "print(\"en iyi parametreler\"+ str(cart_cv_model.best_params_))"
      ],
      "execution_count": null,
      "outputs": [
        {
          "output_type": "stream",
          "text": [
            "en iyi parametreler{'max_depth': 8, 'max_leaf_nodes': 9, 'min_samples_leaf': 100, 'min_samples_split': 100}\n"
          ],
          "name": "stdout"
        }
      ]
    },
    {
      "cell_type": "code",
      "metadata": {
        "id": "GCRDpEQsXKTQ",
        "colab_type": "code",
        "colab": {}
      },
      "source": [
        "cart_tuned=DecisionTreeRegressor(max_depth=8, max_leaf_nodes= 9, min_samples_leaf= 100,min_samples_split= 100,random_state=42)"
      ],
      "execution_count": 16,
      "outputs": []
    },
    {
      "cell_type": "code",
      "metadata": {
        "id": "eW0pf88kXKTb",
        "colab_type": "code",
        "colab": {
          "base_uri": "https://localhost:8080/",
          "height": 119
        },
        "outputId": "261f1cec-32d1-4547-fdf6-f3071d624526"
      },
      "source": [
        "cart_tuned.fit(X_train,y_train)"
      ],
      "execution_count": 17,
      "outputs": [
        {
          "output_type": "execute_result",
          "data": {
            "text/plain": [
              "DecisionTreeRegressor(ccp_alpha=0.0, criterion='mse', max_depth=8,\n",
              "                      max_features=None, max_leaf_nodes=9,\n",
              "                      min_impurity_decrease=0.0, min_impurity_split=None,\n",
              "                      min_samples_leaf=100, min_samples_split=100,\n",
              "                      min_weight_fraction_leaf=0.0, presort='deprecated',\n",
              "                      random_state=42, splitter='best')"
            ]
          },
          "metadata": {
            "tags": []
          },
          "execution_count": 17
        }
      ]
    },
    {
      "cell_type": "code",
      "metadata": {
        "id": "JcqidhSLXKTw",
        "colab_type": "code",
        "colab": {
          "base_uri": "https://localhost:8080/",
          "height": 34
        },
        "outputId": "4398301a-3383-43ca-fc1f-88d1cc4a27f0"
      },
      "source": [
        "\n",
        "y_pred=cart_tuned.predict(X_test)\n",
        "np.sqrt(mean_squared_error(y_test,y_pred))"
      ],
      "execution_count": 18,
      "outputs": [
        {
          "output_type": "execute_result",
          "data": {
            "text/plain": [
              "32.80109419759"
            ]
          },
          "metadata": {
            "tags": []
          },
          "execution_count": 18
        }
      ]
    },
    {
      "cell_type": "code",
      "metadata": {
        "id": "Ot-oLwODXKUB",
        "colab_type": "code",
        "colab": {
          "base_uri": "https://localhost:8080/",
          "height": 864
        },
        "outputId": "4e8967e4-616e-418c-800b-9b3720c6c158"
      },
      "source": [
        "import matplotlib.pyplot as plt\n",
        "plt.figure(figsize=(12,10))\n",
        "tree.plot_tree(cart_tuned)"
      ],
      "execution_count": 19,
      "outputs": [
        {
          "output_type": "execute_result",
          "data": {
            "text/plain": [
              "[Text(460.35, 498.3, 'X[54] <= 11.5\\nmse = 1338.71\\nsamples = 3844\\nvalue = -4.451'),\n",
              " Text(404.55, 407.70000000000005, 'X[92] <= 1.239\\nmse = 1275.643\\nsamples = 3077\\nvalue = -8.791'),\n",
              " Text(251.10000000000002, 317.1, 'X[90] <= 0.0\\nmse = 1306.03\\nsamples = 2539\\nvalue = -5.499'),\n",
              " Text(111.60000000000001, 226.5, 'X[96] <= 1.19\\nmse = 1117.511\\nsamples = 1001\\nvalue = -15.036'),\n",
              " Text(55.800000000000004, 135.89999999999998, 'mse = 1291.084\\nsamples = 527\\nvalue = -5.325'),\n",
              " Text(167.4, 135.89999999999998, 'mse = 703.109\\nsamples = 474\\nvalue = -25.833'),\n",
              " Text(390.6, 226.5, 'X[87] <= 1.237\\nmse = 1331.014\\nsamples = 1538\\nvalue = 0.707'),\n",
              " Text(279.0, 135.89999999999998, 'X[42] <= 82.5\\nmse = 1244.041\\nsamples = 754\\nvalue = -8.368'),\n",
              " Text(223.20000000000002, 45.299999999999955, 'mse = 1151.212\\nsamples = 651\\nvalue = -12.931'),\n",
              " Text(334.8, 45.299999999999955, 'mse = 867.81\\nsamples = 103\\nvalue = 20.466'),\n",
              " Text(502.20000000000005, 135.89999999999998, 'X[87] <= 1.245\\nmse = 1259.251\\nsamples = 784\\nvalue = 9.436'),\n",
              " Text(446.40000000000003, 45.299999999999955, 'mse = 959.249\\nsamples = 566\\nvalue = 20.76'),\n",
              " Text(558.0, 45.299999999999955, 'mse = 840.856\\nsamples = 218\\nvalue = -19.964'),\n",
              " Text(558.0, 317.1, 'X[97] <= -1.548\\nmse = 839.843\\nsamples = 538\\nvalue = -24.324'),\n",
              " Text(502.20000000000005, 226.5, 'mse = 1404.827\\nsamples = 189\\nvalue = -5.433'),\n",
              " Text(613.8000000000001, 226.5, 'mse = 235.965\\nsamples = 349\\nvalue = -34.554'),\n",
              " Text(516.1500000000001, 407.70000000000005, 'mse = 1213.068\\nsamples = 767\\nvalue = 12.959')]"
            ]
          },
          "metadata": {
            "tags": []
          },
          "execution_count": 19
        },
        {
          "output_type": "display_data",
          "data": {
            "image/png": "[encoded data removed]",
            "text/plain": [
              "<Figure size 864x720 with 1 Axes>"
            ]
          },
          "metadata": {
            "tags": [],
            "needs_background": "light"
          }
        }
      ]
    },
    {
      "cell_type": "code",
      "metadata": {
        "id": "QkO3VfudXKUS",
        "colab_type": "code",
        "colab": {
          "base_uri": "https://localhost:8080/",
          "height": 34
        },
        "outputId": "87b7a39e-f422-401b-80ff-77d25c61655d"
      },
      "source": [
        "r2_DT_tuned=r2_score(y_test,y_pred)\n",
        "r2_DT_tuned"
      ],
      "execution_count": 20,
      "outputs": [
        {
          "output_type": "execute_result",
          "data": {
            "text/plain": [
              "0.20639706510175182"
            ]
          },
          "metadata": {
            "tags": []
          },
          "execution_count": 20
        }
      ]
    },
    {
      "cell_type": "markdown",
      "metadata": {
        "id": "Bm6G5QXfXKUh",
        "colab_type": "text"
      },
      "source": [
        "# RANDOM FOREST"
      ]
    },
    {
      "cell_type": "code",
      "metadata": {
        "id": "mxzK56QsXKV7",
        "colab_type": "code",
        "colab": {}
      },
      "source": [
        "from sklearn.ensemble import RandomForestRegressor"
      ],
      "execution_count": 21,
      "outputs": []
    },
    {
      "cell_type": "code",
      "metadata": {
        "id": "i9dXJV-mXKWO",
        "colab_type": "code",
        "colab": {}
      },
      "source": [
        "rf_model=RandomForestRegressor(random_state=42)"
      ],
      "execution_count": 22,
      "outputs": []
    },
    {
      "cell_type": "code",
      "metadata": {
        "id": "JU4wATpAXKWe",
        "colab_type": "code",
        "colab": {
          "base_uri": "https://localhost:8080/",
          "height": 136
        },
        "outputId": "819a7398-4a4f-402c-9a66-5370fdedaceb"
      },
      "source": [
        "rf_model.fit(X_train,y_train)"
      ],
      "execution_count": 23,
      "outputs": [
        {
          "output_type": "execute_result",
          "data": {
            "text/plain": [
              "RandomForestRegressor(bootstrap=True, ccp_alpha=0.0, criterion='mse',\n",
              "                      max_depth=None, max_features='auto', max_leaf_nodes=None,\n",
              "                      max_samples=None, min_impurity_decrease=0.0,\n",
              "                      min_impurity_split=None, min_samples_leaf=1,\n",
              "                      min_samples_split=2, min_weight_fraction_leaf=0.0,\n",
              "                      n_estimators=100, n_jobs=None, oob_score=False,\n",
              "                      random_state=42, verbose=0, warm_start=False)"
            ]
          },
          "metadata": {
            "tags": []
          },
          "execution_count": 23
        }
      ]
    },
    {
      "cell_type": "markdown",
      "metadata": {
        "id": "NOdsfmKAXKW5",
        "colab_type": "text"
      },
      "source": [
        "## Prediction"
      ]
    },
    {
      "cell_type": "code",
      "metadata": {
        "id": "suGj3QduXKW8",
        "colab_type": "code",
        "colab": {
          "base_uri": "https://localhost:8080/",
          "height": 51
        },
        "outputId": "8e2abbcc-ca9e-41aa-ac46-1baafa80ffe3"
      },
      "source": [
        "rf_model.predict(X_test)[0:5]"
      ],
      "execution_count": 24,
      "outputs": [
        {
          "output_type": "execute_result",
          "data": {
            "text/plain": [
              "array([ 30.3645684 , -36.86739676, -29.59755662,  35.26185994,\n",
              "        36.75555936])"
            ]
          },
          "metadata": {
            "tags": []
          },
          "execution_count": 24
        }
      ]
    },
    {
      "cell_type": "code",
      "metadata": {
        "id": "HlO_zXMdXKXL",
        "colab_type": "code",
        "colab": {
          "base_uri": "https://localhost:8080/",
          "height": 34
        },
        "outputId": "09d67967-e0cc-400b-e6c7-cbf081beaf2a"
      },
      "source": [
        "y_pred=rf_model.predict(X_test)\n",
        "np.sqrt(mean_squared_error(y_test,y_pred))"
      ],
      "execution_count": 25,
      "outputs": [
        {
          "output_type": "execute_result",
          "data": {
            "text/plain": [
              "15.241884598832966"
            ]
          },
          "metadata": {
            "tags": []
          },
          "execution_count": 25
        }
      ]
    },
    {
      "cell_type": "code",
      "metadata": {
        "id": "empdiOG-XKXX",
        "colab_type": "code",
        "colab": {
          "base_uri": "https://localhost:8080/",
          "height": 34
        },
        "outputId": "a0d7007d-7deb-436b-f413-9b7cbea1cf99"
      },
      "source": [
        "r2_RF=r2_score(y_test,y_pred)\n",
        "r2_RF"
      ],
      "execution_count": 26,
      "outputs": [
        {
          "output_type": "execute_result",
          "data": {
            "text/plain": [
              "0.8286421751704195"
            ]
          },
          "metadata": {
            "tags": []
          },
          "execution_count": 26
        }
      ]
    },
    {
      "cell_type": "markdown",
      "metadata": {
        "id": "DdhHCxYMXKXk",
        "colab_type": "text"
      },
      "source": [
        "## Model Tuning"
      ]
    },
    {
      "cell_type": "code",
      "metadata": {
        "id": "bEEszV3VXKXm",
        "colab_type": "code",
        "colab": {}
      },
      "source": [
        "rf_params = {\"min_samples_split\":(100,200),\"max_depth\":(5,10),\n",
        "              \"n_estimators\": [20,50]}"
      ],
      "execution_count": 32,
      "outputs": []
    },
    {
      "cell_type": "code",
      "metadata": {
        "id": "E_fnCwaWXKX0",
        "colab_type": "code",
        "colab": {}
      },
      "source": [
        "rf_model=RandomForestRegressor(random_state=42)"
      ],
      "execution_count": 33,
      "outputs": []
    },
    {
      "cell_type": "code",
      "metadata": {
        "id": "aUpg0hlkXKYL",
        "colab_type": "code",
        "colab": {}
      },
      "source": [
        "rf_cv_model=GridSearchCV(rf_model,rf_params, cv=10,n_jobs=-1)"
      ],
      "execution_count": 34,
      "outputs": []
    },
    {
      "cell_type": "code",
      "metadata": {
        "id": "j-aKlSbhXKYa",
        "colab_type": "code",
        "colab": {
          "base_uri": "https://localhost:8080/",
          "height": 340
        },
        "outputId": "a1b58b4f-5632-44d8-c007-3042e4a9c4db"
      },
      "source": [
        "rf_cv_model.fit(X_train,y_train)"
      ],
      "execution_count": 35,
      "outputs": [
        {
          "output_type": "execute_result",
          "data": {
            "text/plain": [
              "GridSearchCV(cv=10, error_score=nan,\n",
              "             estimator=RandomForestRegressor(bootstrap=True, ccp_alpha=0.0,\n",
              "                                             criterion='mse', max_depth=None,\n",
              "                                             max_features='auto',\n",
              "                                             max_leaf_nodes=None,\n",
              "                                             max_samples=None,\n",
              "                                             min_impurity_decrease=0.0,\n",
              "                                             min_impurity_split=None,\n",
              "                                             min_samples_leaf=1,\n",
              "                                             min_samples_split=2,\n",
              "                                             min_weight_fraction_leaf=0.0,\n",
              "                                             n_estimators=100, n_jobs=None,\n",
              "                                             oob_score=False, random_state=42,\n",
              "                                             verbose=0, warm_start=False),\n",
              "             iid='deprecated', n_jobs=-1,\n",
              "             param_grid={'max_depth': (5, 10), 'min_samples_split': (100, 200),\n",
              "                         'n_estimators': [20, 50]},\n",
              "             pre_dispatch='2*n_jobs', refit=True, return_train_score=False,\n",
              "             scoring=None, verbose=0)"
            ]
          },
          "metadata": {
            "tags": []
          },
          "execution_count": 35
        }
      ]
    },
    {
      "cell_type": "code",
      "metadata": {
        "id": "gHhrR0AuXKYo",
        "colab_type": "code",
        "colab": {
          "base_uri": "https://localhost:8080/",
          "height": 34
        },
        "outputId": "ecb66c61-3524-4fb1-c15b-9f99223f70c6"
      },
      "source": [
        "rf_cv_model.best_params_"
      ],
      "execution_count": 36,
      "outputs": [
        {
          "output_type": "execute_result",
          "data": {
            "text/plain": [
              "{'max_depth': 10, 'min_samples_split': 100, 'n_estimators': 50}"
            ]
          },
          "metadata": {
            "tags": []
          },
          "execution_count": 36
        }
      ]
    },
    {
      "cell_type": "code",
      "metadata": {
        "id": "5XPI0xqtXKY2",
        "colab_type": "code",
        "colab": {}
      },
      "source": [
        "rf_tuned=RandomForestRegressor(max_depth=10,min_samples_split=100,n_estimators=50)"
      ],
      "execution_count": 37,
      "outputs": []
    },
    {
      "cell_type": "code",
      "metadata": {
        "id": "W6fku2dhXKZG",
        "colab_type": "code",
        "colab": {
          "base_uri": "https://localhost:8080/",
          "height": 136
        },
        "outputId": "1672c391-b25e-418e-fd04-d7e7ff831c8f"
      },
      "source": [
        "rf_tuned.fit(X_train,y_train)"
      ],
      "execution_count": 38,
      "outputs": [
        {
          "output_type": "execute_result",
          "data": {
            "text/plain": [
              "RandomForestRegressor(bootstrap=True, ccp_alpha=0.0, criterion='mse',\n",
              "                      max_depth=10, max_features='auto', max_leaf_nodes=None,\n",
              "                      max_samples=None, min_impurity_decrease=0.0,\n",
              "                      min_impurity_split=None, min_samples_leaf=1,\n",
              "                      min_samples_split=100, min_weight_fraction_leaf=0.0,\n",
              "                      n_estimators=50, n_jobs=None, oob_score=False,\n",
              "                      random_state=None, verbose=0, warm_start=False)"
            ]
          },
          "metadata": {
            "tags": []
          },
          "execution_count": 38
        }
      ]
    },
    {
      "cell_type": "code",
      "metadata": {
        "id": "HbSc6lxnXKZc",
        "colab_type": "code",
        "colab": {
          "base_uri": "https://localhost:8080/",
          "height": 34
        },
        "outputId": "187f3bc7-fee8-4737-dc9f-3259e51dc89c"
      },
      "source": [
        "y_pred=rf_tuned.predict(X_test)\n",
        "np.sqrt(mean_squared_error(y_test,y_pred))"
      ],
      "execution_count": 39,
      "outputs": [
        {
          "output_type": "execute_result",
          "data": {
            "text/plain": [
              "22.482842999178995"
            ]
          },
          "metadata": {
            "tags": []
          },
          "execution_count": 39
        }
      ]
    },
    {
      "cell_type": "code",
      "metadata": {
        "id": "CUH-1V9lXKZq",
        "colab_type": "code",
        "colab": {
          "base_uri": "https://localhost:8080/",
          "height": 34
        },
        "outputId": "6757bbef-7e89-432b-e331-b5d5c1398e9e"
      },
      "source": [
        "r2_RF_tuned=r2_score(y_test,y_pred)\n",
        "r2_RF_tuned"
      ],
      "execution_count": 40,
      "outputs": [
        {
          "output_type": "execute_result",
          "data": {
            "text/plain": [
              "0.6271543693744241"
            ]
          },
          "metadata": {
            "tags": []
          },
          "execution_count": 40
        }
      ]
    },
    {
      "cell_type": "code",
      "metadata": {
        "id": "s8SzDgiTXKZ6",
        "colab_type": "code",
        "colab": {}
      },
      "source": [
        "Importance=pd.DataFrame({\"Importance\":rf_tuned.feature_importances_*100},\n",
        "                       index=X_train.columns)"
      ],
      "execution_count": 41,
      "outputs": []
    },
    {
      "cell_type": "code",
      "metadata": {
        "id": "o0H2D4rNXKaQ",
        "colab_type": "code",
        "colab": {
          "base_uri": "https://localhost:8080/",
          "height": 301
        },
        "outputId": "4689d323-45be-459a-fab5-130312d7183e"
      },
      "source": [
        "Importance.sort_values(by=\"Importance\",\n",
        "                      axis=0,\n",
        "                      ascending=True).plot(kind=\"barh\",color=\"r\")\n",
        "plt.xlabel(\"Değişken Önem düzeyleri\")"
      ],
      "execution_count": 42,
      "outputs": [
        {
          "output_type": "execute_result",
          "data": {
            "text/plain": [
              "Text(0.5, 0, 'Değişken Önem düzeyleri')"
            ]
          },
          "metadata": {
            "tags": []
          },
          "execution_count": 42
        },
        {
          "output_type": "display_data",
          "data": {
            "image/png": "[encoded data removed]",
            "text/plain": [
              "<Figure size 432x288 with 1 Axes>"
            ]
          },
          "metadata": {
            "tags": [],
            "needs_background": "light"
          }
        }
      ]
    },
    {
      "cell_type": "markdown",
      "metadata": {
        "id": "x7DJK2axXKar",
        "colab_type": "text"
      },
      "source": [
        "# Neural Network"
      ]
    },
    {
      "cell_type": "code",
      "metadata": {
        "id": "5Z_lVyTVXKbu",
        "colab_type": "code",
        "colab": {}
      },
      "source": [
        "from sklearn.preprocessing import StandardScaler"
      ],
      "execution_count": 43,
      "outputs": []
    },
    {
      "cell_type": "code",
      "metadata": {
        "id": "YP1d4-YnXKb3",
        "colab_type": "code",
        "colab": {}
      },
      "source": [
        "scaler=StandardScaler()"
      ],
      "execution_count": 44,
      "outputs": []
    },
    {
      "cell_type": "code",
      "metadata": {
        "id": "17La6xfiXKcN",
        "colab_type": "code",
        "colab": {
          "base_uri": "https://localhost:8080/",
          "height": 34
        },
        "outputId": "c1fe90f4-0345-4176-c1a1-87b216b8e2e8"
      },
      "source": [
        "scaler.fit(X_train)\n",
        "scaler.fit(X_test)"
      ],
      "execution_count": 45,
      "outputs": [
        {
          "output_type": "execute_result",
          "data": {
            "text/plain": [
              "StandardScaler(copy=True, with_mean=True, with_std=True)"
            ]
          },
          "metadata": {
            "tags": []
          },
          "execution_count": 45
        }
      ]
    },
    {
      "cell_type": "code",
      "metadata": {
        "id": "S9bs2-xPXKcX",
        "colab_type": "code",
        "colab": {}
      },
      "source": [
        "X_train_scaled=scaler.transform(X_train)\n",
        "X_test_scaled=scaler.transform(X_test)"
      ],
      "execution_count": 46,
      "outputs": []
    },
    {
      "cell_type": "code",
      "metadata": {
        "id": "-JuJ5FIaXKcg",
        "colab_type": "code",
        "colab": {}
      },
      "source": [
        "from sklearn.neural_network import MLPRegressor"
      ],
      "execution_count": 47,
      "outputs": []
    },
    {
      "cell_type": "code",
      "metadata": {
        "id": "t93auQt5XKcv",
        "colab_type": "code",
        "colab": {
          "base_uri": "https://localhost:8080/",
          "height": 153
        },
        "outputId": "32334bf2-494d-4dcc-fbf8-019ece39cfb6"
      },
      "source": [
        "mlp_model=MLPRegressor(hidden_layer_sizes=(100,20),max_iter=10000, random_state=42).fit(X_train_scaled,y_train)\n",
        "mlp_model"
      ],
      "execution_count": 48,
      "outputs": [
        {
          "output_type": "execute_result",
          "data": {
            "text/plain": [
              "MLPRegressor(activation='relu', alpha=0.0001, batch_size='auto', beta_1=0.9,\n",
              "             beta_2=0.999, early_stopping=False, epsilon=1e-08,\n",
              "             hidden_layer_sizes=(100, 20), learning_rate='constant',\n",
              "             learning_rate_init=0.001, max_fun=15000, max_iter=10000,\n",
              "             momentum=0.9, n_iter_no_change=10, nesterovs_momentum=True,\n",
              "             power_t=0.5, random_state=42, shuffle=True, solver='adam',\n",
              "             tol=0.0001, validation_fraction=0.1, verbose=False,\n",
              "             warm_start=False)"
            ]
          },
          "metadata": {
            "tags": []
          },
          "execution_count": 48
        }
      ]
    },
    {
      "cell_type": "code",
      "metadata": {
        "id": "vFOrtENFXKc4",
        "colab_type": "code",
        "colab": {}
      },
      "source": [
        "?mlp_model"
      ],
      "execution_count": null,
      "outputs": []
    },
    {
      "cell_type": "code",
      "metadata": {
        "id": "LujW7Y6FXKdB",
        "colab_type": "code",
        "colab": {
          "base_uri": "https://localhost:8080/",
          "height": 34
        },
        "outputId": "e40e967a-3ea3-4bda-9647-9ab4c78925b3"
      },
      "source": [
        "mlp_model.n_layers_"
      ],
      "execution_count": null,
      "outputs": [
        {
          "output_type": "execute_result",
          "data": {
            "text/plain": [
              "4"
            ]
          },
          "metadata": {
            "tags": []
          },
          "execution_count": 107
        }
      ]
    },
    {
      "cell_type": "code",
      "metadata": {
        "id": "SiT-M1REXKdK",
        "colab_type": "code",
        "colab": {
          "base_uri": "https://localhost:8080/",
          "height": 34
        },
        "outputId": "da7fd016-446b-4b94-d3b3-3e6d116695f1"
      },
      "source": [
        "mlp_model.n_iter_"
      ],
      "execution_count": null,
      "outputs": [
        {
          "output_type": "execute_result",
          "data": {
            "text/plain": [
              "241"
            ]
          },
          "metadata": {
            "tags": []
          },
          "execution_count": 109
        }
      ]
    },
    {
      "cell_type": "code",
      "metadata": {
        "id": "jup3XhahXKdV",
        "colab_type": "code",
        "colab": {
          "base_uri": "https://localhost:8080/",
          "height": 34
        },
        "outputId": "ab0c5cb6-38b4-4813-81b0-f9c389e18767"
      },
      "source": [
        "mlp_model.hidden_layer_sizes"
      ],
      "execution_count": null,
      "outputs": [
        {
          "output_type": "execute_result",
          "data": {
            "text/plain": [
              "(100, 20)"
            ]
          },
          "metadata": {
            "tags": []
          },
          "execution_count": 110
        }
      ]
    },
    {
      "cell_type": "markdown",
      "metadata": {
        "id": "_VdgvlC8XKdf",
        "colab_type": "text"
      },
      "source": [
        "## Prediction"
      ]
    },
    {
      "cell_type": "code",
      "metadata": {
        "id": "9rJ4COYGXKdh",
        "colab_type": "code",
        "colab": {
          "base_uri": "https://localhost:8080/",
          "height": 34
        },
        "outputId": "0c27511b-da2f-4aa9-a203-d4f03354ebe3"
      },
      "source": [
        "y_pred=mlp_model.predict(X_test_scaled)\n",
        "np.sqrt(mean_squared_error(y_test,y_pred))"
      ],
      "execution_count": 49,
      "outputs": [
        {
          "output_type": "execute_result",
          "data": {
            "text/plain": [
              "21.91768527753872"
            ]
          },
          "metadata": {
            "tags": []
          },
          "execution_count": 49
        }
      ]
    },
    {
      "cell_type": "code",
      "metadata": {
        "id": "x8AgCRJEXKdq",
        "colab_type": "code",
        "colab": {
          "base_uri": "https://localhost:8080/",
          "height": 34
        },
        "outputId": "ef0542c3-a9cb-449e-eb52-cd1e1821f5c8"
      },
      "source": [
        "r2_NN=r2_score(y_test,y_pred)\n",
        "r2_NN"
      ],
      "execution_count": 51,
      "outputs": [
        {
          "output_type": "execute_result",
          "data": {
            "text/plain": [
              "0.6456634311744252"
            ]
          },
          "metadata": {
            "tags": []
          },
          "execution_count": 51
        }
      ]
    },
    {
      "cell_type": "markdown",
      "metadata": {
        "id": "cIt9cxT8XKd4",
        "colab_type": "text"
      },
      "source": [
        "## Model Tuning"
      ]
    },
    {
      "cell_type": "code",
      "metadata": {
        "id": "SgpPG_ftXKd-",
        "colab_type": "code",
        "colab": {
          "base_uri": "https://localhost:8080/",
          "height": 442
        },
        "outputId": "a3948f22-1ad7-4f11-bc46-e1d58106e037"
      },
      "source": [
        "mlp_param = {\"alpha\": [0.1,0.01],\n",
        "             \"hidden_layer_sizes\": [(50,50),(100,100), (100,50,150)],\n",
        "             \"activation\": [\"relu\",\"logistic\"]}\n",
        "\n",
        "mlp_cv_model = GridSearchCV(mlp_model, mlp_param, cv=5, n_jobs=-1, verbose=2)\n",
        "mlp_cv_model.fit(X_train_scaled, y_train)"
      ],
      "execution_count": 52,
      "outputs": [
        {
          "output_type": "stream",
          "text": [
            "Fitting 5 folds for each of 12 candidates, totalling 60 fits\n"
          ],
          "name": "stdout"
        },
        {
          "output_type": "stream",
          "text": [
            "[Parallel(n_jobs=-1)]: Using backend LokyBackend with 2 concurrent workers.\n",
            "[Parallel(n_jobs=-1)]: Done  37 tasks      | elapsed:  5.7min\n",
            "[Parallel(n_jobs=-1)]: Done  60 out of  60 | elapsed: 12.8min finished\n"
          ],
          "name": "stderr"
        },
        {
          "output_type": "execute_result",
          "data": {
            "text/plain": [
              "GridSearchCV(cv=5, error_score=nan,\n",
              "             estimator=MLPRegressor(activation='relu', alpha=0.0001,\n",
              "                                    batch_size='auto', beta_1=0.9, beta_2=0.999,\n",
              "                                    early_stopping=False, epsilon=1e-08,\n",
              "                                    hidden_layer_sizes=(100, 20),\n",
              "                                    learning_rate='constant',\n",
              "                                    learning_rate_init=0.001, max_fun=15000,\n",
              "                                    max_iter=10000, momentum=0.9,\n",
              "                                    n_iter_no_change=10,\n",
              "                                    nesterovs_momentum=True, power_t=0.5,\n",
              "                                    random_state=42, shuffle=True,\n",
              "                                    solver='adam', tol=0.0001,\n",
              "                                    validation_fraction=0.1, verbose=False,\n",
              "                                    warm_start=False),\n",
              "             iid='deprecated', n_jobs=-1,\n",
              "             param_grid={'activation': ['relu', 'logistic'],\n",
              "                         'alpha': [0.1, 0.01],\n",
              "                         'hidden_layer_sizes': [(50, 50), (100, 100),\n",
              "                                                (100, 50, 150)]},\n",
              "             pre_dispatch='2*n_jobs', refit=True, return_train_score=False,\n",
              "             scoring=None, verbose=2)"
            ]
          },
          "metadata": {
            "tags": []
          },
          "execution_count": 52
        }
      ]
    },
    {
      "cell_type": "code",
      "metadata": {
        "id": "52Bz5U5zXKeI",
        "colab_type": "code",
        "colab": {
          "base_uri": "https://localhost:8080/",
          "height": 34
        },
        "outputId": "28f72e69-be04-44d7-b508-7283ec2d15c0"
      },
      "source": [
        "mlp_cv_model.best_params_"
      ],
      "execution_count": 53,
      "outputs": [
        {
          "output_type": "execute_result",
          "data": {
            "text/plain": [
              "{'activation': 'logistic', 'alpha': 0.1, 'hidden_layer_sizes': (50, 50)}"
            ]
          },
          "metadata": {
            "tags": []
          },
          "execution_count": 53
        }
      ]
    },
    {
      "cell_type": "code",
      "metadata": {
        "id": "7_Q56hMPEIYP",
        "colab_type": "code",
        "colab": {
          "base_uri": "https://localhost:8080/",
          "height": 207
        },
        "outputId": "7ff54078-2400-4c13-a042-3ad7f6a16b90"
      },
      "source": [
        "mlp_tuned = MLPRegressor(alpha= 0.1, hidden_layer_sizes=(50,50), activation=\"logistic\")\n",
        "mlp_tuned.fit(X_train_scaled, y_train)"
      ],
      "execution_count": 54,
      "outputs": [
        {
          "output_type": "stream",
          "text": [
            "/usr/local/lib/python3.6/dist-packages/sklearn/neural_network/_multilayer_perceptron.py:571: ConvergenceWarning: Stochastic Optimizer: Maximum iterations (200) reached and the optimization hasn't converged yet.\n",
            "  % self.max_iter, ConvergenceWarning)\n"
          ],
          "name": "stderr"
        },
        {
          "output_type": "execute_result",
          "data": {
            "text/plain": [
              "MLPRegressor(activation='logistic', alpha=0.1, batch_size='auto', beta_1=0.9,\n",
              "             beta_2=0.999, early_stopping=False, epsilon=1e-08,\n",
              "             hidden_layer_sizes=(50, 50), learning_rate='constant',\n",
              "             learning_rate_init=0.001, max_fun=15000, max_iter=200,\n",
              "             momentum=0.9, n_iter_no_change=10, nesterovs_momentum=True,\n",
              "             power_t=0.5, random_state=None, shuffle=True, solver='adam',\n",
              "             tol=0.0001, validation_fraction=0.1, verbose=False,\n",
              "             warm_start=False)"
            ]
          },
          "metadata": {
            "tags": []
          },
          "execution_count": 54
        }
      ]
    },
    {
      "cell_type": "code",
      "metadata": {
        "id": "o-a4A0AIEIvq",
        "colab_type": "code",
        "colab": {
          "base_uri": "https://localhost:8080/",
          "height": 34
        },
        "outputId": "aab7d8c5-a15a-465d-af2c-25722c2c07f7"
      },
      "source": [
        "y_pred = mlp_tuned.predict(X_test_scaled)\n",
        "np.sqrt(mean_squared_error(y_test,y_pred))"
      ],
      "execution_count": 55,
      "outputs": [
        {
          "output_type": "execute_result",
          "data": {
            "text/plain": [
              "23.95985234829101"
            ]
          },
          "metadata": {
            "tags": []
          },
          "execution_count": 55
        }
      ]
    },
    {
      "cell_type": "code",
      "metadata": {
        "id": "BVH6aaIxEp8G",
        "colab_type": "code",
        "colab": {
          "base_uri": "https://localhost:8080/",
          "height": 34
        },
        "outputId": "07654b44-dc79-4cf5-91ad-9cc1d993cb5e"
      },
      "source": [
        "r2_NN_tuned=r2_score(y_test,y_pred)\n",
        "r2_NN_tuned"
      ],
      "execution_count": 56,
      "outputs": [
        {
          "output_type": "execute_result",
          "data": {
            "text/plain": [
              "0.5765570785943696"
            ]
          },
          "metadata": {
            "tags": []
          },
          "execution_count": 56
        }
      ]
    },
    {
      "cell_type": "code",
      "metadata": {
        "id": "v4B5yuaZEy4u",
        "colab_type": "code",
        "colab": {}
      },
      "source": [
        ""
      ],
      "execution_count": null,
      "outputs": []
    }
  ]
}