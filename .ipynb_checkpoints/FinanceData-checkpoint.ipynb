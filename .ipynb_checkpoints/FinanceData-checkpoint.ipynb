{
 "cells": [
  {
   "cell_type": "markdown",
   "metadata": {},
   "source": [
    "## class and functions"
   ]
  },
  {
   "cell_type": "code",
   "execution_count": 77,
   "metadata": {},
   "outputs": [],
   "source": [
    "     \n",
    "class prepro():\n",
    "    def __init__(self, data):\n",
    "        self.data=data\n",
    "    \n",
    "    def info(self):\n",
    "        import pandas as pd \n",
    "        from pandas import Series, DataFrame\n",
    "        \n",
    "        print(self.data.head())\n",
    "        \n",
    "        print(\"DATA INFORMATION:\")\n",
    "        print(self.data.info())\n",
    "        \n",
    "        print(\"DATA DESCRIPTION:\")\n",
    "        print(self.data.describe())\n",
    "        \n",
    "        print(\"NULL VALUES:\")\n",
    "        print(self.data.isnull().sum(axis = 0))\n",
    "    \n",
    "class inf_stats(): \n",
    "    def __init__(self, data):\n",
    "        self.data=data\n",
    "        \n",
    "    def corr(self):\n",
    "        import seaborn as sns\n",
    "        import matplotlib.pyplot as plt       \n",
    "        fig,ax = plt.subplots(figsize=(7, 7))\n",
    "        sns.heatmap(self.data.corr(), ax=ax, annot=True, linewidths=0.05, fmt= '.2f',cmap=\"magma\")\n",
    "        plt.show()\n",
    "\n",
    "    def norm_test(self, column):\n",
    "        import pylab\n",
    "        import scipy.stats as stats\n",
    "        from scipy.stats import shapiro\n",
    "        \n",
    "        print(\"H0: Data normally distributed\\n\")      \n",
    "        \n",
    "        \n",
    "        stat, p= shapiro(self.data[column])\n",
    "        print(\"Statistic= {} , p-val={}\".format( stat, p))\n",
    "        \n",
    "        if p>0.05:\n",
    "            print(\"H0-> Fail to Reject. Data is normally distributed.\")\n",
    "        else:\n",
    "            print(\"H0-> Reject. Data is not normally distributed.\")\n",
    "        \n",
    "        #Probability plot çizdirerek, görselleştirme de yapıyoruz.\n",
    "        stats.probplot(self.data[column],dist='norm',plot=pylab)\n",
    "        pylab.show()\n",
    "        \n",
    "    def t_test(self, popmean, column):\n",
    "        import scipy.stats as stats \n",
    "        import statsmodels.stats.api as sms\n",
    "        \n",
    "        #one- sample t-test \n",
    "        self.column=column\n",
    "        self.popmean=popmean\n",
    "        print(\"Hypothesis:\\nH0:μ0={}\\n\".format(self.popmean))\n",
    "        \n",
    "        #calculation of p-value and statistic\n",
    "        stat, pval=stats.ttest_1samp(self.data[self.column],popmean=self.popmean)\n",
    "        print('RESULT=\\nStatistics=%.3f,p-value=%.3f' % (stat,pval))\n",
    "        \n",
    "        #confidence interval\n",
    "        cf=sms.DescrStatsW(self.data[self.column]).tconfint_mean()\n",
    "        print(\"Confidence Interval={}\\n\".format(cf))\n",
    "        \n",
    "        if pval<0.05:\n",
    "            print(\"Reject H0 --> μ0≠{}\". format(self.popmean))\n",
    "        else:\n",
    "            print(\"Fail to reject H0 --> μ0={}\". format(self.popmean))\n",
    "     \n",
    "    def num_cat(self,cl1,cl2):\n",
    "        import pandas as pd \n",
    "        import numpy as np \n",
    "        from scipy.stats import shapiro \n",
    "        A=Series(self.data[cl1].iloc[:][data[cl2]==1])\n",
    "        B=Series(self.data[cl1].iloc[:][data[cl2]==0])\n",
    "        \n",
    "        #A_B=pd.concat([A,B], axis=1)\n",
    "        #A_B.columns=[\"A\",\"B\"]\n",
    "\n",
    "        print(\"    ******KS TEST******   \")\n",
    "        print(\"HİPOTEZ:\")\n",
    "        print(\"H0:{}-{}=1 and {}-{} =0 have same distribution\\n\".format(cl1,cl2,cl1,cl2))\n",
    "        import scipy\n",
    "        \n",
    "        stat, p=scipy.stats.ks_2samp(A,B)\n",
    "        print(\"Statistic= {}, p-val={}\".format(stat,p))\n",
    "        if p<0.05:\n",
    "            print(\"H0--> Reject. They have different distribution\\n\")\n",
    "        else:\n",
    "            print(\"H0--> Fail to Reject.\\n\")\n",
    "        \n",
    "        import scipy.stats as stats\n",
    "        \n",
    "        print(\"VARIANCE:\")\n",
    "        print(\"HİPOTEZ:\")\n",
    "        print(\"H0:'{}' and '{}' have same variance\\n\".format(cl1,cl2))\n",
    "        \n",
    "        stat, p=stats.levene(A,B)\n",
    "        print(\"Statistic= {}, p-val={}\".format(stat,p))\n",
    "        if p<0.05:\n",
    "            print(\"H0--> Reject. They have different variance\\n\")\n",
    "        else:\n",
    "            print(\"H0--> Fail to Reject.\")\n",
    "            \n",
    "        if p<0.05:\n",
    "            equal_var=False\n",
    "        else:\n",
    "            equal_var=True\n",
    "        print(\"MEAN:\")\n",
    "        stat, p=stats.ttest_ind(A,B)\n",
    "        print(\"Statistic= {}, p-val={}\".format(stat,p))\n",
    "        if p<0.05:\n",
    "            print(\"H0--> Reject. They have different mean\\n\")\n",
    "        else:\n",
    "            print(\"H0--> Fail to Reject.\")\n",
    "            \n",
    "    def chi2(self,cl1,cl2):\n",
    "        import scipy.stats \n",
    "        cross=pd.crosstab(index=self.data[cl2], columns=self.data[cl1])\n",
    "        from numbers import Number\n",
    "        chi2,p,dof,expected= scipy.stats.chi2_contingency(cross)#survived ve sex arasında bağlantı var mı?\n",
    "        result=[[\"chi\",chi2],[\"p\",p]]\n",
    "        print(result)\n",
    "\n",
    "    \n",
    "    \n",
    "    def box_2samp(self,cl1,cl2):\n",
    "        import matplotlib.pyplot as plt\n",
    "        import seaborn as sns\n",
    "        figg=plt.figure(figsize=(5,5))\n",
    "        sns.boxplot(x=data[cl1],y=data[cl2])\n",
    "\n",
    "class visualize():\n",
    "    def __init__(self, data):\n",
    "        self.data=data\n",
    "    \n",
    "    def hist_all(self):\n",
    "        import matplotlib.pyplot as plt\n",
    "        #self.column=column\n",
    "        \n",
    "        for col in self.data.columns:\n",
    "            fig=self.data[col].plot.hist()\n",
    "            fig.set_title(col)\n",
    "            plt.show()\n",
    "        \n",
    "        \n",
    "\n",
    "class model():\n",
    "    pass\n",
    "class supervised(model): #inheritance\n",
    "    def regression():\n",
    "        pass\n",
    "    def classification():\n",
    "        pass\n",
    "class unsupervised(model):\n",
    "    def clustering():\n",
    "        pass"
   ]
  },
  {
   "cell_type": "markdown",
   "metadata": {},
   "source": [
    "## Data Information"
   ]
  },
  {
   "cell_type": "code",
   "execution_count": 132,
   "metadata": {},
   "outputs": [],
   "source": [
    "from pandas import read_excel\n",
    "df= read_excel('HW_Data_Set.xlsx', sheet_name = 'Sheet1')\n",
    "df=df.copy()"
   ]
  },
  {
   "cell_type": "code",
   "execution_count": 89,
   "metadata": {
    "scrolled": false
   },
   "outputs": [
    {
     "name": "stdout",
     "output_type": "stream",
     "text": [
      "   ind_5  ind_6  ind_8      ind_9     ind_10     ind_12     ind_13  ind_14  \\\n",
      "0     19     17  100.0  85.714286  14.285714  72.363515  60.808814   23.80   \n",
      "1     24     19  100.0  78.571429  21.428571  74.275883  64.366798   11.45   \n",
      "2     30     24  100.0  71.428571  28.571429  75.140402  65.915803    8.75   \n",
      "3     37     30  100.0  64.285714  35.714286  76.677846  68.584234    7.80   \n",
      "4     41     37  100.0  57.142857  42.857143  81.603007  76.455495   14.90   \n",
      "\n",
      "   ind_15  ind_16  ...  ind_416  ind_418  ind_420  ind_422  ind_424   ind_426  \\\n",
      "0   17.62   11.73  ...    -49.6      -54     -152     -353      1.0  0.498547   \n",
      "1   18.16   12.22  ...    -55.6      -60     -158     -359      1.0  0.537088   \n",
      "2   17.86   12.28  ...    -58.4      -60     -160     -362      1.0  0.615169   \n",
      "3   14.76   12.61  ...    -61.8      -65     -166     -367      1.0  0.661517   \n",
      "4   11.92   14.25  ...    -79.8      -86     -186     -388      1.0  0.747204   \n",
      "\n",
      "    ind_428  20_target  50_target  90_target  \n",
      "0  0.701906  15.135802  35.625252  36.997753  \n",
      "1  0.690833  15.143348  35.643013  37.016198  \n",
      "2  0.693040  15.146870  35.651301 -37.024805  \n",
      "3  0.673418  15.153283   0.000000 -37.040483  \n",
      "4  0.700522 -15.179065 -35.727079 -37.103503  \n",
      "\n",
      "[5 rows x 136 columns]\n",
      "DATA INFORMATION:\n",
      "<class 'pandas.core.frame.DataFrame'>\n",
      "RangeIndex: 6167 entries, 0 to 6166\n",
      "Columns: 136 entries, ind_5 to 90_target\n",
      "dtypes: float64(88), int64(45), object(3)\n",
      "memory usage: 6.4+ MB\n",
      "None\n",
      "DATA DESCRIPTION:\n",
      "             ind_5        ind_6        ind_8        ind_9       ind_10  \\\n",
      "count  6167.000000  6167.000000  6167.000000  6167.000000  6167.000000   \n",
      "mean     -0.803146    -0.803470    48.388890    48.289282     0.099609   \n",
      "std      23.624403    23.624144    36.388526    36.478009    60.414625   \n",
      "min    -131.000000  -131.000000     0.000000     0.000000  -100.000000   \n",
      "25%     -14.000000   -14.000000    14.285714    14.285714   -50.000000   \n",
      "50%       0.000000     0.000000    50.000000    50.000000     0.000000   \n",
      "75%      13.000000    13.000000    85.714286    85.714286    57.142857   \n",
      "max      76.000000    76.000000   100.000000   100.000000   100.000000   \n",
      "\n",
      "            ind_12       ind_13       ind_14       ind_15       ind_16  ...  \\\n",
      "count  6167.000000  6167.000000  6167.000000  6167.000000  6167.000000  ...   \n",
      "mean     49.488867   -18.497518    11.771485    11.773550    11.773392  ...   \n",
      "std      12.198722    68.281120     6.803997     5.786089     4.970499  ...   \n",
      "min      12.134540  -625.093855     1.050000     1.660000     2.580000  ...   \n",
      "25%      40.868503   -45.687212     6.850000     7.260000     7.635000  ...   \n",
      "50%      49.549766    -2.817298    10.550000    11.040000    11.270000  ...   \n",
      "75%      58.504375    28.072613    14.950000    15.040000    14.960000  ...   \n",
      "max      84.821848    81.105847    82.900000    54.240000    37.050000  ...   \n",
      "\n",
      "           ind_412      ind_414      ind_416      ind_418      ind_424  \\\n",
      "count  6167.000000  6167.000000  6167.000000  6167.000000  6167.000000   \n",
      "mean      0.000224    28.529204    -8.554792   -28.166694     0.490297   \n",
      "std       0.005660    26.316896    16.100087    23.271524     0.425376   \n",
      "min      -0.023790     0.000000  -103.800000  -188.000000     0.000000   \n",
      "25%      -0.003230    10.700000   -11.700000   -39.000000     0.000000   \n",
      "50%      -0.000053    21.300000     0.000000   -22.000000     0.473684   \n",
      "75%       0.003414    38.400000     0.000000   -11.000000     1.000000   \n",
      "max       0.023340   281.800000     0.000000     0.000000     1.000000   \n",
      "\n",
      "           ind_426      ind_428    20_target    50_target    90_target  \n",
      "count  6167.000000  6167.000000  6167.000000  6167.000000  6167.000000  \n",
      "mean      0.498188     0.490174    -0.057102    -2.906358    -3.315072  \n",
      "std       0.228547     0.150483    14.834497    34.559778    36.841541  \n",
      "min       0.000000     0.083530   -15.780588   -37.142889   -38.573858  \n",
      "25%       0.323783     0.379894   -15.350354   -36.208094   -37.695273  \n",
      "50%       0.495192     0.487078     0.000000   -34.267756   -35.788391  \n",
      "75%       0.675730     0.601508    15.385945    35.879524    37.521892  \n",
      "max       1.000000     0.868534    15.768767    37.038694    38.465649  \n",
      "\n",
      "[8 rows x 133 columns]\n",
      "NULL VALUES:\n",
      "ind_5        0\n",
      "ind_6        0\n",
      "ind_8        0\n",
      "ind_9        0\n",
      "ind_10       0\n",
      "            ..\n",
      "ind_426      0\n",
      "ind_428      0\n",
      "20_target    0\n",
      "50_target    0\n",
      "90_target    0\n",
      "Length: 136, dtype: int64\n"
     ]
    }
   ],
   "source": [
    "dfprepro=prepro(df)\n",
    "dfprepro.info()"
   ]
  },
  {
   "cell_type": "markdown",
   "metadata": {},
   "source": [
    "## Deleting Null variables"
   ]
  },
  {
   "cell_type": "code",
   "execution_count": 133,
   "metadata": {},
   "outputs": [],
   "source": [
    "import numpy as np\n",
    "df=df.replace('?',np.nan)\n",
    "df = df.dropna()"
   ]
  },
  {
   "cell_type": "code",
   "execution_count": 102,
   "metadata": {},
   "outputs": [
    {
     "data": {
      "text/plain": [
       "0"
      ]
     },
     "execution_count": 102,
     "metadata": {},
     "output_type": "execute_result"
    }
   ],
   "source": [
    "df[\"ind_420\"].isnull().sum(axis=0)"
   ]
  },
  {
   "cell_type": "code",
   "execution_count": 103,
   "metadata": {},
   "outputs": [
    {
     "data": {
      "text/plain": [
       "0"
      ]
     },
     "execution_count": 103,
     "metadata": {},
     "output_type": "execute_result"
    }
   ],
   "source": [
    "df[\"ind_422\"].isnull().sum(axis=0)"
   ]
  },
  {
   "cell_type": "markdown",
   "metadata": {},
   "source": [
    "## Categorical Variable "
   ]
  },
  {
   "cell_type": "code",
   "execution_count": 104,
   "metadata": {},
   "outputs": [
    {
     "data": {
      "text/plain": [
       "{'ind_109'}"
      ]
     },
     "execution_count": 104,
     "metadata": {},
     "output_type": "execute_result"
    }
   ],
   "source": [
    "col=df.columns\n",
    "\n",
    "num_cols=df._get_numeric_data().columns\n",
    "CAT=set(col)-set(num_cols)\n",
    "CAT"
   ]
  },
  {
   "cell_type": "markdown",
   "metadata": {},
   "source": [
    "## Correlation Table"
   ]
  },
  {
   "cell_type": "code",
   "execution_count": 134,
   "metadata": {},
   "outputs": [],
   "source": [
    "dfcor=df.drop([\"ind_109\"], axis=1).astype(\"float64\")"
   ]
  },
  {
   "cell_type": "code",
   "execution_count": 135,
   "metadata": {},
   "outputs": [
    {
     "data": {
      "text/html": [
       "<div>\n",
       "<style scoped>\n",
       "    .dataframe tbody tr th:only-of-type {\n",
       "        vertical-align: middle;\n",
       "    }\n",
       "\n",
       "    .dataframe tbody tr th {\n",
       "        vertical-align: top;\n",
       "    }\n",
       "\n",
       "    .dataframe thead th {\n",
       "        text-align: right;\n",
       "    }\n",
       "</style>\n",
       "<table border=\"1\" class=\"dataframe\">\n",
       "  <thead>\n",
       "    <tr style=\"text-align: right;\">\n",
       "      <th></th>\n",
       "      <th>ind_5</th>\n",
       "      <th>ind_6</th>\n",
       "      <th>ind_8</th>\n",
       "      <th>ind_9</th>\n",
       "      <th>ind_10</th>\n",
       "      <th>ind_12</th>\n",
       "      <th>ind_13</th>\n",
       "      <th>ind_14</th>\n",
       "      <th>ind_15</th>\n",
       "      <th>ind_16</th>\n",
       "      <th>...</th>\n",
       "      <th>ind_416</th>\n",
       "      <th>ind_418</th>\n",
       "      <th>ind_420</th>\n",
       "      <th>ind_422</th>\n",
       "      <th>ind_424</th>\n",
       "      <th>ind_426</th>\n",
       "      <th>ind_428</th>\n",
       "      <th>20_target</th>\n",
       "      <th>50_target</th>\n",
       "      <th>90_target</th>\n",
       "    </tr>\n",
       "  </thead>\n",
       "  <tbody>\n",
       "    <tr>\n",
       "      <th>ind_5</th>\n",
       "      <td>1.000000</td>\n",
       "      <td>0.990115</td>\n",
       "      <td>0.547483</td>\n",
       "      <td>-0.518832</td>\n",
       "      <td>0.644215</td>\n",
       "      <td>0.820822</td>\n",
       "      <td>0.777479</td>\n",
       "      <td>-0.045803</td>\n",
       "      <td>-0.067730</td>\n",
       "      <td>-0.092888</td>\n",
       "      <td>...</td>\n",
       "      <td>-0.324564</td>\n",
       "      <td>-0.587574</td>\n",
       "      <td>-0.317846</td>\n",
       "      <td>-0.329648</td>\n",
       "      <td>0.078010</td>\n",
       "      <td>0.621468</td>\n",
       "      <td>0.816156</td>\n",
       "      <td>0.052210</td>\n",
       "      <td>0.081537</td>\n",
       "      <td>0.073107</td>\n",
       "    </tr>\n",
       "    <tr>\n",
       "      <th>ind_6</th>\n",
       "      <td>0.990115</td>\n",
       "      <td>1.000000</td>\n",
       "      <td>0.521053</td>\n",
       "      <td>-0.479383</td>\n",
       "      <td>0.604380</td>\n",
       "      <td>0.767504</td>\n",
       "      <td>0.722541</td>\n",
       "      <td>-0.034480</td>\n",
       "      <td>-0.057776</td>\n",
       "      <td>-0.086007</td>\n",
       "      <td>...</td>\n",
       "      <td>-0.299246</td>\n",
       "      <td>-0.536726</td>\n",
       "      <td>-0.320019</td>\n",
       "      <td>-0.331171</td>\n",
       "      <td>0.023117</td>\n",
       "      <td>0.562515</td>\n",
       "      <td>0.809119</td>\n",
       "      <td>0.052347</td>\n",
       "      <td>0.081567</td>\n",
       "      <td>0.073585</td>\n",
       "    </tr>\n",
       "    <tr>\n",
       "      <th>ind_8</th>\n",
       "      <td>0.547483</td>\n",
       "      <td>0.521053</td>\n",
       "      <td>1.000000</td>\n",
       "      <td>-0.369578</td>\n",
       "      <td>0.826063</td>\n",
       "      <td>0.585052</td>\n",
       "      <td>0.480337</td>\n",
       "      <td>0.146128</td>\n",
       "      <td>0.119751</td>\n",
       "      <td>0.016810</td>\n",
       "      <td>...</td>\n",
       "      <td>-0.268403</td>\n",
       "      <td>-0.421079</td>\n",
       "      <td>-0.144740</td>\n",
       "      <td>-0.159317</td>\n",
       "      <td>0.142893</td>\n",
       "      <td>0.595508</td>\n",
       "      <td>0.458084</td>\n",
       "      <td>-0.016948</td>\n",
       "      <td>0.001962</td>\n",
       "      <td>-0.011621</td>\n",
       "    </tr>\n",
       "    <tr>\n",
       "      <th>ind_9</th>\n",
       "      <td>-0.518832</td>\n",
       "      <td>-0.479383</td>\n",
       "      <td>-0.369578</td>\n",
       "      <td>1.000000</td>\n",
       "      <td>-0.828971</td>\n",
       "      <td>-0.602616</td>\n",
       "      <td>-0.560931</td>\n",
       "      <td>0.260789</td>\n",
       "      <td>0.263371</td>\n",
       "      <td>0.172689</td>\n",
       "      <td>...</td>\n",
       "      <td>0.346778</td>\n",
       "      <td>0.504424</td>\n",
       "      <td>0.131142</td>\n",
       "      <td>0.160855</td>\n",
       "      <td>-0.180249</td>\n",
       "      <td>-0.639987</td>\n",
       "      <td>-0.439689</td>\n",
       "      <td>-0.023754</td>\n",
       "      <td>-0.005618</td>\n",
       "      <td>0.013177</td>\n",
       "    </tr>\n",
       "    <tr>\n",
       "      <th>ind_10</th>\n",
       "      <td>0.644215</td>\n",
       "      <td>0.604380</td>\n",
       "      <td>0.826063</td>\n",
       "      <td>-0.828971</td>\n",
       "      <td>1.000000</td>\n",
       "      <td>0.717645</td>\n",
       "      <td>0.629334</td>\n",
       "      <td>-0.070218</td>\n",
       "      <td>-0.087661</td>\n",
       "      <td>-0.094621</td>\n",
       "      <td>...</td>\n",
       "      <td>-0.371881</td>\n",
       "      <td>-0.559393</td>\n",
       "      <td>-0.166660</td>\n",
       "      <td>-0.193456</td>\n",
       "      <td>0.195333</td>\n",
       "      <td>0.746605</td>\n",
       "      <td>0.542404</td>\n",
       "      <td>0.004207</td>\n",
       "      <td>0.004588</td>\n",
       "      <td>-0.014987</td>\n",
       "    </tr>\n",
       "    <tr>\n",
       "      <th>...</th>\n",
       "      <td>...</td>\n",
       "      <td>...</td>\n",
       "      <td>...</td>\n",
       "      <td>...</td>\n",
       "      <td>...</td>\n",
       "      <td>...</td>\n",
       "      <td>...</td>\n",
       "      <td>...</td>\n",
       "      <td>...</td>\n",
       "      <td>...</td>\n",
       "      <td>...</td>\n",
       "      <td>...</td>\n",
       "      <td>...</td>\n",
       "      <td>...</td>\n",
       "      <td>...</td>\n",
       "      <td>...</td>\n",
       "      <td>...</td>\n",
       "      <td>...</td>\n",
       "      <td>...</td>\n",
       "      <td>...</td>\n",
       "      <td>...</td>\n",
       "    </tr>\n",
       "    <tr>\n",
       "      <th>ind_426</th>\n",
       "      <td>0.621468</td>\n",
       "      <td>0.562515</td>\n",
       "      <td>0.595508</td>\n",
       "      <td>-0.639987</td>\n",
       "      <td>0.746605</td>\n",
       "      <td>0.775348</td>\n",
       "      <td>0.699661</td>\n",
       "      <td>-0.095876</td>\n",
       "      <td>-0.100360</td>\n",
       "      <td>-0.087605</td>\n",
       "      <td>...</td>\n",
       "      <td>-0.370107</td>\n",
       "      <td>-0.583362</td>\n",
       "      <td>-0.170756</td>\n",
       "      <td>-0.204524</td>\n",
       "      <td>0.341137</td>\n",
       "      <td>1.000000</td>\n",
       "      <td>0.580932</td>\n",
       "      <td>0.023080</td>\n",
       "      <td>0.016545</td>\n",
       "      <td>0.003437</td>\n",
       "    </tr>\n",
       "    <tr>\n",
       "      <th>ind_428</th>\n",
       "      <td>0.816156</td>\n",
       "      <td>0.809119</td>\n",
       "      <td>0.458084</td>\n",
       "      <td>-0.439689</td>\n",
       "      <td>0.542404</td>\n",
       "      <td>0.808156</td>\n",
       "      <td>0.729684</td>\n",
       "      <td>-0.006137</td>\n",
       "      <td>-0.019001</td>\n",
       "      <td>-0.035110</td>\n",
       "      <td>...</td>\n",
       "      <td>-0.281079</td>\n",
       "      <td>-0.459643</td>\n",
       "      <td>-0.327875</td>\n",
       "      <td>-0.358164</td>\n",
       "      <td>0.189822</td>\n",
       "      <td>0.580932</td>\n",
       "      <td>1.000000</td>\n",
       "      <td>0.041987</td>\n",
       "      <td>0.068053</td>\n",
       "      <td>0.058844</td>\n",
       "    </tr>\n",
       "    <tr>\n",
       "      <th>20_target</th>\n",
       "      <td>0.052210</td>\n",
       "      <td>0.052347</td>\n",
       "      <td>-0.016948</td>\n",
       "      <td>-0.023754</td>\n",
       "      <td>0.004207</td>\n",
       "      <td>0.034990</td>\n",
       "      <td>0.041982</td>\n",
       "      <td>0.001557</td>\n",
       "      <td>0.001838</td>\n",
       "      <td>0.025399</td>\n",
       "      <td>...</td>\n",
       "      <td>-0.004466</td>\n",
       "      <td>-0.044326</td>\n",
       "      <td>-0.001936</td>\n",
       "      <td>-0.035405</td>\n",
       "      <td>0.002466</td>\n",
       "      <td>0.023080</td>\n",
       "      <td>0.041987</td>\n",
       "      <td>1.000000</td>\n",
       "      <td>0.372915</td>\n",
       "      <td>0.344982</td>\n",
       "    </tr>\n",
       "    <tr>\n",
       "      <th>50_target</th>\n",
       "      <td>0.081537</td>\n",
       "      <td>0.081567</td>\n",
       "      <td>0.001962</td>\n",
       "      <td>-0.005618</td>\n",
       "      <td>0.004588</td>\n",
       "      <td>0.065218</td>\n",
       "      <td>0.057671</td>\n",
       "      <td>0.075191</td>\n",
       "      <td>0.087573</td>\n",
       "      <td>0.107244</td>\n",
       "      <td>...</td>\n",
       "      <td>0.041196</td>\n",
       "      <td>-0.114093</td>\n",
       "      <td>-0.030940</td>\n",
       "      <td>0.003000</td>\n",
       "      <td>-0.001411</td>\n",
       "      <td>0.016545</td>\n",
       "      <td>0.068053</td>\n",
       "      <td>0.372915</td>\n",
       "      <td>1.000000</td>\n",
       "      <td>0.935970</td>\n",
       "    </tr>\n",
       "    <tr>\n",
       "      <th>90_target</th>\n",
       "      <td>0.073107</td>\n",
       "      <td>0.073585</td>\n",
       "      <td>-0.011621</td>\n",
       "      <td>0.013177</td>\n",
       "      <td>-0.014987</td>\n",
       "      <td>0.051887</td>\n",
       "      <td>0.048264</td>\n",
       "      <td>0.081735</td>\n",
       "      <td>0.090027</td>\n",
       "      <td>0.112978</td>\n",
       "      <td>...</td>\n",
       "      <td>0.041301</td>\n",
       "      <td>-0.108483</td>\n",
       "      <td>-0.024791</td>\n",
       "      <td>0.002561</td>\n",
       "      <td>-0.008374</td>\n",
       "      <td>0.003437</td>\n",
       "      <td>0.058844</td>\n",
       "      <td>0.344982</td>\n",
       "      <td>0.935970</td>\n",
       "      <td>1.000000</td>\n",
       "    </tr>\n",
       "  </tbody>\n",
       "</table>\n",
       "<p>135 rows × 135 columns</p>\n",
       "</div>"
      ],
      "text/plain": [
       "              ind_5     ind_6     ind_8     ind_9    ind_10    ind_12  \\\n",
       "ind_5      1.000000  0.990115  0.547483 -0.518832  0.644215  0.820822   \n",
       "ind_6      0.990115  1.000000  0.521053 -0.479383  0.604380  0.767504   \n",
       "ind_8      0.547483  0.521053  1.000000 -0.369578  0.826063  0.585052   \n",
       "ind_9     -0.518832 -0.479383 -0.369578  1.000000 -0.828971 -0.602616   \n",
       "ind_10     0.644215  0.604380  0.826063 -0.828971  1.000000  0.717645   \n",
       "...             ...       ...       ...       ...       ...       ...   \n",
       "ind_426    0.621468  0.562515  0.595508 -0.639987  0.746605  0.775348   \n",
       "ind_428    0.816156  0.809119  0.458084 -0.439689  0.542404  0.808156   \n",
       "20_target  0.052210  0.052347 -0.016948 -0.023754  0.004207  0.034990   \n",
       "50_target  0.081537  0.081567  0.001962 -0.005618  0.004588  0.065218   \n",
       "90_target  0.073107  0.073585 -0.011621  0.013177 -0.014987  0.051887   \n",
       "\n",
       "             ind_13    ind_14    ind_15    ind_16  ...   ind_416   ind_418  \\\n",
       "ind_5      0.777479 -0.045803 -0.067730 -0.092888  ... -0.324564 -0.587574   \n",
       "ind_6      0.722541 -0.034480 -0.057776 -0.086007  ... -0.299246 -0.536726   \n",
       "ind_8      0.480337  0.146128  0.119751  0.016810  ... -0.268403 -0.421079   \n",
       "ind_9     -0.560931  0.260789  0.263371  0.172689  ...  0.346778  0.504424   \n",
       "ind_10     0.629334 -0.070218 -0.087661 -0.094621  ... -0.371881 -0.559393   \n",
       "...             ...       ...       ...       ...  ...       ...       ...   \n",
       "ind_426    0.699661 -0.095876 -0.100360 -0.087605  ... -0.370107 -0.583362   \n",
       "ind_428    0.729684 -0.006137 -0.019001 -0.035110  ... -0.281079 -0.459643   \n",
       "20_target  0.041982  0.001557  0.001838  0.025399  ... -0.004466 -0.044326   \n",
       "50_target  0.057671  0.075191  0.087573  0.107244  ...  0.041196 -0.114093   \n",
       "90_target  0.048264  0.081735  0.090027  0.112978  ...  0.041301 -0.108483   \n",
       "\n",
       "            ind_420   ind_422   ind_424   ind_426   ind_428  20_target  \\\n",
       "ind_5     -0.317846 -0.329648  0.078010  0.621468  0.816156   0.052210   \n",
       "ind_6     -0.320019 -0.331171  0.023117  0.562515  0.809119   0.052347   \n",
       "ind_8     -0.144740 -0.159317  0.142893  0.595508  0.458084  -0.016948   \n",
       "ind_9      0.131142  0.160855 -0.180249 -0.639987 -0.439689  -0.023754   \n",
       "ind_10    -0.166660 -0.193456  0.195333  0.746605  0.542404   0.004207   \n",
       "...             ...       ...       ...       ...       ...        ...   \n",
       "ind_426   -0.170756 -0.204524  0.341137  1.000000  0.580932   0.023080   \n",
       "ind_428   -0.327875 -0.358164  0.189822  0.580932  1.000000   0.041987   \n",
       "20_target -0.001936 -0.035405  0.002466  0.023080  0.041987   1.000000   \n",
       "50_target -0.030940  0.003000 -0.001411  0.016545  0.068053   0.372915   \n",
       "90_target -0.024791  0.002561 -0.008374  0.003437  0.058844   0.344982   \n",
       "\n",
       "           50_target  90_target  \n",
       "ind_5       0.081537   0.073107  \n",
       "ind_6       0.081567   0.073585  \n",
       "ind_8       0.001962  -0.011621  \n",
       "ind_9      -0.005618   0.013177  \n",
       "ind_10      0.004588  -0.014987  \n",
       "...              ...        ...  \n",
       "ind_426     0.016545   0.003437  \n",
       "ind_428     0.068053   0.058844  \n",
       "20_target   0.372915   0.344982  \n",
       "50_target   1.000000   0.935970  \n",
       "90_target   0.935970   1.000000  \n",
       "\n",
       "[135 rows x 135 columns]"
      ]
     },
     "execution_count": 135,
     "metadata": {},
     "output_type": "execute_result"
    }
   ],
   "source": [
    "dfcor=dfcor.corr()\n",
    "dfcor"
   ]
  },
  {
   "cell_type": "code",
   "execution_count": 107,
   "metadata": {},
   "outputs": [
    {
     "data": {
      "text/plain": [
       "20_target    1.000000\n",
       "50_target    0.372915\n",
       "90_target    0.344982\n",
       "Name: 20_target, dtype: float64"
      ]
     },
     "execution_count": 107,
     "metadata": {},
     "output_type": "execute_result"
    }
   ],
   "source": [
    "dfcor['20_target'].iloc[:][(dfcor['20_target']>= 0.1)]"
   ]
  },
  {
   "cell_type": "code",
   "execution_count": 111,
   "metadata": {},
   "outputs": [
    {
     "data": {
      "text/plain": [
       "ind_16       0.107244\n",
       "ind_17       0.124296\n",
       "ind_18       0.130508\n",
       "ind_36       0.110087\n",
       "ind_74       0.104423\n",
       "ind_77       0.121269\n",
       "ind_332      0.102745\n",
       "ind_412      0.135387\n",
       "20_target    0.372915\n",
       "50_target    1.000000\n",
       "90_target    0.935970\n",
       "Name: 50_target, dtype: float64"
      ]
     },
     "execution_count": 111,
     "metadata": {},
     "output_type": "execute_result"
    }
   ],
   "source": [
    "dfcor['50_target'].iloc[:][(dfcor['50_target']>= 0.1)]"
   ]
  },
  {
   "cell_type": "code",
   "execution_count": 112,
   "metadata": {
    "scrolled": true
   },
   "outputs": [
    {
     "data": {
      "text/plain": [
       "ind_16       0.112978\n",
       "ind_17       0.131409\n",
       "ind_18       0.142171\n",
       "ind_77       0.107244\n",
       "ind_332      0.104910\n",
       "ind_412      0.134286\n",
       "20_target    0.344982\n",
       "50_target    0.935970\n",
       "90_target    1.000000\n",
       "Name: 90_target, dtype: float64"
      ]
     },
     "execution_count": 112,
     "metadata": {},
     "output_type": "execute_result"
    }
   ],
   "source": [
    "dfcor['90_target'].iloc[:][(dfcor['90_target']>= 0.1)]"
   ]
  },
  {
   "cell_type": "code",
   "execution_count": 136,
   "metadata": {},
   "outputs": [],
   "source": [
    "#50_target is selected as target.\n",
    "df=df.rename(columns={\"50_target\": \"target\"})\n",
    "dfcor=dfcor.rename(columns={\"50_target\": \"target\"})"
   ]
  },
  {
   "cell_type": "markdown",
   "metadata": {},
   "source": [
    "# Numeric Variables-Target"
   ]
  },
  {
   "cell_type": "code",
   "execution_count": 124,
   "metadata": {},
   "outputs": [],
   "source": [
    "## Visualization of variables that have highest correlation with target"
   ]
  },
  {
   "cell_type": "code",
   "execution_count": 125,
   "metadata": {},
   "outputs": [
    {
     "data": {
      "text/plain": [
       "ind_16       0.107244\n",
       "ind_17       0.124296\n",
       "ind_18       0.130508\n",
       "ind_36       0.110087\n",
       "ind_74       0.104423\n",
       "ind_77       0.121269\n",
       "ind_332      0.102745\n",
       "ind_412      0.135387\n",
       "20_target    0.372915\n",
       "50_target    1.000000\n",
       "90_target    0.935970\n",
       "Name: target, dtype: float64"
      ]
     },
     "execution_count": 125,
     "metadata": {},
     "output_type": "execute_result"
    }
   ],
   "source": [
    "dfcor['target'].iloc[:][(dfcor['target']>= 0.1)]"
   ]
  },
  {
   "cell_type": "code",
   "execution_count": 126,
   "metadata": {},
   "outputs": [
    {
     "data": {
      "text/plain": [
       "<seaborn.axisgrid.JointGrid at 0x94e5a48>"
      ]
     },
     "execution_count": 126,
     "metadata": {},
     "output_type": "execute_result"
    },
    {
     "data": {
      "image/png": "[encoded data removed]",
      "text/plain": [
       "<Figure size 432x432 with 3 Axes>"
      ]
     },
     "metadata": {
      "needs_background": "light"
     },
     "output_type": "display_data"
    }
   ],
   "source": [
    "import seaborn as sns \n",
    "sns.jointplot(x=\"ind_412\",y=\"target\",data=df, kind=\"reg\")"
   ]
  },
  {
   "cell_type": "code",
   "execution_count": 128,
   "metadata": {},
   "outputs": [
    {
     "data": {
      "text/plain": [
       "<seaborn.axisgrid.JointGrid at 0x98690c8>"
      ]
     },
     "execution_count": 128,
     "metadata": {},
     "output_type": "execute_result"
    },
    {
     "data": {
      "image/png": "[encoded data removed]",
      "text/plain": [
       "<Figure size 432x432 with 3 Axes>"
      ]
     },
     "metadata": {
      "needs_background": "light"
     },
     "output_type": "display_data"
    }
   ],
   "source": [
    "import seaborn as sns \n",
    "sns.jointplot(x=\"ind_18\",y=\"target\",data=df, kind=\"reg\")"
   ]
  },
  {
   "cell_type": "markdown",
   "metadata": {},
   "source": [
    "## T test between target and categorical variable"
   ]
  },
  {
   "cell_type": "code",
   "execution_count": 249,
   "metadata": {
    "scrolled": false
   },
   "outputs": [
    {
     "name": "stdout",
     "output_type": "stream",
     "text": [
      "    ******KS TEST******\n",
      " \n",
      "Statistic= 0.03600864282964342, p-val=0.06979062305947004\n",
      "H0--> Fail to Reject.\n",
      "\n",
      "***********VARIANCE:************\n",
      "HİPOTEZ:\n",
      "Statistic= 2.470658470515576, p-val=0.11605106555455019\n",
      "H0--> Fail to Reject.\n",
      "\n",
      "**********MEAN:************\n",
      "Statistic= -1.5971919952189828, p-val=0.11028457920722129\n",
      "H0--> Fail to Reject.\n"
     ]
    }
   ],
   "source": [
    "import scipy.stats as stats\n",
    "from scipy.stats import shapiro\n",
    "from pandas import Series, DataFrame\n",
    "A=Series(df[\"target\"].iloc[:][df[\"ind_109\"]=='GREEN'])\n",
    "B=Series(df[\"target\"].iloc[:][df[\"ind_109\"]=='RED'])\n",
    "print(\"    ******KS TEST******\\n \")\n",
    "\n",
    "\n",
    "import scipy\n",
    "        \n",
    "stat, p=scipy.stats.ks_2samp(A,B)\n",
    "print(\"Statistic= {}, p-val={}\".format(stat,p))\n",
    "if p<0.01:\n",
    "    print(\"H0--> Reject. DIFFERENT DISTRIBUTION\\n\")\n",
    "else:\n",
    "    print(\"H0--> Fail to Reject.\\n\")\n",
    "    \n",
    "import scipy.stats as stats\n",
    "        \n",
    "print(\"***********VARIANCE:************\")\n",
    "print(\"HİPOTEZ:\")\n",
    "#print(\"H0:'mortdue-1' and 'mortdue-0' have same variance\\n\")\n",
    "        \n",
    "stat, p=stats.levene(A,B)\n",
    "print(\"Statistic= {}, p-val={}\".format(stat,p))\n",
    "if p<0.01:\n",
    "    print(\"H0--> Reject. DIFFERENT VARIANCE\\n\")\n",
    "else:\n",
    "    print(\"H0--> Fail to Reject.\\n\")\n",
    "            \n",
    "if p<0.01:\n",
    "    equ_var=False\n",
    "else:\n",
    "    equ_var=True\n",
    "print(\"**********MEAN:************\")\n",
    "stat, p=stats.ttest_ind(A,B, equal_var=equ_var)\n",
    "print(\"Statistic= {}, p-val={}\".format(stat,p))\n",
    "if p<0.05:\n",
    "    print(\"H0--> Reject.\\n DIFFERENT MEAN\\n\")\n",
    "else:\n",
    "    print(\"H0--> Fail to Reject.\")"
   ]
  },
  {
   "cell_type": "code",
   "execution_count": null,
   "metadata": {},
   "outputs": [],
   "source": [
    "#target and categorcial variable do not have different mean and variance. ind_109 will be not included model."
   ]
  },
  {
   "cell_type": "code",
   "execution_count": null,
   "metadata": {},
   "outputs": [],
   "source": []
  },
  {
   "cell_type": "markdown",
   "metadata": {},
   "source": [
    "# LINEAR REGRESSION"
   ]
  },
  {
   "cell_type": "markdown",
   "metadata": {},
   "source": [
    "## 1- Statsmodels"
   ]
  },
  {
   "cell_type": "code",
   "execution_count": 180,
   "metadata": {},
   "outputs": [],
   "source": [
    "y=df[\"target\"]\n",
    "X=df.drop([\"ind_109\",\"20_target\",\"90_target\",\"target\"],axis=1)\n",
    "from sklearn.model_selection import train_test_split,cross_val_score,cross_val_predict\n",
    "X_train,X_test,y_train,y_test=train_test_split(X,y,test_size=0.20,random_state=42)\n"
   ]
  },
  {
   "cell_type": "code",
   "execution_count": 181,
   "metadata": {},
   "outputs": [
    {
     "data": {
      "text/plain": [
       "(4100, 132)"
      ]
     },
     "execution_count": 181,
     "metadata": {},
     "output_type": "execute_result"
    }
   ],
   "source": [
    "X_train.shape"
   ]
  },
  {
   "cell_type": "code",
   "execution_count": 182,
   "metadata": {
    "scrolled": false
   },
   "outputs": [
    {
     "data": {
      "text/html": [
       "<table class=\"simpletable\">\n",
       "<caption>OLS Regression Results</caption>\n",
       "<tr>\n",
       "  <th>Dep. Variable:</th>         <td>target</td>      <th>  R-squared (uncentered):</th>      <td>   0.218</td> \n",
       "</tr>\n",
       "<tr>\n",
       "  <th>Model:</th>                   <td>OLS</td>       <th>  Adj. R-squared (uncentered):</th> <td>   0.192</td> \n",
       "</tr>\n",
       "<tr>\n",
       "  <th>Method:</th>             <td>Least Squares</td>  <th>  F-statistic:       </th>          <td>   8.394</td> \n",
       "</tr>\n",
       "<tr>\n",
       "  <th>Date:</th>             <td>Thu, 06 Aug 2020</td> <th>  Prob (F-statistic):</th>          <td>6.24e-132</td>\n",
       "</tr>\n",
       "<tr>\n",
       "  <th>Time:</th>                 <td>00:15:21</td>     <th>  Log-Likelihood:    </th>          <td> -19824.</td> \n",
       "</tr>\n",
       "<tr>\n",
       "  <th>No. Observations:</th>      <td>  4100</td>      <th>  AIC:               </th>          <td>3.991e+04</td>\n",
       "</tr>\n",
       "<tr>\n",
       "  <th>Df Residuals:</th>          <td>  3968</td>      <th>  BIC:               </th>          <td>4.075e+04</td>\n",
       "</tr>\n",
       "<tr>\n",
       "  <th>Df Model:</th>              <td>   132</td>      <th>                     </th>              <td> </td>    \n",
       "</tr>\n",
       "<tr>\n",
       "  <th>Covariance Type:</th>      <td>nonrobust</td>    <th>                     </th>              <td> </td>    \n",
       "</tr>\n",
       "</table>\n",
       "<table class=\"simpletable\">\n",
       "<tr>\n",
       "     <td></td>        <th>coef</th>     <th>std err</th>      <th>t</th>      <th>P>|t|</th>  <th>[0.025</th>    <th>0.975]</th>  \n",
       "</tr>\n",
       "<tr>\n",
       "  <th>ind_5</th>   <td>    1.0142</td> <td>    0.914</td> <td>    1.110</td> <td> 0.267</td> <td>   -0.777</td> <td>    2.805</td>\n",
       "</tr>\n",
       "<tr>\n",
       "  <th>ind_6</th>   <td>    0.2176</td> <td>    0.735</td> <td>    0.296</td> <td> 0.767</td> <td>   -1.223</td> <td>    1.658</td>\n",
       "</tr>\n",
       "<tr>\n",
       "  <th>ind_8</th>   <td>-3.117e+08</td> <td> 1.45e+08</td> <td>   -2.150</td> <td> 0.032</td> <td>-5.96e+08</td> <td>-2.74e+07</td>\n",
       "</tr>\n",
       "<tr>\n",
       "  <th>ind_9</th>   <td> 3.117e+08</td> <td> 1.45e+08</td> <td>    2.150</td> <td> 0.032</td> <td> 2.74e+07</td> <td> 5.96e+08</td>\n",
       "</tr>\n",
       "<tr>\n",
       "  <th>ind_10</th>  <td> 3.117e+08</td> <td> 1.45e+08</td> <td>    2.150</td> <td> 0.032</td> <td> 2.74e+07</td> <td> 5.96e+08</td>\n",
       "</tr>\n",
       "<tr>\n",
       "  <th>ind_12</th>  <td>   -0.2888</td> <td>    2.129</td> <td>   -0.136</td> <td> 0.892</td> <td>   -4.463</td> <td>    3.885</td>\n",
       "</tr>\n",
       "<tr>\n",
       "  <th>ind_13</th>  <td>   -0.0062</td> <td>    0.027</td> <td>   -0.226</td> <td> 0.821</td> <td>   -0.060</td> <td>    0.048</td>\n",
       "</tr>\n",
       "<tr>\n",
       "  <th>ind_14</th>  <td>   -0.0350</td> <td>    0.187</td> <td>   -0.187</td> <td> 0.851</td> <td>   -0.401</td> <td>    0.331</td>\n",
       "</tr>\n",
       "<tr>\n",
       "  <th>ind_15</th>  <td>   -0.0095</td> <td>    0.263</td> <td>   -0.036</td> <td> 0.971</td> <td>   -0.526</td> <td>    0.507</td>\n",
       "</tr>\n",
       "<tr>\n",
       "  <th>ind_16</th>  <td>   -0.0019</td> <td>    0.388</td> <td>   -0.005</td> <td> 0.996</td> <td>   -0.763</td> <td>    0.759</td>\n",
       "</tr>\n",
       "<tr>\n",
       "  <th>ind_17</th>  <td>    0.8341</td> <td>    0.406</td> <td>    2.054</td> <td> 0.040</td> <td>    0.038</td> <td>    1.630</td>\n",
       "</tr>\n",
       "<tr>\n",
       "  <th>ind_18</th>  <td>    1.1985</td> <td>    0.300</td> <td>    4.001</td> <td> 0.000</td> <td>    0.611</td> <td>    1.786</td>\n",
       "</tr>\n",
       "<tr>\n",
       "  <th>ind_19</th>  <td>    0.2322</td> <td>    1.398</td> <td>    0.166</td> <td> 0.868</td> <td>   -2.509</td> <td>    2.973</td>\n",
       "</tr>\n",
       "<tr>\n",
       "  <th>ind_20</th>  <td>    0.3904</td> <td>    1.117</td> <td>    0.350</td> <td> 0.727</td> <td>   -1.799</td> <td>    2.580</td>\n",
       "</tr>\n",
       "<tr>\n",
       "  <th>ind_21</th>  <td>   -0.1657</td> <td>    1.320</td> <td>   -0.126</td> <td> 0.900</td> <td>   -2.753</td> <td>    2.421</td>\n",
       "</tr>\n",
       "<tr>\n",
       "  <th>ind_22</th>  <td>   -0.1495</td> <td>    0.349</td> <td>   -0.429</td> <td> 0.668</td> <td>   -0.833</td> <td>    0.534</td>\n",
       "</tr>\n",
       "<tr>\n",
       "  <th>ind_23</th>  <td>   -0.2593</td> <td>    0.353</td> <td>   -0.734</td> <td> 0.463</td> <td>   -0.952</td> <td>    0.433</td>\n",
       "</tr>\n",
       "<tr>\n",
       "  <th>ind_25</th>  <td>-3.408e+05</td> <td> 1.06e+06</td> <td>   -0.322</td> <td> 0.748</td> <td>-2.42e+06</td> <td> 1.74e+06</td>\n",
       "</tr>\n",
       "<tr>\n",
       "  <th>ind_26</th>  <td>-3.406e+05</td> <td> 1.06e+06</td> <td>   -0.321</td> <td> 0.748</td> <td>-2.42e+06</td> <td> 1.74e+06</td>\n",
       "</tr>\n",
       "<tr>\n",
       "  <th>ind_27</th>  <td> 6.762e+05</td> <td> 2.12e+06</td> <td>    0.319</td> <td> 0.750</td> <td>-3.48e+06</td> <td> 4.83e+06</td>\n",
       "</tr>\n",
       "<tr>\n",
       "  <th>ind_28</th>  <td>    0.0013</td> <td>    0.012</td> <td>    0.104</td> <td> 0.917</td> <td>   -0.023</td> <td>    0.025</td>\n",
       "</tr>\n",
       "<tr>\n",
       "  <th>ind_29</th>  <td>   -0.0192</td> <td>    0.019</td> <td>   -1.005</td> <td> 0.315</td> <td>   -0.057</td> <td>    0.018</td>\n",
       "</tr>\n",
       "<tr>\n",
       "  <th>ind_30</th>  <td>   -0.0464</td> <td>    0.022</td> <td>   -2.157</td> <td> 0.031</td> <td>   -0.089</td> <td>   -0.004</td>\n",
       "</tr>\n",
       "<tr>\n",
       "  <th>ind_31</th>  <td>    0.0661</td> <td>    0.030</td> <td>    2.199</td> <td> 0.028</td> <td>    0.007</td> <td>    0.125</td>\n",
       "</tr>\n",
       "<tr>\n",
       "  <th>ind_32</th>  <td>   -0.0646</td> <td>    0.028</td> <td>   -2.316</td> <td> 0.021</td> <td>   -0.119</td> <td>   -0.010</td>\n",
       "</tr>\n",
       "<tr>\n",
       "  <th>ind_33</th>  <td>    0.0851</td> <td>    0.026</td> <td>    3.297</td> <td> 0.001</td> <td>    0.035</td> <td>    0.136</td>\n",
       "</tr>\n",
       "<tr>\n",
       "  <th>ind_34</th>  <td>   -0.0625</td> <td>    0.030</td> <td>   -2.085</td> <td> 0.037</td> <td>   -0.121</td> <td>   -0.004</td>\n",
       "</tr>\n",
       "<tr>\n",
       "  <th>ind_35</th>  <td>    0.0133</td> <td>    0.025</td> <td>    0.536</td> <td> 0.592</td> <td>   -0.035</td> <td>    0.062</td>\n",
       "</tr>\n",
       "<tr>\n",
       "  <th>ind_36</th>  <td>    0.0003</td> <td>    0.018</td> <td>    0.015</td> <td> 0.988</td> <td>   -0.034</td> <td>    0.035</td>\n",
       "</tr>\n",
       "<tr>\n",
       "  <th>ind_37</th>  <td>    0.1354</td> <td>    0.018</td> <td>    7.394</td> <td> 0.000</td> <td>    0.100</td> <td>    0.171</td>\n",
       "</tr>\n",
       "<tr>\n",
       "  <th>ind_39</th>  <td>   -0.0989</td> <td>    0.084</td> <td>   -1.174</td> <td> 0.240</td> <td>   -0.264</td> <td>    0.066</td>\n",
       "</tr>\n",
       "<tr>\n",
       "  <th>ind_40</th>  <td>   -0.4725</td> <td>    1.345</td> <td>   -0.351</td> <td> 0.725</td> <td>   -3.110</td> <td>    2.165</td>\n",
       "</tr>\n",
       "<tr>\n",
       "  <th>ind_41</th>  <td>   -0.1061</td> <td>    0.079</td> <td>   -1.338</td> <td> 0.181</td> <td>   -0.262</td> <td>    0.049</td>\n",
       "</tr>\n",
       "<tr>\n",
       "  <th>ind_42</th>  <td>    0.5943</td> <td>    0.403</td> <td>    1.476</td> <td> 0.140</td> <td>   -0.195</td> <td>    1.384</td>\n",
       "</tr>\n",
       "<tr>\n",
       "  <th>ind_43</th>  <td>    0.3400</td> <td>    0.267</td> <td>    1.274</td> <td> 0.203</td> <td>   -0.183</td> <td>    0.863</td>\n",
       "</tr>\n",
       "<tr>\n",
       "  <th>ind_44</th>  <td>    0.3384</td> <td>    0.276</td> <td>    1.227</td> <td> 0.220</td> <td>   -0.202</td> <td>    0.879</td>\n",
       "</tr>\n",
       "<tr>\n",
       "  <th>ind_45</th>  <td>   -0.2799</td> <td>    0.275</td> <td>   -1.020</td> <td> 0.308</td> <td>   -0.818</td> <td>    0.258</td>\n",
       "</tr>\n",
       "<tr>\n",
       "  <th>ind_46</th>  <td>   -0.1798</td> <td>    0.242</td> <td>   -0.742</td> <td> 0.458</td> <td>   -0.655</td> <td>    0.295</td>\n",
       "</tr>\n",
       "<tr>\n",
       "  <th>ind_47</th>  <td>    0.7720</td> <td>    0.192</td> <td>    4.014</td> <td> 0.000</td> <td>    0.395</td> <td>    1.149</td>\n",
       "</tr>\n",
       "<tr>\n",
       "  <th>ind_48</th>  <td>    0.0672</td> <td>    0.210</td> <td>    0.320</td> <td> 0.749</td> <td>   -0.345</td> <td>    0.480</td>\n",
       "</tr>\n",
       "<tr>\n",
       "  <th>ind_49</th>  <td>   -0.2613</td> <td>    0.174</td> <td>   -1.502</td> <td> 0.133</td> <td>   -0.602</td> <td>    0.080</td>\n",
       "</tr>\n",
       "<tr>\n",
       "  <th>ind_50</th>  <td>    0.8322</td> <td>    0.136</td> <td>    6.109</td> <td> 0.000</td> <td>    0.565</td> <td>    1.099</td>\n",
       "</tr>\n",
       "<tr>\n",
       "  <th>ind_51</th>  <td>   -0.3829</td> <td>    0.102</td> <td>   -3.764</td> <td> 0.000</td> <td>   -0.582</td> <td>   -0.183</td>\n",
       "</tr>\n",
       "<tr>\n",
       "  <th>ind_52</th>  <td>   -0.5798</td> <td>    0.604</td> <td>   -0.960</td> <td> 0.337</td> <td>   -1.764</td> <td>    0.604</td>\n",
       "</tr>\n",
       "<tr>\n",
       "  <th>ind_53</th>  <td>   -0.0077</td> <td>    0.084</td> <td>   -0.092</td> <td> 0.927</td> <td>   -0.173</td> <td>    0.158</td>\n",
       "</tr>\n",
       "<tr>\n",
       "  <th>ind_56</th>  <td>    0.1410</td> <td>    0.119</td> <td>    1.189</td> <td> 0.235</td> <td>   -0.092</td> <td>    0.374</td>\n",
       "</tr>\n",
       "<tr>\n",
       "  <th>ind_58</th>  <td>    1.2430</td> <td>    1.626</td> <td>    0.765</td> <td> 0.445</td> <td>   -1.944</td> <td>    4.430</td>\n",
       "</tr>\n",
       "<tr>\n",
       "  <th>ind_61</th>  <td>    0.5843</td> <td>    1.695</td> <td>    0.345</td> <td> 0.730</td> <td>   -2.738</td> <td>    3.907</td>\n",
       "</tr>\n",
       "<tr>\n",
       "  <th>ind_62</th>  <td>   -0.0735</td> <td>    0.130</td> <td>   -0.565</td> <td> 0.572</td> <td>   -0.328</td> <td>    0.181</td>\n",
       "</tr>\n",
       "<tr>\n",
       "  <th>ind_65</th>  <td>   -0.1933</td> <td>    0.135</td> <td>   -1.427</td> <td> 0.154</td> <td>   -0.459</td> <td>    0.072</td>\n",
       "</tr>\n",
       "<tr>\n",
       "  <th>ind_67</th>  <td>    0.6177</td> <td>    1.702</td> <td>    0.363</td> <td> 0.717</td> <td>   -2.720</td> <td>    3.955</td>\n",
       "</tr>\n",
       "<tr>\n",
       "  <th>ind_70</th>  <td>    1.6470</td> <td>    1.760</td> <td>    0.936</td> <td> 0.350</td> <td>   -1.804</td> <td>    5.098</td>\n",
       "</tr>\n",
       "<tr>\n",
       "  <th>ind_71</th>  <td>    0.2579</td> <td>    0.134</td> <td>    1.929</td> <td> 0.054</td> <td>   -0.004</td> <td>    0.520</td>\n",
       "</tr>\n",
       "<tr>\n",
       "  <th>ind_74</th>  <td>   -0.3135</td> <td>    0.174</td> <td>   -1.797</td> <td> 0.072</td> <td>   -0.656</td> <td>    0.029</td>\n",
       "</tr>\n",
       "<tr>\n",
       "  <th>ind_77</th>  <td>    0.7393</td> <td>    0.150</td> <td>    4.918</td> <td> 0.000</td> <td>    0.445</td> <td>    1.034</td>\n",
       "</tr>\n",
       "<tr>\n",
       "  <th>ind_82</th>  <td>    6.9273</td> <td>    1.645</td> <td>    4.211</td> <td> 0.000</td> <td>    3.702</td> <td>   10.152</td>\n",
       "</tr>\n",
       "<tr>\n",
       "  <th>ind_83</th>  <td>   -0.1484</td> <td>    0.092</td> <td>   -1.615</td> <td> 0.106</td> <td>   -0.329</td> <td>    0.032</td>\n",
       "</tr>\n",
       "<tr>\n",
       "  <th>ind_88</th>  <td> -355.1678</td> <td> 1351.970</td> <td>   -0.263</td> <td> 0.793</td> <td>-3005.789</td> <td> 2295.453</td>\n",
       "</tr>\n",
       "<tr>\n",
       "  <th>ind_92</th>  <td>    0.0557</td> <td>    1.361</td> <td>    0.041</td> <td> 0.967</td> <td>   -2.612</td> <td>    2.724</td>\n",
       "</tr>\n",
       "<tr>\n",
       "  <th>ind_102</th> <td>   -3.5214</td> <td>    0.924</td> <td>   -3.811</td> <td> 0.000</td> <td>   -5.333</td> <td>   -1.710</td>\n",
       "</tr>\n",
       "<tr>\n",
       "  <th>ind_116</th> <td>   -0.0952</td> <td>    0.442</td> <td>   -0.216</td> <td> 0.829</td> <td>   -0.961</td> <td>    0.770</td>\n",
       "</tr>\n",
       "<tr>\n",
       "  <th>ind_118</th> <td>-5569.2044</td> <td> 1.52e+04</td> <td>   -0.365</td> <td> 0.715</td> <td>-3.54e+04</td> <td> 2.43e+04</td>\n",
       "</tr>\n",
       "<tr>\n",
       "  <th>ind_122</th> <td>   -0.2776</td> <td>    1.399</td> <td>   -0.198</td> <td> 0.843</td> <td>   -3.020</td> <td>    2.465</td>\n",
       "</tr>\n",
       "<tr>\n",
       "  <th>ind_124</th> <td>   -1.0295</td> <td>    0.805</td> <td>   -1.278</td> <td> 0.201</td> <td>   -2.608</td> <td>    0.549</td>\n",
       "</tr>\n",
       "<tr>\n",
       "  <th>ind_128</th> <td>   -2.7854</td> <td>    0.847</td> <td>   -3.288</td> <td> 0.001</td> <td>   -4.446</td> <td>   -1.125</td>\n",
       "</tr>\n",
       "<tr>\n",
       "  <th>ind_130</th> <td>   -1.0522</td> <td>    0.175</td> <td>   -6.009</td> <td> 0.000</td> <td>   -1.396</td> <td>   -0.709</td>\n",
       "</tr>\n",
       "<tr>\n",
       "  <th>ind_132</th> <td>    0.1348</td> <td>    0.061</td> <td>    2.194</td> <td> 0.028</td> <td>    0.014</td> <td>    0.255</td>\n",
       "</tr>\n",
       "<tr>\n",
       "  <th>ind_134</th> <td>   -0.0078</td> <td>    0.181</td> <td>   -0.043</td> <td> 0.966</td> <td>   -0.363</td> <td>    0.348</td>\n",
       "</tr>\n",
       "<tr>\n",
       "  <th>ind_136</th> <td>    0.1977</td> <td>    0.755</td> <td>    0.262</td> <td> 0.793</td> <td>   -1.282</td> <td>    1.678</td>\n",
       "</tr>\n",
       "<tr>\n",
       "  <th>ind_139</th> <td>    0.1030</td> <td>    0.297</td> <td>    0.347</td> <td> 0.729</td> <td>   -0.479</td> <td>    0.685</td>\n",
       "</tr>\n",
       "<tr>\n",
       "  <th>ind_142</th> <td>    0.4283</td> <td>    0.303</td> <td>    1.414</td> <td> 0.158</td> <td>   -0.166</td> <td>    1.022</td>\n",
       "</tr>\n",
       "<tr>\n",
       "  <th>ind_145</th> <td>   24.3129</td> <td>   14.793</td> <td>    1.644</td> <td> 0.100</td> <td>   -4.689</td> <td>   53.315</td>\n",
       "</tr>\n",
       "<tr>\n",
       "  <th>ind_147</th> <td>   -0.2272</td> <td>    0.250</td> <td>   -0.908</td> <td> 0.364</td> <td>   -0.718</td> <td>    0.264</td>\n",
       "</tr>\n",
       "<tr>\n",
       "  <th>ind_150</th> <td>    5.5130</td> <td>    2.858</td> <td>    1.929</td> <td> 0.054</td> <td>   -0.090</td> <td>   11.116</td>\n",
       "</tr>\n",
       "<tr>\n",
       "  <th>ind_153</th> <td>  -12.6822</td> <td>    1.550</td> <td>   -8.182</td> <td> 0.000</td> <td>  -15.721</td> <td>   -9.643</td>\n",
       "</tr>\n",
       "<tr>\n",
       "  <th>ind_156</th> <td>    5.4946</td> <td>    0.764</td> <td>    7.192</td> <td> 0.000</td> <td>    3.997</td> <td>    6.992</td>\n",
       "</tr>\n",
       "<tr>\n",
       "  <th>ind_164</th> <td>   -0.5237</td> <td>    0.280</td> <td>   -1.870</td> <td> 0.062</td> <td>   -1.073</td> <td>    0.025</td>\n",
       "</tr>\n",
       "<tr>\n",
       "  <th>ind_168</th> <td>    0.0392</td> <td>    0.163</td> <td>    0.240</td> <td> 0.810</td> <td>   -0.280</td> <td>    0.359</td>\n",
       "</tr>\n",
       "<tr>\n",
       "  <th>ind_172</th> <td>    0.0584</td> <td>    0.054</td> <td>    1.086</td> <td> 0.277</td> <td>   -0.047</td> <td>    0.164</td>\n",
       "</tr>\n",
       "<tr>\n",
       "  <th>ind_176</th> <td>    0.0428</td> <td>    0.048</td> <td>    0.892</td> <td> 0.373</td> <td>   -0.051</td> <td>    0.137</td>\n",
       "</tr>\n",
       "<tr>\n",
       "  <th>ind_179</th> <td>    0.0132</td> <td>    0.366</td> <td>    0.036</td> <td> 0.971</td> <td>   -0.705</td> <td>    0.731</td>\n",
       "</tr>\n",
       "<tr>\n",
       "  <th>ind_181</th> <td>   -0.3627</td> <td>    0.513</td> <td>   -0.707</td> <td> 0.479</td> <td>   -1.368</td> <td>    0.643</td>\n",
       "</tr>\n",
       "<tr>\n",
       "  <th>ind_188</th> <td>    0.0797</td> <td>    0.060</td> <td>    1.321</td> <td> 0.187</td> <td>   -0.039</td> <td>    0.198</td>\n",
       "</tr>\n",
       "<tr>\n",
       "  <th>ind_194</th> <td>    0.3210</td> <td>    0.144</td> <td>    2.237</td> <td> 0.025</td> <td>    0.040</td> <td>    0.602</td>\n",
       "</tr>\n",
       "<tr>\n",
       "  <th>ind_212</th> <td>    0.0573</td> <td>    0.049</td> <td>    1.175</td> <td> 0.240</td> <td>   -0.038</td> <td>    0.153</td>\n",
       "</tr>\n",
       "<tr>\n",
       "  <th>ind_217</th> <td>    2.0025</td> <td>    0.620</td> <td>    3.231</td> <td> 0.001</td> <td>    0.787</td> <td>    3.218</td>\n",
       "</tr>\n",
       "<tr>\n",
       "  <th>ind_225</th> <td>-2014.4822</td> <td> 6481.302</td> <td>   -0.311</td> <td> 0.756</td> <td>-1.47e+04</td> <td> 1.07e+04</td>\n",
       "</tr>\n",
       "<tr>\n",
       "  <th>ind_228</th> <td>    0.5860</td> <td>    4.877</td> <td>    0.120</td> <td> 0.904</td> <td>   -8.975</td> <td>   10.147</td>\n",
       "</tr>\n",
       "<tr>\n",
       "  <th>ind_234</th> <td> 4.065e+05</td> <td> 1.58e+06</td> <td>    0.258</td> <td> 0.797</td> <td>-2.69e+06</td> <td>  3.5e+06</td>\n",
       "</tr>\n",
       "<tr>\n",
       "  <th>ind_237</th> <td>    0.1192</td> <td>    0.026</td> <td>    4.628</td> <td> 0.000</td> <td>    0.069</td> <td>    0.170</td>\n",
       "</tr>\n",
       "<tr>\n",
       "  <th>ind_239</th> <td>  -32.8938</td> <td> 5552.526</td> <td>   -0.006</td> <td> 0.995</td> <td>-1.09e+04</td> <td> 1.09e+04</td>\n",
       "</tr>\n",
       "<tr>\n",
       "  <th>ind_241</th> <td>    5.2232</td> <td>    1.170</td> <td>    4.465</td> <td> 0.000</td> <td>    2.930</td> <td>    7.516</td>\n",
       "</tr>\n",
       "<tr>\n",
       "  <th>ind_243</th> <td> -423.4727</td> <td>   94.865</td> <td>   -4.464</td> <td> 0.000</td> <td> -609.461</td> <td> -237.484</td>\n",
       "</tr>\n",
       "<tr>\n",
       "  <th>ind_309</th> <td> -534.2111</td> <td> 9715.670</td> <td>   -0.055</td> <td> 0.956</td> <td>-1.96e+04</td> <td> 1.85e+04</td>\n",
       "</tr>\n",
       "<tr>\n",
       "  <th>ind_310</th> <td>    1.6102</td> <td>    1.881</td> <td>    0.856</td> <td> 0.392</td> <td>   -2.078</td> <td>    5.298</td>\n",
       "</tr>\n",
       "<tr>\n",
       "  <th>ind_311</th> <td>   -3.2555</td> <td>    1.303</td> <td>   -2.499</td> <td> 0.012</td> <td>   -5.810</td> <td>   -0.701</td>\n",
       "</tr>\n",
       "<tr>\n",
       "  <th>ind_313</th> <td>  271.6897</td> <td>  109.862</td> <td>    2.473</td> <td> 0.013</td> <td>   56.299</td> <td>  487.080</td>\n",
       "</tr>\n",
       "<tr>\n",
       "  <th>ind_315</th> <td>   -6.1663</td> <td>    1.170</td> <td>   -5.272</td> <td> 0.000</td> <td>   -8.459</td> <td>   -3.873</td>\n",
       "</tr>\n",
       "<tr>\n",
       "  <th>ind_316</th> <td>   -0.2246</td> <td>    0.745</td> <td>   -0.301</td> <td> 0.763</td> <td>   -1.685</td> <td>    1.236</td>\n",
       "</tr>\n",
       "<tr>\n",
       "  <th>ind_318</th> <td>   21.8778</td> <td>   62.409</td> <td>    0.351</td> <td> 0.726</td> <td> -100.478</td> <td>  144.234</td>\n",
       "</tr>\n",
       "<tr>\n",
       "  <th>ind_321</th> <td>   -0.0555</td> <td>    0.018</td> <td>   -3.116</td> <td> 0.002</td> <td>   -0.090</td> <td>   -0.021</td>\n",
       "</tr>\n",
       "<tr>\n",
       "  <th>ind_324</th> <td>-3.384e+04</td> <td> 6169.782</td> <td>   -5.485</td> <td> 0.000</td> <td>-4.59e+04</td> <td>-2.17e+04</td>\n",
       "</tr>\n",
       "<tr>\n",
       "  <th>ind_327</th> <td>   -0.0027</td> <td>    0.022</td> <td>   -0.126</td> <td> 0.899</td> <td>   -0.045</td> <td>    0.040</td>\n",
       "</tr>\n",
       "<tr>\n",
       "  <th>ind_330</th> <td>    9.3089</td> <td>    3.726</td> <td>    2.498</td> <td> 0.013</td> <td>    2.004</td> <td>   16.614</td>\n",
       "</tr>\n",
       "<tr>\n",
       "  <th>ind_332</th> <td>    0.1378</td> <td>    0.032</td> <td>    4.335</td> <td> 0.000</td> <td>    0.075</td> <td>    0.200</td>\n",
       "</tr>\n",
       "<tr>\n",
       "  <th>ind_334</th> <td> 1.213e+05</td> <td> 1.82e+04</td> <td>    6.680</td> <td> 0.000</td> <td> 8.57e+04</td> <td> 1.57e+05</td>\n",
       "</tr>\n",
       "<tr>\n",
       "  <th>ind_338</th> <td>   33.2971</td> <td>    4.076</td> <td>    8.169</td> <td> 0.000</td> <td>   25.306</td> <td>   41.288</td>\n",
       "</tr>\n",
       "<tr>\n",
       "  <th>ind_340</th> <td>   37.7783</td> <td>   11.857</td> <td>    3.186</td> <td> 0.001</td> <td>   14.532</td> <td>   61.024</td>\n",
       "</tr>\n",
       "<tr>\n",
       "  <th>ind_344</th> <td>-2.827e+04</td> <td> 2.65e+04</td> <td>   -1.066</td> <td> 0.286</td> <td>-8.02e+04</td> <td> 2.37e+04</td>\n",
       "</tr>\n",
       "<tr>\n",
       "  <th>ind_345</th> <td>   65.9692</td> <td>   36.430</td> <td>    1.811</td> <td> 0.070</td> <td>   -5.455</td> <td>  137.393</td>\n",
       "</tr>\n",
       "<tr>\n",
       "  <th>ind_347</th> <td>    0.1282</td> <td>    0.192</td> <td>    0.668</td> <td> 0.504</td> <td>   -0.248</td> <td>    0.505</td>\n",
       "</tr>\n",
       "<tr>\n",
       "  <th>ind_349</th> <td>-8.244e+07</td> <td> 3.85e+08</td> <td>   -0.214</td> <td> 0.831</td> <td>-8.38e+08</td> <td> 6.73e+08</td>\n",
       "</tr>\n",
       "<tr>\n",
       "  <th>ind_351</th> <td> -196.8348</td> <td>  919.868</td> <td>   -0.214</td> <td> 0.831</td> <td>-2000.292</td> <td> 1606.623</td>\n",
       "</tr>\n",
       "<tr>\n",
       "  <th>ind_352</th> <td>   -0.4122</td> <td>    2.100</td> <td>   -0.196</td> <td> 0.844</td> <td>   -4.529</td> <td>    3.704</td>\n",
       "</tr>\n",
       "<tr>\n",
       "  <th>ind_387</th> <td>   -0.4504</td> <td>    0.148</td> <td>   -3.038</td> <td> 0.002</td> <td>   -0.741</td> <td>   -0.160</td>\n",
       "</tr>\n",
       "<tr>\n",
       "  <th>ind_392</th> <td>   -0.3297</td> <td>    0.131</td> <td>   -2.510</td> <td> 0.012</td> <td>   -0.587</td> <td>   -0.072</td>\n",
       "</tr>\n",
       "<tr>\n",
       "  <th>ind_397</th> <td>   -0.4634</td> <td>    0.183</td> <td>   -2.531</td> <td> 0.011</td> <td>   -0.822</td> <td>   -0.105</td>\n",
       "</tr>\n",
       "<tr>\n",
       "  <th>ind_399</th> <td> -852.9820</td> <td> 1120.031</td> <td>   -0.762</td> <td> 0.446</td> <td>-3048.872</td> <td> 1342.908</td>\n",
       "</tr>\n",
       "<tr>\n",
       "  <th>ind_403</th> <td>   1.3e+06</td> <td>  4.6e+06</td> <td>    0.283</td> <td> 0.777</td> <td>-7.72e+06</td> <td> 1.03e+07</td>\n",
       "</tr>\n",
       "<tr>\n",
       "  <th>ind_404</th> <td> 1.313e+06</td> <td> 4.65e+06</td> <td>    0.283</td> <td> 0.777</td> <td> -7.8e+06</td> <td> 1.04e+07</td>\n",
       "</tr>\n",
       "<tr>\n",
       "  <th>ind_406</th> <td>    1.1483</td> <td>    1.033</td> <td>    1.112</td> <td> 0.266</td> <td>   -0.877</td> <td>    3.173</td>\n",
       "</tr>\n",
       "<tr>\n",
       "  <th>ind_407</th> <td>    0.8836</td> <td>    0.716</td> <td>    1.234</td> <td> 0.217</td> <td>   -0.520</td> <td>    2.288</td>\n",
       "</tr>\n",
       "<tr>\n",
       "  <th>ind_410</th> <td>   -0.4689</td> <td>    1.018</td> <td>   -0.460</td> <td> 0.645</td> <td>   -2.465</td> <td>    1.527</td>\n",
       "</tr>\n",
       "<tr>\n",
       "  <th>ind_412</th> <td>  719.0051</td> <td>  128.717</td> <td>    5.586</td> <td> 0.000</td> <td>  466.647</td> <td>  971.363</td>\n",
       "</tr>\n",
       "<tr>\n",
       "  <th>ind_414</th> <td>   -0.0235</td> <td>    0.097</td> <td>   -0.242</td> <td> 0.809</td> <td>   -0.214</td> <td>    0.167</td>\n",
       "</tr>\n",
       "<tr>\n",
       "  <th>ind_416</th> <td>    0.1205</td> <td>    0.038</td> <td>    3.157</td> <td> 0.002</td> <td>    0.046</td> <td>    0.195</td>\n",
       "</tr>\n",
       "<tr>\n",
       "  <th>ind_418</th> <td>   -0.1463</td> <td>    0.095</td> <td>   -1.546</td> <td> 0.122</td> <td>   -0.332</td> <td>    0.039</td>\n",
       "</tr>\n",
       "<tr>\n",
       "  <th>ind_420</th> <td>   -0.0546</td> <td>    0.009</td> <td>   -5.987</td> <td> 0.000</td> <td>   -0.072</td> <td>   -0.037</td>\n",
       "</tr>\n",
       "<tr>\n",
       "  <th>ind_422</th> <td>    0.0066</td> <td>    0.009</td> <td>    0.768</td> <td> 0.442</td> <td>   -0.010</td> <td>    0.023</td>\n",
       "</tr>\n",
       "<tr>\n",
       "  <th>ind_424</th> <td>    1.3778</td> <td>    2.164</td> <td>    0.637</td> <td> 0.524</td> <td>   -2.864</td> <td>    5.620</td>\n",
       "</tr>\n",
       "<tr>\n",
       "  <th>ind_426</th> <td>    1.5972</td> <td>    6.114</td> <td>    0.261</td> <td> 0.794</td> <td>  -10.390</td> <td>   13.584</td>\n",
       "</tr>\n",
       "<tr>\n",
       "  <th>ind_428</th> <td>  -32.1528</td> <td>   10.899</td> <td>   -2.950</td> <td> 0.003</td> <td>  -53.520</td> <td>  -10.785</td>\n",
       "</tr>\n",
       "</table>\n",
       "<table class=\"simpletable\">\n",
       "<tr>\n",
       "  <th>Omnibus:</th>       <td>2854.021</td> <th>  Durbin-Watson:     </th> <td>   2.018</td>\n",
       "</tr>\n",
       "<tr>\n",
       "  <th>Prob(Omnibus):</th>  <td> 0.000</td>  <th>  Jarque-Bera (JB):  </th> <td> 260.232</td>\n",
       "</tr>\n",
       "<tr>\n",
       "  <th>Skew:</th>           <td> 0.187</td>  <th>  Prob(JB):          </th> <td>3.10e-57</td>\n",
       "</tr>\n",
       "<tr>\n",
       "  <th>Kurtosis:</th>       <td> 1.824</td>  <th>  Cond. No.          </th> <td>2.77e+11</td>\n",
       "</tr>\n",
       "</table><br/><br/>Warnings:<br/>[1] Standard Errors assume that the covariance matrix of the errors is correctly specified.<br/>[2] The smallest eigenvalue is 6.46e-15. This might indicate that there are<br/>strong multicollinearity problems or that the design matrix is singular."
      ],
      "text/plain": [
       "<class 'statsmodels.iolib.summary.Summary'>\n",
       "\"\"\"\n",
       "                                 OLS Regression Results                                \n",
       "=======================================================================================\n",
       "Dep. Variable:                 target   R-squared (uncentered):                   0.218\n",
       "Model:                            OLS   Adj. R-squared (uncentered):              0.192\n",
       "Method:                 Least Squares   F-statistic:                              8.394\n",
       "Date:                Thu, 06 Aug 2020   Prob (F-statistic):                   6.24e-132\n",
       "Time:                        00:15:21   Log-Likelihood:                         -19824.\n",
       "No. Observations:                4100   AIC:                                  3.991e+04\n",
       "Df Residuals:                    3968   BIC:                                  4.075e+04\n",
       "Df Model:                         132                                                  \n",
       "Covariance Type:            nonrobust                                                  \n",
       "==============================================================================\n",
       "                 coef    std err          t      P>|t|      [0.025      0.975]\n",
       "------------------------------------------------------------------------------\n",
       "ind_5          1.0142      0.914      1.110      0.267      -0.777       2.805\n",
       "ind_6          0.2176      0.735      0.296      0.767      -1.223       1.658\n",
       "ind_8      -3.117e+08   1.45e+08     -2.150      0.032   -5.96e+08   -2.74e+07\n",
       "ind_9       3.117e+08   1.45e+08      2.150      0.032    2.74e+07    5.96e+08\n",
       "ind_10      3.117e+08   1.45e+08      2.150      0.032    2.74e+07    5.96e+08\n",
       "ind_12        -0.2888      2.129     -0.136      0.892      -4.463       3.885\n",
       "ind_13        -0.0062      0.027     -0.226      0.821      -0.060       0.048\n",
       "ind_14        -0.0350      0.187     -0.187      0.851      -0.401       0.331\n",
       "ind_15        -0.0095      0.263     -0.036      0.971      -0.526       0.507\n",
       "ind_16        -0.0019      0.388     -0.005      0.996      -0.763       0.759\n",
       "ind_17         0.8341      0.406      2.054      0.040       0.038       1.630\n",
       "ind_18         1.1985      0.300      4.001      0.000       0.611       1.786\n",
       "ind_19         0.2322      1.398      0.166      0.868      -2.509       2.973\n",
       "ind_20         0.3904      1.117      0.350      0.727      -1.799       2.580\n",
       "ind_21        -0.1657      1.320     -0.126      0.900      -2.753       2.421\n",
       "ind_22        -0.1495      0.349     -0.429      0.668      -0.833       0.534\n",
       "ind_23        -0.2593      0.353     -0.734      0.463      -0.952       0.433\n",
       "ind_25     -3.408e+05   1.06e+06     -0.322      0.748   -2.42e+06    1.74e+06\n",
       "ind_26     -3.406e+05   1.06e+06     -0.321      0.748   -2.42e+06    1.74e+06\n",
       "ind_27      6.762e+05   2.12e+06      0.319      0.750   -3.48e+06    4.83e+06\n",
       "ind_28         0.0013      0.012      0.104      0.917      -0.023       0.025\n",
       "ind_29        -0.0192      0.019     -1.005      0.315      -0.057       0.018\n",
       "ind_30        -0.0464      0.022     -2.157      0.031      -0.089      -0.004\n",
       "ind_31         0.0661      0.030      2.199      0.028       0.007       0.125\n",
       "ind_32        -0.0646      0.028     -2.316      0.021      -0.119      -0.010\n",
       "ind_33         0.0851      0.026      3.297      0.001       0.035       0.136\n",
       "ind_34        -0.0625      0.030     -2.085      0.037      -0.121      -0.004\n",
       "ind_35         0.0133      0.025      0.536      0.592      -0.035       0.062\n",
       "ind_36         0.0003      0.018      0.015      0.988      -0.034       0.035\n",
       "ind_37         0.1354      0.018      7.394      0.000       0.100       0.171\n",
       "ind_39        -0.0989      0.084     -1.174      0.240      -0.264       0.066\n",
       "ind_40        -0.4725      1.345     -0.351      0.725      -3.110       2.165\n",
       "ind_41        -0.1061      0.079     -1.338      0.181      -0.262       0.049\n",
       "ind_42         0.5943      0.403      1.476      0.140      -0.195       1.384\n",
       "ind_43         0.3400      0.267      1.274      0.203      -0.183       0.863\n",
       "ind_44         0.3384      0.276      1.227      0.220      -0.202       0.879\n",
       "ind_45        -0.2799      0.275     -1.020      0.308      -0.818       0.258\n",
       "ind_46        -0.1798      0.242     -0.742      0.458      -0.655       0.295\n",
       "ind_47         0.7720      0.192      4.014      0.000       0.395       1.149\n",
       "ind_48         0.0672      0.210      0.320      0.749      -0.345       0.480\n",
       "ind_49        -0.2613      0.174     -1.502      0.133      -0.602       0.080\n",
       "ind_50         0.8322      0.136      6.109      0.000       0.565       1.099\n",
       "ind_51        -0.3829      0.102     -3.764      0.000      -0.582      -0.183\n",
       "ind_52        -0.5798      0.604     -0.960      0.337      -1.764       0.604\n",
       "ind_53        -0.0077      0.084     -0.092      0.927      -0.173       0.158\n",
       "ind_56         0.1410      0.119      1.189      0.235      -0.092       0.374\n",
       "ind_58         1.2430      1.626      0.765      0.445      -1.944       4.430\n",
       "ind_61         0.5843      1.695      0.345      0.730      -2.738       3.907\n",
       "ind_62        -0.0735      0.130     -0.565      0.572      -0.328       0.181\n",
       "ind_65        -0.1933      0.135     -1.427      0.154      -0.459       0.072\n",
       "ind_67         0.6177      1.702      0.363      0.717      -2.720       3.955\n",
       "ind_70         1.6470      1.760      0.936      0.350      -1.804       5.098\n",
       "ind_71         0.2579      0.134      1.929      0.054      -0.004       0.520\n",
       "ind_74        -0.3135      0.174     -1.797      0.072      -0.656       0.029\n",
       "ind_77         0.7393      0.150      4.918      0.000       0.445       1.034\n",
       "ind_82         6.9273      1.645      4.211      0.000       3.702      10.152\n",
       "ind_83        -0.1484      0.092     -1.615      0.106      -0.329       0.032\n",
       "ind_88      -355.1678   1351.970     -0.263      0.793   -3005.789    2295.453\n",
       "ind_92         0.0557      1.361      0.041      0.967      -2.612       2.724\n",
       "ind_102       -3.5214      0.924     -3.811      0.000      -5.333      -1.710\n",
       "ind_116       -0.0952      0.442     -0.216      0.829      -0.961       0.770\n",
       "ind_118    -5569.2044   1.52e+04     -0.365      0.715   -3.54e+04    2.43e+04\n",
       "ind_122       -0.2776      1.399     -0.198      0.843      -3.020       2.465\n",
       "ind_124       -1.0295      0.805     -1.278      0.201      -2.608       0.549\n",
       "ind_128       -2.7854      0.847     -3.288      0.001      -4.446      -1.125\n",
       "ind_130       -1.0522      0.175     -6.009      0.000      -1.396      -0.709\n",
       "ind_132        0.1348      0.061      2.194      0.028       0.014       0.255\n",
       "ind_134       -0.0078      0.181     -0.043      0.966      -0.363       0.348\n",
       "ind_136        0.1977      0.755      0.262      0.793      -1.282       1.678\n",
       "ind_139        0.1030      0.297      0.347      0.729      -0.479       0.685\n",
       "ind_142        0.4283      0.303      1.414      0.158      -0.166       1.022\n",
       "ind_145       24.3129     14.793      1.644      0.100      -4.689      53.315\n",
       "ind_147       -0.2272      0.250     -0.908      0.364      -0.718       0.264\n",
       "ind_150        5.5130      2.858      1.929      0.054      -0.090      11.116\n",
       "ind_153      -12.6822      1.550     -8.182      0.000     -15.721      -9.643\n",
       "ind_156        5.4946      0.764      7.192      0.000       3.997       6.992\n",
       "ind_164       -0.5237      0.280     -1.870      0.062      -1.073       0.025\n",
       "ind_168        0.0392      0.163      0.240      0.810      -0.280       0.359\n",
       "ind_172        0.0584      0.054      1.086      0.277      -0.047       0.164\n",
       "ind_176        0.0428      0.048      0.892      0.373      -0.051       0.137\n",
       "ind_179        0.0132      0.366      0.036      0.971      -0.705       0.731\n",
       "ind_181       -0.3627      0.513     -0.707      0.479      -1.368       0.643\n",
       "ind_188        0.0797      0.060      1.321      0.187      -0.039       0.198\n",
       "ind_194        0.3210      0.144      2.237      0.025       0.040       0.602\n",
       "ind_212        0.0573      0.049      1.175      0.240      -0.038       0.153\n",
       "ind_217        2.0025      0.620      3.231      0.001       0.787       3.218\n",
       "ind_225    -2014.4822   6481.302     -0.311      0.756   -1.47e+04    1.07e+04\n",
       "ind_228        0.5860      4.877      0.120      0.904      -8.975      10.147\n",
       "ind_234     4.065e+05   1.58e+06      0.258      0.797   -2.69e+06     3.5e+06\n",
       "ind_237        0.1192      0.026      4.628      0.000       0.069       0.170\n",
       "ind_239      -32.8938   5552.526     -0.006      0.995   -1.09e+04    1.09e+04\n",
       "ind_241        5.2232      1.170      4.465      0.000       2.930       7.516\n",
       "ind_243     -423.4727     94.865     -4.464      0.000    -609.461    -237.484\n",
       "ind_309     -534.2111   9715.670     -0.055      0.956   -1.96e+04    1.85e+04\n",
       "ind_310        1.6102      1.881      0.856      0.392      -2.078       5.298\n",
       "ind_311       -3.2555      1.303     -2.499      0.012      -5.810      -0.701\n",
       "ind_313      271.6897    109.862      2.473      0.013      56.299     487.080\n",
       "ind_315       -6.1663      1.170     -5.272      0.000      -8.459      -3.873\n",
       "ind_316       -0.2246      0.745     -0.301      0.763      -1.685       1.236\n",
       "ind_318       21.8778     62.409      0.351      0.726    -100.478     144.234\n",
       "ind_321       -0.0555      0.018     -3.116      0.002      -0.090      -0.021\n",
       "ind_324    -3.384e+04   6169.782     -5.485      0.000   -4.59e+04   -2.17e+04\n",
       "ind_327       -0.0027      0.022     -0.126      0.899      -0.045       0.040\n",
       "ind_330        9.3089      3.726      2.498      0.013       2.004      16.614\n",
       "ind_332        0.1378      0.032      4.335      0.000       0.075       0.200\n",
       "ind_334     1.213e+05   1.82e+04      6.680      0.000    8.57e+04    1.57e+05\n",
       "ind_338       33.2971      4.076      8.169      0.000      25.306      41.288\n",
       "ind_340       37.7783     11.857      3.186      0.001      14.532      61.024\n",
       "ind_344    -2.827e+04   2.65e+04     -1.066      0.286   -8.02e+04    2.37e+04\n",
       "ind_345       65.9692     36.430      1.811      0.070      -5.455     137.393\n",
       "ind_347        0.1282      0.192      0.668      0.504      -0.248       0.505\n",
       "ind_349    -8.244e+07   3.85e+08     -0.214      0.831   -8.38e+08    6.73e+08\n",
       "ind_351     -196.8348    919.868     -0.214      0.831   -2000.292    1606.623\n",
       "ind_352       -0.4122      2.100     -0.196      0.844      -4.529       3.704\n",
       "ind_387       -0.4504      0.148     -3.038      0.002      -0.741      -0.160\n",
       "ind_392       -0.3297      0.131     -2.510      0.012      -0.587      -0.072\n",
       "ind_397       -0.4634      0.183     -2.531      0.011      -0.822      -0.105\n",
       "ind_399     -852.9820   1120.031     -0.762      0.446   -3048.872    1342.908\n",
       "ind_403       1.3e+06    4.6e+06      0.283      0.777   -7.72e+06    1.03e+07\n",
       "ind_404     1.313e+06   4.65e+06      0.283      0.777    -7.8e+06    1.04e+07\n",
       "ind_406        1.1483      1.033      1.112      0.266      -0.877       3.173\n",
       "ind_407        0.8836      0.716      1.234      0.217      -0.520       2.288\n",
       "ind_410       -0.4689      1.018     -0.460      0.645      -2.465       1.527\n",
       "ind_412      719.0051    128.717      5.586      0.000     466.647     971.363\n",
       "ind_414       -0.0235      0.097     -0.242      0.809      -0.214       0.167\n",
       "ind_416        0.1205      0.038      3.157      0.002       0.046       0.195\n",
       "ind_418       -0.1463      0.095     -1.546      0.122      -0.332       0.039\n",
       "ind_420       -0.0546      0.009     -5.987      0.000      -0.072      -0.037\n",
       "ind_422        0.0066      0.009      0.768      0.442      -0.010       0.023\n",
       "ind_424        1.3778      2.164      0.637      0.524      -2.864       5.620\n",
       "ind_426        1.5972      6.114      0.261      0.794     -10.390      13.584\n",
       "ind_428      -32.1528     10.899     -2.950      0.003     -53.520     -10.785\n",
       "==============================================================================\n",
       "Omnibus:                     2854.021   Durbin-Watson:                   2.018\n",
       "Prob(Omnibus):                  0.000   Jarque-Bera (JB):              260.232\n",
       "Skew:                           0.187   Prob(JB):                     3.10e-57\n",
       "Kurtosis:                       1.824   Cond. No.                     2.77e+11\n",
       "==============================================================================\n",
       "\n",
       "Warnings:\n",
       "[1] Standard Errors assume that the covariance matrix of the errors is correctly specified.\n",
       "[2] The smallest eigenvalue is 6.46e-15. This might indicate that there are\n",
       "strong multicollinearity problems or that the design matrix is singular.\n",
       "\"\"\""
      ]
     },
     "execution_count": 182,
     "metadata": {},
     "output_type": "execute_result"
    }
   ],
   "source": [
    "import statsmodels.api as sm \n",
    "lm=sm.OLS(y_train,X_train)\n",
    "model1=lm.fit()\n",
    "model1.summary()"
   ]
  },
  {
   "cell_type": "code",
   "execution_count": 183,
   "metadata": {
    "scrolled": true
   },
   "outputs": [
    {
     "data": {
      "text/plain": [
       "ind_5      0.266981\n",
       "ind_6      0.767093\n",
       "ind_12     0.892099\n",
       "ind_13     0.821033\n",
       "ind_14     0.851482\n",
       "             ...   \n",
       "ind_414    0.808700\n",
       "ind_418    0.122197\n",
       "ind_422    0.442461\n",
       "ind_424    0.524320\n",
       "ind_426    0.793923\n",
       "Length: 88, dtype: float64"
      ]
     },
     "execution_count": 183,
     "metadata": {},
     "output_type": "execute_result"
    }
   ],
   "source": [
    "A=model1.pvalues\n",
    "removing=A[A>0.05]\n",
    "removing"
   ]
  },
  {
   "cell_type": "code",
   "execution_count": 184,
   "metadata": {},
   "outputs": [
    {
     "data": {
      "text/plain": [
       "(4100, 44)"
      ]
     },
     "execution_count": 184,
     "metadata": {},
     "output_type": "execute_result"
    }
   ],
   "source": [
    "X_train=X_train.drop(removing.index,axis=1)\n",
    "X_train.shape"
   ]
  },
  {
   "cell_type": "code",
   "execution_count": 185,
   "metadata": {},
   "outputs": [],
   "source": [
    "X_test=X_test.drop(removing.index,axis=1)\n"
   ]
  },
  {
   "cell_type": "code",
   "execution_count": 186,
   "metadata": {
    "scrolled": true
   },
   "outputs": [
    {
     "data": {
      "text/plain": [
       "(1026, 44)"
      ]
     },
     "execution_count": 186,
     "metadata": {},
     "output_type": "execute_result"
    }
   ],
   "source": [
    "X_test.shape"
   ]
  },
  {
   "cell_type": "markdown",
   "metadata": {},
   "source": [
    "##  Remove variables that have p-value>0.05 #1"
   ]
  },
  {
   "cell_type": "code",
   "execution_count": 187,
   "metadata": {},
   "outputs": [
    {
     "data": {
      "text/html": [
       "<table class=\"simpletable\">\n",
       "<caption>OLS Regression Results</caption>\n",
       "<tr>\n",
       "  <th>Dep. Variable:</th>         <td>target</td>      <th>  R-squared (uncentered):</th>      <td>   0.178</td> \n",
       "</tr>\n",
       "<tr>\n",
       "  <th>Model:</th>                   <td>OLS</td>       <th>  Adj. R-squared (uncentered):</th> <td>   0.169</td> \n",
       "</tr>\n",
       "<tr>\n",
       "  <th>Method:</th>             <td>Least Squares</td>  <th>  F-statistic:       </th>          <td>   20.02</td> \n",
       "</tr>\n",
       "<tr>\n",
       "  <th>Date:</th>             <td>Thu, 06 Aug 2020</td> <th>  Prob (F-statistic):</th>          <td>1.02e-139</td>\n",
       "</tr>\n",
       "<tr>\n",
       "  <th>Time:</th>                 <td>00:15:23</td>     <th>  Log-Likelihood:    </th>          <td> -19926.</td> \n",
       "</tr>\n",
       "<tr>\n",
       "  <th>No. Observations:</th>      <td>  4100</td>      <th>  AIC:               </th>          <td>3.994e+04</td>\n",
       "</tr>\n",
       "<tr>\n",
       "  <th>Df Residuals:</th>          <td>  4056</td>      <th>  BIC:               </th>          <td>4.022e+04</td>\n",
       "</tr>\n",
       "<tr>\n",
       "  <th>Df Model:</th>              <td>    44</td>      <th>                     </th>              <td> </td>    \n",
       "</tr>\n",
       "<tr>\n",
       "  <th>Covariance Type:</th>      <td>nonrobust</td>    <th>                     </th>              <td> </td>    \n",
       "</tr>\n",
       "</table>\n",
       "<table class=\"simpletable\">\n",
       "<tr>\n",
       "     <td></td>        <th>coef</th>     <th>std err</th>      <th>t</th>      <th>P>|t|</th>  <th>[0.025</th>    <th>0.975]</th>  \n",
       "</tr>\n",
       "<tr>\n",
       "  <th>ind_8</th>   <td>-2.924e+08</td> <td> 1.39e+08</td> <td>   -2.101</td> <td> 0.036</td> <td>-5.65e+08</td> <td>-1.95e+07</td>\n",
       "</tr>\n",
       "<tr>\n",
       "  <th>ind_9</th>   <td> 2.924e+08</td> <td> 1.39e+08</td> <td>    2.101</td> <td> 0.036</td> <td> 1.95e+07</td> <td> 5.65e+08</td>\n",
       "</tr>\n",
       "<tr>\n",
       "  <th>ind_10</th>  <td> 2.924e+08</td> <td> 1.39e+08</td> <td>    2.101</td> <td> 0.036</td> <td> 1.95e+07</td> <td> 5.65e+08</td>\n",
       "</tr>\n",
       "<tr>\n",
       "  <th>ind_17</th>  <td>    0.7696</td> <td>    0.134</td> <td>    5.739</td> <td> 0.000</td> <td>    0.507</td> <td>    1.033</td>\n",
       "</tr>\n",
       "<tr>\n",
       "  <th>ind_18</th>  <td>    0.9439</td> <td>    0.256</td> <td>    3.681</td> <td> 0.000</td> <td>    0.441</td> <td>    1.447</td>\n",
       "</tr>\n",
       "<tr>\n",
       "  <th>ind_30</th>  <td>   -0.0185</td> <td>    0.014</td> <td>   -1.305</td> <td> 0.192</td> <td>   -0.046</td> <td>    0.009</td>\n",
       "</tr>\n",
       "<tr>\n",
       "  <th>ind_31</th>  <td>    0.0402</td> <td>    0.026</td> <td>    1.530</td> <td> 0.126</td> <td>   -0.011</td> <td>    0.092</td>\n",
       "</tr>\n",
       "<tr>\n",
       "  <th>ind_32</th>  <td>   -0.0559</td> <td>    0.025</td> <td>   -2.229</td> <td> 0.026</td> <td>   -0.105</td> <td>   -0.007</td>\n",
       "</tr>\n",
       "<tr>\n",
       "  <th>ind_33</th>  <td>    0.0728</td> <td>    0.023</td> <td>    3.152</td> <td> 0.002</td> <td>    0.028</td> <td>    0.118</td>\n",
       "</tr>\n",
       "<tr>\n",
       "  <th>ind_34</th>  <td>   -0.0139</td> <td>    0.018</td> <td>   -0.755</td> <td> 0.450</td> <td>   -0.050</td> <td>    0.022</td>\n",
       "</tr>\n",
       "<tr>\n",
       "  <th>ind_37</th>  <td>    0.1175</td> <td>    0.014</td> <td>    8.559</td> <td> 0.000</td> <td>    0.091</td> <td>    0.144</td>\n",
       "</tr>\n",
       "<tr>\n",
       "  <th>ind_47</th>  <td>    0.4033</td> <td>    0.106</td> <td>    3.821</td> <td> 0.000</td> <td>    0.196</td> <td>    0.610</td>\n",
       "</tr>\n",
       "<tr>\n",
       "  <th>ind_50</th>  <td>    0.5029</td> <td>    0.119</td> <td>    4.221</td> <td> 0.000</td> <td>    0.269</td> <td>    0.736</td>\n",
       "</tr>\n",
       "<tr>\n",
       "  <th>ind_51</th>  <td>   -0.1749</td> <td>    0.088</td> <td>   -1.986</td> <td> 0.047</td> <td>   -0.348</td> <td>   -0.002</td>\n",
       "</tr>\n",
       "<tr>\n",
       "  <th>ind_77</th>  <td>    0.5596</td> <td>    0.086</td> <td>    6.498</td> <td> 0.000</td> <td>    0.391</td> <td>    0.728</td>\n",
       "</tr>\n",
       "<tr>\n",
       "  <th>ind_82</th>  <td>    6.1072</td> <td>    1.539</td> <td>    3.969</td> <td> 0.000</td> <td>    3.091</td> <td>    9.124</td>\n",
       "</tr>\n",
       "<tr>\n",
       "  <th>ind_102</th> <td>   -3.9640</td> <td>    0.793</td> <td>   -4.996</td> <td> 0.000</td> <td>   -5.519</td> <td>   -2.409</td>\n",
       "</tr>\n",
       "<tr>\n",
       "  <th>ind_128</th> <td>   -3.5409</td> <td>    0.679</td> <td>   -5.217</td> <td> 0.000</td> <td>   -4.871</td> <td>   -2.210</td>\n",
       "</tr>\n",
       "<tr>\n",
       "  <th>ind_130</th> <td>   -0.6636</td> <td>    0.105</td> <td>   -6.319</td> <td> 0.000</td> <td>   -0.869</td> <td>   -0.458</td>\n",
       "</tr>\n",
       "<tr>\n",
       "  <th>ind_132</th> <td>    0.2691</td> <td>    0.054</td> <td>    4.968</td> <td> 0.000</td> <td>    0.163</td> <td>    0.375</td>\n",
       "</tr>\n",
       "<tr>\n",
       "  <th>ind_153</th> <td>   -4.7068</td> <td>    0.544</td> <td>   -8.656</td> <td> 0.000</td> <td>   -5.773</td> <td>   -3.641</td>\n",
       "</tr>\n",
       "<tr>\n",
       "  <th>ind_156</th> <td>    3.0045</td> <td>    0.556</td> <td>    5.399</td> <td> 0.000</td> <td>    1.913</td> <td>    4.095</td>\n",
       "</tr>\n",
       "<tr>\n",
       "  <th>ind_194</th> <td>    0.3542</td> <td>    0.131</td> <td>    2.693</td> <td> 0.007</td> <td>    0.096</td> <td>    0.612</td>\n",
       "</tr>\n",
       "<tr>\n",
       "  <th>ind_217</th> <td>    2.0277</td> <td>    0.582</td> <td>    3.485</td> <td> 0.000</td> <td>    0.887</td> <td>    3.168</td>\n",
       "</tr>\n",
       "<tr>\n",
       "  <th>ind_237</th> <td>    0.1209</td> <td>    0.020</td> <td>    6.126</td> <td> 0.000</td> <td>    0.082</td> <td>    0.160</td>\n",
       "</tr>\n",
       "<tr>\n",
       "  <th>ind_241</th> <td>    5.4920</td> <td>    1.027</td> <td>    5.349</td> <td> 0.000</td> <td>    3.479</td> <td>    7.505</td>\n",
       "</tr>\n",
       "<tr>\n",
       "  <th>ind_243</th> <td> -443.8473</td> <td>   83.548</td> <td>   -5.313</td> <td> 0.000</td> <td> -607.647</td> <td> -280.048</td>\n",
       "</tr>\n",
       "<tr>\n",
       "  <th>ind_311</th> <td>   -4.0586</td> <td>    0.990</td> <td>   -4.100</td> <td> 0.000</td> <td>   -5.999</td> <td>   -2.118</td>\n",
       "</tr>\n",
       "<tr>\n",
       "  <th>ind_313</th> <td>  339.3746</td> <td>   83.571</td> <td>    4.061</td> <td> 0.000</td> <td>  175.529</td> <td>  503.220</td>\n",
       "</tr>\n",
       "<tr>\n",
       "  <th>ind_315</th> <td>   -8.0148</td> <td>    1.017</td> <td>   -7.880</td> <td> 0.000</td> <td>  -10.009</td> <td>   -6.021</td>\n",
       "</tr>\n",
       "<tr>\n",
       "  <th>ind_321</th> <td>   -0.0356</td> <td>    0.015</td> <td>   -2.450</td> <td> 0.014</td> <td>   -0.064</td> <td>   -0.007</td>\n",
       "</tr>\n",
       "<tr>\n",
       "  <th>ind_324</th> <td>-2.645e+04</td> <td> 4640.795</td> <td>   -5.699</td> <td> 0.000</td> <td>-3.55e+04</td> <td>-1.73e+04</td>\n",
       "</tr>\n",
       "<tr>\n",
       "  <th>ind_330</th> <td>   10.6686</td> <td>    3.536</td> <td>    3.017</td> <td> 0.003</td> <td>    3.736</td> <td>   17.601</td>\n",
       "</tr>\n",
       "<tr>\n",
       "  <th>ind_332</th> <td>    0.1446</td> <td>    0.031</td> <td>    4.606</td> <td> 0.000</td> <td>    0.083</td> <td>    0.206</td>\n",
       "</tr>\n",
       "<tr>\n",
       "  <th>ind_334</th> <td> 9.983e+04</td> <td> 1.68e+04</td> <td>    5.932</td> <td> 0.000</td> <td> 6.68e+04</td> <td> 1.33e+05</td>\n",
       "</tr>\n",
       "<tr>\n",
       "  <th>ind_338</th> <td>   30.3842</td> <td>    3.727</td> <td>    8.152</td> <td> 0.000</td> <td>   23.077</td> <td>   37.692</td>\n",
       "</tr>\n",
       "<tr>\n",
       "  <th>ind_340</th> <td>   52.9646</td> <td>   11.289</td> <td>    4.692</td> <td> 0.000</td> <td>   30.832</td> <td>   75.097</td>\n",
       "</tr>\n",
       "<tr>\n",
       "  <th>ind_387</th> <td>   -0.2601</td> <td>    0.125</td> <td>   -2.073</td> <td> 0.038</td> <td>   -0.506</td> <td>   -0.014</td>\n",
       "</tr>\n",
       "<tr>\n",
       "  <th>ind_392</th> <td>   -0.1202</td> <td>    0.082</td> <td>   -1.463</td> <td> 0.143</td> <td>   -0.281</td> <td>    0.041</td>\n",
       "</tr>\n",
       "<tr>\n",
       "  <th>ind_397</th> <td>   -0.2976</td> <td>    0.109</td> <td>   -2.739</td> <td> 0.006</td> <td>   -0.511</td> <td>   -0.085</td>\n",
       "</tr>\n",
       "<tr>\n",
       "  <th>ind_412</th> <td>  766.2490</td> <td>  121.776</td> <td>    6.292</td> <td> 0.000</td> <td>  527.501</td> <td> 1004.997</td>\n",
       "</tr>\n",
       "<tr>\n",
       "  <th>ind_416</th> <td>    0.1136</td> <td>    0.036</td> <td>    3.193</td> <td> 0.001</td> <td>    0.044</td> <td>    0.183</td>\n",
       "</tr>\n",
       "<tr>\n",
       "  <th>ind_420</th> <td>   -0.0425</td> <td>    0.007</td> <td>   -6.096</td> <td> 0.000</td> <td>   -0.056</td> <td>   -0.029</td>\n",
       "</tr>\n",
       "<tr>\n",
       "  <th>ind_428</th> <td>   -2.7845</td> <td>    8.065</td> <td>   -0.345</td> <td> 0.730</td> <td>  -18.596</td> <td>   13.027</td>\n",
       "</tr>\n",
       "</table>\n",
       "<table class=\"simpletable\">\n",
       "<tr>\n",
       "  <th>Omnibus:</th>       <td>8487.188</td> <th>  Durbin-Watson:     </th> <td>   2.010</td>\n",
       "</tr>\n",
       "<tr>\n",
       "  <th>Prob(Omnibus):</th>  <td> 0.000</td>  <th>  Jarque-Bera (JB):  </th> <td> 300.574</td>\n",
       "</tr>\n",
       "<tr>\n",
       "  <th>Skew:</th>           <td> 0.180</td>  <th>  Prob(JB):          </th> <td>5.38e-66</td>\n",
       "</tr>\n",
       "<tr>\n",
       "  <th>Kurtosis:</th>       <td> 1.723</td>  <th>  Cond. No.          </th> <td>1.37e+11</td>\n",
       "</tr>\n",
       "</table><br/><br/>Warnings:<br/>[1] Standard Errors assume that the covariance matrix of the errors is correctly specified.<br/>[2] The smallest eigenvalue is 1.7e-14. This might indicate that there are<br/>strong multicollinearity problems or that the design matrix is singular."
      ],
      "text/plain": [
       "<class 'statsmodels.iolib.summary.Summary'>\n",
       "\"\"\"\n",
       "                                 OLS Regression Results                                \n",
       "=======================================================================================\n",
       "Dep. Variable:                 target   R-squared (uncentered):                   0.178\n",
       "Model:                            OLS   Adj. R-squared (uncentered):              0.169\n",
       "Method:                 Least Squares   F-statistic:                              20.02\n",
       "Date:                Thu, 06 Aug 2020   Prob (F-statistic):                   1.02e-139\n",
       "Time:                        00:15:23   Log-Likelihood:                         -19926.\n",
       "No. Observations:                4100   AIC:                                  3.994e+04\n",
       "Df Residuals:                    4056   BIC:                                  4.022e+04\n",
       "Df Model:                          44                                                  \n",
       "Covariance Type:            nonrobust                                                  \n",
       "==============================================================================\n",
       "                 coef    std err          t      P>|t|      [0.025      0.975]\n",
       "------------------------------------------------------------------------------\n",
       "ind_8      -2.924e+08   1.39e+08     -2.101      0.036   -5.65e+08   -1.95e+07\n",
       "ind_9       2.924e+08   1.39e+08      2.101      0.036    1.95e+07    5.65e+08\n",
       "ind_10      2.924e+08   1.39e+08      2.101      0.036    1.95e+07    5.65e+08\n",
       "ind_17         0.7696      0.134      5.739      0.000       0.507       1.033\n",
       "ind_18         0.9439      0.256      3.681      0.000       0.441       1.447\n",
       "ind_30        -0.0185      0.014     -1.305      0.192      -0.046       0.009\n",
       "ind_31         0.0402      0.026      1.530      0.126      -0.011       0.092\n",
       "ind_32        -0.0559      0.025     -2.229      0.026      -0.105      -0.007\n",
       "ind_33         0.0728      0.023      3.152      0.002       0.028       0.118\n",
       "ind_34        -0.0139      0.018     -0.755      0.450      -0.050       0.022\n",
       "ind_37         0.1175      0.014      8.559      0.000       0.091       0.144\n",
       "ind_47         0.4033      0.106      3.821      0.000       0.196       0.610\n",
       "ind_50         0.5029      0.119      4.221      0.000       0.269       0.736\n",
       "ind_51        -0.1749      0.088     -1.986      0.047      -0.348      -0.002\n",
       "ind_77         0.5596      0.086      6.498      0.000       0.391       0.728\n",
       "ind_82         6.1072      1.539      3.969      0.000       3.091       9.124\n",
       "ind_102       -3.9640      0.793     -4.996      0.000      -5.519      -2.409\n",
       "ind_128       -3.5409      0.679     -5.217      0.000      -4.871      -2.210\n",
       "ind_130       -0.6636      0.105     -6.319      0.000      -0.869      -0.458\n",
       "ind_132        0.2691      0.054      4.968      0.000       0.163       0.375\n",
       "ind_153       -4.7068      0.544     -8.656      0.000      -5.773      -3.641\n",
       "ind_156        3.0045      0.556      5.399      0.000       1.913       4.095\n",
       "ind_194        0.3542      0.131      2.693      0.007       0.096       0.612\n",
       "ind_217        2.0277      0.582      3.485      0.000       0.887       3.168\n",
       "ind_237        0.1209      0.020      6.126      0.000       0.082       0.160\n",
       "ind_241        5.4920      1.027      5.349      0.000       3.479       7.505\n",
       "ind_243     -443.8473     83.548     -5.313      0.000    -607.647    -280.048\n",
       "ind_311       -4.0586      0.990     -4.100      0.000      -5.999      -2.118\n",
       "ind_313      339.3746     83.571      4.061      0.000     175.529     503.220\n",
       "ind_315       -8.0148      1.017     -7.880      0.000     -10.009      -6.021\n",
       "ind_321       -0.0356      0.015     -2.450      0.014      -0.064      -0.007\n",
       "ind_324    -2.645e+04   4640.795     -5.699      0.000   -3.55e+04   -1.73e+04\n",
       "ind_330       10.6686      3.536      3.017      0.003       3.736      17.601\n",
       "ind_332        0.1446      0.031      4.606      0.000       0.083       0.206\n",
       "ind_334     9.983e+04   1.68e+04      5.932      0.000    6.68e+04    1.33e+05\n",
       "ind_338       30.3842      3.727      8.152      0.000      23.077      37.692\n",
       "ind_340       52.9646     11.289      4.692      0.000      30.832      75.097\n",
       "ind_387       -0.2601      0.125     -2.073      0.038      -0.506      -0.014\n",
       "ind_392       -0.1202      0.082     -1.463      0.143      -0.281       0.041\n",
       "ind_397       -0.2976      0.109     -2.739      0.006      -0.511      -0.085\n",
       "ind_412      766.2490    121.776      6.292      0.000     527.501    1004.997\n",
       "ind_416        0.1136      0.036      3.193      0.001       0.044       0.183\n",
       "ind_420       -0.0425      0.007     -6.096      0.000      -0.056      -0.029\n",
       "ind_428       -2.7845      8.065     -0.345      0.730     -18.596      13.027\n",
       "==============================================================================\n",
       "Omnibus:                     8487.188   Durbin-Watson:                   2.010\n",
       "Prob(Omnibus):                  0.000   Jarque-Bera (JB):              300.574\n",
       "Skew:                           0.180   Prob(JB):                     5.38e-66\n",
       "Kurtosis:                       1.723   Cond. No.                     1.37e+11\n",
       "==============================================================================\n",
       "\n",
       "Warnings:\n",
       "[1] Standard Errors assume that the covariance matrix of the errors is correctly specified.\n",
       "[2] The smallest eigenvalue is 1.7e-14. This might indicate that there are\n",
       "strong multicollinearity problems or that the design matrix is singular.\n",
       "\"\"\""
      ]
     },
     "execution_count": 187,
     "metadata": {},
     "output_type": "execute_result"
    }
   ],
   "source": [
    "import statsmodels.api as sm \n",
    "lm=sm.OLS(y_train,X_train)\n",
    "model1=lm.fit()\n",
    "model1.summary()"
   ]
  },
  {
   "cell_type": "markdown",
   "metadata": {},
   "source": [
    "##  Remove variables that have p-value>0.05 #2"
   ]
  },
  {
   "cell_type": "code",
   "execution_count": 188,
   "metadata": {},
   "outputs": [
    {
     "data": {
      "text/plain": [
       "ind_30     0.191982\n",
       "ind_31     0.126142\n",
       "ind_34     0.450298\n",
       "ind_392    0.143448\n",
       "ind_428    0.729905\n",
       "dtype: float64"
      ]
     },
     "execution_count": 188,
     "metadata": {},
     "output_type": "execute_result"
    }
   ],
   "source": [
    "A=model1.pvalues\n",
    "removing=A[A>0.05]\n",
    "removing"
   ]
  },
  {
   "cell_type": "code",
   "execution_count": 189,
   "metadata": {},
   "outputs": [
    {
     "data": {
      "text/plain": [
       "(4100, 39)"
      ]
     },
     "execution_count": 189,
     "metadata": {},
     "output_type": "execute_result"
    }
   ],
   "source": [
    "X_train=X_train.drop(removing.index,axis=1)\n",
    "X_train.shape"
   ]
  },
  {
   "cell_type": "code",
   "execution_count": 190,
   "metadata": {},
   "outputs": [
    {
     "data": {
      "text/plain": [
       "(1026, 39)"
      ]
     },
     "execution_count": 190,
     "metadata": {},
     "output_type": "execute_result"
    }
   ],
   "source": [
    "X_test=X_test.drop(removing.index,axis=1)\n",
    "X_test.shape"
   ]
  },
  {
   "cell_type": "code",
   "execution_count": 191,
   "metadata": {},
   "outputs": [
    {
     "data": {
      "text/html": [
       "<table class=\"simpletable\">\n",
       "<caption>OLS Regression Results</caption>\n",
       "<tr>\n",
       "  <th>Dep. Variable:</th>         <td>target</td>      <th>  R-squared (uncentered):</th>      <td>   0.177</td> \n",
       "</tr>\n",
       "<tr>\n",
       "  <th>Model:</th>                   <td>OLS</td>       <th>  Adj. R-squared (uncentered):</th> <td>   0.169</td> \n",
       "</tr>\n",
       "<tr>\n",
       "  <th>Method:</th>             <td>Least Squares</td>  <th>  F-statistic:       </th>          <td>   22.45</td> \n",
       "</tr>\n",
       "<tr>\n",
       "  <th>Date:</th>             <td>Thu, 06 Aug 2020</td> <th>  Prob (F-statistic):</th>          <td>5.83e-142</td>\n",
       "</tr>\n",
       "<tr>\n",
       "  <th>Time:</th>                 <td>00:15:27</td>     <th>  Log-Likelihood:    </th>          <td> -19928.</td> \n",
       "</tr>\n",
       "<tr>\n",
       "  <th>No. Observations:</th>      <td>  4100</td>      <th>  AIC:               </th>          <td>3.993e+04</td>\n",
       "</tr>\n",
       "<tr>\n",
       "  <th>Df Residuals:</th>          <td>  4061</td>      <th>  BIC:               </th>          <td>4.018e+04</td>\n",
       "</tr>\n",
       "<tr>\n",
       "  <th>Df Model:</th>              <td>    39</td>      <th>                     </th>              <td> </td>    \n",
       "</tr>\n",
       "<tr>\n",
       "  <th>Covariance Type:</th>      <td>nonrobust</td>    <th>                     </th>              <td> </td>    \n",
       "</tr>\n",
       "</table>\n",
       "<table class=\"simpletable\">\n",
       "<tr>\n",
       "     <td></td>        <th>coef</th>     <th>std err</th>      <th>t</th>      <th>P>|t|</th>  <th>[0.025</th>    <th>0.975]</th>  \n",
       "</tr>\n",
       "<tr>\n",
       "  <th>ind_8</th>   <td>-3.004e+08</td> <td> 1.39e+08</td> <td>   -2.161</td> <td> 0.031</td> <td>-5.73e+08</td> <td>-2.79e+07</td>\n",
       "</tr>\n",
       "<tr>\n",
       "  <th>ind_9</th>   <td> 3.004e+08</td> <td> 1.39e+08</td> <td>    2.161</td> <td> 0.031</td> <td> 2.79e+07</td> <td> 5.73e+08</td>\n",
       "</tr>\n",
       "<tr>\n",
       "  <th>ind_10</th>  <td> 3.004e+08</td> <td> 1.39e+08</td> <td>    2.161</td> <td> 0.031</td> <td> 2.79e+07</td> <td> 5.73e+08</td>\n",
       "</tr>\n",
       "<tr>\n",
       "  <th>ind_17</th>  <td>    0.7377</td> <td>    0.133</td> <td>    5.548</td> <td> 0.000</td> <td>    0.477</td> <td>    0.998</td>\n",
       "</tr>\n",
       "<tr>\n",
       "  <th>ind_18</th>  <td>    0.9907</td> <td>    0.255</td> <td>    3.881</td> <td> 0.000</td> <td>    0.490</td> <td>    1.491</td>\n",
       "</tr>\n",
       "<tr>\n",
       "  <th>ind_32</th>  <td>   -0.0292</td> <td>    0.016</td> <td>   -1.878</td> <td> 0.060</td> <td>   -0.060</td> <td>    0.001</td>\n",
       "</tr>\n",
       "<tr>\n",
       "  <th>ind_33</th>  <td>    0.0592</td> <td>    0.014</td> <td>    4.150</td> <td> 0.000</td> <td>    0.031</td> <td>    0.087</td>\n",
       "</tr>\n",
       "<tr>\n",
       "  <th>ind_37</th>  <td>    0.1181</td> <td>    0.014</td> <td>    8.650</td> <td> 0.000</td> <td>    0.091</td> <td>    0.145</td>\n",
       "</tr>\n",
       "<tr>\n",
       "  <th>ind_47</th>  <td>    0.3964</td> <td>    0.101</td> <td>    3.933</td> <td> 0.000</td> <td>    0.199</td> <td>    0.594</td>\n",
       "</tr>\n",
       "<tr>\n",
       "  <th>ind_50</th>  <td>    0.5423</td> <td>    0.115</td> <td>    4.716</td> <td> 0.000</td> <td>    0.317</td> <td>    0.768</td>\n",
       "</tr>\n",
       "<tr>\n",
       "  <th>ind_51</th>  <td>   -0.1865</td> <td>    0.088</td> <td>   -2.127</td> <td> 0.033</td> <td>   -0.358</td> <td>   -0.015</td>\n",
       "</tr>\n",
       "<tr>\n",
       "  <th>ind_77</th>  <td>    0.5436</td> <td>    0.085</td> <td>    6.364</td> <td> 0.000</td> <td>    0.376</td> <td>    0.711</td>\n",
       "</tr>\n",
       "<tr>\n",
       "  <th>ind_82</th>  <td>    6.3888</td> <td>    1.528</td> <td>    4.182</td> <td> 0.000</td> <td>    3.394</td> <td>    9.384</td>\n",
       "</tr>\n",
       "<tr>\n",
       "  <th>ind_102</th> <td>   -3.8114</td> <td>    0.785</td> <td>   -4.856</td> <td> 0.000</td> <td>   -5.350</td> <td>   -2.273</td>\n",
       "</tr>\n",
       "<tr>\n",
       "  <th>ind_128</th> <td>   -3.4509</td> <td>    0.667</td> <td>   -5.175</td> <td> 0.000</td> <td>   -4.758</td> <td>   -2.143</td>\n",
       "</tr>\n",
       "<tr>\n",
       "  <th>ind_130</th> <td>   -0.7032</td> <td>    0.100</td> <td>   -7.005</td> <td> 0.000</td> <td>   -0.900</td> <td>   -0.506</td>\n",
       "</tr>\n",
       "<tr>\n",
       "  <th>ind_132</th> <td>    0.2717</td> <td>    0.054</td> <td>    5.020</td> <td> 0.000</td> <td>    0.166</td> <td>    0.378</td>\n",
       "</tr>\n",
       "<tr>\n",
       "  <th>ind_153</th> <td>   -4.8492</td> <td>    0.525</td> <td>   -9.236</td> <td> 0.000</td> <td>   -5.879</td> <td>   -3.820</td>\n",
       "</tr>\n",
       "<tr>\n",
       "  <th>ind_156</th> <td>    3.1406</td> <td>    0.550</td> <td>    5.715</td> <td> 0.000</td> <td>    2.063</td> <td>    4.218</td>\n",
       "</tr>\n",
       "<tr>\n",
       "  <th>ind_194</th> <td>    0.3497</td> <td>    0.130</td> <td>    2.688</td> <td> 0.007</td> <td>    0.095</td> <td>    0.605</td>\n",
       "</tr>\n",
       "<tr>\n",
       "  <th>ind_217</th> <td>    2.0210</td> <td>    0.581</td> <td>    3.477</td> <td> 0.001</td> <td>    0.882</td> <td>    3.160</td>\n",
       "</tr>\n",
       "<tr>\n",
       "  <th>ind_237</th> <td>    0.1202</td> <td>    0.020</td> <td>    6.113</td> <td> 0.000</td> <td>    0.082</td> <td>    0.159</td>\n",
       "</tr>\n",
       "<tr>\n",
       "  <th>ind_241</th> <td>    5.7585</td> <td>    1.011</td> <td>    5.694</td> <td> 0.000</td> <td>    3.776</td> <td>    7.741</td>\n",
       "</tr>\n",
       "<tr>\n",
       "  <th>ind_243</th> <td> -465.3712</td> <td>   82.314</td> <td>   -5.654</td> <td> 0.000</td> <td> -626.752</td> <td> -303.991</td>\n",
       "</tr>\n",
       "<tr>\n",
       "  <th>ind_311</th> <td>   -4.3116</td> <td>    0.973</td> <td>   -4.433</td> <td> 0.000</td> <td>   -6.218</td> <td>   -2.405</td>\n",
       "</tr>\n",
       "<tr>\n",
       "  <th>ind_313</th> <td>  360.3902</td> <td>   82.137</td> <td>    4.388</td> <td> 0.000</td> <td>  199.357</td> <td>  521.424</td>\n",
       "</tr>\n",
       "<tr>\n",
       "  <th>ind_315</th> <td>   -8.0928</td> <td>    1.015</td> <td>   -7.974</td> <td> 0.000</td> <td>  -10.083</td> <td>   -6.103</td>\n",
       "</tr>\n",
       "<tr>\n",
       "  <th>ind_321</th> <td>   -0.0383</td> <td>    0.014</td> <td>   -2.644</td> <td> 0.008</td> <td>   -0.067</td> <td>   -0.010</td>\n",
       "</tr>\n",
       "<tr>\n",
       "  <th>ind_324</th> <td>-2.596e+04</td> <td> 4614.405</td> <td>   -5.627</td> <td> 0.000</td> <td> -3.5e+04</td> <td>-1.69e+04</td>\n",
       "</tr>\n",
       "<tr>\n",
       "  <th>ind_330</th> <td>   10.5117</td> <td>    3.532</td> <td>    2.976</td> <td> 0.003</td> <td>    3.587</td> <td>   17.436</td>\n",
       "</tr>\n",
       "<tr>\n",
       "  <th>ind_332</th> <td>    0.1417</td> <td>    0.031</td> <td>    4.520</td> <td> 0.000</td> <td>    0.080</td> <td>    0.203</td>\n",
       "</tr>\n",
       "<tr>\n",
       "  <th>ind_334</th> <td> 1.006e+05</td> <td> 1.68e+04</td> <td>    5.986</td> <td> 0.000</td> <td> 6.77e+04</td> <td> 1.34e+05</td>\n",
       "</tr>\n",
       "<tr>\n",
       "  <th>ind_338</th> <td>   30.4308</td> <td>    3.723</td> <td>    8.174</td> <td> 0.000</td> <td>   23.132</td> <td>   37.729</td>\n",
       "</tr>\n",
       "<tr>\n",
       "  <th>ind_340</th> <td>   52.5201</td> <td>   11.277</td> <td>    4.657</td> <td> 0.000</td> <td>   30.412</td> <td>   74.628</td>\n",
       "</tr>\n",
       "<tr>\n",
       "  <th>ind_387</th> <td>   -0.2328</td> <td>    0.120</td> <td>   -1.938</td> <td> 0.053</td> <td>   -0.468</td> <td>    0.003</td>\n",
       "</tr>\n",
       "<tr>\n",
       "  <th>ind_397</th> <td>   -0.3297</td> <td>    0.107</td> <td>   -3.078</td> <td> 0.002</td> <td>   -0.540</td> <td>   -0.120</td>\n",
       "</tr>\n",
       "<tr>\n",
       "  <th>ind_412</th> <td>  745.7868</td> <td>  120.558</td> <td>    6.186</td> <td> 0.000</td> <td>  509.427</td> <td>  982.146</td>\n",
       "</tr>\n",
       "<tr>\n",
       "  <th>ind_416</th> <td>    0.1122</td> <td>    0.035</td> <td>    3.181</td> <td> 0.001</td> <td>    0.043</td> <td>    0.181</td>\n",
       "</tr>\n",
       "<tr>\n",
       "  <th>ind_420</th> <td>   -0.0430</td> <td>    0.007</td> <td>   -6.194</td> <td> 0.000</td> <td>   -0.057</td> <td>   -0.029</td>\n",
       "</tr>\n",
       "</table>\n",
       "<table class=\"simpletable\">\n",
       "<tr>\n",
       "  <th>Omnibus:</th>       <td>8705.824</td> <th>  Durbin-Watson:     </th> <td>   2.011</td>\n",
       "</tr>\n",
       "<tr>\n",
       "  <th>Prob(Omnibus):</th>  <td> 0.000</td>  <th>  Jarque-Bera (JB):  </th> <td> 301.592</td>\n",
       "</tr>\n",
       "<tr>\n",
       "  <th>Skew:</th>           <td> 0.181</td>  <th>  Prob(JB):          </th> <td>3.24e-66</td>\n",
       "</tr>\n",
       "<tr>\n",
       "  <th>Kurtosis:</th>       <td> 1.722</td>  <th>  Cond. No.          </th> <td>1.11e+11</td>\n",
       "</tr>\n",
       "</table><br/><br/>Warnings:<br/>[1] Standard Errors assume that the covariance matrix of the errors is correctly specified.<br/>[2] The smallest eigenvalue is 1.7e-14. This might indicate that there are<br/>strong multicollinearity problems or that the design matrix is singular."
      ],
      "text/plain": [
       "<class 'statsmodels.iolib.summary.Summary'>\n",
       "\"\"\"\n",
       "                                 OLS Regression Results                                \n",
       "=======================================================================================\n",
       "Dep. Variable:                 target   R-squared (uncentered):                   0.177\n",
       "Model:                            OLS   Adj. R-squared (uncentered):              0.169\n",
       "Method:                 Least Squares   F-statistic:                              22.45\n",
       "Date:                Thu, 06 Aug 2020   Prob (F-statistic):                   5.83e-142\n",
       "Time:                        00:15:27   Log-Likelihood:                         -19928.\n",
       "No. Observations:                4100   AIC:                                  3.993e+04\n",
       "Df Residuals:                    4061   BIC:                                  4.018e+04\n",
       "Df Model:                          39                                                  \n",
       "Covariance Type:            nonrobust                                                  \n",
       "==============================================================================\n",
       "                 coef    std err          t      P>|t|      [0.025      0.975]\n",
       "------------------------------------------------------------------------------\n",
       "ind_8      -3.004e+08   1.39e+08     -2.161      0.031   -5.73e+08   -2.79e+07\n",
       "ind_9       3.004e+08   1.39e+08      2.161      0.031    2.79e+07    5.73e+08\n",
       "ind_10      3.004e+08   1.39e+08      2.161      0.031    2.79e+07    5.73e+08\n",
       "ind_17         0.7377      0.133      5.548      0.000       0.477       0.998\n",
       "ind_18         0.9907      0.255      3.881      0.000       0.490       1.491\n",
       "ind_32        -0.0292      0.016     -1.878      0.060      -0.060       0.001\n",
       "ind_33         0.0592      0.014      4.150      0.000       0.031       0.087\n",
       "ind_37         0.1181      0.014      8.650      0.000       0.091       0.145\n",
       "ind_47         0.3964      0.101      3.933      0.000       0.199       0.594\n",
       "ind_50         0.5423      0.115      4.716      0.000       0.317       0.768\n",
       "ind_51        -0.1865      0.088     -2.127      0.033      -0.358      -0.015\n",
       "ind_77         0.5436      0.085      6.364      0.000       0.376       0.711\n",
       "ind_82         6.3888      1.528      4.182      0.000       3.394       9.384\n",
       "ind_102       -3.8114      0.785     -4.856      0.000      -5.350      -2.273\n",
       "ind_128       -3.4509      0.667     -5.175      0.000      -4.758      -2.143\n",
       "ind_130       -0.7032      0.100     -7.005      0.000      -0.900      -0.506\n",
       "ind_132        0.2717      0.054      5.020      0.000       0.166       0.378\n",
       "ind_153       -4.8492      0.525     -9.236      0.000      -5.879      -3.820\n",
       "ind_156        3.1406      0.550      5.715      0.000       2.063       4.218\n",
       "ind_194        0.3497      0.130      2.688      0.007       0.095       0.605\n",
       "ind_217        2.0210      0.581      3.477      0.001       0.882       3.160\n",
       "ind_237        0.1202      0.020      6.113      0.000       0.082       0.159\n",
       "ind_241        5.7585      1.011      5.694      0.000       3.776       7.741\n",
       "ind_243     -465.3712     82.314     -5.654      0.000    -626.752    -303.991\n",
       "ind_311       -4.3116      0.973     -4.433      0.000      -6.218      -2.405\n",
       "ind_313      360.3902     82.137      4.388      0.000     199.357     521.424\n",
       "ind_315       -8.0928      1.015     -7.974      0.000     -10.083      -6.103\n",
       "ind_321       -0.0383      0.014     -2.644      0.008      -0.067      -0.010\n",
       "ind_324    -2.596e+04   4614.405     -5.627      0.000    -3.5e+04   -1.69e+04\n",
       "ind_330       10.5117      3.532      2.976      0.003       3.587      17.436\n",
       "ind_332        0.1417      0.031      4.520      0.000       0.080       0.203\n",
       "ind_334     1.006e+05   1.68e+04      5.986      0.000    6.77e+04    1.34e+05\n",
       "ind_338       30.4308      3.723      8.174      0.000      23.132      37.729\n",
       "ind_340       52.5201     11.277      4.657      0.000      30.412      74.628\n",
       "ind_387       -0.2328      0.120     -1.938      0.053      -0.468       0.003\n",
       "ind_397       -0.3297      0.107     -3.078      0.002      -0.540      -0.120\n",
       "ind_412      745.7868    120.558      6.186      0.000     509.427     982.146\n",
       "ind_416        0.1122      0.035      3.181      0.001       0.043       0.181\n",
       "ind_420       -0.0430      0.007     -6.194      0.000      -0.057      -0.029\n",
       "==============================================================================\n",
       "Omnibus:                     8705.824   Durbin-Watson:                   2.011\n",
       "Prob(Omnibus):                  0.000   Jarque-Bera (JB):              301.592\n",
       "Skew:                           0.181   Prob(JB):                     3.24e-66\n",
       "Kurtosis:                       1.722   Cond. No.                     1.11e+11\n",
       "==============================================================================\n",
       "\n",
       "Warnings:\n",
       "[1] Standard Errors assume that the covariance matrix of the errors is correctly specified.\n",
       "[2] The smallest eigenvalue is 1.7e-14. This might indicate that there are\n",
       "strong multicollinearity problems or that the design matrix is singular.\n",
       "\"\"\""
      ]
     },
     "execution_count": 191,
     "metadata": {},
     "output_type": "execute_result"
    }
   ],
   "source": [
    "import statsmodels.api as sm \n",
    "lm=sm.OLS(y_train,X_train)\n",
    "model1=lm.fit()\n",
    "model1.summary()"
   ]
  },
  {
   "cell_type": "markdown",
   "metadata": {},
   "source": [
    "##  Remove variables that have p-value>0.05 #3\n"
   ]
  },
  {
   "cell_type": "code",
   "execution_count": 192,
   "metadata": {},
   "outputs": [
    {
     "data": {
      "text/plain": [
       "ind_32     0.060414\n",
       "ind_387    0.052686\n",
       "dtype: float64"
      ]
     },
     "execution_count": 192,
     "metadata": {},
     "output_type": "execute_result"
    }
   ],
   "source": [
    "A=model1.pvalues\n",
    "removing=A[A>0.05]\n",
    "removing"
   ]
  },
  {
   "cell_type": "code",
   "execution_count": 193,
   "metadata": {},
   "outputs": [
    {
     "data": {
      "text/plain": [
       "(4100, 37)"
      ]
     },
     "execution_count": 193,
     "metadata": {},
     "output_type": "execute_result"
    }
   ],
   "source": [
    "X_train=X_train.drop(removing.index,axis=1)\n",
    "X_train.shape"
   ]
  },
  {
   "cell_type": "code",
   "execution_count": 194,
   "metadata": {},
   "outputs": [
    {
     "data": {
      "text/plain": [
       "(1026, 37)"
      ]
     },
     "execution_count": 194,
     "metadata": {},
     "output_type": "execute_result"
    }
   ],
   "source": [
    "X_test=X_test.drop(removing.index,axis=1)\n",
    "X_test.shape"
   ]
  },
  {
   "cell_type": "code",
   "execution_count": null,
   "metadata": {},
   "outputs": [],
   "source": []
  },
  {
   "cell_type": "code",
   "execution_count": 195,
   "metadata": {},
   "outputs": [
    {
     "data": {
      "text/html": [
       "<table class=\"simpletable\">\n",
       "<caption>OLS Regression Results</caption>\n",
       "<tr>\n",
       "  <th>Dep. Variable:</th>         <td>target</td>      <th>  R-squared (uncentered):</th>      <td>   0.176</td> \n",
       "</tr>\n",
       "<tr>\n",
       "  <th>Model:</th>                   <td>OLS</td>       <th>  Adj. R-squared (uncentered):</th> <td>   0.168</td> \n",
       "</tr>\n",
       "<tr>\n",
       "  <th>Method:</th>             <td>Least Squares</td>  <th>  F-statistic:       </th>          <td>   23.42</td> \n",
       "</tr>\n",
       "<tr>\n",
       "  <th>Date:</th>             <td>Thu, 06 Aug 2020</td> <th>  Prob (F-statistic):</th>          <td>9.98e-142</td>\n",
       "</tr>\n",
       "<tr>\n",
       "  <th>Time:</th>                 <td>00:15:34</td>     <th>  Log-Likelihood:    </th>          <td> -19932.</td> \n",
       "</tr>\n",
       "<tr>\n",
       "  <th>No. Observations:</th>      <td>  4100</td>      <th>  AIC:               </th>          <td>3.994e+04</td>\n",
       "</tr>\n",
       "<tr>\n",
       "  <th>Df Residuals:</th>          <td>  4063</td>      <th>  BIC:               </th>          <td>4.017e+04</td>\n",
       "</tr>\n",
       "<tr>\n",
       "  <th>Df Model:</th>              <td>    37</td>      <th>                     </th>              <td> </td>    \n",
       "</tr>\n",
       "<tr>\n",
       "  <th>Covariance Type:</th>      <td>nonrobust</td>    <th>                     </th>              <td> </td>    \n",
       "</tr>\n",
       "</table>\n",
       "<table class=\"simpletable\">\n",
       "<tr>\n",
       "     <td></td>        <th>coef</th>     <th>std err</th>      <th>t</th>      <th>P>|t|</th>  <th>[0.025</th>    <th>0.975]</th>  \n",
       "</tr>\n",
       "<tr>\n",
       "  <th>ind_8</th>   <td> -2.93e+08</td> <td> 1.39e+08</td> <td>   -2.109</td> <td> 0.035</td> <td>-5.65e+08</td> <td>-2.07e+07</td>\n",
       "</tr>\n",
       "<tr>\n",
       "  <th>ind_9</th>   <td>  2.93e+08</td> <td> 1.39e+08</td> <td>    2.109</td> <td> 0.035</td> <td> 2.07e+07</td> <td> 5.65e+08</td>\n",
       "</tr>\n",
       "<tr>\n",
       "  <th>ind_10</th>  <td>  2.93e+08</td> <td> 1.39e+08</td> <td>    2.109</td> <td> 0.035</td> <td> 2.07e+07</td> <td> 5.65e+08</td>\n",
       "</tr>\n",
       "<tr>\n",
       "  <th>ind_17</th>  <td>    0.7381</td> <td>    0.133</td> <td>    5.550</td> <td> 0.000</td> <td>    0.477</td> <td>    0.999</td>\n",
       "</tr>\n",
       "<tr>\n",
       "  <th>ind_18</th>  <td>    0.9821</td> <td>    0.255</td> <td>    3.850</td> <td> 0.000</td> <td>    0.482</td> <td>    1.482</td>\n",
       "</tr>\n",
       "<tr>\n",
       "  <th>ind_33</th>  <td>    0.0360</td> <td>    0.009</td> <td>    4.015</td> <td> 0.000</td> <td>    0.018</td> <td>    0.054</td>\n",
       "</tr>\n",
       "<tr>\n",
       "  <th>ind_37</th>  <td>    0.1130</td> <td>    0.014</td> <td>    8.360</td> <td> 0.000</td> <td>    0.087</td> <td>    0.140</td>\n",
       "</tr>\n",
       "<tr>\n",
       "  <th>ind_47</th>  <td>    0.4156</td> <td>    0.100</td> <td>    4.151</td> <td> 0.000</td> <td>    0.219</td> <td>    0.612</td>\n",
       "</tr>\n",
       "<tr>\n",
       "  <th>ind_50</th>  <td>    0.5465</td> <td>    0.115</td> <td>    4.752</td> <td> 0.000</td> <td>    0.321</td> <td>    0.772</td>\n",
       "</tr>\n",
       "<tr>\n",
       "  <th>ind_51</th>  <td>   -0.1989</td> <td>    0.088</td> <td>   -2.271</td> <td> 0.023</td> <td>   -0.371</td> <td>   -0.027</td>\n",
       "</tr>\n",
       "<tr>\n",
       "  <th>ind_77</th>  <td>    0.5630</td> <td>    0.085</td> <td>    6.616</td> <td> 0.000</td> <td>    0.396</td> <td>    0.730</td>\n",
       "</tr>\n",
       "<tr>\n",
       "  <th>ind_82</th>  <td>    6.7503</td> <td>    1.511</td> <td>    4.468</td> <td> 0.000</td> <td>    3.788</td> <td>    9.713</td>\n",
       "</tr>\n",
       "<tr>\n",
       "  <th>ind_102</th> <td>   -3.8341</td> <td>    0.785</td> <td>   -4.886</td> <td> 0.000</td> <td>   -5.373</td> <td>   -2.296</td>\n",
       "</tr>\n",
       "<tr>\n",
       "  <th>ind_128</th> <td>   -3.4971</td> <td>    0.666</td> <td>   -5.252</td> <td> 0.000</td> <td>   -4.802</td> <td>   -2.192</td>\n",
       "</tr>\n",
       "<tr>\n",
       "  <th>ind_130</th> <td>   -0.6873</td> <td>    0.100</td> <td>   -6.853</td> <td> 0.000</td> <td>   -0.884</td> <td>   -0.491</td>\n",
       "</tr>\n",
       "<tr>\n",
       "  <th>ind_132</th> <td>    0.2919</td> <td>    0.053</td> <td>    5.456</td> <td> 0.000</td> <td>    0.187</td> <td>    0.397</td>\n",
       "</tr>\n",
       "<tr>\n",
       "  <th>ind_153</th> <td>   -4.5970</td> <td>    0.515</td> <td>   -8.925</td> <td> 0.000</td> <td>   -5.607</td> <td>   -3.587</td>\n",
       "</tr>\n",
       "<tr>\n",
       "  <th>ind_156</th> <td>    3.3775</td> <td>    0.532</td> <td>    6.344</td> <td> 0.000</td> <td>    2.334</td> <td>    4.421</td>\n",
       "</tr>\n",
       "<tr>\n",
       "  <th>ind_194</th> <td>    0.0719</td> <td>    0.035</td> <td>    2.034</td> <td> 0.042</td> <td>    0.003</td> <td>    0.141</td>\n",
       "</tr>\n",
       "<tr>\n",
       "  <th>ind_217</th> <td>    1.9431</td> <td>    0.580</td> <td>    3.348</td> <td> 0.001</td> <td>    0.805</td> <td>    3.081</td>\n",
       "</tr>\n",
       "<tr>\n",
       "  <th>ind_237</th> <td>    0.1201</td> <td>    0.020</td> <td>    6.105</td> <td> 0.000</td> <td>    0.082</td> <td>    0.159</td>\n",
       "</tr>\n",
       "<tr>\n",
       "  <th>ind_241</th> <td>    5.9639</td> <td>    1.008</td> <td>    5.917</td> <td> 0.000</td> <td>    3.988</td> <td>    7.940</td>\n",
       "</tr>\n",
       "<tr>\n",
       "  <th>ind_243</th> <td> -481.8934</td> <td>   82.053</td> <td>   -5.873</td> <td> 0.000</td> <td> -642.761</td> <td> -321.025</td>\n",
       "</tr>\n",
       "<tr>\n",
       "  <th>ind_311</th> <td>   -4.4530</td> <td>    0.970</td> <td>   -4.592</td> <td> 0.000</td> <td>   -6.354</td> <td>   -2.552</td>\n",
       "</tr>\n",
       "<tr>\n",
       "  <th>ind_313</th> <td>  372.7892</td> <td>   81.900</td> <td>    4.552</td> <td> 0.000</td> <td>  212.219</td> <td>  533.359</td>\n",
       "</tr>\n",
       "<tr>\n",
       "  <th>ind_315</th> <td>   -8.0621</td> <td>    1.016</td> <td>   -7.939</td> <td> 0.000</td> <td>  -10.053</td> <td>   -6.071</td>\n",
       "</tr>\n",
       "<tr>\n",
       "  <th>ind_321</th> <td>   -0.0391</td> <td>    0.014</td> <td>   -2.723</td> <td> 0.006</td> <td>   -0.067</td> <td>   -0.011</td>\n",
       "</tr>\n",
       "<tr>\n",
       "  <th>ind_324</th> <td>-2.684e+04</td> <td> 4604.621</td> <td>   -5.829</td> <td> 0.000</td> <td>-3.59e+04</td> <td>-1.78e+04</td>\n",
       "</tr>\n",
       "<tr>\n",
       "  <th>ind_330</th> <td>   10.3514</td> <td>    3.533</td> <td>    2.930</td> <td> 0.003</td> <td>    3.424</td> <td>   17.279</td>\n",
       "</tr>\n",
       "<tr>\n",
       "  <th>ind_332</th> <td>    0.1444</td> <td>    0.031</td> <td>    4.606</td> <td> 0.000</td> <td>    0.083</td> <td>    0.206</td>\n",
       "</tr>\n",
       "<tr>\n",
       "  <th>ind_334</th> <td> 9.896e+04</td> <td> 1.68e+04</td> <td>    5.886</td> <td> 0.000</td> <td>  6.6e+04</td> <td> 1.32e+05</td>\n",
       "</tr>\n",
       "<tr>\n",
       "  <th>ind_338</th> <td>   30.1327</td> <td>    3.723</td> <td>    8.094</td> <td> 0.000</td> <td>   22.834</td> <td>   37.431</td>\n",
       "</tr>\n",
       "<tr>\n",
       "  <th>ind_340</th> <td>   53.3741</td> <td>   11.278</td> <td>    4.732</td> <td> 0.000</td> <td>   31.262</td> <td>   75.486</td>\n",
       "</tr>\n",
       "<tr>\n",
       "  <th>ind_397</th> <td>   -0.3213</td> <td>    0.107</td> <td>   -3.002</td> <td> 0.003</td> <td>   -0.531</td> <td>   -0.111</td>\n",
       "</tr>\n",
       "<tr>\n",
       "  <th>ind_412</th> <td>  758.9667</td> <td>  120.510</td> <td>    6.298</td> <td> 0.000</td> <td>  522.701</td> <td>  995.232</td>\n",
       "</tr>\n",
       "<tr>\n",
       "  <th>ind_416</th> <td>    0.1142</td> <td>    0.035</td> <td>    3.239</td> <td> 0.001</td> <td>    0.045</td> <td>    0.183</td>\n",
       "</tr>\n",
       "<tr>\n",
       "  <th>ind_420</th> <td>   -0.0431</td> <td>    0.007</td> <td>   -6.216</td> <td> 0.000</td> <td>   -0.057</td> <td>   -0.030</td>\n",
       "</tr>\n",
       "</table>\n",
       "<table class=\"simpletable\">\n",
       "<tr>\n",
       "  <th>Omnibus:</th>       <td>10021.957</td> <th>  Durbin-Watson:     </th> <td>   2.012</td>\n",
       "</tr>\n",
       "<tr>\n",
       "  <th>Prob(Omnibus):</th>  <td> 0.000</td>   <th>  Jarque-Bera (JB):  </th> <td> 305.335</td>\n",
       "</tr>\n",
       "<tr>\n",
       "  <th>Skew:</th>           <td> 0.182</td>   <th>  Prob(JB):          </th> <td>4.98e-67</td>\n",
       "</tr>\n",
       "<tr>\n",
       "  <th>Kurtosis:</th>       <td> 1.714</td>   <th>  Cond. No.          </th> <td>1.03e+11</td>\n",
       "</tr>\n",
       "</table><br/><br/>Warnings:<br/>[1] Standard Errors assume that the covariance matrix of the errors is correctly specified.<br/>[2] The smallest eigenvalue is 1.7e-14. This might indicate that there are<br/>strong multicollinearity problems or that the design matrix is singular."
      ],
      "text/plain": [
       "<class 'statsmodels.iolib.summary.Summary'>\n",
       "\"\"\"\n",
       "                                 OLS Regression Results                                \n",
       "=======================================================================================\n",
       "Dep. Variable:                 target   R-squared (uncentered):                   0.176\n",
       "Model:                            OLS   Adj. R-squared (uncentered):              0.168\n",
       "Method:                 Least Squares   F-statistic:                              23.42\n",
       "Date:                Thu, 06 Aug 2020   Prob (F-statistic):                   9.98e-142\n",
       "Time:                        00:15:34   Log-Likelihood:                         -19932.\n",
       "No. Observations:                4100   AIC:                                  3.994e+04\n",
       "Df Residuals:                    4063   BIC:                                  4.017e+04\n",
       "Df Model:                          37                                                  \n",
       "Covariance Type:            nonrobust                                                  \n",
       "==============================================================================\n",
       "                 coef    std err          t      P>|t|      [0.025      0.975]\n",
       "------------------------------------------------------------------------------\n",
       "ind_8       -2.93e+08   1.39e+08     -2.109      0.035   -5.65e+08   -2.07e+07\n",
       "ind_9        2.93e+08   1.39e+08      2.109      0.035    2.07e+07    5.65e+08\n",
       "ind_10       2.93e+08   1.39e+08      2.109      0.035    2.07e+07    5.65e+08\n",
       "ind_17         0.7381      0.133      5.550      0.000       0.477       0.999\n",
       "ind_18         0.9821      0.255      3.850      0.000       0.482       1.482\n",
       "ind_33         0.0360      0.009      4.015      0.000       0.018       0.054\n",
       "ind_37         0.1130      0.014      8.360      0.000       0.087       0.140\n",
       "ind_47         0.4156      0.100      4.151      0.000       0.219       0.612\n",
       "ind_50         0.5465      0.115      4.752      0.000       0.321       0.772\n",
       "ind_51        -0.1989      0.088     -2.271      0.023      -0.371      -0.027\n",
       "ind_77         0.5630      0.085      6.616      0.000       0.396       0.730\n",
       "ind_82         6.7503      1.511      4.468      0.000       3.788       9.713\n",
       "ind_102       -3.8341      0.785     -4.886      0.000      -5.373      -2.296\n",
       "ind_128       -3.4971      0.666     -5.252      0.000      -4.802      -2.192\n",
       "ind_130       -0.6873      0.100     -6.853      0.000      -0.884      -0.491\n",
       "ind_132        0.2919      0.053      5.456      0.000       0.187       0.397\n",
       "ind_153       -4.5970      0.515     -8.925      0.000      -5.607      -3.587\n",
       "ind_156        3.3775      0.532      6.344      0.000       2.334       4.421\n",
       "ind_194        0.0719      0.035      2.034      0.042       0.003       0.141\n",
       "ind_217        1.9431      0.580      3.348      0.001       0.805       3.081\n",
       "ind_237        0.1201      0.020      6.105      0.000       0.082       0.159\n",
       "ind_241        5.9639      1.008      5.917      0.000       3.988       7.940\n",
       "ind_243     -481.8934     82.053     -5.873      0.000    -642.761    -321.025\n",
       "ind_311       -4.4530      0.970     -4.592      0.000      -6.354      -2.552\n",
       "ind_313      372.7892     81.900      4.552      0.000     212.219     533.359\n",
       "ind_315       -8.0621      1.016     -7.939      0.000     -10.053      -6.071\n",
       "ind_321       -0.0391      0.014     -2.723      0.006      -0.067      -0.011\n",
       "ind_324    -2.684e+04   4604.621     -5.829      0.000   -3.59e+04   -1.78e+04\n",
       "ind_330       10.3514      3.533      2.930      0.003       3.424      17.279\n",
       "ind_332        0.1444      0.031      4.606      0.000       0.083       0.206\n",
       "ind_334     9.896e+04   1.68e+04      5.886      0.000     6.6e+04    1.32e+05\n",
       "ind_338       30.1327      3.723      8.094      0.000      22.834      37.431\n",
       "ind_340       53.3741     11.278      4.732      0.000      31.262      75.486\n",
       "ind_397       -0.3213      0.107     -3.002      0.003      -0.531      -0.111\n",
       "ind_412      758.9667    120.510      6.298      0.000     522.701     995.232\n",
       "ind_416        0.1142      0.035      3.239      0.001       0.045       0.183\n",
       "ind_420       -0.0431      0.007     -6.216      0.000      -0.057      -0.030\n",
       "==============================================================================\n",
       "Omnibus:                    10021.957   Durbin-Watson:                   2.012\n",
       "Prob(Omnibus):                  0.000   Jarque-Bera (JB):              305.335\n",
       "Skew:                           0.182   Prob(JB):                     4.98e-67\n",
       "Kurtosis:                       1.714   Cond. No.                     1.03e+11\n",
       "==============================================================================\n",
       "\n",
       "Warnings:\n",
       "[1] Standard Errors assume that the covariance matrix of the errors is correctly specified.\n",
       "[2] The smallest eigenvalue is 1.7e-14. This might indicate that there are\n",
       "strong multicollinearity problems or that the design matrix is singular.\n",
       "\"\"\""
      ]
     },
     "execution_count": 195,
     "metadata": {},
     "output_type": "execute_result"
    }
   ],
   "source": [
    "import statsmodels.api as sm \n",
    "lm=sm.OLS(y_train,X_train)\n",
    "model1=lm.fit()\n",
    "model1.summary()"
   ]
  },
  {
   "cell_type": "code",
   "execution_count": 196,
   "metadata": {},
   "outputs": [
    {
     "data": {
      "text/plain": [
       "977.7380636934531"
      ]
     },
     "execution_count": 196,
     "metadata": {},
     "output_type": "execute_result"
    }
   ],
   "source": [
    "mean_squared_error(y_train,model1.fittedvalues)"
   ]
  },
  {
   "cell_type": "code",
   "execution_count": 197,
   "metadata": {},
   "outputs": [
    {
     "data": {
      "text/plain": [
       "-3.5284512763499807"
      ]
     },
     "execution_count": 197,
     "metadata": {},
     "output_type": "execute_result"
    }
   ],
   "source": [
    "df[\"target\"].mean()"
   ]
  },
  {
   "cell_type": "code",
   "execution_count": 198,
   "metadata": {},
   "outputs": [
    {
     "data": {
      "text/plain": [
       "0.17577302283967433"
      ]
     },
     "execution_count": 198,
     "metadata": {},
     "output_type": "execute_result"
    }
   ],
   "source": [
    "model1.rsquared"
   ]
  },
  {
   "cell_type": "code",
   "execution_count": 199,
   "metadata": {},
   "outputs": [
    {
     "data": {
      "text/plain": [
       "5787    -1.160758\n",
       "4916   -21.376392\n",
       "4662   -36.275608\n",
       "5868    27.533055\n",
       "3388   -11.887145\n",
       "4971    36.762882\n",
       "2492   -35.461094\n",
       "2059     9.223899\n",
       "3410   -30.203732\n",
       "5779   -11.736144\n",
       "dtype: float64"
      ]
     },
     "execution_count": 199,
     "metadata": {},
     "output_type": "execute_result"
    }
   ],
   "source": [
    "model1.resid[0:10]"
   ]
  },
  {
   "cell_type": "code",
   "execution_count": 200,
   "metadata": {
    "scrolled": true
   },
   "outputs": [
    {
     "data": {
      "text/plain": [
       "[<matplotlib.lines.Line2D at 0x12012948>]"
      ]
     },
     "execution_count": 200,
     "metadata": {},
     "output_type": "execute_result"
    },
    {
     "data": {
      "image/png": "[encoded data removed]",
      "text/plain": [
       "<Figure size 432x288 with 1 Axes>"
      ]
     },
     "metadata": {
      "needs_background": "light"
     },
     "output_type": "display_data"
    }
   ],
   "source": [
    "import matplotlib.pyplot as plt\n",
    "plt.plot(model1.resid)"
   ]
  },
  {
   "cell_type": "code",
   "execution_count": 201,
   "metadata": {},
   "outputs": [
    {
     "data": {
      "text/plain": [
       "<statsmodels.stats.outliers_influence.OLSInfluence at 0x12067c88>"
      ]
     },
     "execution_count": 201,
     "metadata": {},
     "output_type": "execute_result"
    }
   ],
   "source": [
    "influence=model1.get_influence()\n",
    "influence"
   ]
  },
  {
   "cell_type": "code",
   "execution_count": 205,
   "metadata": {},
   "outputs": [],
   "source": [
    "resid_student=influence.resid_studentized_external"
   ]
  },
  {
   "cell_type": "code",
   "execution_count": 206,
   "metadata": {
    "scrolled": true
   },
   "outputs": [
    {
     "name": "stdout",
     "output_type": "stream",
     "text": [
      "Leverage vs Studentized Residuals\n"
     ]
    },
    {
     "data": {
      "text/plain": [
       "<matplotlib.axes._subplots.AxesSubplot at 0x1207e088>"
      ]
     },
     "execution_count": 206,
     "metadata": {},
     "output_type": "execute_result"
    },
    {
     "data": {
      "image/png": "[encoded data removed]",
      "text/plain": [
       "<Figure size 432x288 with 1 Axes>"
      ]
     },
     "metadata": {
      "needs_background": "light"
     },
     "output_type": "display_data"
    }
   ],
   "source": [
    "import seaborn as sns \n",
    "(cooks,p)= influence.cooks_distance\n",
    "(diffits,p)=influence.dffits\n",
    "leverage=influence.hat_matrix_diag\n",
    "print(\"Leverage vs Studentized Residuals\")\n",
    "sns.regplot(leverage, model1.resid_pearson, fit_reg=False)"
   ]
  },
  {
   "cell_type": "markdown",
   "metadata": {},
   "source": [
    "## 2- Scikit Learn"
   ]
  },
  {
   "cell_type": "code",
   "execution_count": 207,
   "metadata": {},
   "outputs": [],
   "source": [
    "X_train2=X_train"
   ]
  },
  {
   "cell_type": "code",
   "execution_count": 208,
   "metadata": {},
   "outputs": [],
   "source": [
    "X_test2=X_test"
   ]
  },
  {
   "cell_type": "code",
   "execution_count": 209,
   "metadata": {},
   "outputs": [],
   "source": [
    "lm=LinearRegression()\n",
    "model2=lm.fit(X_train2,y_train)"
   ]
  },
  {
   "cell_type": "code",
   "execution_count": 210,
   "metadata": {},
   "outputs": [
    {
     "data": {
      "text/plain": [
       "109.95676471463213"
      ]
     },
     "execution_count": 210,
     "metadata": {},
     "output_type": "execute_result"
    }
   ],
   "source": [
    "model2.intercept_"
   ]
  },
  {
   "cell_type": "code",
   "execution_count": 211,
   "metadata": {},
   "outputs": [
    {
     "data": {
      "text/plain": [
       "array([-3.05058181e+08,  3.05058181e+08,  3.05058181e+08,  7.70598592e-01,\n",
       "        8.47635660e-01,  4.20458168e-02,  1.29514471e-01,  4.36082285e-01,\n",
       "        4.89472676e-01, -1.66862734e-01,  5.51185180e-01,  4.58536285e+00,\n",
       "       -3.96462542e+00, -3.63336140e+00, -6.76809717e-01,  2.26436455e-01,\n",
       "       -5.42695197e+00,  2.05165164e+00,  7.94942491e-02,  2.17659687e+00,\n",
       "        1.22819468e-01,  5.28733384e+00, -4.27937029e+02, -3.81319690e+00,\n",
       "        3.18674721e+02, -8.50614744e+00, -2.26646811e-02, -2.60065014e+04,\n",
       "        1.05444546e+01,  1.43507825e-01,  1.02829023e+05,  3.14954757e+01,\n",
       "        4.84195365e+01, -3.69012931e-01,  7.73588278e+02,  1.00884236e-01,\n",
       "       -4.35606577e-02])"
      ]
     },
     "execution_count": 211,
     "metadata": {},
     "output_type": "execute_result"
    }
   ],
   "source": [
    "model2.coef_"
   ]
  },
  {
   "cell_type": "code",
   "execution_count": 212,
   "metadata": {},
   "outputs": [
    {
     "data": {
      "text/plain": [
       "0.1669480048459715"
      ]
     },
     "execution_count": 212,
     "metadata": {},
     "output_type": "execute_result"
    }
   ],
   "source": [
    "model2.score(X_train2,y_train)"
   ]
  },
  {
   "cell_type": "code",
   "execution_count": 213,
   "metadata": {},
   "outputs": [
    {
     "data": {
      "text/plain": [
       "0.12767843563838754"
      ]
     },
     "execution_count": 213,
     "metadata": {},
     "output_type": "execute_result"
    }
   ],
   "source": [
    "model2.score(X_test2,y_test)"
   ]
  },
  {
   "cell_type": "code",
   "execution_count": 214,
   "metadata": {},
   "outputs": [
    {
     "data": {
      "text/plain": [
       "array([-33.11014494, -12.09071932,  -0.57364473, ...,  -3.8122124 ,\n",
       "       -14.92182889, -10.43446445])"
      ]
     },
     "execution_count": 214,
     "metadata": {},
     "output_type": "execute_result"
    }
   ],
   "source": [
    "model2.predict(X_train)"
   ]
  },
  {
   "cell_type": "code",
   "execution_count": 215,
   "metadata": {},
   "outputs": [
    {
     "data": {
      "text/plain": [
       "array([ -3.57112927, -26.37441561,   3.38099267, ...,  14.00400275,\n",
       "        13.20042277,  -6.45775851])"
      ]
     },
     "execution_count": 215,
     "metadata": {},
     "output_type": "execute_result"
    }
   ],
   "source": [
    "model2.predict(X_test)"
   ]
  },
  {
   "cell_type": "code",
   "execution_count": 216,
   "metadata": {},
   "outputs": [
    {
     "data": {
      "text/plain": [
       "31.22057497493954"
      ]
     },
     "execution_count": 216,
     "metadata": {},
     "output_type": "execute_result"
    }
   ],
   "source": [
    "from sklearn.metrics import mean_squared_error, r2_score\n",
    "rmse=np.sqrt(mean_squared_error(y_train, model2.predict(X_train)))\n",
    "rmse"
   ]
  },
  {
   "cell_type": "code",
   "execution_count": 217,
   "metadata": {},
   "outputs": [
    {
     "data": {
      "text/plain": [
       "32.278494696935915"
      ]
     },
     "execution_count": 217,
     "metadata": {},
     "output_type": "execute_result"
    }
   ],
   "source": [
    "rmse=np.sqrt(mean_squared_error(y_test, model2.predict(X_test)))\n",
    "rmse"
   ]
  },
  {
   "cell_type": "code",
   "execution_count": null,
   "metadata": {},
   "outputs": [],
   "source": []
  },
  {
   "cell_type": "code",
   "execution_count": null,
   "metadata": {},
   "outputs": [],
   "source": []
  },
  {
   "cell_type": "markdown",
   "metadata": {},
   "source": [
    "### cross-validation"
   ]
  },
  {
   "cell_type": "code",
   "execution_count": 218,
   "metadata": {},
   "outputs": [
    {
     "data": {
      "text/plain": [
       "0.14822297758630837"
      ]
     },
     "execution_count": 218,
     "metadata": {},
     "output_type": "execute_result"
    }
   ],
   "source": [
    "cross_val_score(model2, X_train2, y_train, cv = 10, scoring = \"r2\").mean()"
   ]
  },
  {
   "cell_type": "code",
   "execution_count": 219,
   "metadata": {},
   "outputs": [
    {
     "data": {
      "text/plain": [
       "0.1669480048459715"
      ]
     },
     "execution_count": 219,
     "metadata": {},
     "output_type": "execute_result"
    }
   ],
   "source": [
    "model2.score(X_train2,y_train)"
   ]
  },
  {
   "cell_type": "code",
   "execution_count": 220,
   "metadata": {},
   "outputs": [
    {
     "data": {
      "text/plain": [
       "0.08837676488017612"
      ]
     },
     "execution_count": 220,
     "metadata": {},
     "output_type": "execute_result"
    }
   ],
   "source": [
    "cross_val_score(model2, X_test2, y_test, cv = 10, scoring = \"r2\").mean()"
   ]
  },
  {
   "cell_type": "code",
   "execution_count": 221,
   "metadata": {
    "scrolled": true
   },
   "outputs": [
    {
     "data": {
      "text/plain": [
       "0.12767843563838754"
      ]
     },
     "execution_count": 221,
     "metadata": {},
     "output_type": "execute_result"
    }
   ],
   "source": [
    "model2.score(X_test2,y_test)"
   ]
  },
  {
   "cell_type": "code",
   "execution_count": 222,
   "metadata": {},
   "outputs": [
    {
     "data": {
      "text/plain": [
       "0.1669480048459715"
      ]
     },
     "execution_count": 222,
     "metadata": {},
     "output_type": "execute_result"
    }
   ],
   "source": [
    "model2.score(X_train2,y_train)"
   ]
  },
  {
   "cell_type": "code",
   "execution_count": 336,
   "metadata": {},
   "outputs": [
    {
     "data": {
      "text/plain": [
       "31.54427037549727"
      ]
     },
     "execution_count": 336,
     "metadata": {},
     "output_type": "execute_result"
    }
   ],
   "source": [
    "np.sqrt(-cross_val_score(model2,  X_train2, y_train,cv = 10, scoring = \"neg_mean_squared_error\")).mean()"
   ]
  },
  {
   "cell_type": "code",
   "execution_count": 337,
   "metadata": {},
   "outputs": [
    {
     "data": {
      "text/plain": [
       "32.64199272595625"
      ]
     },
     "execution_count": 337,
     "metadata": {},
     "output_type": "execute_result"
    }
   ],
   "source": [
    "np.sqrt(-cross_val_score(model2, X_test2,  y_test, cv = 10,  scoring = \"neg_mean_squared_error\")).mean()"
   ]
  },
  {
   "cell_type": "code",
   "execution_count": null,
   "metadata": {},
   "outputs": [],
   "source": []
  },
  {
   "cell_type": "markdown",
   "metadata": {},
   "source": [
    "# PCA"
   ]
  },
  {
   "cell_type": "code",
   "execution_count": 18,
   "metadata": {},
   "outputs": [
    {
     "data": {
      "text/html": [
       "<div>\n",
       "<style scoped>\n",
       "    .dataframe tbody tr th:only-of-type {\n",
       "        vertical-align: middle;\n",
       "    }\n",
       "\n",
       "    .dataframe tbody tr th {\n",
       "        vertical-align: top;\n",
       "    }\n",
       "\n",
       "    .dataframe thead th {\n",
       "        text-align: right;\n",
       "    }\n",
       "</style>\n",
       "<table border=\"1\" class=\"dataframe\">\n",
       "  <thead>\n",
       "    <tr style=\"text-align: right;\">\n",
       "      <th></th>\n",
       "      <th>ind_5</th>\n",
       "      <th>ind_6</th>\n",
       "      <th>ind_8</th>\n",
       "      <th>ind_9</th>\n",
       "      <th>ind_10</th>\n",
       "      <th>ind_12</th>\n",
       "      <th>ind_13</th>\n",
       "      <th>ind_14</th>\n",
       "      <th>ind_15</th>\n",
       "      <th>ind_16</th>\n",
       "      <th>...</th>\n",
       "      <th>ind_416</th>\n",
       "      <th>ind_418</th>\n",
       "      <th>ind_420</th>\n",
       "      <th>ind_422</th>\n",
       "      <th>ind_424</th>\n",
       "      <th>ind_426</th>\n",
       "      <th>ind_428</th>\n",
       "      <th>20_target</th>\n",
       "      <th>50_target</th>\n",
       "      <th>90_target</th>\n",
       "    </tr>\n",
       "  </thead>\n",
       "  <tbody>\n",
       "    <tr>\n",
       "      <th>0</th>\n",
       "      <td>19</td>\n",
       "      <td>17</td>\n",
       "      <td>100.0</td>\n",
       "      <td>85.714286</td>\n",
       "      <td>14.285714</td>\n",
       "      <td>72.363515</td>\n",
       "      <td>60.808814</td>\n",
       "      <td>23.80</td>\n",
       "      <td>17.62</td>\n",
       "      <td>11.73</td>\n",
       "      <td>...</td>\n",
       "      <td>-49.6</td>\n",
       "      <td>-54</td>\n",
       "      <td>-152</td>\n",
       "      <td>-353</td>\n",
       "      <td>1.0</td>\n",
       "      <td>0.498547</td>\n",
       "      <td>0.701906</td>\n",
       "      <td>15.135802</td>\n",
       "      <td>35.625252</td>\n",
       "      <td>36.997753</td>\n",
       "    </tr>\n",
       "    <tr>\n",
       "      <th>1</th>\n",
       "      <td>24</td>\n",
       "      <td>19</td>\n",
       "      <td>100.0</td>\n",
       "      <td>78.571429</td>\n",
       "      <td>21.428571</td>\n",
       "      <td>74.275883</td>\n",
       "      <td>64.366798</td>\n",
       "      <td>11.45</td>\n",
       "      <td>18.16</td>\n",
       "      <td>12.22</td>\n",
       "      <td>...</td>\n",
       "      <td>-55.6</td>\n",
       "      <td>-60</td>\n",
       "      <td>-158</td>\n",
       "      <td>-359</td>\n",
       "      <td>1.0</td>\n",
       "      <td>0.537088</td>\n",
       "      <td>0.690833</td>\n",
       "      <td>15.143348</td>\n",
       "      <td>35.643013</td>\n",
       "      <td>37.016198</td>\n",
       "    </tr>\n",
       "    <tr>\n",
       "      <th>2</th>\n",
       "      <td>30</td>\n",
       "      <td>24</td>\n",
       "      <td>100.0</td>\n",
       "      <td>71.428571</td>\n",
       "      <td>28.571429</td>\n",
       "      <td>75.140402</td>\n",
       "      <td>65.915803</td>\n",
       "      <td>8.75</td>\n",
       "      <td>17.86</td>\n",
       "      <td>12.28</td>\n",
       "      <td>...</td>\n",
       "      <td>-58.4</td>\n",
       "      <td>-60</td>\n",
       "      <td>-160</td>\n",
       "      <td>-362</td>\n",
       "      <td>1.0</td>\n",
       "      <td>0.615169</td>\n",
       "      <td>0.693040</td>\n",
       "      <td>15.146870</td>\n",
       "      <td>35.651301</td>\n",
       "      <td>-37.024805</td>\n",
       "    </tr>\n",
       "    <tr>\n",
       "      <th>3</th>\n",
       "      <td>37</td>\n",
       "      <td>30</td>\n",
       "      <td>100.0</td>\n",
       "      <td>64.285714</td>\n",
       "      <td>35.714286</td>\n",
       "      <td>76.677846</td>\n",
       "      <td>68.584234</td>\n",
       "      <td>7.80</td>\n",
       "      <td>14.76</td>\n",
       "      <td>12.61</td>\n",
       "      <td>...</td>\n",
       "      <td>-61.8</td>\n",
       "      <td>-65</td>\n",
       "      <td>-166</td>\n",
       "      <td>-367</td>\n",
       "      <td>1.0</td>\n",
       "      <td>0.661517</td>\n",
       "      <td>0.673418</td>\n",
       "      <td>15.153283</td>\n",
       "      <td>0.000000</td>\n",
       "      <td>-37.040483</td>\n",
       "    </tr>\n",
       "    <tr>\n",
       "      <th>4</th>\n",
       "      <td>41</td>\n",
       "      <td>37</td>\n",
       "      <td>100.0</td>\n",
       "      <td>57.142857</td>\n",
       "      <td>42.857143</td>\n",
       "      <td>81.603007</td>\n",
       "      <td>76.455495</td>\n",
       "      <td>14.90</td>\n",
       "      <td>11.92</td>\n",
       "      <td>14.25</td>\n",
       "      <td>...</td>\n",
       "      <td>-79.8</td>\n",
       "      <td>-86</td>\n",
       "      <td>-186</td>\n",
       "      <td>-388</td>\n",
       "      <td>1.0</td>\n",
       "      <td>0.747204</td>\n",
       "      <td>0.700522</td>\n",
       "      <td>-15.179065</td>\n",
       "      <td>-35.727079</td>\n",
       "      <td>-37.103503</td>\n",
       "    </tr>\n",
       "  </tbody>\n",
       "</table>\n",
       "<p>5 rows × 136 columns</p>\n",
       "</div>"
      ],
      "text/plain": [
       "   ind_5  ind_6  ind_8      ind_9     ind_10     ind_12     ind_13  ind_14  \\\n",
       "0     19     17  100.0  85.714286  14.285714  72.363515  60.808814   23.80   \n",
       "1     24     19  100.0  78.571429  21.428571  74.275883  64.366798   11.45   \n",
       "2     30     24  100.0  71.428571  28.571429  75.140402  65.915803    8.75   \n",
       "3     37     30  100.0  64.285714  35.714286  76.677846  68.584234    7.80   \n",
       "4     41     37  100.0  57.142857  42.857143  81.603007  76.455495   14.90   \n",
       "\n",
       "   ind_15  ind_16  ...  ind_416  ind_418  ind_420  ind_422  ind_424   ind_426  \\\n",
       "0   17.62   11.73  ...    -49.6      -54     -152     -353      1.0  0.498547   \n",
       "1   18.16   12.22  ...    -55.6      -60     -158     -359      1.0  0.537088   \n",
       "2   17.86   12.28  ...    -58.4      -60     -160     -362      1.0  0.615169   \n",
       "3   14.76   12.61  ...    -61.8      -65     -166     -367      1.0  0.661517   \n",
       "4   11.92   14.25  ...    -79.8      -86     -186     -388      1.0  0.747204   \n",
       "\n",
       "    ind_428  20_target  50_target  90_target  \n",
       "0  0.701906  15.135802  35.625252  36.997753  \n",
       "1  0.690833  15.143348  35.643013  37.016198  \n",
       "2  0.693040  15.146870  35.651301 -37.024805  \n",
       "3  0.673418  15.153283   0.000000 -37.040483  \n",
       "4  0.700522 -15.179065 -35.727079 -37.103503  \n",
       "\n",
       "[5 rows x 136 columns]"
      ]
     },
     "execution_count": 18,
     "metadata": {},
     "output_type": "execute_result"
    }
   ],
   "source": [
    "from pandas import read_excel\n",
    "df= read_excel('HW_Data_Set.xlsx', sheet_name = 'Sheet1')\n",
    "df=df.copy()\n",
    "df.head()"
   ]
  },
  {
   "cell_type": "code",
   "execution_count": 19,
   "metadata": {},
   "outputs": [],
   "source": [
    "import numpy as np\n",
    "df=df.replace('?',np.nan)\n",
    "df = df.dropna()"
   ]
  },
  {
   "cell_type": "code",
   "execution_count": 20,
   "metadata": {},
   "outputs": [
    {
     "data": {
      "text/html": [
       "<div>\n",
       "<style scoped>\n",
       "    .dataframe tbody tr th:only-of-type {\n",
       "        vertical-align: middle;\n",
       "    }\n",
       "\n",
       "    .dataframe tbody tr th {\n",
       "        vertical-align: top;\n",
       "    }\n",
       "\n",
       "    .dataframe thead th {\n",
       "        text-align: right;\n",
       "    }\n",
       "</style>\n",
       "<table border=\"1\" class=\"dataframe\">\n",
       "  <thead>\n",
       "    <tr style=\"text-align: right;\">\n",
       "      <th></th>\n",
       "      <th>ind_109_GREEN</th>\n",
       "      <th>ind_109_RED</th>\n",
       "    </tr>\n",
       "  </thead>\n",
       "  <tbody>\n",
       "    <tr>\n",
       "      <th>0</th>\n",
       "      <td>1</td>\n",
       "      <td>0</td>\n",
       "    </tr>\n",
       "    <tr>\n",
       "      <th>1</th>\n",
       "      <td>1</td>\n",
       "      <td>0</td>\n",
       "    </tr>\n",
       "    <tr>\n",
       "      <th>2</th>\n",
       "      <td>1</td>\n",
       "      <td>0</td>\n",
       "    </tr>\n",
       "    <tr>\n",
       "      <th>3</th>\n",
       "      <td>1</td>\n",
       "      <td>0</td>\n",
       "    </tr>\n",
       "    <tr>\n",
       "      <th>4</th>\n",
       "      <td>1</td>\n",
       "      <td>0</td>\n",
       "    </tr>\n",
       "  </tbody>\n",
       "</table>\n",
       "</div>"
      ],
      "text/plain": [
       "   ind_109_GREEN  ind_109_RED\n",
       "0              1            0\n",
       "1              1            0\n",
       "2              1            0\n",
       "3              1            0\n",
       "4              1            0"
      ]
     },
     "execution_count": 20,
     "metadata": {},
     "output_type": "execute_result"
    }
   ],
   "source": [
    "import pandas as pd\n",
    "dms=pd.get_dummies(df[[\"ind_109\"]])\n",
    "dms.head()"
   ]
  },
  {
   "cell_type": "code",
   "execution_count": 21,
   "metadata": {},
   "outputs": [
    {
     "data": {
      "text/html": [
       "<div>\n",
       "<style scoped>\n",
       "    .dataframe tbody tr th:only-of-type {\n",
       "        vertical-align: middle;\n",
       "    }\n",
       "\n",
       "    .dataframe tbody tr th {\n",
       "        vertical-align: top;\n",
       "    }\n",
       "\n",
       "    .dataframe thead th {\n",
       "        text-align: right;\n",
       "    }\n",
       "</style>\n",
       "<table border=\"1\" class=\"dataframe\">\n",
       "  <thead>\n",
       "    <tr style=\"text-align: right;\">\n",
       "      <th></th>\n",
       "      <th>ind_5</th>\n",
       "      <th>ind_6</th>\n",
       "      <th>ind_8</th>\n",
       "      <th>ind_9</th>\n",
       "      <th>ind_10</th>\n",
       "      <th>ind_12</th>\n",
       "      <th>ind_13</th>\n",
       "      <th>ind_14</th>\n",
       "      <th>ind_15</th>\n",
       "      <th>ind_16</th>\n",
       "      <th>...</th>\n",
       "      <th>ind_412</th>\n",
       "      <th>ind_414</th>\n",
       "      <th>ind_416</th>\n",
       "      <th>ind_418</th>\n",
       "      <th>ind_420</th>\n",
       "      <th>ind_422</th>\n",
       "      <th>ind_424</th>\n",
       "      <th>ind_426</th>\n",
       "      <th>ind_428</th>\n",
       "      <th>ind_109_GREEN</th>\n",
       "    </tr>\n",
       "  </thead>\n",
       "  <tbody>\n",
       "    <tr>\n",
       "      <th>0</th>\n",
       "      <td>19.0</td>\n",
       "      <td>17.0</td>\n",
       "      <td>100.0</td>\n",
       "      <td>85.714286</td>\n",
       "      <td>14.285714</td>\n",
       "      <td>72.363515</td>\n",
       "      <td>60.808814</td>\n",
       "      <td>23.80</td>\n",
       "      <td>17.62</td>\n",
       "      <td>11.73</td>\n",
       "      <td>...</td>\n",
       "      <td>0.002371</td>\n",
       "      <td>2.0</td>\n",
       "      <td>-49.6</td>\n",
       "      <td>-54.0</td>\n",
       "      <td>-152.0</td>\n",
       "      <td>-353.0</td>\n",
       "      <td>1.0</td>\n",
       "      <td>0.498547</td>\n",
       "      <td>0.701906</td>\n",
       "      <td>1</td>\n",
       "    </tr>\n",
       "    <tr>\n",
       "      <th>1</th>\n",
       "      <td>24.0</td>\n",
       "      <td>19.0</td>\n",
       "      <td>100.0</td>\n",
       "      <td>78.571429</td>\n",
       "      <td>21.428571</td>\n",
       "      <td>74.275883</td>\n",
       "      <td>64.366798</td>\n",
       "      <td>11.45</td>\n",
       "      <td>18.16</td>\n",
       "      <td>12.22</td>\n",
       "      <td>...</td>\n",
       "      <td>0.003074</td>\n",
       "      <td>0.8</td>\n",
       "      <td>-55.6</td>\n",
       "      <td>-60.0</td>\n",
       "      <td>-158.0</td>\n",
       "      <td>-359.0</td>\n",
       "      <td>1.0</td>\n",
       "      <td>0.537088</td>\n",
       "      <td>0.690833</td>\n",
       "      <td>1</td>\n",
       "    </tr>\n",
       "    <tr>\n",
       "      <th>2</th>\n",
       "      <td>30.0</td>\n",
       "      <td>24.0</td>\n",
       "      <td>100.0</td>\n",
       "      <td>71.428571</td>\n",
       "      <td>28.571429</td>\n",
       "      <td>75.140402</td>\n",
       "      <td>65.915803</td>\n",
       "      <td>8.75</td>\n",
       "      <td>17.86</td>\n",
       "      <td>12.28</td>\n",
       "      <td>...</td>\n",
       "      <td>0.003561</td>\n",
       "      <td>2.7</td>\n",
       "      <td>-58.4</td>\n",
       "      <td>-60.0</td>\n",
       "      <td>-160.0</td>\n",
       "      <td>-362.0</td>\n",
       "      <td>1.0</td>\n",
       "      <td>0.615169</td>\n",
       "      <td>0.693040</td>\n",
       "      <td>1</td>\n",
       "    </tr>\n",
       "    <tr>\n",
       "      <th>3</th>\n",
       "      <td>37.0</td>\n",
       "      <td>30.0</td>\n",
       "      <td>100.0</td>\n",
       "      <td>64.285714</td>\n",
       "      <td>35.714286</td>\n",
       "      <td>76.677846</td>\n",
       "      <td>68.584234</td>\n",
       "      <td>7.80</td>\n",
       "      <td>14.76</td>\n",
       "      <td>12.61</td>\n",
       "      <td>...</td>\n",
       "      <td>0.004366</td>\n",
       "      <td>0.9</td>\n",
       "      <td>-61.8</td>\n",
       "      <td>-65.0</td>\n",
       "      <td>-166.0</td>\n",
       "      <td>-367.0</td>\n",
       "      <td>1.0</td>\n",
       "      <td>0.661517</td>\n",
       "      <td>0.673418</td>\n",
       "      <td>1</td>\n",
       "    </tr>\n",
       "    <tr>\n",
       "      <th>4</th>\n",
       "      <td>41.0</td>\n",
       "      <td>37.0</td>\n",
       "      <td>100.0</td>\n",
       "      <td>57.142857</td>\n",
       "      <td>42.857143</td>\n",
       "      <td>81.603007</td>\n",
       "      <td>76.455495</td>\n",
       "      <td>14.90</td>\n",
       "      <td>11.92</td>\n",
       "      <td>14.25</td>\n",
       "      <td>...</td>\n",
       "      <td>0.004198</td>\n",
       "      <td>0.1</td>\n",
       "      <td>-79.8</td>\n",
       "      <td>-86.0</td>\n",
       "      <td>-186.0</td>\n",
       "      <td>-388.0</td>\n",
       "      <td>1.0</td>\n",
       "      <td>0.747204</td>\n",
       "      <td>0.700522</td>\n",
       "      <td>1</td>\n",
       "    </tr>\n",
       "  </tbody>\n",
       "</table>\n",
       "<p>5 rows × 133 columns</p>\n",
       "</div>"
      ],
      "text/plain": [
       "   ind_5  ind_6  ind_8      ind_9     ind_10     ind_12     ind_13  ind_14  \\\n",
       "0   19.0   17.0  100.0  85.714286  14.285714  72.363515  60.808814   23.80   \n",
       "1   24.0   19.0  100.0  78.571429  21.428571  74.275883  64.366798   11.45   \n",
       "2   30.0   24.0  100.0  71.428571  28.571429  75.140402  65.915803    8.75   \n",
       "3   37.0   30.0  100.0  64.285714  35.714286  76.677846  68.584234    7.80   \n",
       "4   41.0   37.0  100.0  57.142857  42.857143  81.603007  76.455495   14.90   \n",
       "\n",
       "   ind_15  ind_16  ...   ind_412  ind_414  ind_416  ind_418  ind_420  ind_422  \\\n",
       "0   17.62   11.73  ...  0.002371      2.0    -49.6    -54.0   -152.0   -353.0   \n",
       "1   18.16   12.22  ...  0.003074      0.8    -55.6    -60.0   -158.0   -359.0   \n",
       "2   17.86   12.28  ...  0.003561      2.7    -58.4    -60.0   -160.0   -362.0   \n",
       "3   14.76   12.61  ...  0.004366      0.9    -61.8    -65.0   -166.0   -367.0   \n",
       "4   11.92   14.25  ...  0.004198      0.1    -79.8    -86.0   -186.0   -388.0   \n",
       "\n",
       "   ind_424   ind_426   ind_428  ind_109_GREEN  \n",
       "0      1.0  0.498547  0.701906              1  \n",
       "1      1.0  0.537088  0.690833              1  \n",
       "2      1.0  0.615169  0.693040              1  \n",
       "3      1.0  0.661517  0.673418              1  \n",
       "4      1.0  0.747204  0.700522              1  \n",
       "\n",
       "[5 rows x 133 columns]"
      ]
     },
     "execution_count": 21,
     "metadata": {},
     "output_type": "execute_result"
    }
   ],
   "source": [
    "y=df[\"90_target\"]\n",
    "X_=df.drop([\"ind_109\",\"50_target\",\"90_target\",\"20_target\"],axis=1).astype('float64')\n",
    "X=pd.concat([X_,dms[[\"ind_109_GREEN\"]]],axis=1)\n",
    "X.head()"
   ]
  },
  {
   "cell_type": "code",
   "execution_count": 22,
   "metadata": {},
   "outputs": [],
   "source": [
    "from sklearn.model_selection import train_test_split, cross_val_score\n",
    "X_train,X_test,y_train,y_test=train_test_split(X,y,test_size=0.25, random_state=42)\n",
    "from sklearn.decomposition import PCA\n",
    "from sklearn.preprocessing import scale\n"
   ]
  },
  {
   "cell_type": "code",
   "execution_count": 23,
   "metadata": {},
   "outputs": [],
   "source": [
    "from sklearn.linear_model import LinearRegression\n",
    "pca=PCA(18) \n",
    "X_reduced_train=pca.fit_transform(scale(X_train))\n",
    "lm=LinearRegression()\n",
    "pcr_model=lm.fit(X_reduced_train,y_train)"
   ]
  },
  {
   "cell_type": "code",
   "execution_count": 7,
   "metadata": {
    "scrolled": true
   },
   "outputs": [
    {
     "data": {
      "text/plain": [
       "array([36.95, 49.21, 55.06, 59.53, 62.88, 65.77, 68.35, 70.38, 72.25,\n",
       "       73.96, 75.56, 77.03, 78.41, 79.68, 80.9 , 82.07, 83.09, 84.01,\n",
       "       84.86, 85.69, 86.49, 87.24, 87.91, 88.57, 89.18, 89.77, 90.31,\n",
       "       90.8 , 91.27, 91.71, 92.13, 92.54, 92.92, 93.29, 93.64, 93.97,\n",
       "       94.28, 94.58, 94.87, 95.15, 95.41, 95.65, 95.88, 96.11, 96.32,\n",
       "       96.52, 96.71, 96.89, 97.05, 97.21, 97.36, 97.5 , 97.64, 97.77,\n",
       "       97.9 , 98.02, 98.13, 98.23, 98.32, 98.41, 98.49, 98.57, 98.65,\n",
       "       98.73, 98.8 , 98.87, 98.94, 99.  , 99.06, 99.12, 99.17, 99.22,\n",
       "       99.27, 99.31, 99.35, 99.39, 99.43, 99.46, 99.49, 99.52, 99.55,\n",
       "       99.58, 99.61, 99.64, 99.67, 99.69, 99.71, 99.73, 99.75, 99.77,\n",
       "       99.79, 99.81, 99.82, 99.83, 99.84, 99.85, 99.86, 99.87, 99.88,\n",
       "       99.89, 99.9 , 99.91, 99.92, 99.93, 99.94, 99.94, 99.94, 99.94,\n",
       "       99.94, 99.94, 99.94, 99.94, 99.94, 99.94, 99.94, 99.94, 99.94,\n",
       "       99.94, 99.94, 99.94, 99.94, 99.94, 99.94, 99.94, 99.94, 99.94,\n",
       "       99.94, 99.94, 99.94, 99.94, 99.94, 99.94, 99.94])"
      ]
     },
     "execution_count": 7,
     "metadata": {},
     "output_type": "execute_result"
    }
   ],
   "source": [
    "np.cumsum(np.round(pca.explained_variance_ratio_,decimals=4)*100)"
   ]
  },
  {
   "cell_type": "code",
   "execution_count": 8,
   "metadata": {},
   "outputs": [
    {
     "data": {
      "text/plain": [
       "<BarContainer object of 133 artists>"
      ]
     },
     "execution_count": 8,
     "metadata": {},
     "output_type": "execute_result"
    },
    {
     "data": {
      "image/png": "[encoded data removed]",
      "text/plain": [
       "<Figure size 576x360 with 1 Axes>"
      ]
     },
     "metadata": {
      "needs_background": "light"
     },
     "output_type": "display_data"
    }
   ],
   "source": [
    "import matplotlib.pyplot as plt\n",
    "features= range(pca.n_components_)\n",
    "plt.figure(figsize=(8,5))\n",
    "plt.bar(features,pca.explained_variance_ratio_,color=\"black\")\n"
   ]
  },
  {
   "cell_type": "code",
   "execution_count": 39,
   "metadata": {},
   "outputs": [],
   "source": [
    "from sklearn.linear_model import LinearRegression\n",
    "pca=PCA() #5 component ile yap \n",
    "X_reduced_train=pca.fit_transform(scale(X_train))\n",
    "lm=LinearRegression()\n",
    "pcr_model=lm.fit(X_reduced_train,y_train)"
   ]
  },
  {
   "cell_type": "code",
   "execution_count": 40,
   "metadata": {},
   "outputs": [
    {
     "data": {
      "text/plain": [
       "(3844,)"
      ]
     },
     "execution_count": 40,
     "metadata": {},
     "output_type": "execute_result"
    }
   ],
   "source": [
    "y_pred=pcr_model.predict(X_reduced_train)\n",
    "y_pred.shape"
   ]
  },
  {
   "cell_type": "code",
   "execution_count": 41,
   "metadata": {},
   "outputs": [
    {
     "data": {
      "text/plain": [
       "32.366716188057204"
      ]
     },
     "execution_count": 41,
     "metadata": {},
     "output_type": "execute_result"
    }
   ],
   "source": [
    "from sklearn.metrics import mean_squared_error, r2_score\n",
    "np.sqrt(mean_squared_error(y_train,y_pred))"
   ]
  },
  {
   "cell_type": "code",
   "execution_count": 42,
   "metadata": {},
   "outputs": [
    {
     "data": {
      "text/plain": [
       "1047.604316798244"
      ]
     },
     "execution_count": 42,
     "metadata": {},
     "output_type": "execute_result"
    }
   ],
   "source": [
    "mean_squared_error(y_train,y_pred)"
   ]
  },
  {
   "cell_type": "code",
   "execution_count": 43,
   "metadata": {},
   "outputs": [
    {
     "data": {
      "text/plain": [
       "-4.115568369248927"
      ]
     },
     "execution_count": 43,
     "metadata": {},
     "output_type": "execute_result"
    }
   ],
   "source": [
    "df[\"90_target\"].mean()"
   ]
  },
  {
   "cell_type": "code",
   "execution_count": 44,
   "metadata": {},
   "outputs": [
    {
     "data": {
      "text/plain": [
       "0.2174524810427796"
      ]
     },
     "execution_count": 44,
     "metadata": {},
     "output_type": "execute_result"
    }
   ],
   "source": [
    "r2_score(y_train,y_pred)"
   ]
  },
  {
   "cell_type": "code",
   "execution_count": 14,
   "metadata": {},
   "outputs": [
    {
     "data": {
      "text/plain": [
       "Text(0, 0.5, 'PC2')"
      ]
     },
     "execution_count": 14,
     "metadata": {},
     "output_type": "execute_result"
    },
    {
     "data": {
      "image/png": "[encoded data removed]",
      "text/plain": [
       "<Figure size 432x288 with 1 Axes>"
      ]
     },
     "metadata": {
      "needs_background": "light"
     },
     "output_type": "display_data"
    }
   ],
   "source": [
    "from pandas import Series, DataFrame\n",
    "PCA_components=pd.DataFrame(X_reduced_train)\n",
    "plt.scatter(PCA_components[0],PCA_components[1], color=\"black\")\n",
    "plt.xlabel(\"PC1\")\n",
    "plt.ylabel(\"PC2\")"
   ]
  },
  {
   "cell_type": "code",
   "execution_count": 15,
   "metadata": {},
   "outputs": [
    {
     "data": {
      "text/plain": [
       "Text(0, 0.5, 'PC3')"
      ]
     },
     "execution_count": 15,
     "metadata": {},
     "output_type": "execute_result"
    },
    {
     "data": {
      "image/png": "[encoded data removed]",
      "text/plain": [
       "<Figure size 432x288 with 1 Axes>"
      ]
     },
     "metadata": {
      "needs_background": "light"
     },
     "output_type": "display_data"
    }
   ],
   "source": [
    "from pandas import Series, DataFrame\n",
    "PCA_components=pd.DataFrame(X_reduced_train)\n",
    "plt.scatter(PCA_components[1],PCA_components[2], color=\"black\")\n",
    "plt.xlabel(\"PC2\")\n",
    "plt.ylabel(\"PC3\")"
   ]
  },
  {
   "cell_type": "code",
   "execution_count": 45,
   "metadata": {},
   "outputs": [
    {
     "data": {
      "text/plain": [
       "Text(0, 0.5, 'PC4')"
      ]
     },
     "execution_count": 45,
     "metadata": {},
     "output_type": "execute_result"
    },
    {
     "data": {
      "image/png": "[encoded data removed]",
      "text/plain": [
       "<Figure size 432x288 with 1 Axes>"
      ]
     },
     "metadata": {
      "needs_background": "light"
     },
     "output_type": "display_data"
    }
   ],
   "source": [
    "from pandas import Series, DataFrame\n",
    "PCA_components=pd.DataFrame(X_reduced_train)\n",
    "plt.scatter(PCA_components[2],PCA_components[3], color=\"black\")\n",
    "plt.xlabel(\"PC3\")\n",
    "plt.ylabel(\"PC4\")"
   ]
  },
  {
   "cell_type": "code",
   "execution_count": 46,
   "metadata": {},
   "outputs": [
    {
     "data": {
      "text/plain": [
       "Text(0, 0.5, 'PC5')"
      ]
     },
     "execution_count": 46,
     "metadata": {},
     "output_type": "execute_result"
    },
    {
     "data": {
      "image/png": "[encoded data removed]",
      "text/plain": [
       "<Figure size 432x288 with 1 Axes>"
      ]
     },
     "metadata": {
      "needs_background": "light"
     },
     "output_type": "display_data"
    }
   ],
   "source": [
    "from pandas import Series, DataFrame\n",
    "PCA_components=pd.DataFrame(X_reduced_train)\n",
    "plt.scatter(PCA_components[3],PCA_components[4], color=\"black\")\n",
    "plt.xlabel(\"PC4\")\n",
    "plt.ylabel(\"PC5\")"
   ]
  },
  {
   "cell_type": "code",
   "execution_count": null,
   "metadata": {},
   "outputs": [],
   "source": []
  },
  {
   "cell_type": "markdown",
   "metadata": {
    "colab_type": "text",
    "id": "9_2cOzIcXKPG"
   },
   "source": [
    "# Decision Tree "
   ]
  },
  {
   "cell_type": "code",
   "execution_count": 2,
   "metadata": {
    "colab": {},
    "colab_type": "code",
    "id": "b4FUqIJQXKPO"
   },
   "outputs": [],
   "source": [
    "import numpy as np\n",
    "import pandas as pd \n",
    "from sklearn.model_selection import train_test_split, GridSearchCV, cross_val_score\n",
    "from sklearn.metrics import confusion_matrix, accuracy_score, classification_report\n",
    "from sklearn.tree import DecisionTreeClassifier\n",
    "from sklearn.tree import DecisionTreeRegressor\n",
    "\n",
    "from sklearn import tree\n",
    "from sklearn.metrics import mean_squared_error, r2_score"
   ]
  },
  {
   "cell_type": "code",
   "execution_count": 4,
   "metadata": {
    "colab": {
     "base_uri": "https://localhost:8080/",
     "height": 253
    },
    "colab_type": "code",
    "id": "Lt6EfHuJXKPk",
    "outputId": "39c6e9df-bc7a-4766-d7f8-3727ab4b7ed7"
   },
   "outputs": [
    {
     "data": {
      "text/html": [
       "<div>\n",
       "<style scoped>\n",
       "    .dataframe tbody tr th:only-of-type {\n",
       "        vertical-align: middle;\n",
       "    }\n",
       "\n",
       "    .dataframe tbody tr th {\n",
       "        vertical-align: top;\n",
       "    }\n",
       "\n",
       "    .dataframe thead th {\n",
       "        text-align: right;\n",
       "    }\n",
       "</style>\n",
       "<table border=\"1\" class=\"dataframe\">\n",
       "  <thead>\n",
       "    <tr style=\"text-align: right;\">\n",
       "      <th></th>\n",
       "      <th>ind_5</th>\n",
       "      <th>ind_6</th>\n",
       "      <th>ind_8</th>\n",
       "      <th>ind_9</th>\n",
       "      <th>ind_10</th>\n",
       "      <th>ind_12</th>\n",
       "      <th>ind_13</th>\n",
       "      <th>ind_14</th>\n",
       "      <th>ind_15</th>\n",
       "      <th>ind_16</th>\n",
       "      <th>ind_17</th>\n",
       "      <th>ind_18</th>\n",
       "      <th>ind_19</th>\n",
       "      <th>ind_20</th>\n",
       "      <th>ind_21</th>\n",
       "      <th>ind_22</th>\n",
       "      <th>ind_23</th>\n",
       "      <th>ind_25</th>\n",
       "      <th>ind_26</th>\n",
       "      <th>ind_27</th>\n",
       "      <th>ind_28</th>\n",
       "      <th>ind_29</th>\n",
       "      <th>ind_30</th>\n",
       "      <th>ind_31</th>\n",
       "      <th>ind_32</th>\n",
       "      <th>ind_33</th>\n",
       "      <th>ind_34</th>\n",
       "      <th>ind_35</th>\n",
       "      <th>ind_36</th>\n",
       "      <th>ind_37</th>\n",
       "      <th>ind_39</th>\n",
       "      <th>ind_40</th>\n",
       "      <th>ind_41</th>\n",
       "      <th>ind_42</th>\n",
       "      <th>ind_43</th>\n",
       "      <th>ind_44</th>\n",
       "      <th>ind_45</th>\n",
       "      <th>ind_46</th>\n",
       "      <th>ind_47</th>\n",
       "      <th>ind_48</th>\n",
       "      <th>...</th>\n",
       "      <th>ind_311</th>\n",
       "      <th>ind_313</th>\n",
       "      <th>ind_315</th>\n",
       "      <th>ind_316</th>\n",
       "      <th>ind_318</th>\n",
       "      <th>ind_321</th>\n",
       "      <th>ind_324</th>\n",
       "      <th>ind_327</th>\n",
       "      <th>ind_330</th>\n",
       "      <th>ind_332</th>\n",
       "      <th>ind_334</th>\n",
       "      <th>ind_338</th>\n",
       "      <th>ind_340</th>\n",
       "      <th>ind_344</th>\n",
       "      <th>ind_345</th>\n",
       "      <th>ind_347</th>\n",
       "      <th>ind_349</th>\n",
       "      <th>ind_351</th>\n",
       "      <th>ind_352</th>\n",
       "      <th>ind_387</th>\n",
       "      <th>ind_392</th>\n",
       "      <th>ind_397</th>\n",
       "      <th>ind_399</th>\n",
       "      <th>ind_403</th>\n",
       "      <th>ind_404</th>\n",
       "      <th>ind_406</th>\n",
       "      <th>ind_407</th>\n",
       "      <th>ind_410</th>\n",
       "      <th>ind_412</th>\n",
       "      <th>ind_414</th>\n",
       "      <th>ind_416</th>\n",
       "      <th>ind_418</th>\n",
       "      <th>ind_420</th>\n",
       "      <th>ind_422</th>\n",
       "      <th>ind_424</th>\n",
       "      <th>ind_426</th>\n",
       "      <th>ind_428</th>\n",
       "      <th>20_target</th>\n",
       "      <th>50_target</th>\n",
       "      <th>90_target</th>\n",
       "    </tr>\n",
       "  </thead>\n",
       "  <tbody>\n",
       "    <tr>\n",
       "      <th>0</th>\n",
       "      <td>19</td>\n",
       "      <td>17</td>\n",
       "      <td>100.0</td>\n",
       "      <td>85.714286</td>\n",
       "      <td>14.285714</td>\n",
       "      <td>72.363515</td>\n",
       "      <td>60.808814</td>\n",
       "      <td>23.80</td>\n",
       "      <td>17.62</td>\n",
       "      <td>11.73</td>\n",
       "      <td>12.060000</td>\n",
       "      <td>9.1100</td>\n",
       "      <td>2</td>\n",
       "      <td>15</td>\n",
       "      <td>13</td>\n",
       "      <td>1</td>\n",
       "      <td>56</td>\n",
       "      <td>0.002690</td>\n",
       "      <td>-0.002670</td>\n",
       "      <td>0.000010</td>\n",
       "      <td>66.666667</td>\n",
       "      <td>93.692449</td>\n",
       "      <td>146.592674</td>\n",
       "      <td>150.505806</td>\n",
       "      <td>154.486989</td>\n",
       "      <td>158.009516</td>\n",
       "      <td>142.421114</td>\n",
       "      <td>142.023350</td>\n",
       "      <td>196.592517</td>\n",
       "      <td>184.819232</td>\n",
       "      <td>31.939605</td>\n",
       "      <td>3</td>\n",
       "      <td>30.752568</td>\n",
       "      <td>-5</td>\n",
       "      <td>-22</td>\n",
       "      <td>-22</td>\n",
       "      <td>-21</td>\n",
       "      <td>-23</td>\n",
       "      <td>-36</td>\n",
       "      <td>-40</td>\n",
       "      <td>...</td>\n",
       "      <td>97.980028</td>\n",
       "      <td>1.179209</td>\n",
       "      <td>-0.756946</td>\n",
       "      <td>98.905563</td>\n",
       "      <td>1.190348</td>\n",
       "      <td>99.156641</td>\n",
       "      <td>-0.000062</td>\n",
       "      <td>12.056738</td>\n",
       "      <td>-0.157039</td>\n",
       "      <td>20.967742</td>\n",
       "      <td>-0.000091</td>\n",
       "      <td>1.197238</td>\n",
       "      <td>-0.319064</td>\n",
       "      <td>0.0</td>\n",
       "      <td>0.0</td>\n",
       "      <td>0.0</td>\n",
       "      <td>0.0</td>\n",
       "      <td>0.0</td>\n",
       "      <td>0.0</td>\n",
       "      <td>-3.731343</td>\n",
       "      <td>-32.587430</td>\n",
       "      <td>-26.386973</td>\n",
       "      <td>-0.003323</td>\n",
       "      <td>0.045130</td>\n",
       "      <td>-0.044678</td>\n",
       "      <td>-44</td>\n",
       "      <td>-23</td>\n",
       "      <td>-27</td>\n",
       "      <td>0.002371</td>\n",
       "      <td>2.0</td>\n",
       "      <td>-49.6</td>\n",
       "      <td>-54</td>\n",
       "      <td>-152</td>\n",
       "      <td>-353</td>\n",
       "      <td>1.0</td>\n",
       "      <td>0.498547</td>\n",
       "      <td>0.701906</td>\n",
       "      <td>15.135802</td>\n",
       "      <td>35.625252</td>\n",
       "      <td>36.997753</td>\n",
       "    </tr>\n",
       "    <tr>\n",
       "      <th>1</th>\n",
       "      <td>24</td>\n",
       "      <td>19</td>\n",
       "      <td>100.0</td>\n",
       "      <td>78.571429</td>\n",
       "      <td>21.428571</td>\n",
       "      <td>74.275883</td>\n",
       "      <td>64.366798</td>\n",
       "      <td>11.45</td>\n",
       "      <td>18.16</td>\n",
       "      <td>12.22</td>\n",
       "      <td>11.326667</td>\n",
       "      <td>9.2225</td>\n",
       "      <td>0</td>\n",
       "      <td>11</td>\n",
       "      <td>11</td>\n",
       "      <td>1</td>\n",
       "      <td>63</td>\n",
       "      <td>0.002729</td>\n",
       "      <td>-0.003111</td>\n",
       "      <td>-0.000191</td>\n",
       "      <td>66.666667</td>\n",
       "      <td>76.694104</td>\n",
       "      <td>140.227205</td>\n",
       "      <td>156.903278</td>\n",
       "      <td>161.604303</td>\n",
       "      <td>169.720843</td>\n",
       "      <td>152.634492</td>\n",
       "      <td>149.634976</td>\n",
       "      <td>201.738617</td>\n",
       "      <td>191.985663</td>\n",
       "      <td>38.478501</td>\n",
       "      <td>3</td>\n",
       "      <td>36.812130</td>\n",
       "      <td>-6</td>\n",
       "      <td>-18</td>\n",
       "      <td>-24</td>\n",
       "      <td>-24</td>\n",
       "      <td>-25</td>\n",
       "      <td>-38</td>\n",
       "      <td>-43</td>\n",
       "      <td>...</td>\n",
       "      <td>97.932319</td>\n",
       "      <td>1.179223</td>\n",
       "      <td>-0.756569</td>\n",
       "      <td>98.859627</td>\n",
       "      <td>1.190389</td>\n",
       "      <td>99.111914</td>\n",
       "      <td>-0.000062</td>\n",
       "      <td>11.971831</td>\n",
       "      <td>-0.156961</td>\n",
       "      <td>20.800000</td>\n",
       "      <td>-0.000091</td>\n",
       "      <td>1.197328</td>\n",
       "      <td>-0.318905</td>\n",
       "      <td>0.0</td>\n",
       "      <td>0.0</td>\n",
       "      <td>0.0</td>\n",
       "      <td>0.0</td>\n",
       "      <td>0.0</td>\n",
       "      <td>0.0</td>\n",
       "      <td>-1.369863</td>\n",
       "      <td>-38.115965</td>\n",
       "      <td>-26.085949</td>\n",
       "      <td>-0.000476</td>\n",
       "      <td>0.035314</td>\n",
       "      <td>-0.034961</td>\n",
       "      <td>-48</td>\n",
       "      <td>-16</td>\n",
       "      <td>-31</td>\n",
       "      <td>0.003074</td>\n",
       "      <td>0.8</td>\n",
       "      <td>-55.6</td>\n",
       "      <td>-60</td>\n",
       "      <td>-158</td>\n",
       "      <td>-359</td>\n",
       "      <td>1.0</td>\n",
       "      <td>0.537088</td>\n",
       "      <td>0.690833</td>\n",
       "      <td>15.143348</td>\n",
       "      <td>35.643013</td>\n",
       "      <td>37.016198</td>\n",
       "    </tr>\n",
       "    <tr>\n",
       "      <th>2</th>\n",
       "      <td>30</td>\n",
       "      <td>24</td>\n",
       "      <td>100.0</td>\n",
       "      <td>71.428571</td>\n",
       "      <td>28.571429</td>\n",
       "      <td>75.140402</td>\n",
       "      <td>65.915803</td>\n",
       "      <td>8.75</td>\n",
       "      <td>17.86</td>\n",
       "      <td>12.28</td>\n",
       "      <td>10.973333</td>\n",
       "      <td>9.3125</td>\n",
       "      <td>5</td>\n",
       "      <td>15</td>\n",
       "      <td>9</td>\n",
       "      <td>-1</td>\n",
       "      <td>65</td>\n",
       "      <td>0.002780</td>\n",
       "      <td>-0.003530</td>\n",
       "      <td>-0.000375</td>\n",
       "      <td>66.666667</td>\n",
       "      <td>83.909974</td>\n",
       "      <td>117.755945</td>\n",
       "      <td>154.452274</td>\n",
       "      <td>164.015689</td>\n",
       "      <td>175.947530</td>\n",
       "      <td>160.181486</td>\n",
       "      <td>155.527932</td>\n",
       "      <td>205.238017</td>\n",
       "      <td>197.993551</td>\n",
       "      <td>28.917197</td>\n",
       "      <td>3</td>\n",
       "      <td>39.648290</td>\n",
       "      <td>-4</td>\n",
       "      <td>-11</td>\n",
       "      <td>-21</td>\n",
       "      <td>-22</td>\n",
       "      <td>-24</td>\n",
       "      <td>-36</td>\n",
       "      <td>-42</td>\n",
       "      <td>...</td>\n",
       "      <td>97.910664</td>\n",
       "      <td>1.179236</td>\n",
       "      <td>-0.756393</td>\n",
       "      <td>98.839991</td>\n",
       "      <td>1.190429</td>\n",
       "      <td>99.093554</td>\n",
       "      <td>-0.000062</td>\n",
       "      <td>11.888112</td>\n",
       "      <td>-0.156925</td>\n",
       "      <td>20.634921</td>\n",
       "      <td>-0.000091</td>\n",
       "      <td>1.197419</td>\n",
       "      <td>-0.318831</td>\n",
       "      <td>0.0</td>\n",
       "      <td>0.0</td>\n",
       "      <td>0.0</td>\n",
       "      <td>0.0</td>\n",
       "      <td>0.0</td>\n",
       "      <td>0.0</td>\n",
       "      <td>-4.278922</td>\n",
       "      <td>-40.428126</td>\n",
       "      <td>-23.250410</td>\n",
       "      <td>-0.000309</td>\n",
       "      <td>0.005860</td>\n",
       "      <td>-0.005802</td>\n",
       "      <td>-48</td>\n",
       "      <td>-10</td>\n",
       "      <td>-30</td>\n",
       "      <td>0.003561</td>\n",
       "      <td>2.7</td>\n",
       "      <td>-58.4</td>\n",
       "      <td>-60</td>\n",
       "      <td>-160</td>\n",
       "      <td>-362</td>\n",
       "      <td>1.0</td>\n",
       "      <td>0.615169</td>\n",
       "      <td>0.693040</td>\n",
       "      <td>15.146870</td>\n",
       "      <td>35.651301</td>\n",
       "      <td>-37.024805</td>\n",
       "    </tr>\n",
       "    <tr>\n",
       "      <th>3</th>\n",
       "      <td>37</td>\n",
       "      <td>30</td>\n",
       "      <td>100.0</td>\n",
       "      <td>64.285714</td>\n",
       "      <td>35.714286</td>\n",
       "      <td>76.677846</td>\n",
       "      <td>68.584234</td>\n",
       "      <td>7.80</td>\n",
       "      <td>14.76</td>\n",
       "      <td>12.61</td>\n",
       "      <td>10.426667</td>\n",
       "      <td>9.4150</td>\n",
       "      <td>11</td>\n",
       "      <td>18</td>\n",
       "      <td>8</td>\n",
       "      <td>0</td>\n",
       "      <td>68</td>\n",
       "      <td>0.002679</td>\n",
       "      <td>-0.003961</td>\n",
       "      <td>-0.000641</td>\n",
       "      <td>66.666667</td>\n",
       "      <td>98.596644</td>\n",
       "      <td>100.147384</td>\n",
       "      <td>139.695620</td>\n",
       "      <td>158.006863</td>\n",
       "      <td>171.688382</td>\n",
       "      <td>161.192133</td>\n",
       "      <td>156.413230</td>\n",
       "      <td>203.641362</td>\n",
       "      <td>200.370912</td>\n",
       "      <td>31.449631</td>\n",
       "      <td>3</td>\n",
       "      <td>40.902782</td>\n",
       "      <td>-5</td>\n",
       "      <td>-10</td>\n",
       "      <td>-21</td>\n",
       "      <td>-23</td>\n",
       "      <td>-26</td>\n",
       "      <td>-37</td>\n",
       "      <td>-44</td>\n",
       "      <td>...</td>\n",
       "      <td>97.870334</td>\n",
       "      <td>1.179249</td>\n",
       "      <td>-0.756073</td>\n",
       "      <td>98.801500</td>\n",
       "      <td>1.190469</td>\n",
       "      <td>99.056290</td>\n",
       "      <td>-0.000062</td>\n",
       "      <td>11.805556</td>\n",
       "      <td>-0.156858</td>\n",
       "      <td>20.472441</td>\n",
       "      <td>-0.000091</td>\n",
       "      <td>1.197509</td>\n",
       "      <td>-0.318696</td>\n",
       "      <td>0.0</td>\n",
       "      <td>0.0</td>\n",
       "      <td>0.0</td>\n",
       "      <td>0.0</td>\n",
       "      <td>0.0</td>\n",
       "      <td>0.0</td>\n",
       "      <td>-1.355422</td>\n",
       "      <td>-45.019355</td>\n",
       "      <td>-19.499975</td>\n",
       "      <td>0.001137</td>\n",
       "      <td>-0.018252</td>\n",
       "      <td>0.018070</td>\n",
       "      <td>-51</td>\n",
       "      <td>-10</td>\n",
       "      <td>-30</td>\n",
       "      <td>0.004366</td>\n",
       "      <td>0.9</td>\n",
       "      <td>-61.8</td>\n",
       "      <td>-65</td>\n",
       "      <td>-166</td>\n",
       "      <td>-367</td>\n",
       "      <td>1.0</td>\n",
       "      <td>0.661517</td>\n",
       "      <td>0.673418</td>\n",
       "      <td>15.153283</td>\n",
       "      <td>0.000000</td>\n",
       "      <td>-37.040483</td>\n",
       "    </tr>\n",
       "    <tr>\n",
       "      <th>4</th>\n",
       "      <td>41</td>\n",
       "      <td>37</td>\n",
       "      <td>100.0</td>\n",
       "      <td>57.142857</td>\n",
       "      <td>42.857143</td>\n",
       "      <td>81.603007</td>\n",
       "      <td>76.455495</td>\n",
       "      <td>14.90</td>\n",
       "      <td>11.92</td>\n",
       "      <td>14.25</td>\n",
       "      <td>11.406667</td>\n",
       "      <td>9.8925</td>\n",
       "      <td>13</td>\n",
       "      <td>23</td>\n",
       "      <td>10</td>\n",
       "      <td>10</td>\n",
       "      <td>91</td>\n",
       "      <td>0.003986</td>\n",
       "      <td>-0.004624</td>\n",
       "      <td>-0.000319</td>\n",
       "      <td>66.666667</td>\n",
       "      <td>149.283572</td>\n",
       "      <td>124.092409</td>\n",
       "      <td>168.275524</td>\n",
       "      <td>196.846256</td>\n",
       "      <td>208.017747</td>\n",
       "      <td>193.924291</td>\n",
       "      <td>184.995906</td>\n",
       "      <td>227.848369</td>\n",
       "      <td>223.561880</td>\n",
       "      <td>50.406504</td>\n",
       "      <td>2</td>\n",
       "      <td>48.462194</td>\n",
       "      <td>-18</td>\n",
       "      <td>-26</td>\n",
       "      <td>-37</td>\n",
       "      <td>-40</td>\n",
       "      <td>-43</td>\n",
       "      <td>-53</td>\n",
       "      <td>-61</td>\n",
       "      <td>...</td>\n",
       "      <td>97.705214</td>\n",
       "      <td>1.179263</td>\n",
       "      <td>-0.754789</td>\n",
       "      <td>98.637028</td>\n",
       "      <td>1.190509</td>\n",
       "      <td>98.892717</td>\n",
       "      <td>-0.000062</td>\n",
       "      <td>11.724138</td>\n",
       "      <td>-0.156592</td>\n",
       "      <td>20.312500</td>\n",
       "      <td>-0.000091</td>\n",
       "      <td>1.197600</td>\n",
       "      <td>-0.318155</td>\n",
       "      <td>0.0</td>\n",
       "      <td>0.0</td>\n",
       "      <td>0.0</td>\n",
       "      <td>0.0</td>\n",
       "      <td>0.0</td>\n",
       "      <td>0.0</td>\n",
       "      <td>-0.116144</td>\n",
       "      <td>-54.849177</td>\n",
       "      <td>-25.348270</td>\n",
       "      <td>0.001552</td>\n",
       "      <td>-0.007183</td>\n",
       "      <td>0.007111</td>\n",
       "      <td>-70</td>\n",
       "      <td>-24</td>\n",
       "      <td>-45</td>\n",
       "      <td>0.004198</td>\n",
       "      <td>0.1</td>\n",
       "      <td>-79.8</td>\n",
       "      <td>-86</td>\n",
       "      <td>-186</td>\n",
       "      <td>-388</td>\n",
       "      <td>1.0</td>\n",
       "      <td>0.747204</td>\n",
       "      <td>0.700522</td>\n",
       "      <td>-15.179065</td>\n",
       "      <td>-35.727079</td>\n",
       "      <td>-37.103503</td>\n",
       "    </tr>\n",
       "  </tbody>\n",
       "</table>\n",
       "<p>5 rows × 136 columns</p>\n",
       "</div>"
      ],
      "text/plain": [
       "   ind_5  ind_6  ind_8      ind_9  ...   ind_428  20_target  50_target  90_target\n",
       "0     19     17  100.0  85.714286  ...  0.701906  15.135802  35.625252  36.997753\n",
       "1     24     19  100.0  78.571429  ...  0.690833  15.143348  35.643013  37.016198\n",
       "2     30     24  100.0  71.428571  ...  0.693040  15.146870  35.651301 -37.024805\n",
       "3     37     30  100.0  64.285714  ...  0.673418  15.153283   0.000000 -37.040483\n",
       "4     41     37  100.0  57.142857  ...  0.700522 -15.179065 -35.727079 -37.103503\n",
       "\n",
       "[5 rows x 136 columns]"
      ]
     },
     "execution_count": 4,
     "metadata": {
      "tags": []
     },
     "output_type": "execute_result"
    }
   ],
   "source": [
    "import io\n",
    "from pandas import read_excel\n",
    "df= read_excel('HW_Data_Set.xlsx', sheet_name = 'Sheet1')\n",
    "df=df.copy()\n",
    "df.head()"
   ]
  },
  {
   "cell_type": "code",
   "execution_count": 5,
   "metadata": {
    "colab": {},
    "colab_type": "code",
    "id": "hDLY8s5jXKP0",
    "scrolled": true
   },
   "outputs": [],
   "source": [
    "import numpy as np\n",
    "df=df.replace('?',np.nan)\n",
    "df = df.dropna()"
   ]
  },
  {
   "cell_type": "code",
   "execution_count": 6,
   "metadata": {
    "colab": {
     "base_uri": "https://localhost:8080/",
     "height": 204
    },
    "colab_type": "code",
    "id": "8LkLiWKlXKQI",
    "outputId": "3978251e-7dc2-4179-e051-ff0c23072cd9"
   },
   "outputs": [
    {
     "data": {
      "text/html": [
       "<div>\n",
       "<style scoped>\n",
       "    .dataframe tbody tr th:only-of-type {\n",
       "        vertical-align: middle;\n",
       "    }\n",
       "\n",
       "    .dataframe tbody tr th {\n",
       "        vertical-align: top;\n",
       "    }\n",
       "\n",
       "    .dataframe thead th {\n",
       "        text-align: right;\n",
       "    }\n",
       "</style>\n",
       "<table border=\"1\" class=\"dataframe\">\n",
       "  <thead>\n",
       "    <tr style=\"text-align: right;\">\n",
       "      <th></th>\n",
       "      <th>ind_109_GREEN</th>\n",
       "      <th>ind_109_RED</th>\n",
       "    </tr>\n",
       "  </thead>\n",
       "  <tbody>\n",
       "    <tr>\n",
       "      <th>0</th>\n",
       "      <td>1</td>\n",
       "      <td>0</td>\n",
       "    </tr>\n",
       "    <tr>\n",
       "      <th>1</th>\n",
       "      <td>1</td>\n",
       "      <td>0</td>\n",
       "    </tr>\n",
       "    <tr>\n",
       "      <th>2</th>\n",
       "      <td>1</td>\n",
       "      <td>0</td>\n",
       "    </tr>\n",
       "    <tr>\n",
       "      <th>3</th>\n",
       "      <td>1</td>\n",
       "      <td>0</td>\n",
       "    </tr>\n",
       "    <tr>\n",
       "      <th>4</th>\n",
       "      <td>1</td>\n",
       "      <td>0</td>\n",
       "    </tr>\n",
       "  </tbody>\n",
       "</table>\n",
       "</div>"
      ],
      "text/plain": [
       "   ind_109_GREEN  ind_109_RED\n",
       "0              1            0\n",
       "1              1            0\n",
       "2              1            0\n",
       "3              1            0\n",
       "4              1            0"
      ]
     },
     "execution_count": 6,
     "metadata": {
      "tags": []
     },
     "output_type": "execute_result"
    }
   ],
   "source": [
    "import pandas as pd\n",
    "dms=pd.get_dummies(df[[\"ind_109\"]])\n",
    "dms.head()"
   ]
  },
  {
   "cell_type": "code",
   "execution_count": 7,
   "metadata": {
    "colab": {
     "base_uri": "https://localhost:8080/",
     "height": 253
    },
    "colab_type": "code",
    "id": "FbMZRtpUXKQe",
    "outputId": "3aa8450b-f634-48c5-d79a-86abe407f32b"
   },
   "outputs": [
    {
     "data": {
      "text/html": [
       "<div>\n",
       "<style scoped>\n",
       "    .dataframe tbody tr th:only-of-type {\n",
       "        vertical-align: middle;\n",
       "    }\n",
       "\n",
       "    .dataframe tbody tr th {\n",
       "        vertical-align: top;\n",
       "    }\n",
       "\n",
       "    .dataframe thead th {\n",
       "        text-align: right;\n",
       "    }\n",
       "</style>\n",
       "<table border=\"1\" class=\"dataframe\">\n",
       "  <thead>\n",
       "    <tr style=\"text-align: right;\">\n",
       "      <th></th>\n",
       "      <th>ind_5</th>\n",
       "      <th>ind_6</th>\n",
       "      <th>ind_8</th>\n",
       "      <th>ind_9</th>\n",
       "      <th>ind_10</th>\n",
       "      <th>ind_12</th>\n",
       "      <th>ind_13</th>\n",
       "      <th>ind_14</th>\n",
       "      <th>ind_15</th>\n",
       "      <th>ind_16</th>\n",
       "      <th>ind_17</th>\n",
       "      <th>ind_18</th>\n",
       "      <th>ind_19</th>\n",
       "      <th>ind_20</th>\n",
       "      <th>ind_21</th>\n",
       "      <th>ind_22</th>\n",
       "      <th>ind_23</th>\n",
       "      <th>ind_25</th>\n",
       "      <th>ind_26</th>\n",
       "      <th>ind_27</th>\n",
       "      <th>ind_28</th>\n",
       "      <th>ind_29</th>\n",
       "      <th>ind_30</th>\n",
       "      <th>ind_31</th>\n",
       "      <th>ind_32</th>\n",
       "      <th>ind_33</th>\n",
       "      <th>ind_34</th>\n",
       "      <th>ind_35</th>\n",
       "      <th>ind_36</th>\n",
       "      <th>ind_37</th>\n",
       "      <th>ind_39</th>\n",
       "      <th>ind_40</th>\n",
       "      <th>ind_41</th>\n",
       "      <th>ind_42</th>\n",
       "      <th>ind_43</th>\n",
       "      <th>ind_44</th>\n",
       "      <th>ind_45</th>\n",
       "      <th>ind_46</th>\n",
       "      <th>ind_47</th>\n",
       "      <th>ind_48</th>\n",
       "      <th>...</th>\n",
       "      <th>ind_309</th>\n",
       "      <th>ind_310</th>\n",
       "      <th>ind_311</th>\n",
       "      <th>ind_313</th>\n",
       "      <th>ind_315</th>\n",
       "      <th>ind_316</th>\n",
       "      <th>ind_318</th>\n",
       "      <th>ind_321</th>\n",
       "      <th>ind_324</th>\n",
       "      <th>ind_327</th>\n",
       "      <th>ind_330</th>\n",
       "      <th>ind_332</th>\n",
       "      <th>ind_334</th>\n",
       "      <th>ind_338</th>\n",
       "      <th>ind_340</th>\n",
       "      <th>ind_344</th>\n",
       "      <th>ind_345</th>\n",
       "      <th>ind_347</th>\n",
       "      <th>ind_349</th>\n",
       "      <th>ind_351</th>\n",
       "      <th>ind_352</th>\n",
       "      <th>ind_387</th>\n",
       "      <th>ind_392</th>\n",
       "      <th>ind_397</th>\n",
       "      <th>ind_399</th>\n",
       "      <th>ind_403</th>\n",
       "      <th>ind_404</th>\n",
       "      <th>ind_406</th>\n",
       "      <th>ind_407</th>\n",
       "      <th>ind_410</th>\n",
       "      <th>ind_412</th>\n",
       "      <th>ind_414</th>\n",
       "      <th>ind_416</th>\n",
       "      <th>ind_418</th>\n",
       "      <th>ind_420</th>\n",
       "      <th>ind_422</th>\n",
       "      <th>ind_424</th>\n",
       "      <th>ind_426</th>\n",
       "      <th>ind_428</th>\n",
       "      <th>ind_109_GREEN</th>\n",
       "    </tr>\n",
       "  </thead>\n",
       "  <tbody>\n",
       "    <tr>\n",
       "      <th>0</th>\n",
       "      <td>19.0</td>\n",
       "      <td>17.0</td>\n",
       "      <td>100.0</td>\n",
       "      <td>85.714286</td>\n",
       "      <td>14.285714</td>\n",
       "      <td>72.363515</td>\n",
       "      <td>60.808814</td>\n",
       "      <td>23.80</td>\n",
       "      <td>17.62</td>\n",
       "      <td>11.73</td>\n",
       "      <td>12.060000</td>\n",
       "      <td>9.1100</td>\n",
       "      <td>2.0</td>\n",
       "      <td>15.0</td>\n",
       "      <td>13.0</td>\n",
       "      <td>1.0</td>\n",
       "      <td>56.0</td>\n",
       "      <td>0.002690</td>\n",
       "      <td>-0.002670</td>\n",
       "      <td>0.000010</td>\n",
       "      <td>66.666667</td>\n",
       "      <td>93.692449</td>\n",
       "      <td>146.592674</td>\n",
       "      <td>150.505806</td>\n",
       "      <td>154.486989</td>\n",
       "      <td>158.009516</td>\n",
       "      <td>142.421114</td>\n",
       "      <td>142.023350</td>\n",
       "      <td>196.592517</td>\n",
       "      <td>184.819232</td>\n",
       "      <td>31.939605</td>\n",
       "      <td>3.0</td>\n",
       "      <td>30.752568</td>\n",
       "      <td>-5.0</td>\n",
       "      <td>-22.0</td>\n",
       "      <td>-22.0</td>\n",
       "      <td>-21.0</td>\n",
       "      <td>-23.0</td>\n",
       "      <td>-36.0</td>\n",
       "      <td>-40.0</td>\n",
       "      <td>...</td>\n",
       "      <td>-0.000013</td>\n",
       "      <td>-1.524694</td>\n",
       "      <td>97.980028</td>\n",
       "      <td>1.179209</td>\n",
       "      <td>-0.756946</td>\n",
       "      <td>98.905563</td>\n",
       "      <td>1.190348</td>\n",
       "      <td>99.156641</td>\n",
       "      <td>-0.000062</td>\n",
       "      <td>12.056738</td>\n",
       "      <td>-0.157039</td>\n",
       "      <td>20.967742</td>\n",
       "      <td>-0.000091</td>\n",
       "      <td>1.197238</td>\n",
       "      <td>-0.319064</td>\n",
       "      <td>0.0</td>\n",
       "      <td>0.0</td>\n",
       "      <td>0.0</td>\n",
       "      <td>0.0</td>\n",
       "      <td>0.0</td>\n",
       "      <td>0.0</td>\n",
       "      <td>-3.731343</td>\n",
       "      <td>-32.587430</td>\n",
       "      <td>-26.386973</td>\n",
       "      <td>-0.003323</td>\n",
       "      <td>0.045130</td>\n",
       "      <td>-0.044678</td>\n",
       "      <td>-44.0</td>\n",
       "      <td>-23.0</td>\n",
       "      <td>-27.0</td>\n",
       "      <td>0.002371</td>\n",
       "      <td>2.0</td>\n",
       "      <td>-49.6</td>\n",
       "      <td>-54.0</td>\n",
       "      <td>-152.0</td>\n",
       "      <td>-353.0</td>\n",
       "      <td>1.0</td>\n",
       "      <td>0.498547</td>\n",
       "      <td>0.701906</td>\n",
       "      <td>1</td>\n",
       "    </tr>\n",
       "    <tr>\n",
       "      <th>1</th>\n",
       "      <td>24.0</td>\n",
       "      <td>19.0</td>\n",
       "      <td>100.0</td>\n",
       "      <td>78.571429</td>\n",
       "      <td>21.428571</td>\n",
       "      <td>74.275883</td>\n",
       "      <td>64.366798</td>\n",
       "      <td>11.45</td>\n",
       "      <td>18.16</td>\n",
       "      <td>12.22</td>\n",
       "      <td>11.326667</td>\n",
       "      <td>9.2225</td>\n",
       "      <td>0.0</td>\n",
       "      <td>11.0</td>\n",
       "      <td>11.0</td>\n",
       "      <td>1.0</td>\n",
       "      <td>63.0</td>\n",
       "      <td>0.002729</td>\n",
       "      <td>-0.003111</td>\n",
       "      <td>-0.000191</td>\n",
       "      <td>66.666667</td>\n",
       "      <td>76.694104</td>\n",
       "      <td>140.227205</td>\n",
       "      <td>156.903278</td>\n",
       "      <td>161.604303</td>\n",
       "      <td>169.720843</td>\n",
       "      <td>152.634492</td>\n",
       "      <td>149.634976</td>\n",
       "      <td>201.738617</td>\n",
       "      <td>191.985663</td>\n",
       "      <td>38.478501</td>\n",
       "      <td>3.0</td>\n",
       "      <td>36.812130</td>\n",
       "      <td>-6.0</td>\n",
       "      <td>-18.0</td>\n",
       "      <td>-24.0</td>\n",
       "      <td>-24.0</td>\n",
       "      <td>-25.0</td>\n",
       "      <td>-38.0</td>\n",
       "      <td>-43.0</td>\n",
       "      <td>...</td>\n",
       "      <td>-0.000013</td>\n",
       "      <td>-1.523934</td>\n",
       "      <td>97.932319</td>\n",
       "      <td>1.179223</td>\n",
       "      <td>-0.756569</td>\n",
       "      <td>98.859627</td>\n",
       "      <td>1.190389</td>\n",
       "      <td>99.111914</td>\n",
       "      <td>-0.000062</td>\n",
       "      <td>11.971831</td>\n",
       "      <td>-0.156961</td>\n",
       "      <td>20.800000</td>\n",
       "      <td>-0.000091</td>\n",
       "      <td>1.197328</td>\n",
       "      <td>-0.318905</td>\n",
       "      <td>0.0</td>\n",
       "      <td>0.0</td>\n",
       "      <td>0.0</td>\n",
       "      <td>0.0</td>\n",
       "      <td>0.0</td>\n",
       "      <td>0.0</td>\n",
       "      <td>-1.369863</td>\n",
       "      <td>-38.115965</td>\n",
       "      <td>-26.085949</td>\n",
       "      <td>-0.000476</td>\n",
       "      <td>0.035314</td>\n",
       "      <td>-0.034961</td>\n",
       "      <td>-48.0</td>\n",
       "      <td>-16.0</td>\n",
       "      <td>-31.0</td>\n",
       "      <td>0.003074</td>\n",
       "      <td>0.8</td>\n",
       "      <td>-55.6</td>\n",
       "      <td>-60.0</td>\n",
       "      <td>-158.0</td>\n",
       "      <td>-359.0</td>\n",
       "      <td>1.0</td>\n",
       "      <td>0.537088</td>\n",
       "      <td>0.690833</td>\n",
       "      <td>1</td>\n",
       "    </tr>\n",
       "    <tr>\n",
       "      <th>2</th>\n",
       "      <td>30.0</td>\n",
       "      <td>24.0</td>\n",
       "      <td>100.0</td>\n",
       "      <td>71.428571</td>\n",
       "      <td>28.571429</td>\n",
       "      <td>75.140402</td>\n",
       "      <td>65.915803</td>\n",
       "      <td>8.75</td>\n",
       "      <td>17.86</td>\n",
       "      <td>12.28</td>\n",
       "      <td>10.973333</td>\n",
       "      <td>9.3125</td>\n",
       "      <td>5.0</td>\n",
       "      <td>15.0</td>\n",
       "      <td>9.0</td>\n",
       "      <td>-1.0</td>\n",
       "      <td>65.0</td>\n",
       "      <td>0.002780</td>\n",
       "      <td>-0.003530</td>\n",
       "      <td>-0.000375</td>\n",
       "      <td>66.666667</td>\n",
       "      <td>83.909974</td>\n",
       "      <td>117.755945</td>\n",
       "      <td>154.452274</td>\n",
       "      <td>164.015689</td>\n",
       "      <td>175.947530</td>\n",
       "      <td>160.181486</td>\n",
       "      <td>155.527932</td>\n",
       "      <td>205.238017</td>\n",
       "      <td>197.993551</td>\n",
       "      <td>28.917197</td>\n",
       "      <td>3.0</td>\n",
       "      <td>39.648290</td>\n",
       "      <td>-4.0</td>\n",
       "      <td>-11.0</td>\n",
       "      <td>-21.0</td>\n",
       "      <td>-22.0</td>\n",
       "      <td>-24.0</td>\n",
       "      <td>-36.0</td>\n",
       "      <td>-42.0</td>\n",
       "      <td>...</td>\n",
       "      <td>-0.000013</td>\n",
       "      <td>-1.523580</td>\n",
       "      <td>97.910664</td>\n",
       "      <td>1.179236</td>\n",
       "      <td>-0.756393</td>\n",
       "      <td>98.839991</td>\n",
       "      <td>1.190429</td>\n",
       "      <td>99.093554</td>\n",
       "      <td>-0.000062</td>\n",
       "      <td>11.888112</td>\n",
       "      <td>-0.156925</td>\n",
       "      <td>20.634921</td>\n",
       "      <td>-0.000091</td>\n",
       "      <td>1.197419</td>\n",
       "      <td>-0.318831</td>\n",
       "      <td>0.0</td>\n",
       "      <td>0.0</td>\n",
       "      <td>0.0</td>\n",
       "      <td>0.0</td>\n",
       "      <td>0.0</td>\n",
       "      <td>0.0</td>\n",
       "      <td>-4.278922</td>\n",
       "      <td>-40.428126</td>\n",
       "      <td>-23.250410</td>\n",
       "      <td>-0.000309</td>\n",
       "      <td>0.005860</td>\n",
       "      <td>-0.005802</td>\n",
       "      <td>-48.0</td>\n",
       "      <td>-10.0</td>\n",
       "      <td>-30.0</td>\n",
       "      <td>0.003561</td>\n",
       "      <td>2.7</td>\n",
       "      <td>-58.4</td>\n",
       "      <td>-60.0</td>\n",
       "      <td>-160.0</td>\n",
       "      <td>-362.0</td>\n",
       "      <td>1.0</td>\n",
       "      <td>0.615169</td>\n",
       "      <td>0.693040</td>\n",
       "      <td>1</td>\n",
       "    </tr>\n",
       "    <tr>\n",
       "      <th>3</th>\n",
       "      <td>37.0</td>\n",
       "      <td>30.0</td>\n",
       "      <td>100.0</td>\n",
       "      <td>64.285714</td>\n",
       "      <td>35.714286</td>\n",
       "      <td>76.677846</td>\n",
       "      <td>68.584234</td>\n",
       "      <td>7.80</td>\n",
       "      <td>14.76</td>\n",
       "      <td>12.61</td>\n",
       "      <td>10.426667</td>\n",
       "      <td>9.4150</td>\n",
       "      <td>11.0</td>\n",
       "      <td>18.0</td>\n",
       "      <td>8.0</td>\n",
       "      <td>0.0</td>\n",
       "      <td>68.0</td>\n",
       "      <td>0.002679</td>\n",
       "      <td>-0.003961</td>\n",
       "      <td>-0.000641</td>\n",
       "      <td>66.666667</td>\n",
       "      <td>98.596644</td>\n",
       "      <td>100.147384</td>\n",
       "      <td>139.695620</td>\n",
       "      <td>158.006863</td>\n",
       "      <td>171.688382</td>\n",
       "      <td>161.192133</td>\n",
       "      <td>156.413230</td>\n",
       "      <td>203.641362</td>\n",
       "      <td>200.370912</td>\n",
       "      <td>31.449631</td>\n",
       "      <td>3.0</td>\n",
       "      <td>40.902782</td>\n",
       "      <td>-5.0</td>\n",
       "      <td>-10.0</td>\n",
       "      <td>-21.0</td>\n",
       "      <td>-23.0</td>\n",
       "      <td>-26.0</td>\n",
       "      <td>-37.0</td>\n",
       "      <td>-44.0</td>\n",
       "      <td>...</td>\n",
       "      <td>-0.000013</td>\n",
       "      <td>-1.522935</td>\n",
       "      <td>97.870334</td>\n",
       "      <td>1.179249</td>\n",
       "      <td>-0.756073</td>\n",
       "      <td>98.801500</td>\n",
       "      <td>1.190469</td>\n",
       "      <td>99.056290</td>\n",
       "      <td>-0.000062</td>\n",
       "      <td>11.805556</td>\n",
       "      <td>-0.156858</td>\n",
       "      <td>20.472441</td>\n",
       "      <td>-0.000091</td>\n",
       "      <td>1.197509</td>\n",
       "      <td>-0.318696</td>\n",
       "      <td>0.0</td>\n",
       "      <td>0.0</td>\n",
       "      <td>0.0</td>\n",
       "      <td>0.0</td>\n",
       "      <td>0.0</td>\n",
       "      <td>0.0</td>\n",
       "      <td>-1.355422</td>\n",
       "      <td>-45.019355</td>\n",
       "      <td>-19.499975</td>\n",
       "      <td>0.001137</td>\n",
       "      <td>-0.018252</td>\n",
       "      <td>0.018070</td>\n",
       "      <td>-51.0</td>\n",
       "      <td>-10.0</td>\n",
       "      <td>-30.0</td>\n",
       "      <td>0.004366</td>\n",
       "      <td>0.9</td>\n",
       "      <td>-61.8</td>\n",
       "      <td>-65.0</td>\n",
       "      <td>-166.0</td>\n",
       "      <td>-367.0</td>\n",
       "      <td>1.0</td>\n",
       "      <td>0.661517</td>\n",
       "      <td>0.673418</td>\n",
       "      <td>1</td>\n",
       "    </tr>\n",
       "    <tr>\n",
       "      <th>4</th>\n",
       "      <td>41.0</td>\n",
       "      <td>37.0</td>\n",
       "      <td>100.0</td>\n",
       "      <td>57.142857</td>\n",
       "      <td>42.857143</td>\n",
       "      <td>81.603007</td>\n",
       "      <td>76.455495</td>\n",
       "      <td>14.90</td>\n",
       "      <td>11.92</td>\n",
       "      <td>14.25</td>\n",
       "      <td>11.406667</td>\n",
       "      <td>9.8925</td>\n",
       "      <td>13.0</td>\n",
       "      <td>23.0</td>\n",
       "      <td>10.0</td>\n",
       "      <td>10.0</td>\n",
       "      <td>91.0</td>\n",
       "      <td>0.003986</td>\n",
       "      <td>-0.004624</td>\n",
       "      <td>-0.000319</td>\n",
       "      <td>66.666667</td>\n",
       "      <td>149.283572</td>\n",
       "      <td>124.092409</td>\n",
       "      <td>168.275524</td>\n",
       "      <td>196.846256</td>\n",
       "      <td>208.017747</td>\n",
       "      <td>193.924291</td>\n",
       "      <td>184.995906</td>\n",
       "      <td>227.848369</td>\n",
       "      <td>223.561880</td>\n",
       "      <td>50.406504</td>\n",
       "      <td>2.0</td>\n",
       "      <td>48.462194</td>\n",
       "      <td>-18.0</td>\n",
       "      <td>-26.0</td>\n",
       "      <td>-37.0</td>\n",
       "      <td>-40.0</td>\n",
       "      <td>-43.0</td>\n",
       "      <td>-53.0</td>\n",
       "      <td>-61.0</td>\n",
       "      <td>...</td>\n",
       "      <td>-0.000013</td>\n",
       "      <td>-1.520349</td>\n",
       "      <td>97.705214</td>\n",
       "      <td>1.179263</td>\n",
       "      <td>-0.754789</td>\n",
       "      <td>98.637028</td>\n",
       "      <td>1.190509</td>\n",
       "      <td>98.892717</td>\n",
       "      <td>-0.000062</td>\n",
       "      <td>11.724138</td>\n",
       "      <td>-0.156592</td>\n",
       "      <td>20.312500</td>\n",
       "      <td>-0.000091</td>\n",
       "      <td>1.197600</td>\n",
       "      <td>-0.318155</td>\n",
       "      <td>0.0</td>\n",
       "      <td>0.0</td>\n",
       "      <td>0.0</td>\n",
       "      <td>0.0</td>\n",
       "      <td>0.0</td>\n",
       "      <td>0.0</td>\n",
       "      <td>-0.116144</td>\n",
       "      <td>-54.849177</td>\n",
       "      <td>-25.348270</td>\n",
       "      <td>0.001552</td>\n",
       "      <td>-0.007183</td>\n",
       "      <td>0.007111</td>\n",
       "      <td>-70.0</td>\n",
       "      <td>-24.0</td>\n",
       "      <td>-45.0</td>\n",
       "      <td>0.004198</td>\n",
       "      <td>0.1</td>\n",
       "      <td>-79.8</td>\n",
       "      <td>-86.0</td>\n",
       "      <td>-186.0</td>\n",
       "      <td>-388.0</td>\n",
       "      <td>1.0</td>\n",
       "      <td>0.747204</td>\n",
       "      <td>0.700522</td>\n",
       "      <td>1</td>\n",
       "    </tr>\n",
       "  </tbody>\n",
       "</table>\n",
       "<p>5 rows × 133 columns</p>\n",
       "</div>"
      ],
      "text/plain": [
       "   ind_5  ind_6  ind_8      ind_9  ...  ind_424   ind_426   ind_428  ind_109_GREEN\n",
       "0   19.0   17.0  100.0  85.714286  ...      1.0  0.498547  0.701906              1\n",
       "1   24.0   19.0  100.0  78.571429  ...      1.0  0.537088  0.690833              1\n",
       "2   30.0   24.0  100.0  71.428571  ...      1.0  0.615169  0.693040              1\n",
       "3   37.0   30.0  100.0  64.285714  ...      1.0  0.661517  0.673418              1\n",
       "4   41.0   37.0  100.0  57.142857  ...      1.0  0.747204  0.700522              1\n",
       "\n",
       "[5 rows x 133 columns]"
      ]
     },
     "execution_count": 7,
     "metadata": {
      "tags": []
     },
     "output_type": "execute_result"
    }
   ],
   "source": [
    "y=df[\"90_target\"]\n",
    "X_=df.drop([\"ind_109\",\"50_target\",\"90_target\",\"20_target\"],axis=1).astype('float64')\n",
    "X=pd.concat([X_,dms[[\"ind_109_GREEN\"]]],axis=1)\n",
    "X.head()"
   ]
  },
  {
   "cell_type": "code",
   "execution_count": null,
   "metadata": {
    "colab": {
     "base_uri": "https://localhost:8080/",
     "height": 102
    },
    "colab_type": "code",
    "id": "OeM6neiaYpWM",
    "outputId": "6b3b172d-7e84-40f2-a2ec-476f82ca094b"
   },
   "outputs": [
    {
     "name": "stdout",
     "output_type": "stream",
     "text": [
      "<class 'pandas.core.frame.DataFrame'>\n",
      "Int64Index: 5126 entries, 0 to 6166\n",
      "Columns: 133 entries, ind_5 to ind_109_GREEN\n",
      "dtypes: float64(132), uint8(1)\n",
      "memory usage: 5.2 MB\n"
     ]
    }
   ],
   "source": [
    "X.info()"
   ]
  },
  {
   "cell_type": "code",
   "execution_count": 8,
   "metadata": {
    "colab": {},
    "colab_type": "code",
    "id": "J9l4_rL6XKQ2"
   },
   "outputs": [],
   "source": [
    "X_train,X_test,y_train,y_test=train_test_split(X,y,test_size=0.25, random_state=42)"
   ]
  },
  {
   "cell_type": "code",
   "execution_count": null,
   "metadata": {
    "colab": {},
    "colab_type": "code",
    "id": "BA1S_Nu_XKRF"
   },
   "outputs": [],
   "source": []
  },
  {
   "cell_type": "code",
   "execution_count": 9,
   "metadata": {
    "colab": {},
    "colab_type": "code",
    "id": "duT8ZesjXKRa"
   },
   "outputs": [],
   "source": [
    "cart_model=DecisionTreeRegressor()"
   ]
  },
  {
   "cell_type": "code",
   "execution_count": 10,
   "metadata": {
    "colab": {
     "base_uri": "https://localhost:8080/",
     "height": 119
    },
    "colab_type": "code",
    "id": "pQpt1ZnEXKRo",
    "outputId": "390e9a7f-cc93-4a63-e81e-5c5121118afd"
   },
   "outputs": [
    {
     "data": {
      "text/plain": [
       "DecisionTreeRegressor(ccp_alpha=0.0, criterion='mse', max_depth=None,\n",
       "                      max_features=None, max_leaf_nodes=None,\n",
       "                      min_impurity_decrease=0.0, min_impurity_split=None,\n",
       "                      min_samples_leaf=1, min_samples_split=2,\n",
       "                      min_weight_fraction_leaf=0.0, presort='deprecated',\n",
       "                      random_state=None, splitter='best')"
      ]
     },
     "execution_count": 10,
     "metadata": {
      "tags": []
     },
     "output_type": "execute_result"
    }
   ],
   "source": [
    "cart_model.fit(X_train,y_train)"
   ]
  },
  {
   "cell_type": "code",
   "execution_count": 11,
   "metadata": {
    "colab": {},
    "colab_type": "code",
    "id": "36wlkVzeXKR6"
   },
   "outputs": [],
   "source": [
    "y_pred=cart_model.predict(X_test)"
   ]
  },
  {
   "cell_type": "code",
   "execution_count": 12,
   "metadata": {
    "colab": {
     "base_uri": "https://localhost:8080/",
     "height": 34
    },
    "colab_type": "code",
    "id": "nZ-m7FheXKSG",
    "outputId": "5581cee6-ae1c-4903-c70f-eb29192ec864"
   },
   "outputs": [
    {
     "data": {
      "text/plain": [
       "21.793844927563015"
      ]
     },
     "execution_count": 12,
     "metadata": {
      "tags": []
     },
     "output_type": "execute_result"
    }
   ],
   "source": [
    "np.sqrt(mean_squared_error(y_test,y_pred))"
   ]
  },
  {
   "cell_type": "code",
   "execution_count": 13,
   "metadata": {
    "colab": {
     "base_uri": "https://localhost:8080/",
     "height": 34
    },
    "colab_type": "code",
    "id": "mQ-RVdBiXKSQ",
    "outputId": "a81c4c47-4b59-4890-c1ab-20371e07abee"
   },
   "outputs": [
    {
     "data": {
      "text/plain": [
       "0.649656297612133"
      ]
     },
     "execution_count": 13,
     "metadata": {
      "tags": []
     },
     "output_type": "execute_result"
    }
   ],
   "source": [
    "r2_DT=r2_score(y_test,y_pred)\n",
    "r2_DT"
   ]
  },
  {
   "cell_type": "markdown",
   "metadata": {
    "colab_type": "text",
    "id": "RDP6qZAQXKSh"
   },
   "source": [
    "## Model Tuning"
   ]
  },
  {
   "cell_type": "code",
   "execution_count": 14,
   "metadata": {
    "colab": {},
    "colab_type": "code",
    "id": "NeBbFpp-XKSk"
   },
   "outputs": [],
   "source": [
    "cart_params={\"min_samples_split\":[100,150,200],\n",
    "            \"min_samples_leaf\":[100,150,200],\n",
    "            \"max_leaf_nodes\":range(5,10),\n",
    "            \"max_depth\":range(1,10)}"
   ]
  },
  {
   "cell_type": "code",
   "execution_count": 15,
   "metadata": {
    "colab": {},
    "colab_type": "code",
    "id": "bGljCo0hXKSv"
   },
   "outputs": [],
   "source": [
    "cart_cv_model=GridSearchCV(cart_model,cart_params,cv=10,n_jobs=-1,verbose=2)"
   ]
  },
  {
   "cell_type": "code",
   "execution_count": null,
   "metadata": {
    "colab": {
     "base_uri": "https://localhost:8080/",
     "height": 476
    },
    "colab_type": "code",
    "id": "KdXUMbVXXKS5",
    "outputId": "17910a60-1eb8-4965-8291-60cd9894a75a"
   },
   "outputs": [
    {
     "name": "stdout",
     "output_type": "stream",
     "text": [
      "Fitting 10 folds for each of 405 candidates, totalling 4050 fits\n"
     ]
    },
    {
     "name": "stderr",
     "output_type": "stream",
     "text": [
      "[Parallel(n_jobs=-1)]: Using backend LokyBackend with 2 concurrent workers.\n",
      "[Parallel(n_jobs=-1)]: Done  80 tasks      | elapsed:    3.9s\n",
      "[Parallel(n_jobs=-1)]: Done 564 tasks      | elapsed:   21.2s\n",
      "[Parallel(n_jobs=-1)]: Done 1376 tasks      | elapsed:  1.2min\n",
      "[Parallel(n_jobs=-1)]: Done 2508 tasks      | elapsed:  3.0min\n",
      "[Parallel(n_jobs=-1)]: Done 3968 tasks      | elapsed:  5.4min\n",
      "[Parallel(n_jobs=-1)]: Done 4050 out of 4050 | elapsed:  5.5min finished\n"
     ]
    },
    {
     "data": {
      "text/plain": [
       "GridSearchCV(cv=10, error_score=nan,\n",
       "             estimator=DecisionTreeRegressor(ccp_alpha=0.0, criterion='mse',\n",
       "                                             max_depth=None, max_features=None,\n",
       "                                             max_leaf_nodes=None,\n",
       "                                             min_impurity_decrease=0.0,\n",
       "                                             min_impurity_split=None,\n",
       "                                             min_samples_leaf=1,\n",
       "                                             min_samples_split=2,\n",
       "                                             min_weight_fraction_leaf=0.0,\n",
       "                                             presort='deprecated',\n",
       "                                             random_state=None,\n",
       "                                             splitter='best'),\n",
       "             iid='deprecated', n_jobs=-1,\n",
       "             param_grid={'max_depth': range(1, 10),\n",
       "                         'max_leaf_nodes': range(5, 10),\n",
       "                         'min_samples_leaf': [100, 150, 200],\n",
       "                         'min_samples_split': [100, 150, 200]},\n",
       "             pre_dispatch='2*n_jobs', refit=True, return_train_score=False,\n",
       "             scoring=None, verbose=2)"
      ]
     },
     "execution_count": 28,
     "metadata": {
      "tags": []
     },
     "output_type": "execute_result"
    }
   ],
   "source": [
    "cart_cv_model.fit(X_train,y_train)"
   ]
  },
  {
   "cell_type": "code",
   "execution_count": null,
   "metadata": {
    "colab": {
     "base_uri": "https://localhost:8080/",
     "height": 34
    },
    "colab_type": "code",
    "id": "2j34K0uzXKTG",
    "outputId": "8ae2d29f-e80f-43db-832c-f5862e05e15f"
   },
   "outputs": [
    {
     "name": "stdout",
     "output_type": "stream",
     "text": [
      "en iyi parametreler{'max_depth': 8, 'max_leaf_nodes': 9, 'min_samples_leaf': 100, 'min_samples_split': 100}\n"
     ]
    }
   ],
   "source": [
    "print(\"en iyi parametreler\"+ str(cart_cv_model.best_params_))"
   ]
  },
  {
   "cell_type": "code",
   "execution_count": 16,
   "metadata": {
    "colab": {},
    "colab_type": "code",
    "id": "GCRDpEQsXKTQ"
   },
   "outputs": [],
   "source": [
    "cart_tuned=DecisionTreeRegressor(max_depth=8, max_leaf_nodes= 9, min_samples_leaf= 100,min_samples_split= 100,random_state=42)"
   ]
  },
  {
   "cell_type": "code",
   "execution_count": 17,
   "metadata": {
    "colab": {
     "base_uri": "https://localhost:8080/",
     "height": 119
    },
    "colab_type": "code",
    "id": "eW0pf88kXKTb",
    "outputId": "261f1cec-32d1-4547-fdf6-f3071d624526"
   },
   "outputs": [
    {
     "data": {
      "text/plain": [
       "DecisionTreeRegressor(ccp_alpha=0.0, criterion='mse', max_depth=8,\n",
       "                      max_features=None, max_leaf_nodes=9,\n",
       "                      min_impurity_decrease=0.0, min_impurity_split=None,\n",
       "                      min_samples_leaf=100, min_samples_split=100,\n",
       "                      min_weight_fraction_leaf=0.0, presort='deprecated',\n",
       "                      random_state=42, splitter='best')"
      ]
     },
     "execution_count": 17,
     "metadata": {
      "tags": []
     },
     "output_type": "execute_result"
    }
   ],
   "source": [
    "cart_tuned.fit(X_train,y_train)"
   ]
  },
  {
   "cell_type": "code",
   "execution_count": 18,
   "metadata": {
    "colab": {
     "base_uri": "https://localhost:8080/",
     "height": 34
    },
    "colab_type": "code",
    "id": "JcqidhSLXKTw",
    "outputId": "4398301a-3383-43ca-fc1f-88d1cc4a27f0"
   },
   "outputs": [
    {
     "data": {
      "text/plain": [
       "32.80109419759"
      ]
     },
     "execution_count": 18,
     "metadata": {
      "tags": []
     },
     "output_type": "execute_result"
    }
   ],
   "source": [
    "\n",
    "y_pred=cart_tuned.predict(X_test)\n",
    "np.sqrt(mean_squared_error(y_test,y_pred))"
   ]
  },
  {
   "cell_type": "code",
   "execution_count": 19,
   "metadata": {
    "colab": {
     "base_uri": "https://localhost:8080/",
     "height": 864
    },
    "colab_type": "code",
    "id": "Ot-oLwODXKUB",
    "outputId": "4e8967e4-616e-418c-800b-9b3720c6c158"
   },
   "outputs": [
    {
     "data": {
      "text/plain": [
       "[Text(460.35, 498.3, 'X[54] <= 11.5\\nmse = 1338.71\\nsamples = 3844\\nvalue = -4.451'),\n",
       " Text(404.55, 407.70000000000005, 'X[92] <= 1.239\\nmse = 1275.643\\nsamples = 3077\\nvalue = -8.791'),\n",
       " Text(251.10000000000002, 317.1, 'X[90] <= 0.0\\nmse = 1306.03\\nsamples = 2539\\nvalue = -5.499'),\n",
       " Text(111.60000000000001, 226.5, 'X[96] <= 1.19\\nmse = 1117.511\\nsamples = 1001\\nvalue = -15.036'),\n",
       " Text(55.800000000000004, 135.89999999999998, 'mse = 1291.084\\nsamples = 527\\nvalue = -5.325'),\n",
       " Text(167.4, 135.89999999999998, 'mse = 703.109\\nsamples = 474\\nvalue = -25.833'),\n",
       " Text(390.6, 226.5, 'X[87] <= 1.237\\nmse = 1331.014\\nsamples = 1538\\nvalue = 0.707'),\n",
       " Text(279.0, 135.89999999999998, 'X[42] <= 82.5\\nmse = 1244.041\\nsamples = 754\\nvalue = -8.368'),\n",
       " Text(223.20000000000002, 45.299999999999955, 'mse = 1151.212\\nsamples = 651\\nvalue = -12.931'),\n",
       " Text(334.8, 45.299999999999955, 'mse = 867.81\\nsamples = 103\\nvalue = 20.466'),\n",
       " Text(502.20000000000005, 135.89999999999998, 'X[87] <= 1.245\\nmse = 1259.251\\nsamples = 784\\nvalue = 9.436'),\n",
       " Text(446.40000000000003, 45.299999999999955, 'mse = 959.249\\nsamples = 566\\nvalue = 20.76'),\n",
       " Text(558.0, 45.299999999999955, 'mse = 840.856\\nsamples = 218\\nvalue = -19.964'),\n",
       " Text(558.0, 317.1, 'X[97] <= -1.548\\nmse = 839.843\\nsamples = 538\\nvalue = -24.324'),\n",
       " Text(502.20000000000005, 226.5, 'mse = 1404.827\\nsamples = 189\\nvalue = -5.433'),\n",
       " Text(613.8000000000001, 226.5, 'mse = 235.965\\nsamples = 349\\nvalue = -34.554'),\n",
       " Text(516.1500000000001, 407.70000000000005, 'mse = 1213.068\\nsamples = 767\\nvalue = 12.959')]"
      ]
     },
     "execution_count": 19,
     "metadata": {
      "tags": []
     },
     "output_type": "execute_result"
    },
    {
     "data": {
      "image/png": "[encoded data removed]",
      "text/plain": [
       "<Figure size 864x720 with 1 Axes>"
      ]
     },
     "metadata": {
      "needs_background": "light",
      "tags": []
     },
     "output_type": "display_data"
    }
   ],
   "source": [
    "import matplotlib.pyplot as plt\n",
    "plt.figure(figsize=(12,10))\n",
    "tree.plot_tree(cart_tuned)"
   ]
  },
  {
   "cell_type": "code",
   "execution_count": 20,
   "metadata": {
    "colab": {
     "base_uri": "https://localhost:8080/",
     "height": 34
    },
    "colab_type": "code",
    "id": "QkO3VfudXKUS",
    "outputId": "87b7a39e-f422-401b-80ff-77d25c61655d"
   },
   "outputs": [
    {
     "data": {
      "text/plain": [
       "0.20639706510175182"
      ]
     },
     "execution_count": 20,
     "metadata": {
      "tags": []
     },
     "output_type": "execute_result"
    }
   ],
   "source": [
    "r2_DT_tuned=r2_score(y_test,y_pred)\n",
    "r2_DT_tuned"
   ]
  },
  {
   "cell_type": "markdown",
   "metadata": {
    "colab_type": "text",
    "id": "Bm6G5QXfXKUh"
   },
   "source": [
    "# RANDOM FOREST"
   ]
  },
  {
   "cell_type": "code",
   "execution_count": 21,
   "metadata": {
    "colab": {},
    "colab_type": "code",
    "id": "mxzK56QsXKV7"
   },
   "outputs": [],
   "source": [
    "from sklearn.ensemble import RandomForestRegressor"
   ]
  },
  {
   "cell_type": "code",
   "execution_count": 22,
   "metadata": {
    "colab": {},
    "colab_type": "code",
    "id": "i9dXJV-mXKWO"
   },
   "outputs": [],
   "source": [
    "rf_model=RandomForestRegressor(random_state=42)"
   ]
  },
  {
   "cell_type": "code",
   "execution_count": 23,
   "metadata": {
    "colab": {
     "base_uri": "https://localhost:8080/",
     "height": 136
    },
    "colab_type": "code",
    "id": "JU4wATpAXKWe",
    "outputId": "819a7398-4a4f-402c-9a66-5370fdedaceb"
   },
   "outputs": [
    {
     "data": {
      "text/plain": [
       "RandomForestRegressor(bootstrap=True, ccp_alpha=0.0, criterion='mse',\n",
       "                      max_depth=None, max_features='auto', max_leaf_nodes=None,\n",
       "                      max_samples=None, min_impurity_decrease=0.0,\n",
       "                      min_impurity_split=None, min_samples_leaf=1,\n",
       "                      min_samples_split=2, min_weight_fraction_leaf=0.0,\n",
       "                      n_estimators=100, n_jobs=None, oob_score=False,\n",
       "                      random_state=42, verbose=0, warm_start=False)"
      ]
     },
     "execution_count": 23,
     "metadata": {
      "tags": []
     },
     "output_type": "execute_result"
    }
   ],
   "source": [
    "rf_model.fit(X_train,y_train)"
   ]
  },
  {
   "cell_type": "markdown",
   "metadata": {
    "colab_type": "text",
    "id": "NOdsfmKAXKW5"
   },
   "source": [
    "## Prediction"
   ]
  },
  {
   "cell_type": "code",
   "execution_count": 24,
   "metadata": {
    "colab": {
     "base_uri": "https://localhost:8080/",
     "height": 51
    },
    "colab_type": "code",
    "id": "suGj3QduXKW8",
    "outputId": "8e2abbcc-ca9e-41aa-ac46-1baafa80ffe3"
   },
   "outputs": [
    {
     "data": {
      "text/plain": [
       "array([ 30.3645684 , -36.86739676, -29.59755662,  35.26185994,\n",
       "        36.75555936])"
      ]
     },
     "execution_count": 24,
     "metadata": {
      "tags": []
     },
     "output_type": "execute_result"
    }
   ],
   "source": [
    "rf_model.predict(X_test)[0:5]"
   ]
  },
  {
   "cell_type": "code",
   "execution_count": 25,
   "metadata": {
    "colab": {
     "base_uri": "https://localhost:8080/",
     "height": 34
    },
    "colab_type": "code",
    "id": "HlO_zXMdXKXL",
    "outputId": "09d67967-e0cc-400b-e6c7-cbf081beaf2a"
   },
   "outputs": [
    {
     "data": {
      "text/plain": [
       "15.241884598832966"
      ]
     },
     "execution_count": 25,
     "metadata": {
      "tags": []
     },
     "output_type": "execute_result"
    }
   ],
   "source": [
    "y_pred=rf_model.predict(X_test)\n",
    "np.sqrt(mean_squared_error(y_test,y_pred))"
   ]
  },
  {
   "cell_type": "code",
   "execution_count": 26,
   "metadata": {
    "colab": {
     "base_uri": "https://localhost:8080/",
     "height": 34
    },
    "colab_type": "code",
    "id": "empdiOG-XKXX",
    "outputId": "a0d7007d-7deb-436b-f413-9b7cbea1cf99"
   },
   "outputs": [
    {
     "data": {
      "text/plain": [
       "0.8286421751704195"
      ]
     },
     "execution_count": 26,
     "metadata": {
      "tags": []
     },
     "output_type": "execute_result"
    }
   ],
   "source": [
    "r2_RF=r2_score(y_test,y_pred)\n",
    "r2_RF"
   ]
  },
  {
   "cell_type": "markdown",
   "metadata": {
    "colab_type": "text",
    "id": "DdhHCxYMXKXk"
   },
   "source": [
    "## Model Tuning"
   ]
  },
  {
   "cell_type": "code",
   "execution_count": 32,
   "metadata": {
    "colab": {},
    "colab_type": "code",
    "id": "bEEszV3VXKXm"
   },
   "outputs": [],
   "source": [
    "rf_params = {\"min_samples_split\":(100,200),\"max_depth\":(5,10),\n",
    "              \"n_estimators\": [20,50]}"
   ]
  },
  {
   "cell_type": "code",
   "execution_count": 33,
   "metadata": {
    "colab": {},
    "colab_type": "code",
    "id": "E_fnCwaWXKX0"
   },
   "outputs": [],
   "source": [
    "rf_model=RandomForestRegressor(random_state=42)"
   ]
  },
  {
   "cell_type": "code",
   "execution_count": 34,
   "metadata": {
    "colab": {},
    "colab_type": "code",
    "id": "aUpg0hlkXKYL"
   },
   "outputs": [],
   "source": [
    "rf_cv_model=GridSearchCV(rf_model,rf_params, cv=10,n_jobs=-1)"
   ]
  },
  {
   "cell_type": "code",
   "execution_count": 35,
   "metadata": {
    "colab": {
     "base_uri": "https://localhost:8080/",
     "height": 340
    },
    "colab_type": "code",
    "id": "j-aKlSbhXKYa",
    "outputId": "a1b58b4f-5632-44d8-c007-3042e4a9c4db"
   },
   "outputs": [
    {
     "data": {
      "text/plain": [
       "GridSearchCV(cv=10, error_score=nan,\n",
       "             estimator=RandomForestRegressor(bootstrap=True, ccp_alpha=0.0,\n",
       "                                             criterion='mse', max_depth=None,\n",
       "                                             max_features='auto',\n",
       "                                             max_leaf_nodes=None,\n",
       "                                             max_samples=None,\n",
       "                                             min_impurity_decrease=0.0,\n",
       "                                             min_impurity_split=None,\n",
       "                                             min_samples_leaf=1,\n",
       "                                             min_samples_split=2,\n",
       "                                             min_weight_fraction_leaf=0.0,\n",
       "                                             n_estimators=100, n_jobs=None,\n",
       "                                             oob_score=False, random_state=42,\n",
       "                                             verbose=0, warm_start=False),\n",
       "             iid='deprecated', n_jobs=-1,\n",
       "             param_grid={'max_depth': (5, 10), 'min_samples_split': (100, 200),\n",
       "                         'n_estimators': [20, 50]},\n",
       "             pre_dispatch='2*n_jobs', refit=True, return_train_score=False,\n",
       "             scoring=None, verbose=0)"
      ]
     },
     "execution_count": 35,
     "metadata": {
      "tags": []
     },
     "output_type": "execute_result"
    }
   ],
   "source": [
    "rf_cv_model.fit(X_train,y_train)"
   ]
  },
  {
   "cell_type": "code",
   "execution_count": 36,
   "metadata": {
    "colab": {
     "base_uri": "https://localhost:8080/",
     "height": 34
    },
    "colab_type": "code",
    "id": "gHhrR0AuXKYo",
    "outputId": "ecb66c61-3524-4fb1-c15b-9f99223f70c6"
   },
   "outputs": [
    {
     "data": {
      "text/plain": [
       "{'max_depth': 10, 'min_samples_split': 100, 'n_estimators': 50}"
      ]
     },
     "execution_count": 36,
     "metadata": {
      "tags": []
     },
     "output_type": "execute_result"
    }
   ],
   "source": [
    "rf_cv_model.best_params_"
   ]
  },
  {
   "cell_type": "code",
   "execution_count": 37,
   "metadata": {
    "colab": {},
    "colab_type": "code",
    "id": "5XPI0xqtXKY2"
   },
   "outputs": [],
   "source": [
    "rf_tuned=RandomForestRegressor(max_depth=10,min_samples_split=100,n_estimators=50)"
   ]
  },
  {
   "cell_type": "code",
   "execution_count": 38,
   "metadata": {
    "colab": {
     "base_uri": "https://localhost:8080/",
     "height": 136
    },
    "colab_type": "code",
    "id": "W6fku2dhXKZG",
    "outputId": "1672c391-b25e-418e-fd04-d7e7ff831c8f"
   },
   "outputs": [
    {
     "data": {
      "text/plain": [
       "RandomForestRegressor(bootstrap=True, ccp_alpha=0.0, criterion='mse',\n",
       "                      max_depth=10, max_features='auto', max_leaf_nodes=None,\n",
       "                      max_samples=None, min_impurity_decrease=0.0,\n",
       "                      min_impurity_split=None, min_samples_leaf=1,\n",
       "                      min_samples_split=100, min_weight_fraction_leaf=0.0,\n",
       "                      n_estimators=50, n_jobs=None, oob_score=False,\n",
       "                      random_state=None, verbose=0, warm_start=False)"
      ]
     },
     "execution_count": 38,
     "metadata": {
      "tags": []
     },
     "output_type": "execute_result"
    }
   ],
   "source": [
    "rf_tuned.fit(X_train,y_train)"
   ]
  },
  {
   "cell_type": "code",
   "execution_count": 39,
   "metadata": {
    "colab": {
     "base_uri": "https://localhost:8080/",
     "height": 34
    },
    "colab_type": "code",
    "id": "HbSc6lxnXKZc",
    "outputId": "187f3bc7-fee8-4737-dc9f-3259e51dc89c"
   },
   "outputs": [
    {
     "data": {
      "text/plain": [
       "22.482842999178995"
      ]
     },
     "execution_count": 39,
     "metadata": {
      "tags": []
     },
     "output_type": "execute_result"
    }
   ],
   "source": [
    "y_pred=rf_tuned.predict(X_test)\n",
    "np.sqrt(mean_squared_error(y_test,y_pred))"
   ]
  },
  {
   "cell_type": "code",
   "execution_count": 40,
   "metadata": {
    "colab": {
     "base_uri": "https://localhost:8080/",
     "height": 34
    },
    "colab_type": "code",
    "id": "CUH-1V9lXKZq",
    "outputId": "6757bbef-7e89-432b-e331-b5d5c1398e9e"
   },
   "outputs": [
    {
     "data": {
      "text/plain": [
       "0.6271543693744241"
      ]
     },
     "execution_count": 40,
     "metadata": {
      "tags": []
     },
     "output_type": "execute_result"
    }
   ],
   "source": [
    "r2_RF_tuned=r2_score(y_test,y_pred)\n",
    "r2_RF_tuned"
   ]
  },
  {
   "cell_type": "code",
   "execution_count": 41,
   "metadata": {
    "colab": {},
    "colab_type": "code",
    "id": "s8SzDgiTXKZ6"
   },
   "outputs": [],
   "source": [
    "Importance=pd.DataFrame({\"Importance\":rf_tuned.feature_importances_*100},\n",
    "                       index=X_train.columns)"
   ]
  },
  {
   "cell_type": "code",
   "execution_count": 42,
   "metadata": {
    "colab": {
     "base_uri": "https://localhost:8080/",
     "height": 301
    },
    "colab_type": "code",
    "id": "o0H2D4rNXKaQ",
    "outputId": "4689d323-45be-459a-fab5-130312d7183e"
   },
   "outputs": [
    {
     "data": {
      "text/plain": [
       "Text(0.5, 0, 'Değişken Önem düzeyleri')"
      ]
     },
     "execution_count": 42,
     "metadata": {
      "tags": []
     },
     "output_type": "execute_result"
    },
    {
     "data": {
      "image/png": "[encoded data removed]",
      "text/plain": [
       "<Figure size 432x288 with 1 Axes>"
      ]
     },
     "metadata": {
      "needs_background": "light",
      "tags": []
     },
     "output_type": "display_data"
    }
   ],
   "source": [
    "Importance.sort_values(by=\"Importance\",\n",
    "                      axis=0,\n",
    "                      ascending=True).plot(kind=\"barh\",color=\"r\")\n",
    "plt.xlabel(\"Değişken Önem düzeyleri\")"
   ]
  },
  {
   "cell_type": "markdown",
   "metadata": {
    "colab_type": "text",
    "id": "x7DJK2axXKar"
   },
   "source": [
    "# Neural Network"
   ]
  },
  {
   "cell_type": "code",
   "execution_count": 43,
   "metadata": {
    "colab": {},
    "colab_type": "code",
    "id": "5Z_lVyTVXKbu"
   },
   "outputs": [],
   "source": [
    "from sklearn.preprocessing import StandardScaler"
   ]
  },
  {
   "cell_type": "code",
   "execution_count": 44,
   "metadata": {
    "colab": {},
    "colab_type": "code",
    "id": "YP1d4-YnXKb3"
   },
   "outputs": [],
   "source": [
    "scaler=StandardScaler()"
   ]
  },
  {
   "cell_type": "code",
   "execution_count": 45,
   "metadata": {
    "colab": {
     "base_uri": "https://localhost:8080/",
     "height": 34
    },
    "colab_type": "code",
    "id": "17La6xfiXKcN",
    "outputId": "c1fe90f4-0345-4176-c1a1-87b216b8e2e8"
   },
   "outputs": [
    {
     "data": {
      "text/plain": [
       "StandardScaler(copy=True, with_mean=True, with_std=True)"
      ]
     },
     "execution_count": 45,
     "metadata": {
      "tags": []
     },
     "output_type": "execute_result"
    }
   ],
   "source": [
    "scaler.fit(X_train)\n",
    "scaler.fit(X_test)"
   ]
  },
  {
   "cell_type": "code",
   "execution_count": 46,
   "metadata": {
    "colab": {},
    "colab_type": "code",
    "id": "S9bs2-xPXKcX"
   },
   "outputs": [],
   "source": [
    "X_train_scaled=scaler.transform(X_train)\n",
    "X_test_scaled=scaler.transform(X_test)"
   ]
  },
  {
   "cell_type": "code",
   "execution_count": 47,
   "metadata": {
    "colab": {},
    "colab_type": "code",
    "id": "-JuJ5FIaXKcg"
   },
   "outputs": [],
   "source": [
    "from sklearn.neural_network import MLPRegressor"
   ]
  },
  {
   "cell_type": "code",
   "execution_count": 48,
   "metadata": {
    "colab": {
     "base_uri": "https://localhost:8080/",
     "height": 153
    },
    "colab_type": "code",
    "id": "t93auQt5XKcv",
    "outputId": "32334bf2-494d-4dcc-fbf8-019ece39cfb6"
   },
   "outputs": [
    {
     "data": {
      "text/plain": [
       "MLPRegressor(activation='relu', alpha=0.0001, batch_size='auto', beta_1=0.9,\n",
       "             beta_2=0.999, early_stopping=False, epsilon=1e-08,\n",
       "             hidden_layer_sizes=(100, 20), learning_rate='constant',\n",
       "             learning_rate_init=0.001, max_fun=15000, max_iter=10000,\n",
       "             momentum=0.9, n_iter_no_change=10, nesterovs_momentum=True,\n",
       "             power_t=0.5, random_state=42, shuffle=True, solver='adam',\n",
       "             tol=0.0001, validation_fraction=0.1, verbose=False,\n",
       "             warm_start=False)"
      ]
     },
     "execution_count": 48,
     "metadata": {
      "tags": []
     },
     "output_type": "execute_result"
    }
   ],
   "source": [
    "mlp_model=MLPRegressor(hidden_layer_sizes=(100,20),max_iter=10000, random_state=42).fit(X_train_scaled,y_train)\n",
    "mlp_model"
   ]
  },
  {
   "cell_type": "code",
   "execution_count": null,
   "metadata": {
    "colab": {},
    "colab_type": "code",
    "id": "vFOrtENFXKc4"
   },
   "outputs": [],
   "source": [
    "?mlp_model"
   ]
  },
  {
   "cell_type": "code",
   "execution_count": null,
   "metadata": {
    "colab": {
     "base_uri": "https://localhost:8080/",
     "height": 34
    },
    "colab_type": "code",
    "id": "LujW7Y6FXKdB",
    "outputId": "e40e967a-3ea3-4bda-9647-9ab4c78925b3"
   },
   "outputs": [
    {
     "data": {
      "text/plain": [
       "4"
      ]
     },
     "execution_count": 107,
     "metadata": {
      "tags": []
     },
     "output_type": "execute_result"
    }
   ],
   "source": [
    "mlp_model.n_layers_"
   ]
  },
  {
   "cell_type": "code",
   "execution_count": null,
   "metadata": {
    "colab": {
     "base_uri": "https://localhost:8080/",
     "height": 34
    },
    "colab_type": "code",
    "id": "SiT-M1REXKdK",
    "outputId": "da7fd016-446b-4b94-d3b3-3e6d116695f1"
   },
   "outputs": [
    {
     "data": {
      "text/plain": [
       "241"
      ]
     },
     "execution_count": 109,
     "metadata": {
      "tags": []
     },
     "output_type": "execute_result"
    }
   ],
   "source": [
    "mlp_model.n_iter_"
   ]
  },
  {
   "cell_type": "code",
   "execution_count": null,
   "metadata": {
    "colab": {
     "base_uri": "https://localhost:8080/",
     "height": 34
    },
    "colab_type": "code",
    "id": "jup3XhahXKdV",
    "outputId": "ab0c5cb6-38b4-4813-81b0-f9c389e18767"
   },
   "outputs": [
    {
     "data": {
      "text/plain": [
       "(100, 20)"
      ]
     },
     "execution_count": 110,
     "metadata": {
      "tags": []
     },
     "output_type": "execute_result"
    }
   ],
   "source": [
    "mlp_model.hidden_layer_sizes"
   ]
  },
  {
   "cell_type": "markdown",
   "metadata": {
    "colab_type": "text",
    "id": "_VdgvlC8XKdf"
   },
   "source": [
    "## Prediction"
   ]
  },
  {
   "cell_type": "code",
   "execution_count": 49,
   "metadata": {
    "colab": {
     "base_uri": "https://localhost:8080/",
     "height": 34
    },
    "colab_type": "code",
    "id": "9rJ4COYGXKdh",
    "outputId": "0c27511b-da2f-4aa9-a203-d4f03354ebe3"
   },
   "outputs": [
    {
     "data": {
      "text/plain": [
       "21.91768527753872"
      ]
     },
     "execution_count": 49,
     "metadata": {
      "tags": []
     },
     "output_type": "execute_result"
    }
   ],
   "source": [
    "y_pred=mlp_model.predict(X_test_scaled)\n",
    "np.sqrt(mean_squared_error(y_test,y_pred))"
   ]
  },
  {
   "cell_type": "code",
   "execution_count": 51,
   "metadata": {
    "colab": {
     "base_uri": "https://localhost:8080/",
     "height": 34
    },
    "colab_type": "code",
    "id": "x8AgCRJEXKdq",
    "outputId": "ef0542c3-a9cb-449e-eb52-cd1e1821f5c8"
   },
   "outputs": [
    {
     "data": {
      "text/plain": [
       "0.6456634311744252"
      ]
     },
     "execution_count": 51,
     "metadata": {
      "tags": []
     },
     "output_type": "execute_result"
    }
   ],
   "source": [
    "r2_NN=r2_score(y_test,y_pred)\n",
    "r2_NN"
   ]
  },
  {
   "cell_type": "markdown",
   "metadata": {
    "colab_type": "text",
    "id": "cIt9cxT8XKd4"
   },
   "source": [
    "## Model Tuning"
   ]
  },
  {
   "cell_type": "code",
   "execution_count": 52,
   "metadata": {
    "colab": {
     "base_uri": "https://localhost:8080/",
     "height": 442
    },
    "colab_type": "code",
    "id": "SgpPG_ftXKd-",
    "outputId": "a3948f22-1ad7-4f11-bc46-e1d58106e037"
   },
   "outputs": [
    {
     "name": "stdout",
     "output_type": "stream",
     "text": [
      "Fitting 5 folds for each of 12 candidates, totalling 60 fits\n"
     ]
    },
    {
     "name": "stderr",
     "output_type": "stream",
     "text": [
      "[Parallel(n_jobs=-1)]: Using backend LokyBackend with 2 concurrent workers.\n",
      "[Parallel(n_jobs=-1)]: Done  37 tasks      | elapsed:  5.7min\n",
      "[Parallel(n_jobs=-1)]: Done  60 out of  60 | elapsed: 12.8min finished\n"
     ]
    },
    {
     "data": {
      "text/plain": [
       "GridSearchCV(cv=5, error_score=nan,\n",
       "             estimator=MLPRegressor(activation='relu', alpha=0.0001,\n",
       "                                    batch_size='auto', beta_1=0.9, beta_2=0.999,\n",
       "                                    early_stopping=False, epsilon=1e-08,\n",
       "                                    hidden_layer_sizes=(100, 20),\n",
       "                                    learning_rate='constant',\n",
       "                                    learning_rate_init=0.001, max_fun=15000,\n",
       "                                    max_iter=10000, momentum=0.9,\n",
       "                                    n_iter_no_change=10,\n",
       "                                    nesterovs_momentum=True, power_t=0.5,\n",
       "                                    random_state=42, shuffle=True,\n",
       "                                    solver='adam', tol=0.0001,\n",
       "                                    validation_fraction=0.1, verbose=False,\n",
       "                                    warm_start=False),\n",
       "             iid='deprecated', n_jobs=-1,\n",
       "             param_grid={'activation': ['relu', 'logistic'],\n",
       "                         'alpha': [0.1, 0.01],\n",
       "                         'hidden_layer_sizes': [(50, 50), (100, 100),\n",
       "                                                (100, 50, 150)]},\n",
       "             pre_dispatch='2*n_jobs', refit=True, return_train_score=False,\n",
       "             scoring=None, verbose=2)"
      ]
     },
     "execution_count": 52,
     "metadata": {
      "tags": []
     },
     "output_type": "execute_result"
    }
   ],
   "source": [
    "mlp_param = {\"alpha\": [0.1,0.01],\n",
    "             \"hidden_layer_sizes\": [(50,50),(100,100), (100,50,150)],\n",
    "             \"activation\": [\"relu\",\"logistic\"]}\n",
    "\n",
    "mlp_cv_model = GridSearchCV(mlp_model, mlp_param, cv=5, n_jobs=-1, verbose=2)\n",
    "mlp_cv_model.fit(X_train_scaled, y_train)"
   ]
  },
  {
   "cell_type": "code",
   "execution_count": 53,
   "metadata": {
    "colab": {
     "base_uri": "https://localhost:8080/",
     "height": 34
    },
    "colab_type": "code",
    "id": "52Bz5U5zXKeI",
    "outputId": "28f72e69-be04-44d7-b508-7283ec2d15c0"
   },
   "outputs": [
    {
     "data": {
      "text/plain": [
       "{'activation': 'logistic', 'alpha': 0.1, 'hidden_layer_sizes': (50, 50)}"
      ]
     },
     "execution_count": 53,
     "metadata": {
      "tags": []
     },
     "output_type": "execute_result"
    }
   ],
   "source": [
    "mlp_cv_model.best_params_"
   ]
  },
  {
   "cell_type": "code",
   "execution_count": 54,
   "metadata": {
    "colab": {
     "base_uri": "https://localhost:8080/",
     "height": 207
    },
    "colab_type": "code",
    "id": "7_Q56hMPEIYP",
    "outputId": "7ff54078-2400-4c13-a042-3ad7f6a16b90"
   },
   "outputs": [
    {
     "name": "stderr",
     "output_type": "stream",
     "text": [
      "/usr/local/lib/python3.6/dist-packages/sklearn/neural_network/_multilayer_perceptron.py:571: ConvergenceWarning: Stochastic Optimizer: Maximum iterations (200) reached and the optimization hasn't converged yet.\n",
      "  % self.max_iter, ConvergenceWarning)\n"
     ]
    },
    {
     "data": {
      "text/plain": [
       "MLPRegressor(activation='logistic', alpha=0.1, batch_size='auto', beta_1=0.9,\n",
       "             beta_2=0.999, early_stopping=False, epsilon=1e-08,\n",
       "             hidden_layer_sizes=(50, 50), learning_rate='constant',\n",
       "             learning_rate_init=0.001, max_fun=15000, max_iter=200,\n",
       "             momentum=0.9, n_iter_no_change=10, nesterovs_momentum=True,\n",
       "             power_t=0.5, random_state=None, shuffle=True, solver='adam',\n",
       "             tol=0.0001, validation_fraction=0.1, verbose=False,\n",
       "             warm_start=False)"
      ]
     },
     "execution_count": 54,
     "metadata": {
      "tags": []
     },
     "output_type": "execute_result"
    }
   ],
   "source": [
    "mlp_tuned = MLPRegressor(alpha= 0.1, hidden_layer_sizes=(50,50), activation=\"logistic\")\n",
    "mlp_tuned.fit(X_train_scaled, y_train)"
   ]
  },
  {
   "cell_type": "code",
   "execution_count": 55,
   "metadata": {
    "colab": {
     "base_uri": "https://localhost:8080/",
     "height": 34
    },
    "colab_type": "code",
    "id": "o-a4A0AIEIvq",
    "outputId": "aab7d8c5-a15a-465d-af2c-25722c2c07f7"
   },
   "outputs": [
    {
     "data": {
      "text/plain": [
       "23.95985234829101"
      ]
     },
     "execution_count": 55,
     "metadata": {
      "tags": []
     },
     "output_type": "execute_result"
    }
   ],
   "source": [
    "y_pred = mlp_tuned.predict(X_test_scaled)\n",
    "np.sqrt(mean_squared_error(y_test,y_pred))"
   ]
  },
  {
   "cell_type": "code",
   "execution_count": 56,
   "metadata": {
    "colab": {
     "base_uri": "https://localhost:8080/",
     "height": 34
    },
    "colab_type": "code",
    "id": "BVH6aaIxEp8G",
    "outputId": "07654b44-dc79-4cf5-91ad-9cc1d993cb5e"
   },
   "outputs": [
    {
     "data": {
      "text/plain": [
       "0.5765570785943696"
      ]
     },
     "execution_count": 56,
     "metadata": {
      "tags": []
     },
     "output_type": "execute_result"
    }
   ],
   "source": [
    "r2_NN_tuned=r2_score(y_test,y_pred)\n",
    "r2_NN_tuned"
   ]
  },
  {
   "cell_type": "code",
   "execution_count": null,
   "metadata": {
    "colab": {},
    "colab_type": "code",
    "id": "v4B5yuaZEy4u"
   },
   "outputs": [],
   "source": []
  },
  {
   "cell_type": "markdown",
   "metadata": {
    "colab_type": "text",
    "id": "hDnsBZSlcDvu"
   },
   "source": [
    "# SVR "
   ]
  },
  {
   "cell_type": "code",
   "execution_count": 3,
   "metadata": {
    "colab": {
     "base_uri": "https://localhost:8080/",
     "height": 71
    },
    "colab_type": "code",
    "id": "OVorzUqVVIiI",
    "outputId": "7b640ede-f979-4d28-c677-452c501f20d4"
   },
   "outputs": [
    {
     "name": "stderr",
     "output_type": "stream",
     "text": [
      "/usr/local/lib/python3.6/dist-packages/statsmodels/tools/_testing.py:19: FutureWarning: pandas.util.testing is deprecated. Use the functions in the public API at pandas.testing instead.\n",
      "  import pandas.util.testing as tm\n"
     ]
    }
   ],
   "source": [
    "import numpy as np\n",
    "import pandas as pd \n",
    "import statsmodels.api as sm\n",
    "import statsmodels.formula.api as smf\n",
    "import seaborn as sns\n",
    "from sklearn.preprocessing import scale \n",
    "from sklearn.model_selection import train_test_split, GridSearchCV, cross_val_score\n",
    "from sklearn.metrics import confusion_matrix, accuracy_score, classification_report\n",
    "from sklearn.metrics import roc_auc_score,roc_curve\n",
    "from sklearn.metrics import mean_squared_error, r2_score\n",
    "from sklearn.svm import SVR"
   ]
  },
  {
   "cell_type": "code",
   "execution_count": 5,
   "metadata": {
    "colab": {
     "base_uri": "https://localhost:8080/",
     "height": 253
    },
    "colab_type": "code",
    "id": "LbaFOW5Z32gm",
    "outputId": "9990a079-c221-4dc6-9241-14f0dc4975d2"
   },
   "outputs": [
    {
     "data": {
      "text/html": [
       "<div>\n",
       "<style scoped>\n",
       "    .dataframe tbody tr th:only-of-type {\n",
       "        vertical-align: middle;\n",
       "    }\n",
       "\n",
       "    .dataframe tbody tr th {\n",
       "        vertical-align: top;\n",
       "    }\n",
       "\n",
       "    .dataframe thead th {\n",
       "        text-align: right;\n",
       "    }\n",
       "</style>\n",
       "<table border=\"1\" class=\"dataframe\">\n",
       "  <thead>\n",
       "    <tr style=\"text-align: right;\">\n",
       "      <th></th>\n",
       "      <th>ind_5</th>\n",
       "      <th>ind_6</th>\n",
       "      <th>ind_8</th>\n",
       "      <th>ind_9</th>\n",
       "      <th>ind_10</th>\n",
       "      <th>ind_12</th>\n",
       "      <th>ind_13</th>\n",
       "      <th>ind_14</th>\n",
       "      <th>ind_15</th>\n",
       "      <th>ind_16</th>\n",
       "      <th>ind_17</th>\n",
       "      <th>ind_18</th>\n",
       "      <th>ind_19</th>\n",
       "      <th>ind_20</th>\n",
       "      <th>ind_21</th>\n",
       "      <th>ind_22</th>\n",
       "      <th>ind_23</th>\n",
       "      <th>ind_25</th>\n",
       "      <th>ind_26</th>\n",
       "      <th>ind_27</th>\n",
       "      <th>ind_28</th>\n",
       "      <th>ind_29</th>\n",
       "      <th>ind_30</th>\n",
       "      <th>ind_31</th>\n",
       "      <th>ind_32</th>\n",
       "      <th>ind_33</th>\n",
       "      <th>ind_34</th>\n",
       "      <th>ind_35</th>\n",
       "      <th>ind_36</th>\n",
       "      <th>ind_37</th>\n",
       "      <th>ind_39</th>\n",
       "      <th>ind_40</th>\n",
       "      <th>ind_41</th>\n",
       "      <th>ind_42</th>\n",
       "      <th>ind_43</th>\n",
       "      <th>ind_44</th>\n",
       "      <th>ind_45</th>\n",
       "      <th>ind_46</th>\n",
       "      <th>ind_47</th>\n",
       "      <th>ind_48</th>\n",
       "      <th>...</th>\n",
       "      <th>ind_311</th>\n",
       "      <th>ind_313</th>\n",
       "      <th>ind_315</th>\n",
       "      <th>ind_316</th>\n",
       "      <th>ind_318</th>\n",
       "      <th>ind_321</th>\n",
       "      <th>ind_324</th>\n",
       "      <th>ind_327</th>\n",
       "      <th>ind_330</th>\n",
       "      <th>ind_332</th>\n",
       "      <th>ind_334</th>\n",
       "      <th>ind_338</th>\n",
       "      <th>ind_340</th>\n",
       "      <th>ind_344</th>\n",
       "      <th>ind_345</th>\n",
       "      <th>ind_347</th>\n",
       "      <th>ind_349</th>\n",
       "      <th>ind_351</th>\n",
       "      <th>ind_352</th>\n",
       "      <th>ind_387</th>\n",
       "      <th>ind_392</th>\n",
       "      <th>ind_397</th>\n",
       "      <th>ind_399</th>\n",
       "      <th>ind_403</th>\n",
       "      <th>ind_404</th>\n",
       "      <th>ind_406</th>\n",
       "      <th>ind_407</th>\n",
       "      <th>ind_410</th>\n",
       "      <th>ind_412</th>\n",
       "      <th>ind_414</th>\n",
       "      <th>ind_416</th>\n",
       "      <th>ind_418</th>\n",
       "      <th>ind_420</th>\n",
       "      <th>ind_422</th>\n",
       "      <th>ind_424</th>\n",
       "      <th>ind_426</th>\n",
       "      <th>ind_428</th>\n",
       "      <th>20_target</th>\n",
       "      <th>50_target</th>\n",
       "      <th>90_target</th>\n",
       "    </tr>\n",
       "  </thead>\n",
       "  <tbody>\n",
       "    <tr>\n",
       "      <th>0</th>\n",
       "      <td>19</td>\n",
       "      <td>17</td>\n",
       "      <td>100.0</td>\n",
       "      <td>85.714286</td>\n",
       "      <td>14.285714</td>\n",
       "      <td>72.363515</td>\n",
       "      <td>60.808814</td>\n",
       "      <td>23.80</td>\n",
       "      <td>17.62</td>\n",
       "      <td>11.73</td>\n",
       "      <td>12.060000</td>\n",
       "      <td>9.1100</td>\n",
       "      <td>2</td>\n",
       "      <td>15</td>\n",
       "      <td>13</td>\n",
       "      <td>1</td>\n",
       "      <td>56</td>\n",
       "      <td>0.002690</td>\n",
       "      <td>-0.002670</td>\n",
       "      <td>0.000010</td>\n",
       "      <td>66.666667</td>\n",
       "      <td>93.692449</td>\n",
       "      <td>146.592674</td>\n",
       "      <td>150.505806</td>\n",
       "      <td>154.486989</td>\n",
       "      <td>158.009516</td>\n",
       "      <td>142.421114</td>\n",
       "      <td>142.023350</td>\n",
       "      <td>196.592517</td>\n",
       "      <td>184.819232</td>\n",
       "      <td>31.939605</td>\n",
       "      <td>3</td>\n",
       "      <td>30.752568</td>\n",
       "      <td>-5</td>\n",
       "      <td>-22</td>\n",
       "      <td>-22</td>\n",
       "      <td>-21</td>\n",
       "      <td>-23</td>\n",
       "      <td>-36</td>\n",
       "      <td>-40</td>\n",
       "      <td>...</td>\n",
       "      <td>97.980028</td>\n",
       "      <td>1.179209</td>\n",
       "      <td>-0.756946</td>\n",
       "      <td>98.905563</td>\n",
       "      <td>1.190348</td>\n",
       "      <td>99.156641</td>\n",
       "      <td>-0.000062</td>\n",
       "      <td>12.056738</td>\n",
       "      <td>-0.157039</td>\n",
       "      <td>20.967742</td>\n",
       "      <td>-0.000091</td>\n",
       "      <td>1.197238</td>\n",
       "      <td>-0.319064</td>\n",
       "      <td>0.0</td>\n",
       "      <td>0.0</td>\n",
       "      <td>0.0</td>\n",
       "      <td>0.0</td>\n",
       "      <td>0.0</td>\n",
       "      <td>0.0</td>\n",
       "      <td>-3.731343</td>\n",
       "      <td>-32.587430</td>\n",
       "      <td>-26.386973</td>\n",
       "      <td>-0.003323</td>\n",
       "      <td>0.045130</td>\n",
       "      <td>-0.044678</td>\n",
       "      <td>-44</td>\n",
       "      <td>-23</td>\n",
       "      <td>-27</td>\n",
       "      <td>0.002371</td>\n",
       "      <td>2.0</td>\n",
       "      <td>-49.6</td>\n",
       "      <td>-54</td>\n",
       "      <td>-152</td>\n",
       "      <td>-353</td>\n",
       "      <td>1.0</td>\n",
       "      <td>0.498547</td>\n",
       "      <td>0.701906</td>\n",
       "      <td>15.135802</td>\n",
       "      <td>35.625252</td>\n",
       "      <td>36.997753</td>\n",
       "    </tr>\n",
       "    <tr>\n",
       "      <th>1</th>\n",
       "      <td>24</td>\n",
       "      <td>19</td>\n",
       "      <td>100.0</td>\n",
       "      <td>78.571429</td>\n",
       "      <td>21.428571</td>\n",
       "      <td>74.275883</td>\n",
       "      <td>64.366798</td>\n",
       "      <td>11.45</td>\n",
       "      <td>18.16</td>\n",
       "      <td>12.22</td>\n",
       "      <td>11.326667</td>\n",
       "      <td>9.2225</td>\n",
       "      <td>0</td>\n",
       "      <td>11</td>\n",
       "      <td>11</td>\n",
       "      <td>1</td>\n",
       "      <td>63</td>\n",
       "      <td>0.002729</td>\n",
       "      <td>-0.003111</td>\n",
       "      <td>-0.000191</td>\n",
       "      <td>66.666667</td>\n",
       "      <td>76.694104</td>\n",
       "      <td>140.227205</td>\n",
       "      <td>156.903278</td>\n",
       "      <td>161.604303</td>\n",
       "      <td>169.720843</td>\n",
       "      <td>152.634492</td>\n",
       "      <td>149.634976</td>\n",
       "      <td>201.738617</td>\n",
       "      <td>191.985663</td>\n",
       "      <td>38.478501</td>\n",
       "      <td>3</td>\n",
       "      <td>36.812130</td>\n",
       "      <td>-6</td>\n",
       "      <td>-18</td>\n",
       "      <td>-24</td>\n",
       "      <td>-24</td>\n",
       "      <td>-25</td>\n",
       "      <td>-38</td>\n",
       "      <td>-43</td>\n",
       "      <td>...</td>\n",
       "      <td>97.932319</td>\n",
       "      <td>1.179223</td>\n",
       "      <td>-0.756569</td>\n",
       "      <td>98.859627</td>\n",
       "      <td>1.190389</td>\n",
       "      <td>99.111914</td>\n",
       "      <td>-0.000062</td>\n",
       "      <td>11.971831</td>\n",
       "      <td>-0.156961</td>\n",
       "      <td>20.800000</td>\n",
       "      <td>-0.000091</td>\n",
       "      <td>1.197328</td>\n",
       "      <td>-0.318905</td>\n",
       "      <td>0.0</td>\n",
       "      <td>0.0</td>\n",
       "      <td>0.0</td>\n",
       "      <td>0.0</td>\n",
       "      <td>0.0</td>\n",
       "      <td>0.0</td>\n",
       "      <td>-1.369863</td>\n",
       "      <td>-38.115965</td>\n",
       "      <td>-26.085949</td>\n",
       "      <td>-0.000476</td>\n",
       "      <td>0.035314</td>\n",
       "      <td>-0.034961</td>\n",
       "      <td>-48</td>\n",
       "      <td>-16</td>\n",
       "      <td>-31</td>\n",
       "      <td>0.003074</td>\n",
       "      <td>0.8</td>\n",
       "      <td>-55.6</td>\n",
       "      <td>-60</td>\n",
       "      <td>-158</td>\n",
       "      <td>-359</td>\n",
       "      <td>1.0</td>\n",
       "      <td>0.537088</td>\n",
       "      <td>0.690833</td>\n",
       "      <td>15.143348</td>\n",
       "      <td>35.643013</td>\n",
       "      <td>37.016198</td>\n",
       "    </tr>\n",
       "    <tr>\n",
       "      <th>2</th>\n",
       "      <td>30</td>\n",
       "      <td>24</td>\n",
       "      <td>100.0</td>\n",
       "      <td>71.428571</td>\n",
       "      <td>28.571429</td>\n",
       "      <td>75.140402</td>\n",
       "      <td>65.915803</td>\n",
       "      <td>8.75</td>\n",
       "      <td>17.86</td>\n",
       "      <td>12.28</td>\n",
       "      <td>10.973333</td>\n",
       "      <td>9.3125</td>\n",
       "      <td>5</td>\n",
       "      <td>15</td>\n",
       "      <td>9</td>\n",
       "      <td>-1</td>\n",
       "      <td>65</td>\n",
       "      <td>0.002780</td>\n",
       "      <td>-0.003530</td>\n",
       "      <td>-0.000375</td>\n",
       "      <td>66.666667</td>\n",
       "      <td>83.909974</td>\n",
       "      <td>117.755945</td>\n",
       "      <td>154.452274</td>\n",
       "      <td>164.015689</td>\n",
       "      <td>175.947530</td>\n",
       "      <td>160.181486</td>\n",
       "      <td>155.527932</td>\n",
       "      <td>205.238017</td>\n",
       "      <td>197.993551</td>\n",
       "      <td>28.917197</td>\n",
       "      <td>3</td>\n",
       "      <td>39.648290</td>\n",
       "      <td>-4</td>\n",
       "      <td>-11</td>\n",
       "      <td>-21</td>\n",
       "      <td>-22</td>\n",
       "      <td>-24</td>\n",
       "      <td>-36</td>\n",
       "      <td>-42</td>\n",
       "      <td>...</td>\n",
       "      <td>97.910664</td>\n",
       "      <td>1.179236</td>\n",
       "      <td>-0.756393</td>\n",
       "      <td>98.839991</td>\n",
       "      <td>1.190429</td>\n",
       "      <td>99.093554</td>\n",
       "      <td>-0.000062</td>\n",
       "      <td>11.888112</td>\n",
       "      <td>-0.156925</td>\n",
       "      <td>20.634921</td>\n",
       "      <td>-0.000091</td>\n",
       "      <td>1.197419</td>\n",
       "      <td>-0.318831</td>\n",
       "      <td>0.0</td>\n",
       "      <td>0.0</td>\n",
       "      <td>0.0</td>\n",
       "      <td>0.0</td>\n",
       "      <td>0.0</td>\n",
       "      <td>0.0</td>\n",
       "      <td>-4.278922</td>\n",
       "      <td>-40.428126</td>\n",
       "      <td>-23.250410</td>\n",
       "      <td>-0.000309</td>\n",
       "      <td>0.005860</td>\n",
       "      <td>-0.005802</td>\n",
       "      <td>-48</td>\n",
       "      <td>-10</td>\n",
       "      <td>-30</td>\n",
       "      <td>0.003561</td>\n",
       "      <td>2.7</td>\n",
       "      <td>-58.4</td>\n",
       "      <td>-60</td>\n",
       "      <td>-160</td>\n",
       "      <td>-362</td>\n",
       "      <td>1.0</td>\n",
       "      <td>0.615169</td>\n",
       "      <td>0.693040</td>\n",
       "      <td>15.146870</td>\n",
       "      <td>35.651301</td>\n",
       "      <td>-37.024805</td>\n",
       "    </tr>\n",
       "    <tr>\n",
       "      <th>3</th>\n",
       "      <td>37</td>\n",
       "      <td>30</td>\n",
       "      <td>100.0</td>\n",
       "      <td>64.285714</td>\n",
       "      <td>35.714286</td>\n",
       "      <td>76.677846</td>\n",
       "      <td>68.584234</td>\n",
       "      <td>7.80</td>\n",
       "      <td>14.76</td>\n",
       "      <td>12.61</td>\n",
       "      <td>10.426667</td>\n",
       "      <td>9.4150</td>\n",
       "      <td>11</td>\n",
       "      <td>18</td>\n",
       "      <td>8</td>\n",
       "      <td>0</td>\n",
       "      <td>68</td>\n",
       "      <td>0.002679</td>\n",
       "      <td>-0.003961</td>\n",
       "      <td>-0.000641</td>\n",
       "      <td>66.666667</td>\n",
       "      <td>98.596644</td>\n",
       "      <td>100.147384</td>\n",
       "      <td>139.695620</td>\n",
       "      <td>158.006863</td>\n",
       "      <td>171.688382</td>\n",
       "      <td>161.192133</td>\n",
       "      <td>156.413230</td>\n",
       "      <td>203.641362</td>\n",
       "      <td>200.370912</td>\n",
       "      <td>31.449631</td>\n",
       "      <td>3</td>\n",
       "      <td>40.902782</td>\n",
       "      <td>-5</td>\n",
       "      <td>-10</td>\n",
       "      <td>-21</td>\n",
       "      <td>-23</td>\n",
       "      <td>-26</td>\n",
       "      <td>-37</td>\n",
       "      <td>-44</td>\n",
       "      <td>...</td>\n",
       "      <td>97.870334</td>\n",
       "      <td>1.179249</td>\n",
       "      <td>-0.756073</td>\n",
       "      <td>98.801500</td>\n",
       "      <td>1.190469</td>\n",
       "      <td>99.056290</td>\n",
       "      <td>-0.000062</td>\n",
       "      <td>11.805556</td>\n",
       "      <td>-0.156858</td>\n",
       "      <td>20.472441</td>\n",
       "      <td>-0.000091</td>\n",
       "      <td>1.197509</td>\n",
       "      <td>-0.318696</td>\n",
       "      <td>0.0</td>\n",
       "      <td>0.0</td>\n",
       "      <td>0.0</td>\n",
       "      <td>0.0</td>\n",
       "      <td>0.0</td>\n",
       "      <td>0.0</td>\n",
       "      <td>-1.355422</td>\n",
       "      <td>-45.019355</td>\n",
       "      <td>-19.499975</td>\n",
       "      <td>0.001137</td>\n",
       "      <td>-0.018252</td>\n",
       "      <td>0.018070</td>\n",
       "      <td>-51</td>\n",
       "      <td>-10</td>\n",
       "      <td>-30</td>\n",
       "      <td>0.004366</td>\n",
       "      <td>0.9</td>\n",
       "      <td>-61.8</td>\n",
       "      <td>-65</td>\n",
       "      <td>-166</td>\n",
       "      <td>-367</td>\n",
       "      <td>1.0</td>\n",
       "      <td>0.661517</td>\n",
       "      <td>0.673418</td>\n",
       "      <td>15.153283</td>\n",
       "      <td>0.000000</td>\n",
       "      <td>-37.040483</td>\n",
       "    </tr>\n",
       "    <tr>\n",
       "      <th>4</th>\n",
       "      <td>41</td>\n",
       "      <td>37</td>\n",
       "      <td>100.0</td>\n",
       "      <td>57.142857</td>\n",
       "      <td>42.857143</td>\n",
       "      <td>81.603007</td>\n",
       "      <td>76.455495</td>\n",
       "      <td>14.90</td>\n",
       "      <td>11.92</td>\n",
       "      <td>14.25</td>\n",
       "      <td>11.406667</td>\n",
       "      <td>9.8925</td>\n",
       "      <td>13</td>\n",
       "      <td>23</td>\n",
       "      <td>10</td>\n",
       "      <td>10</td>\n",
       "      <td>91</td>\n",
       "      <td>0.003986</td>\n",
       "      <td>-0.004624</td>\n",
       "      <td>-0.000319</td>\n",
       "      <td>66.666667</td>\n",
       "      <td>149.283572</td>\n",
       "      <td>124.092409</td>\n",
       "      <td>168.275524</td>\n",
       "      <td>196.846256</td>\n",
       "      <td>208.017747</td>\n",
       "      <td>193.924291</td>\n",
       "      <td>184.995906</td>\n",
       "      <td>227.848369</td>\n",
       "      <td>223.561880</td>\n",
       "      <td>50.406504</td>\n",
       "      <td>2</td>\n",
       "      <td>48.462194</td>\n",
       "      <td>-18</td>\n",
       "      <td>-26</td>\n",
       "      <td>-37</td>\n",
       "      <td>-40</td>\n",
       "      <td>-43</td>\n",
       "      <td>-53</td>\n",
       "      <td>-61</td>\n",
       "      <td>...</td>\n",
       "      <td>97.705214</td>\n",
       "      <td>1.179263</td>\n",
       "      <td>-0.754789</td>\n",
       "      <td>98.637028</td>\n",
       "      <td>1.190509</td>\n",
       "      <td>98.892717</td>\n",
       "      <td>-0.000062</td>\n",
       "      <td>11.724138</td>\n",
       "      <td>-0.156592</td>\n",
       "      <td>20.312500</td>\n",
       "      <td>-0.000091</td>\n",
       "      <td>1.197600</td>\n",
       "      <td>-0.318155</td>\n",
       "      <td>0.0</td>\n",
       "      <td>0.0</td>\n",
       "      <td>0.0</td>\n",
       "      <td>0.0</td>\n",
       "      <td>0.0</td>\n",
       "      <td>0.0</td>\n",
       "      <td>-0.116144</td>\n",
       "      <td>-54.849177</td>\n",
       "      <td>-25.348270</td>\n",
       "      <td>0.001552</td>\n",
       "      <td>-0.007183</td>\n",
       "      <td>0.007111</td>\n",
       "      <td>-70</td>\n",
       "      <td>-24</td>\n",
       "      <td>-45</td>\n",
       "      <td>0.004198</td>\n",
       "      <td>0.1</td>\n",
       "      <td>-79.8</td>\n",
       "      <td>-86</td>\n",
       "      <td>-186</td>\n",
       "      <td>-388</td>\n",
       "      <td>1.0</td>\n",
       "      <td>0.747204</td>\n",
       "      <td>0.700522</td>\n",
       "      <td>-15.179065</td>\n",
       "      <td>-35.727079</td>\n",
       "      <td>-37.103503</td>\n",
       "    </tr>\n",
       "  </tbody>\n",
       "</table>\n",
       "<p>5 rows × 136 columns</p>\n",
       "</div>"
      ],
      "text/plain": [
       "   ind_5  ind_6  ind_8      ind_9  ...   ind_428  20_target  50_target  90_target\n",
       "0     19     17  100.0  85.714286  ...  0.701906  15.135802  35.625252  36.997753\n",
       "1     24     19  100.0  78.571429  ...  0.690833  15.143348  35.643013  37.016198\n",
       "2     30     24  100.0  71.428571  ...  0.693040  15.146870  35.651301 -37.024805\n",
       "3     37     30  100.0  64.285714  ...  0.673418  15.153283   0.000000 -37.040483\n",
       "4     41     37  100.0  57.142857  ...  0.700522 -15.179065 -35.727079 -37.103503\n",
       "\n",
       "[5 rows x 136 columns]"
      ]
     },
     "execution_count": 5,
     "metadata": {
      "tags": []
     },
     "output_type": "execute_result"
    }
   ],
   "source": [
    "import io\n",
    "from pandas import read_excel\n",
    "df= read_excel('HW_Data_Set.xlsx', sheet_name = 'Sheet1')\n",
    "df=df.copy()\n",
    "df.head()"
   ]
  },
  {
   "cell_type": "code",
   "execution_count": 6,
   "metadata": {
    "colab": {},
    "colab_type": "code",
    "id": "F-ISXB5u32lP"
   },
   "outputs": [],
   "source": [
    "import numpy as np\n",
    "df=df.replace('?',np.nan)\n",
    "df = df.dropna()"
   ]
  },
  {
   "cell_type": "code",
   "execution_count": 9,
   "metadata": {
    "colab": {
     "base_uri": "https://localhost:8080/",
     "height": 253
    },
    "colab_type": "code",
    "id": "ztnm4toE33Ki",
    "outputId": "06499012-847e-4de7-a852-8322b03d7589"
   },
   "outputs": [
    {
     "data": {
      "text/html": [
       "<div>\n",
       "<style scoped>\n",
       "    .dataframe tbody tr th:only-of-type {\n",
       "        vertical-align: middle;\n",
       "    }\n",
       "\n",
       "    .dataframe tbody tr th {\n",
       "        vertical-align: top;\n",
       "    }\n",
       "\n",
       "    .dataframe thead th {\n",
       "        text-align: right;\n",
       "    }\n",
       "</style>\n",
       "<table border=\"1\" class=\"dataframe\">\n",
       "  <thead>\n",
       "    <tr style=\"text-align: right;\">\n",
       "      <th></th>\n",
       "      <th>ind_5</th>\n",
       "      <th>ind_6</th>\n",
       "      <th>ind_8</th>\n",
       "      <th>ind_9</th>\n",
       "      <th>ind_10</th>\n",
       "      <th>ind_12</th>\n",
       "      <th>ind_13</th>\n",
       "      <th>ind_14</th>\n",
       "      <th>ind_15</th>\n",
       "      <th>ind_16</th>\n",
       "      <th>ind_17</th>\n",
       "      <th>ind_18</th>\n",
       "      <th>ind_19</th>\n",
       "      <th>ind_20</th>\n",
       "      <th>ind_21</th>\n",
       "      <th>ind_22</th>\n",
       "      <th>ind_23</th>\n",
       "      <th>ind_25</th>\n",
       "      <th>ind_26</th>\n",
       "      <th>ind_27</th>\n",
       "      <th>ind_28</th>\n",
       "      <th>ind_29</th>\n",
       "      <th>ind_30</th>\n",
       "      <th>ind_31</th>\n",
       "      <th>ind_32</th>\n",
       "      <th>ind_33</th>\n",
       "      <th>ind_34</th>\n",
       "      <th>ind_35</th>\n",
       "      <th>ind_36</th>\n",
       "      <th>ind_37</th>\n",
       "      <th>ind_39</th>\n",
       "      <th>ind_40</th>\n",
       "      <th>ind_41</th>\n",
       "      <th>ind_42</th>\n",
       "      <th>ind_43</th>\n",
       "      <th>ind_44</th>\n",
       "      <th>ind_45</th>\n",
       "      <th>ind_46</th>\n",
       "      <th>ind_47</th>\n",
       "      <th>ind_48</th>\n",
       "      <th>...</th>\n",
       "      <th>ind_243</th>\n",
       "      <th>ind_309</th>\n",
       "      <th>ind_310</th>\n",
       "      <th>ind_311</th>\n",
       "      <th>ind_313</th>\n",
       "      <th>ind_315</th>\n",
       "      <th>ind_316</th>\n",
       "      <th>ind_318</th>\n",
       "      <th>ind_321</th>\n",
       "      <th>ind_324</th>\n",
       "      <th>ind_327</th>\n",
       "      <th>ind_330</th>\n",
       "      <th>ind_332</th>\n",
       "      <th>ind_334</th>\n",
       "      <th>ind_338</th>\n",
       "      <th>ind_340</th>\n",
       "      <th>ind_344</th>\n",
       "      <th>ind_345</th>\n",
       "      <th>ind_347</th>\n",
       "      <th>ind_349</th>\n",
       "      <th>ind_351</th>\n",
       "      <th>ind_352</th>\n",
       "      <th>ind_387</th>\n",
       "      <th>ind_392</th>\n",
       "      <th>ind_397</th>\n",
       "      <th>ind_399</th>\n",
       "      <th>ind_403</th>\n",
       "      <th>ind_404</th>\n",
       "      <th>ind_406</th>\n",
       "      <th>ind_407</th>\n",
       "      <th>ind_410</th>\n",
       "      <th>ind_412</th>\n",
       "      <th>ind_414</th>\n",
       "      <th>ind_416</th>\n",
       "      <th>ind_418</th>\n",
       "      <th>ind_420</th>\n",
       "      <th>ind_422</th>\n",
       "      <th>ind_424</th>\n",
       "      <th>ind_426</th>\n",
       "      <th>ind_428</th>\n",
       "    </tr>\n",
       "  </thead>\n",
       "  <tbody>\n",
       "    <tr>\n",
       "      <th>0</th>\n",
       "      <td>19.0</td>\n",
       "      <td>17.0</td>\n",
       "      <td>100.0</td>\n",
       "      <td>85.714286</td>\n",
       "      <td>14.285714</td>\n",
       "      <td>72.363515</td>\n",
       "      <td>60.808814</td>\n",
       "      <td>23.80</td>\n",
       "      <td>17.62</td>\n",
       "      <td>11.73</td>\n",
       "      <td>12.060000</td>\n",
       "      <td>9.1100</td>\n",
       "      <td>2.0</td>\n",
       "      <td>15.0</td>\n",
       "      <td>13.0</td>\n",
       "      <td>1.0</td>\n",
       "      <td>56.0</td>\n",
       "      <td>0.002690</td>\n",
       "      <td>-0.002670</td>\n",
       "      <td>0.000010</td>\n",
       "      <td>66.666667</td>\n",
       "      <td>93.692449</td>\n",
       "      <td>146.592674</td>\n",
       "      <td>150.505806</td>\n",
       "      <td>154.486989</td>\n",
       "      <td>158.009516</td>\n",
       "      <td>142.421114</td>\n",
       "      <td>142.023350</td>\n",
       "      <td>196.592517</td>\n",
       "      <td>184.819232</td>\n",
       "      <td>31.939605</td>\n",
       "      <td>3.0</td>\n",
       "      <td>30.752568</td>\n",
       "      <td>-5.0</td>\n",
       "      <td>-22.0</td>\n",
       "      <td>-22.0</td>\n",
       "      <td>-21.0</td>\n",
       "      <td>-23.0</td>\n",
       "      <td>-36.0</td>\n",
       "      <td>-40.0</td>\n",
       "      <td>...</td>\n",
       "      <td>1.200346</td>\n",
       "      <td>-0.000013</td>\n",
       "      <td>-1.524694</td>\n",
       "      <td>97.980028</td>\n",
       "      <td>1.179209</td>\n",
       "      <td>-0.756946</td>\n",
       "      <td>98.905563</td>\n",
       "      <td>1.190348</td>\n",
       "      <td>99.156641</td>\n",
       "      <td>-0.000062</td>\n",
       "      <td>12.056738</td>\n",
       "      <td>-0.157039</td>\n",
       "      <td>20.967742</td>\n",
       "      <td>-0.000091</td>\n",
       "      <td>1.197238</td>\n",
       "      <td>-0.319064</td>\n",
       "      <td>0.0</td>\n",
       "      <td>0.0</td>\n",
       "      <td>0.0</td>\n",
       "      <td>0.0</td>\n",
       "      <td>0.0</td>\n",
       "      <td>0.0</td>\n",
       "      <td>-3.731343</td>\n",
       "      <td>-32.587430</td>\n",
       "      <td>-26.386973</td>\n",
       "      <td>-0.003323</td>\n",
       "      <td>0.045130</td>\n",
       "      <td>-0.044678</td>\n",
       "      <td>-44.0</td>\n",
       "      <td>-23.0</td>\n",
       "      <td>-27.0</td>\n",
       "      <td>0.002371</td>\n",
       "      <td>2.0</td>\n",
       "      <td>-49.6</td>\n",
       "      <td>-54.0</td>\n",
       "      <td>-152.0</td>\n",
       "      <td>-353.0</td>\n",
       "      <td>1.0</td>\n",
       "      <td>0.498547</td>\n",
       "      <td>0.701906</td>\n",
       "    </tr>\n",
       "    <tr>\n",
       "      <th>1</th>\n",
       "      <td>24.0</td>\n",
       "      <td>19.0</td>\n",
       "      <td>100.0</td>\n",
       "      <td>78.571429</td>\n",
       "      <td>21.428571</td>\n",
       "      <td>74.275883</td>\n",
       "      <td>64.366798</td>\n",
       "      <td>11.45</td>\n",
       "      <td>18.16</td>\n",
       "      <td>12.22</td>\n",
       "      <td>11.326667</td>\n",
       "      <td>9.2225</td>\n",
       "      <td>0.0</td>\n",
       "      <td>11.0</td>\n",
       "      <td>11.0</td>\n",
       "      <td>1.0</td>\n",
       "      <td>63.0</td>\n",
       "      <td>0.002729</td>\n",
       "      <td>-0.003111</td>\n",
       "      <td>-0.000191</td>\n",
       "      <td>66.666667</td>\n",
       "      <td>76.694104</td>\n",
       "      <td>140.227205</td>\n",
       "      <td>156.903278</td>\n",
       "      <td>161.604303</td>\n",
       "      <td>169.720843</td>\n",
       "      <td>152.634492</td>\n",
       "      <td>149.634976</td>\n",
       "      <td>201.738617</td>\n",
       "      <td>191.985663</td>\n",
       "      <td>38.478501</td>\n",
       "      <td>3.0</td>\n",
       "      <td>36.812130</td>\n",
       "      <td>-6.0</td>\n",
       "      <td>-18.0</td>\n",
       "      <td>-24.0</td>\n",
       "      <td>-24.0</td>\n",
       "      <td>-25.0</td>\n",
       "      <td>-38.0</td>\n",
       "      <td>-43.0</td>\n",
       "      <td>...</td>\n",
       "      <td>1.200129</td>\n",
       "      <td>-0.000013</td>\n",
       "      <td>-1.523934</td>\n",
       "      <td>97.932319</td>\n",
       "      <td>1.179223</td>\n",
       "      <td>-0.756569</td>\n",
       "      <td>98.859627</td>\n",
       "      <td>1.190389</td>\n",
       "      <td>99.111914</td>\n",
       "      <td>-0.000062</td>\n",
       "      <td>11.971831</td>\n",
       "      <td>-0.156961</td>\n",
       "      <td>20.800000</td>\n",
       "      <td>-0.000091</td>\n",
       "      <td>1.197328</td>\n",
       "      <td>-0.318905</td>\n",
       "      <td>0.0</td>\n",
       "      <td>0.0</td>\n",
       "      <td>0.0</td>\n",
       "      <td>0.0</td>\n",
       "      <td>0.0</td>\n",
       "      <td>0.0</td>\n",
       "      <td>-1.369863</td>\n",
       "      <td>-38.115965</td>\n",
       "      <td>-26.085949</td>\n",
       "      <td>-0.000476</td>\n",
       "      <td>0.035314</td>\n",
       "      <td>-0.034961</td>\n",
       "      <td>-48.0</td>\n",
       "      <td>-16.0</td>\n",
       "      <td>-31.0</td>\n",
       "      <td>0.003074</td>\n",
       "      <td>0.8</td>\n",
       "      <td>-55.6</td>\n",
       "      <td>-60.0</td>\n",
       "      <td>-158.0</td>\n",
       "      <td>-359.0</td>\n",
       "      <td>1.0</td>\n",
       "      <td>0.537088</td>\n",
       "      <td>0.690833</td>\n",
       "    </tr>\n",
       "    <tr>\n",
       "      <th>2</th>\n",
       "      <td>30.0</td>\n",
       "      <td>24.0</td>\n",
       "      <td>100.0</td>\n",
       "      <td>71.428571</td>\n",
       "      <td>28.571429</td>\n",
       "      <td>75.140402</td>\n",
       "      <td>65.915803</td>\n",
       "      <td>8.75</td>\n",
       "      <td>17.86</td>\n",
       "      <td>12.28</td>\n",
       "      <td>10.973333</td>\n",
       "      <td>9.3125</td>\n",
       "      <td>5.0</td>\n",
       "      <td>15.0</td>\n",
       "      <td>9.0</td>\n",
       "      <td>-1.0</td>\n",
       "      <td>65.0</td>\n",
       "      <td>0.002780</td>\n",
       "      <td>-0.003530</td>\n",
       "      <td>-0.000375</td>\n",
       "      <td>66.666667</td>\n",
       "      <td>83.909974</td>\n",
       "      <td>117.755945</td>\n",
       "      <td>154.452274</td>\n",
       "      <td>164.015689</td>\n",
       "      <td>175.947530</td>\n",
       "      <td>160.181486</td>\n",
       "      <td>155.527932</td>\n",
       "      <td>205.238017</td>\n",
       "      <td>197.993551</td>\n",
       "      <td>28.917197</td>\n",
       "      <td>3.0</td>\n",
       "      <td>39.648290</td>\n",
       "      <td>-4.0</td>\n",
       "      <td>-11.0</td>\n",
       "      <td>-21.0</td>\n",
       "      <td>-22.0</td>\n",
       "      <td>-24.0</td>\n",
       "      <td>-36.0</td>\n",
       "      <td>-42.0</td>\n",
       "      <td>...</td>\n",
       "      <td>1.199911</td>\n",
       "      <td>-0.000013</td>\n",
       "      <td>-1.523580</td>\n",
       "      <td>97.910664</td>\n",
       "      <td>1.179236</td>\n",
       "      <td>-0.756393</td>\n",
       "      <td>98.839991</td>\n",
       "      <td>1.190429</td>\n",
       "      <td>99.093554</td>\n",
       "      <td>-0.000062</td>\n",
       "      <td>11.888112</td>\n",
       "      <td>-0.156925</td>\n",
       "      <td>20.634921</td>\n",
       "      <td>-0.000091</td>\n",
       "      <td>1.197419</td>\n",
       "      <td>-0.318831</td>\n",
       "      <td>0.0</td>\n",
       "      <td>0.0</td>\n",
       "      <td>0.0</td>\n",
       "      <td>0.0</td>\n",
       "      <td>0.0</td>\n",
       "      <td>0.0</td>\n",
       "      <td>-4.278922</td>\n",
       "      <td>-40.428126</td>\n",
       "      <td>-23.250410</td>\n",
       "      <td>-0.000309</td>\n",
       "      <td>0.005860</td>\n",
       "      <td>-0.005802</td>\n",
       "      <td>-48.0</td>\n",
       "      <td>-10.0</td>\n",
       "      <td>-30.0</td>\n",
       "      <td>0.003561</td>\n",
       "      <td>2.7</td>\n",
       "      <td>-58.4</td>\n",
       "      <td>-60.0</td>\n",
       "      <td>-160.0</td>\n",
       "      <td>-362.0</td>\n",
       "      <td>1.0</td>\n",
       "      <td>0.615169</td>\n",
       "      <td>0.693040</td>\n",
       "    </tr>\n",
       "    <tr>\n",
       "      <th>3</th>\n",
       "      <td>37.0</td>\n",
       "      <td>30.0</td>\n",
       "      <td>100.0</td>\n",
       "      <td>64.285714</td>\n",
       "      <td>35.714286</td>\n",
       "      <td>76.677846</td>\n",
       "      <td>68.584234</td>\n",
       "      <td>7.80</td>\n",
       "      <td>14.76</td>\n",
       "      <td>12.61</td>\n",
       "      <td>10.426667</td>\n",
       "      <td>9.4150</td>\n",
       "      <td>11.0</td>\n",
       "      <td>18.0</td>\n",
       "      <td>8.0</td>\n",
       "      <td>0.0</td>\n",
       "      <td>68.0</td>\n",
       "      <td>0.002679</td>\n",
       "      <td>-0.003961</td>\n",
       "      <td>-0.000641</td>\n",
       "      <td>66.666667</td>\n",
       "      <td>98.596644</td>\n",
       "      <td>100.147384</td>\n",
       "      <td>139.695620</td>\n",
       "      <td>158.006863</td>\n",
       "      <td>171.688382</td>\n",
       "      <td>161.192133</td>\n",
       "      <td>156.413230</td>\n",
       "      <td>203.641362</td>\n",
       "      <td>200.370912</td>\n",
       "      <td>31.449631</td>\n",
       "      <td>3.0</td>\n",
       "      <td>40.902782</td>\n",
       "      <td>-5.0</td>\n",
       "      <td>-10.0</td>\n",
       "      <td>-21.0</td>\n",
       "      <td>-23.0</td>\n",
       "      <td>-26.0</td>\n",
       "      <td>-37.0</td>\n",
       "      <td>-44.0</td>\n",
       "      <td>...</td>\n",
       "      <td>1.199694</td>\n",
       "      <td>-0.000013</td>\n",
       "      <td>-1.522935</td>\n",
       "      <td>97.870334</td>\n",
       "      <td>1.179249</td>\n",
       "      <td>-0.756073</td>\n",
       "      <td>98.801500</td>\n",
       "      <td>1.190469</td>\n",
       "      <td>99.056290</td>\n",
       "      <td>-0.000062</td>\n",
       "      <td>11.805556</td>\n",
       "      <td>-0.156858</td>\n",
       "      <td>20.472441</td>\n",
       "      <td>-0.000091</td>\n",
       "      <td>1.197509</td>\n",
       "      <td>-0.318696</td>\n",
       "      <td>0.0</td>\n",
       "      <td>0.0</td>\n",
       "      <td>0.0</td>\n",
       "      <td>0.0</td>\n",
       "      <td>0.0</td>\n",
       "      <td>0.0</td>\n",
       "      <td>-1.355422</td>\n",
       "      <td>-45.019355</td>\n",
       "      <td>-19.499975</td>\n",
       "      <td>0.001137</td>\n",
       "      <td>-0.018252</td>\n",
       "      <td>0.018070</td>\n",
       "      <td>-51.0</td>\n",
       "      <td>-10.0</td>\n",
       "      <td>-30.0</td>\n",
       "      <td>0.004366</td>\n",
       "      <td>0.9</td>\n",
       "      <td>-61.8</td>\n",
       "      <td>-65.0</td>\n",
       "      <td>-166.0</td>\n",
       "      <td>-367.0</td>\n",
       "      <td>1.0</td>\n",
       "      <td>0.661517</td>\n",
       "      <td>0.673418</td>\n",
       "    </tr>\n",
       "    <tr>\n",
       "      <th>4</th>\n",
       "      <td>41.0</td>\n",
       "      <td>37.0</td>\n",
       "      <td>100.0</td>\n",
       "      <td>57.142857</td>\n",
       "      <td>42.857143</td>\n",
       "      <td>81.603007</td>\n",
       "      <td>76.455495</td>\n",
       "      <td>14.90</td>\n",
       "      <td>11.92</td>\n",
       "      <td>14.25</td>\n",
       "      <td>11.406667</td>\n",
       "      <td>9.8925</td>\n",
       "      <td>13.0</td>\n",
       "      <td>23.0</td>\n",
       "      <td>10.0</td>\n",
       "      <td>10.0</td>\n",
       "      <td>91.0</td>\n",
       "      <td>0.003986</td>\n",
       "      <td>-0.004624</td>\n",
       "      <td>-0.000319</td>\n",
       "      <td>66.666667</td>\n",
       "      <td>149.283572</td>\n",
       "      <td>124.092409</td>\n",
       "      <td>168.275524</td>\n",
       "      <td>196.846256</td>\n",
       "      <td>208.017747</td>\n",
       "      <td>193.924291</td>\n",
       "      <td>184.995906</td>\n",
       "      <td>227.848369</td>\n",
       "      <td>223.561880</td>\n",
       "      <td>50.406504</td>\n",
       "      <td>2.0</td>\n",
       "      <td>48.462194</td>\n",
       "      <td>-18.0</td>\n",
       "      <td>-26.0</td>\n",
       "      <td>-37.0</td>\n",
       "      <td>-40.0</td>\n",
       "      <td>-43.0</td>\n",
       "      <td>-53.0</td>\n",
       "      <td>-61.0</td>\n",
       "      <td>...</td>\n",
       "      <td>1.199477</td>\n",
       "      <td>-0.000013</td>\n",
       "      <td>-1.520349</td>\n",
       "      <td>97.705214</td>\n",
       "      <td>1.179263</td>\n",
       "      <td>-0.754789</td>\n",
       "      <td>98.637028</td>\n",
       "      <td>1.190509</td>\n",
       "      <td>98.892717</td>\n",
       "      <td>-0.000062</td>\n",
       "      <td>11.724138</td>\n",
       "      <td>-0.156592</td>\n",
       "      <td>20.312500</td>\n",
       "      <td>-0.000091</td>\n",
       "      <td>1.197600</td>\n",
       "      <td>-0.318155</td>\n",
       "      <td>0.0</td>\n",
       "      <td>0.0</td>\n",
       "      <td>0.0</td>\n",
       "      <td>0.0</td>\n",
       "      <td>0.0</td>\n",
       "      <td>0.0</td>\n",
       "      <td>-0.116144</td>\n",
       "      <td>-54.849177</td>\n",
       "      <td>-25.348270</td>\n",
       "      <td>0.001552</td>\n",
       "      <td>-0.007183</td>\n",
       "      <td>0.007111</td>\n",
       "      <td>-70.0</td>\n",
       "      <td>-24.0</td>\n",
       "      <td>-45.0</td>\n",
       "      <td>0.004198</td>\n",
       "      <td>0.1</td>\n",
       "      <td>-79.8</td>\n",
       "      <td>-86.0</td>\n",
       "      <td>-186.0</td>\n",
       "      <td>-388.0</td>\n",
       "      <td>1.0</td>\n",
       "      <td>0.747204</td>\n",
       "      <td>0.700522</td>\n",
       "    </tr>\n",
       "  </tbody>\n",
       "</table>\n",
       "<p>5 rows × 132 columns</p>\n",
       "</div>"
      ],
      "text/plain": [
       "   ind_5  ind_6  ind_8      ind_9  ...  ind_422  ind_424   ind_426   ind_428\n",
       "0   19.0   17.0  100.0  85.714286  ...   -353.0      1.0  0.498547  0.701906\n",
       "1   24.0   19.0  100.0  78.571429  ...   -359.0      1.0  0.537088  0.690833\n",
       "2   30.0   24.0  100.0  71.428571  ...   -362.0      1.0  0.615169  0.693040\n",
       "3   37.0   30.0  100.0  64.285714  ...   -367.0      1.0  0.661517  0.673418\n",
       "4   41.0   37.0  100.0  57.142857  ...   -388.0      1.0  0.747204  0.700522\n",
       "\n",
       "[5 rows x 132 columns]"
      ]
     },
     "execution_count": 9,
     "metadata": {
      "tags": []
     },
     "output_type": "execute_result"
    }
   ],
   "source": [
    "y=df[\"90_target\"]\n",
    "X=df.drop([\"ind_109\",\"50_target\",\"90_target\",\"20_target\"],axis=1).astype('float64')\n",
    "\n",
    "X.head()"
   ]
  },
  {
   "cell_type": "code",
   "execution_count": 10,
   "metadata": {
    "colab": {
     "base_uri": "https://localhost:8080/",
     "height": 102
    },
    "colab_type": "code",
    "id": "t9MEVYrcsgKf",
    "outputId": "c5e4cbeb-c617-4cb8-f11d-85a517479bb3"
   },
   "outputs": [
    {
     "name": "stdout",
     "output_type": "stream",
     "text": [
      "<class 'pandas.core.frame.DataFrame'>\n",
      "Int64Index: 5126 entries, 0 to 6166\n",
      "Columns: 132 entries, ind_5 to ind_428\n",
      "dtypes: float64(132)\n",
      "memory usage: 5.2 MB\n"
     ]
    }
   ],
   "source": [
    "X.info()"
   ]
  },
  {
   "cell_type": "code",
   "execution_count": 11,
   "metadata": {
    "colab": {},
    "colab_type": "code",
    "id": "xdKxSydk33H6"
   },
   "outputs": [],
   "source": [
    "X_train,X_test,y_train,y_test=train_test_split(X,y,test_size=0.25, random_state=42)"
   ]
  },
  {
   "cell_type": "code",
   "execution_count": 125,
   "metadata": {
    "colab": {},
    "colab_type": "code",
    "id": "lCSV6amyQb58"
   },
   "outputs": [],
   "source": [
    "\n",
    "svr_model = SVR(\"linear\").fit(X_train, y_train)\n"
   ]
  },
  {
   "cell_type": "code",
   "execution_count": 126,
   "metadata": {
    "colab": {
     "base_uri": "https://localhost:8080/",
     "height": 51
    },
    "colab_type": "code",
    "id": "AypUFO8f5bB5",
    "outputId": "e77c0f04-da90-435a-fe06-4a4b45b455bb"
   },
   "outputs": [
    {
     "data": {
      "text/plain": [
       "array([ 11.52989207, -22.84494915,  18.94098991, -27.36096555,\n",
       "        21.46294045])"
      ]
     },
     "execution_count": 126,
     "metadata": {
      "tags": []
     },
     "output_type": "execute_result"
    }
   ],
   "source": [
    "svr_model.predict(X_train)[0:5]"
   ]
  },
  {
   "cell_type": "code",
   "execution_count": 127,
   "metadata": {
    "colab": {
     "base_uri": "https://localhost:8080/",
     "height": 119
    },
    "colab_type": "code",
    "id": "0M-Jktdg5j4g",
    "outputId": "9fa892aa-c159-49de-8825-cf1050200183"
   },
   "outputs": [
    {
     "data": {
      "text/plain": [
       "5329    36.160668\n",
       "4217   -36.806235\n",
       "714     37.684820\n",
       "5731   -35.708156\n",
       "5061    35.458229\n",
       "Name: 90_target, dtype: float64"
      ]
     },
     "execution_count": 127,
     "metadata": {
      "tags": []
     },
     "output_type": "execute_result"
    }
   ],
   "source": [
    "y_train[0:5]"
   ]
  },
  {
   "cell_type": "code",
   "execution_count": 128,
   "metadata": {
    "colab": {
     "base_uri": "https://localhost:8080/",
     "height": 34
    },
    "colab_type": "code",
    "id": "Ig-nPgAP-zzh",
    "outputId": "35fc335b-0e5a-462c-b5ed-0b61f119dfc3"
   },
   "outputs": [
    {
     "data": {
      "text/plain": [
       "37.443409906122206"
      ]
     },
     "execution_count": 128,
     "metadata": {
      "tags": []
     },
     "output_type": "execute_result"
    }
   ],
   "source": [
    "y_pred = svr_model.predict(X_test)\n",
    "np.sqrt(mean_squared_error(y_test, y_pred))"
   ]
  },
  {
   "cell_type": "code",
   "execution_count": 129,
   "metadata": {
    "colab": {
     "base_uri": "https://localhost:8080/",
     "height": 34
    },
    "colab_type": "code",
    "id": "7oufjo-0_HdA",
    "outputId": "5258c47e-f4c0-4928-9877-1194c8ab773a"
   },
   "outputs": [
    {
     "data": {
      "text/plain": [
       "35.21493700328338"
      ]
     },
     "execution_count": 129,
     "metadata": {
      "tags": []
     },
     "output_type": "execute_result"
    }
   ],
   "source": [
    "y_pred = svr_model.predict(X_train)\n",
    "np.sqrt(mean_squared_error(y_train, y_pred))"
   ]
  },
  {
   "cell_type": "markdown",
   "metadata": {
    "colab_type": "text",
    "id": "CN5xZt4rGR4V"
   },
   "source": [
    "## Model Tuning"
   ]
  },
  {
   "cell_type": "code",
   "execution_count": null,
   "metadata": {
    "colab": {},
    "colab_type": "code",
    "id": "je2FY7gQQZTl"
   },
   "outputs": [],
   "source": [
    "svr_params = {\"C\": np.arange(1,5,1)}\n",
    "svr_cv_model = GridSearchCV(svr_model, svr_params, cv = 10).fit(X_train,y_train)"
   ]
  },
  {
   "cell_type": "code",
   "execution_count": null,
   "metadata": {
    "colab": {},
    "colab_type": "code",
    "id": "h6oXMt5Pdp_x"
   },
   "outputs": [],
   "source": [
    "str(svr_cv_model.best_params_)"
   ]
  },
  {
   "cell_type": "code",
   "execution_count": null,
   "metadata": {
    "colab": {},
    "colab_type": "code",
    "id": "jeZJbdnbRnB8"
   },
   "outputs": [],
   "source": [
    "svr_model = SVR(\"linear\", C=0.1).fit(X_train, y_train)"
   ]
  },
  {
   "cell_type": "code",
   "execution_count": null,
   "metadata": {
    "colab": {
     "base_uri": "https://localhost:8080/",
     "height": 34
    },
    "colab_type": "code",
    "id": "D7aa42htGQm0",
    "outputId": "4811ca60-dfb3-49d2-8e5b-65834a52389b"
   },
   "outputs": [
    {
     "data": {
      "text/plain": [
       "37.443409906122206"
      ]
     },
     "execution_count": 18,
     "metadata": {
      "tags": []
     },
     "output_type": "execute_result"
    }
   ],
   "source": [
    "y_pred = svr_model.predict(X_test)\n",
    "np.sqrt(mean_squared_error(y_test, y_pred))"
   ]
  },
  {
   "cell_type": "code",
   "execution_count": null,
   "metadata": {
    "colab": {},
    "colab_type": "code",
    "id": "ymYYrK3_GQez"
   },
   "outputs": [],
   "source": []
  },
  {
   "cell_type": "markdown",
   "metadata": {
    "colab_type": "text",
    "id": "vZG88ycrLd24"
   },
   "source": [
    "# Naive Bayes"
   ]
  },
  {
   "cell_type": "code",
   "execution_count": 12,
   "metadata": {
    "colab": {
     "base_uri": "https://localhost:8080/",
     "height": 253
    },
    "colab_type": "code",
    "id": "Ibtk3Iehr_6W",
    "outputId": "ad5559a8-b6ea-481b-f685-7b01c0690b9f"
   },
   "outputs": [
    {
     "data": {
      "text/html": [
       "<div>\n",
       "<style scoped>\n",
       "    .dataframe tbody tr th:only-of-type {\n",
       "        vertical-align: middle;\n",
       "    }\n",
       "\n",
       "    .dataframe tbody tr th {\n",
       "        vertical-align: top;\n",
       "    }\n",
       "\n",
       "    .dataframe thead th {\n",
       "        text-align: right;\n",
       "    }\n",
       "</style>\n",
       "<table border=\"1\" class=\"dataframe\">\n",
       "  <thead>\n",
       "    <tr style=\"text-align: right;\">\n",
       "      <th></th>\n",
       "      <th>ind_5</th>\n",
       "      <th>ind_6</th>\n",
       "      <th>ind_8</th>\n",
       "      <th>ind_9</th>\n",
       "      <th>ind_10</th>\n",
       "      <th>ind_12</th>\n",
       "      <th>ind_13</th>\n",
       "      <th>ind_14</th>\n",
       "      <th>ind_15</th>\n",
       "      <th>ind_16</th>\n",
       "      <th>ind_17</th>\n",
       "      <th>ind_18</th>\n",
       "      <th>ind_19</th>\n",
       "      <th>ind_20</th>\n",
       "      <th>ind_21</th>\n",
       "      <th>ind_22</th>\n",
       "      <th>ind_23</th>\n",
       "      <th>ind_25</th>\n",
       "      <th>ind_26</th>\n",
       "      <th>ind_27</th>\n",
       "      <th>ind_28</th>\n",
       "      <th>ind_29</th>\n",
       "      <th>ind_30</th>\n",
       "      <th>ind_31</th>\n",
       "      <th>ind_32</th>\n",
       "      <th>ind_33</th>\n",
       "      <th>ind_34</th>\n",
       "      <th>ind_35</th>\n",
       "      <th>ind_36</th>\n",
       "      <th>ind_37</th>\n",
       "      <th>ind_39</th>\n",
       "      <th>ind_40</th>\n",
       "      <th>ind_41</th>\n",
       "      <th>ind_42</th>\n",
       "      <th>ind_43</th>\n",
       "      <th>ind_44</th>\n",
       "      <th>ind_45</th>\n",
       "      <th>ind_46</th>\n",
       "      <th>ind_47</th>\n",
       "      <th>ind_48</th>\n",
       "      <th>...</th>\n",
       "      <th>ind_311</th>\n",
       "      <th>ind_313</th>\n",
       "      <th>ind_315</th>\n",
       "      <th>ind_316</th>\n",
       "      <th>ind_318</th>\n",
       "      <th>ind_321</th>\n",
       "      <th>ind_324</th>\n",
       "      <th>ind_327</th>\n",
       "      <th>ind_330</th>\n",
       "      <th>ind_332</th>\n",
       "      <th>ind_334</th>\n",
       "      <th>ind_338</th>\n",
       "      <th>ind_340</th>\n",
       "      <th>ind_344</th>\n",
       "      <th>ind_345</th>\n",
       "      <th>ind_347</th>\n",
       "      <th>ind_349</th>\n",
       "      <th>ind_351</th>\n",
       "      <th>ind_352</th>\n",
       "      <th>ind_387</th>\n",
       "      <th>ind_392</th>\n",
       "      <th>ind_397</th>\n",
       "      <th>ind_399</th>\n",
       "      <th>ind_403</th>\n",
       "      <th>ind_404</th>\n",
       "      <th>ind_406</th>\n",
       "      <th>ind_407</th>\n",
       "      <th>ind_410</th>\n",
       "      <th>ind_412</th>\n",
       "      <th>ind_414</th>\n",
       "      <th>ind_416</th>\n",
       "      <th>ind_418</th>\n",
       "      <th>ind_420</th>\n",
       "      <th>ind_422</th>\n",
       "      <th>ind_424</th>\n",
       "      <th>ind_426</th>\n",
       "      <th>ind_428</th>\n",
       "      <th>20_target</th>\n",
       "      <th>50_target</th>\n",
       "      <th>90_target</th>\n",
       "    </tr>\n",
       "  </thead>\n",
       "  <tbody>\n",
       "    <tr>\n",
       "      <th>0</th>\n",
       "      <td>19</td>\n",
       "      <td>17</td>\n",
       "      <td>100.0</td>\n",
       "      <td>85.714286</td>\n",
       "      <td>14.285714</td>\n",
       "      <td>72.363515</td>\n",
       "      <td>60.808814</td>\n",
       "      <td>23.80</td>\n",
       "      <td>17.62</td>\n",
       "      <td>11.73</td>\n",
       "      <td>12.060000</td>\n",
       "      <td>9.1100</td>\n",
       "      <td>2</td>\n",
       "      <td>15</td>\n",
       "      <td>13</td>\n",
       "      <td>1</td>\n",
       "      <td>56</td>\n",
       "      <td>0.002690</td>\n",
       "      <td>-0.002670</td>\n",
       "      <td>0.000010</td>\n",
       "      <td>66.666667</td>\n",
       "      <td>93.692449</td>\n",
       "      <td>146.592674</td>\n",
       "      <td>150.505806</td>\n",
       "      <td>154.486989</td>\n",
       "      <td>158.009516</td>\n",
       "      <td>142.421114</td>\n",
       "      <td>142.023350</td>\n",
       "      <td>196.592517</td>\n",
       "      <td>184.819232</td>\n",
       "      <td>31.939605</td>\n",
       "      <td>3</td>\n",
       "      <td>30.752568</td>\n",
       "      <td>-5</td>\n",
       "      <td>-22</td>\n",
       "      <td>-22</td>\n",
       "      <td>-21</td>\n",
       "      <td>-23</td>\n",
       "      <td>-36</td>\n",
       "      <td>-40</td>\n",
       "      <td>...</td>\n",
       "      <td>97.980028</td>\n",
       "      <td>1.179209</td>\n",
       "      <td>-0.756946</td>\n",
       "      <td>98.905563</td>\n",
       "      <td>1.190348</td>\n",
       "      <td>99.156641</td>\n",
       "      <td>-0.000062</td>\n",
       "      <td>12.056738</td>\n",
       "      <td>-0.157039</td>\n",
       "      <td>20.967742</td>\n",
       "      <td>-0.000091</td>\n",
       "      <td>1.197238</td>\n",
       "      <td>-0.319064</td>\n",
       "      <td>0.0</td>\n",
       "      <td>0.0</td>\n",
       "      <td>0.0</td>\n",
       "      <td>0.0</td>\n",
       "      <td>0.0</td>\n",
       "      <td>0.0</td>\n",
       "      <td>-3.731343</td>\n",
       "      <td>-32.587430</td>\n",
       "      <td>-26.386973</td>\n",
       "      <td>-0.003323</td>\n",
       "      <td>0.045130</td>\n",
       "      <td>-0.044678</td>\n",
       "      <td>-44</td>\n",
       "      <td>-23</td>\n",
       "      <td>-27</td>\n",
       "      <td>0.002371</td>\n",
       "      <td>2.0</td>\n",
       "      <td>-49.6</td>\n",
       "      <td>-54</td>\n",
       "      <td>-152</td>\n",
       "      <td>-353</td>\n",
       "      <td>1.0</td>\n",
       "      <td>0.498547</td>\n",
       "      <td>0.701906</td>\n",
       "      <td>15.135802</td>\n",
       "      <td>35.625252</td>\n",
       "      <td>36.997753</td>\n",
       "    </tr>\n",
       "    <tr>\n",
       "      <th>1</th>\n",
       "      <td>24</td>\n",
       "      <td>19</td>\n",
       "      <td>100.0</td>\n",
       "      <td>78.571429</td>\n",
       "      <td>21.428571</td>\n",
       "      <td>74.275883</td>\n",
       "      <td>64.366798</td>\n",
       "      <td>11.45</td>\n",
       "      <td>18.16</td>\n",
       "      <td>12.22</td>\n",
       "      <td>11.326667</td>\n",
       "      <td>9.2225</td>\n",
       "      <td>0</td>\n",
       "      <td>11</td>\n",
       "      <td>11</td>\n",
       "      <td>1</td>\n",
       "      <td>63</td>\n",
       "      <td>0.002729</td>\n",
       "      <td>-0.003111</td>\n",
       "      <td>-0.000191</td>\n",
       "      <td>66.666667</td>\n",
       "      <td>76.694104</td>\n",
       "      <td>140.227205</td>\n",
       "      <td>156.903278</td>\n",
       "      <td>161.604303</td>\n",
       "      <td>169.720843</td>\n",
       "      <td>152.634492</td>\n",
       "      <td>149.634976</td>\n",
       "      <td>201.738617</td>\n",
       "      <td>191.985663</td>\n",
       "      <td>38.478501</td>\n",
       "      <td>3</td>\n",
       "      <td>36.812130</td>\n",
       "      <td>-6</td>\n",
       "      <td>-18</td>\n",
       "      <td>-24</td>\n",
       "      <td>-24</td>\n",
       "      <td>-25</td>\n",
       "      <td>-38</td>\n",
       "      <td>-43</td>\n",
       "      <td>...</td>\n",
       "      <td>97.932319</td>\n",
       "      <td>1.179223</td>\n",
       "      <td>-0.756569</td>\n",
       "      <td>98.859627</td>\n",
       "      <td>1.190389</td>\n",
       "      <td>99.111914</td>\n",
       "      <td>-0.000062</td>\n",
       "      <td>11.971831</td>\n",
       "      <td>-0.156961</td>\n",
       "      <td>20.800000</td>\n",
       "      <td>-0.000091</td>\n",
       "      <td>1.197328</td>\n",
       "      <td>-0.318905</td>\n",
       "      <td>0.0</td>\n",
       "      <td>0.0</td>\n",
       "      <td>0.0</td>\n",
       "      <td>0.0</td>\n",
       "      <td>0.0</td>\n",
       "      <td>0.0</td>\n",
       "      <td>-1.369863</td>\n",
       "      <td>-38.115965</td>\n",
       "      <td>-26.085949</td>\n",
       "      <td>-0.000476</td>\n",
       "      <td>0.035314</td>\n",
       "      <td>-0.034961</td>\n",
       "      <td>-48</td>\n",
       "      <td>-16</td>\n",
       "      <td>-31</td>\n",
       "      <td>0.003074</td>\n",
       "      <td>0.8</td>\n",
       "      <td>-55.6</td>\n",
       "      <td>-60</td>\n",
       "      <td>-158</td>\n",
       "      <td>-359</td>\n",
       "      <td>1.0</td>\n",
       "      <td>0.537088</td>\n",
       "      <td>0.690833</td>\n",
       "      <td>15.143348</td>\n",
       "      <td>35.643013</td>\n",
       "      <td>37.016198</td>\n",
       "    </tr>\n",
       "    <tr>\n",
       "      <th>2</th>\n",
       "      <td>30</td>\n",
       "      <td>24</td>\n",
       "      <td>100.0</td>\n",
       "      <td>71.428571</td>\n",
       "      <td>28.571429</td>\n",
       "      <td>75.140402</td>\n",
       "      <td>65.915803</td>\n",
       "      <td>8.75</td>\n",
       "      <td>17.86</td>\n",
       "      <td>12.28</td>\n",
       "      <td>10.973333</td>\n",
       "      <td>9.3125</td>\n",
       "      <td>5</td>\n",
       "      <td>15</td>\n",
       "      <td>9</td>\n",
       "      <td>-1</td>\n",
       "      <td>65</td>\n",
       "      <td>0.002780</td>\n",
       "      <td>-0.003530</td>\n",
       "      <td>-0.000375</td>\n",
       "      <td>66.666667</td>\n",
       "      <td>83.909974</td>\n",
       "      <td>117.755945</td>\n",
       "      <td>154.452274</td>\n",
       "      <td>164.015689</td>\n",
       "      <td>175.947530</td>\n",
       "      <td>160.181486</td>\n",
       "      <td>155.527932</td>\n",
       "      <td>205.238017</td>\n",
       "      <td>197.993551</td>\n",
       "      <td>28.917197</td>\n",
       "      <td>3</td>\n",
       "      <td>39.648290</td>\n",
       "      <td>-4</td>\n",
       "      <td>-11</td>\n",
       "      <td>-21</td>\n",
       "      <td>-22</td>\n",
       "      <td>-24</td>\n",
       "      <td>-36</td>\n",
       "      <td>-42</td>\n",
       "      <td>...</td>\n",
       "      <td>97.910664</td>\n",
       "      <td>1.179236</td>\n",
       "      <td>-0.756393</td>\n",
       "      <td>98.839991</td>\n",
       "      <td>1.190429</td>\n",
       "      <td>99.093554</td>\n",
       "      <td>-0.000062</td>\n",
       "      <td>11.888112</td>\n",
       "      <td>-0.156925</td>\n",
       "      <td>20.634921</td>\n",
       "      <td>-0.000091</td>\n",
       "      <td>1.197419</td>\n",
       "      <td>-0.318831</td>\n",
       "      <td>0.0</td>\n",
       "      <td>0.0</td>\n",
       "      <td>0.0</td>\n",
       "      <td>0.0</td>\n",
       "      <td>0.0</td>\n",
       "      <td>0.0</td>\n",
       "      <td>-4.278922</td>\n",
       "      <td>-40.428126</td>\n",
       "      <td>-23.250410</td>\n",
       "      <td>-0.000309</td>\n",
       "      <td>0.005860</td>\n",
       "      <td>-0.005802</td>\n",
       "      <td>-48</td>\n",
       "      <td>-10</td>\n",
       "      <td>-30</td>\n",
       "      <td>0.003561</td>\n",
       "      <td>2.7</td>\n",
       "      <td>-58.4</td>\n",
       "      <td>-60</td>\n",
       "      <td>-160</td>\n",
       "      <td>-362</td>\n",
       "      <td>1.0</td>\n",
       "      <td>0.615169</td>\n",
       "      <td>0.693040</td>\n",
       "      <td>15.146870</td>\n",
       "      <td>35.651301</td>\n",
       "      <td>-37.024805</td>\n",
       "    </tr>\n",
       "    <tr>\n",
       "      <th>3</th>\n",
       "      <td>37</td>\n",
       "      <td>30</td>\n",
       "      <td>100.0</td>\n",
       "      <td>64.285714</td>\n",
       "      <td>35.714286</td>\n",
       "      <td>76.677846</td>\n",
       "      <td>68.584234</td>\n",
       "      <td>7.80</td>\n",
       "      <td>14.76</td>\n",
       "      <td>12.61</td>\n",
       "      <td>10.426667</td>\n",
       "      <td>9.4150</td>\n",
       "      <td>11</td>\n",
       "      <td>18</td>\n",
       "      <td>8</td>\n",
       "      <td>0</td>\n",
       "      <td>68</td>\n",
       "      <td>0.002679</td>\n",
       "      <td>-0.003961</td>\n",
       "      <td>-0.000641</td>\n",
       "      <td>66.666667</td>\n",
       "      <td>98.596644</td>\n",
       "      <td>100.147384</td>\n",
       "      <td>139.695620</td>\n",
       "      <td>158.006863</td>\n",
       "      <td>171.688382</td>\n",
       "      <td>161.192133</td>\n",
       "      <td>156.413230</td>\n",
       "      <td>203.641362</td>\n",
       "      <td>200.370912</td>\n",
       "      <td>31.449631</td>\n",
       "      <td>3</td>\n",
       "      <td>40.902782</td>\n",
       "      <td>-5</td>\n",
       "      <td>-10</td>\n",
       "      <td>-21</td>\n",
       "      <td>-23</td>\n",
       "      <td>-26</td>\n",
       "      <td>-37</td>\n",
       "      <td>-44</td>\n",
       "      <td>...</td>\n",
       "      <td>97.870334</td>\n",
       "      <td>1.179249</td>\n",
       "      <td>-0.756073</td>\n",
       "      <td>98.801500</td>\n",
       "      <td>1.190469</td>\n",
       "      <td>99.056290</td>\n",
       "      <td>-0.000062</td>\n",
       "      <td>11.805556</td>\n",
       "      <td>-0.156858</td>\n",
       "      <td>20.472441</td>\n",
       "      <td>-0.000091</td>\n",
       "      <td>1.197509</td>\n",
       "      <td>-0.318696</td>\n",
       "      <td>0.0</td>\n",
       "      <td>0.0</td>\n",
       "      <td>0.0</td>\n",
       "      <td>0.0</td>\n",
       "      <td>0.0</td>\n",
       "      <td>0.0</td>\n",
       "      <td>-1.355422</td>\n",
       "      <td>-45.019355</td>\n",
       "      <td>-19.499975</td>\n",
       "      <td>0.001137</td>\n",
       "      <td>-0.018252</td>\n",
       "      <td>0.018070</td>\n",
       "      <td>-51</td>\n",
       "      <td>-10</td>\n",
       "      <td>-30</td>\n",
       "      <td>0.004366</td>\n",
       "      <td>0.9</td>\n",
       "      <td>-61.8</td>\n",
       "      <td>-65</td>\n",
       "      <td>-166</td>\n",
       "      <td>-367</td>\n",
       "      <td>1.0</td>\n",
       "      <td>0.661517</td>\n",
       "      <td>0.673418</td>\n",
       "      <td>15.153283</td>\n",
       "      <td>0.000000</td>\n",
       "      <td>-37.040483</td>\n",
       "    </tr>\n",
       "    <tr>\n",
       "      <th>4</th>\n",
       "      <td>41</td>\n",
       "      <td>37</td>\n",
       "      <td>100.0</td>\n",
       "      <td>57.142857</td>\n",
       "      <td>42.857143</td>\n",
       "      <td>81.603007</td>\n",
       "      <td>76.455495</td>\n",
       "      <td>14.90</td>\n",
       "      <td>11.92</td>\n",
       "      <td>14.25</td>\n",
       "      <td>11.406667</td>\n",
       "      <td>9.8925</td>\n",
       "      <td>13</td>\n",
       "      <td>23</td>\n",
       "      <td>10</td>\n",
       "      <td>10</td>\n",
       "      <td>91</td>\n",
       "      <td>0.003986</td>\n",
       "      <td>-0.004624</td>\n",
       "      <td>-0.000319</td>\n",
       "      <td>66.666667</td>\n",
       "      <td>149.283572</td>\n",
       "      <td>124.092409</td>\n",
       "      <td>168.275524</td>\n",
       "      <td>196.846256</td>\n",
       "      <td>208.017747</td>\n",
       "      <td>193.924291</td>\n",
       "      <td>184.995906</td>\n",
       "      <td>227.848369</td>\n",
       "      <td>223.561880</td>\n",
       "      <td>50.406504</td>\n",
       "      <td>2</td>\n",
       "      <td>48.462194</td>\n",
       "      <td>-18</td>\n",
       "      <td>-26</td>\n",
       "      <td>-37</td>\n",
       "      <td>-40</td>\n",
       "      <td>-43</td>\n",
       "      <td>-53</td>\n",
       "      <td>-61</td>\n",
       "      <td>...</td>\n",
       "      <td>97.705214</td>\n",
       "      <td>1.179263</td>\n",
       "      <td>-0.754789</td>\n",
       "      <td>98.637028</td>\n",
       "      <td>1.190509</td>\n",
       "      <td>98.892717</td>\n",
       "      <td>-0.000062</td>\n",
       "      <td>11.724138</td>\n",
       "      <td>-0.156592</td>\n",
       "      <td>20.312500</td>\n",
       "      <td>-0.000091</td>\n",
       "      <td>1.197600</td>\n",
       "      <td>-0.318155</td>\n",
       "      <td>0.0</td>\n",
       "      <td>0.0</td>\n",
       "      <td>0.0</td>\n",
       "      <td>0.0</td>\n",
       "      <td>0.0</td>\n",
       "      <td>0.0</td>\n",
       "      <td>-0.116144</td>\n",
       "      <td>-54.849177</td>\n",
       "      <td>-25.348270</td>\n",
       "      <td>0.001552</td>\n",
       "      <td>-0.007183</td>\n",
       "      <td>0.007111</td>\n",
       "      <td>-70</td>\n",
       "      <td>-24</td>\n",
       "      <td>-45</td>\n",
       "      <td>0.004198</td>\n",
       "      <td>0.1</td>\n",
       "      <td>-79.8</td>\n",
       "      <td>-86</td>\n",
       "      <td>-186</td>\n",
       "      <td>-388</td>\n",
       "      <td>1.0</td>\n",
       "      <td>0.747204</td>\n",
       "      <td>0.700522</td>\n",
       "      <td>-15.179065</td>\n",
       "      <td>-35.727079</td>\n",
       "      <td>-37.103503</td>\n",
       "    </tr>\n",
       "  </tbody>\n",
       "</table>\n",
       "<p>5 rows × 136 columns</p>\n",
       "</div>"
      ],
      "text/plain": [
       "   ind_5  ind_6  ind_8      ind_9  ...   ind_428  20_target  50_target  90_target\n",
       "0     19     17  100.0  85.714286  ...  0.701906  15.135802  35.625252  36.997753\n",
       "1     24     19  100.0  78.571429  ...  0.690833  15.143348  35.643013  37.016198\n",
       "2     30     24  100.0  71.428571  ...  0.693040  15.146870  35.651301 -37.024805\n",
       "3     37     30  100.0  64.285714  ...  0.673418  15.153283   0.000000 -37.040483\n",
       "4     41     37  100.0  57.142857  ...  0.700522 -15.179065 -35.727079 -37.103503\n",
       "\n",
       "[5 rows x 136 columns]"
      ]
     },
     "execution_count": 12,
     "metadata": {
      "tags": []
     },
     "output_type": "execute_result"
    }
   ],
   "source": [
    "import io\n",
    "from pandas import read_excel\n",
    "df= read_excel('HW_Data_Set.xlsx', sheet_name = 'Sheet1')\n",
    "dfnb=df.copy()\n",
    "dfnb.head()"
   ]
  },
  {
   "cell_type": "code",
   "execution_count": 13,
   "metadata": {
    "colab": {
     "base_uri": "https://localhost:8080/",
     "height": 297
    },
    "colab_type": "code",
    "id": "L13JQCR-LgrS",
    "outputId": "55bc0b30-dc41-4213-81e1-b33f79d4f31d"
   },
   "outputs": [
    {
     "data": {
      "text/plain": [
       "<matplotlib.axes._subplots.AxesSubplot at 0x7fec36345898>"
      ]
     },
     "execution_count": 13,
     "metadata": {
      "tags": []
     },
     "output_type": "execute_result"
    },
    {
     "data": {
      "image/png": "[encoded data removed]",
      "text/plain": [
       "<Figure size 432x288 with 1 Axes>"
      ]
     },
     "metadata": {
      "needs_background": "light",
      "tags": []
     },
     "output_type": "display_data"
    }
   ],
   "source": [
    "import seaborn as sns\n",
    "sns.distplot(dfnb[\"90_target\"],kde=False)"
   ]
  },
  {
   "cell_type": "code",
   "execution_count": 14,
   "metadata": {
    "colab": {
     "base_uri": "https://localhost:8080/",
     "height": 34
    },
    "colab_type": "code",
    "id": "jsKJk3p_sCsm",
    "outputId": "cc0b3771-48c5-4217-8a54-92311b37d2f4"
   },
   "outputs": [
    {
     "data": {
      "text/plain": [
       "37.01957905"
      ]
     },
     "execution_count": 14,
     "metadata": {
      "tags": []
     },
     "output_type": "execute_result"
    }
   ],
   "source": [
    "dfnb[\"90_target\"][100]"
   ]
  },
  {
   "cell_type": "code",
   "execution_count": 15,
   "metadata": {
    "colab": {
     "base_uri": "https://localhost:8080/",
     "height": 272
    },
    "colab_type": "code",
    "id": "byb1nZOlpcai",
    "outputId": "a9d13b1f-308f-45fd-e6c7-34e99e9ecfd1"
   },
   "outputs": [
    {
     "name": "stderr",
     "output_type": "stream",
     "text": [
      "/usr/local/lib/python3.6/dist-packages/ipykernel_launcher.py:7: SettingWithCopyWarning: \n",
      "A value is trying to be set on a copy of a slice from a DataFrame\n",
      "\n",
      "See the caveats in the documentation: https://pandas.pydata.org/pandas-docs/stable/user_guide/indexing.html#returning-a-view-versus-a-copy\n",
      "  import sys\n",
      "/usr/local/lib/python3.6/dist-packages/ipykernel_launcher.py:3: SettingWithCopyWarning: \n",
      "A value is trying to be set on a copy of a slice from a DataFrame\n",
      "\n",
      "See the caveats in the documentation: https://pandas.pydata.org/pandas-docs/stable/user_guide/indexing.html#returning-a-view-versus-a-copy\n",
      "  This is separate from the ipykernel package so we can avoid doing imports until\n",
      "/usr/local/lib/python3.6/dist-packages/ipykernel_launcher.py:5: SettingWithCopyWarning: \n",
      "A value is trying to be set on a copy of a slice from a DataFrame\n",
      "\n",
      "See the caveats in the documentation: https://pandas.pydata.org/pandas-docs/stable/user_guide/indexing.html#returning-a-view-versus-a-copy\n",
      "  \"\"\"\n"
     ]
    }
   ],
   "source": [
    "for i in range(len(dfnb[\"90_target\"])):\n",
    "  if dfnb[\"90_target\"][i]>=-40 and dfnb[\"90_target\"][i]<=-30:\n",
    "    dfnb[\"90_target\"][i]=0\n",
    "  if dfnb[\"90_target\"][i]>-10 and dfnb[\"90_target\"][i]<10:\n",
    "    dfnb[\"90_target\"][i]=1\n",
    "  if dfnb[\"90_target\"][i]>30 and dfnb[\"90_target\"][i]<40:\n",
    "    dfnb[\"90_target\"][i]=2\n",
    "  \n"
   ]
  },
  {
   "cell_type": "code",
   "execution_count": 16,
   "metadata": {
    "colab": {},
    "colab_type": "code",
    "id": "E9AJAFjUt080"
   },
   "outputs": [],
   "source": [
    "import numpy as np\n",
    "dfnb=dfnb.replace('?',np.nan)\n",
    "dfnb = dfnb.dropna()"
   ]
  },
  {
   "cell_type": "code",
   "execution_count": 17,
   "metadata": {
    "colab": {
     "base_uri": "https://localhost:8080/",
     "height": 253
    },
    "colab_type": "code",
    "id": "xHjBvwKL0j-R",
    "outputId": "439c179e-bae2-4d37-af62-11338055d22b"
   },
   "outputs": [
    {
     "data": {
      "text/html": [
       "<div>\n",
       "<style scoped>\n",
       "    .dataframe tbody tr th:only-of-type {\n",
       "        vertical-align: middle;\n",
       "    }\n",
       "\n",
       "    .dataframe tbody tr th {\n",
       "        vertical-align: top;\n",
       "    }\n",
       "\n",
       "    .dataframe thead th {\n",
       "        text-align: right;\n",
       "    }\n",
       "</style>\n",
       "<table border=\"1\" class=\"dataframe\">\n",
       "  <thead>\n",
       "    <tr style=\"text-align: right;\">\n",
       "      <th></th>\n",
       "      <th>ind_5</th>\n",
       "      <th>ind_6</th>\n",
       "      <th>ind_8</th>\n",
       "      <th>ind_9</th>\n",
       "      <th>ind_10</th>\n",
       "      <th>ind_12</th>\n",
       "      <th>ind_13</th>\n",
       "      <th>ind_14</th>\n",
       "      <th>ind_15</th>\n",
       "      <th>ind_16</th>\n",
       "      <th>ind_17</th>\n",
       "      <th>ind_18</th>\n",
       "      <th>ind_19</th>\n",
       "      <th>ind_20</th>\n",
       "      <th>ind_21</th>\n",
       "      <th>ind_22</th>\n",
       "      <th>ind_23</th>\n",
       "      <th>ind_25</th>\n",
       "      <th>ind_26</th>\n",
       "      <th>ind_27</th>\n",
       "      <th>ind_28</th>\n",
       "      <th>ind_29</th>\n",
       "      <th>ind_30</th>\n",
       "      <th>ind_31</th>\n",
       "      <th>ind_32</th>\n",
       "      <th>ind_33</th>\n",
       "      <th>ind_34</th>\n",
       "      <th>ind_35</th>\n",
       "      <th>ind_36</th>\n",
       "      <th>ind_37</th>\n",
       "      <th>ind_39</th>\n",
       "      <th>ind_40</th>\n",
       "      <th>ind_41</th>\n",
       "      <th>ind_42</th>\n",
       "      <th>ind_43</th>\n",
       "      <th>ind_44</th>\n",
       "      <th>ind_45</th>\n",
       "      <th>ind_46</th>\n",
       "      <th>ind_47</th>\n",
       "      <th>ind_48</th>\n",
       "      <th>...</th>\n",
       "      <th>ind_243</th>\n",
       "      <th>ind_309</th>\n",
       "      <th>ind_310</th>\n",
       "      <th>ind_311</th>\n",
       "      <th>ind_313</th>\n",
       "      <th>ind_315</th>\n",
       "      <th>ind_316</th>\n",
       "      <th>ind_318</th>\n",
       "      <th>ind_321</th>\n",
       "      <th>ind_324</th>\n",
       "      <th>ind_327</th>\n",
       "      <th>ind_330</th>\n",
       "      <th>ind_332</th>\n",
       "      <th>ind_334</th>\n",
       "      <th>ind_338</th>\n",
       "      <th>ind_340</th>\n",
       "      <th>ind_344</th>\n",
       "      <th>ind_345</th>\n",
       "      <th>ind_347</th>\n",
       "      <th>ind_349</th>\n",
       "      <th>ind_351</th>\n",
       "      <th>ind_352</th>\n",
       "      <th>ind_387</th>\n",
       "      <th>ind_392</th>\n",
       "      <th>ind_397</th>\n",
       "      <th>ind_399</th>\n",
       "      <th>ind_403</th>\n",
       "      <th>ind_404</th>\n",
       "      <th>ind_406</th>\n",
       "      <th>ind_407</th>\n",
       "      <th>ind_410</th>\n",
       "      <th>ind_412</th>\n",
       "      <th>ind_414</th>\n",
       "      <th>ind_416</th>\n",
       "      <th>ind_418</th>\n",
       "      <th>ind_420</th>\n",
       "      <th>ind_422</th>\n",
       "      <th>ind_424</th>\n",
       "      <th>ind_426</th>\n",
       "      <th>ind_428</th>\n",
       "    </tr>\n",
       "  </thead>\n",
       "  <tbody>\n",
       "    <tr>\n",
       "      <th>0</th>\n",
       "      <td>19.0</td>\n",
       "      <td>17.0</td>\n",
       "      <td>100.0</td>\n",
       "      <td>85.714286</td>\n",
       "      <td>14.285714</td>\n",
       "      <td>72.363515</td>\n",
       "      <td>60.808814</td>\n",
       "      <td>23.80</td>\n",
       "      <td>17.62</td>\n",
       "      <td>11.73</td>\n",
       "      <td>12.060000</td>\n",
       "      <td>9.1100</td>\n",
       "      <td>2.0</td>\n",
       "      <td>15.0</td>\n",
       "      <td>13.0</td>\n",
       "      <td>1.0</td>\n",
       "      <td>56.0</td>\n",
       "      <td>0.002690</td>\n",
       "      <td>-0.002670</td>\n",
       "      <td>0.000010</td>\n",
       "      <td>66.666667</td>\n",
       "      <td>93.692449</td>\n",
       "      <td>146.592674</td>\n",
       "      <td>150.505806</td>\n",
       "      <td>154.486989</td>\n",
       "      <td>158.009516</td>\n",
       "      <td>142.421114</td>\n",
       "      <td>142.023350</td>\n",
       "      <td>196.592517</td>\n",
       "      <td>184.819232</td>\n",
       "      <td>31.939605</td>\n",
       "      <td>3.0</td>\n",
       "      <td>30.752568</td>\n",
       "      <td>-5.0</td>\n",
       "      <td>-22.0</td>\n",
       "      <td>-22.0</td>\n",
       "      <td>-21.0</td>\n",
       "      <td>-23.0</td>\n",
       "      <td>-36.0</td>\n",
       "      <td>-40.0</td>\n",
       "      <td>...</td>\n",
       "      <td>1.200346</td>\n",
       "      <td>-0.000013</td>\n",
       "      <td>-1.524694</td>\n",
       "      <td>97.980028</td>\n",
       "      <td>1.179209</td>\n",
       "      <td>-0.756946</td>\n",
       "      <td>98.905563</td>\n",
       "      <td>1.190348</td>\n",
       "      <td>99.156641</td>\n",
       "      <td>-0.000062</td>\n",
       "      <td>12.056738</td>\n",
       "      <td>-0.157039</td>\n",
       "      <td>20.967742</td>\n",
       "      <td>-0.000091</td>\n",
       "      <td>1.197238</td>\n",
       "      <td>-0.319064</td>\n",
       "      <td>0.0</td>\n",
       "      <td>0.0</td>\n",
       "      <td>0.0</td>\n",
       "      <td>0.0</td>\n",
       "      <td>0.0</td>\n",
       "      <td>0.0</td>\n",
       "      <td>-3.731343</td>\n",
       "      <td>-32.587430</td>\n",
       "      <td>-26.386973</td>\n",
       "      <td>-0.003323</td>\n",
       "      <td>0.045130</td>\n",
       "      <td>-0.044678</td>\n",
       "      <td>-44.0</td>\n",
       "      <td>-23.0</td>\n",
       "      <td>-27.0</td>\n",
       "      <td>0.002371</td>\n",
       "      <td>2.0</td>\n",
       "      <td>-49.6</td>\n",
       "      <td>-54.0</td>\n",
       "      <td>-152.0</td>\n",
       "      <td>-353.0</td>\n",
       "      <td>1.0</td>\n",
       "      <td>0.498547</td>\n",
       "      <td>0.701906</td>\n",
       "    </tr>\n",
       "    <tr>\n",
       "      <th>1</th>\n",
       "      <td>24.0</td>\n",
       "      <td>19.0</td>\n",
       "      <td>100.0</td>\n",
       "      <td>78.571429</td>\n",
       "      <td>21.428571</td>\n",
       "      <td>74.275883</td>\n",
       "      <td>64.366798</td>\n",
       "      <td>11.45</td>\n",
       "      <td>18.16</td>\n",
       "      <td>12.22</td>\n",
       "      <td>11.326667</td>\n",
       "      <td>9.2225</td>\n",
       "      <td>0.0</td>\n",
       "      <td>11.0</td>\n",
       "      <td>11.0</td>\n",
       "      <td>1.0</td>\n",
       "      <td>63.0</td>\n",
       "      <td>0.002729</td>\n",
       "      <td>-0.003111</td>\n",
       "      <td>-0.000191</td>\n",
       "      <td>66.666667</td>\n",
       "      <td>76.694104</td>\n",
       "      <td>140.227205</td>\n",
       "      <td>156.903278</td>\n",
       "      <td>161.604303</td>\n",
       "      <td>169.720843</td>\n",
       "      <td>152.634492</td>\n",
       "      <td>149.634976</td>\n",
       "      <td>201.738617</td>\n",
       "      <td>191.985663</td>\n",
       "      <td>38.478501</td>\n",
       "      <td>3.0</td>\n",
       "      <td>36.812130</td>\n",
       "      <td>-6.0</td>\n",
       "      <td>-18.0</td>\n",
       "      <td>-24.0</td>\n",
       "      <td>-24.0</td>\n",
       "      <td>-25.0</td>\n",
       "      <td>-38.0</td>\n",
       "      <td>-43.0</td>\n",
       "      <td>...</td>\n",
       "      <td>1.200129</td>\n",
       "      <td>-0.000013</td>\n",
       "      <td>-1.523934</td>\n",
       "      <td>97.932319</td>\n",
       "      <td>1.179223</td>\n",
       "      <td>-0.756569</td>\n",
       "      <td>98.859627</td>\n",
       "      <td>1.190389</td>\n",
       "      <td>99.111914</td>\n",
       "      <td>-0.000062</td>\n",
       "      <td>11.971831</td>\n",
       "      <td>-0.156961</td>\n",
       "      <td>20.800000</td>\n",
       "      <td>-0.000091</td>\n",
       "      <td>1.197328</td>\n",
       "      <td>-0.318905</td>\n",
       "      <td>0.0</td>\n",
       "      <td>0.0</td>\n",
       "      <td>0.0</td>\n",
       "      <td>0.0</td>\n",
       "      <td>0.0</td>\n",
       "      <td>0.0</td>\n",
       "      <td>-1.369863</td>\n",
       "      <td>-38.115965</td>\n",
       "      <td>-26.085949</td>\n",
       "      <td>-0.000476</td>\n",
       "      <td>0.035314</td>\n",
       "      <td>-0.034961</td>\n",
       "      <td>-48.0</td>\n",
       "      <td>-16.0</td>\n",
       "      <td>-31.0</td>\n",
       "      <td>0.003074</td>\n",
       "      <td>0.8</td>\n",
       "      <td>-55.6</td>\n",
       "      <td>-60.0</td>\n",
       "      <td>-158.0</td>\n",
       "      <td>-359.0</td>\n",
       "      <td>1.0</td>\n",
       "      <td>0.537088</td>\n",
       "      <td>0.690833</td>\n",
       "    </tr>\n",
       "    <tr>\n",
       "      <th>2</th>\n",
       "      <td>30.0</td>\n",
       "      <td>24.0</td>\n",
       "      <td>100.0</td>\n",
       "      <td>71.428571</td>\n",
       "      <td>28.571429</td>\n",
       "      <td>75.140402</td>\n",
       "      <td>65.915803</td>\n",
       "      <td>8.75</td>\n",
       "      <td>17.86</td>\n",
       "      <td>12.28</td>\n",
       "      <td>10.973333</td>\n",
       "      <td>9.3125</td>\n",
       "      <td>5.0</td>\n",
       "      <td>15.0</td>\n",
       "      <td>9.0</td>\n",
       "      <td>-1.0</td>\n",
       "      <td>65.0</td>\n",
       "      <td>0.002780</td>\n",
       "      <td>-0.003530</td>\n",
       "      <td>-0.000375</td>\n",
       "      <td>66.666667</td>\n",
       "      <td>83.909974</td>\n",
       "      <td>117.755945</td>\n",
       "      <td>154.452274</td>\n",
       "      <td>164.015689</td>\n",
       "      <td>175.947530</td>\n",
       "      <td>160.181486</td>\n",
       "      <td>155.527932</td>\n",
       "      <td>205.238017</td>\n",
       "      <td>197.993551</td>\n",
       "      <td>28.917197</td>\n",
       "      <td>3.0</td>\n",
       "      <td>39.648290</td>\n",
       "      <td>-4.0</td>\n",
       "      <td>-11.0</td>\n",
       "      <td>-21.0</td>\n",
       "      <td>-22.0</td>\n",
       "      <td>-24.0</td>\n",
       "      <td>-36.0</td>\n",
       "      <td>-42.0</td>\n",
       "      <td>...</td>\n",
       "      <td>1.199911</td>\n",
       "      <td>-0.000013</td>\n",
       "      <td>-1.523580</td>\n",
       "      <td>97.910664</td>\n",
       "      <td>1.179236</td>\n",
       "      <td>-0.756393</td>\n",
       "      <td>98.839991</td>\n",
       "      <td>1.190429</td>\n",
       "      <td>99.093554</td>\n",
       "      <td>-0.000062</td>\n",
       "      <td>11.888112</td>\n",
       "      <td>-0.156925</td>\n",
       "      <td>20.634921</td>\n",
       "      <td>-0.000091</td>\n",
       "      <td>1.197419</td>\n",
       "      <td>-0.318831</td>\n",
       "      <td>0.0</td>\n",
       "      <td>0.0</td>\n",
       "      <td>0.0</td>\n",
       "      <td>0.0</td>\n",
       "      <td>0.0</td>\n",
       "      <td>0.0</td>\n",
       "      <td>-4.278922</td>\n",
       "      <td>-40.428126</td>\n",
       "      <td>-23.250410</td>\n",
       "      <td>-0.000309</td>\n",
       "      <td>0.005860</td>\n",
       "      <td>-0.005802</td>\n",
       "      <td>-48.0</td>\n",
       "      <td>-10.0</td>\n",
       "      <td>-30.0</td>\n",
       "      <td>0.003561</td>\n",
       "      <td>2.7</td>\n",
       "      <td>-58.4</td>\n",
       "      <td>-60.0</td>\n",
       "      <td>-160.0</td>\n",
       "      <td>-362.0</td>\n",
       "      <td>1.0</td>\n",
       "      <td>0.615169</td>\n",
       "      <td>0.693040</td>\n",
       "    </tr>\n",
       "    <tr>\n",
       "      <th>3</th>\n",
       "      <td>37.0</td>\n",
       "      <td>30.0</td>\n",
       "      <td>100.0</td>\n",
       "      <td>64.285714</td>\n",
       "      <td>35.714286</td>\n",
       "      <td>76.677846</td>\n",
       "      <td>68.584234</td>\n",
       "      <td>7.80</td>\n",
       "      <td>14.76</td>\n",
       "      <td>12.61</td>\n",
       "      <td>10.426667</td>\n",
       "      <td>9.4150</td>\n",
       "      <td>11.0</td>\n",
       "      <td>18.0</td>\n",
       "      <td>8.0</td>\n",
       "      <td>0.0</td>\n",
       "      <td>68.0</td>\n",
       "      <td>0.002679</td>\n",
       "      <td>-0.003961</td>\n",
       "      <td>-0.000641</td>\n",
       "      <td>66.666667</td>\n",
       "      <td>98.596644</td>\n",
       "      <td>100.147384</td>\n",
       "      <td>139.695620</td>\n",
       "      <td>158.006863</td>\n",
       "      <td>171.688382</td>\n",
       "      <td>161.192133</td>\n",
       "      <td>156.413230</td>\n",
       "      <td>203.641362</td>\n",
       "      <td>200.370912</td>\n",
       "      <td>31.449631</td>\n",
       "      <td>3.0</td>\n",
       "      <td>40.902782</td>\n",
       "      <td>-5.0</td>\n",
       "      <td>-10.0</td>\n",
       "      <td>-21.0</td>\n",
       "      <td>-23.0</td>\n",
       "      <td>-26.0</td>\n",
       "      <td>-37.0</td>\n",
       "      <td>-44.0</td>\n",
       "      <td>...</td>\n",
       "      <td>1.199694</td>\n",
       "      <td>-0.000013</td>\n",
       "      <td>-1.522935</td>\n",
       "      <td>97.870334</td>\n",
       "      <td>1.179249</td>\n",
       "      <td>-0.756073</td>\n",
       "      <td>98.801500</td>\n",
       "      <td>1.190469</td>\n",
       "      <td>99.056290</td>\n",
       "      <td>-0.000062</td>\n",
       "      <td>11.805556</td>\n",
       "      <td>-0.156858</td>\n",
       "      <td>20.472441</td>\n",
       "      <td>-0.000091</td>\n",
       "      <td>1.197509</td>\n",
       "      <td>-0.318696</td>\n",
       "      <td>0.0</td>\n",
       "      <td>0.0</td>\n",
       "      <td>0.0</td>\n",
       "      <td>0.0</td>\n",
       "      <td>0.0</td>\n",
       "      <td>0.0</td>\n",
       "      <td>-1.355422</td>\n",
       "      <td>-45.019355</td>\n",
       "      <td>-19.499975</td>\n",
       "      <td>0.001137</td>\n",
       "      <td>-0.018252</td>\n",
       "      <td>0.018070</td>\n",
       "      <td>-51.0</td>\n",
       "      <td>-10.0</td>\n",
       "      <td>-30.0</td>\n",
       "      <td>0.004366</td>\n",
       "      <td>0.9</td>\n",
       "      <td>-61.8</td>\n",
       "      <td>-65.0</td>\n",
       "      <td>-166.0</td>\n",
       "      <td>-367.0</td>\n",
       "      <td>1.0</td>\n",
       "      <td>0.661517</td>\n",
       "      <td>0.673418</td>\n",
       "    </tr>\n",
       "    <tr>\n",
       "      <th>4</th>\n",
       "      <td>41.0</td>\n",
       "      <td>37.0</td>\n",
       "      <td>100.0</td>\n",
       "      <td>57.142857</td>\n",
       "      <td>42.857143</td>\n",
       "      <td>81.603007</td>\n",
       "      <td>76.455495</td>\n",
       "      <td>14.90</td>\n",
       "      <td>11.92</td>\n",
       "      <td>14.25</td>\n",
       "      <td>11.406667</td>\n",
       "      <td>9.8925</td>\n",
       "      <td>13.0</td>\n",
       "      <td>23.0</td>\n",
       "      <td>10.0</td>\n",
       "      <td>10.0</td>\n",
       "      <td>91.0</td>\n",
       "      <td>0.003986</td>\n",
       "      <td>-0.004624</td>\n",
       "      <td>-0.000319</td>\n",
       "      <td>66.666667</td>\n",
       "      <td>149.283572</td>\n",
       "      <td>124.092409</td>\n",
       "      <td>168.275524</td>\n",
       "      <td>196.846256</td>\n",
       "      <td>208.017747</td>\n",
       "      <td>193.924291</td>\n",
       "      <td>184.995906</td>\n",
       "      <td>227.848369</td>\n",
       "      <td>223.561880</td>\n",
       "      <td>50.406504</td>\n",
       "      <td>2.0</td>\n",
       "      <td>48.462194</td>\n",
       "      <td>-18.0</td>\n",
       "      <td>-26.0</td>\n",
       "      <td>-37.0</td>\n",
       "      <td>-40.0</td>\n",
       "      <td>-43.0</td>\n",
       "      <td>-53.0</td>\n",
       "      <td>-61.0</td>\n",
       "      <td>...</td>\n",
       "      <td>1.199477</td>\n",
       "      <td>-0.000013</td>\n",
       "      <td>-1.520349</td>\n",
       "      <td>97.705214</td>\n",
       "      <td>1.179263</td>\n",
       "      <td>-0.754789</td>\n",
       "      <td>98.637028</td>\n",
       "      <td>1.190509</td>\n",
       "      <td>98.892717</td>\n",
       "      <td>-0.000062</td>\n",
       "      <td>11.724138</td>\n",
       "      <td>-0.156592</td>\n",
       "      <td>20.312500</td>\n",
       "      <td>-0.000091</td>\n",
       "      <td>1.197600</td>\n",
       "      <td>-0.318155</td>\n",
       "      <td>0.0</td>\n",
       "      <td>0.0</td>\n",
       "      <td>0.0</td>\n",
       "      <td>0.0</td>\n",
       "      <td>0.0</td>\n",
       "      <td>0.0</td>\n",
       "      <td>-0.116144</td>\n",
       "      <td>-54.849177</td>\n",
       "      <td>-25.348270</td>\n",
       "      <td>0.001552</td>\n",
       "      <td>-0.007183</td>\n",
       "      <td>0.007111</td>\n",
       "      <td>-70.0</td>\n",
       "      <td>-24.0</td>\n",
       "      <td>-45.0</td>\n",
       "      <td>0.004198</td>\n",
       "      <td>0.1</td>\n",
       "      <td>-79.8</td>\n",
       "      <td>-86.0</td>\n",
       "      <td>-186.0</td>\n",
       "      <td>-388.0</td>\n",
       "      <td>1.0</td>\n",
       "      <td>0.747204</td>\n",
       "      <td>0.700522</td>\n",
       "    </tr>\n",
       "  </tbody>\n",
       "</table>\n",
       "<p>5 rows × 132 columns</p>\n",
       "</div>"
      ],
      "text/plain": [
       "   ind_5  ind_6  ind_8      ind_9  ...  ind_422  ind_424   ind_426   ind_428\n",
       "0   19.0   17.0  100.0  85.714286  ...   -353.0      1.0  0.498547  0.701906\n",
       "1   24.0   19.0  100.0  78.571429  ...   -359.0      1.0  0.537088  0.690833\n",
       "2   30.0   24.0  100.0  71.428571  ...   -362.0      1.0  0.615169  0.693040\n",
       "3   37.0   30.0  100.0  64.285714  ...   -367.0      1.0  0.661517  0.673418\n",
       "4   41.0   37.0  100.0  57.142857  ...   -388.0      1.0  0.747204  0.700522\n",
       "\n",
       "[5 rows x 132 columns]"
      ]
     },
     "execution_count": 17,
     "metadata": {
      "tags": []
     },
     "output_type": "execute_result"
    }
   ],
   "source": [
    "y=dfnb[\"90_target\"]\n",
    "X_=dfnb.drop([\"ind_109\",\"50_target\",\"90_target\",\"20_target\"],axis=1).astype('float64')\n",
    "X.head()"
   ]
  },
  {
   "cell_type": "code",
   "execution_count": 18,
   "metadata": {
    "colab": {},
    "colab_type": "code",
    "id": "sK3zrmk00xI8"
   },
   "outputs": [],
   "source": [
    "X_trainNB,X_testNB,y_trainNB,y_testNB=train_test_split(X,y,test_size=0.25, random_state=42)"
   ]
  },
  {
   "cell_type": "code",
   "execution_count": 19,
   "metadata": {
    "colab": {},
    "colab_type": "code",
    "id": "bH31xZ6-21OV"
   },
   "outputs": [],
   "source": [
    "from sklearn.preprocessing import MinMaxScaler\n",
    "scaler = MinMaxScaler()\n",
    "scaler.fit(X_trainNB)\n",
    "X_train_scaled = scaler.transform(X_trainNB)\n",
    "X_test_scaled = scaler.transform(X_testNB)"
   ]
  },
  {
   "cell_type": "code",
   "execution_count": 20,
   "metadata": {
    "colab": {},
    "colab_type": "code",
    "id": "TKbnjkIA01lj"
   },
   "outputs": [],
   "source": [
    "from sklearn.naive_bayes import MultinomialNB"
   ]
  },
  {
   "cell_type": "code",
   "execution_count": 21,
   "metadata": {
    "colab": {
     "base_uri": "https://localhost:8080/",
     "height": 34
    },
    "colab_type": "code",
    "id": "PaAktWkU11XI",
    "outputId": "1054c335-4eb9-45d0-e0cf-ecce931bd053"
   },
   "outputs": [
    {
     "data": {
      "text/plain": [
       "MultinomialNB(alpha=1.0, class_prior=None, fit_prior=True)"
      ]
     },
     "execution_count": 21,
     "metadata": {
      "tags": []
     },
     "output_type": "execute_result"
    }
   ],
   "source": [
    "nb = MultinomialNB()\n",
    "nb_model = nb.fit(X_train_scaled, y_trainNB)\n",
    "nb_model"
   ]
  },
  {
   "cell_type": "code",
   "execution_count": 22,
   "metadata": {
    "colab": {
     "base_uri": "https://localhost:8080/",
     "height": 34
    },
    "colab_type": "code",
    "id": "kZL9b7912BAe",
    "outputId": "0a8e8103-be6f-442a-dc93-1c79824566db"
   },
   "outputs": [
    {
     "data": {
      "text/plain": [
       "0.5889235569422777"
      ]
     },
     "execution_count": 22,
     "metadata": {
      "tags": []
     },
     "output_type": "execute_result"
    }
   ],
   "source": [
    "y_pred = nb_model.predict(X_test_scaled)\n",
    "accuracy_score(y_testNB, y_pred)"
   ]
  },
  {
   "cell_type": "code",
   "execution_count": 23,
   "metadata": {
    "colab": {
     "base_uri": "https://localhost:8080/",
     "height": 34
    },
    "colab_type": "code",
    "id": "lgyU_kJ842ED",
    "outputId": "b861f077-e7ef-431c-9dbc-a124dedfdc72"
   },
   "outputs": [
    {
     "data": {
      "text/plain": [
       "0.5972944849115505"
      ]
     },
     "execution_count": 23,
     "metadata": {
      "tags": []
     },
     "output_type": "execute_result"
    }
   ],
   "source": [
    "y_pred = nb_model.predict(X_train_scaled)\n",
    "accuracy_score(y_trainNB, y_pred)"
   ]
  },
  {
   "cell_type": "code",
   "execution_count": null,
   "metadata": {
    "colab": {},
    "colab_type": "code",
    "id": "Tb9jYb9p5Gsw"
   },
   "outputs": [],
   "source": []
  },
  {
   "cell_type": "markdown",
   "metadata": {
    "colab_type": "text",
    "id": "3VhXfAEH5pLi"
   },
   "source": [
    "# Gradient Boosting Machines"
   ]
  },
  {
   "cell_type": "code",
   "execution_count": 24,
   "metadata": {
    "colab": {},
    "colab_type": "code",
    "id": "nrTTT2A45qDz"
   },
   "outputs": [],
   "source": [
    "from sklearn.ensemble import GradientBoostingRegressor"
   ]
  },
  {
   "cell_type": "code",
   "execution_count": 25,
   "metadata": {
    "colab": {
     "base_uri": "https://localhost:8080/",
     "height": 170
    },
    "colab_type": "code",
    "id": "WhcHdtodAsEv",
    "outputId": "9ac85801-1c01-410d-b955-a443bfbf35e1"
   },
   "outputs": [
    {
     "data": {
      "text/plain": [
       "GradientBoostingRegressor(alpha=0.9, ccp_alpha=0.0, criterion='friedman_mse',\n",
       "                          init=None, learning_rate=0.1, loss='ls', max_depth=3,\n",
       "                          max_features=None, max_leaf_nodes=None,\n",
       "                          min_impurity_decrease=0.0, min_impurity_split=None,\n",
       "                          min_samples_leaf=1, min_samples_split=2,\n",
       "                          min_weight_fraction_leaf=0.0, n_estimators=100,\n",
       "                          n_iter_no_change=None, presort='deprecated',\n",
       "                          random_state=None, subsample=1.0, tol=0.0001,\n",
       "                          validation_fraction=0.1, verbose=0, warm_start=False)"
      ]
     },
     "execution_count": 25,
     "metadata": {
      "tags": []
     },
     "output_type": "execute_result"
    }
   ],
   "source": [
    "gbm_model = GradientBoostingRegressor()\n",
    "gbm_model.fit(X_train, y_train)"
   ]
  },
  {
   "cell_type": "code",
   "execution_count": 26,
   "metadata": {
    "colab": {
     "base_uri": "https://localhost:8080/",
     "height": 34
    },
    "colab_type": "code",
    "id": "9GP6aX5XAuE7",
    "outputId": "19115901-def9-4933-89b8-9e524b15f87f"
   },
   "outputs": [
    {
     "data": {
      "text/plain": [
       "24.805329251200742"
      ]
     },
     "execution_count": 26,
     "metadata": {
      "tags": []
     },
     "output_type": "execute_result"
    }
   ],
   "source": [
    "y_pred = gbm_model.predict(X_test)\n",
    "np.sqrt(mean_squared_error(y_test, y_pred))"
   ]
  },
  {
   "cell_type": "markdown",
   "metadata": {
    "colab_type": "text",
    "id": "D-MY656-M6W6"
   },
   "source": [
    "## Model Tuning"
   ]
  },
  {
   "cell_type": "code",
   "execution_count": 38,
   "metadata": {
    "colab": {},
    "colab_type": "code",
    "id": "lxI5EfHYAu72"
   },
   "outputs": [],
   "source": [
    "gbm_params = {\n",
    "    'learning_rate': [0.1, 0.2],\n",
    "    'max_depth': [3, 5, 8]\n",
    " }"
   ]
  },
  {
   "cell_type": "code",
   "execution_count": 39,
   "metadata": {
    "colab": {
     "base_uri": "https://localhost:8080/",
     "height": 476
    },
    "colab_type": "code",
    "id": "is-EVcnYAvF0",
    "outputId": "d3c6360f-789c-46ba-8dec-9065c3a628f1"
   },
   "outputs": [
    {
     "name": "stdout",
     "output_type": "stream",
     "text": [
      "Fitting 10 folds for each of 6 candidates, totalling 60 fits\n"
     ]
    },
    {
     "name": "stderr",
     "output_type": "stream",
     "text": [
      "[Parallel(n_jobs=-1)]: Using backend LokyBackend with 2 concurrent workers.\n",
      "[Parallel(n_jobs=-1)]: Done  37 tasks      | elapsed:  7.0min\n",
      "[Parallel(n_jobs=-1)]: Done  60 out of  60 | elapsed: 12.1min finished\n"
     ]
    },
    {
     "data": {
      "text/plain": [
       "GridSearchCV(cv=10, error_score=nan,\n",
       "             estimator=GradientBoostingRegressor(alpha=0.9, ccp_alpha=0.0,\n",
       "                                                 criterion='friedman_mse',\n",
       "                                                 init=None, learning_rate=0.1,\n",
       "                                                 loss='ls', max_depth=3,\n",
       "                                                 max_features=None,\n",
       "                                                 max_leaf_nodes=None,\n",
       "                                                 min_impurity_decrease=0.0,\n",
       "                                                 min_impurity_split=None,\n",
       "                                                 min_samples_leaf=1,\n",
       "                                                 min_samples_split=2,\n",
       "                                                 min_weight_fraction_leaf=0.0,\n",
       "                                                 n_estimators=100,\n",
       "                                                 n_iter_no_change=None,\n",
       "                                                 presort='deprecated',\n",
       "                                                 random_state=None,\n",
       "                                                 subsample=1.0, tol=0.0001,\n",
       "                                                 validation_fraction=0.1,\n",
       "                                                 verbose=0, warm_start=False),\n",
       "             iid='deprecated', n_jobs=-1,\n",
       "             param_grid={'learning_rate': [0.1, 0.2], 'max_depth': [3, 5, 8]},\n",
       "             pre_dispatch='2*n_jobs', refit=True, return_train_score=False,\n",
       "             scoring=None, verbose=2)"
      ]
     },
     "execution_count": 39,
     "metadata": {
      "tags": []
     },
     "output_type": "execute_result"
    }
   ],
   "source": [
    "gbm = GradientBoostingRegressor()\n",
    "gbm_cv_model = GridSearchCV(gbm, gbm_params, cv = 10, n_jobs = -1, verbose = 2)\n",
    "gbm_cv_model.fit(X_train, y_train)"
   ]
  },
  {
   "cell_type": "code",
   "execution_count": 40,
   "metadata": {
    "colab": {
     "base_uri": "https://localhost:8080/",
     "height": 34
    },
    "colab_type": "code",
    "id": "5IyK0mikAv2p",
    "outputId": "4719e7af-a8af-45bc-a551-e2c10eb8a4d7"
   },
   "outputs": [
    {
     "data": {
      "text/plain": [
       "{'learning_rate': 0.2, 'max_depth': 8}"
      ]
     },
     "execution_count": 40,
     "metadata": {
      "tags": []
     },
     "output_type": "execute_result"
    }
   ],
   "source": [
    "gbm_cv_model.best_params_"
   ]
  },
  {
   "cell_type": "code",
   "execution_count": 41,
   "metadata": {
    "colab": {},
    "colab_type": "code",
    "id": "mPizEMhvAuA1"
   },
   "outputs": [],
   "source": [
    "gbm_tuned = GradientBoostingRegressor(learning_rate = 0.2,  \n",
    "                                      max_depth = 8)\n",
    "\n",
    "gbm_tuned = gbm_tuned.fit(X_train,y_train)"
   ]
  },
  {
   "cell_type": "code",
   "execution_count": 42,
   "metadata": {
    "colab": {
     "base_uri": "https://localhost:8080/",
     "height": 34
    },
    "colab_type": "code",
    "id": "l3CNq5_pAt8h",
    "outputId": "cd93d895-2962-4974-aa37-35b954830026"
   },
   "outputs": [
    {
     "data": {
      "text/plain": [
       "14.832047729201628"
      ]
     },
     "execution_count": 42,
     "metadata": {
      "tags": []
     },
     "output_type": "execute_result"
    }
   ],
   "source": [
    "y_pred = gbm_tuned.predict(X_test)\n",
    "np.sqrt(mean_squared_error(y_test, y_pred))"
   ]
  },
  {
   "cell_type": "code",
   "execution_count": 43,
   "metadata": {
    "colab": {
     "base_uri": "https://localhost:8080/",
     "height": 34
    },
    "colab_type": "code",
    "id": "WNT25D81NxQo",
    "outputId": "2d2ef018-e279-4849-f720-ec8338163a1e"
   },
   "outputs": [
    {
     "data": {
      "text/plain": [
       "0.9748468424606203"
      ]
     },
     "execution_count": 43,
     "metadata": {
      "tags": []
     },
     "output_type": "execute_result"
    }
   ],
   "source": [
    "y_pred = gbm_tuned.predict(X_train)\n",
    "np.sqrt(mean_squared_error(y_train, y_pred))"
   ]
  },
  {
   "cell_type": "code",
   "execution_count": 44,
   "metadata": {
    "colab": {},
    "colab_type": "code",
    "id": "0xobvV40N8XI"
   },
   "outputs": [],
   "source": [
    "Importance = pd.DataFrame({\"Importance\": gbm_tuned.feature_importances_*100},\n",
    "                         index = X_train.columns)"
   ]
  },
  {
   "cell_type": "code",
   "execution_count": 47,
   "metadata": {
    "colab": {
     "base_uri": "https://localhost:8080/",
     "height": 301
    },
    "colab_type": "code",
    "id": "-UJR6cGUN86O",
    "outputId": "5a36fefc-9091-4e42-9ac6-e60bdc068097"
   },
   "outputs": [
    {
     "data": {
      "text/plain": [
       "Text(0.5, 0, 'Değişken Önem Düzeyleri')"
      ]
     },
     "execution_count": 47,
     "metadata": {
      "tags": []
     },
     "output_type": "execute_result"
    },
    {
     "data": {
      "image/png": "[encoded data removed]",
      "text/plain": [
       "<Figure size 432x288 with 1 Axes>"
      ]
     },
     "metadata": {
      "needs_background": "light",
      "tags": []
     },
     "output_type": "display_data"
    }
   ],
   "source": [
    "import matplotlib.pyplot as plt\n",
    "Importance.sort_values(by = \"Importance\", \n",
    "                       axis = 0, \n",
    "                       ascending = True).plot(kind =\"barh\", color = \"r\")\n",
    "\n",
    "plt.xlabel(\"Değişken Önem Düzeyleri\")"
   ]
  },
  {
   "cell_type": "markdown",
   "metadata": {
    "colab_type": "text",
    "id": "KYWpDwUQtPNY"
   },
   "source": [
    "# KNN"
   ]
  },
  {
   "cell_type": "code",
   "execution_count": 48,
   "metadata": {
    "colab": {},
    "colab_type": "code",
    "id": "LAzvTE0ptNp9"
   },
   "outputs": [],
   "source": [
    "from sklearn.neighbors import KNeighborsRegressor"
   ]
  },
  {
   "cell_type": "code",
   "execution_count": 49,
   "metadata": {
    "colab": {},
    "colab_type": "code",
    "id": "OjNZIpL7tWjy"
   },
   "outputs": [],
   "source": [
    "knn_model = KNeighborsRegressor().fit(X_train, y_train)"
   ]
  },
  {
   "cell_type": "code",
   "execution_count": 51,
   "metadata": {
    "colab": {
     "base_uri": "https://localhost:8080/",
     "height": 34
    },
    "colab_type": "code",
    "id": "wcAiyF7AtW1r",
    "outputId": "db80e4c4-4329-4b0d-e512-f8db5de6030f"
   },
   "outputs": [
    {
     "data": {
      "text/plain": [
       "5"
      ]
     },
     "execution_count": 51,
     "metadata": {
      "tags": []
     },
     "output_type": "execute_result"
    }
   ],
   "source": [
    "knn_model.n_neighbors"
   ]
  },
  {
   "cell_type": "code",
   "execution_count": 52,
   "metadata": {
    "colab": {
     "base_uri": "https://localhost:8080/",
     "height": 34
    },
    "colab_type": "code",
    "id": "EwPvYNpYtWyx",
    "outputId": "9627fd21-b057-4076-ceb3-24aef40f3b4c"
   },
   "outputs": [
    {
     "data": {
      "text/plain": [
       "27.517771605527976"
      ]
     },
     "execution_count": 52,
     "metadata": {
      "tags": []
     },
     "output_type": "execute_result"
    }
   ],
   "source": [
    "y_pred = knn_model.predict(X_test)\n",
    "np.sqrt(mean_squared_error(y_test, y_pred))"
   ]
  },
  {
   "cell_type": "code",
   "execution_count": 53,
   "metadata": {
    "colab": {
     "base_uri": "https://localhost:8080/",
     "height": 187
    },
    "colab_type": "code",
    "id": "RrYIbeSfuMO3",
    "outputId": "bcaae367-d827-4525-d5fd-37a56bf26c1c"
   },
   "outputs": [
    {
     "name": "stdout",
     "output_type": "stream",
     "text": [
      "k = 1 için RMSE değeri:  0.0\n",
      "k = 2 için RMSE değeri:  13.51511997525359\n",
      "k = 3 için RMSE değeri:  17.254904221084033\n",
      "k = 4 için RMSE değeri:  19.99267145959896\n",
      "k = 5 için RMSE değeri:  21.54128374996204\n",
      "k = 6 için RMSE değeri:  22.86496993147191\n",
      "k = 7 için RMSE değeri:  23.939374449305355\n",
      "k = 8 için RMSE değeri:  25.029812513040145\n",
      "k = 9 için RMSE değeri:  25.906740470110506\n",
      "k = 10 için RMSE değeri:  26.591824411675375\n"
     ]
    }
   ],
   "source": [
    "RMSE = [] \n",
    "\n",
    "for k in range(10):\n",
    "    k = k+1\n",
    "    knn_model = KNeighborsRegressor(n_neighbors = k).fit(X_train, y_train)\n",
    "    y_pred = knn_model.predict(X_train) \n",
    "    rmse = np.sqrt(mean_squared_error(y_train,y_pred)) \n",
    "    RMSE.append(rmse) \n",
    "    print(\"k =\" , k , \"için RMSE değeri: \", rmse)"
   ]
  },
  {
   "cell_type": "markdown",
   "metadata": {
    "colab_type": "text",
    "id": "FmdhYjyDt5fa"
   },
   "source": [
    "## Model Tuning"
   ]
  },
  {
   "cell_type": "code",
   "execution_count": 58,
   "metadata": {
    "colab": {},
    "colab_type": "code",
    "id": "879QKNmptroq"
   },
   "outputs": [],
   "source": [
    "knn_params = {'n_neighbors': np.arange(1,10,1)}"
   ]
  },
  {
   "cell_type": "code",
   "execution_count": 59,
   "metadata": {
    "colab": {},
    "colab_type": "code",
    "id": "pMtex4wOt-ni"
   },
   "outputs": [],
   "source": [
    "knn = KNeighborsRegressor()"
   ]
  },
  {
   "cell_type": "code",
   "execution_count": 60,
   "metadata": {
    "colab": {},
    "colab_type": "code",
    "id": "jxtD-CS1t-_F"
   },
   "outputs": [],
   "source": [
    "knn_cv_model = GridSearchCV(knn, knn_params, cv = 10)"
   ]
  },
  {
   "cell_type": "code",
   "execution_count": 61,
   "metadata": {
    "colab": {
     "base_uri": "https://localhost:8080/",
     "height": 187
    },
    "colab_type": "code",
    "id": "X5DVwJFbt_Qk",
    "outputId": "8b7229c7-9fd6-4c3a-e285-cc3d1de68e33"
   },
   "outputs": [
    {
     "data": {
      "text/plain": [
       "GridSearchCV(cv=10, error_score=nan,\n",
       "             estimator=KNeighborsRegressor(algorithm='auto', leaf_size=30,\n",
       "                                           metric='minkowski',\n",
       "                                           metric_params=None, n_jobs=None,\n",
       "                                           n_neighbors=5, p=2,\n",
       "                                           weights='uniform'),\n",
       "             iid='deprecated', n_jobs=None,\n",
       "             param_grid={'n_neighbors': array([1, 2, 3, 4, 5, 6, 7, 8, 9])},\n",
       "             pre_dispatch='2*n_jobs', refit=True, return_train_score=False,\n",
       "             scoring=None, verbose=0)"
      ]
     },
     "execution_count": 61,
     "metadata": {
      "tags": []
     },
     "output_type": "execute_result"
    }
   ],
   "source": [
    "knn_cv_model.fit(X_train, y_train)"
   ]
  },
  {
   "cell_type": "code",
   "execution_count": 62,
   "metadata": {
    "colab": {
     "base_uri": "https://localhost:8080/",
     "height": 34
    },
    "colab_type": "code",
    "id": "i8XuAGOHt_eh",
    "outputId": "29e7e3fc-5090-4767-9744-4e12423cf475"
   },
   "outputs": [
    {
     "data": {
      "text/plain": [
       "2"
      ]
     },
     "execution_count": 62,
     "metadata": {
      "tags": []
     },
     "output_type": "execute_result"
    }
   ],
   "source": [
    "knn_cv_model.best_params_[\"n_neighbors\"]"
   ]
  },
  {
   "cell_type": "code",
   "execution_count": 63,
   "metadata": {
    "colab": {
     "base_uri": "https://localhost:8080/",
     "height": 187
    },
    "colab_type": "code",
    "id": "7SKxx2HMt-iC",
    "outputId": "9bab4f73-f445-45ca-8918-759d654255b6"
   },
   "outputs": [
    {
     "name": "stdout",
     "output_type": "stream",
     "text": [
      "k = 1 için RMSE değeri:  0.0 RMSE_CV değeri:  28.016986643457802\n",
      "k = 2 için RMSE değeri:  13.51511997525359 RMSE_CV değeri:  26.633409871739197\n",
      "k = 3 için RMSE değeri:  17.254904221084033 RMSE_CV değeri:  27.23621444834389\n",
      "k = 4 için RMSE değeri:  19.99267145959896 RMSE_CV değeri:  27.3914076263531\n",
      "k = 5 için RMSE değeri:  21.54128374996204 RMSE_CV değeri:  27.86505215469714\n",
      "k = 6 için RMSE değeri:  22.86496993147191 RMSE_CV değeri:  28.550626370922714\n",
      "k = 7 için RMSE değeri:  23.939374449305355 RMSE_CV değeri:  29.219244955855412\n",
      "k = 8 için RMSE değeri:  25.029812513040145 RMSE_CV değeri:  29.621653581511918\n",
      "k = 9 için RMSE değeri:  25.906740470110506 RMSE_CV değeri:  29.977755742903696\n",
      "k = 10 için RMSE değeri:  26.591824411675375 RMSE_CV değeri:  30.29438781769275\n"
     ]
    }
   ],
   "source": [
    "RMSE = [] \n",
    "RMSE_CV = []\n",
    "for k in range(10):\n",
    "    k = k+1\n",
    "    knn_model = KNeighborsRegressor(n_neighbors = k).fit(X_train, y_train)\n",
    "    y_pred = knn_model.predict(X_train) \n",
    "    rmse = np.sqrt(mean_squared_error(y_train,y_pred)) \n",
    "    rmse_cv = np.sqrt(-1*cross_val_score(knn_model, X_train, y_train, cv=10, \n",
    "                                         scoring = \"neg_mean_squared_error\").mean())\n",
    "    RMSE.append(rmse) \n",
    "    RMSE_CV.append(rmse_cv)\n",
    "    print(\"k =\" , k , \"için RMSE değeri: \", rmse, \"RMSE_CV değeri: \", rmse_cv )"
   ]
  },
  {
   "cell_type": "code",
   "execution_count": 64,
   "metadata": {
    "colab": {
     "base_uri": "https://localhost:8080/",
     "height": 68
    },
    "colab_type": "code",
    "id": "n6VNPzi4t-dR",
    "outputId": "a363bcb1-1fd8-4e13-a90f-be3794feb269"
   },
   "outputs": [
    {
     "data": {
      "text/plain": [
       "KNeighborsRegressor(algorithm='auto', leaf_size=30, metric='minkowski',\n",
       "                    metric_params=None, n_jobs=None, n_neighbors=2, p=2,\n",
       "                    weights='uniform')"
      ]
     },
     "execution_count": 64,
     "metadata": {
      "tags": []
     },
     "output_type": "execute_result"
    }
   ],
   "source": [
    "knn_tuned = KNeighborsRegressor(n_neighbors = knn_cv_model.best_params_[\"n_neighbors\"])\n",
    "knn_tuned.fit(X_train, y_train)"
   ]
  },
  {
   "cell_type": "code",
   "execution_count": 65,
   "metadata": {
    "colab": {
     "base_uri": "https://localhost:8080/",
     "height": 34
    },
    "colab_type": "code",
    "id": "Kgv77V22tWv8",
    "outputId": "66d0be32-c460-471d-bc82-286cdb62aa84"
   },
   "outputs": [
    {
     "data": {
      "text/plain": [
       "26.66611299566255"
      ]
     },
     "execution_count": 65,
     "metadata": {
      "tags": []
     },
     "output_type": "execute_result"
    }
   ],
   "source": [
    "np.sqrt(mean_squared_error(y_test, knn_tuned.predict(X_test)))"
   ]
  },
  {
   "cell_type": "code",
   "execution_count": null,
   "metadata": {
    "colab": {},
    "colab_type": "code",
    "id": "cxwKy_2MtWr9"
   },
   "outputs": [],
   "source": []
  }
 ],
 "metadata": {
  "colab": {
   "collapsed_sections": [],
   "name": "Reg_DT_RF_NN.ipynb",
   "provenance": []
  },
  "kernelspec": {
   "display_name": "Python 3",
   "language": "python",
   "name": "python3"
  },
  "language_info": {
   "codemirror_mode": {
    "name": "ipython",
    "version": 3
   },
   "file_extension": ".py",
   "mimetype": "text/x-python",
   "name": "python",
   "nbconvert_exporter": "python",
   "pygments_lexer": "ipython3",
   "version": "3.7.6"
  }
 },
 "nbformat": 4,
 "nbformat_minor": 4
}
