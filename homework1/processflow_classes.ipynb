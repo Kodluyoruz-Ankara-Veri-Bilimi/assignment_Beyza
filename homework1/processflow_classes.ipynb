{
 "cells": [
  {
   "cell_type": "code",
   "execution_count": 1,
   "metadata": {},
   "outputs": [],
   "source": [
    "     \n",
    "class prepro():\n",
    "    def __init__(self, data):\n",
    "        self.data=data\n",
    "    \n",
    "    def info(self):\n",
    "        import pandas as pd \n",
    "        from pandas import Series, DataFrame\n",
    "        \n",
    "        print(self.data.head())\n",
    "        \n",
    "        print(\"DATA INFORMATION:\")\n",
    "        print(self.data.info())\n",
    "        \n",
    "        print(\"DATA DESCRIPTION:\")\n",
    "        print(self.data.describe())\n",
    "        \n",
    "        print(\"NULL VALUES:\")\n",
    "        print(self.data.isnull().sum(axis = 0))\n",
    "    \n",
    "class inf_stats(): \n",
    "    def __init__(self, data):\n",
    "        self.data=data\n",
    "        \n",
    "    def corr(self):\n",
    "        import seaborn as sns\n",
    "        import matplotlib.pyplot as plt       \n",
    "        fig,ax = plt.subplots(figsize=(7, 7))\n",
    "        sns.heatmap(self.data.corr(), ax=ax, annot=True, linewidths=0.05, fmt= '.2f',cmap=\"magma\")\n",
    "        plt.show()\n",
    "\n",
    "    def norm_test(self, column):\n",
    "        import pylab\n",
    "        import scipy.stats as stats\n",
    "        from scipy.stats import shapiro\n",
    "        \n",
    "        print(\"H0: Data normally distributed\\n\")      \n",
    "        \n",
    "        \n",
    "        stat, p= shapiro(self.data[column])\n",
    "        print(\"Statistic= {} , p-val={}\".format( stat, p))\n",
    "        \n",
    "        if p>0.05:\n",
    "            print(\"H0-> Fail to Reject. Data is normally distributed.\")\n",
    "        else:\n",
    "            print(\"H0-> Reject. Data is not normally distributed.\")\n",
    "        \n",
    "        #Probability plot çizdirerek, görselleştirme de yapıyoruz.\n",
    "        stats.probplot(self.data[column],dist='norm',plot=pylab)\n",
    "        pylab.show()\n",
    "        \n",
    "    def t_test(self, popmean, column):\n",
    "        import scipy.stats as stats \n",
    "        import statsmodels.stats.api as sms\n",
    "        \n",
    "        #one- sample t-test \n",
    "        self.column=column\n",
    "        self.popmean=popmean\n",
    "        print(\"Hypothesis:\\nH0:μ0={}\\n\".format(self.popmean))\n",
    "        \n",
    "        #calculation of p-value and statistic\n",
    "        stat, pval=stats.ttest_1samp(self.data[self.column],popmean=self.popmean)\n",
    "        print('RESULT=\\nStatistics=%.3f,p-value=%.3f' % (stat,pval))\n",
    "        \n",
    "        #confidence interval\n",
    "        cf=sms.DescrStatsW(self.data[self.column]).tconfint_mean()\n",
    "        print(\"Confidence Interval={}\\n\".format(cf))\n",
    "        \n",
    "        if pval<0.05:\n",
    "            print(\"Reject H0 --> μ0≠{}\". format(self.popmean))\n",
    "        else:\n",
    "            print(\"Fail to reject H0 --> μ0={}\". format(self.popmean))\n",
    "     \n",
    "    def num_cat(self,cl1,cl2):\n",
    "        import pandas as pd \n",
    "        import numpy as np \n",
    "        from scipy.stats import shapiro \n",
    "        A=Series(self.data[cl1].iloc[:][data[cl2]==1])\n",
    "        B=Series(self.data[cl1].iloc[:][data[cl2]==0])\n",
    "        \n",
    "        #A_B=pd.concat([A,B], axis=1)\n",
    "        #A_B.columns=[\"A\",\"B\"]\n",
    "\n",
    "        print(\"    ******KS TEST******   \")\n",
    "        print(\"HİPOTEZ:\")\n",
    "        print(\"H0:{}-{}=1 and {}-{} =0 have same distribution\\n\".format(cl1,cl2,cl1,cl2))\n",
    "        import scipy\n",
    "        \n",
    "        stat, p=scipy.stats.ks_2samp(A,B)\n",
    "        print(\"Statistic= {}, p-val={}\".format(stat,p))\n",
    "        if p<0.05:\n",
    "            print(\"H0--> Reject. They have different distribution\\n\")\n",
    "        else:\n",
    "            print(\"H0--> Fail to Reject.\\n\")\n",
    "        \n",
    "        import scipy.stats as stats\n",
    "        \n",
    "        print(\"VARIANCE:\")\n",
    "        print(\"HİPOTEZ:\")\n",
    "        print(\"H0:'{}' and '{}' have same variance\\n\".format(cl1,cl2))\n",
    "        \n",
    "        stat, p=stats.levene(A,B)\n",
    "        print(\"Statistic= {}, p-val={}\".format(stat,p))\n",
    "        if p<0.05:\n",
    "            print(\"H0--> Reject. They have different variance\\n\")\n",
    "        else:\n",
    "            print(\"H0--> Fail to Reject.\")\n",
    "            \n",
    "        if p<0.05:\n",
    "            equal_var=False\n",
    "        else:\n",
    "            equal_var=True\n",
    "        print(\"MEAN:\")\n",
    "        stat, p=stats.ttest_ind(A,B)\n",
    "        print(\"Statistic= {}, p-val={}\".format(stat,p))\n",
    "        if p<0.05:\n",
    "            print(\"H0--> Reject. They have different mean\\n\")\n",
    "        else:\n",
    "            print(\"H0--> Fail to Reject.\")\n",
    "            \n",
    "    def chi2(self,cl1,cl2):\n",
    "        import scipy.stats \n",
    "        cross=pd.crosstab(index=self.data[cl2], columns=self.data[cl1])\n",
    "        from numbers import Number\n",
    "        chi2,p,dof,expected= scipy.stats.chi2_contingency(cross)#survived ve sex arasında bağlantı var mı?\n",
    "        result=[[\"chi\",chi2],[\"p\",p]]\n",
    "        print(result)\n",
    "\n",
    "    \n",
    "    \n",
    "    def box_2samp(self,cl1,cl2):\n",
    "        import matplotlib.pyplot as plt\n",
    "        import seaborn as sns\n",
    "        figg=plt.figure(figsize=(5,5))\n",
    "        sns.boxplot(x=data[cl1],y=data[cl2])\n",
    "\n",
    "class visualize():\n",
    "    def __init__(self, data):\n",
    "        self.data=data\n",
    "    \n",
    "    def hist_all(self):\n",
    "        import matplotlib.pyplot as plt\n",
    "        #self.column=column\n",
    "        \n",
    "        for col in self.data.columns:\n",
    "            fig=self.data[col].plot.hist()\n",
    "            fig.set_title(col)\n",
    "            plt.show()\n",
    "\n",
    "        \n",
    "        \n",
    "\n",
    "class model():\n",
    "    pass\n",
    "class supervised(model): #inheritance\n",
    "    def regression():\n",
    "        pass\n",
    "    def classification():\n",
    "        pass\n",
    "class unsupervised(model):\n",
    "    def clustering():\n",
    "        pass"
   ]
  },
  {
   "cell_type": "code",
   "execution_count": 4,
   "metadata": {},
   "outputs": [
    {
     "data": {
      "text/html": [
       "<div>\n",
       "<style scoped>\n",
       "    .dataframe tbody tr th:only-of-type {\n",
       "        vertical-align: middle;\n",
       "    }\n",
       "\n",
       "    .dataframe tbody tr th {\n",
       "        vertical-align: top;\n",
       "    }\n",
       "\n",
       "    .dataframe thead th {\n",
       "        text-align: right;\n",
       "    }\n",
       "</style>\n",
       "<table border=\"1\" class=\"dataframe\">\n",
       "  <thead>\n",
       "    <tr style=\"text-align: right;\">\n",
       "      <th></th>\n",
       "      <th>bad</th>\n",
       "      <th>loan</th>\n",
       "      <th>mortdue</th>\n",
       "      <th>value</th>\n",
       "      <th>reason</th>\n",
       "      <th>job</th>\n",
       "      <th>yoj</th>\n",
       "      <th>derog</th>\n",
       "      <th>delinq</th>\n",
       "      <th>clage</th>\n",
       "      <th>ninq</th>\n",
       "      <th>clno</th>\n",
       "      <th>debtinc</th>\n",
       "    </tr>\n",
       "  </thead>\n",
       "  <tbody>\n",
       "    <tr>\n",
       "      <th>153</th>\n",
       "      <td>0</td>\n",
       "      <td>18200</td>\n",
       "      <td>94727.0</td>\n",
       "      <td>136877.0</td>\n",
       "      <td>DebtCon</td>\n",
       "      <td>Mgr</td>\n",
       "      <td>15.0</td>\n",
       "      <td>0.0</td>\n",
       "      <td>0.0</td>\n",
       "      <td>168.96</td>\n",
       "      <td>2.0</td>\n",
       "      <td>26.0</td>\n",
       "      <td>36.056</td>\n",
       "    </tr>\n",
       "    <tr>\n",
       "      <th>154</th>\n",
       "      <td>0</td>\n",
       "      <td>21700</td>\n",
       "      <td>79240.0</td>\n",
       "      <td>96784.0</td>\n",
       "      <td>DebtCon</td>\n",
       "      <td>Mgr</td>\n",
       "      <td>5.0</td>\n",
       "      <td>0.0</td>\n",
       "      <td>0.0</td>\n",
       "      <td>64.51</td>\n",
       "      <td>6.0</td>\n",
       "      <td>24.0</td>\n",
       "      <td>38.079</td>\n",
       "    </tr>\n",
       "    <tr>\n",
       "      <th>155</th>\n",
       "      <td>0</td>\n",
       "      <td>34100</td>\n",
       "      <td>241931.0</td>\n",
       "      <td>36486.0</td>\n",
       "      <td>DebtCon</td>\n",
       "      <td>Mgr</td>\n",
       "      <td>1.0</td>\n",
       "      <td>0.0</td>\n",
       "      <td>2.0</td>\n",
       "      <td>196.01</td>\n",
       "      <td>3.0</td>\n",
       "      <td>50.0</td>\n",
       "      <td>42.459</td>\n",
       "    </tr>\n",
       "    <tr>\n",
       "      <th>156</th>\n",
       "      <td>0</td>\n",
       "      <td>8400</td>\n",
       "      <td>62989.0</td>\n",
       "      <td>76718.0</td>\n",
       "      <td>HomeImp</td>\n",
       "      <td>Mgr</td>\n",
       "      <td>3.0</td>\n",
       "      <td>0.0</td>\n",
       "      <td>2.0</td>\n",
       "      <td>131.47</td>\n",
       "      <td>0.0</td>\n",
       "      <td>22.0</td>\n",
       "      <td>29.200</td>\n",
       "    </tr>\n",
       "    <tr>\n",
       "      <th>157</th>\n",
       "      <td>0</td>\n",
       "      <td>17400</td>\n",
       "      <td>25859.0</td>\n",
       "      <td>43684.0</td>\n",
       "      <td>DebtCon</td>\n",
       "      <td>Mgr</td>\n",
       "      <td>16.0</td>\n",
       "      <td>1.0</td>\n",
       "      <td>0.0</td>\n",
       "      <td>95.36</td>\n",
       "      <td>1.0</td>\n",
       "      <td>17.0</td>\n",
       "      <td>27.108</td>\n",
       "    </tr>\n",
       "  </tbody>\n",
       "</table>\n",
       "</div>"
      ],
      "text/plain": [
       "     bad   loan   mortdue     value   reason  job   yoj  derog  delinq  \\\n",
       "153    0  18200   94727.0  136877.0  DebtCon  Mgr  15.0    0.0     0.0   \n",
       "154    0  21700   79240.0   96784.0  DebtCon  Mgr   5.0    0.0     0.0   \n",
       "155    0  34100  241931.0   36486.0  DebtCon  Mgr   1.0    0.0     2.0   \n",
       "156    0   8400   62989.0   76718.0  HomeImp  Mgr   3.0    0.0     2.0   \n",
       "157    0  17400   25859.0   43684.0  DebtCon  Mgr  16.0    1.0     0.0   \n",
       "\n",
       "      clage  ninq  clno  debtinc  \n",
       "153  168.96   2.0  26.0   36.056  \n",
       "154   64.51   6.0  24.0   38.079  \n",
       "155  196.01   3.0  50.0   42.459  \n",
       "156  131.47   0.0  22.0   29.200  \n",
       "157   95.36   1.0  17.0   27.108  "
      ]
     },
     "execution_count": 4,
     "metadata": {},
     "output_type": "execute_result"
    }
   ],
   "source": [
    "import pandas as pd\n",
    "from pandas import Series, DataFrame\n",
    "dat=pd.read_csv(\"hmelq.csv\")\n",
    "data=dat.copy()\n",
    "data=data.dropna()\n",
    "data.head()\n"
   ]
  },
  {
   "cell_type": "markdown",
   "metadata": {},
   "source": [
    "# Data Information"
   ]
  },
  {
   "cell_type": "code",
   "execution_count": 77,
   "metadata": {},
   "outputs": [
    {
     "name": "stdout",
     "output_type": "stream",
     "text": [
      "     bad   loan   mortdue     value   reason  job   yoj  derog  delinq  \\\n",
      "153    0  18200   94727.0  136877.0  DebtCon  Mgr  15.0    0.0     0.0   \n",
      "154    0  21700   79240.0   96784.0  DebtCon  Mgr   5.0    0.0     0.0   \n",
      "155    0  34100  241931.0   36486.0  DebtCon  Mgr   1.0    0.0     2.0   \n",
      "156    0   8400   62989.0   76718.0  HomeImp  Mgr   3.0    0.0     2.0   \n",
      "157    0  17400   25859.0   43684.0  DebtCon  Mgr  16.0    1.0     0.0   \n",
      "\n",
      "      clage  ninq  clno  debtinc  \n",
      "153  168.96   2.0  26.0   36.056  \n",
      "154   64.51   6.0  24.0   38.079  \n",
      "155  196.01   3.0  50.0   42.459  \n",
      "156  131.47   0.0  22.0   29.200  \n",
      "157   95.36   1.0  17.0   27.108  \n",
      "DATA INFORMATION:\n",
      "<class 'pandas.core.frame.DataFrame'>\n",
      "Int64Index: 2018 entries, 153 to 3549\n",
      "Data columns (total 13 columns):\n",
      " #   Column   Non-Null Count  Dtype  \n",
      "---  ------   --------------  -----  \n",
      " 0   bad      2018 non-null   int64  \n",
      " 1   loan     2018 non-null   int64  \n",
      " 2   mortdue  2018 non-null   float64\n",
      " 3   value    2018 non-null   float64\n",
      " 4   reason   2018 non-null   object \n",
      " 5   job      2018 non-null   object \n",
      " 6   yoj      2018 non-null   float64\n",
      " 7   derog    2018 non-null   float64\n",
      " 8   delinq   2018 non-null   float64\n",
      " 9   clage    2018 non-null   float64\n",
      " 10  ninq     2018 non-null   float64\n",
      " 11  clno     2018 non-null   float64\n",
      " 12  debtinc  2018 non-null   float64\n",
      "dtypes: float64(9), int64(2), object(2)\n",
      "memory usage: 220.7+ KB\n",
      "None\n",
      "DATA DESCRIPTION:\n",
      "               bad          loan        mortdue          value          yoj  \\\n",
      "count  2018.000000   2018.000000    2018.000000    2018.000000  2018.000000   \n",
      "mean      0.088206  19010.257681   76337.035183  106899.244797     9.003964   \n",
      "std       0.283665  10768.607345   44476.368189   54026.707096     7.573012   \n",
      "min       0.000000   1700.000000    5076.000000   23031.000000     0.000000   \n",
      "25%       0.000000  12000.000000   49577.250000   71287.250000     3.000000   \n",
      "50%       0.000000  16900.000000   67595.000000   94514.000000     7.000000   \n",
      "75%       0.000000  23600.000000   92922.750000  121220.750000    13.000000   \n",
      "max       1.000000  89900.000000  399412.000000  512650.000000    41.000000   \n",
      "\n",
      "             derog       delinq        clage         ninq         clno  \\\n",
      "count  2018.000000  2018.000000  2018.000000  2018.000000  2018.000000   \n",
      "mean      0.150149     0.264123   180.645020     1.037661    22.265114   \n",
      "std       0.580421     0.789816    84.420116     1.578414     9.457238   \n",
      "min       0.000000     0.000000     0.490000     0.000000     0.000000   \n",
      "25%       0.000000     0.000000   118.205000     0.000000    16.000000   \n",
      "50%       0.000000     0.000000   176.670000     0.000000    21.000000   \n",
      "75%       0.000000     0.000000   229.692500     2.000000    27.000000   \n",
      "max      10.000000    10.000000  1168.230000    13.000000    64.000000   \n",
      "\n",
      "           debtinc  \n",
      "count  2018.000000  \n",
      "mean     34.105829  \n",
      "std       8.438411  \n",
      "min       4.030000  \n",
      "25%      29.295500  \n",
      "50%      34.949000  \n",
      "75%      38.952000  \n",
      "max     144.189000  \n",
      "NULL VALUES:\n",
      "bad        0\n",
      "loan       0\n",
      "mortdue    0\n",
      "value      0\n",
      "reason     0\n",
      "job        0\n",
      "yoj        0\n",
      "derog      0\n",
      "delinq     0\n",
      "clage      0\n",
      "ninq       0\n",
      "clno       0\n",
      "debtinc    0\n",
      "dtype: int64\n"
     ]
    }
   ],
   "source": [
    "df=prepro(data)\n",
    "df.info()"
   ]
  },
  {
   "cell_type": "code",
   "execution_count": null,
   "metadata": {},
   "outputs": [],
   "source": []
  },
  {
   "cell_type": "code",
   "execution_count": 47,
   "metadata": {},
   "outputs": [
    {
     "data": {
      "text/plain": [
       "<matplotlib.axes._subplots.AxesSubplot at 0xae90f48>"
      ]
     },
     "execution_count": 47,
     "metadata": {},
     "output_type": "execute_result"
    },
    {
     "data": {
      "image/png": "[encoded data removed]",
      "text/plain": [
       "<Figure size 432x288 with 1 Axes>"
      ]
     },
     "metadata": {
      "needs_background": "light"
     },
     "output_type": "display_data"
    }
   ],
   "source": [
    "import seaborn as sns\n",
    "sns.countplot(\"bad\", data=data)"
   ]
  },
  {
   "cell_type": "markdown",
   "metadata": {},
   "source": [
    "## Categorical Variables"
   ]
  },
  {
   "cell_type": "code",
   "execution_count": 66,
   "metadata": {},
   "outputs": [
    {
     "data": {
      "text/plain": [
       "{'job', 'reason'}"
      ]
     },
     "execution_count": 66,
     "metadata": {},
     "output_type": "execute_result"
    }
   ],
   "source": [
    "col=data.columns\n",
    "num_cols=data._get_numeric_data().columns\n",
    "CAT=set(col)-set(num_cols)\n",
    "CAT"
   ]
  },
  {
   "cell_type": "code",
   "execution_count": 44,
   "metadata": {},
   "outputs": [
    {
     "data": {
      "text/plain": [
       "<matplotlib.axes._subplots.AxesSubplot at 0x1ae52548>"
      ]
     },
     "execution_count": 44,
     "metadata": {},
     "output_type": "execute_result"
    },
    {
     "data": {
      "image/png": "[encoded data removed]",
      "text/plain": [
       "<Figure size 432x288 with 1 Axes>"
      ]
     },
     "metadata": {
      "needs_background": "light"
     },
     "output_type": "display_data"
    }
   ],
   "source": [
    "sns.countplot(\"reason\", hue=\"bad\", data=data)"
   ]
  },
  {
   "cell_type": "code",
   "execution_count": 7,
   "metadata": {},
   "outputs": [
    {
     "data": {
      "text/plain": [
       "<matplotlib.axes._subplots.AxesSubplot at 0xba25488>"
      ]
     },
     "execution_count": 7,
     "metadata": {},
     "output_type": "execute_result"
    },
    {
     "data": {
      "image/png": "[encoded data removed]",
      "text/plain": [
       "<Figure size 432x288 with 1 Axes>"
      ]
     },
     "metadata": {
      "needs_background": "light"
     },
     "output_type": "display_data"
    }
   ],
   "source": [
    "sns.countplot(\"job\", hue=\"bad\", data=data)"
   ]
  },
  {
   "cell_type": "code",
   "execution_count": 37,
   "metadata": {},
   "outputs": [
    {
     "data": {
      "text/html": [
       "<style  type=\"text/css\" >\n",
       "    #T_b1d5105a_d34b_11ea_b9a4_206a8a6d25f9row0_col0 {\n",
       "            background-color:  #7f2704;\n",
       "            color:  #f1f1f1;\n",
       "        }    #T_b1d5105a_d34b_11ea_b9a4_206a8a6d25f9row0_col1 {\n",
       "            background-color:  #7f2704;\n",
       "            color:  #f1f1f1;\n",
       "        }    #T_b1d5105a_d34b_11ea_b9a4_206a8a6d25f9row0_col2 {\n",
       "            background-color:  #7f2704;\n",
       "            color:  #f1f1f1;\n",
       "        }    #T_b1d5105a_d34b_11ea_b9a4_206a8a6d25f9row0_col3 {\n",
       "            background-color:  #7f2704;\n",
       "            color:  #f1f1f1;\n",
       "        }    #T_b1d5105a_d34b_11ea_b9a4_206a8a6d25f9row0_col4 {\n",
       "            background-color:  #7f2704;\n",
       "            color:  #f1f1f1;\n",
       "        }    #T_b1d5105a_d34b_11ea_b9a4_206a8a6d25f9row0_col5 {\n",
       "            background-color:  #7f2704;\n",
       "            color:  #f1f1f1;\n",
       "        }    #T_b1d5105a_d34b_11ea_b9a4_206a8a6d25f9row1_col0 {\n",
       "            background-color:  #fff5eb;\n",
       "            color:  #000000;\n",
       "        }    #T_b1d5105a_d34b_11ea_b9a4_206a8a6d25f9row1_col1 {\n",
       "            background-color:  #fff5eb;\n",
       "            color:  #000000;\n",
       "        }    #T_b1d5105a_d34b_11ea_b9a4_206a8a6d25f9row1_col2 {\n",
       "            background-color:  #fff5eb;\n",
       "            color:  #000000;\n",
       "        }    #T_b1d5105a_d34b_11ea_b9a4_206a8a6d25f9row1_col3 {\n",
       "            background-color:  #fff5eb;\n",
       "            color:  #000000;\n",
       "        }    #T_b1d5105a_d34b_11ea_b9a4_206a8a6d25f9row1_col4 {\n",
       "            background-color:  #fff5eb;\n",
       "            color:  #000000;\n",
       "        }    #T_b1d5105a_d34b_11ea_b9a4_206a8a6d25f9row1_col5 {\n",
       "            background-color:  #fff5eb;\n",
       "            color:  #000000;\n",
       "        }</style><table id=\"T_b1d5105a_d34b_11ea_b9a4_206a8a6d25f9\" ><thead>    <tr>        <th class=\"index_name level0\" >job</th>        <th class=\"col_heading level0 col0\" >Mgr</th>        <th class=\"col_heading level0 col1\" >Office</th>        <th class=\"col_heading level0 col2\" >Other</th>        <th class=\"col_heading level0 col3\" >ProfEx</th>        <th class=\"col_heading level0 col4\" >Sales</th>        <th class=\"col_heading level0 col5\" >Self</th>    </tr>    <tr>        <th class=\"index_name level0\" >bad</th>        <th class=\"blank\" ></th>        <th class=\"blank\" ></th>        <th class=\"blank\" ></th>        <th class=\"blank\" ></th>        <th class=\"blank\" ></th>        <th class=\"blank\" ></th>    </tr></thead><tbody>\n",
       "                <tr>\n",
       "                        <th id=\"T_b1d5105a_d34b_11ea_b9a4_206a8a6d25f9level0_row0\" class=\"row_heading level0 row0\" >0</th>\n",
       "                        <td id=\"T_b1d5105a_d34b_11ea_b9a4_206a8a6d25f9row0_col0\" class=\"data row0 col0\" >242</td>\n",
       "                        <td id=\"T_b1d5105a_d34b_11ea_b9a4_206a8a6d25f9row0_col1\" class=\"data row0 col1\" >326</td>\n",
       "                        <td id=\"T_b1d5105a_d34b_11ea_b9a4_206a8a6d25f9row0_col2\" class=\"data row0 col2\" >694</td>\n",
       "                        <td id=\"T_b1d5105a_d34b_11ea_b9a4_206a8a6d25f9row0_col3\" class=\"data row0 col3\" >504</td>\n",
       "                        <td id=\"T_b1d5105a_d34b_11ea_b9a4_206a8a6d25f9row0_col4\" class=\"data row0 col4\" >23</td>\n",
       "                        <td id=\"T_b1d5105a_d34b_11ea_b9a4_206a8a6d25f9row0_col5\" class=\"data row0 col5\" >51</td>\n",
       "            </tr>\n",
       "            <tr>\n",
       "                        <th id=\"T_b1d5105a_d34b_11ea_b9a4_206a8a6d25f9level0_row1\" class=\"row_heading level0 row1\" >1</th>\n",
       "                        <td id=\"T_b1d5105a_d34b_11ea_b9a4_206a8a6d25f9row1_col0\" class=\"data row1 col0\" >27</td>\n",
       "                        <td id=\"T_b1d5105a_d34b_11ea_b9a4_206a8a6d25f9row1_col1\" class=\"data row1 col1\" >22</td>\n",
       "                        <td id=\"T_b1d5105a_d34b_11ea_b9a4_206a8a6d25f9row1_col2\" class=\"data row1 col2\" >80</td>\n",
       "                        <td id=\"T_b1d5105a_d34b_11ea_b9a4_206a8a6d25f9row1_col3\" class=\"data row1 col3\" >35</td>\n",
       "                        <td id=\"T_b1d5105a_d34b_11ea_b9a4_206a8a6d25f9row1_col4\" class=\"data row1 col4\" >7</td>\n",
       "                        <td id=\"T_b1d5105a_d34b_11ea_b9a4_206a8a6d25f9row1_col5\" class=\"data row1 col5\" >7</td>\n",
       "            </tr>\n",
       "    </tbody></table>"
      ],
      "text/plain": [
       "<pandas.io.formats.style.Styler at 0x97b5948>"
      ]
     },
     "execution_count": 37,
     "metadata": {},
     "output_type": "execute_result"
    }
   ],
   "source": [
    "pd.crosstab(data[\"bad\"], data[\"job\"]).style.background_gradient(cmap=\"Oranges\")"
   ]
  },
  {
   "cell_type": "code",
   "execution_count": 32,
   "metadata": {},
   "outputs": [
    {
     "data": {
      "text/html": [
       "<style  type=\"text/css\" >\n",
       "    #T_f86161a6_d349_11ea_aa06_206a8a6d25f9row0_col0 {\n",
       "            background-color:  #7f2704;\n",
       "            color:  #f1f1f1;\n",
       "        }    #T_f86161a6_d349_11ea_aa06_206a8a6d25f9row0_col1 {\n",
       "            background-color:  #7f2704;\n",
       "            color:  #f1f1f1;\n",
       "        }    #T_f86161a6_d349_11ea_aa06_206a8a6d25f9row1_col0 {\n",
       "            background-color:  #fff5eb;\n",
       "            color:  #000000;\n",
       "        }    #T_f86161a6_d349_11ea_aa06_206a8a6d25f9row1_col1 {\n",
       "            background-color:  #fff5eb;\n",
       "            color:  #000000;\n",
       "        }</style><table id=\"T_f86161a6_d349_11ea_aa06_206a8a6d25f9\" ><thead>    <tr>        <th class=\"index_name level0\" >reason</th>        <th class=\"col_heading level0 col0\" >DebtCon</th>        <th class=\"col_heading level0 col1\" >HomeImp</th>    </tr>    <tr>        <th class=\"index_name level0\" >bad</th>        <th class=\"blank\" ></th>        <th class=\"blank\" ></th>    </tr></thead><tbody>\n",
       "                <tr>\n",
       "                        <th id=\"T_f86161a6_d349_11ea_aa06_206a8a6d25f9level0_row0\" class=\"row_heading level0 row0\" >0</th>\n",
       "                        <td id=\"T_f86161a6_d349_11ea_aa06_206a8a6d25f9row0_col0\" class=\"data row0 col0\" >1304</td>\n",
       "                        <td id=\"T_f86161a6_d349_11ea_aa06_206a8a6d25f9row0_col1\" class=\"data row0 col1\" >536</td>\n",
       "            </tr>\n",
       "            <tr>\n",
       "                        <th id=\"T_f86161a6_d349_11ea_aa06_206a8a6d25f9level0_row1\" class=\"row_heading level0 row1\" >1</th>\n",
       "                        <td id=\"T_f86161a6_d349_11ea_aa06_206a8a6d25f9row1_col0\" class=\"data row1 col0\" >124</td>\n",
       "                        <td id=\"T_f86161a6_d349_11ea_aa06_206a8a6d25f9row1_col1\" class=\"data row1 col1\" >54</td>\n",
       "            </tr>\n",
       "    </tbody></table>"
      ],
      "text/plain": [
       "<pandas.io.formats.style.Styler at 0x5a99cc8>"
      ]
     },
     "execution_count": 32,
     "metadata": {},
     "output_type": "execute_result"
    }
   ],
   "source": [
    "pd.crosstab(data[\"bad\"], data[\"reason\"]).style.background_gradient(cmap=\"Oranges\")"
   ]
  },
  {
   "cell_type": "code",
   "execution_count": 79,
   "metadata": {},
   "outputs": [
    {
     "name": "stdout",
     "output_type": "stream",
     "text": [
      "[['chi', 17.653162201450712], ['p', 0.0034140218372415696]]\n"
     ]
    }
   ],
   "source": [
    "df1=inf_stats(data)\n",
    "df1.chi2(\"job\",\"bad\")"
   ]
  },
  {
   "cell_type": "code",
   "execution_count": 80,
   "metadata": {},
   "outputs": [
    {
     "name": "stdout",
     "output_type": "stream",
     "text": [
      "[['chi', 0.06334081421292037], ['p', 0.8012915011681949]]\n"
     ]
    }
   ],
   "source": [
    "df1.chi2(\"reason\",\"bad\")"
   ]
  },
  {
   "cell_type": "markdown",
   "metadata": {},
   "source": [
    "\"reason\" has no effect on \"bad\""
   ]
  },
  {
   "cell_type": "markdown",
   "metadata": {},
   "source": [
    "## Numerical Variables"
   ]
  },
  {
   "cell_type": "code",
   "execution_count": 81,
   "metadata": {},
   "outputs": [],
   "source": [
    "num_data=data.drop([\"bad\",\"job\",\"reason\"],axis=1)"
   ]
  },
  {
   "cell_type": "code",
   "execution_count": 86,
   "metadata": {},
   "outputs": [],
   "source": [
    "df_v=visualize(num_data)"
   ]
  },
  {
   "cell_type": "code",
   "execution_count": 87,
   "metadata": {},
   "outputs": [
    {
     "data": {
      "image/png": "[encoded data removed]",
      "text/plain": [
       "<Figure size 432x288 with 1 Axes>"
      ]
     },
     "metadata": {
      "needs_background": "light"
     },
     "output_type": "display_data"
    },
    {
     "data": {
      "image/png": "[encoded data removed]",
      "text/plain": [
       "<Figure size 432x288 with 1 Axes>"
      ]
     },
     "metadata": {
      "needs_background": "light"
     },
     "output_type": "display_data"
    },
    {
     "data": {
      "image/png": "[encoded data removed]",
      "text/plain": [
       "<Figure size 432x288 with 1 Axes>"
      ]
     },
     "metadata": {
      "needs_background": "light"
     },
     "output_type": "display_data"
    },
    {
     "data": {
      "image/png": "[encoded data removed]",
      "text/plain": [
       "<Figure size 432x288 with 1 Axes>"
      ]
     },
     "metadata": {
      "needs_background": "light"
     },
     "output_type": "display_data"
    },
    {
     "data": {
      "image/png": "[encoded data removed]",
      "text/plain": [
       "<Figure size 432x288 with 1 Axes>"
      ]
     },
     "metadata": {
      "needs_background": "light"
     },
     "output_type": "display_data"
    },
    {
     "data": {
      "image/png": "[encoded data removed]",
      "text/plain": [
       "<Figure size 432x288 with 1 Axes>"
      ]
     },
     "metadata": {
      "needs_background": "light"
     },
     "output_type": "display_data"
    },
    {
     "data": {
      "image/png": "[encoded data removed]",
      "text/plain": [
       "<Figure size 432x288 with 1 Axes>"
      ]
     },
     "metadata": {
      "needs_background": "light"
     },
     "output_type": "display_data"
    },
    {
     "data": {
      "image/png": "[encoded data removed]",
      "text/plain": [
       "<Figure size 432x288 with 1 Axes>"
      ]
     },
     "metadata": {
      "needs_background": "light"
     },
     "output_type": "display_data"
    },
    {
     "data": {
      "image/png": "[encoded data removed]",
      "text/plain": [
       "<Figure size 432x288 with 1 Axes>"
      ]
     },
     "metadata": {
      "needs_background": "light"
     },
     "output_type": "display_data"
    },
    {
     "data": {
      "image/png": "[encoded data removed]",
      "text/plain": [
       "<Figure size 432x288 with 1 Axes>"
      ]
     },
     "metadata": {
      "needs_background": "light"
     },
     "output_type": "display_data"
    }
   ],
   "source": [
    "df_v.hist_all()"
   ]
  },
  {
   "cell_type": "markdown",
   "metadata": {},
   "source": [
    "## Numerik Verilerin Normallik Testi"
   ]
  },
  {
   "cell_type": "code",
   "execution_count": 85,
   "metadata": {},
   "outputs": [
    {
     "name": "stdout",
     "output_type": "stream",
     "text": [
      "LOAN\n",
      "H0: Data normally distributed\n",
      "\n",
      "Statistic= 0.8360166549682617 , p-val=1.9721874586907475e-41\n",
      "H0-> Reject. Data is not normally distributed.\n"
     ]
    },
    {
     "data": {
      "image/png": "[encoded data removed]",
      "text/plain": [
       "<Figure size 432x288 with 1 Axes>"
      ]
     },
     "metadata": {
      "needs_background": "light"
     },
     "output_type": "display_data"
    },
    {
     "name": "stdout",
     "output_type": "stream",
     "text": [
      "None\n",
      "MORTDUE\n",
      "H0: Data normally distributed\n",
      "\n",
      "Statistic= 0.8624268174171448 , p-val=7.460412130575895e-39\n",
      "H0-> Reject. Data is not normally distributed.\n"
     ]
    },
    {
     "data": {
      "image/png": "[encoded data removed]",
      "text/plain": [
       "<Figure size 432x288 with 1 Axes>"
      ]
     },
     "metadata": {
      "needs_background": "light"
     },
     "output_type": "display_data"
    },
    {
     "name": "stdout",
     "output_type": "stream",
     "text": [
      "None\n",
      "VALUE\n",
      "H0: Data normally distributed\n",
      "\n",
      "Statistic= 0.8436811566352844 , p-val=1.0142738414629458e-40\n",
      "H0-> Reject. Data is not normally distributed.\n"
     ]
    },
    {
     "data": {
      "image/png": "[encoded data removed]",
      "text/plain": [
       "<Figure size 432x288 with 1 Axes>"
      ]
     },
     "metadata": {
      "needs_background": "light"
     },
     "output_type": "display_data"
    },
    {
     "name": "stdout",
     "output_type": "stream",
     "text": [
      "None\n",
      "YOJ\n",
      "H0: Data normally distributed\n",
      "\n",
      "Statistic= 0.9115960597991943 , p-val=9.607595978546815e-33\n",
      "H0-> Reject. Data is not normally distributed.\n"
     ]
    },
    {
     "data": {
      "image/png": "[encoded data removed]",
      "text/plain": [
       "<Figure size 432x288 with 1 Axes>"
      ]
     },
     "metadata": {
      "needs_background": "light"
     },
     "output_type": "display_data"
    },
    {
     "name": "stdout",
     "output_type": "stream",
     "text": [
      "None\n",
      "DEROG\n",
      "H0: Data normally distributed\n",
      "\n",
      "Statistic= 0.2769438624382019 , p-val=0.0\n",
      "H0-> Reject. Data is not normally distributed.\n"
     ]
    },
    {
     "data": {
      "image/png": "[encoded data removed]",
      "text/plain": [
       "<Figure size 432x288 with 1 Axes>"
      ]
     },
     "metadata": {
      "needs_background": "light"
     },
     "output_type": "display_data"
    },
    {
     "name": "stdout",
     "output_type": "stream",
     "text": [
      "None\n",
      "DELINQ\n",
      "H0: Data normally distributed\n",
      "\n",
      "Statistic= 0.3798753023147583 , p-val=0.0\n",
      "H0-> Reject. Data is not normally distributed.\n"
     ]
    },
    {
     "data": {
      "image/png": "[encoded data removed]",
      "text/plain": [
       "<Figure size 432x288 with 1 Axes>"
      ]
     },
     "metadata": {
      "needs_background": "light"
     },
     "output_type": "display_data"
    },
    {
     "name": "stdout",
     "output_type": "stream",
     "text": [
      "None\n",
      "CLAGE\n",
      "H0: Data normally distributed\n",
      "\n",
      "Statistic= 0.9051468372344971 , p-val=1.112704769060138e-33\n",
      "H0-> Reject. Data is not normally distributed.\n"
     ]
    },
    {
     "data": {
      "image/png": "[encoded data removed]",
      "text/plain": [
       "<Figure size 432x288 with 1 Axes>"
      ]
     },
     "metadata": {
      "needs_background": "light"
     },
     "output_type": "display_data"
    },
    {
     "name": "stdout",
     "output_type": "stream",
     "text": [
      "None\n",
      "NINQ\n",
      "H0: Data normally distributed\n",
      "\n",
      "Statistic= 0.6690858602523804 , p-val=0.0\n",
      "H0-> Reject. Data is not normally distributed.\n"
     ]
    },
    {
     "data": {
      "image/png": "[encoded data removed]",
      "text/plain": [
       "<Figure size 432x288 with 1 Axes>"
      ]
     },
     "metadata": {
      "needs_background": "light"
     },
     "output_type": "display_data"
    },
    {
     "name": "stdout",
     "output_type": "stream",
     "text": [
      "None\n",
      "CLNO\n",
      "H0: Data normally distributed\n",
      "\n",
      "Statistic= 0.964141309261322 , p-val=5.696766726335972e-22\n",
      "H0-> Reject. Data is not normally distributed.\n"
     ]
    },
    {
     "data": {
      "image/png": "[encoded data removed]",
      "text/plain": [
       "<Figure size 432x288 with 1 Axes>"
      ]
     },
     "metadata": {
      "needs_background": "light"
     },
     "output_type": "display_data"
    },
    {
     "name": "stdout",
     "output_type": "stream",
     "text": [
      "None\n",
      "DEBTINC\n",
      "H0: Data normally distributed\n",
      "\n",
      "Statistic= 0.8244601488113403 , p-val=1.8707334498736308e-42\n",
      "H0-> Reject. Data is not normally distributed.\n"
     ]
    },
    {
     "data": {
      "image/png": "[encoded data removed]",
      "text/plain": [
       "<Figure size 432x288 with 1 Axes>"
      ]
     },
     "metadata": {
      "needs_background": "light"
     },
     "output_type": "display_data"
    },
    {
     "name": "stdout",
     "output_type": "stream",
     "text": [
      "None\n"
     ]
    }
   ],
   "source": [
    "for col in num_data.columns:\n",
    "    print(col.upper())\n",
    "    print(df1.norm_test(col))"
   ]
  },
  {
   "cell_type": "markdown",
   "metadata": {},
   "source": [
    "### Korelasyon "
   ]
  },
  {
   "cell_type": "code",
   "execution_count": 89,
   "metadata": {
    "scrolled": true
   },
   "outputs": [
    {
     "data": {
      "image/png": "[encoded data removed]",
      "text/plain": [
       "<Figure size 504x504 with 2 Axes>"
      ]
     },
     "metadata": {
      "needs_background": "light"
     },
     "output_type": "display_data"
    }
   ],
   "source": [
    "data_cor=inf_stats(num_data)\n",
    "data_cor.corr()"
   ]
  },
  {
   "cell_type": "code",
   "execution_count": null,
   "metadata": {},
   "outputs": [],
   "source": [
    "Korelasyon testi sonucunda value-mortdue ve value-loan arasında pozitif ilişki çıkmıştır."
   ]
  },
  {
   "cell_type": "markdown",
   "metadata": {},
   "source": [
    "### 2 Örneklem t-testi"
   ]
  },
  {
   "cell_type": "code",
   "execution_count": 99,
   "metadata": {},
   "outputs": [
    {
     "name": "stdout",
     "output_type": "stream",
     "text": [
      "    ******KS TEST******   \n",
      "HİPOTEZ:\n",
      "H0:loan-bad=1 and loan-bad =0 have same distribution\n",
      "\n",
      "Statistic= 0.14465681485100146, p-val=0.001978887444979316\n",
      "H0--> Reject. They have different distribution\n",
      "\n",
      "VARIANCE:\n",
      "HİPOTEZ:\n",
      "H0:'loan' and 'bad' have same variance\n",
      "\n",
      "Statistic= 2.3947745891982195, p-val=0.12189825252399986\n",
      "H0--> Fail to Reject.\n",
      "MEAN:\n",
      "Statistic= -1.176054303533842, p-val=0.23971203285250864\n",
      "H0--> Fail to Reject.\n",
      "    ******KS TEST******   \n",
      "HİPOTEZ:\n",
      "H0:mortdue-bad=1 and mortdue-bad =0 have same distribution\n",
      "\n",
      "Statistic= 0.13398265754763067, p-val=0.005274509868711474\n",
      "H0--> Reject. They have different distribution\n",
      "\n",
      "VARIANCE:\n",
      "HİPOTEZ:\n",
      "H0:'mortdue' and 'bad' have same variance\n",
      "\n",
      "Statistic= 2.3073764505136856, p-val=0.12891801775903636\n",
      "H0--> Fail to Reject.\n",
      "MEAN:\n",
      "Statistic= -1.127470718824357, p-val=0.259677683857574\n",
      "H0--> Fail to Reject.\n",
      "    ******KS TEST******   \n",
      "HİPOTEZ:\n",
      "H0:value-bad=1 and value-bad =0 have same distribution\n",
      "\n",
      "Statistic= 0.1447545188080117, p-val=0.0019656922486886996\n",
      "H0--> Reject. They have different distribution\n",
      "\n",
      "VARIANCE:\n",
      "HİPOTEZ:\n",
      "H0:'value' and 'bad' have same variance\n",
      "\n",
      "Statistic= 3.9912413972700382, p-val=0.0458714974437462\n",
      "H0--> Reject. They have different variance\n",
      "\n",
      "MEAN:\n",
      "Statistic= -1.406867566020743, p-val=0.15962080002954823\n",
      "H0--> Fail to Reject.\n",
      "    ******KS TEST******   \n",
      "HİPOTEZ:\n",
      "H0:yoj-bad=1 and yoj-bad =0 have same distribution\n",
      "\n",
      "Statistic= 0.09016853932584269, p-val=0.13368566559088968\n",
      "H0--> Fail to Reject.\n",
      "\n",
      "VARIANCE:\n",
      "HİPOTEZ:\n",
      "H0:'yoj' and 'bad' have same variance\n",
      "\n",
      "Statistic= 4.210113592213248, p-val=0.040312559874429624\n",
      "H0--> Reject. They have different variance\n",
      "\n",
      "MEAN:\n",
      "Statistic= -2.2900393659753835, p-val=0.022121892389347888\n",
      "H0--> Reject. They have different mean\n",
      "\n",
      "    ******KS TEST******   \n",
      "HİPOTEZ:\n",
      "H0:derog-bad=1 and derog-bad =0 have same distribution\n",
      "\n",
      "Statistic= 0.17128724963361017, p-val=0.00012320406940091733\n",
      "H0--> Reject. They have different distribution\n",
      "\n",
      "VARIANCE:\n",
      "HİPOTEZ:\n",
      "H0:'derog' and 'bad' have same variance\n",
      "\n",
      "Statistic= 118.58625318726504, p-val=7.1109894880631e-27\n",
      "H0--> Reject. They have different variance\n",
      "\n",
      "MEAN:\n",
      "Statistic= 10.889731547988914, p-val=7.110989488069691e-27\n",
      "H0--> Reject. They have different mean\n",
      "\n",
      "    ******KS TEST******   \n",
      "HİPOTEZ:\n",
      "H0:delinq-bad=1 and delinq-bad =0 have same distribution\n",
      "\n",
      "Statistic= 0.22639838788470934, p-val=8.616203794886701e-08\n",
      "H0--> Reject. They have different distribution\n",
      "\n",
      "VARIANCE:\n",
      "HİPOTEZ:\n",
      "H0:'delinq' and 'bad' have same variance\n",
      "\n",
      "Statistic= 172.843538986418, p-val=6.144156048310947e-38\n",
      "H0--> Reject. They have different variance\n",
      "\n",
      "MEAN:\n",
      "Statistic= 13.14699733727888, p-val=6.14415604831718e-38\n",
      "H0--> Reject. They have different mean\n",
      "\n",
      "    ******KS TEST******   \n",
      "HİPOTEZ:\n",
      "H0:clage-bad=1 and clage-bad =0 have same distribution\n",
      "\n",
      "Statistic= 0.2328590620420127, p-val=3.2068143251962056e-08\n",
      "H0--> Reject. They have different distribution\n",
      "\n",
      "VARIANCE:\n",
      "HİPOTEZ:\n",
      "H0:'clage' and 'bad' have same variance\n",
      "\n",
      "Statistic= 0.008476501803127428, p-val=0.9266532240501075\n",
      "H0--> Fail to Reject.\n",
      "MEAN:\n",
      "Statistic= -4.095196509252307, p-val=4.384740676245088e-05\n",
      "H0--> Reject. They have different mean\n",
      "\n",
      "    ******KS TEST******   \n",
      "HİPOTEZ:\n",
      "H0:ninq-bad=1 and ninq-bad =0 have same distribution\n",
      "\n",
      "Statistic= 0.13740840254030287, p-val=0.0038817353716993352\n",
      "H0--> Reject. They have different distribution\n",
      "\n",
      "VARIANCE:\n",
      "HİPOTEZ:\n",
      "H0:'ninq' and 'bad' have same variance\n",
      "\n",
      "Statistic= 19.275276700348513, p-val=1.1901804304738905e-05\n",
      "H0--> Reject. They have different variance\n",
      "\n",
      "MEAN:\n",
      "Statistic= 4.966921723047091, p-val=7.375238556583269e-07\n",
      "H0--> Reject. They have different mean\n",
      "\n",
      "    ******KS TEST******   \n",
      "HİPOTEZ:\n",
      "H0:clno-bad=1 and clno-bad =0 have same distribution\n",
      "\n",
      "Statistic= 0.10059843673668784, p-val=0.06947377213224948\n",
      "H0--> Fail to Reject.\n",
      "\n",
      "VARIANCE:\n",
      "HİPOTEZ:\n",
      "H0:'clno' and 'bad' have same variance\n",
      "\n",
      "Statistic= 9.247496740359477, p-val=0.002388546558601237\n",
      "H0--> Reject. They have different variance\n",
      "\n",
      "MEAN:\n",
      "Statistic= -0.5658830452066119, p-val=0.5715362665392278\n",
      "H0--> Fail to Reject.\n",
      "    ******KS TEST******   \n",
      "HİPOTEZ:\n",
      "H0:debtinc-bad=1 and debtinc-bad =0 have same distribution\n",
      "\n",
      "Statistic= 0.296494870542257, p-val=3.943512183468556e-13\n",
      "H0--> Reject. They have different distribution\n",
      "\n",
      "VARIANCE:\n",
      "HİPOTEZ:\n",
      "H0:'debtinc' and 'bad' have same variance\n",
      "\n",
      "Statistic= 115.70361829348167, p-val=2.8084956639802037e-26\n",
      "H0--> Reject. They have different variance\n",
      "\n",
      "MEAN:\n",
      "Statistic= 11.645777840920656, p-val=2.2111880825013413e-30\n",
      "H0--> Reject. They have different mean\n",
      "\n"
     ]
    }
   ],
   "source": [
    "for col in num_data.columns:\n",
    "    df_test.num_cat(col,\"bad\")"
   ]
  },
  {
   "cell_type": "code",
   "execution_count": 95,
   "metadata": {
    "scrolled": false
   },
   "outputs": [
    {
     "name": "stdout",
     "output_type": "stream",
     "text": [
      "    ******KS TEST******   \n",
      "HİPOTEZ:\n",
      "H0:value-bad=1 and value-bad =0 have same distribution\n",
      "\n",
      "Statistic= 0.1447545188080117, p-val=0.0019656922486886996\n",
      "H0--> Reject. They have different distribution\n",
      "\n",
      "VARIANCE:\n",
      "HİPOTEZ:\n",
      "H0:'value' and 'bad' have same variance\n",
      "\n",
      "Statistic= 3.9912413972700382, p-val=0.0458714974437462\n",
      "H0--> Reject. They have different variance\n",
      "\n",
      "MEAN:\n",
      "Statistic= -1.406867566020743, p-val=0.15962080002954823\n",
      "H0--> Fail to Reject.\n"
     ]
    }
   ],
   "source": [
    "df_test=inf_stats(data)\n",
    "df_test.num_cat(\"value\",\"bad\")"
   ]
  },
  {
   "cell_type": "code",
   "execution_count": 91,
   "metadata": {},
   "outputs": [
    {
     "name": "stdout",
     "output_type": "stream",
     "text": [
      "    ******KS TEST******   \n",
      "HİPOTEZ:\n",
      "H0:mortdue-bad=1 and mortdue-bad =0 have same distribution\n",
      "\n",
      "Statistic= 0.13398265754763067, p-val=0.005274509868711474\n",
      "H0--> Reject. They have different distribution\n",
      "\n",
      "VARIANCE:\n",
      "HİPOTEZ:\n",
      "H0:'mortdue' and 'bad' have same variance\n",
      "\n",
      "Statistic= 2.3073764505136856, p-val=0.12891801775903636\n",
      "H0--> Fail to Reject.\n",
      "MEAN:\n",
      "Statistic= -1.127470718824357, p-val=0.259677683857574\n",
      "H0--> Fail to Reject.\n"
     ]
    }
   ],
   "source": [
    "df_test.num_cat(\"mortdue\",\"bad\")"
   ]
  },
  {
   "cell_type": "code",
   "execution_count": 92,
   "metadata": {},
   "outputs": [
    {
     "name": "stdout",
     "output_type": "stream",
     "text": [
      "    ******KS TEST******   \n",
      "HİPOTEZ:\n",
      "H0:loan-bad=1 and loan-bad =0 have same distribution\n",
      "\n",
      "Statistic= 0.14465681485100146, p-val=0.001978887444979316\n",
      "H0--> Reject. They have different distribution\n",
      "\n",
      "VARIANCE:\n",
      "HİPOTEZ:\n",
      "H0:'loan' and 'bad' have same variance\n",
      "\n",
      "Statistic= 2.3947745891982195, p-val=0.12189825252399986\n",
      "H0--> Fail to Reject.\n",
      "MEAN:\n",
      "Statistic= -1.176054303533842, p-val=0.23971203285250864\n",
      "H0--> Fail to Reject.\n"
     ]
    }
   ],
   "source": [
    "df_test.num_cat(\"loan\",\"bad\")"
   ]
  },
  {
   "cell_type": "code",
   "execution_count": 96,
   "metadata": {},
   "outputs": [
    {
     "data": {
      "image/png": "[encoded data removed]",
      "text/plain": [
       "<Figure size 360x360 with 1 Axes>"
      ]
     },
     "metadata": {
      "needs_background": "light"
     },
     "output_type": "display_data"
    }
   ],
   "source": [
    "df_test.box_2samp(\"bad\",\"value\")"
   ]
  },
  {
   "cell_type": "code",
   "execution_count": 98,
   "metadata": {},
   "outputs": [
    {
     "data": {
      "image/png": "[encoded data removed]",
      "text/plain": [
       "<Figure size 360x360 with 1 Axes>"
      ]
     },
     "metadata": {
      "needs_background": "light"
     },
     "output_type": "display_data"
    }
   ],
   "source": [
    "df_test.box_2samp(\"bad\",\"mortdue\")"
   ]
  },
  {
   "cell_type": "code",
   "execution_count": 97,
   "metadata": {},
   "outputs": [
    {
     "data": {
      "image/png": "[encoded data removed]",
      "text/plain": [
       "<Figure size 360x360 with 1 Axes>"
      ]
     },
     "metadata": {
      "needs_background": "light"
     },
     "output_type": "display_data"
    }
   ],
   "source": [
    "df_test.box_2samp(\"bad\",\"loan\")"
   ]
  },
  {
   "cell_type": "markdown",
   "metadata": {},
   "source": [
    "# MODEL"
   ]
  },
  {
   "cell_type": "code",
   "execution_count": 5,
   "metadata": {},
   "outputs": [],
   "source": [
    "from sklearn.model_selection import train_test_split, GridSearchCV, cross_val_score\n",
    "from sklearn.metrics import roc_auc_score,roc_curve\n",
    "import matplotlib.pyplot as plt\n",
    "from sklearn.linear_model import LogisticRegression\n",
    "from sklearn.metrics import confusion_matrix, accuracy_score, classification_report"
   ]
  },
  {
   "cell_type": "code",
   "execution_count": 19,
   "metadata": {},
   "outputs": [],
   "source": [
    "dat=pd.read_csv(\"hmelq.csv\")\n",
    "data_model=dat.copy()\n",
    "data_model=data.dropna()"
   ]
  },
  {
   "cell_type": "code",
   "execution_count": 20,
   "metadata": {},
   "outputs": [
    {
     "data": {
      "text/html": [
       "<div>\n",
       "<style scoped>\n",
       "    .dataframe tbody tr th:only-of-type {\n",
       "        vertical-align: middle;\n",
       "    }\n",
       "\n",
       "    .dataframe tbody tr th {\n",
       "        vertical-align: top;\n",
       "    }\n",
       "\n",
       "    .dataframe thead th {\n",
       "        text-align: right;\n",
       "    }\n",
       "</style>\n",
       "<table border=\"1\" class=\"dataframe\">\n",
       "  <thead>\n",
       "    <tr style=\"text-align: right;\">\n",
       "      <th></th>\n",
       "      <th>job_Mgr</th>\n",
       "      <th>job_Office</th>\n",
       "      <th>job_Other</th>\n",
       "      <th>job_ProfEx</th>\n",
       "      <th>job_Sales</th>\n",
       "      <th>job_Self</th>\n",
       "      <th>reason_DebtCon</th>\n",
       "      <th>reason_HomeImp</th>\n",
       "    </tr>\n",
       "  </thead>\n",
       "  <tbody>\n",
       "    <tr>\n",
       "      <th>153</th>\n",
       "      <td>1</td>\n",
       "      <td>0</td>\n",
       "      <td>0</td>\n",
       "      <td>0</td>\n",
       "      <td>0</td>\n",
       "      <td>0</td>\n",
       "      <td>1</td>\n",
       "      <td>0</td>\n",
       "    </tr>\n",
       "    <tr>\n",
       "      <th>154</th>\n",
       "      <td>1</td>\n",
       "      <td>0</td>\n",
       "      <td>0</td>\n",
       "      <td>0</td>\n",
       "      <td>0</td>\n",
       "      <td>0</td>\n",
       "      <td>1</td>\n",
       "      <td>0</td>\n",
       "    </tr>\n",
       "    <tr>\n",
       "      <th>155</th>\n",
       "      <td>1</td>\n",
       "      <td>0</td>\n",
       "      <td>0</td>\n",
       "      <td>0</td>\n",
       "      <td>0</td>\n",
       "      <td>0</td>\n",
       "      <td>1</td>\n",
       "      <td>0</td>\n",
       "    </tr>\n",
       "    <tr>\n",
       "      <th>156</th>\n",
       "      <td>1</td>\n",
       "      <td>0</td>\n",
       "      <td>0</td>\n",
       "      <td>0</td>\n",
       "      <td>0</td>\n",
       "      <td>0</td>\n",
       "      <td>0</td>\n",
       "      <td>1</td>\n",
       "    </tr>\n",
       "    <tr>\n",
       "      <th>157</th>\n",
       "      <td>1</td>\n",
       "      <td>0</td>\n",
       "      <td>0</td>\n",
       "      <td>0</td>\n",
       "      <td>0</td>\n",
       "      <td>0</td>\n",
       "      <td>1</td>\n",
       "      <td>0</td>\n",
       "    </tr>\n",
       "  </tbody>\n",
       "</table>\n",
       "</div>"
      ],
      "text/plain": [
       "     job_Mgr  job_Office  job_Other  job_ProfEx  job_Sales  job_Self  \\\n",
       "153        1           0          0           0          0         0   \n",
       "154        1           0          0           0          0         0   \n",
       "155        1           0          0           0          0         0   \n",
       "156        1           0          0           0          0         0   \n",
       "157        1           0          0           0          0         0   \n",
       "\n",
       "     reason_DebtCon  reason_HomeImp  \n",
       "153               1               0  \n",
       "154               1               0  \n",
       "155               1               0  \n",
       "156               0               1  \n",
       "157               1               0  "
      ]
     },
     "execution_count": 20,
     "metadata": {},
     "output_type": "execute_result"
    }
   ],
   "source": [
    "dms=pd.get_dummies(data_model[[\"job\",\"reason\"]])\n",
    "dms.head()"
   ]
  },
  {
   "cell_type": "code",
   "execution_count": 21,
   "metadata": {},
   "outputs": [
    {
     "data": {
      "text/html": [
       "<div>\n",
       "<style scoped>\n",
       "    .dataframe tbody tr th:only-of-type {\n",
       "        vertical-align: middle;\n",
       "    }\n",
       "\n",
       "    .dataframe tbody tr th {\n",
       "        vertical-align: top;\n",
       "    }\n",
       "\n",
       "    .dataframe thead th {\n",
       "        text-align: right;\n",
       "    }\n",
       "</style>\n",
       "<table border=\"1\" class=\"dataframe\">\n",
       "  <thead>\n",
       "    <tr style=\"text-align: right;\">\n",
       "      <th></th>\n",
       "      <th>loan</th>\n",
       "      <th>mortdue</th>\n",
       "      <th>value</th>\n",
       "      <th>yoj</th>\n",
       "      <th>derog</th>\n",
       "      <th>delinq</th>\n",
       "      <th>clage</th>\n",
       "      <th>ninq</th>\n",
       "      <th>clno</th>\n",
       "      <th>debtinc</th>\n",
       "      <th>job_Mgr</th>\n",
       "      <th>job_Office</th>\n",
       "      <th>job_Other</th>\n",
       "      <th>job_ProfEx</th>\n",
       "      <th>job_Sales</th>\n",
       "      <th>reason_DebtCon</th>\n",
       "    </tr>\n",
       "  </thead>\n",
       "  <tbody>\n",
       "    <tr>\n",
       "      <th>153</th>\n",
       "      <td>18200</td>\n",
       "      <td>94727.0</td>\n",
       "      <td>136877.0</td>\n",
       "      <td>15.0</td>\n",
       "      <td>0.0</td>\n",
       "      <td>0.0</td>\n",
       "      <td>168.96</td>\n",
       "      <td>2.0</td>\n",
       "      <td>26.0</td>\n",
       "      <td>36.056</td>\n",
       "      <td>1</td>\n",
       "      <td>0</td>\n",
       "      <td>0</td>\n",
       "      <td>0</td>\n",
       "      <td>0</td>\n",
       "      <td>1</td>\n",
       "    </tr>\n",
       "    <tr>\n",
       "      <th>154</th>\n",
       "      <td>21700</td>\n",
       "      <td>79240.0</td>\n",
       "      <td>96784.0</td>\n",
       "      <td>5.0</td>\n",
       "      <td>0.0</td>\n",
       "      <td>0.0</td>\n",
       "      <td>64.51</td>\n",
       "      <td>6.0</td>\n",
       "      <td>24.0</td>\n",
       "      <td>38.079</td>\n",
       "      <td>1</td>\n",
       "      <td>0</td>\n",
       "      <td>0</td>\n",
       "      <td>0</td>\n",
       "      <td>0</td>\n",
       "      <td>1</td>\n",
       "    </tr>\n",
       "    <tr>\n",
       "      <th>155</th>\n",
       "      <td>34100</td>\n",
       "      <td>241931.0</td>\n",
       "      <td>36486.0</td>\n",
       "      <td>1.0</td>\n",
       "      <td>0.0</td>\n",
       "      <td>2.0</td>\n",
       "      <td>196.01</td>\n",
       "      <td>3.0</td>\n",
       "      <td>50.0</td>\n",
       "      <td>42.459</td>\n",
       "      <td>1</td>\n",
       "      <td>0</td>\n",
       "      <td>0</td>\n",
       "      <td>0</td>\n",
       "      <td>0</td>\n",
       "      <td>1</td>\n",
       "    </tr>\n",
       "    <tr>\n",
       "      <th>156</th>\n",
       "      <td>8400</td>\n",
       "      <td>62989.0</td>\n",
       "      <td>76718.0</td>\n",
       "      <td>3.0</td>\n",
       "      <td>0.0</td>\n",
       "      <td>2.0</td>\n",
       "      <td>131.47</td>\n",
       "      <td>0.0</td>\n",
       "      <td>22.0</td>\n",
       "      <td>29.200</td>\n",
       "      <td>1</td>\n",
       "      <td>0</td>\n",
       "      <td>0</td>\n",
       "      <td>0</td>\n",
       "      <td>0</td>\n",
       "      <td>0</td>\n",
       "    </tr>\n",
       "    <tr>\n",
       "      <th>157</th>\n",
       "      <td>17400</td>\n",
       "      <td>25859.0</td>\n",
       "      <td>43684.0</td>\n",
       "      <td>16.0</td>\n",
       "      <td>1.0</td>\n",
       "      <td>0.0</td>\n",
       "      <td>95.36</td>\n",
       "      <td>1.0</td>\n",
       "      <td>17.0</td>\n",
       "      <td>27.108</td>\n",
       "      <td>1</td>\n",
       "      <td>0</td>\n",
       "      <td>0</td>\n",
       "      <td>0</td>\n",
       "      <td>0</td>\n",
       "      <td>1</td>\n",
       "    </tr>\n",
       "  </tbody>\n",
       "</table>\n",
       "</div>"
      ],
      "text/plain": [
       "      loan   mortdue     value   yoj  derog  delinq   clage  ninq  clno  \\\n",
       "153  18200   94727.0  136877.0  15.0    0.0     0.0  168.96   2.0  26.0   \n",
       "154  21700   79240.0   96784.0   5.0    0.0     0.0   64.51   6.0  24.0   \n",
       "155  34100  241931.0   36486.0   1.0    0.0     2.0  196.01   3.0  50.0   \n",
       "156   8400   62989.0   76718.0   3.0    0.0     2.0  131.47   0.0  22.0   \n",
       "157  17400   25859.0   43684.0  16.0    1.0     0.0   95.36   1.0  17.0   \n",
       "\n",
       "     debtinc  job_Mgr  job_Office  job_Other  job_ProfEx  job_Sales  \\\n",
       "153   36.056        1           0          0           0          0   \n",
       "154   38.079        1           0          0           0          0   \n",
       "155   42.459        1           0          0           0          0   \n",
       "156   29.200        1           0          0           0          0   \n",
       "157   27.108        1           0          0           0          0   \n",
       "\n",
       "     reason_DebtCon  \n",
       "153               1  \n",
       "154               1  \n",
       "155               1  \n",
       "156               0  \n",
       "157               1  "
      ]
     },
     "execution_count": 21,
     "metadata": {},
     "output_type": "execute_result"
    }
   ],
   "source": [
    "y=data_model[\"bad\"]\n",
    "X_=data_model.drop([\"job\",\"reason\",\"bad\"],axis=1)\n",
    "X=pd.concat([X_,dms[[\"job_Mgr\",\"job_Office\",\"job_Other\",\"job_ProfEx\",\"job_Sales\",\"reason_DebtCon\"]]],axis=1)\n",
    "X.head()"
   ]
  },
  {
   "cell_type": "code",
   "execution_count": 9,
   "metadata": {},
   "outputs": [],
   "source": [
    "X_train, X_test, y_train,y_test=train_test_split(X,y,test_size=0.20,random_state=42)"
   ]
  },
  {
   "cell_type": "code",
   "execution_count": 110,
   "metadata": {},
   "outputs": [
    {
     "data": {
      "text/plain": [
       "LogisticRegression(solver='liblinear')"
      ]
     },
     "execution_count": 110,
     "metadata": {},
     "output_type": "execute_result"
    }
   ],
   "source": [
    "loj=LogisticRegression(solver=\"liblinear\")\n",
    "loj_model=loj.fit(X_train,y_train)\n",
    "loj_model"
   ]
  },
  {
   "cell_type": "code",
   "execution_count": 116,
   "metadata": {},
   "outputs": [],
   "source": [
    "y_pred=loj_model.predict(X_test)"
   ]
  },
  {
   "cell_type": "code",
   "execution_count": 117,
   "metadata": {},
   "outputs": [
    {
     "data": {
      "text/plain": [
       "0.9133663366336634"
      ]
     },
     "execution_count": 117,
     "metadata": {},
     "output_type": "execute_result"
    }
   ],
   "source": [
    "accuracy_score(y_test,y_pred)"
   ]
  },
  {
   "cell_type": "code",
   "execution_count": 119,
   "metadata": {},
   "outputs": [
    {
     "data": {
      "text/plain": [
       "0.9114002478314746"
      ]
     },
     "execution_count": 119,
     "metadata": {},
     "output_type": "execute_result"
    }
   ],
   "source": [
    "accuracy_score(y_train,loj_model.predict(X_train))"
   ]
  },
  {
   "cell_type": "code",
   "execution_count": 120,
   "metadata": {},
   "outputs": [
    {
     "name": "stdout",
     "output_type": "stream",
     "text": [
      "              precision    recall  f1-score   support\n",
      "\n",
      "           0       0.91      1.00      0.95       369\n",
      "           1       0.00      0.00      0.00        35\n",
      "\n",
      "    accuracy                           0.91       404\n",
      "   macro avg       0.46      0.50      0.48       404\n",
      "weighted avg       0.83      0.91      0.87       404\n",
      "\n"
     ]
    },
    {
     "name": "stderr",
     "output_type": "stream",
     "text": [
      "C:\\Anaconda3\\lib\\site-packages\\sklearn\\metrics\\_classification.py:1221: UndefinedMetricWarning: Precision and F-score are ill-defined and being set to 0.0 in labels with no predicted samples. Use `zero_division` parameter to control this behavior.\n",
      "  _warn_prf(average, modifier, msg_start, len(result))\n"
     ]
    }
   ],
   "source": [
    "print(classification_report(y_test,y_pred))"
   ]
  },
  {
   "cell_type": "code",
   "execution_count": 122,
   "metadata": {},
   "outputs": [
    {
     "data": {
      "text/plain": [
       "array([[369,   0],\n",
       "       [ 35,   0]], dtype=int64)"
      ]
     },
     "execution_count": 122,
     "metadata": {},
     "output_type": "execute_result"
    }
   ],
   "source": [
    "confusion_matrix(y_test,y_pred)"
   ]
  },
  {
   "cell_type": "code",
   "execution_count": 123,
   "metadata": {},
   "outputs": [],
   "source": [
    "#statsmodels"
   ]
  },
  {
   "cell_type": "code",
   "execution_count": 10,
   "metadata": {},
   "outputs": [
    {
     "name": "stdout",
     "output_type": "stream",
     "text": [
      "Optimization terminated successfully.\n",
      "         Current function value: 0.242501\n",
      "         Iterations 7\n"
     ]
    },
    {
     "data": {
      "text/html": [
       "<table class=\"simpletable\">\n",
       "<caption>Logit Regression Results</caption>\n",
       "<tr>\n",
       "  <th>Dep. Variable:</th>          <td>bad</td>       <th>  No. Observations:  </th>  <td>  1614</td>  \n",
       "</tr>\n",
       "<tr>\n",
       "  <th>Model:</th>                 <td>Logit</td>      <th>  Df Residuals:      </th>  <td>  1598</td>  \n",
       "</tr>\n",
       "<tr>\n",
       "  <th>Method:</th>                 <td>MLE</td>       <th>  Df Model:          </th>  <td>    15</td>  \n",
       "</tr>\n",
       "<tr>\n",
       "  <th>Date:</th>            <td>Sat, 01 Aug 2020</td> <th>  Pseudo R-squ.:     </th>  <td>0.1897</td>  \n",
       "</tr>\n",
       "<tr>\n",
       "  <th>Time:</th>                <td>15:56:30</td>     <th>  Log-Likelihood:    </th> <td> -391.40</td> \n",
       "</tr>\n",
       "<tr>\n",
       "  <th>converged:</th>             <td>True</td>       <th>  LL-Null:           </th> <td> -483.05</td> \n",
       "</tr>\n",
       "<tr>\n",
       "  <th>Covariance Type:</th>     <td>nonrobust</td>    <th>  LLR p-value:       </th> <td>5.126e-31</td>\n",
       "</tr>\n",
       "</table>\n",
       "<table class=\"simpletable\">\n",
       "<tr>\n",
       "         <td></td>           <th>coef</th>     <th>std err</th>      <th>z</th>      <th>P>|z|</th>  <th>[0.025</th>    <th>0.975]</th>  \n",
       "</tr>\n",
       "<tr>\n",
       "  <th>loan</th>           <td>-2.976e-05</td> <td> 1.19e-05</td> <td>   -2.504</td> <td> 0.012</td> <td>-5.31e-05</td> <td>-6.46e-06</td>\n",
       "</tr>\n",
       "<tr>\n",
       "  <th>mortdue</th>        <td>-1.942e-06</td> <td> 5.19e-06</td> <td>   -0.374</td> <td> 0.708</td> <td>-1.21e-05</td> <td> 8.24e-06</td>\n",
       "</tr>\n",
       "<tr>\n",
       "  <th>value</th>          <td> 9.806e-07</td> <td> 4.52e-06</td> <td>    0.217</td> <td> 0.828</td> <td>-7.87e-06</td> <td> 9.84e-06</td>\n",
       "</tr>\n",
       "<tr>\n",
       "  <th>yoj</th>            <td>   -0.0149</td> <td>    0.015</td> <td>   -1.014</td> <td> 0.310</td> <td>   -0.044</td> <td>    0.014</td>\n",
       "</tr>\n",
       "<tr>\n",
       "  <th>derog</th>          <td>    0.5451</td> <td>    0.149</td> <td>    3.646</td> <td> 0.000</td> <td>    0.252</td> <td>    0.838</td>\n",
       "</tr>\n",
       "<tr>\n",
       "  <th>delinq</th>         <td>    0.7886</td> <td>    0.102</td> <td>    7.719</td> <td> 0.000</td> <td>    0.588</td> <td>    0.989</td>\n",
       "</tr>\n",
       "<tr>\n",
       "  <th>clage</th>          <td>   -0.0064</td> <td>    0.002</td> <td>   -4.237</td> <td> 0.000</td> <td>   -0.009</td> <td>   -0.003</td>\n",
       "</tr>\n",
       "<tr>\n",
       "  <th>ninq</th>           <td>    0.0866</td> <td>    0.051</td> <td>    1.709</td> <td> 0.087</td> <td>   -0.013</td> <td>    0.186</td>\n",
       "</tr>\n",
       "<tr>\n",
       "  <th>clno</th>           <td>   -0.0357</td> <td>    0.012</td> <td>   -3.053</td> <td> 0.002</td> <td>   -0.059</td> <td>   -0.013</td>\n",
       "</tr>\n",
       "<tr>\n",
       "  <th>debtinc</th>        <td>    0.0631</td> <td>    0.011</td> <td>    5.667</td> <td> 0.000</td> <td>    0.041</td> <td>    0.085</td>\n",
       "</tr>\n",
       "<tr>\n",
       "  <th>job_Mgr</th>        <td>   -2.5085</td> <td>    0.396</td> <td>   -6.341</td> <td> 0.000</td> <td>   -3.284</td> <td>   -1.733</td>\n",
       "</tr>\n",
       "<tr>\n",
       "  <th>job_Office</th>     <td>   -3.0032</td> <td>    0.415</td> <td>   -7.240</td> <td> 0.000</td> <td>   -3.816</td> <td>   -2.190</td>\n",
       "</tr>\n",
       "<tr>\n",
       "  <th>job_Other</th>      <td>   -2.7573</td> <td>    0.344</td> <td>   -8.025</td> <td> 0.000</td> <td>   -3.431</td> <td>   -2.084</td>\n",
       "</tr>\n",
       "<tr>\n",
       "  <th>job_ProfEx</th>     <td>   -2.5386</td> <td>    0.365</td> <td>   -6.950</td> <td> 0.000</td> <td>   -3.254</td> <td>   -1.823</td>\n",
       "</tr>\n",
       "<tr>\n",
       "  <th>job_Sales</th>      <td>   -2.0808</td> <td>    0.771</td> <td>   -2.699</td> <td> 0.007</td> <td>   -3.592</td> <td>   -0.570</td>\n",
       "</tr>\n",
       "<tr>\n",
       "  <th>reason_DebtCon</th> <td>   -0.0382</td> <td>    0.214</td> <td>   -0.179</td> <td> 0.858</td> <td>   -0.457</td> <td>    0.380</td>\n",
       "</tr>\n",
       "</table>"
      ],
      "text/plain": [
       "<class 'statsmodels.iolib.summary.Summary'>\n",
       "\"\"\"\n",
       "                           Logit Regression Results                           \n",
       "==============================================================================\n",
       "Dep. Variable:                    bad   No. Observations:                 1614\n",
       "Model:                          Logit   Df Residuals:                     1598\n",
       "Method:                           MLE   Df Model:                           15\n",
       "Date:                Sat, 01 Aug 2020   Pseudo R-squ.:                  0.1897\n",
       "Time:                        15:56:30   Log-Likelihood:                -391.40\n",
       "converged:                       True   LL-Null:                       -483.05\n",
       "Covariance Type:            nonrobust   LLR p-value:                 5.126e-31\n",
       "==================================================================================\n",
       "                     coef    std err          z      P>|z|      [0.025      0.975]\n",
       "----------------------------------------------------------------------------------\n",
       "loan           -2.976e-05   1.19e-05     -2.504      0.012   -5.31e-05   -6.46e-06\n",
       "mortdue        -1.942e-06   5.19e-06     -0.374      0.708   -1.21e-05    8.24e-06\n",
       "value           9.806e-07   4.52e-06      0.217      0.828   -7.87e-06    9.84e-06\n",
       "yoj               -0.0149      0.015     -1.014      0.310      -0.044       0.014\n",
       "derog              0.5451      0.149      3.646      0.000       0.252       0.838\n",
       "delinq             0.7886      0.102      7.719      0.000       0.588       0.989\n",
       "clage             -0.0064      0.002     -4.237      0.000      -0.009      -0.003\n",
       "ninq               0.0866      0.051      1.709      0.087      -0.013       0.186\n",
       "clno              -0.0357      0.012     -3.053      0.002      -0.059      -0.013\n",
       "debtinc            0.0631      0.011      5.667      0.000       0.041       0.085\n",
       "job_Mgr           -2.5085      0.396     -6.341      0.000      -3.284      -1.733\n",
       "job_Office        -3.0032      0.415     -7.240      0.000      -3.816      -2.190\n",
       "job_Other         -2.7573      0.344     -8.025      0.000      -3.431      -2.084\n",
       "job_ProfEx        -2.5386      0.365     -6.950      0.000      -3.254      -1.823\n",
       "job_Sales         -2.0808      0.771     -2.699      0.007      -3.592      -0.570\n",
       "reason_DebtCon    -0.0382      0.214     -0.179      0.858      -0.457       0.380\n",
       "==================================================================================\n",
       "\"\"\""
      ]
     },
     "execution_count": 10,
     "metadata": {},
     "output_type": "execute_result"
    }
   ],
   "source": [
    "import numpy as np\n",
    "import pandas as pd \n",
    "import statsmodels.api as sm\n",
    "import statsmodels.formula.api as smf\n",
    "loj=sm.Logit(y_train,X_train)\n",
    "loj_model=loj.fit()\n",
    "loj_model.summary()"
   ]
  },
  {
   "cell_type": "code",
   "execution_count": 11,
   "metadata": {},
   "outputs": [],
   "source": [
    "X_train=X_train.drop([\"value\",\"reason_DebtCon\"],axis=1)"
   ]
  },
  {
   "cell_type": "code",
   "execution_count": 12,
   "metadata": {},
   "outputs": [
    {
     "name": "stdout",
     "output_type": "stream",
     "text": [
      "Optimization terminated successfully.\n",
      "         Current function value: 0.242527\n",
      "         Iterations 7\n"
     ]
    },
    {
     "data": {
      "text/html": [
       "<table class=\"simpletable\">\n",
       "<caption>Logit Regression Results</caption>\n",
       "<tr>\n",
       "  <th>Dep. Variable:</th>          <td>bad</td>       <th>  No. Observations:  </th>  <td>  1614</td>  \n",
       "</tr>\n",
       "<tr>\n",
       "  <th>Model:</th>                 <td>Logit</td>      <th>  Df Residuals:      </th>  <td>  1600</td>  \n",
       "</tr>\n",
       "<tr>\n",
       "  <th>Method:</th>                 <td>MLE</td>       <th>  Df Model:          </th>  <td>    13</td>  \n",
       "</tr>\n",
       "<tr>\n",
       "  <th>Date:</th>            <td>Sat, 01 Aug 2020</td> <th>  Pseudo R-squ.:     </th>  <td>0.1896</td>  \n",
       "</tr>\n",
       "<tr>\n",
       "  <th>Time:</th>                <td>15:57:02</td>     <th>  Log-Likelihood:    </th> <td> -391.44</td> \n",
       "</tr>\n",
       "<tr>\n",
       "  <th>converged:</th>             <td>True</td>       <th>  LL-Null:           </th> <td> -483.05</td> \n",
       "</tr>\n",
       "<tr>\n",
       "  <th>Covariance Type:</th>     <td>nonrobust</td>    <th>  LLR p-value:       </th> <td>3.739e-32</td>\n",
       "</tr>\n",
       "</table>\n",
       "<table class=\"simpletable\">\n",
       "<tr>\n",
       "       <td></td>         <th>coef</th>     <th>std err</th>      <th>z</th>      <th>P>|z|</th>  <th>[0.025</th>    <th>0.975]</th>  \n",
       "</tr>\n",
       "<tr>\n",
       "  <th>loan</th>       <td>-2.913e-05</td> <td> 1.08e-05</td> <td>   -2.703</td> <td> 0.007</td> <td>-5.02e-05</td> <td>-8.01e-06</td>\n",
       "</tr>\n",
       "<tr>\n",
       "  <th>mortdue</th>    <td> -9.99e-07</td> <td> 2.77e-06</td> <td>   -0.360</td> <td> 0.718</td> <td>-6.43e-06</td> <td> 4.43e-06</td>\n",
       "</tr>\n",
       "<tr>\n",
       "  <th>yoj</th>        <td>   -0.0145</td> <td>    0.015</td> <td>   -0.989</td> <td> 0.323</td> <td>   -0.043</td> <td>    0.014</td>\n",
       "</tr>\n",
       "<tr>\n",
       "  <th>derog</th>      <td>    0.5448</td> <td>    0.149</td> <td>    3.655</td> <td> 0.000</td> <td>    0.253</td> <td>    0.837</td>\n",
       "</tr>\n",
       "<tr>\n",
       "  <th>delinq</th>     <td>    0.7888</td> <td>    0.102</td> <td>    7.754</td> <td> 0.000</td> <td>    0.589</td> <td>    0.988</td>\n",
       "</tr>\n",
       "<tr>\n",
       "  <th>clage</th>      <td>   -0.0064</td> <td>    0.001</td> <td>   -4.287</td> <td> 0.000</td> <td>   -0.009</td> <td>   -0.003</td>\n",
       "</tr>\n",
       "<tr>\n",
       "  <th>ninq</th>       <td>    0.0843</td> <td>    0.050</td> <td>    1.691</td> <td> 0.091</td> <td>   -0.013</td> <td>    0.182</td>\n",
       "</tr>\n",
       "<tr>\n",
       "  <th>clno</th>       <td>   -0.0362</td> <td>    0.012</td> <td>   -3.130</td> <td> 0.002</td> <td>   -0.059</td> <td>   -0.014</td>\n",
       "</tr>\n",
       "<tr>\n",
       "  <th>debtinc</th>    <td>    0.0632</td> <td>    0.011</td> <td>    5.685</td> <td> 0.000</td> <td>    0.041</td> <td>    0.085</td>\n",
       "</tr>\n",
       "<tr>\n",
       "  <th>job_Mgr</th>    <td>   -2.5243</td> <td>    0.384</td> <td>   -6.571</td> <td> 0.000</td> <td>   -3.277</td> <td>   -1.771</td>\n",
       "</tr>\n",
       "<tr>\n",
       "  <th>job_Office</th> <td>   -3.0163</td> <td>    0.401</td> <td>   -7.521</td> <td> 0.000</td> <td>   -3.802</td> <td>   -2.230</td>\n",
       "</tr>\n",
       "<tr>\n",
       "  <th>job_Other</th>  <td>   -2.7706</td> <td>    0.331</td> <td>   -8.376</td> <td> 0.000</td> <td>   -3.419</td> <td>   -2.122</td>\n",
       "</tr>\n",
       "<tr>\n",
       "  <th>job_ProfEx</th> <td>   -2.5418</td> <td>    0.355</td> <td>   -7.168</td> <td> 0.000</td> <td>   -3.237</td> <td>   -1.847</td>\n",
       "</tr>\n",
       "<tr>\n",
       "  <th>job_Sales</th>  <td>   -2.1006</td> <td>    0.768</td> <td>   -2.736</td> <td> 0.006</td> <td>   -3.605</td> <td>   -0.596</td>\n",
       "</tr>\n",
       "</table>"
      ],
      "text/plain": [
       "<class 'statsmodels.iolib.summary.Summary'>\n",
       "\"\"\"\n",
       "                           Logit Regression Results                           \n",
       "==============================================================================\n",
       "Dep. Variable:                    bad   No. Observations:                 1614\n",
       "Model:                          Logit   Df Residuals:                     1600\n",
       "Method:                           MLE   Df Model:                           13\n",
       "Date:                Sat, 01 Aug 2020   Pseudo R-squ.:                  0.1896\n",
       "Time:                        15:57:02   Log-Likelihood:                -391.44\n",
       "converged:                       True   LL-Null:                       -483.05\n",
       "Covariance Type:            nonrobust   LLR p-value:                 3.739e-32\n",
       "==============================================================================\n",
       "                 coef    std err          z      P>|z|      [0.025      0.975]\n",
       "------------------------------------------------------------------------------\n",
       "loan       -2.913e-05   1.08e-05     -2.703      0.007   -5.02e-05   -8.01e-06\n",
       "mortdue     -9.99e-07   2.77e-06     -0.360      0.718   -6.43e-06    4.43e-06\n",
       "yoj           -0.0145      0.015     -0.989      0.323      -0.043       0.014\n",
       "derog          0.5448      0.149      3.655      0.000       0.253       0.837\n",
       "delinq         0.7888      0.102      7.754      0.000       0.589       0.988\n",
       "clage         -0.0064      0.001     -4.287      0.000      -0.009      -0.003\n",
       "ninq           0.0843      0.050      1.691      0.091      -0.013       0.182\n",
       "clno          -0.0362      0.012     -3.130      0.002      -0.059      -0.014\n",
       "debtinc        0.0632      0.011      5.685      0.000       0.041       0.085\n",
       "job_Mgr       -2.5243      0.384     -6.571      0.000      -3.277      -1.771\n",
       "job_Office    -3.0163      0.401     -7.521      0.000      -3.802      -2.230\n",
       "job_Other     -2.7706      0.331     -8.376      0.000      -3.419      -2.122\n",
       "job_ProfEx    -2.5418      0.355     -7.168      0.000      -3.237      -1.847\n",
       "job_Sales     -2.1006      0.768     -2.736      0.006      -3.605      -0.596\n",
       "==============================================================================\n",
       "\"\"\""
      ]
     },
     "execution_count": 12,
     "metadata": {},
     "output_type": "execute_result"
    }
   ],
   "source": [
    "loj=sm.Logit(y_train,X_train)\n",
    "loj_model=loj.fit()\n",
    "loj_model.summary()"
   ]
  },
  {
   "cell_type": "code",
   "execution_count": 15,
   "metadata": {},
   "outputs": [],
   "source": [
    "X_train=X_train.drop([\"ninq\",\"yoj\",\"mortdue\"],axis=1)"
   ]
  },
  {
   "cell_type": "code",
   "execution_count": 16,
   "metadata": {},
   "outputs": [
    {
     "name": "stdout",
     "output_type": "stream",
     "text": [
      "Optimization terminated successfully.\n",
      "         Current function value: 0.243753\n",
      "         Iterations 7\n"
     ]
    },
    {
     "data": {
      "text/html": [
       "<table class=\"simpletable\">\n",
       "<caption>Logit Regression Results</caption>\n",
       "<tr>\n",
       "  <th>Dep. Variable:</th>          <td>bad</td>       <th>  No. Observations:  </th>  <td>  1614</td>  \n",
       "</tr>\n",
       "<tr>\n",
       "  <th>Model:</th>                 <td>Logit</td>      <th>  Df Residuals:      </th>  <td>  1603</td>  \n",
       "</tr>\n",
       "<tr>\n",
       "  <th>Method:</th>                 <td>MLE</td>       <th>  Df Model:          </th>  <td>    10</td>  \n",
       "</tr>\n",
       "<tr>\n",
       "  <th>Date:</th>            <td>Sat, 01 Aug 2020</td> <th>  Pseudo R-squ.:     </th>  <td>0.1856</td>  \n",
       "</tr>\n",
       "<tr>\n",
       "  <th>Time:</th>                <td>15:58:54</td>     <th>  Log-Likelihood:    </th> <td> -393.42</td> \n",
       "</tr>\n",
       "<tr>\n",
       "  <th>converged:</th>             <td>True</td>       <th>  LL-Null:           </th> <td> -483.05</td> \n",
       "</tr>\n",
       "<tr>\n",
       "  <th>Covariance Type:</th>     <td>nonrobust</td>    <th>  LLR p-value:       </th> <td>3.335e-33</td>\n",
       "</tr>\n",
       "</table>\n",
       "<table class=\"simpletable\">\n",
       "<tr>\n",
       "       <td></td>         <th>coef</th>     <th>std err</th>      <th>z</th>      <th>P>|z|</th>  <th>[0.025</th>    <th>0.975]</th>  \n",
       "</tr>\n",
       "<tr>\n",
       "  <th>loan</th>       <td> -2.98e-05</td> <td> 1.04e-05</td> <td>   -2.872</td> <td> 0.004</td> <td>-5.01e-05</td> <td>-9.46e-06</td>\n",
       "</tr>\n",
       "<tr>\n",
       "  <th>derog</th>      <td>    0.5905</td> <td>    0.145</td> <td>    4.065</td> <td> 0.000</td> <td>    0.306</td> <td>    0.875</td>\n",
       "</tr>\n",
       "<tr>\n",
       "  <th>delinq</th>     <td>    0.7730</td> <td>    0.099</td> <td>    7.788</td> <td> 0.000</td> <td>    0.578</td> <td>    0.967</td>\n",
       "</tr>\n",
       "<tr>\n",
       "  <th>clage</th>      <td>   -0.0071</td> <td>    0.001</td> <td>   -4.901</td> <td> 0.000</td> <td>   -0.010</td> <td>   -0.004</td>\n",
       "</tr>\n",
       "<tr>\n",
       "  <th>clno</th>       <td>   -0.0360</td> <td>    0.011</td> <td>   -3.235</td> <td> 0.001</td> <td>   -0.058</td> <td>   -0.014</td>\n",
       "</tr>\n",
       "<tr>\n",
       "  <th>debtinc</th>    <td>    0.0639</td> <td>    0.011</td> <td>    5.973</td> <td> 0.000</td> <td>    0.043</td> <td>    0.085</td>\n",
       "</tr>\n",
       "<tr>\n",
       "  <th>job_Mgr</th>    <td>   -2.5034</td> <td>    0.375</td> <td>   -6.669</td> <td> 0.000</td> <td>   -3.239</td> <td>   -1.768</td>\n",
       "</tr>\n",
       "<tr>\n",
       "  <th>job_Office</th> <td>   -3.0132</td> <td>    0.394</td> <td>   -7.654</td> <td> 0.000</td> <td>   -3.785</td> <td>   -2.242</td>\n",
       "</tr>\n",
       "<tr>\n",
       "  <th>job_Other</th>  <td>   -2.7523</td> <td>    0.317</td> <td>   -8.670</td> <td> 0.000</td> <td>   -3.375</td> <td>   -2.130</td>\n",
       "</tr>\n",
       "<tr>\n",
       "  <th>job_ProfEx</th> <td>   -2.5810</td> <td>    0.350</td> <td>   -7.367</td> <td> 0.000</td> <td>   -3.268</td> <td>   -1.894</td>\n",
       "</tr>\n",
       "<tr>\n",
       "  <th>job_Sales</th>  <td>   -2.0790</td> <td>    0.756</td> <td>   -2.751</td> <td> 0.006</td> <td>   -3.560</td> <td>   -0.598</td>\n",
       "</tr>\n",
       "</table>"
      ],
      "text/plain": [
       "<class 'statsmodels.iolib.summary.Summary'>\n",
       "\"\"\"\n",
       "                           Logit Regression Results                           \n",
       "==============================================================================\n",
       "Dep. Variable:                    bad   No. Observations:                 1614\n",
       "Model:                          Logit   Df Residuals:                     1603\n",
       "Method:                           MLE   Df Model:                           10\n",
       "Date:                Sat, 01 Aug 2020   Pseudo R-squ.:                  0.1856\n",
       "Time:                        15:58:54   Log-Likelihood:                -393.42\n",
       "converged:                       True   LL-Null:                       -483.05\n",
       "Covariance Type:            nonrobust   LLR p-value:                 3.335e-33\n",
       "==============================================================================\n",
       "                 coef    std err          z      P>|z|      [0.025      0.975]\n",
       "------------------------------------------------------------------------------\n",
       "loan        -2.98e-05   1.04e-05     -2.872      0.004   -5.01e-05   -9.46e-06\n",
       "derog          0.5905      0.145      4.065      0.000       0.306       0.875\n",
       "delinq         0.7730      0.099      7.788      0.000       0.578       0.967\n",
       "clage         -0.0071      0.001     -4.901      0.000      -0.010      -0.004\n",
       "clno          -0.0360      0.011     -3.235      0.001      -0.058      -0.014\n",
       "debtinc        0.0639      0.011      5.973      0.000       0.043       0.085\n",
       "job_Mgr       -2.5034      0.375     -6.669      0.000      -3.239      -1.768\n",
       "job_Office    -3.0132      0.394     -7.654      0.000      -3.785      -2.242\n",
       "job_Other     -2.7523      0.317     -8.670      0.000      -3.375      -2.130\n",
       "job_ProfEx    -2.5810      0.350     -7.367      0.000      -3.268      -1.894\n",
       "job_Sales     -2.0790      0.756     -2.751      0.006      -3.560      -0.598\n",
       "==============================================================================\n",
       "\"\"\""
      ]
     },
     "execution_count": 16,
     "metadata": {},
     "output_type": "execute_result"
    }
   ],
   "source": [
    "loj=sm.Logit(y_train,X_train)\n",
    "loj_model=loj.fit()\n",
    "loj_model.summary()"
   ]
  },
  {
   "cell_type": "code",
   "execution_count": 26,
   "metadata": {},
   "outputs": [
    {
     "data": {
      "text/html": [
       "<div>\n",
       "<style scoped>\n",
       "    .dataframe tbody tr th:only-of-type {\n",
       "        vertical-align: middle;\n",
       "    }\n",
       "\n",
       "    .dataframe tbody tr th {\n",
       "        vertical-align: top;\n",
       "    }\n",
       "\n",
       "    .dataframe thead th {\n",
       "        text-align: right;\n",
       "    }\n",
       "</style>\n",
       "<table border=\"1\" class=\"dataframe\">\n",
       "  <thead>\n",
       "    <tr style=\"text-align: right;\">\n",
       "      <th></th>\n",
       "      <th>VIF Factor</th>\n",
       "      <th>features</th>\n",
       "    </tr>\n",
       "  </thead>\n",
       "  <tbody>\n",
       "    <tr>\n",
       "      <th>0</th>\n",
       "      <td>4.183112</td>\n",
       "      <td>loan</td>\n",
       "    </tr>\n",
       "    <tr>\n",
       "      <th>1</th>\n",
       "      <td>1.124569</td>\n",
       "      <td>derog</td>\n",
       "    </tr>\n",
       "    <tr>\n",
       "      <th>2</th>\n",
       "      <td>1.165279</td>\n",
       "      <td>delinq</td>\n",
       "    </tr>\n",
       "    <tr>\n",
       "      <th>3</th>\n",
       "      <td>5.550302</td>\n",
       "      <td>clage</td>\n",
       "    </tr>\n",
       "    <tr>\n",
       "      <th>4</th>\n",
       "      <td>6.943635</td>\n",
       "      <td>clno</td>\n",
       "    </tr>\n",
       "    <tr>\n",
       "      <th>5</th>\n",
       "      <td>14.543216</td>\n",
       "      <td>debtinc</td>\n",
       "    </tr>\n",
       "    <tr>\n",
       "      <th>6</th>\n",
       "      <td>2.700248</td>\n",
       "      <td>job_Mgr</td>\n",
       "    </tr>\n",
       "    <tr>\n",
       "      <th>7</th>\n",
       "      <td>3.117296</td>\n",
       "      <td>job_Office</td>\n",
       "    </tr>\n",
       "    <tr>\n",
       "      <th>8</th>\n",
       "      <td>5.567195</td>\n",
       "      <td>job_Other</td>\n",
       "    </tr>\n",
       "    <tr>\n",
       "      <th>9</th>\n",
       "      <td>4.357132</td>\n",
       "      <td>job_ProfEx</td>\n",
       "    </tr>\n",
       "    <tr>\n",
       "      <th>10</th>\n",
       "      <td>1.218579</td>\n",
       "      <td>job_Sales</td>\n",
       "    </tr>\n",
       "  </tbody>\n",
       "</table>\n",
       "</div>"
      ],
      "text/plain": [
       "    VIF Factor    features\n",
       "0     4.183112        loan\n",
       "1     1.124569       derog\n",
       "2     1.165279      delinq\n",
       "3     5.550302       clage\n",
       "4     6.943635        clno\n",
       "5    14.543216     debtinc\n",
       "6     2.700248     job_Mgr\n",
       "7     3.117296  job_Office\n",
       "8     5.567195   job_Other\n",
       "9     4.357132  job_ProfEx\n",
       "10    1.218579   job_Sales"
      ]
     },
     "execution_count": 26,
     "metadata": {},
     "output_type": "execute_result"
    }
   ],
   "source": [
    "from patsy import dmatrices\n",
    "from statsmodels.stats.outliers_influence import variance_inflation_factor\n",
    "X=X.drop([\"ninq\",\"yoj\",\"mortdue\",\"value\",\"reason_DebtCon\"],axis=1)\n",
    "vif = pd.DataFrame()\n",
    "vif[\"VIF Factor\"] = [variance_inflation_factor(X.values, i) for i in range(X.shape[1])]\n",
    "vif[\"features\"] = X.columns\n",
    "vif"
   ]
  },
  {
   "cell_type": "code",
   "execution_count": 30,
   "metadata": {},
   "outputs": [],
   "source": [
    "X=X.drop([\"debtinc\"],axis=1)"
   ]
  },
  {
   "cell_type": "code",
   "execution_count": 31,
   "metadata": {},
   "outputs": [
    {
     "data": {
      "text/plain": [
       "LogisticRegression(solver='liblinear')"
      ]
     },
     "execution_count": 31,
     "metadata": {},
     "output_type": "execute_result"
    }
   ],
   "source": [
    "X_train, X_test, y_train,y_test=train_test_split(X,y,test_size=0.20,random_state=42)\n",
    "loj=LogisticRegression(solver=\"liblinear\")\n",
    "loj_model=loj.fit(X_train,y_train)\n",
    "loj_model"
   ]
  },
  {
   "cell_type": "code",
   "execution_count": 32,
   "metadata": {},
   "outputs": [],
   "source": [
    "y_pred=loj_model.predict(X_test)"
   ]
  },
  {
   "cell_type": "code",
   "execution_count": 33,
   "metadata": {},
   "outputs": [
    {
     "data": {
      "text/plain": [
       "0.9183168316831684"
      ]
     },
     "execution_count": 33,
     "metadata": {},
     "output_type": "execute_result"
    }
   ],
   "source": [
    "accuracy_score(y_test,y_pred)"
   ]
  },
  {
   "cell_type": "code",
   "execution_count": 34,
   "metadata": {},
   "outputs": [
    {
     "data": {
      "text/plain": [
       "0.919454770755886"
      ]
     },
     "execution_count": 34,
     "metadata": {},
     "output_type": "execute_result"
    }
   ],
   "source": [
    "accuracy_score(y_train,loj_model.predict(X_train))"
   ]
  },
  {
   "cell_type": "code",
   "execution_count": 35,
   "metadata": {},
   "outputs": [
    {
     "name": "stdout",
     "output_type": "stream",
     "text": [
      "              precision    recall  f1-score   support\n",
      "\n",
      "           0       0.92      0.99      0.96       369\n",
      "           1       0.67      0.11      0.20        35\n",
      "\n",
      "    accuracy                           0.92       404\n",
      "   macro avg       0.79      0.55      0.58       404\n",
      "weighted avg       0.90      0.92      0.89       404\n",
      "\n"
     ]
    }
   ],
   "source": [
    "print(classification_report(y_test,y_pred))"
   ]
  },
  {
   "cell_type": "code",
   "execution_count": 37,
   "metadata": {},
   "outputs": [
    {
     "data": {
      "text/plain": [
       "0.9206847634383866"
      ]
     },
     "execution_count": 37,
     "metadata": {},
     "output_type": "execute_result"
    }
   ],
   "source": [
    "cross_val_score(loj_model,X_train,y_train, cv=10).mean()"
   ]
  },
  {
   "cell_type": "code",
   "execution_count": null,
   "metadata": {},
   "outputs": [],
   "source": []
  }
 ],
 "metadata": {
  "kernelspec": {
   "display_name": "Python 3",
   "language": "python",
   "name": "python3"
  },
  "language_info": {
   "codemirror_mode": {
    "name": "ipython",
    "version": 3
   },
   "file_extension": ".py",
   "mimetype": "text/x-python",
   "name": "python",
   "nbconvert_exporter": "python",
   "pygments_lexer": "ipython3",
   "version": "3.7.6"
  }
 },
 "nbformat": 4,
 "nbformat_minor": 4
}
