{
 "cells": [
  {
   "cell_type": "markdown",
   "metadata": {},
   "source": [
    "# Homework2"
   ]
  },
  {
   "cell_type": "markdown",
   "metadata": {},
   "source": [
    "## Data Information"
   ]
  },
  {
   "cell_type": "code",
   "execution_count": 1,
   "metadata": {
    "scrolled": false
   },
   "outputs": [
    {
     "name": "stdout",
     "output_type": "stream",
     "text": [
      "   ind_5  ind_6  ind_8      ind_9     ind_10     ind_12     ind_13  ind_14  \\\n",
      "0     19     17  100.0  85.714286  14.285714  72.363515  60.808814   23.80   \n",
      "1     24     19  100.0  78.571429  21.428571  74.275883  64.366798   11.45   \n",
      "2     30     24  100.0  71.428571  28.571429  75.140402  65.915803    8.75   \n",
      "3     37     30  100.0  64.285714  35.714286  76.677846  68.584234    7.80   \n",
      "4     41     37  100.0  57.142857  42.857143  81.603007  76.455495   14.90   \n",
      "\n",
      "   ind_15  ind_16  ...  ind_416  ind_418  ind_420  ind_422  ind_424   ind_426  \\\n",
      "0   17.62   11.73  ...    -49.6      -54     -152     -353      1.0  0.498547   \n",
      "1   18.16   12.22  ...    -55.6      -60     -158     -359      1.0  0.537088   \n",
      "2   17.86   12.28  ...    -58.4      -60     -160     -362      1.0  0.615169   \n",
      "3   14.76   12.61  ...    -61.8      -65     -166     -367      1.0  0.661517   \n",
      "4   11.92   14.25  ...    -79.8      -86     -186     -388      1.0  0.747204   \n",
      "\n",
      "    ind_428  20_target  50_target  90_target  \n",
      "0  0.701906  15.135802  35.625252  36.997753  \n",
      "1  0.690833  15.143348  35.643013  37.016198  \n",
      "2  0.693040  15.146870  35.651301 -37.024805  \n",
      "3  0.673418  15.153283   0.000000 -37.040483  \n",
      "4  0.700522 -15.179065 -35.727079 -37.103503  \n",
      "\n",
      "[5 rows x 136 columns]\n"
     ]
    }
   ],
   "source": [
    "from pandas import read_excel\n",
    "df = read_excel('HW_Data_Set.xlsx', sheet_name = 'Sheet1')\n",
    "df=df.copy() \n",
    "print(df.head())"
   ]
  },
  {
   "cell_type": "code",
   "execution_count": 2,
   "metadata": {},
   "outputs": [
    {
     "name": "stdout",
     "output_type": "stream",
     "text": [
      "<class 'pandas.core.frame.DataFrame'>\n",
      "RangeIndex: 6167 entries, 0 to 6166\n",
      "Columns: 136 entries, ind_5 to 90_target\n",
      "dtypes: float64(88), int64(45), object(3)\n",
      "memory usage: 6.4+ MB\n"
     ]
    }
   ],
   "source": [
    "df.info()"
   ]
  },
  {
   "cell_type": "code",
   "execution_count": 8,
   "metadata": {},
   "outputs": [],
   "source": [
    "df=df.rename(columns={'50_target': 'target'})"
   ]
  },
  {
   "cell_type": "markdown",
   "metadata": {},
   "source": [
    "## Deleting Null variables"
   ]
  },
  {
   "cell_type": "code",
   "execution_count": 3,
   "metadata": {},
   "outputs": [],
   "source": [
    "import numpy as np\n",
    "df=df.replace('?',np.nan)\n",
    "df = df.dropna(axis=0, subset=['ind_422'])\n",
    "df = df.dropna(axis=0, subset=['ind_420'])"
   ]
  },
  {
   "cell_type": "code",
   "execution_count": 4,
   "metadata": {},
   "outputs": [
    {
     "data": {
      "text/plain": [
       "0"
      ]
     },
     "execution_count": 4,
     "metadata": {},
     "output_type": "execute_result"
    }
   ],
   "source": [
    "df[\"ind_420\"].isnull().sum(axis=0)"
   ]
  },
  {
   "cell_type": "code",
   "execution_count": 5,
   "metadata": {},
   "outputs": [
    {
     "data": {
      "text/plain": [
       "0"
      ]
     },
     "execution_count": 5,
     "metadata": {},
     "output_type": "execute_result"
    }
   ],
   "source": [
    "df[\"ind_422\"].isnull().sum(axis=0)"
   ]
  },
  {
   "cell_type": "markdown",
   "metadata": {},
   "source": [
    "## Categorical Variable "
   ]
  },
  {
   "cell_type": "code",
   "execution_count": 6,
   "metadata": {},
   "outputs": [
    {
     "data": {
      "text/plain": [
       "{'ind_109'}"
      ]
     },
     "execution_count": 6,
     "metadata": {},
     "output_type": "execute_result"
    }
   ],
   "source": [
    "col=df.columns\n",
    "\n",
    "num_cols=df._get_numeric_data().columns\n",
    "CAT=set(col)-set(num_cols)\n",
    "CAT"
   ]
  },
  {
   "cell_type": "code",
   "execution_count": 11,
   "metadata": {},
   "outputs": [
    {
     "data": {
      "text/plain": [
       "0       1\n",
       "1       1\n",
       "2       1\n",
       "3       1\n",
       "4       1\n",
       "       ..\n",
       "6162    0\n",
       "6163    0\n",
       "6164    1\n",
       "6165    1\n",
       "6166    1\n",
       "Name: ind_109, Length: 5126, dtype: int64"
      ]
     },
     "execution_count": 11,
     "metadata": {},
     "output_type": "execute_result"
    }
   ],
   "source": [
    "df[\"ind_109\"] = df[\"ind_109\"].map({'GREEN':1, 'RED' : 0})\n",
    "df[\"ind_109\"]"
   ]
  },
  {
   "cell_type": "markdown",
   "metadata": {},
   "source": [
    "## Categorical variable- Target Variable"
   ]
  },
  {
   "cell_type": "code",
   "execution_count": 12,
   "metadata": {
    "scrolled": true
   },
   "outputs": [
    {
     "name": "stdout",
     "output_type": "stream",
     "text": [
      "    ******KS TEST******\n",
      " \n",
      "Statistic= 0.03600864282964342, p-val=0.06979062305947004\n",
      "H0--> Fail to Reject.\n",
      "\n",
      "***********VARIANCE:************\n",
      "HİPOTEZ:\n",
      "Statistic= 2.470658470515576, p-val=0.11605106555455019\n",
      "H0--> Fail to Reject.\n",
      "\n",
      "**********MEAN:************\n",
      "Statistic= -1.5971919952189828, p-val=0.11028457920722129\n",
      "H0--> Fail to Reject.\n"
     ]
    }
   ],
   "source": [
    "import scipy.stats as stats\n",
    "from scipy.stats import shapiro\n",
    "from pandas import Series, DataFrame\n",
    "A=Series(df[\"target\"].iloc[:][df[\"ind_109\"]==1])\n",
    "B=Series(df[\"target\"].iloc[:][df[\"ind_109\"]==0])\n",
    "print(\"    ******KS TEST******\\n \")\n",
    "\n",
    "\n",
    "import scipy\n",
    "        \n",
    "stat, p=scipy.stats.ks_2samp(A,B)\n",
    "print(\"Statistic= {}, p-val={}\".format(stat,p))\n",
    "if p<0.05:\n",
    "    print(\"H0--> Reject. DIFFERENT DISTRIBUTION\\n\")\n",
    "else:\n",
    "    print(\"H0--> Fail to Reject.\\n\")\n",
    "    \n",
    "import scipy.stats as stats\n",
    "        \n",
    "print(\"***********VARIANCE:************\")\n",
    "print(\"HİPOTEZ:\")\n",
    "#print(\"H0:'mortdue-1' and 'mortdue-0' have same variance\\n\")\n",
    "        \n",
    "stat, p=stats.levene(A,B)\n",
    "print(\"Statistic= {}, p-val={}\".format(stat,p))\n",
    "if p<0.05:\n",
    "    print(\"H0--> Reject. DIFFERENT VARIANCE\\n\")\n",
    "else:\n",
    "    print(\"H0--> Fail to Reject.\\n\")\n",
    "            \n",
    "if p<0.05:\n",
    "    equ_var=False\n",
    "else:\n",
    "    equ_var=True\n",
    "print(\"**********MEAN:************\")\n",
    "stat, p=stats.ttest_ind(A,B, equal_var=equ_var)\n",
    "print(\"Statistic= {}, p-val={}\".format(stat,p))\n",
    "if p<0.05:\n",
    "    print(\"H0--> Reject.\\n DIFFERENT MEAN\\n\")\n",
    "else:\n",
    "    print(\"H0--> Fail to Reject.\")"
   ]
  },
  {
   "cell_type": "code",
   "execution_count": null,
   "metadata": {},
   "outputs": [],
   "source": [
    "# Categorical variable have effects on  the target value"
   ]
  },
  {
   "cell_type": "code",
   "execution_count": null,
   "metadata": {},
   "outputs": [],
   "source": [
    "## Correlation"
   ]
  },
  {
   "cell_type": "code",
   "execution_count": 13,
   "metadata": {
    "scrolled": true
   },
   "outputs": [
    {
     "data": {
      "text/html": [
       "<div>\n",
       "<style scoped>\n",
       "    .dataframe tbody tr th:only-of-type {\n",
       "        vertical-align: middle;\n",
       "    }\n",
       "\n",
       "    .dataframe tbody tr th {\n",
       "        vertical-align: top;\n",
       "    }\n",
       "\n",
       "    .dataframe thead th {\n",
       "        text-align: right;\n",
       "    }\n",
       "</style>\n",
       "<table border=\"1\" class=\"dataframe\">\n",
       "  <thead>\n",
       "    <tr style=\"text-align: right;\">\n",
       "      <th></th>\n",
       "      <th>ind_5</th>\n",
       "      <th>ind_6</th>\n",
       "      <th>ind_8</th>\n",
       "      <th>ind_9</th>\n",
       "      <th>ind_10</th>\n",
       "      <th>ind_12</th>\n",
       "      <th>ind_13</th>\n",
       "      <th>ind_14</th>\n",
       "      <th>ind_15</th>\n",
       "      <th>ind_16</th>\n",
       "      <th>...</th>\n",
       "      <th>ind_416</th>\n",
       "      <th>ind_418</th>\n",
       "      <th>ind_420</th>\n",
       "      <th>ind_422</th>\n",
       "      <th>ind_424</th>\n",
       "      <th>ind_426</th>\n",
       "      <th>ind_428</th>\n",
       "      <th>20_target</th>\n",
       "      <th>target</th>\n",
       "      <th>90_target</th>\n",
       "    </tr>\n",
       "  </thead>\n",
       "  <tbody>\n",
       "    <tr>\n",
       "      <th>ind_5</th>\n",
       "      <td>1.000000</td>\n",
       "      <td>0.990115</td>\n",
       "      <td>0.547483</td>\n",
       "      <td>-0.518832</td>\n",
       "      <td>0.644215</td>\n",
       "      <td>0.820822</td>\n",
       "      <td>0.777479</td>\n",
       "      <td>-0.045803</td>\n",
       "      <td>-0.067730</td>\n",
       "      <td>-0.092888</td>\n",
       "      <td>...</td>\n",
       "      <td>-0.324564</td>\n",
       "      <td>-0.587574</td>\n",
       "      <td>-0.317846</td>\n",
       "      <td>-0.329648</td>\n",
       "      <td>0.078010</td>\n",
       "      <td>0.621468</td>\n",
       "      <td>0.816156</td>\n",
       "      <td>0.052210</td>\n",
       "      <td>0.081537</td>\n",
       "      <td>0.073107</td>\n",
       "    </tr>\n",
       "    <tr>\n",
       "      <th>ind_6</th>\n",
       "      <td>0.990115</td>\n",
       "      <td>1.000000</td>\n",
       "      <td>0.521053</td>\n",
       "      <td>-0.479383</td>\n",
       "      <td>0.604380</td>\n",
       "      <td>0.767504</td>\n",
       "      <td>0.722541</td>\n",
       "      <td>-0.034480</td>\n",
       "      <td>-0.057776</td>\n",
       "      <td>-0.086007</td>\n",
       "      <td>...</td>\n",
       "      <td>-0.299246</td>\n",
       "      <td>-0.536726</td>\n",
       "      <td>-0.320019</td>\n",
       "      <td>-0.331171</td>\n",
       "      <td>0.023117</td>\n",
       "      <td>0.562515</td>\n",
       "      <td>0.809119</td>\n",
       "      <td>0.052347</td>\n",
       "      <td>0.081567</td>\n",
       "      <td>0.073585</td>\n",
       "    </tr>\n",
       "    <tr>\n",
       "      <th>ind_8</th>\n",
       "      <td>0.547483</td>\n",
       "      <td>0.521053</td>\n",
       "      <td>1.000000</td>\n",
       "      <td>-0.369578</td>\n",
       "      <td>0.826063</td>\n",
       "      <td>0.585052</td>\n",
       "      <td>0.480337</td>\n",
       "      <td>0.146128</td>\n",
       "      <td>0.119751</td>\n",
       "      <td>0.016810</td>\n",
       "      <td>...</td>\n",
       "      <td>-0.268403</td>\n",
       "      <td>-0.421079</td>\n",
       "      <td>-0.144740</td>\n",
       "      <td>-0.159317</td>\n",
       "      <td>0.142893</td>\n",
       "      <td>0.595508</td>\n",
       "      <td>0.458084</td>\n",
       "      <td>-0.016948</td>\n",
       "      <td>0.001962</td>\n",
       "      <td>-0.011621</td>\n",
       "    </tr>\n",
       "    <tr>\n",
       "      <th>ind_9</th>\n",
       "      <td>-0.518832</td>\n",
       "      <td>-0.479383</td>\n",
       "      <td>-0.369578</td>\n",
       "      <td>1.000000</td>\n",
       "      <td>-0.828971</td>\n",
       "      <td>-0.602616</td>\n",
       "      <td>-0.560931</td>\n",
       "      <td>0.260789</td>\n",
       "      <td>0.263371</td>\n",
       "      <td>0.172689</td>\n",
       "      <td>...</td>\n",
       "      <td>0.346778</td>\n",
       "      <td>0.504424</td>\n",
       "      <td>0.131142</td>\n",
       "      <td>0.160855</td>\n",
       "      <td>-0.180249</td>\n",
       "      <td>-0.639987</td>\n",
       "      <td>-0.439689</td>\n",
       "      <td>-0.023754</td>\n",
       "      <td>-0.005618</td>\n",
       "      <td>0.013177</td>\n",
       "    </tr>\n",
       "    <tr>\n",
       "      <th>ind_10</th>\n",
       "      <td>0.644215</td>\n",
       "      <td>0.604380</td>\n",
       "      <td>0.826063</td>\n",
       "      <td>-0.828971</td>\n",
       "      <td>1.000000</td>\n",
       "      <td>0.717645</td>\n",
       "      <td>0.629334</td>\n",
       "      <td>-0.070218</td>\n",
       "      <td>-0.087661</td>\n",
       "      <td>-0.094621</td>\n",
       "      <td>...</td>\n",
       "      <td>-0.371881</td>\n",
       "      <td>-0.559393</td>\n",
       "      <td>-0.166660</td>\n",
       "      <td>-0.193456</td>\n",
       "      <td>0.195333</td>\n",
       "      <td>0.746605</td>\n",
       "      <td>0.542404</td>\n",
       "      <td>0.004207</td>\n",
       "      <td>0.004588</td>\n",
       "      <td>-0.014987</td>\n",
       "    </tr>\n",
       "    <tr>\n",
       "      <th>...</th>\n",
       "      <td>...</td>\n",
       "      <td>...</td>\n",
       "      <td>...</td>\n",
       "      <td>...</td>\n",
       "      <td>...</td>\n",
       "      <td>...</td>\n",
       "      <td>...</td>\n",
       "      <td>...</td>\n",
       "      <td>...</td>\n",
       "      <td>...</td>\n",
       "      <td>...</td>\n",
       "      <td>...</td>\n",
       "      <td>...</td>\n",
       "      <td>...</td>\n",
       "      <td>...</td>\n",
       "      <td>...</td>\n",
       "      <td>...</td>\n",
       "      <td>...</td>\n",
       "      <td>...</td>\n",
       "      <td>...</td>\n",
       "      <td>...</td>\n",
       "    </tr>\n",
       "    <tr>\n",
       "      <th>ind_426</th>\n",
       "      <td>0.621468</td>\n",
       "      <td>0.562515</td>\n",
       "      <td>0.595508</td>\n",
       "      <td>-0.639987</td>\n",
       "      <td>0.746605</td>\n",
       "      <td>0.775348</td>\n",
       "      <td>0.699661</td>\n",
       "      <td>-0.095876</td>\n",
       "      <td>-0.100360</td>\n",
       "      <td>-0.087605</td>\n",
       "      <td>...</td>\n",
       "      <td>-0.370107</td>\n",
       "      <td>-0.583362</td>\n",
       "      <td>-0.170756</td>\n",
       "      <td>-0.204524</td>\n",
       "      <td>0.341137</td>\n",
       "      <td>1.000000</td>\n",
       "      <td>0.580932</td>\n",
       "      <td>0.023080</td>\n",
       "      <td>0.016545</td>\n",
       "      <td>0.003437</td>\n",
       "    </tr>\n",
       "    <tr>\n",
       "      <th>ind_428</th>\n",
       "      <td>0.816156</td>\n",
       "      <td>0.809119</td>\n",
       "      <td>0.458084</td>\n",
       "      <td>-0.439689</td>\n",
       "      <td>0.542404</td>\n",
       "      <td>0.808156</td>\n",
       "      <td>0.729684</td>\n",
       "      <td>-0.006137</td>\n",
       "      <td>-0.019001</td>\n",
       "      <td>-0.035110</td>\n",
       "      <td>...</td>\n",
       "      <td>-0.281079</td>\n",
       "      <td>-0.459643</td>\n",
       "      <td>-0.327875</td>\n",
       "      <td>-0.358164</td>\n",
       "      <td>0.189822</td>\n",
       "      <td>0.580932</td>\n",
       "      <td>1.000000</td>\n",
       "      <td>0.041987</td>\n",
       "      <td>0.068053</td>\n",
       "      <td>0.058844</td>\n",
       "    </tr>\n",
       "    <tr>\n",
       "      <th>20_target</th>\n",
       "      <td>0.052210</td>\n",
       "      <td>0.052347</td>\n",
       "      <td>-0.016948</td>\n",
       "      <td>-0.023754</td>\n",
       "      <td>0.004207</td>\n",
       "      <td>0.034990</td>\n",
       "      <td>0.041982</td>\n",
       "      <td>0.001557</td>\n",
       "      <td>0.001838</td>\n",
       "      <td>0.025399</td>\n",
       "      <td>...</td>\n",
       "      <td>-0.004466</td>\n",
       "      <td>-0.044326</td>\n",
       "      <td>-0.001936</td>\n",
       "      <td>-0.035405</td>\n",
       "      <td>0.002466</td>\n",
       "      <td>0.023080</td>\n",
       "      <td>0.041987</td>\n",
       "      <td>1.000000</td>\n",
       "      <td>0.372915</td>\n",
       "      <td>0.344982</td>\n",
       "    </tr>\n",
       "    <tr>\n",
       "      <th>target</th>\n",
       "      <td>0.081537</td>\n",
       "      <td>0.081567</td>\n",
       "      <td>0.001962</td>\n",
       "      <td>-0.005618</td>\n",
       "      <td>0.004588</td>\n",
       "      <td>0.065218</td>\n",
       "      <td>0.057671</td>\n",
       "      <td>0.075191</td>\n",
       "      <td>0.087573</td>\n",
       "      <td>0.107244</td>\n",
       "      <td>...</td>\n",
       "      <td>0.041196</td>\n",
       "      <td>-0.114093</td>\n",
       "      <td>-0.030940</td>\n",
       "      <td>0.003000</td>\n",
       "      <td>-0.001411</td>\n",
       "      <td>0.016545</td>\n",
       "      <td>0.068053</td>\n",
       "      <td>0.372915</td>\n",
       "      <td>1.000000</td>\n",
       "      <td>0.935970</td>\n",
       "    </tr>\n",
       "    <tr>\n",
       "      <th>90_target</th>\n",
       "      <td>0.073107</td>\n",
       "      <td>0.073585</td>\n",
       "      <td>-0.011621</td>\n",
       "      <td>0.013177</td>\n",
       "      <td>-0.014987</td>\n",
       "      <td>0.051887</td>\n",
       "      <td>0.048264</td>\n",
       "      <td>0.081735</td>\n",
       "      <td>0.090027</td>\n",
       "      <td>0.112978</td>\n",
       "      <td>...</td>\n",
       "      <td>0.041301</td>\n",
       "      <td>-0.108483</td>\n",
       "      <td>-0.024791</td>\n",
       "      <td>0.002561</td>\n",
       "      <td>-0.008374</td>\n",
       "      <td>0.003437</td>\n",
       "      <td>0.058844</td>\n",
       "      <td>0.344982</td>\n",
       "      <td>0.935970</td>\n",
       "      <td>1.000000</td>\n",
       "    </tr>\n",
       "  </tbody>\n",
       "</table>\n",
       "<p>136 rows × 136 columns</p>\n",
       "</div>"
      ],
      "text/plain": [
       "              ind_5     ind_6     ind_8     ind_9    ind_10    ind_12  \\\n",
       "ind_5      1.000000  0.990115  0.547483 -0.518832  0.644215  0.820822   \n",
       "ind_6      0.990115  1.000000  0.521053 -0.479383  0.604380  0.767504   \n",
       "ind_8      0.547483  0.521053  1.000000 -0.369578  0.826063  0.585052   \n",
       "ind_9     -0.518832 -0.479383 -0.369578  1.000000 -0.828971 -0.602616   \n",
       "ind_10     0.644215  0.604380  0.826063 -0.828971  1.000000  0.717645   \n",
       "...             ...       ...       ...       ...       ...       ...   \n",
       "ind_426    0.621468  0.562515  0.595508 -0.639987  0.746605  0.775348   \n",
       "ind_428    0.816156  0.809119  0.458084 -0.439689  0.542404  0.808156   \n",
       "20_target  0.052210  0.052347 -0.016948 -0.023754  0.004207  0.034990   \n",
       "target     0.081537  0.081567  0.001962 -0.005618  0.004588  0.065218   \n",
       "90_target  0.073107  0.073585 -0.011621  0.013177 -0.014987  0.051887   \n",
       "\n",
       "             ind_13    ind_14    ind_15    ind_16  ...   ind_416   ind_418  \\\n",
       "ind_5      0.777479 -0.045803 -0.067730 -0.092888  ... -0.324564 -0.587574   \n",
       "ind_6      0.722541 -0.034480 -0.057776 -0.086007  ... -0.299246 -0.536726   \n",
       "ind_8      0.480337  0.146128  0.119751  0.016810  ... -0.268403 -0.421079   \n",
       "ind_9     -0.560931  0.260789  0.263371  0.172689  ...  0.346778  0.504424   \n",
       "ind_10     0.629334 -0.070218 -0.087661 -0.094621  ... -0.371881 -0.559393   \n",
       "...             ...       ...       ...       ...  ...       ...       ...   \n",
       "ind_426    0.699661 -0.095876 -0.100360 -0.087605  ... -0.370107 -0.583362   \n",
       "ind_428    0.729684 -0.006137 -0.019001 -0.035110  ... -0.281079 -0.459643   \n",
       "20_target  0.041982  0.001557  0.001838  0.025399  ... -0.004466 -0.044326   \n",
       "target     0.057671  0.075191  0.087573  0.107244  ...  0.041196 -0.114093   \n",
       "90_target  0.048264  0.081735  0.090027  0.112978  ...  0.041301 -0.108483   \n",
       "\n",
       "            ind_420   ind_422   ind_424   ind_426   ind_428  20_target  \\\n",
       "ind_5     -0.317846 -0.329648  0.078010  0.621468  0.816156   0.052210   \n",
       "ind_6     -0.320019 -0.331171  0.023117  0.562515  0.809119   0.052347   \n",
       "ind_8     -0.144740 -0.159317  0.142893  0.595508  0.458084  -0.016948   \n",
       "ind_9      0.131142  0.160855 -0.180249 -0.639987 -0.439689  -0.023754   \n",
       "ind_10    -0.166660 -0.193456  0.195333  0.746605  0.542404   0.004207   \n",
       "...             ...       ...       ...       ...       ...        ...   \n",
       "ind_426   -0.170756 -0.204524  0.341137  1.000000  0.580932   0.023080   \n",
       "ind_428   -0.327875 -0.358164  0.189822  0.580932  1.000000   0.041987   \n",
       "20_target -0.001936 -0.035405  0.002466  0.023080  0.041987   1.000000   \n",
       "target    -0.030940  0.003000 -0.001411  0.016545  0.068053   0.372915   \n",
       "90_target -0.024791  0.002561 -0.008374  0.003437  0.058844   0.344982   \n",
       "\n",
       "             target  90_target  \n",
       "ind_5      0.081537   0.073107  \n",
       "ind_6      0.081567   0.073585  \n",
       "ind_8      0.001962  -0.011621  \n",
       "ind_9     -0.005618   0.013177  \n",
       "ind_10     0.004588  -0.014987  \n",
       "...             ...        ...  \n",
       "ind_426    0.016545   0.003437  \n",
       "ind_428    0.068053   0.058844  \n",
       "20_target  0.372915   0.344982  \n",
       "target     1.000000   0.935970  \n",
       "90_target  0.935970   1.000000  \n",
       "\n",
       "[136 rows x 136 columns]"
      ]
     },
     "execution_count": 13,
     "metadata": {},
     "output_type": "execute_result"
    }
   ],
   "source": [
    "cor=df.corr()\n",
    "cor"
   ]
  },
  {
   "cell_type": "code",
   "execution_count": null,
   "metadata": {},
   "outputs": [],
   "source": [
    "# Highest values of correlation on target"
   ]
  },
  {
   "cell_type": "code",
   "execution_count": 15,
   "metadata": {},
   "outputs": [
    {
     "data": {
      "text/plain": [
       "ind_16       0.107244\n",
       "ind_17       0.124296\n",
       "ind_18       0.130508\n",
       "ind_36       0.110087\n",
       "ind_74       0.104423\n",
       "ind_77       0.121269\n",
       "ind_332      0.102745\n",
       "ind_412      0.135387\n",
       "20_target    0.372915\n",
       "target       1.000000\n",
       "90_target    0.935970\n",
       "Name: target, dtype: float64"
      ]
     },
     "execution_count": 15,
     "metadata": {},
     "output_type": "execute_result"
    }
   ],
   "source": [
    "cor['target'].iloc[:][(cor['target']>= 0.1)]"
   ]
  },
  {
   "cell_type": "code",
   "execution_count": 20,
   "metadata": {},
   "outputs": [
    {
     "data": {
      "text/plain": [
       "<seaborn.axisgrid.JointGrid at 0x93ce088>"
      ]
     },
     "execution_count": 20,
     "metadata": {},
     "output_type": "execute_result"
    },
    {
     "data": {
      "image/png": "[encoded data removed]",
      "text/plain": [
       "<Figure size 432x432 with 3 Axes>"
      ]
     },
     "metadata": {
      "needs_background": "light"
     },
     "output_type": "display_data"
    }
   ],
   "source": [
    "import seaborn as sns \n",
    "sns.jointplot(x=\"ind_412\",y=\"target\",data=df, kind=\"reg\")"
   ]
  },
  {
   "cell_type": "code",
   "execution_count": 21,
   "metadata": {},
   "outputs": [
    {
     "data": {
      "text/plain": [
       "<seaborn.axisgrid.JointGrid at 0xa4ce788>"
      ]
     },
     "execution_count": 21,
     "metadata": {},
     "output_type": "execute_result"
    },
    {
     "data": {
      "image/png": "[encoded data removed]",
      "text/plain": [
       "<Figure size 432x432 with 3 Axes>"
      ]
     },
     "metadata": {
      "needs_background": "light"
     },
     "output_type": "display_data"
    }
   ],
   "source": [
    "import seaborn as sns \n",
    "sns.jointplot(x=\"ind_18\",y=\"target\",data=df, kind=\"reg\")"
   ]
  },
  {
   "cell_type": "code",
   "execution_count": null,
   "metadata": {},
   "outputs": [],
   "source": []
  },
  {
   "cell_type": "code",
   "execution_count": null,
   "metadata": {},
   "outputs": [],
   "source": []
  },
  {
   "cell_type": "code",
   "execution_count": 41,
   "metadata": {},
   "outputs": [
    {
     "data": {
      "text/html": [
       "<table class=\"simpletable\">\n",
       "<caption>OLS Regression Results</caption>\n",
       "<tr>\n",
       "  <th>Dep. Variable:</th>         <td>target</td>      <th>  R-squared:         </th> <td>   0.176</td> \n",
       "</tr>\n",
       "<tr>\n",
       "  <th>Model:</th>                   <td>OLS</td>       <th>  Adj. R-squared:    </th> <td>   0.170</td> \n",
       "</tr>\n",
       "<tr>\n",
       "  <th>Method:</th>             <td>Least Squares</td>  <th>  F-statistic:       </th> <td>   29.34</td> \n",
       "</tr>\n",
       "<tr>\n",
       "  <th>Date:</th>             <td>Thu, 23 Jul 2020</td> <th>  Prob (F-statistic):</th> <td>4.09e-183</td>\n",
       "</tr>\n",
       "<tr>\n",
       "  <th>Time:</th>                 <td>17:37:12</td>     <th>  Log-Likelihood:    </th> <td> -24898.</td> \n",
       "</tr>\n",
       "<tr>\n",
       "  <th>No. Observations:</th>      <td>  5126</td>      <th>  AIC:               </th> <td>4.987e+04</td>\n",
       "</tr>\n",
       "<tr>\n",
       "  <th>Df Residuals:</th>          <td>  5088</td>      <th>  BIC:               </th> <td>5.012e+04</td>\n",
       "</tr>\n",
       "<tr>\n",
       "  <th>Df Model:</th>              <td>    37</td>      <th>                     </th>     <td> </td>    \n",
       "</tr>\n",
       "<tr>\n",
       "  <th>Covariance Type:</th>      <td>nonrobust</td>    <th>                     </th>     <td> </td>    \n",
       "</tr>\n",
       "</table>\n",
       "<table class=\"simpletable\">\n",
       "<tr>\n",
       "      <td></td>         <th>coef</th>     <th>std err</th>      <th>t</th>      <th>P>|t|</th>  <th>[0.025</th>    <th>0.975]</th>  \n",
       "</tr>\n",
       "<tr>\n",
       "  <th>Intercept</th> <td>  204.8764</td> <td>   25.388</td> <td>    8.070</td> <td> 0.000</td> <td>  155.106</td> <td>  254.647</td>\n",
       "</tr>\n",
       "<tr>\n",
       "  <th>ind_8</th>     <td>-2.903e+08</td> <td> 1.22e+08</td> <td>   -2.377</td> <td> 0.017</td> <td> -5.3e+08</td> <td>-5.09e+07</td>\n",
       "</tr>\n",
       "<tr>\n",
       "  <th>ind_9</th>     <td> 2.903e+08</td> <td> 1.22e+08</td> <td>    2.377</td> <td> 0.017</td> <td> 5.09e+07</td> <td>  5.3e+08</td>\n",
       "</tr>\n",
       "<tr>\n",
       "  <th>ind_10</th>    <td> 2.903e+08</td> <td> 1.22e+08</td> <td>    2.377</td> <td> 0.017</td> <td> 5.09e+07</td> <td>  5.3e+08</td>\n",
       "</tr>\n",
       "<tr>\n",
       "  <th>ind_18</th>    <td>    0.9923</td> <td>    0.217</td> <td>    4.577</td> <td> 0.000</td> <td>    0.567</td> <td>    1.417</td>\n",
       "</tr>\n",
       "<tr>\n",
       "  <th>ind_32</th>    <td>   -0.0210</td> <td>    0.009</td> <td>   -2.263</td> <td> 0.024</td> <td>   -0.039</td> <td>   -0.003</td>\n",
       "</tr>\n",
       "<tr>\n",
       "  <th>ind_37</th>    <td>    0.1379</td> <td>    0.013</td> <td>   10.790</td> <td> 0.000</td> <td>    0.113</td> <td>    0.163</td>\n",
       "</tr>\n",
       "<tr>\n",
       "  <th>ind_47</th>    <td>    0.6101</td> <td>    0.091</td> <td>    6.738</td> <td> 0.000</td> <td>    0.433</td> <td>    0.788</td>\n",
       "</tr>\n",
       "<tr>\n",
       "  <th>ind_50</th>    <td>    0.5239</td> <td>    0.101</td> <td>    5.196</td> <td> 0.000</td> <td>    0.326</td> <td>    0.721</td>\n",
       "</tr>\n",
       "<tr>\n",
       "  <th>ind_51</th>    <td>   -0.2939</td> <td>    0.058</td> <td>   -5.103</td> <td> 0.000</td> <td>   -0.407</td> <td>   -0.181</td>\n",
       "</tr>\n",
       "<tr>\n",
       "  <th>ind_74</th>    <td>   -0.2752</td> <td>    0.120</td> <td>   -2.289</td> <td> 0.022</td> <td>   -0.511</td> <td>   -0.040</td>\n",
       "</tr>\n",
       "<tr>\n",
       "  <th>ind_77</th>    <td>    0.6731</td> <td>    0.125</td> <td>    5.379</td> <td> 0.000</td> <td>    0.428</td> <td>    0.918</td>\n",
       "</tr>\n",
       "<tr>\n",
       "  <th>ind_82</th>    <td>    7.3684</td> <td>    1.418</td> <td>    5.197</td> <td> 0.000</td> <td>    4.589</td> <td>   10.148</td>\n",
       "</tr>\n",
       "<tr>\n",
       "  <th>ind_102</th>   <td>   -3.0090</td> <td>    0.701</td> <td>   -4.293</td> <td> 0.000</td> <td>   -4.383</td> <td>   -1.635</td>\n",
       "</tr>\n",
       "<tr>\n",
       "  <th>ind_109</th>   <td>   -3.5344</td> <td>    1.144</td> <td>   -3.089</td> <td> 0.002</td> <td>   -5.777</td> <td>   -1.292</td>\n",
       "</tr>\n",
       "<tr>\n",
       "  <th>ind_128</th>   <td>   -2.4929</td> <td>    0.598</td> <td>   -4.167</td> <td> 0.000</td> <td>   -3.666</td> <td>   -1.320</td>\n",
       "</tr>\n",
       "<tr>\n",
       "  <th>ind_130</th>   <td>   -0.7758</td> <td>    0.090</td> <td>   -8.646</td> <td> 0.000</td> <td>   -0.952</td> <td>   -0.600</td>\n",
       "</tr>\n",
       "<tr>\n",
       "  <th>ind_150</th>   <td>    4.5397</td> <td>    0.381</td> <td>   11.907</td> <td> 0.000</td> <td>    3.792</td> <td>    5.287</td>\n",
       "</tr>\n",
       "<tr>\n",
       "  <th>ind_153</th>   <td>  -12.2529</td> <td>    0.817</td> <td>  -15.000</td> <td> 0.000</td> <td>  -13.854</td> <td>  -10.652</td>\n",
       "</tr>\n",
       "<tr>\n",
       "  <th>ind_156</th>   <td>    2.7695</td> <td>    0.527</td> <td>    5.258</td> <td> 0.000</td> <td>    1.737</td> <td>    3.802</td>\n",
       "</tr>\n",
       "<tr>\n",
       "  <th>ind_217</th>   <td>    2.3239</td> <td>    0.514</td> <td>    4.517</td> <td> 0.000</td> <td>    1.315</td> <td>    3.332</td>\n",
       "</tr>\n",
       "<tr>\n",
       "  <th>ind_237</th>   <td>    0.1209</td> <td>    0.017</td> <td>    6.923</td> <td> 0.000</td> <td>    0.087</td> <td>    0.155</td>\n",
       "</tr>\n",
       "<tr>\n",
       "  <th>ind_241</th>   <td>    5.6571</td> <td>    0.929</td> <td>    6.088</td> <td> 0.000</td> <td>    3.835</td> <td>    7.479</td>\n",
       "</tr>\n",
       "<tr>\n",
       "  <th>ind_243</th>   <td> -458.4418</td> <td>   75.556</td> <td>   -6.068</td> <td> 0.000</td> <td> -606.564</td> <td> -310.320</td>\n",
       "</tr>\n",
       "<tr>\n",
       "  <th>ind_311</th>   <td>   -3.9020</td> <td>    0.897</td> <td>   -4.352</td> <td> 0.000</td> <td>   -5.660</td> <td>   -2.144</td>\n",
       "</tr>\n",
       "<tr>\n",
       "  <th>ind_313</th>   <td>  324.8330</td> <td>   75.741</td> <td>    4.289</td> <td> 0.000</td> <td>  176.348</td> <td>  473.318</td>\n",
       "</tr>\n",
       "<tr>\n",
       "  <th>ind_315</th>   <td>   -7.5872</td> <td>    0.918</td> <td>   -8.261</td> <td> 0.000</td> <td>   -9.388</td> <td>   -5.787</td>\n",
       "</tr>\n",
       "<tr>\n",
       "  <th>ind_324</th>   <td>-2.631e+04</td> <td> 4204.175</td> <td>   -6.257</td> <td> 0.000</td> <td>-3.45e+04</td> <td>-1.81e+04</td>\n",
       "</tr>\n",
       "<tr>\n",
       "  <th>ind_330</th>   <td>    8.6725</td> <td>    2.901</td> <td>    2.990</td> <td> 0.003</td> <td>    2.986</td> <td>   14.359</td>\n",
       "</tr>\n",
       "<tr>\n",
       "  <th>ind_332</th>   <td>    0.1609</td> <td>    0.027</td> <td>    6.030</td> <td> 0.000</td> <td>    0.109</td> <td>    0.213</td>\n",
       "</tr>\n",
       "<tr>\n",
       "  <th>ind_334</th>   <td> 1.176e+05</td> <td> 1.51e+04</td> <td>    7.798</td> <td> 0.000</td> <td>  8.8e+04</td> <td> 1.47e+05</td>\n",
       "</tr>\n",
       "<tr>\n",
       "  <th>ind_338</th>   <td>   32.3861</td> <td>    3.305</td> <td>    9.800</td> <td> 0.000</td> <td>   25.907</td> <td>   38.865</td>\n",
       "</tr>\n",
       "<tr>\n",
       "  <th>ind_340</th>   <td>   39.8164</td> <td>    9.619</td> <td>    4.139</td> <td> 0.000</td> <td>   20.959</td> <td>   58.674</td>\n",
       "</tr>\n",
       "<tr>\n",
       "  <th>ind_412</th>   <td>  725.5146</td> <td>  107.054</td> <td>    6.777</td> <td> 0.000</td> <td>  515.643</td> <td>  935.386</td>\n",
       "</tr>\n",
       "<tr>\n",
       "  <th>ind_416</th>   <td>    0.1550</td> <td>    0.032</td> <td>    4.892</td> <td> 0.000</td> <td>    0.093</td> <td>    0.217</td>\n",
       "</tr>\n",
       "<tr>\n",
       "  <th>ind_418</th>   <td>   -0.1835</td> <td>    0.035</td> <td>   -5.199</td> <td> 0.000</td> <td>   -0.253</td> <td>   -0.114</td>\n",
       "</tr>\n",
       "<tr>\n",
       "  <th>ind_420</th>   <td>   -0.0397</td> <td>    0.006</td> <td>   -6.733</td> <td> 0.000</td> <td>   -0.051</td> <td>   -0.028</td>\n",
       "</tr>\n",
       "<tr>\n",
       "  <th>ind_428</th>   <td>  -16.5213</td> <td>    6.704</td> <td>   -2.464</td> <td> 0.014</td> <td>  -29.664</td> <td>   -3.378</td>\n",
       "</tr>\n",
       "</table>\n",
       "<table class=\"simpletable\">\n",
       "<tr>\n",
       "  <th>Omnibus:</th>       <td>10434.089</td> <th>  Durbin-Watson:     </th> <td>   0.369</td>\n",
       "</tr>\n",
       "<tr>\n",
       "  <th>Prob(Omnibus):</th>  <td> 0.000</td>   <th>  Jarque-Bera (JB):  </th> <td> 367.970</td>\n",
       "</tr>\n",
       "<tr>\n",
       "  <th>Skew:</th>           <td> 0.157</td>   <th>  Prob(JB):          </th> <td>1.25e-80</td>\n",
       "</tr>\n",
       "<tr>\n",
       "  <th>Kurtosis:</th>       <td> 1.726</td>   <th>  Cond. No.          </th> <td>9.62e+10</td>\n",
       "</tr>\n",
       "</table><br/><br/>Warnings:<br/>[1] Standard Errors assume that the covariance matrix of the errors is correctly specified.<br/>[2] The smallest eigenvalue is 2.18e-14. This might indicate that there are<br/>strong multicollinearity problems or that the design matrix is singular."
      ],
      "text/plain": [
       "<class 'statsmodels.iolib.summary.Summary'>\n",
       "\"\"\"\n",
       "                            OLS Regression Results                            \n",
       "==============================================================================\n",
       "Dep. Variable:                 target   R-squared:                       0.176\n",
       "Model:                            OLS   Adj. R-squared:                  0.170\n",
       "Method:                 Least Squares   F-statistic:                     29.34\n",
       "Date:                Thu, 23 Jul 2020   Prob (F-statistic):          4.09e-183\n",
       "Time:                        17:37:12   Log-Likelihood:                -24898.\n",
       "No. Observations:                5126   AIC:                         4.987e+04\n",
       "Df Residuals:                    5088   BIC:                         5.012e+04\n",
       "Df Model:                          37                                         \n",
       "Covariance Type:            nonrobust                                         \n",
       "==============================================================================\n",
       "                 coef    std err          t      P>|t|      [0.025      0.975]\n",
       "------------------------------------------------------------------------------\n",
       "Intercept    204.8764     25.388      8.070      0.000     155.106     254.647\n",
       "ind_8      -2.903e+08   1.22e+08     -2.377      0.017    -5.3e+08   -5.09e+07\n",
       "ind_9       2.903e+08   1.22e+08      2.377      0.017    5.09e+07     5.3e+08\n",
       "ind_10      2.903e+08   1.22e+08      2.377      0.017    5.09e+07     5.3e+08\n",
       "ind_18         0.9923      0.217      4.577      0.000       0.567       1.417\n",
       "ind_32        -0.0210      0.009     -2.263      0.024      -0.039      -0.003\n",
       "ind_37         0.1379      0.013     10.790      0.000       0.113       0.163\n",
       "ind_47         0.6101      0.091      6.738      0.000       0.433       0.788\n",
       "ind_50         0.5239      0.101      5.196      0.000       0.326       0.721\n",
       "ind_51        -0.2939      0.058     -5.103      0.000      -0.407      -0.181\n",
       "ind_74        -0.2752      0.120     -2.289      0.022      -0.511      -0.040\n",
       "ind_77         0.6731      0.125      5.379      0.000       0.428       0.918\n",
       "ind_82         7.3684      1.418      5.197      0.000       4.589      10.148\n",
       "ind_102       -3.0090      0.701     -4.293      0.000      -4.383      -1.635\n",
       "ind_109       -3.5344      1.144     -3.089      0.002      -5.777      -1.292\n",
       "ind_128       -2.4929      0.598     -4.167      0.000      -3.666      -1.320\n",
       "ind_130       -0.7758      0.090     -8.646      0.000      -0.952      -0.600\n",
       "ind_150        4.5397      0.381     11.907      0.000       3.792       5.287\n",
       "ind_153      -12.2529      0.817    -15.000      0.000     -13.854     -10.652\n",
       "ind_156        2.7695      0.527      5.258      0.000       1.737       3.802\n",
       "ind_217        2.3239      0.514      4.517      0.000       1.315       3.332\n",
       "ind_237        0.1209      0.017      6.923      0.000       0.087       0.155\n",
       "ind_241        5.6571      0.929      6.088      0.000       3.835       7.479\n",
       "ind_243     -458.4418     75.556     -6.068      0.000    -606.564    -310.320\n",
       "ind_311       -3.9020      0.897     -4.352      0.000      -5.660      -2.144\n",
       "ind_313      324.8330     75.741      4.289      0.000     176.348     473.318\n",
       "ind_315       -7.5872      0.918     -8.261      0.000      -9.388      -5.787\n",
       "ind_324    -2.631e+04   4204.175     -6.257      0.000   -3.45e+04   -1.81e+04\n",
       "ind_330        8.6725      2.901      2.990      0.003       2.986      14.359\n",
       "ind_332        0.1609      0.027      6.030      0.000       0.109       0.213\n",
       "ind_334     1.176e+05   1.51e+04      7.798      0.000     8.8e+04    1.47e+05\n",
       "ind_338       32.3861      3.305      9.800      0.000      25.907      38.865\n",
       "ind_340       39.8164      9.619      4.139      0.000      20.959      58.674\n",
       "ind_412      725.5146    107.054      6.777      0.000     515.643     935.386\n",
       "ind_416        0.1550      0.032      4.892      0.000       0.093       0.217\n",
       "ind_418       -0.1835      0.035     -5.199      0.000      -0.253      -0.114\n",
       "ind_420       -0.0397      0.006     -6.733      0.000      -0.051      -0.028\n",
       "ind_428      -16.5213      6.704     -2.464      0.014     -29.664      -3.378\n",
       "==============================================================================\n",
       "Omnibus:                    10434.089   Durbin-Watson:                   0.369\n",
       "Prob(Omnibus):                  0.000   Jarque-Bera (JB):              367.970\n",
       "Skew:                           0.157   Prob(JB):                     1.25e-80\n",
       "Kurtosis:                       1.726   Cond. No.                     9.62e+10\n",
       "==============================================================================\n",
       "\n",
       "Warnings:\n",
       "[1] Standard Errors assume that the covariance matrix of the errors is correctly specified.\n",
       "[2] The smallest eigenvalue is 2.18e-14. This might indicate that there are\n",
       "strong multicollinearity problems or that the design matrix is singular.\n",
       "\"\"\""
      ]
     },
     "execution_count": 41,
     "metadata": {},
     "output_type": "execute_result"
    }
   ],
   "source": [
    "import statsmodels.formula.api as smf\n",
    "lm=smf.ols(\"target~ind_8+ind_9+ind_10+ind_18+ind_32+ind_37+ind_47+ind_50+ind_51+ind_74+ind_77+ind_82+ind_102+ind_109+ind_128+ind_130+ind_150+ind_153+ind_156+ind_217+ind_237+ind_241+ind_243+ind_311+ind_313+ind_315+ind_324+ind_330+ind_332+ind_334+ind_338+ind_340+ind_412+ind_416+ind_418+ind_420+ind_428\", df).fit()\n",
    "lm.summary()"
   ]
  },
  {
   "cell_type": "code",
   "execution_count": 45,
   "metadata": {},
   "outputs": [
    {
     "data": {
      "text/plain": [
       "Intercept    2.048764e+02\n",
       "ind_8       -2.902844e+08\n",
       "ind_9        2.902844e+08\n",
       "ind_10       2.902844e+08\n",
       "ind_18       9.922654e-01\n",
       "ind_32      -2.102076e-02\n",
       "ind_37       1.379453e-01\n",
       "ind_47       6.100663e-01\n",
       "ind_50       5.238518e-01\n",
       "ind_51      -2.938517e-01\n",
       "ind_74      -2.751986e-01\n",
       "ind_77       6.731082e-01\n",
       "ind_82       7.368395e+00\n",
       "ind_102     -3.009028e+00\n",
       "ind_109     -3.534403e+00\n",
       "ind_128     -2.492924e+00\n",
       "ind_130     -7.758449e-01\n",
       "ind_150      4.539684e+00\n",
       "ind_153     -1.225295e+01\n",
       "ind_156      2.769540e+00\n",
       "ind_217      2.323878e+00\n",
       "ind_237      1.209456e-01\n",
       "ind_241      5.657115e+00\n",
       "ind_243     -4.584418e+02\n",
       "ind_311     -3.902047e+00\n",
       "ind_313      3.248330e+02\n",
       "ind_315     -7.587202e+00\n",
       "ind_324     -2.630707e+04\n",
       "ind_330      8.672494e+00\n",
       "ind_332      1.608667e-01\n",
       "ind_334      1.175919e+05\n",
       "ind_338      3.238612e+01\n",
       "ind_340      3.981643e+01\n",
       "ind_412      7.255146e+02\n",
       "ind_416      1.550278e-01\n",
       "ind_418     -1.834654e-01\n",
       "ind_420     -3.965711e-02\n",
       "ind_428     -1.652126e+01\n",
       "dtype: float64"
      ]
     },
     "execution_count": 45,
     "metadata": {},
     "output_type": "execute_result"
    }
   ],
   "source": [
    "lm.params"
   ]
  },
  {
   "cell_type": "code",
   "execution_count": 42,
   "metadata": {
    "scrolled": true
   },
   "outputs": [
    {
     "data": {
      "text/html": [
       "<table class=\"simpletable\">\n",
       "<tr>\n",
       "      <td></td>         <th>coef</th>     <th>std err</th>      <th>t</th>      <th>P>|t|</th>  <th>[0.025</th>    <th>0.975]</th>  \n",
       "</tr>\n",
       "<tr>\n",
       "  <th>Intercept</th> <td>  204.8764</td> <td>   25.388</td> <td>    8.070</td> <td> 0.000</td> <td>  155.106</td> <td>  254.647</td>\n",
       "</tr>\n",
       "<tr>\n",
       "  <th>ind_8</th>     <td>-2.903e+08</td> <td> 1.22e+08</td> <td>   -2.377</td> <td> 0.017</td> <td> -5.3e+08</td> <td>-5.09e+07</td>\n",
       "</tr>\n",
       "<tr>\n",
       "  <th>ind_9</th>     <td> 2.903e+08</td> <td> 1.22e+08</td> <td>    2.377</td> <td> 0.017</td> <td> 5.09e+07</td> <td>  5.3e+08</td>\n",
       "</tr>\n",
       "<tr>\n",
       "  <th>ind_10</th>    <td> 2.903e+08</td> <td> 1.22e+08</td> <td>    2.377</td> <td> 0.017</td> <td> 5.09e+07</td> <td>  5.3e+08</td>\n",
       "</tr>\n",
       "<tr>\n",
       "  <th>ind_18</th>    <td>    0.9923</td> <td>    0.217</td> <td>    4.577</td> <td> 0.000</td> <td>    0.567</td> <td>    1.417</td>\n",
       "</tr>\n",
       "<tr>\n",
       "  <th>ind_32</th>    <td>   -0.0210</td> <td>    0.009</td> <td>   -2.263</td> <td> 0.024</td> <td>   -0.039</td> <td>   -0.003</td>\n",
       "</tr>\n",
       "<tr>\n",
       "  <th>ind_37</th>    <td>    0.1379</td> <td>    0.013</td> <td>   10.790</td> <td> 0.000</td> <td>    0.113</td> <td>    0.163</td>\n",
       "</tr>\n",
       "<tr>\n",
       "  <th>ind_47</th>    <td>    0.6101</td> <td>    0.091</td> <td>    6.738</td> <td> 0.000</td> <td>    0.433</td> <td>    0.788</td>\n",
       "</tr>\n",
       "<tr>\n",
       "  <th>ind_50</th>    <td>    0.5239</td> <td>    0.101</td> <td>    5.196</td> <td> 0.000</td> <td>    0.326</td> <td>    0.721</td>\n",
       "</tr>\n",
       "<tr>\n",
       "  <th>ind_51</th>    <td>   -0.2939</td> <td>    0.058</td> <td>   -5.103</td> <td> 0.000</td> <td>   -0.407</td> <td>   -0.181</td>\n",
       "</tr>\n",
       "<tr>\n",
       "  <th>ind_74</th>    <td>   -0.2752</td> <td>    0.120</td> <td>   -2.289</td> <td> 0.022</td> <td>   -0.511</td> <td>   -0.040</td>\n",
       "</tr>\n",
       "<tr>\n",
       "  <th>ind_77</th>    <td>    0.6731</td> <td>    0.125</td> <td>    5.379</td> <td> 0.000</td> <td>    0.428</td> <td>    0.918</td>\n",
       "</tr>\n",
       "<tr>\n",
       "  <th>ind_82</th>    <td>    7.3684</td> <td>    1.418</td> <td>    5.197</td> <td> 0.000</td> <td>    4.589</td> <td>   10.148</td>\n",
       "</tr>\n",
       "<tr>\n",
       "  <th>ind_102</th>   <td>   -3.0090</td> <td>    0.701</td> <td>   -4.293</td> <td> 0.000</td> <td>   -4.383</td> <td>   -1.635</td>\n",
       "</tr>\n",
       "<tr>\n",
       "  <th>ind_109</th>   <td>   -3.5344</td> <td>    1.144</td> <td>   -3.089</td> <td> 0.002</td> <td>   -5.777</td> <td>   -1.292</td>\n",
       "</tr>\n",
       "<tr>\n",
       "  <th>ind_128</th>   <td>   -2.4929</td> <td>    0.598</td> <td>   -4.167</td> <td> 0.000</td> <td>   -3.666</td> <td>   -1.320</td>\n",
       "</tr>\n",
       "<tr>\n",
       "  <th>ind_130</th>   <td>   -0.7758</td> <td>    0.090</td> <td>   -8.646</td> <td> 0.000</td> <td>   -0.952</td> <td>   -0.600</td>\n",
       "</tr>\n",
       "<tr>\n",
       "  <th>ind_150</th>   <td>    4.5397</td> <td>    0.381</td> <td>   11.907</td> <td> 0.000</td> <td>    3.792</td> <td>    5.287</td>\n",
       "</tr>\n",
       "<tr>\n",
       "  <th>ind_153</th>   <td>  -12.2529</td> <td>    0.817</td> <td>  -15.000</td> <td> 0.000</td> <td>  -13.854</td> <td>  -10.652</td>\n",
       "</tr>\n",
       "<tr>\n",
       "  <th>ind_156</th>   <td>    2.7695</td> <td>    0.527</td> <td>    5.258</td> <td> 0.000</td> <td>    1.737</td> <td>    3.802</td>\n",
       "</tr>\n",
       "<tr>\n",
       "  <th>ind_217</th>   <td>    2.3239</td> <td>    0.514</td> <td>    4.517</td> <td> 0.000</td> <td>    1.315</td> <td>    3.332</td>\n",
       "</tr>\n",
       "<tr>\n",
       "  <th>ind_237</th>   <td>    0.1209</td> <td>    0.017</td> <td>    6.923</td> <td> 0.000</td> <td>    0.087</td> <td>    0.155</td>\n",
       "</tr>\n",
       "<tr>\n",
       "  <th>ind_241</th>   <td>    5.6571</td> <td>    0.929</td> <td>    6.088</td> <td> 0.000</td> <td>    3.835</td> <td>    7.479</td>\n",
       "</tr>\n",
       "<tr>\n",
       "  <th>ind_243</th>   <td> -458.4418</td> <td>   75.556</td> <td>   -6.068</td> <td> 0.000</td> <td> -606.564</td> <td> -310.320</td>\n",
       "</tr>\n",
       "<tr>\n",
       "  <th>ind_311</th>   <td>   -3.9020</td> <td>    0.897</td> <td>   -4.352</td> <td> 0.000</td> <td>   -5.660</td> <td>   -2.144</td>\n",
       "</tr>\n",
       "<tr>\n",
       "  <th>ind_313</th>   <td>  324.8330</td> <td>   75.741</td> <td>    4.289</td> <td> 0.000</td> <td>  176.348</td> <td>  473.318</td>\n",
       "</tr>\n",
       "<tr>\n",
       "  <th>ind_315</th>   <td>   -7.5872</td> <td>    0.918</td> <td>   -8.261</td> <td> 0.000</td> <td>   -9.388</td> <td>   -5.787</td>\n",
       "</tr>\n",
       "<tr>\n",
       "  <th>ind_324</th>   <td>-2.631e+04</td> <td> 4204.175</td> <td>   -6.257</td> <td> 0.000</td> <td>-3.45e+04</td> <td>-1.81e+04</td>\n",
       "</tr>\n",
       "<tr>\n",
       "  <th>ind_330</th>   <td>    8.6725</td> <td>    2.901</td> <td>    2.990</td> <td> 0.003</td> <td>    2.986</td> <td>   14.359</td>\n",
       "</tr>\n",
       "<tr>\n",
       "  <th>ind_332</th>   <td>    0.1609</td> <td>    0.027</td> <td>    6.030</td> <td> 0.000</td> <td>    0.109</td> <td>    0.213</td>\n",
       "</tr>\n",
       "<tr>\n",
       "  <th>ind_334</th>   <td> 1.176e+05</td> <td> 1.51e+04</td> <td>    7.798</td> <td> 0.000</td> <td>  8.8e+04</td> <td> 1.47e+05</td>\n",
       "</tr>\n",
       "<tr>\n",
       "  <th>ind_338</th>   <td>   32.3861</td> <td>    3.305</td> <td>    9.800</td> <td> 0.000</td> <td>   25.907</td> <td>   38.865</td>\n",
       "</tr>\n",
       "<tr>\n",
       "  <th>ind_340</th>   <td>   39.8164</td> <td>    9.619</td> <td>    4.139</td> <td> 0.000</td> <td>   20.959</td> <td>   58.674</td>\n",
       "</tr>\n",
       "<tr>\n",
       "  <th>ind_412</th>   <td>  725.5146</td> <td>  107.054</td> <td>    6.777</td> <td> 0.000</td> <td>  515.643</td> <td>  935.386</td>\n",
       "</tr>\n",
       "<tr>\n",
       "  <th>ind_416</th>   <td>    0.1550</td> <td>    0.032</td> <td>    4.892</td> <td> 0.000</td> <td>    0.093</td> <td>    0.217</td>\n",
       "</tr>\n",
       "<tr>\n",
       "  <th>ind_418</th>   <td>   -0.1835</td> <td>    0.035</td> <td>   -5.199</td> <td> 0.000</td> <td>   -0.253</td> <td>   -0.114</td>\n",
       "</tr>\n",
       "<tr>\n",
       "  <th>ind_420</th>   <td>   -0.0397</td> <td>    0.006</td> <td>   -6.733</td> <td> 0.000</td> <td>   -0.051</td> <td>   -0.028</td>\n",
       "</tr>\n",
       "<tr>\n",
       "  <th>ind_428</th>   <td>  -16.5213</td> <td>    6.704</td> <td>   -2.464</td> <td> 0.014</td> <td>  -29.664</td> <td>   -3.378</td>\n",
       "</tr>\n",
       "</table>"
      ],
      "text/plain": [
       "<class 'statsmodels.iolib.table.SimpleTable'>"
      ]
     },
     "execution_count": 42,
     "metadata": {},
     "output_type": "execute_result"
    }
   ],
   "source": [
    "lm.summary().tables[1] "
   ]
  },
  {
   "cell_type": "code",
   "execution_count": 46,
   "metadata": {
    "scrolled": true
   },
   "outputs": [
    {
     "data": {
      "text/plain": [
       "0   -40.002228\n",
       "1   -37.900467\n",
       "2   -37.427567\n",
       "3   -35.821224\n",
       "4   -40.385790\n",
       "dtype: float64"
      ]
     },
     "execution_count": 46,
     "metadata": {},
     "output_type": "execute_result"
    }
   ],
   "source": [
    "lm.fittedvalues[0:5]"
   ]
  },
  {
   "cell_type": "code",
   "execution_count": 47,
   "metadata": {},
   "outputs": [
    {
     "data": {
      "text/html": [
       "<div>\n",
       "<style scoped>\n",
       "    .dataframe tbody tr th:only-of-type {\n",
       "        vertical-align: middle;\n",
       "    }\n",
       "\n",
       "    .dataframe tbody tr th {\n",
       "        vertical-align: top;\n",
       "    }\n",
       "\n",
       "    .dataframe thead th {\n",
       "        text-align: right;\n",
       "    }\n",
       "</style>\n",
       "<table border=\"1\" class=\"dataframe\">\n",
       "  <thead>\n",
       "    <tr style=\"text-align: right;\">\n",
       "      <th></th>\n",
       "      <th>target</th>\n",
       "    </tr>\n",
       "  </thead>\n",
       "  <tbody>\n",
       "    <tr>\n",
       "      <th>0</th>\n",
       "      <td>35.625252</td>\n",
       "    </tr>\n",
       "    <tr>\n",
       "      <th>1</th>\n",
       "      <td>35.643013</td>\n",
       "    </tr>\n",
       "    <tr>\n",
       "      <th>2</th>\n",
       "      <td>35.651301</td>\n",
       "    </tr>\n",
       "    <tr>\n",
       "      <th>3</th>\n",
       "      <td>0.000000</td>\n",
       "    </tr>\n",
       "    <tr>\n",
       "      <th>4</th>\n",
       "      <td>-35.727079</td>\n",
       "    </tr>\n",
       "  </tbody>\n",
       "</table>\n",
       "</div>"
      ],
      "text/plain": [
       "      target\n",
       "0  35.625252\n",
       "1  35.643013\n",
       "2  35.651301\n",
       "3   0.000000\n",
       "4 -35.727079"
      ]
     },
     "execution_count": 47,
     "metadata": {},
     "output_type": "execute_result"
    }
   ],
   "source": [
    "y=df[[\"target\"]]\n",
    "y[0:5]"
   ]
  },
  {
   "cell_type": "code",
   "execution_count": null,
   "metadata": {},
   "outputs": [],
   "source": []
  },
  {
   "cell_type": "code",
   "execution_count": 19,
   "metadata": {
    "scrolled": true
   },
   "outputs": [
    {
     "data": {
      "text/plain": [
       "[<matplotlib.lines.Line2D at 0x9aa9248>]"
      ]
     },
     "execution_count": 19,
     "metadata": {},
     "output_type": "execute_result"
    },
    {
     "data": {
      "image/png": "[encoded data removed]",
      "text/plain": [
       "<Figure size 432x288 with 1 Axes>"
      ]
     },
     "metadata": {
      "needs_background": "light"
     },
     "output_type": "display_data"
    }
   ],
   "source": [
    "import matplotlib.pyplot as plt\n",
    "plt.plot(lm.resid)"
   ]
  },
  {
   "cell_type": "code",
   "execution_count": 28,
   "metadata": {},
   "outputs": [],
   "source": [
    "from sklearn.model_selection import train_test_split, cross_val_score,cross_val_predict\n",
    "col=['ind_8',\n",
    " 'ind_9',\n",
    " 'ind_10',\n",
    " 'ind_18',\n",
    " 'ind_37',\n",
    " 'ind_47',\n",
    " 'ind_50',\n",
    " 'ind_77',\n",
    " 'ind_82',\n",
    " 'ind_102',\n",
    " 'ind_109',\n",
    " 'ind_128',\n",
    " 'ind_130',\n",
    " 'ind_150',\n",
    " 'ind_153',\n",
    " 'ind_156',\n",
    " 'ind_217',\n",
    " 'ind_237',\n",
    " 'ind_241',\n",
    " 'ind_243',\n",
    " 'ind_311',\n",
    " 'ind_313',\n",
    " 'ind_315',\n",
    " 'ind_324',\n",
    " 'ind_330',\n",
    " 'ind_332',\n",
    " 'ind_334',\n",
    " 'ind_338',\n",
    " 'ind_340',\n",
    " 'ind_412',\n",
    " 'ind_416',\n",
    " 'ind_418',\n",
    " 'ind_420']\n",
    "x=df[col]\n",
    "y=df[\"target\"]\n",
    "x_train,x_test,y_train,y_test=train_test_split(x,y,test_size=0.20, random_state=42)"
   ]
  },
  {
   "cell_type": "code",
   "execution_count": 43,
   "metadata": {},
   "outputs": [],
   "source": [
    "import statsmodels.api as sm \n",
    "a=sm.OLS(y_train,x_train)"
   ]
  },
  {
   "cell_type": "code",
   "execution_count": 44,
   "metadata": {
    "scrolled": true
   },
   "outputs": [
    {
     "data": {
      "text/html": [
       "<table class=\"simpletable\">\n",
       "<caption>OLS Regression Results</caption>\n",
       "<tr>\n",
       "  <th>Dep. Variable:</th>         <td>target</td>      <th>  R-squared (uncentered):</th>      <td>   0.179</td> \n",
       "</tr>\n",
       "<tr>\n",
       "  <th>Model:</th>                   <td>OLS</td>       <th>  Adj. R-squared (uncentered):</th> <td>   0.172</td> \n",
       "</tr>\n",
       "<tr>\n",
       "  <th>Method:</th>             <td>Least Squares</td>  <th>  F-statistic:       </th>          <td>   26.81</td> \n",
       "</tr>\n",
       "<tr>\n",
       "  <th>Date:</th>             <td>Thu, 23 Jul 2020</td> <th>  Prob (F-statistic):</th>          <td>1.48e-147</td>\n",
       "</tr>\n",
       "<tr>\n",
       "  <th>Time:</th>                 <td>17:37:39</td>     <th>  Log-Likelihood:    </th>          <td> -19925.</td> \n",
       "</tr>\n",
       "<tr>\n",
       "  <th>No. Observations:</th>      <td>  4100</td>      <th>  AIC:               </th>          <td>3.992e+04</td>\n",
       "</tr>\n",
       "<tr>\n",
       "  <th>Df Residuals:</th>          <td>  4067</td>      <th>  BIC:               </th>          <td>4.012e+04</td>\n",
       "</tr>\n",
       "<tr>\n",
       "  <th>Df Model:</th>              <td>    33</td>      <th>                     </th>              <td> </td>    \n",
       "</tr>\n",
       "<tr>\n",
       "  <th>Covariance Type:</th>      <td>nonrobust</td>    <th>                     </th>              <td> </td>    \n",
       "</tr>\n",
       "</table>\n",
       "<table class=\"simpletable\">\n",
       "<tr>\n",
       "     <td></td>        <th>coef</th>     <th>std err</th>      <th>t</th>      <th>P>|t|</th>  <th>[0.025</th>    <th>0.975]</th>  \n",
       "</tr>\n",
       "<tr>\n",
       "  <th>ind_8</th>   <td>-3.297e+08</td> <td> 1.38e+08</td> <td>   -2.382</td> <td> 0.017</td> <td>-6.01e+08</td> <td>-5.83e+07</td>\n",
       "</tr>\n",
       "<tr>\n",
       "  <th>ind_9</th>   <td> 3.297e+08</td> <td> 1.38e+08</td> <td>    2.382</td> <td> 0.017</td> <td> 5.83e+07</td> <td> 6.01e+08</td>\n",
       "</tr>\n",
       "<tr>\n",
       "  <th>ind_10</th>  <td> 3.297e+08</td> <td> 1.38e+08</td> <td>    2.382</td> <td> 0.017</td> <td> 5.83e+07</td> <td> 6.01e+08</td>\n",
       "</tr>\n",
       "<tr>\n",
       "  <th>ind_18</th>  <td>    1.0968</td> <td>    0.243</td> <td>    4.512</td> <td> 0.000</td> <td>    0.620</td> <td>    1.573</td>\n",
       "</tr>\n",
       "<tr>\n",
       "  <th>ind_37</th>  <td>    0.1154</td> <td>    0.013</td> <td>    8.972</td> <td> 0.000</td> <td>    0.090</td> <td>    0.141</td>\n",
       "</tr>\n",
       "<tr>\n",
       "  <th>ind_47</th>  <td>    0.4825</td> <td>    0.098</td> <td>    4.928</td> <td> 0.000</td> <td>    0.291</td> <td>    0.674</td>\n",
       "</tr>\n",
       "<tr>\n",
       "  <th>ind_50</th>  <td>    0.5032</td> <td>    0.100</td> <td>    5.015</td> <td> 0.000</td> <td>    0.307</td> <td>    0.700</td>\n",
       "</tr>\n",
       "<tr>\n",
       "  <th>ind_77</th>  <td>    0.4844</td> <td>    0.084</td> <td>    5.778</td> <td> 0.000</td> <td>    0.320</td> <td>    0.649</td>\n",
       "</tr>\n",
       "<tr>\n",
       "  <th>ind_82</th>  <td>   10.1318</td> <td>    1.325</td> <td>    7.648</td> <td> 0.000</td> <td>    7.535</td> <td>   12.729</td>\n",
       "</tr>\n",
       "<tr>\n",
       "  <th>ind_102</th> <td>   -3.3559</td> <td>    0.779</td> <td>   -4.309</td> <td> 0.000</td> <td>   -4.883</td> <td>   -1.829</td>\n",
       "</tr>\n",
       "<tr>\n",
       "  <th>ind_109</th> <td>   -3.3996</td> <td>    1.228</td> <td>   -2.768</td> <td> 0.006</td> <td>   -5.807</td> <td>   -0.992</td>\n",
       "</tr>\n",
       "<tr>\n",
       "  <th>ind_128</th> <td>   -2.7135</td> <td>    0.664</td> <td>   -4.089</td> <td> 0.000</td> <td>   -4.015</td> <td>   -1.412</td>\n",
       "</tr>\n",
       "<tr>\n",
       "  <th>ind_130</th> <td>   -0.7601</td> <td>    0.100</td> <td>   -7.623</td> <td> 0.000</td> <td>   -0.956</td> <td>   -0.565</td>\n",
       "</tr>\n",
       "<tr>\n",
       "  <th>ind_150</th> <td>    3.1429</td> <td>    0.312</td> <td>   10.062</td> <td> 0.000</td> <td>    2.531</td> <td>    3.755</td>\n",
       "</tr>\n",
       "<tr>\n",
       "  <th>ind_153</th> <td>   -8.4338</td> <td>    0.699</td> <td>  -12.068</td> <td> 0.000</td> <td>   -9.804</td> <td>   -7.064</td>\n",
       "</tr>\n",
       "<tr>\n",
       "  <th>ind_156</th> <td>    4.0808</td> <td>    0.530</td> <td>    7.698</td> <td> 0.000</td> <td>    3.041</td> <td>    5.120</td>\n",
       "</tr>\n",
       "<tr>\n",
       "  <th>ind_217</th> <td>    1.9102</td> <td>    0.573</td> <td>    3.334</td> <td> 0.001</td> <td>    0.787</td> <td>    3.033</td>\n",
       "</tr>\n",
       "<tr>\n",
       "  <th>ind_237</th> <td>    0.1192</td> <td>    0.020</td> <td>    6.071</td> <td> 0.000</td> <td>    0.081</td> <td>    0.158</td>\n",
       "</tr>\n",
       "<tr>\n",
       "  <th>ind_241</th> <td>    7.1032</td> <td>    0.997</td> <td>    7.125</td> <td> 0.000</td> <td>    5.149</td> <td>    9.058</td>\n",
       "</tr>\n",
       "<tr>\n",
       "  <th>ind_243</th> <td> -572.4145</td> <td>   81.143</td> <td>   -7.054</td> <td> 0.000</td> <td> -731.499</td> <td> -413.330</td>\n",
       "</tr>\n",
       "<tr>\n",
       "  <th>ind_311</th> <td>   -5.1124</td> <td>    0.964</td> <td>   -5.304</td> <td> 0.000</td> <td>   -7.002</td> <td>   -3.223</td>\n",
       "</tr>\n",
       "<tr>\n",
       "  <th>ind_313</th> <td>  427.5248</td> <td>   81.424</td> <td>    5.251</td> <td> 0.000</td> <td>  267.890</td> <td>  587.160</td>\n",
       "</tr>\n",
       "<tr>\n",
       "  <th>ind_315</th> <td>   -7.2656</td> <td>    1.004</td> <td>   -7.237</td> <td> 0.000</td> <td>   -9.234</td> <td>   -5.297</td>\n",
       "</tr>\n",
       "<tr>\n",
       "  <th>ind_324</th> <td>-2.338e+04</td> <td> 4677.161</td> <td>   -4.998</td> <td> 0.000</td> <td>-3.25e+04</td> <td>-1.42e+04</td>\n",
       "</tr>\n",
       "<tr>\n",
       "  <th>ind_330</th> <td>    7.4361</td> <td>    3.499</td> <td>    2.125</td> <td> 0.034</td> <td>    0.577</td> <td>   14.296</td>\n",
       "</tr>\n",
       "<tr>\n",
       "  <th>ind_332</th> <td>    0.1341</td> <td>    0.031</td> <td>    4.299</td> <td> 0.000</td> <td>    0.073</td> <td>    0.195</td>\n",
       "</tr>\n",
       "<tr>\n",
       "  <th>ind_334</th> <td> 1.096e+05</td> <td> 1.67e+04</td> <td>    6.549</td> <td> 0.000</td> <td> 7.68e+04</td> <td> 1.42e+05</td>\n",
       "</tr>\n",
       "<tr>\n",
       "  <th>ind_338</th> <td>   31.0516</td> <td>    3.689</td> <td>    8.418</td> <td> 0.000</td> <td>   23.819</td> <td>   38.284</td>\n",
       "</tr>\n",
       "<tr>\n",
       "  <th>ind_340</th> <td>   49.4300</td> <td>   11.236</td> <td>    4.399</td> <td> 0.000</td> <td>   27.402</td> <td>   71.458</td>\n",
       "</tr>\n",
       "<tr>\n",
       "  <th>ind_412</th> <td>  642.2066</td> <td>  114.405</td> <td>    5.613</td> <td> 0.000</td> <td>  417.910</td> <td>  866.503</td>\n",
       "</tr>\n",
       "<tr>\n",
       "  <th>ind_416</th> <td>    0.1755</td> <td>    0.035</td> <td>    4.967</td> <td> 0.000</td> <td>    0.106</td> <td>    0.245</td>\n",
       "</tr>\n",
       "<tr>\n",
       "  <th>ind_418</th> <td>   -0.2017</td> <td>    0.038</td> <td>   -5.347</td> <td> 0.000</td> <td>   -0.276</td> <td>   -0.128</td>\n",
       "</tr>\n",
       "<tr>\n",
       "  <th>ind_420</th> <td>   -0.0397</td> <td>    0.006</td> <td>   -6.338</td> <td> 0.000</td> <td>   -0.052</td> <td>   -0.027</td>\n",
       "</tr>\n",
       "</table>\n",
       "<table class=\"simpletable\">\n",
       "<tr>\n",
       "  <th>Omnibus:</th>       <td>10897.617</td> <th>  Durbin-Watson:     </th> <td>   2.010</td>\n",
       "</tr>\n",
       "<tr>\n",
       "  <th>Prob(Omnibus):</th>  <td> 0.000</td>   <th>  Jarque-Bera (JB):  </th> <td> 308.007</td>\n",
       "</tr>\n",
       "<tr>\n",
       "  <th>Skew:</th>           <td> 0.185</td>   <th>  Prob(JB):          </th> <td>1.31e-67</td>\n",
       "</tr>\n",
       "<tr>\n",
       "  <th>Kurtosis:</th>       <td> 1.709</td>   <th>  Cond. No.          </th> <td>9.49e+10</td>\n",
       "</tr>\n",
       "</table><br/><br/>Warnings:<br/>[1] Standard Errors assume that the covariance matrix of the errors is correctly specified.<br/>[2] The smallest eigenvalue is 1.71e-14. This might indicate that there are<br/>strong multicollinearity problems or that the design matrix is singular."
      ],
      "text/plain": [
       "<class 'statsmodels.iolib.summary.Summary'>\n",
       "\"\"\"\n",
       "                                 OLS Regression Results                                \n",
       "=======================================================================================\n",
       "Dep. Variable:                 target   R-squared (uncentered):                   0.179\n",
       "Model:                            OLS   Adj. R-squared (uncentered):              0.172\n",
       "Method:                 Least Squares   F-statistic:                              26.81\n",
       "Date:                Thu, 23 Jul 2020   Prob (F-statistic):                   1.48e-147\n",
       "Time:                        17:37:39   Log-Likelihood:                         -19925.\n",
       "No. Observations:                4100   AIC:                                  3.992e+04\n",
       "Df Residuals:                    4067   BIC:                                  4.012e+04\n",
       "Df Model:                          33                                                  \n",
       "Covariance Type:            nonrobust                                                  \n",
       "==============================================================================\n",
       "                 coef    std err          t      P>|t|      [0.025      0.975]\n",
       "------------------------------------------------------------------------------\n",
       "ind_8      -3.297e+08   1.38e+08     -2.382      0.017   -6.01e+08   -5.83e+07\n",
       "ind_9       3.297e+08   1.38e+08      2.382      0.017    5.83e+07    6.01e+08\n",
       "ind_10      3.297e+08   1.38e+08      2.382      0.017    5.83e+07    6.01e+08\n",
       "ind_18         1.0968      0.243      4.512      0.000       0.620       1.573\n",
       "ind_37         0.1154      0.013      8.972      0.000       0.090       0.141\n",
       "ind_47         0.4825      0.098      4.928      0.000       0.291       0.674\n",
       "ind_50         0.5032      0.100      5.015      0.000       0.307       0.700\n",
       "ind_77         0.4844      0.084      5.778      0.000       0.320       0.649\n",
       "ind_82        10.1318      1.325      7.648      0.000       7.535      12.729\n",
       "ind_102       -3.3559      0.779     -4.309      0.000      -4.883      -1.829\n",
       "ind_109       -3.3996      1.228     -2.768      0.006      -5.807      -0.992\n",
       "ind_128       -2.7135      0.664     -4.089      0.000      -4.015      -1.412\n",
       "ind_130       -0.7601      0.100     -7.623      0.000      -0.956      -0.565\n",
       "ind_150        3.1429      0.312     10.062      0.000       2.531       3.755\n",
       "ind_153       -8.4338      0.699    -12.068      0.000      -9.804      -7.064\n",
       "ind_156        4.0808      0.530      7.698      0.000       3.041       5.120\n",
       "ind_217        1.9102      0.573      3.334      0.001       0.787       3.033\n",
       "ind_237        0.1192      0.020      6.071      0.000       0.081       0.158\n",
       "ind_241        7.1032      0.997      7.125      0.000       5.149       9.058\n",
       "ind_243     -572.4145     81.143     -7.054      0.000    -731.499    -413.330\n",
       "ind_311       -5.1124      0.964     -5.304      0.000      -7.002      -3.223\n",
       "ind_313      427.5248     81.424      5.251      0.000     267.890     587.160\n",
       "ind_315       -7.2656      1.004     -7.237      0.000      -9.234      -5.297\n",
       "ind_324    -2.338e+04   4677.161     -4.998      0.000   -3.25e+04   -1.42e+04\n",
       "ind_330        7.4361      3.499      2.125      0.034       0.577      14.296\n",
       "ind_332        0.1341      0.031      4.299      0.000       0.073       0.195\n",
       "ind_334     1.096e+05   1.67e+04      6.549      0.000    7.68e+04    1.42e+05\n",
       "ind_338       31.0516      3.689      8.418      0.000      23.819      38.284\n",
       "ind_340       49.4300     11.236      4.399      0.000      27.402      71.458\n",
       "ind_412      642.2066    114.405      5.613      0.000     417.910     866.503\n",
       "ind_416        0.1755      0.035      4.967      0.000       0.106       0.245\n",
       "ind_418       -0.2017      0.038     -5.347      0.000      -0.276      -0.128\n",
       "ind_420       -0.0397      0.006     -6.338      0.000      -0.052      -0.027\n",
       "==============================================================================\n",
       "Omnibus:                    10897.617   Durbin-Watson:                   2.010\n",
       "Prob(Omnibus):                  0.000   Jarque-Bera (JB):              308.007\n",
       "Skew:                           0.185   Prob(JB):                     1.31e-67\n",
       "Kurtosis:                       1.709   Cond. No.                     9.49e+10\n",
       "==============================================================================\n",
       "\n",
       "Warnings:\n",
       "[1] Standard Errors assume that the covariance matrix of the errors is correctly specified.\n",
       "[2] The smallest eigenvalue is 1.71e-14. This might indicate that there are\n",
       "strong multicollinearity problems or that the design matrix is singular.\n",
       "\"\"\""
      ]
     },
     "execution_count": 44,
     "metadata": {},
     "output_type": "execute_result"
    }
   ],
   "source": [
    "model=a.fit()\n",
    "model.summary()"
   ]
  },
  {
   "cell_type": "code",
   "execution_count": 33,
   "metadata": {},
   "outputs": [
    {
     "data": {
      "text/plain": [
       "<statsmodels.stats.outliers_influence.OLSInfluence at 0xa54f408>"
      ]
     },
     "execution_count": 33,
     "metadata": {},
     "output_type": "execute_result"
    }
   ],
   "source": [
    "influence=model.get_influence()\n",
    "influence"
   ]
  },
  {
   "cell_type": "code",
   "execution_count": 34,
   "metadata": {},
   "outputs": [
    {
     "name": "stdout",
     "output_type": "stream",
     "text": [
      "Leverage vs Studentized Residuals\n"
     ]
    },
    {
     "data": {
      "text/plain": [
       "<matplotlib.axes._subplots.AxesSubplot at 0xa57c648>"
      ]
     },
     "execution_count": 34,
     "metadata": {},
     "output_type": "execute_result"
    },
    {
     "data": {
      "image/png": "[encoded data removed]",
      "text/plain": [
       "<Figure size 432x288 with 1 Axes>"
      ]
     },
     "metadata": {
      "needs_background": "light"
     },
     "output_type": "display_data"
    }
   ],
   "source": [
    "(cooks,p)= influence.cooks_distance\n",
    "(diffits,p)=influence.dffits\n",
    "leverage=influence.hat_matrix_diag\n",
    "print(\"Leverage vs Studentized Residuals\")\n",
    "sns.regplot(leverage, model.resid_pearson, fit_reg=False)"
   ]
  },
  {
   "cell_type": "code",
   "execution_count": 48,
   "metadata": {},
   "outputs": [
    {
     "data": {
      "text/plain": [
       "<matplotlib.axes._subplots.AxesSubplot at 0xb90af08>"
      ]
     },
     "execution_count": 48,
     "metadata": {},
     "output_type": "execute_result"
    },
    {
     "data": {
      "image/png": "[encoded data removed]",
      "text/plain": [
       "<Figure size 432x288 with 1 Axes>"
      ]
     },
     "metadata": {
      "needs_background": "light"
     },
     "output_type": "display_data"
    }
   ],
   "source": [
    "import seaborn as sns\n",
    "import numpy as np\n",
    "import pandas as pd\n",
    "a = pd.concat([pd.Series(model.resid, name = 'resid'), \n",
    "                    pd.Series(model.predict(), name = \"predict\")], axis = 1)\n",
    "\n",
    "sns.kdeplot(np.array(a.resid), bw=10)\n",
    "sns.distplot(np.array(a.resid), hist=False)"
   ]
  },
  {
   "cell_type": "code",
   "execution_count": null,
   "metadata": {},
   "outputs": [],
   "source": []
  }
 ],
 "metadata": {
  "kernelspec": {
   "display_name": "Python 3",
   "language": "python",
   "name": "python3"
  },
  "language_info": {
   "codemirror_mode": {
    "name": "ipython",
    "version": 3
   },
   "file_extension": ".py",
   "mimetype": "text/x-python",
   "name": "python",
   "nbconvert_exporter": "python",
   "pygments_lexer": "ipython3",
   "version": "3.7.6"
  }
 },
 "nbformat": 4,
 "nbformat_minor": 4
}
