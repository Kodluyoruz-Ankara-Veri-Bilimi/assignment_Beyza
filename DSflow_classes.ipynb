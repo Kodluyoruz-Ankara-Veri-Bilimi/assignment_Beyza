{
 "cells": [
  {
   "cell_type": "code",
   "execution_count": null,
   "metadata": {},
   "outputs": [],
   "source": [
    "class Info()\n",
    "    def __init__(self):\n",
    "        import pandas as pd \n",
    "        import os\n",
    "        import numpy as np\n",
    "        from pandas import Series, DataFrame\n",
    "        \n",
    "    def get_datatable(file_name):\n",
    "        data=pd.read_csv('file_name')\n",
    "        data.head()\n",
    "    \n",
    "    def num_info():\n",
    "        data.info()\n",
    "        data.decsribe()\n",
    "    \n",
    "    \n",
    "class prepro():\n",
    "    def cleaning():\n",
    "    def cat_encoding():\n",
    "    def dummy_encoding():\n",
    "    def splitting():\n",
    "    def scaling():\n",
    "    def feature_eng():\n",
    "        \n",
    "\n",
    "class visualize():\n",
    "    def __init__():\n",
    "        #......\n",
    "    def boxplot():\n",
    "    def barplot():\n",
    "    def histogram():\n",
    "    def countplot():\n",
    "    def scatter():\n",
    "    def heatmap():\n",
    "\n",
    "\n",
    "class model():\n",
    "    \n",
    "class supervised(model): #inheritance\n",
    "    def regression():\n",
    "    def classification():\n",
    "        \n",
    "class unsupervised(model):\n",
    "    def clustering():\n",
    "        \n",
    "\n",
    "\n",
    "    \n",
    "\n",
    "\n"
   ]
  }
 ],
 "metadata": {
  "kernelspec": {
   "display_name": "Python 3",
   "language": "python",
   "name": "python3"
  },
  "language_info": {
   "codemirror_mode": {
    "name": "ipython",
    "version": 3
   },
   "file_extension": ".py",
   "mimetype": "text/x-python",
   "name": "python",
   "nbconvert_exporter": "python",
   "pygments_lexer": "ipython3",
   "version": "3.7.6"
  }
 },
 "nbformat": 4,
 "nbformat_minor": 4
}
